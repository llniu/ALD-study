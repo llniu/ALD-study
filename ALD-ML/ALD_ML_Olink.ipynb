{
 "cells": [
  {
   "cell_type": "markdown",
   "metadata": {
    "Collapsed": "false"
   },
   "source": [
    "# Fatty Liver Disease (FLD) Study\n",
    "\n",
    "- alcoholic vs non-alcoholic FLD, short: AFLD vs NAFLD\n",
    "\n",
    "\n",
    "**Outline**\n",
    "\n",
    "1. Study on liver disease types:\n",
    "    1. Fibrosis\n",
    "    1. Steatosis\n",
    "    2. Inflammation\n",
    "    \n",
    "2. Two data sets with \n",
    "    1. clinical markers\n",
    "    2. proteome information\n",
    "    \n",
    "**Highlighted Contents**\n",
    "> In order to jump to highlighted sections, use a table of contents plugin (toc) for a structured view ([lab](https://github.com/jupyterlab/jupyterlab-toc) | [notebook](https://jupyter-contrib-nbextensions.readthedocs.io/en/latest/nbextensions/toc2/README.html)). \n",
    "> Without data, but for easier navigation try to go to [colab](https://colab.research.google.com/).\n",
    "\n",
    "2. Explore datasets\n",
    "    1. Proteomics data\n",
    "        - will be published to PRIDE\n",
    "    2. Clinical data\n",
    "        - not publically available\n",
    "3. Models\n",
    "    1. (3.2) Individual Models for three endpoints fibrosis, steatosis and inflammation\n",
    "        - Cross-validation results\n",
    "    2. (3.4) Final Model\n",
    "        - final model used for DeLong-Test comparison and clinical follow-up evaluation\n",
    "\n",
    "\n",
    "> Some data is hidden from the public output until it is cleared. `#hide`"
   ]
  },
  {
   "cell_type": "code",
   "execution_count": 1,
   "metadata": {
    "Collapsed": "false"
   },
   "outputs": [],
   "source": [
    "import os\n",
    "from pathlib import Path\n",
    "CPUS = os.cpu_count()\n",
    "RANDOMSTATE = 29\n",
    "\n",
    "FOLDER_DATA_RAW = 'data/raw'\n",
    "DATAFOLDER = 'data/processed'\n",
    "os.makedirs('data/processed', exist_ok=True)\n",
    "TABLEFOLDER = 'tables'\n",
    "RESULT_FOLDER = 'results'\n",
    "FIGURE_FOLDER = Path('figures')\n",
    "FIGURE_FOLDER.mkdir(exist_ok=True)\n",
    "\n",
    "import logging\n",
    "logger = logging.getLogger()\n",
    "logger.setLevel(logging.INFO)"
   ]
  },
  {
   "cell_type": "code",
   "execution_count": 2,
   "metadata": {
    "Collapsed": "false"
   },
   "outputs": [],
   "source": [
    "import numpy as np\n",
    "import pandas as pd\n",
    "import matplotlib.pyplot as plt\n",
    "import seaborn as sns\n",
    "\n",
    "import sklearn\n",
    "import sklearn.linear_model as skllm\n",
    "from src.pandas import combine_value_counts\n",
    "import sklearn.metrics as sklm\n",
    "import sklearn.model_selection as sklms\n",
    "from sklearn.model_selection import cross_val_predict\n",
    "\n",
    "import ipywidgets as widgets\n",
    "import tqdm"
   ]
  },
  {
   "cell_type": "code",
   "execution_count": 3,
   "metadata": {
    "Collapsed": "false"
   },
   "outputs": [],
   "source": [
    "import src"
   ]
  },
  {
   "cell_type": "markdown",
   "metadata": {
    "Collapsed": "false"
   },
   "source": [
    "# Explore datasets\n",
    "\n",
    "Diagnostic comparators (existing best-in-class) biomarkers\n",
    "- Fibrosis markers: transient elastography, 2-dimensional shear wave elastography, ELF test, FibroTest, FIB4 score, APRI score, Forns score, ProC3\n",
    "- Inflammation markers: M30=caspase-cleaved cytokeratin-18 fragments, M65=total CK18, AST:ALT ratio, ProC3\n",
    "- Steatosis: Controlled attenuation parameter"
   ]
  },
  {
   "cell_type": "code",
   "execution_count": 4,
   "metadata": {},
   "outputs": [
    {
     "data": {
      "application/vnd.jupyter.widget-view+json": {
       "model_id": "46cb530913d04e0f907c50ab26f023a0",
       "version_major": 2,
       "version_minor": 0
      },
      "text/plain": [
       "VBox(children=(Dropdown(options=('Experiment annotation file.csv', 'Naming_scheme.csv', 'DoubleIDkey.csv', 'ID…"
      ]
     },
     "metadata": {},
     "output_type": "display_data"
    }
   ],
   "source": [
    "pd.set_option('max_columns', 9)\n",
    "\n",
    "_folder = FOLDER_DATA_RAW\n",
    "_index_col = 'Sample ID'\n",
    "\n",
    "files = [file for file in os.listdir(_folder) if '.csv' in file]\n",
    "\n",
    "if not files:\n",
    "    print(\"No processed files found.\")\n",
    "else:\n",
    "    w_data = widgets.Dropdown(options=files)\n",
    "\n",
    "    show_data = src.widgets.create_show_data(index_col=_index_col, datafolder=_folder)\n",
    "    out = widgets.interactive_output(show_data, controls={'file':w_data})\n",
    "\n",
    "    data = show_data.__closure__[0].cell_contents\n",
    "    w_cols = widgets.SelectMultiple(options=list(data.columns))\n",
    "\n",
    "    show_selected_proteins = src.widgets.create_show_selected_proteins(data=data)\n",
    "\n",
    "    out_sel = widgets.interactive_output(show_selected_proteins, {'columns': w_cols})\n",
    "    out_sel = widgets.interactive_output(show_selected_proteins, {'columns': w_cols})\n",
    "\n",
    "    # Updater\n",
    "    def widget_updater(other_widget):\n",
    "        \"\"\"Picks first element from closure. other_widget is not used directly\"\"\"\n",
    "        data = show_data.__closure__[0].cell_contents\n",
    "        w_cols.options = list(data.columns)\n",
    "        show_selected_proteins.__closure__[0].cell_contents = data\n",
    "\n",
    "    _ = widgets.interactive_output(widget_updater, {'other_widget': w_data})\n",
    "\n",
    "    display(widgets.VBox([w_data, out, w_cols, out_sel]))"
   ]
  },
  {
   "cell_type": "markdown",
   "metadata": {},
   "source": [
    "## Olink proteomics data"
   ]
  },
  {
   "cell_type": "markdown",
   "metadata": {},
   "source": [
    "### Load Complete Olink proteomics data"
   ]
  },
  {
   "cell_type": "code",
   "execution_count": 159,
   "metadata": {},
   "outputs": [],
   "source": [
    "doubleIDkey = pd.read_csv('data/raw/DoubleIDkey.csv')\n",
    "doubleIDkey['Participant ID']=doubleIDkey['Participant ID'].str.replace('SIPHON', 'ALD')\n",
    "df_olink = pd.read_csv('/Volumes/auditgroupdirs/SUND-CBMR-Liver-Genetics-OUH/proteogenomics/GALA_wide.csv')"
   ]
  },
  {
   "cell_type": "code",
   "execution_count": 163,
   "metadata": {},
   "outputs": [],
   "source": [
    "df_olink['Participant ID']=df_olink['SampleID'].str.replace('ALD', 'ALD_')\n",
    "df_olink['Participant ID']=df_olink['Participant ID'].str.replace('HP', 'HP_')\n",
    "df_olink['Sample ID']=df_olink['Participant ID'].map(dict(zip(doubleIDkey['Participant ID'], doubleIDkey['Sample ID'])))\n",
    "df_olink=df_olink.drop(['Unnamed: 0', 'SampleID', 'Participant ID'], axis=1).set_index('Sample ID')"
   ]
  },
  {
   "cell_type": "code",
   "execution_count": 180,
   "metadata": {},
   "outputs": [],
   "source": [
    "index_no = df_olink.columns.get_loc('IL10RB')\n",
    "df_olink_prot = df_olink.iloc[:, index_no:]\n",
    "df_olink_prot.rename_axis('Protein ID', axis=1, inplace=True)"
   ]
  },
  {
   "cell_type": "code",
   "execution_count": 231,
   "metadata": {},
   "outputs": [
    {
     "data": {
      "text/html": [
       "<div>\n",
       "<style scoped>\n",
       "    .dataframe tbody tr th:only-of-type {\n",
       "        vertical-align: middle;\n",
       "    }\n",
       "\n",
       "    .dataframe tbody tr th {\n",
       "        vertical-align: top;\n",
       "    }\n",
       "\n",
       "    .dataframe thead th {\n",
       "        text-align: right;\n",
       "    }\n",
       "</style>\n",
       "<table border=\"1\" class=\"dataframe\">\n",
       "  <thead>\n",
       "    <tr style=\"text-align: right;\">\n",
       "      <th>Protein ID</th>\n",
       "      <th>IL10RB</th>\n",
       "      <th>IFNg</th>\n",
       "      <th>NRTN</th>\n",
       "      <th>CCL23</th>\n",
       "      <th>LIF</th>\n",
       "      <th>IL8</th>\n",
       "      <th>IL4</th>\n",
       "      <th>CCL3</th>\n",
       "      <th>IL22_RA1</th>\n",
       "      <th>FGF23</th>\n",
       "      <th>...</th>\n",
       "      <th>uPA</th>\n",
       "      <th>CD6</th>\n",
       "      <th>CST5</th>\n",
       "      <th>ARTN</th>\n",
       "      <th>HGF</th>\n",
       "      <th>MCP1</th>\n",
       "      <th>IL1_a</th>\n",
       "      <th>IL2</th>\n",
       "      <th>CSF1</th>\n",
       "      <th>OSM</th>\n",
       "    </tr>\n",
       "    <tr>\n",
       "      <th>Sample ID</th>\n",
       "      <th></th>\n",
       "      <th></th>\n",
       "      <th></th>\n",
       "      <th></th>\n",
       "      <th></th>\n",
       "      <th></th>\n",
       "      <th></th>\n",
       "      <th></th>\n",
       "      <th></th>\n",
       "      <th></th>\n",
       "      <th></th>\n",
       "      <th></th>\n",
       "      <th></th>\n",
       "      <th></th>\n",
       "      <th></th>\n",
       "      <th></th>\n",
       "      <th></th>\n",
       "      <th></th>\n",
       "      <th></th>\n",
       "      <th></th>\n",
       "      <th></th>\n",
       "    </tr>\n",
       "  </thead>\n",
       "  <tbody>\n",
       "    <tr>\n",
       "      <th>Plate1_D5</th>\n",
       "      <td>5.895</td>\n",
       "      <td>6.132</td>\n",
       "      <td>1.112</td>\n",
       "      <td>10.169</td>\n",
       "      <td>0.460</td>\n",
       "      <td>4.537</td>\n",
       "      <td>0.543</td>\n",
       "      <td>5.146</td>\n",
       "      <td>2.074</td>\n",
       "      <td>2.214</td>\n",
       "      <td>...</td>\n",
       "      <td>9.098</td>\n",
       "      <td>6.098</td>\n",
       "      <td>6.630</td>\n",
       "      <td>1.096</td>\n",
       "      <td>7.878</td>\n",
       "      <td>11.535</td>\n",
       "      <td>-1.030</td>\n",
       "      <td>1.200</td>\n",
       "      <td>9.948</td>\n",
       "      <td>3.911</td>\n",
       "    </tr>\n",
       "    <tr>\n",
       "      <th>Plate7_C9</th>\n",
       "      <td>5.669</td>\n",
       "      <td>6.089</td>\n",
       "      <td>1.061</td>\n",
       "      <td>9.322</td>\n",
       "      <td>0.343</td>\n",
       "      <td>5.199</td>\n",
       "      <td>0.892</td>\n",
       "      <td>5.465</td>\n",
       "      <td>2.733</td>\n",
       "      <td>1.827</td>\n",
       "      <td>...</td>\n",
       "      <td>9.464</td>\n",
       "      <td>6.410</td>\n",
       "      <td>6.435</td>\n",
       "      <td>1.193</td>\n",
       "      <td>8.161</td>\n",
       "      <td>11.356</td>\n",
       "      <td>-1.100</td>\n",
       "      <td>1.207</td>\n",
       "      <td>10.267</td>\n",
       "      <td>3.885</td>\n",
       "    </tr>\n",
       "    <tr>\n",
       "      <th>Plate5_D11</th>\n",
       "      <td>6.124</td>\n",
       "      <td>6.859</td>\n",
       "      <td>1.213</td>\n",
       "      <td>10.931</td>\n",
       "      <td>0.589</td>\n",
       "      <td>4.739</td>\n",
       "      <td>0.367</td>\n",
       "      <td>6.142</td>\n",
       "      <td>1.822</td>\n",
       "      <td>2.097</td>\n",
       "      <td>...</td>\n",
       "      <td>8.991</td>\n",
       "      <td>6.163</td>\n",
       "      <td>6.658</td>\n",
       "      <td>0.841</td>\n",
       "      <td>7.770</td>\n",
       "      <td>11.355</td>\n",
       "      <td>-1.052</td>\n",
       "      <td>1.271</td>\n",
       "      <td>10.264</td>\n",
       "      <td>3.254</td>\n",
       "    </tr>\n",
       "    <tr>\n",
       "      <th>Plate2_H4</th>\n",
       "      <td>6.330</td>\n",
       "      <td>5.610</td>\n",
       "      <td>1.205</td>\n",
       "      <td>10.186</td>\n",
       "      <td>1.404</td>\n",
       "      <td>6.164</td>\n",
       "      <td>1.247</td>\n",
       "      <td>6.086</td>\n",
       "      <td>2.074</td>\n",
       "      <td>2.299</td>\n",
       "      <td>...</td>\n",
       "      <td>9.392</td>\n",
       "      <td>5.705</td>\n",
       "      <td>5.731</td>\n",
       "      <td>1.688</td>\n",
       "      <td>9.423</td>\n",
       "      <td>11.301</td>\n",
       "      <td>-0.935</td>\n",
       "      <td>1.472</td>\n",
       "      <td>10.723</td>\n",
       "      <td>6.742</td>\n",
       "    </tr>\n",
       "    <tr>\n",
       "      <th>Plate5_E11</th>\n",
       "      <td>6.493</td>\n",
       "      <td>7.307</td>\n",
       "      <td>1.213</td>\n",
       "      <td>10.414</td>\n",
       "      <td>0.205</td>\n",
       "      <td>4.227</td>\n",
       "      <td>0.470</td>\n",
       "      <td>5.552</td>\n",
       "      <td>3.751</td>\n",
       "      <td>2.405</td>\n",
       "      <td>...</td>\n",
       "      <td>9.350</td>\n",
       "      <td>6.886</td>\n",
       "      <td>7.677</td>\n",
       "      <td>1.484</td>\n",
       "      <td>8.104</td>\n",
       "      <td>11.173</td>\n",
       "      <td>-0.798</td>\n",
       "      <td>1.465</td>\n",
       "      <td>10.218</td>\n",
       "      <td>3.617</td>\n",
       "    </tr>\n",
       "  </tbody>\n",
       "</table>\n",
       "<p>5 rows × 92 columns</p>\n",
       "</div>"
      ],
      "text/plain": [
       "Protein ID  IL10RB   IFNg   NRTN   CCL23    LIF    IL8    IL4   CCL3  \\\n",
       "Sample ID                                                              \n",
       "Plate1_D5    5.895  6.132  1.112  10.169  0.460  4.537  0.543  5.146   \n",
       "Plate7_C9    5.669  6.089  1.061   9.322  0.343  5.199  0.892  5.465   \n",
       "Plate5_D11   6.124  6.859  1.213  10.931  0.589  4.739  0.367  6.142   \n",
       "Plate2_H4    6.330  5.610  1.205  10.186  1.404  6.164  1.247  6.086   \n",
       "Plate5_E11   6.493  7.307  1.213  10.414  0.205  4.227  0.470  5.552   \n",
       "\n",
       "Protein ID  IL22_RA1  FGF23  ...    uPA    CD6   CST5   ARTN    HGF    MCP1  \\\n",
       "Sample ID                    ...                                              \n",
       "Plate1_D5      2.074  2.214  ...  9.098  6.098  6.630  1.096  7.878  11.535   \n",
       "Plate7_C9      2.733  1.827  ...  9.464  6.410  6.435  1.193  8.161  11.356   \n",
       "Plate5_D11     1.822  2.097  ...  8.991  6.163  6.658  0.841  7.770  11.355   \n",
       "Plate2_H4      2.074  2.299  ...  9.392  5.705  5.731  1.688  9.423  11.301   \n",
       "Plate5_E11     3.751  2.405  ...  9.350  6.886  7.677  1.484  8.104  11.173   \n",
       "\n",
       "Protein ID  IL1_a    IL2    CSF1    OSM  \n",
       "Sample ID                                \n",
       "Plate1_D5  -1.030  1.200   9.948  3.911  \n",
       "Plate7_C9  -1.100  1.207  10.267  3.885  \n",
       "Plate5_D11 -1.052  1.271  10.264  3.254  \n",
       "Plate2_H4  -0.935  1.472  10.723  6.742  \n",
       "Plate5_E11 -0.798  1.465  10.218  3.617  \n",
       "\n",
       "[5 rows x 92 columns]"
      ]
     },
     "execution_count": 231,
     "metadata": {},
     "output_type": "execute_result"
    }
   ],
   "source": [
    "df_olink_prot.head()"
   ]
  },
  {
   "cell_type": "code",
   "execution_count": 224,
   "metadata": {},
   "outputs": [
    {
     "data": {
      "text/plain": [
       "38"
      ]
     },
     "execution_count": 224,
     "metadata": {},
     "output_type": "execute_result"
    }
   ],
   "source": [
    "df_olink_prot.isnull().sum().sum()"
   ]
  },
  {
   "cell_type": "code",
   "execution_count": 237,
   "metadata": {},
   "outputs": [
    {
     "data": {
      "text/html": [
       "<div>\n",
       "<style scoped>\n",
       "    .dataframe tbody tr th:only-of-type {\n",
       "        vertical-align: middle;\n",
       "    }\n",
       "\n",
       "    .dataframe tbody tr th {\n",
       "        vertical-align: top;\n",
       "    }\n",
       "\n",
       "    .dataframe thead th {\n",
       "        text-align: right;\n",
       "    }\n",
       "</style>\n",
       "<table border=\"1\" class=\"dataframe\">\n",
       "  <thead>\n",
       "    <tr style=\"text-align: right;\">\n",
       "      <th>Protein ID</th>\n",
       "      <th>IL22_RA1</th>\n",
       "      <th>IL24</th>\n",
       "      <th>IL13</th>\n",
       "      <th>MCP3</th>\n",
       "    </tr>\n",
       "    <tr>\n",
       "      <th>Sample ID</th>\n",
       "      <th></th>\n",
       "      <th></th>\n",
       "      <th></th>\n",
       "      <th></th>\n",
       "    </tr>\n",
       "  </thead>\n",
       "  <tbody>\n",
       "    <tr>\n",
       "      <th>Plate1_D5</th>\n",
       "      <td>2.074</td>\n",
       "      <td>1.735</td>\n",
       "      <td>0.912</td>\n",
       "      <td>1.795</td>\n",
       "    </tr>\n",
       "    <tr>\n",
       "      <th>Plate7_C9</th>\n",
       "      <td>2.733</td>\n",
       "      <td>1.350</td>\n",
       "      <td>0.816</td>\n",
       "      <td>1.494</td>\n",
       "    </tr>\n",
       "    <tr>\n",
       "      <th>Plate5_D11</th>\n",
       "      <td>1.822</td>\n",
       "      <td>1.660</td>\n",
       "      <td>1.836</td>\n",
       "      <td>2.182</td>\n",
       "    </tr>\n",
       "    <tr>\n",
       "      <th>Plate2_H4</th>\n",
       "      <td>2.074</td>\n",
       "      <td>0.887</td>\n",
       "      <td>1.320</td>\n",
       "      <td>2.365</td>\n",
       "    </tr>\n",
       "    <tr>\n",
       "      <th>Plate5_E11</th>\n",
       "      <td>3.751</td>\n",
       "      <td>1.168</td>\n",
       "      <td>1.457</td>\n",
       "      <td>2.553</td>\n",
       "    </tr>\n",
       "  </tbody>\n",
       "</table>\n",
       "</div>"
      ],
      "text/plain": [
       "Protein ID  IL22_RA1   IL24   IL13   MCP3\n",
       "Sample ID                                \n",
       "Plate1_D5      2.074  1.735  0.912  1.795\n",
       "Plate7_C9      2.733  1.350  0.816  1.494\n",
       "Plate5_D11     1.822  1.660  1.836  2.182\n",
       "Plate2_H4      2.074  0.887  1.320  2.365\n",
       "Plate5_E11     3.751  1.168  1.457  2.553"
      ]
     },
     "execution_count": 237,
     "metadata": {},
     "output_type": "execute_result"
    }
   ],
   "source": [
    "df_olink_prot.loc[:, df_olink_prot.isna().any()].head()"
   ]
  },
  {
   "cell_type": "code",
   "execution_count": 240,
   "metadata": {},
   "outputs": [
    {
     "data": {
      "text/html": [
       "<div>\n",
       "<style scoped>\n",
       "    .dataframe tbody tr th:only-of-type {\n",
       "        vertical-align: middle;\n",
       "    }\n",
       "\n",
       "    .dataframe tbody tr th {\n",
       "        vertical-align: top;\n",
       "    }\n",
       "\n",
       "    .dataframe thead th {\n",
       "        text-align: right;\n",
       "    }\n",
       "</style>\n",
       "<table border=\"1\" class=\"dataframe\">\n",
       "  <thead>\n",
       "    <tr style=\"text-align: right;\">\n",
       "      <th></th>\n",
       "      <th>count</th>\n",
       "      <th>mean</th>\n",
       "      <th>std</th>\n",
       "      <th>min</th>\n",
       "      <th>25%</th>\n",
       "      <th>50%</th>\n",
       "      <th>75%</th>\n",
       "      <th>max</th>\n",
       "    </tr>\n",
       "    <tr>\n",
       "      <th>Protein ID</th>\n",
       "      <th></th>\n",
       "      <th></th>\n",
       "      <th></th>\n",
       "      <th></th>\n",
       "      <th></th>\n",
       "      <th></th>\n",
       "      <th></th>\n",
       "      <th></th>\n",
       "    </tr>\n",
       "  </thead>\n",
       "  <tbody>\n",
       "    <tr>\n",
       "      <th>IL13</th>\n",
       "      <td>506.0</td>\n",
       "      <td>1.280</td>\n",
       "      <td>0.671</td>\n",
       "      <td>0.397</td>\n",
       "      <td>0.962</td>\n",
       "      <td>1.136</td>\n",
       "      <td>1.364</td>\n",
       "      <td>7.553</td>\n",
       "    </tr>\n",
       "    <tr>\n",
       "      <th>IL24</th>\n",
       "      <td>520.0</td>\n",
       "      <td>1.622</td>\n",
       "      <td>0.589</td>\n",
       "      <td>0.186</td>\n",
       "      <td>1.292</td>\n",
       "      <td>1.556</td>\n",
       "      <td>1.843</td>\n",
       "      <td>5.413</td>\n",
       "    </tr>\n",
       "    <tr>\n",
       "      <th>IL22_RA1</th>\n",
       "      <td>530.0</td>\n",
       "      <td>2.380</td>\n",
       "      <td>0.625</td>\n",
       "      <td>1.040</td>\n",
       "      <td>2.050</td>\n",
       "      <td>2.298</td>\n",
       "      <td>2.581</td>\n",
       "      <td>7.969</td>\n",
       "    </tr>\n",
       "    <tr>\n",
       "      <th>MCP3</th>\n",
       "      <td>530.0</td>\n",
       "      <td>2.257</td>\n",
       "      <td>0.670</td>\n",
       "      <td>0.838</td>\n",
       "      <td>1.809</td>\n",
       "      <td>2.207</td>\n",
       "      <td>2.583</td>\n",
       "      <td>6.375</td>\n",
       "    </tr>\n",
       "    <tr>\n",
       "      <th>IL10RB</th>\n",
       "      <td>531.0</td>\n",
       "      <td>6.429</td>\n",
       "      <td>0.425</td>\n",
       "      <td>4.865</td>\n",
       "      <td>6.143</td>\n",
       "      <td>6.407</td>\n",
       "      <td>6.700</td>\n",
       "      <td>7.576</td>\n",
       "    </tr>\n",
       "    <tr>\n",
       "      <th>...</th>\n",
       "      <td>...</td>\n",
       "      <td>...</td>\n",
       "      <td>...</td>\n",
       "      <td>...</td>\n",
       "      <td>...</td>\n",
       "      <td>...</td>\n",
       "      <td>...</td>\n",
       "      <td>...</td>\n",
       "    </tr>\n",
       "    <tr>\n",
       "      <th>IL10</th>\n",
       "      <td>531.0</td>\n",
       "      <td>3.982</td>\n",
       "      <td>0.746</td>\n",
       "      <td>2.012</td>\n",
       "      <td>3.522</td>\n",
       "      <td>3.852</td>\n",
       "      <td>4.322</td>\n",
       "      <td>9.986</td>\n",
       "    </tr>\n",
       "    <tr>\n",
       "      <th>STAMBP</th>\n",
       "      <td>531.0</td>\n",
       "      <td>4.228</td>\n",
       "      <td>0.743</td>\n",
       "      <td>2.779</td>\n",
       "      <td>3.727</td>\n",
       "      <td>4.107</td>\n",
       "      <td>4.531</td>\n",
       "      <td>8.613</td>\n",
       "    </tr>\n",
       "    <tr>\n",
       "      <th>CCL11</th>\n",
       "      <td>531.0</td>\n",
       "      <td>7.983</td>\n",
       "      <td>0.680</td>\n",
       "      <td>5.839</td>\n",
       "      <td>7.545</td>\n",
       "      <td>7.950</td>\n",
       "      <td>8.394</td>\n",
       "      <td>11.504</td>\n",
       "    </tr>\n",
       "    <tr>\n",
       "      <th>IL20</th>\n",
       "      <td>531.0</td>\n",
       "      <td>1.189</td>\n",
       "      <td>0.291</td>\n",
       "      <td>0.529</td>\n",
       "      <td>1.039</td>\n",
       "      <td>1.155</td>\n",
       "      <td>1.259</td>\n",
       "      <td>3.481</td>\n",
       "    </tr>\n",
       "    <tr>\n",
       "      <th>OSM</th>\n",
       "      <td>531.0</td>\n",
       "      <td>4.532</td>\n",
       "      <td>0.938</td>\n",
       "      <td>2.420</td>\n",
       "      <td>3.831</td>\n",
       "      <td>4.514</td>\n",
       "      <td>5.167</td>\n",
       "      <td>7.221</td>\n",
       "    </tr>\n",
       "  </tbody>\n",
       "</table>\n",
       "<p>92 rows × 8 columns</p>\n",
       "</div>"
      ],
      "text/plain": [
       "            count   mean    std    min    25%    50%    75%     max\n",
       "Protein ID                                                         \n",
       "IL13        506.0  1.280  0.671  0.397  0.962  1.136  1.364   7.553\n",
       "IL24        520.0  1.622  0.589  0.186  1.292  1.556  1.843   5.413\n",
       "IL22_RA1    530.0  2.380  0.625  1.040  2.050  2.298  2.581   7.969\n",
       "MCP3        530.0  2.257  0.670  0.838  1.809  2.207  2.583   6.375\n",
       "IL10RB      531.0  6.429  0.425  4.865  6.143  6.407  6.700   7.576\n",
       "...           ...    ...    ...    ...    ...    ...    ...     ...\n",
       "IL10        531.0  3.982  0.746  2.012  3.522  3.852  4.322   9.986\n",
       "STAMBP      531.0  4.228  0.743  2.779  3.727  4.107  4.531   8.613\n",
       "CCL11       531.0  7.983  0.680  5.839  7.545  7.950  8.394  11.504\n",
       "IL20        531.0  1.189  0.291  0.529  1.039  1.155  1.259   3.481\n",
       "OSM         531.0  4.532  0.938  2.420  3.831  4.514  5.167   7.221\n",
       "\n",
       "[92 rows x 8 columns]"
      ]
     },
     "execution_count": 240,
     "metadata": {},
     "output_type": "execute_result"
    }
   ],
   "source": [
    "df_olink_prot.describe().T.sort_values(by='count', ascending=True)"
   ]
  },
  {
   "cell_type": "code",
   "execution_count": 241,
   "metadata": {},
   "outputs": [],
   "source": [
    "data_olink = df_olink_prot.dropna(axis=1)"
   ]
  },
  {
   "cell_type": "code",
   "execution_count": 242,
   "metadata": {},
   "outputs": [
    {
     "data": {
      "text/plain": [
       "(531, 88)"
      ]
     },
     "execution_count": 242,
     "metadata": {},
     "output_type": "execute_result"
    }
   ],
   "source": [
    "data_olink.shape"
   ]
  },
  {
   "cell_type": "markdown",
   "metadata": {},
   "source": [
    "### Olink proteomics data imputation"
   ]
  },
  {
   "cell_type": "code",
   "execution_count": 184,
   "metadata": {},
   "outputs": [
    {
     "data": {
      "text/plain": [
       "<AxesSubplot:>"
      ]
     },
     "execution_count": 184,
     "metadata": {},
     "output_type": "execute_result"
    },
    {
     "data": {
      "image/png": "[encoded data removed]",
      "text/plain": [
       "<Figure size 432x288 with 1 Axes>"
      ]
     },
     "metadata": {
      "needs_background": "light"
     },
     "output_type": "display_data"
    }
   ],
   "source": [
    "df_olink_prot.describe().loc['mean'].hist()"
   ]
  },
  {
   "cell_type": "markdown",
   "metadata": {
    "Collapsed": "false"
   },
   "source": [
    "## Proteomics data"
   ]
  },
  {
   "cell_type": "markdown",
   "metadata": {
    "Collapsed": "false"
   },
   "source": [
    "### Load Complete proteomics data\n",
    "\n",
    "Full preprocessing pipeline"
   ]
  },
  {
   "cell_type": "code",
   "execution_count": 5,
   "metadata": {
    "Collapsed": "false"
   },
   "outputs": [
    {
     "data": {
      "text/html": [
       "<div>\n",
       "<style scoped>\n",
       "    .dataframe tbody tr th:only-of-type {\n",
       "        vertical-align: middle;\n",
       "    }\n",
       "\n",
       "    .dataframe tbody tr th {\n",
       "        vertical-align: top;\n",
       "    }\n",
       "\n",
       "    .dataframe thead th {\n",
       "        text-align: right;\n",
       "    }\n",
       "</style>\n",
       "<table border=\"1\" class=\"dataframe\">\n",
       "  <thead>\n",
       "    <tr style=\"text-align: right;\">\n",
       "      <th></th>\n",
       "      <th>File name</th>\n",
       "      <th>Sample ID</th>\n",
       "      <th>Groups</th>\n",
       "      <th>Species</th>\n",
       "      <th>Group2</th>\n",
       "      <th>Sample type</th>\n",
       "    </tr>\n",
       "  </thead>\n",
       "  <tbody>\n",
       "    <tr>\n",
       "      <th>0</th>\n",
       "      <td>[1] 20190514_QE10_Evosep1_P0000005_LiNi_SA_Pla...</td>\n",
       "      <td>Plate1_A1</td>\n",
       "      <td>QC</td>\n",
       "      <td>Human</td>\n",
       "      <td>QC</td>\n",
       "      <td>Plasma</td>\n",
       "    </tr>\n",
       "    <tr>\n",
       "      <th>1</th>\n",
       "      <td>[2] 20190514_QE10_Evosep1_P0000005_LiNi_SA_Pla...</td>\n",
       "      <td>Plate1_A2</td>\n",
       "      <td>HP</td>\n",
       "      <td>Human</td>\n",
       "      <td>HP</td>\n",
       "      <td>Plasma</td>\n",
       "    </tr>\n",
       "    <tr>\n",
       "      <th>2</th>\n",
       "      <td>[3] 20190514_QE10_Evosep1_P0000005_LiNi_SA_Pla...</td>\n",
       "      <td>Plate1_A3</td>\n",
       "      <td>HP</td>\n",
       "      <td>Human</td>\n",
       "      <td>HP</td>\n",
       "      <td>Plasma</td>\n",
       "    </tr>\n",
       "    <tr>\n",
       "      <th>3</th>\n",
       "      <td>[4] 20190514_QE10_Evosep1_P0000005_LiNi_SA_Pla...</td>\n",
       "      <td>Plate1_A4</td>\n",
       "      <td>ALD</td>\n",
       "      <td>Human</td>\n",
       "      <td>ALD</td>\n",
       "      <td>Plasma</td>\n",
       "    </tr>\n",
       "    <tr>\n",
       "      <th>4</th>\n",
       "      <td>[5] 20190514_QE10_Evosep1_P0000005_LiNi_SA_Pla...</td>\n",
       "      <td>Plate1_A5</td>\n",
       "      <td>ALD</td>\n",
       "      <td>Human</td>\n",
       "      <td>ALD</td>\n",
       "      <td>Plasma</td>\n",
       "    </tr>\n",
       "  </tbody>\n",
       "</table>\n",
       "</div>"
      ],
      "text/plain": [
       "                                           File name  Sample ID Groups  \\\n",
       "0  [1] 20190514_QE10_Evosep1_P0000005_LiNi_SA_Pla...  Plate1_A1     QC   \n",
       "1  [2] 20190514_QE10_Evosep1_P0000005_LiNi_SA_Pla...  Plate1_A2     HP   \n",
       "2  [3] 20190514_QE10_Evosep1_P0000005_LiNi_SA_Pla...  Plate1_A3     HP   \n",
       "3  [4] 20190514_QE10_Evosep1_P0000005_LiNi_SA_Pla...  Plate1_A4    ALD   \n",
       "4  [5] 20190514_QE10_Evosep1_P0000005_LiNi_SA_Pla...  Plate1_A5    ALD   \n",
       "\n",
       "  Species Group2 Sample type  \n",
       "0   Human     QC      Plasma  \n",
       "1   Human     HP      Plasma  \n",
       "2   Human     HP      Plasma  \n",
       "3   Human    ALD      Plasma  \n",
       "4   Human    ALD      Plasma  "
      ]
     },
     "metadata": {},
     "output_type": "display_data"
    },
    {
     "data": {
      "text/html": [
       "<div>\n",
       "<style scoped>\n",
       "    .dataframe tbody tr th:only-of-type {\n",
       "        vertical-align: middle;\n",
       "    }\n",
       "\n",
       "    .dataframe tbody tr th {\n",
       "        vertical-align: top;\n",
       "    }\n",
       "\n",
       "    .dataframe thead th {\n",
       "        text-align: right;\n",
       "    }\n",
       "</style>\n",
       "<table border=\"1\" class=\"dataframe\">\n",
       "  <thead>\n",
       "    <tr style=\"text-align: right;\">\n",
       "      <th></th>\n",
       "      <th>File name</th>\n",
       "      <th>Sample ID</th>\n",
       "      <th>Groups</th>\n",
       "      <th>Species</th>\n",
       "      <th>Group2</th>\n",
       "      <th>Sample type</th>\n",
       "    </tr>\n",
       "  </thead>\n",
       "  <tbody>\n",
       "    <tr>\n",
       "      <th>count</th>\n",
       "      <td>603</td>\n",
       "      <td>603</td>\n",
       "      <td>603</td>\n",
       "      <td>603</td>\n",
       "      <td>603</td>\n",
       "      <td>603</td>\n",
       "    </tr>\n",
       "    <tr>\n",
       "      <th>unique</th>\n",
       "      <td>603</td>\n",
       "      <td>603</td>\n",
       "      <td>4</td>\n",
       "      <td>1</td>\n",
       "      <td>3</td>\n",
       "      <td>1</td>\n",
       "    </tr>\n",
       "    <tr>\n",
       "      <th>top</th>\n",
       "      <td>[87] 20190514_QE10_Evosep1_P0000005_LiNi_SA_Pl...</td>\n",
       "      <td>Plate1_E9</td>\n",
       "      <td>ALD</td>\n",
       "      <td>Human</td>\n",
       "      <td>ALD</td>\n",
       "      <td>Plasma</td>\n",
       "    </tr>\n",
       "    <tr>\n",
       "      <th>freq</th>\n",
       "      <td>1</td>\n",
       "      <td>1</td>\n",
       "      <td>355</td>\n",
       "      <td>603</td>\n",
       "      <td>459</td>\n",
       "      <td>603</td>\n",
       "    </tr>\n",
       "  </tbody>\n",
       "</table>\n",
       "</div>"
      ],
      "text/plain": [
       "                                                File name  Sample ID Groups  \\\n",
       "count                                                 603        603    603   \n",
       "unique                                                603        603      4   \n",
       "top     [87] 20190514_QE10_Evosep1_P0000005_LiNi_SA_Pl...  Plate1_E9    ALD   \n",
       "freq                                                    1          1    355   \n",
       "\n",
       "       Species Group2 Sample type  \n",
       "count      603    603         603  \n",
       "unique       1      3           1  \n",
       "top      Human    ALD      Plasma  \n",
       "freq       603    459         603  "
      ]
     },
     "execution_count": 5,
     "metadata": {},
     "output_type": "execute_result"
    }
   ],
   "source": [
    "annotation_file = pd.read_csv(os.path.join(FOLDER_DATA_RAW, 'Experiment annotation file.csv'), index_col = [0])\n",
    "annotation_file_plasma = annotation_file[annotation_file['Sample type'] == 'Plasma']\n",
    "annotation_file_plasma.index = pd.Index(annotation_file_plasma.index, dtype=int)\n",
    "display(annotation_file_plasma.head())\n",
    "annotation_file_plasma.describe()"
   ]
  },
  {
   "cell_type": "markdown",
   "metadata": {},
   "source": [
    "The annotation file holds the filename for the the processed raw data by Skyline and some annotation, e.g. the `Sample ID`"
   ]
  },
  {
   "cell_type": "code",
   "execution_count": 6,
   "metadata": {
    "Collapsed": "false"
   },
   "outputs": [
    {
     "data": {
      "text/plain": [
       "0       Plate1_A1\n",
       "1       Plate1_A2\n",
       "2       Plate1_A3\n",
       "3       Plate1_A4\n",
       "4       Plate1_A5\n",
       "          ...    \n",
       "598    Plate7_C10\n",
       "599    Plate7_C11\n",
       "600    Plate7_C12\n",
       "601     Plate7_D1\n",
       "602     Plate7_D2\n",
       "Name: Sample ID, Length: 603, dtype: object"
      ]
     },
     "execution_count": 6,
     "metadata": {},
     "output_type": "execute_result"
    }
   ],
   "source": [
    "annotation_file_plasma[\"Sample ID\"]"
   ]
  },
  {
   "cell_type": "markdown",
   "metadata": {},
   "source": [
    "The mapping for Protein ID to the gene ID is given by `report_plasma`"
   ]
  },
  {
   "cell_type": "code",
   "execution_count": 7,
   "metadata": {
    "Collapsed": "false"
   },
   "outputs": [
    {
     "data": {
      "text/html": [
       "<div>\n",
       "<style scoped>\n",
       "    .dataframe tbody tr th:only-of-type {\n",
       "        vertical-align: middle;\n",
       "    }\n",
       "\n",
       "    .dataframe tbody tr th {\n",
       "        vertical-align: top;\n",
       "    }\n",
       "\n",
       "    .dataframe thead th {\n",
       "        text-align: right;\n",
       "    }\n",
       "</style>\n",
       "<table border=\"1\" class=\"dataframe\">\n",
       "  <thead>\n",
       "    <tr style=\"text-align: right;\">\n",
       "      <th></th>\n",
       "      <th>Protein ID</th>\n",
       "      <th>Gene names</th>\n",
       "      <th>[1] 20190514_QE10_Evosep1_P0000005_LiNi_SA_Plate1_A1.htrms.PG.NrOfStrippedSequencesUsedForQuantification</th>\n",
       "      <th>[2] 20190514_QE10_Evosep1_P0000005_LiNi_SA_Plate1_A2.htrms.PG.NrOfStrippedSequencesUsedForQuantification</th>\n",
       "      <th>...</th>\n",
       "      <th>[600] 20190618_QE10_Evosep1_P0000005_LiNi_SA_Plate7_C11.htrms.PG.Quantity</th>\n",
       "      <th>[601] 20190618_QE10_Evosep1_P0000005_LiNi_SA_Plate7_C12.htrms.PG.Quantity</th>\n",
       "      <th>[602] 20190618_QE10_Evosep1_P0000005_LiNi_SA_Plate7_D1.htrms.PG.Quantity</th>\n",
       "      <th>[603] 20190618_QE10_Evosep1_P0000005_LiNi_SA_Plate7_D2.htrms.PG.Quantity</th>\n",
       "    </tr>\n",
       "  </thead>\n",
       "  <tbody>\n",
       "    <tr>\n",
       "      <th>0</th>\n",
       "      <td>A0A024R6I7</td>\n",
       "      <td>SERPINA1</td>\n",
       "      <td>1.0</td>\n",
       "      <td>1.0</td>\n",
       "      <td>...</td>\n",
       "      <td>4.113509e+03</td>\n",
       "      <td>2.998578e+03</td>\n",
       "      <td>NaN</td>\n",
       "      <td>1.988878e+06</td>\n",
       "    </tr>\n",
       "    <tr>\n",
       "      <th>1</th>\n",
       "      <td>A0A075B6I0</td>\n",
       "      <td>IGLV8-61</td>\n",
       "      <td>1.0</td>\n",
       "      <td>1.0</td>\n",
       "      <td>...</td>\n",
       "      <td>4.722763e+05</td>\n",
       "      <td>3.496285e+05</td>\n",
       "      <td>3.066827e+05</td>\n",
       "      <td>3.786927e+05</td>\n",
       "    </tr>\n",
       "    <tr>\n",
       "      <th>2</th>\n",
       "      <td>A0A075B6J9</td>\n",
       "      <td>IGLV2-18</td>\n",
       "      <td>1.0</td>\n",
       "      <td>1.0</td>\n",
       "      <td>...</td>\n",
       "      <td>3.596762e+04</td>\n",
       "      <td>1.363557e+05</td>\n",
       "      <td>1.330743e+05</td>\n",
       "      <td>6.273911e+05</td>\n",
       "    </tr>\n",
       "    <tr>\n",
       "      <th>3</th>\n",
       "      <td>A0A075B6R9;A0A0C4DH68</td>\n",
       "      <td>IGKV2D-24;IGKV2-24</td>\n",
       "      <td>1.0</td>\n",
       "      <td>1.0</td>\n",
       "      <td>...</td>\n",
       "      <td>9.784640e+04</td>\n",
       "      <td>3.716600e+05</td>\n",
       "      <td>1.769536e+05</td>\n",
       "      <td>1.536745e+05</td>\n",
       "    </tr>\n",
       "    <tr>\n",
       "      <th>4</th>\n",
       "      <td>A0A075B6S2;A2NJV5</td>\n",
       "      <td>IGKV2D-29;IGKV2-29</td>\n",
       "      <td>1.0</td>\n",
       "      <td>1.0</td>\n",
       "      <td>...</td>\n",
       "      <td>3.905379e+06</td>\n",
       "      <td>4.987740e+06</td>\n",
       "      <td>5.406188e+06</td>\n",
       "      <td>6.198768e+06</td>\n",
       "    </tr>\n",
       "  </tbody>\n",
       "</table>\n",
       "<p>5 rows × 1208 columns</p>\n",
       "</div>"
      ],
      "text/plain": [
       "              Protein ID          Gene names  \\\n",
       "0             A0A024R6I7            SERPINA1   \n",
       "1             A0A075B6I0            IGLV8-61   \n",
       "2             A0A075B6J9            IGLV2-18   \n",
       "3  A0A075B6R9;A0A0C4DH68  IGKV2D-24;IGKV2-24   \n",
       "4      A0A075B6S2;A2NJV5  IGKV2D-29;IGKV2-29   \n",
       "\n",
       "   [1] 20190514_QE10_Evosep1_P0000005_LiNi_SA_Plate1_A1.htrms.PG.NrOfStrippedSequencesUsedForQuantification  \\\n",
       "0                                                1.0                                                          \n",
       "1                                                1.0                                                          \n",
       "2                                                1.0                                                          \n",
       "3                                                1.0                                                          \n",
       "4                                                1.0                                                          \n",
       "\n",
       "   [2] 20190514_QE10_Evosep1_P0000005_LiNi_SA_Plate1_A2.htrms.PG.NrOfStrippedSequencesUsedForQuantification  \\\n",
       "0                                                1.0                                                          \n",
       "1                                                1.0                                                          \n",
       "2                                                1.0                                                          \n",
       "3                                                1.0                                                          \n",
       "4                                                1.0                                                          \n",
       "\n",
       "   ...  \\\n",
       "0  ...   \n",
       "1  ...   \n",
       "2  ...   \n",
       "3  ...   \n",
       "4  ...   \n",
       "\n",
       "   [600] 20190618_QE10_Evosep1_P0000005_LiNi_SA_Plate7_C11.htrms.PG.Quantity  \\\n",
       "0                                       4.113509e+03                           \n",
       "1                                       4.722763e+05                           \n",
       "2                                       3.596762e+04                           \n",
       "3                                       9.784640e+04                           \n",
       "4                                       3.905379e+06                           \n",
       "\n",
       "   [601] 20190618_QE10_Evosep1_P0000005_LiNi_SA_Plate7_C12.htrms.PG.Quantity  \\\n",
       "0                                       2.998578e+03                           \n",
       "1                                       3.496285e+05                           \n",
       "2                                       1.363557e+05                           \n",
       "3                                       3.716600e+05                           \n",
       "4                                       4.987740e+06                           \n",
       "\n",
       "   [602] 20190618_QE10_Evosep1_P0000005_LiNi_SA_Plate7_D1.htrms.PG.Quantity  \\\n",
       "0                                                NaN                          \n",
       "1                                       3.066827e+05                          \n",
       "2                                       1.330743e+05                          \n",
       "3                                       1.769536e+05                          \n",
       "4                                       5.406188e+06                          \n",
       "\n",
       "   [603] 20190618_QE10_Evosep1_P0000005_LiNi_SA_Plate7_D2.htrms.PG.Quantity  \n",
       "0                                       1.988878e+06                         \n",
       "1                                       3.786927e+05                         \n",
       "2                                       6.273911e+05                         \n",
       "3                                       1.536745e+05                         \n",
       "4                                       6.198768e+06                         \n",
       "\n",
       "[5 rows x 1208 columns]"
      ]
     },
     "execution_count": 7,
     "metadata": {},
     "output_type": "execute_result"
    }
   ],
   "source": [
    "report_plasma = pd.read_csv(os.path.join(FOLDER_DATA_RAW, '20190620_210717_20190620_P0000005_Lili2Klibrary_Report.csv'), na_values='Filtered')\n",
    "report_plasma.rename({'PG.Genes': 'Gene names', 'PG.ProteinAccessions': 'Protein ID'}, inplace= True, axis=1)\n",
    "report_plasma.head() "
   ]
  },
  {
   "cell_type": "markdown",
   "metadata": {},
   "source": [
    "Create mapping object (see if proteins are unique -> get function from other project)"
   ]
  },
  {
   "cell_type": "code",
   "execution_count": 8,
   "metadata": {
    "Collapsed": "false"
   },
   "outputs": [
    {
     "data": {
      "text/html": [
       "<div>\n",
       "<style scoped>\n",
       "    .dataframe tbody tr th:only-of-type {\n",
       "        vertical-align: middle;\n",
       "    }\n",
       "\n",
       "    .dataframe tbody tr th {\n",
       "        vertical-align: top;\n",
       "    }\n",
       "\n",
       "    .dataframe thead th {\n",
       "        text-align: right;\n",
       "    }\n",
       "</style>\n",
       "<table border=\"1\" class=\"dataframe\">\n",
       "  <thead>\n",
       "    <tr style=\"text-align: right;\">\n",
       "      <th></th>\n",
       "      <th>Protein ID</th>\n",
       "      <th>Gene names</th>\n",
       "    </tr>\n",
       "  </thead>\n",
       "  <tbody>\n",
       "    <tr>\n",
       "      <th>0</th>\n",
       "      <td>[A0A024R6I7]</td>\n",
       "      <td>[SERPINA1]</td>\n",
       "    </tr>\n",
       "    <tr>\n",
       "      <th>1</th>\n",
       "      <td>[A0A075B6I0]</td>\n",
       "      <td>[IGLV8-61]</td>\n",
       "    </tr>\n",
       "    <tr>\n",
       "      <th>2</th>\n",
       "      <td>[A0A075B6J9]</td>\n",
       "      <td>[IGLV2-18]</td>\n",
       "    </tr>\n",
       "    <tr>\n",
       "      <th>3</th>\n",
       "      <td>[A0A075B6R9, A0A0C4DH68]</td>\n",
       "      <td>[IGKV2D-24, IGKV2-24]</td>\n",
       "    </tr>\n",
       "    <tr>\n",
       "      <th>4</th>\n",
       "      <td>[A0A075B6S2, A2NJV5]</td>\n",
       "      <td>[IGKV2D-29, IGKV2-29]</td>\n",
       "    </tr>\n",
       "  </tbody>\n",
       "</table>\n",
       "</div>"
      ],
      "text/plain": [
       "                 Protein ID             Gene names\n",
       "0              [A0A024R6I7]             [SERPINA1]\n",
       "1              [A0A075B6I0]             [IGLV8-61]\n",
       "2              [A0A075B6J9]             [IGLV2-18]\n",
       "3  [A0A075B6R9, A0A0C4DH68]  [IGKV2D-24, IGKV2-24]\n",
       "4      [A0A075B6S2, A2NJV5]  [IGKV2D-29, IGKV2-29]"
      ]
     },
     "execution_count": 8,
     "metadata": {},
     "output_type": "execute_result"
    }
   ],
   "source": [
    "columns_ = ['Protein ID', 'Gene names']\n",
    "ids_ = report_plasma[columns_].apply(lambda series_: series_.str.split(';'))\n",
    "ids_.head()"
   ]
  },
  {
   "cell_type": "code",
   "execution_count": 9,
   "metadata": {
    "Collapsed": "false"
   },
   "outputs": [
    {
     "data": {
      "text/html": [
       "<div>\n",
       "<style scoped>\n",
       "    .dataframe tbody tr th:only-of-type {\n",
       "        vertical-align: middle;\n",
       "    }\n",
       "\n",
       "    .dataframe tbody tr th {\n",
       "        vertical-align: top;\n",
       "    }\n",
       "\n",
       "    .dataframe thead th {\n",
       "        text-align: right;\n",
       "    }\n",
       "</style>\n",
       "<table border=\"1\" class=\"dataframe\">\n",
       "  <thead>\n",
       "    <tr style=\"text-align: right;\">\n",
       "      <th></th>\n",
       "      <th>Protein ID</th>\n",
       "      <th>Gene names</th>\n",
       "    </tr>\n",
       "  </thead>\n",
       "  <tbody>\n",
       "    <tr>\n",
       "      <th>0</th>\n",
       "      <td>1</td>\n",
       "      <td>1</td>\n",
       "    </tr>\n",
       "    <tr>\n",
       "      <th>1</th>\n",
       "      <td>1</td>\n",
       "      <td>1</td>\n",
       "    </tr>\n",
       "    <tr>\n",
       "      <th>2</th>\n",
       "      <td>1</td>\n",
       "      <td>1</td>\n",
       "    </tr>\n",
       "    <tr>\n",
       "      <th>3</th>\n",
       "      <td>2</td>\n",
       "      <td>2</td>\n",
       "    </tr>\n",
       "    <tr>\n",
       "      <th>4</th>\n",
       "      <td>2</td>\n",
       "      <td>2</td>\n",
       "    </tr>\n",
       "    <tr>\n",
       "      <th>...</th>\n",
       "      <td>...</td>\n",
       "      <td>...</td>\n",
       "    </tr>\n",
       "    <tr>\n",
       "      <th>519</th>\n",
       "      <td>1</td>\n",
       "      <td>1</td>\n",
       "    </tr>\n",
       "    <tr>\n",
       "      <th>520</th>\n",
       "      <td>1</td>\n",
       "      <td>1</td>\n",
       "    </tr>\n",
       "    <tr>\n",
       "      <th>521</th>\n",
       "      <td>1</td>\n",
       "      <td>1</td>\n",
       "    </tr>\n",
       "    <tr>\n",
       "      <th>522</th>\n",
       "      <td>1</td>\n",
       "      <td>1</td>\n",
       "    </tr>\n",
       "    <tr>\n",
       "      <th>523</th>\n",
       "      <td>1</td>\n",
       "      <td>1</td>\n",
       "    </tr>\n",
       "  </tbody>\n",
       "</table>\n",
       "<p>524 rows × 2 columns</p>\n",
       "</div>"
      ],
      "text/plain": [
       "     Protein ID  Gene names\n",
       "0             1           1\n",
       "1             1           1\n",
       "2             1           1\n",
       "3             2           2\n",
       "4             2           2\n",
       "..          ...         ...\n",
       "519           1           1\n",
       "520           1           1\n",
       "521           1           1\n",
       "522           1           1\n",
       "523           1           1\n",
       "\n",
       "[524 rows x 2 columns]"
      ]
     },
     "execution_count": 9,
     "metadata": {},
     "output_type": "execute_result"
    }
   ],
   "source": [
    "def length_(x):\n",
    "    try:\n",
    "        return len(x)\n",
    "    except:\n",
    "        return 0\n",
    "    \n",
    "count_groups_proteins = ids_.apply(lambda series_: series_.apply(length_))\n",
    "count_groups_proteins"
   ]
  },
  {
   "cell_type": "code",
   "execution_count": 10,
   "metadata": {
    "Collapsed": "false"
   },
   "outputs": [
    {
     "data": {
      "text/html": [
       "<div>\n",
       "<style scoped>\n",
       "    .dataframe tbody tr th:only-of-type {\n",
       "        vertical-align: middle;\n",
       "    }\n",
       "\n",
       "    .dataframe tbody tr th {\n",
       "        vertical-align: top;\n",
       "    }\n",
       "\n",
       "    .dataframe thead th {\n",
       "        text-align: right;\n",
       "    }\n",
       "</style>\n",
       "<table border=\"1\" class=\"dataframe\">\n",
       "  <thead>\n",
       "    <tr style=\"text-align: right;\">\n",
       "      <th></th>\n",
       "      <th>Protein ID</th>\n",
       "      <th>Gene names</th>\n",
       "    </tr>\n",
       "  </thead>\n",
       "  <tbody>\n",
       "    <tr>\n",
       "      <th>0</th>\n",
       "      <td>NaN</td>\n",
       "      <td>2.0</td>\n",
       "    </tr>\n",
       "    <tr>\n",
       "      <th>1</th>\n",
       "      <td>318.0</td>\n",
       "      <td>499.0</td>\n",
       "    </tr>\n",
       "    <tr>\n",
       "      <th>2</th>\n",
       "      <td>121.0</td>\n",
       "      <td>11.0</td>\n",
       "    </tr>\n",
       "    <tr>\n",
       "      <th>3</th>\n",
       "      <td>44.0</td>\n",
       "      <td>3.0</td>\n",
       "    </tr>\n",
       "    <tr>\n",
       "      <th>4</th>\n",
       "      <td>20.0</td>\n",
       "      <td>2.0</td>\n",
       "    </tr>\n",
       "    <tr>\n",
       "      <th>5</th>\n",
       "      <td>7.0</td>\n",
       "      <td>3.0</td>\n",
       "    </tr>\n",
       "    <tr>\n",
       "      <th>6</th>\n",
       "      <td>6.0</td>\n",
       "      <td>1.0</td>\n",
       "    </tr>\n",
       "    <tr>\n",
       "      <th>7</th>\n",
       "      <td>1.0</td>\n",
       "      <td>NaN</td>\n",
       "    </tr>\n",
       "    <tr>\n",
       "      <th>8</th>\n",
       "      <td>1.0</td>\n",
       "      <td>NaN</td>\n",
       "    </tr>\n",
       "    <tr>\n",
       "      <th>10</th>\n",
       "      <td>1.0</td>\n",
       "      <td>NaN</td>\n",
       "    </tr>\n",
       "    <tr>\n",
       "      <th>11</th>\n",
       "      <td>1.0</td>\n",
       "      <td>NaN</td>\n",
       "    </tr>\n",
       "    <tr>\n",
       "      <th>12</th>\n",
       "      <td>1.0</td>\n",
       "      <td>1.0</td>\n",
       "    </tr>\n",
       "    <tr>\n",
       "      <th>14</th>\n",
       "      <td>1.0</td>\n",
       "      <td>1.0</td>\n",
       "    </tr>\n",
       "    <tr>\n",
       "      <th>16</th>\n",
       "      <td>1.0</td>\n",
       "      <td>NaN</td>\n",
       "    </tr>\n",
       "    <tr>\n",
       "      <th>17</th>\n",
       "      <td>1.0</td>\n",
       "      <td>1.0</td>\n",
       "    </tr>\n",
       "  </tbody>\n",
       "</table>\n",
       "</div>"
      ],
      "text/plain": [
       "    Protein ID  Gene names\n",
       "0          NaN         2.0\n",
       "1        318.0       499.0\n",
       "2        121.0        11.0\n",
       "3         44.0         3.0\n",
       "4         20.0         2.0\n",
       "5          7.0         3.0\n",
       "6          6.0         1.0\n",
       "7          1.0         NaN\n",
       "8          1.0         NaN\n",
       "10         1.0         NaN\n",
       "11         1.0         NaN\n",
       "12         1.0         1.0\n",
       "14         1.0         1.0\n",
       "16         1.0         NaN\n",
       "17         1.0         1.0"
      ]
     },
     "execution_count": 10,
     "metadata": {},
     "output_type": "execute_result"
    }
   ],
   "source": [
    "from src.pandas import combine_value_counts\n",
    "combine_value_counts(count_groups_proteins)"
   ]
  },
  {
   "cell_type": "markdown",
   "metadata": {},
   "source": [
    "- Protein IDs are always set\n",
    "- two proteins have no annotations (Gene name count of 0 appears twice)\n",
    "- the are some protein names which are mapped to the same gene. \n",
    "Let have a look at cases where a set of proteins was not mapped uniquely to one gene:"
   ]
  },
  {
   "cell_type": "code",
   "execution_count": 11,
   "metadata": {},
   "outputs": [
    {
     "data": {
      "text/html": [
       "<div>\n",
       "<style scoped>\n",
       "    .dataframe tbody tr th:only-of-type {\n",
       "        vertical-align: middle;\n",
       "    }\n",
       "\n",
       "    .dataframe tbody tr th {\n",
       "        vertical-align: top;\n",
       "    }\n",
       "\n",
       "    .dataframe thead th {\n",
       "        text-align: right;\n",
       "    }\n",
       "</style>\n",
       "<table border=\"1\" class=\"dataframe\">\n",
       "  <thead>\n",
       "    <tr style=\"text-align: right;\">\n",
       "      <th></th>\n",
       "      <th>Protein ID</th>\n",
       "      <th>Gene names</th>\n",
       "    </tr>\n",
       "  </thead>\n",
       "  <tbody>\n",
       "    <tr>\n",
       "      <th>3</th>\n",
       "      <td>[A0A075B6R9, A0A0C4DH68]</td>\n",
       "      <td>[IGKV2D-24, IGKV2-24]</td>\n",
       "    </tr>\n",
       "    <tr>\n",
       "      <th>4</th>\n",
       "      <td>[A0A075B6S2, A2NJV5]</td>\n",
       "      <td>[IGKV2D-29, IGKV2-29]</td>\n",
       "    </tr>\n",
       "    <tr>\n",
       "      <th>8</th>\n",
       "      <td>[A0A087WWU8, P06753-2, Q5HYB6]</td>\n",
       "      <td>[TPM3, TPM3, DKFZp686J1372]</td>\n",
       "    </tr>\n",
       "    <tr>\n",
       "      <th>21</th>\n",
       "      <td>[A0A0A0MRZ8, P04433]</td>\n",
       "      <td>[IGKV3D-11, IGKV3-11]</td>\n",
       "    </tr>\n",
       "    <tr>\n",
       "      <th>36</th>\n",
       "      <td>[A0A0C4DH43, A0A0J9YVU5]</td>\n",
       "      <td>[IGHV2-70D, IGHV2-70]</td>\n",
       "    </tr>\n",
       "    <tr>\n",
       "      <th>37</th>\n",
       "      <td>[A0A0C4DH72, P01599]</td>\n",
       "      <td>[IGKV1-6, IGKV1-17]</td>\n",
       "    </tr>\n",
       "    <tr>\n",
       "      <th>40</th>\n",
       "      <td>[A0A0G2JIW1, P0DMV8, P0DMV9]</td>\n",
       "      <td>[HSPA1B, HSPA1A, HSPA1B]</td>\n",
       "    </tr>\n",
       "    <tr>\n",
       "      <th>44</th>\n",
       "      <td>[A0A0J9YY99, P01764, P01768, P0DP03]</td>\n",
       "      <td>[, IGHV3-23, IGHV3-30, IGHV3-30-5]</td>\n",
       "    </tr>\n",
       "    <tr>\n",
       "      <th>48</th>\n",
       "      <td>[A0A0U1RR32, A0A0U1RRH7, P04908, P0C0S8, P2067...</td>\n",
       "      <td>[HIST1H3D, HIST1H3D, HIST1H2AB, HIST1H2AG, HIS...</td>\n",
       "    </tr>\n",
       "    <tr>\n",
       "      <th>70</th>\n",
       "      <td>[B4DV12, F5GXK7, F5GYU3, F5H265, F5H2Z3, F5H38...</td>\n",
       "      <td>[UBB, UBC, UBC, UBC, UBC, UBC, UBC, UBC, UBB, ...</td>\n",
       "    </tr>\n",
       "    <tr>\n",
       "      <th>71</th>\n",
       "      <td>[B4E1Z4]</td>\n",
       "      <td>NaN</td>\n",
       "    </tr>\n",
       "    <tr>\n",
       "      <th>73</th>\n",
       "      <td>[B5MCK8, P19440, P36268, P36268-2, P36268-3]</td>\n",
       "      <td>[GGT2, GGT1, GGT2, GGT2, GGT2]</td>\n",
       "    </tr>\n",
       "    <tr>\n",
       "      <th>99</th>\n",
       "      <td>[E9PQ80, E9PQI5, E9PSI1, Q9BY43, Q9BY43-2]</td>\n",
       "      <td>[CHMP4A, CHMP4A, , CHMP4A, CHMP4A]</td>\n",
       "    </tr>\n",
       "    <tr>\n",
       "      <th>108</th>\n",
       "      <td>[F8W6I7, P09651, P09651-2, P09651-3, Q32P51]</td>\n",
       "      <td>[HNRNPA1, HNRNPA1, HNRNPA1, HNRNPA1, HNRNPA1L2]</td>\n",
       "    </tr>\n",
       "    <tr>\n",
       "      <th>119</th>\n",
       "      <td>[H0YJW9]</td>\n",
       "      <td>NaN</td>\n",
       "    </tr>\n",
       "    <tr>\n",
       "      <th>120</th>\n",
       "      <td>[H3BMH2, H3BSC1, P62491, P62491-2, Q15907, Q15...</td>\n",
       "      <td>[RAB11A, RAB11A, RAB11A, RAB11A, RAB11B, RAB11B]</td>\n",
       "    </tr>\n",
       "    <tr>\n",
       "      <th>122</th>\n",
       "      <td>[H7BY64, Q96NZ9, Q96NZ9-2, Q96NZ9-4]</td>\n",
       "      <td>[, PRAP1, PRAP1, PRAP1]</td>\n",
       "    </tr>\n",
       "    <tr>\n",
       "      <th>123</th>\n",
       "      <td>[H7BZ24, P05451, P48304]</td>\n",
       "      <td>[REG1B, REG1A, REG1B]</td>\n",
       "    </tr>\n",
       "    <tr>\n",
       "      <th>145</th>\n",
       "      <td>[O60814, P06899, P23527, P33778, P57053, P5887...</td>\n",
       "      <td>[HIST1H2BK, HIST1H2BJ, HIST1H2BO, HIST1H2BB, H...</td>\n",
       "    </tr>\n",
       "    <tr>\n",
       "      <th>183</th>\n",
       "      <td>[P01593, P01594]</td>\n",
       "      <td>[IGKV1D-33, IGKV1-33]</td>\n",
       "    </tr>\n",
       "    <tr>\n",
       "      <th>188</th>\n",
       "      <td>[P01717, P01718]</td>\n",
       "      <td>[IGLV3-25, IGLV3-27]</td>\n",
       "    </tr>\n",
       "    <tr>\n",
       "      <th>191</th>\n",
       "      <td>[P01782, P0DP04]</td>\n",
       "      <td>[IGHV3-9, IGHV3-43D]</td>\n",
       "    </tr>\n",
       "    <tr>\n",
       "      <th>220</th>\n",
       "      <td>[P02776, P10720]</td>\n",
       "      <td>[PF4, PF4V1]</td>\n",
       "    </tr>\n",
       "    <tr>\n",
       "      <th>292</th>\n",
       "      <td>[P0DOY2, P0DOY3]</td>\n",
       "      <td>[IGLC2, IGLC3]</td>\n",
       "    </tr>\n",
       "    <tr>\n",
       "      <th>404</th>\n",
       "      <td>[P68104, Q5VTE0]</td>\n",
       "      <td>[EEF1A1, EEF1A1P5]</td>\n",
       "    </tr>\n",
       "  </tbody>\n",
       "</table>\n",
       "</div>"
      ],
      "text/plain": [
       "                                            Protein ID  \\\n",
       "3                             [A0A075B6R9, A0A0C4DH68]   \n",
       "4                                 [A0A075B6S2, A2NJV5]   \n",
       "8                       [A0A087WWU8, P06753-2, Q5HYB6]   \n",
       "21                                [A0A0A0MRZ8, P04433]   \n",
       "36                            [A0A0C4DH43, A0A0J9YVU5]   \n",
       "37                                [A0A0C4DH72, P01599]   \n",
       "40                        [A0A0G2JIW1, P0DMV8, P0DMV9]   \n",
       "44                [A0A0J9YY99, P01764, P01768, P0DP03]   \n",
       "48   [A0A0U1RR32, A0A0U1RRH7, P04908, P0C0S8, P2067...   \n",
       "70   [B4DV12, F5GXK7, F5GYU3, F5H265, F5H2Z3, F5H38...   \n",
       "71                                            [B4E1Z4]   \n",
       "73        [B5MCK8, P19440, P36268, P36268-2, P36268-3]   \n",
       "99          [E9PQ80, E9PQI5, E9PSI1, Q9BY43, Q9BY43-2]   \n",
       "108       [F8W6I7, P09651, P09651-2, P09651-3, Q32P51]   \n",
       "119                                           [H0YJW9]   \n",
       "120  [H3BMH2, H3BSC1, P62491, P62491-2, Q15907, Q15...   \n",
       "122               [H7BY64, Q96NZ9, Q96NZ9-2, Q96NZ9-4]   \n",
       "123                           [H7BZ24, P05451, P48304]   \n",
       "145  [O60814, P06899, P23527, P33778, P57053, P5887...   \n",
       "183                                   [P01593, P01594]   \n",
       "188                                   [P01717, P01718]   \n",
       "191                                   [P01782, P0DP04]   \n",
       "220                                   [P02776, P10720]   \n",
       "292                                   [P0DOY2, P0DOY3]   \n",
       "404                                   [P68104, Q5VTE0]   \n",
       "\n",
       "                                            Gene names  \n",
       "3                                [IGKV2D-24, IGKV2-24]  \n",
       "4                                [IGKV2D-29, IGKV2-29]  \n",
       "8                          [TPM3, TPM3, DKFZp686J1372]  \n",
       "21                               [IGKV3D-11, IGKV3-11]  \n",
       "36                               [IGHV2-70D, IGHV2-70]  \n",
       "37                                 [IGKV1-6, IGKV1-17]  \n",
       "40                            [HSPA1B, HSPA1A, HSPA1B]  \n",
       "44                  [, IGHV3-23, IGHV3-30, IGHV3-30-5]  \n",
       "48   [HIST1H3D, HIST1H3D, HIST1H2AB, HIST1H2AG, HIS...  \n",
       "70   [UBB, UBC, UBC, UBC, UBC, UBC, UBC, UBC, UBB, ...  \n",
       "71                                                 NaN  \n",
       "73                      [GGT2, GGT1, GGT2, GGT2, GGT2]  \n",
       "99                  [CHMP4A, CHMP4A, , CHMP4A, CHMP4A]  \n",
       "108    [HNRNPA1, HNRNPA1, HNRNPA1, HNRNPA1, HNRNPA1L2]  \n",
       "119                                                NaN  \n",
       "120   [RAB11A, RAB11A, RAB11A, RAB11A, RAB11B, RAB11B]  \n",
       "122                            [, PRAP1, PRAP1, PRAP1]  \n",
       "123                              [REG1B, REG1A, REG1B]  \n",
       "145  [HIST1H2BK, HIST1H2BJ, HIST1H2BO, HIST1H2BB, H...  \n",
       "183                              [IGKV1D-33, IGKV1-33]  \n",
       "188                               [IGLV3-25, IGLV3-27]  \n",
       "191                               [IGHV3-9, IGHV3-43D]  \n",
       "220                                       [PF4, PF4V1]  \n",
       "292                                     [IGLC2, IGLC3]  \n",
       "404                                 [EEF1A1, EEF1A1P5]  "
      ]
     },
     "execution_count": 11,
     "metadata": {},
     "output_type": "execute_result"
    }
   ],
   "source": [
    "ids_.loc[count_groups_proteins['Gene names'] != 1]"
   ]
  },
  {
   "cell_type": "code",
   "execution_count": 12,
   "metadata": {
    "Collapsed": "false"
   },
   "outputs": [],
   "source": [
    "from src.imputation import imputation_normal_distribution, log2, NP_LOG_FCT, IMPUTATION_MEAN_SHIFT, IMPUTATION_STD_SHRINKAGE\n",
    "#imputation_normal_distribution??"
   ]
  },
  {
   "cell_type": "code",
   "execution_count": 13,
   "metadata": {
    "Collapsed": "false"
   },
   "outputs": [],
   "source": [
    "# Report_plasma = pd.read_csv('raw/proteomics/plasma/20190620_210717_20190620_P0000005_Lili2Klibrary_Report.csv')\n",
    "experimental_columns = annotation_file_plasma['Sample ID']\n",
    "report_plasma[columns_] = report_plasma[columns_].apply(lambda series_: series_.str.split(';').str[0])"
   ]
  },
  {
   "cell_type": "code",
   "execution_count": 14,
   "metadata": {
    "Collapsed": "false"
   },
   "outputs": [
    {
     "data": {
      "text/html": [
       "<div>\n",
       "<style scoped>\n",
       "    .dataframe tbody tr th:only-of-type {\n",
       "        vertical-align: middle;\n",
       "    }\n",
       "\n",
       "    .dataframe tbody tr th {\n",
       "        vertical-align: top;\n",
       "    }\n",
       "\n",
       "    .dataframe thead th {\n",
       "        text-align: right;\n",
       "    }\n",
       "</style>\n",
       "<table border=\"1\" class=\"dataframe\">\n",
       "  <thead>\n",
       "    <tr style=\"text-align: right;\">\n",
       "      <th></th>\n",
       "      <th>[1] 20190514_QE10_Evosep1_P0000005_LiNi_SA_Plate1_A1.htrms.PG.NrOfStrippedSequencesUsedForQuantification</th>\n",
       "      <th>[2] 20190514_QE10_Evosep1_P0000005_LiNi_SA_Plate1_A2.htrms.PG.NrOfStrippedSequencesUsedForQuantification</th>\n",
       "      <th>[3] 20190514_QE10_Evosep1_P0000005_LiNi_SA_Plate1_A3.htrms.PG.NrOfStrippedSequencesUsedForQuantification</th>\n",
       "      <th>[4] 20190514_QE10_Evosep1_P0000005_LiNi_SA_Plate1_A4.htrms.PG.NrOfStrippedSequencesUsedForQuantification</th>\n",
       "      <th>...</th>\n",
       "      <th>[600] 20190618_QE10_Evosep1_P0000005_LiNi_SA_Plate7_C11.htrms.PG.Quantity</th>\n",
       "      <th>[601] 20190618_QE10_Evosep1_P0000005_LiNi_SA_Plate7_C12.htrms.PG.Quantity</th>\n",
       "      <th>[602] 20190618_QE10_Evosep1_P0000005_LiNi_SA_Plate7_D1.htrms.PG.Quantity</th>\n",
       "      <th>[603] 20190618_QE10_Evosep1_P0000005_LiNi_SA_Plate7_D2.htrms.PG.Quantity</th>\n",
       "    </tr>\n",
       "  </thead>\n",
       "  <tbody>\n",
       "    <tr>\n",
       "      <th>count</th>\n",
       "      <td>361.000000</td>\n",
       "      <td>327.000000</td>\n",
       "      <td>317.000000</td>\n",
       "      <td>340.000000</td>\n",
       "      <td>...</td>\n",
       "      <td>3.640000e+02</td>\n",
       "      <td>3.200000e+02</td>\n",
       "      <td>3.130000e+02</td>\n",
       "      <td>3.220000e+02</td>\n",
       "    </tr>\n",
       "    <tr>\n",
       "      <th>mean</th>\n",
       "      <td>2.124654</td>\n",
       "      <td>2.171254</td>\n",
       "      <td>2.192429</td>\n",
       "      <td>2.191176</td>\n",
       "      <td>...</td>\n",
       "      <td>3.939520e+06</td>\n",
       "      <td>4.541551e+06</td>\n",
       "      <td>4.727407e+06</td>\n",
       "      <td>4.267386e+06</td>\n",
       "    </tr>\n",
       "    <tr>\n",
       "      <th>std</th>\n",
       "      <td>0.933022</td>\n",
       "      <td>0.927444</td>\n",
       "      <td>0.912747</td>\n",
       "      <td>0.903245</td>\n",
       "      <td>...</td>\n",
       "      <td>4.108969e+07</td>\n",
       "      <td>4.513567e+07</td>\n",
       "      <td>4.711617e+07</td>\n",
       "      <td>4.104998e+07</td>\n",
       "    </tr>\n",
       "    <tr>\n",
       "      <th>min</th>\n",
       "      <td>1.000000</td>\n",
       "      <td>1.000000</td>\n",
       "      <td>1.000000</td>\n",
       "      <td>1.000000</td>\n",
       "      <td>...</td>\n",
       "      <td>1.908130e+02</td>\n",
       "      <td>5.826772e+02</td>\n",
       "      <td>7.995712e+02</td>\n",
       "      <td>2.039593e+02</td>\n",
       "    </tr>\n",
       "    <tr>\n",
       "      <th>25%</th>\n",
       "      <td>1.000000</td>\n",
       "      <td>1.000000</td>\n",
       "      <td>1.000000</td>\n",
       "      <td>1.000000</td>\n",
       "      <td>...</td>\n",
       "      <td>8.566062e+03</td>\n",
       "      <td>1.047221e+04</td>\n",
       "      <td>1.268499e+04</td>\n",
       "      <td>1.084710e+04</td>\n",
       "    </tr>\n",
       "    <tr>\n",
       "      <th>50%</th>\n",
       "      <td>3.000000</td>\n",
       "      <td>3.000000</td>\n",
       "      <td>3.000000</td>\n",
       "      <td>3.000000</td>\n",
       "      <td>...</td>\n",
       "      <td>4.154654e+04</td>\n",
       "      <td>6.404788e+04</td>\n",
       "      <td>6.787159e+04</td>\n",
       "      <td>6.053365e+04</td>\n",
       "    </tr>\n",
       "    <tr>\n",
       "      <th>75%</th>\n",
       "      <td>3.000000</td>\n",
       "      <td>3.000000</td>\n",
       "      <td>3.000000</td>\n",
       "      <td>3.000000</td>\n",
       "      <td>...</td>\n",
       "      <td>4.774295e+05</td>\n",
       "      <td>6.070775e+05</td>\n",
       "      <td>7.744870e+05</td>\n",
       "      <td>6.438288e+05</td>\n",
       "    </tr>\n",
       "    <tr>\n",
       "      <th>max</th>\n",
       "      <td>3.000000</td>\n",
       "      <td>3.000000</td>\n",
       "      <td>3.000000</td>\n",
       "      <td>3.000000</td>\n",
       "      <td>...</td>\n",
       "      <td>7.727070e+08</td>\n",
       "      <td>7.973126e+08</td>\n",
       "      <td>8.239611e+08</td>\n",
       "      <td>7.269720e+08</td>\n",
       "    </tr>\n",
       "  </tbody>\n",
       "</table>\n",
       "<p>8 rows × 1206 columns</p>\n",
       "</div>"
      ],
      "text/plain": [
       "       [1] 20190514_QE10_Evosep1_P0000005_LiNi_SA_Plate1_A1.htrms.PG.NrOfStrippedSequencesUsedForQuantification  \\\n",
       "count                                         361.000000                                                          \n",
       "mean                                            2.124654                                                          \n",
       "std                                             0.933022                                                          \n",
       "min                                             1.000000                                                          \n",
       "25%                                             1.000000                                                          \n",
       "50%                                             3.000000                                                          \n",
       "75%                                             3.000000                                                          \n",
       "max                                             3.000000                                                          \n",
       "\n",
       "       [2] 20190514_QE10_Evosep1_P0000005_LiNi_SA_Plate1_A2.htrms.PG.NrOfStrippedSequencesUsedForQuantification  \\\n",
       "count                                         327.000000                                                          \n",
       "mean                                            2.171254                                                          \n",
       "std                                             0.927444                                                          \n",
       "min                                             1.000000                                                          \n",
       "25%                                             1.000000                                                          \n",
       "50%                                             3.000000                                                          \n",
       "75%                                             3.000000                                                          \n",
       "max                                             3.000000                                                          \n",
       "\n",
       "       [3] 20190514_QE10_Evosep1_P0000005_LiNi_SA_Plate1_A3.htrms.PG.NrOfStrippedSequencesUsedForQuantification  \\\n",
       "count                                         317.000000                                                          \n",
       "mean                                            2.192429                                                          \n",
       "std                                             0.912747                                                          \n",
       "min                                             1.000000                                                          \n",
       "25%                                             1.000000                                                          \n",
       "50%                                             3.000000                                                          \n",
       "75%                                             3.000000                                                          \n",
       "max                                             3.000000                                                          \n",
       "\n",
       "       [4] 20190514_QE10_Evosep1_P0000005_LiNi_SA_Plate1_A4.htrms.PG.NrOfStrippedSequencesUsedForQuantification  \\\n",
       "count                                         340.000000                                                          \n",
       "mean                                            2.191176                                                          \n",
       "std                                             0.903245                                                          \n",
       "min                                             1.000000                                                          \n",
       "25%                                             1.000000                                                          \n",
       "50%                                             3.000000                                                          \n",
       "75%                                             3.000000                                                          \n",
       "max                                             3.000000                                                          \n",
       "\n",
       "       ...  \\\n",
       "count  ...   \n",
       "mean   ...   \n",
       "std    ...   \n",
       "min    ...   \n",
       "25%    ...   \n",
       "50%    ...   \n",
       "75%    ...   \n",
       "max    ...   \n",
       "\n",
       "       [600] 20190618_QE10_Evosep1_P0000005_LiNi_SA_Plate7_C11.htrms.PG.Quantity  \\\n",
       "count                                       3.640000e+02                           \n",
       "mean                                        3.939520e+06                           \n",
       "std                                         4.108969e+07                           \n",
       "min                                         1.908130e+02                           \n",
       "25%                                         8.566062e+03                           \n",
       "50%                                         4.154654e+04                           \n",
       "75%                                         4.774295e+05                           \n",
       "max                                         7.727070e+08                           \n",
       "\n",
       "       [601] 20190618_QE10_Evosep1_P0000005_LiNi_SA_Plate7_C12.htrms.PG.Quantity  \\\n",
       "count                                       3.200000e+02                           \n",
       "mean                                        4.541551e+06                           \n",
       "std                                         4.513567e+07                           \n",
       "min                                         5.826772e+02                           \n",
       "25%                                         1.047221e+04                           \n",
       "50%                                         6.404788e+04                           \n",
       "75%                                         6.070775e+05                           \n",
       "max                                         7.973126e+08                           \n",
       "\n",
       "       [602] 20190618_QE10_Evosep1_P0000005_LiNi_SA_Plate7_D1.htrms.PG.Quantity  \\\n",
       "count                                       3.130000e+02                          \n",
       "mean                                        4.727407e+06                          \n",
       "std                                         4.711617e+07                          \n",
       "min                                         7.995712e+02                          \n",
       "25%                                         1.268499e+04                          \n",
       "50%                                         6.787159e+04                          \n",
       "75%                                         7.744870e+05                          \n",
       "max                                         8.239611e+08                          \n",
       "\n",
       "       [603] 20190618_QE10_Evosep1_P0000005_LiNi_SA_Plate7_D2.htrms.PG.Quantity  \n",
       "count                                       3.220000e+02                         \n",
       "mean                                        4.267386e+06                         \n",
       "std                                         4.104998e+07                         \n",
       "min                                         2.039593e+02                         \n",
       "25%                                         1.084710e+04                         \n",
       "50%                                         6.053365e+04                         \n",
       "75%                                         6.438288e+05                         \n",
       "max                                         7.269720e+08                         \n",
       "\n",
       "[8 rows x 1206 columns]"
      ]
     },
     "execution_count": 14,
     "metadata": {},
     "output_type": "execute_result"
    }
   ],
   "source": [
    "report_plasma.describe()"
   ]
  },
  {
   "cell_type": "code",
   "execution_count": 15,
   "metadata": {
    "Collapsed": "false"
   },
   "outputs": [],
   "source": [
    "map_filenames_ids = dict(zip(annotation_file['File name'], annotation_file['Sample ID']))"
   ]
  },
  {
   "cell_type": "markdown",
   "metadata": {
    "Collapsed": "false"
   },
   "source": [
    "Remove some measurements which are not intensities, but ... ?"
   ]
  },
  {
   "cell_type": "code",
   "execution_count": 16,
   "metadata": {
    "Collapsed": "false"
   },
   "outputs": [],
   "source": [
    "data_plasma_raw = report_plasma.copy()\n",
    "data_plasma_raw.drop(data_plasma_raw.filter(regex='StrippedSequences').columns, axis=1, inplace = True)"
   ]
  },
  {
   "cell_type": "markdown",
   "metadata": {
    "Collapsed": "false"
   },
   "source": [
    "- rename column names to sample ID from annotation file\n",
    "- set index to proteins"
   ]
  },
  {
   "cell_type": "code",
   "execution_count": 17,
   "metadata": {
    "Collapsed": "false"
   },
   "outputs": [
    {
     "data": {
      "text/plain": [
       "(524, 603)"
      ]
     },
     "execution_count": 17,
     "metadata": {},
     "output_type": "execute_result"
    }
   ],
   "source": [
    "data_plasma_raw = data_plasma_raw.rename(mapper = map_filenames_ids, axis=1)\n",
    "IDmapping_UniprotID_to_Genename = dict(zip(data_plasma_raw['Protein ID'], data_plasma_raw['Gene names']))\n",
    "data_plasma_raw = data_plasma_raw.set_index('Protein ID').drop('Gene names', axis = 1)\n",
    "data_plasma_raw.shape"
   ]
  },
  {
   "cell_type": "code",
   "execution_count": 18,
   "metadata": {
    "Collapsed": "false"
   },
   "outputs": [
    {
     "data": {
      "text/plain": [
       "304"
      ]
     },
     "execution_count": 18,
     "metadata": {},
     "output_type": "execute_result"
    }
   ],
   "source": [
    "mask = data_plasma_raw.notna().sum(axis=1) > 603 * 0.6\n",
    "mask.sum()"
   ]
  },
  {
   "cell_type": "markdown",
   "metadata": {
    "Collapsed": "false"
   },
   "source": [
    "Filter at protein level for 60% data completeness across all runs"
   ]
  },
  {
   "cell_type": "code",
   "execution_count": 19,
   "metadata": {
    "Collapsed": "false"
   },
   "outputs": [],
   "source": [
    "DATA_COMPLETENESS = 0.6\n",
    "data_plasma_filtered = data_plasma_raw.dropna(axis=0, thresh = data_plasma_raw.shape[1] * DATA_COMPLETENESS)\n",
    "# data_plasma_filtered #hide"
   ]
  },
  {
   "cell_type": "markdown",
   "metadata": {},
   "source": [
    "Check how many the plates which will be discarded have:"
   ]
  },
  {
   "cell_type": "code",
   "execution_count": 20,
   "metadata": {},
   "outputs": [
    {
     "data": {
      "text/plain": [
       "Plate1_E1     80\n",
       "Plate7_B6    114\n",
       "Plate4_E3    117\n",
       "Plate3_H2    119\n",
       "Name: count, dtype: int64"
      ]
     },
     "execution_count": 20,
     "metadata": {},
     "output_type": "execute_result"
    }
   ],
   "source": [
    "mask_filtered_out = data_plasma_filtered.notna().sum() < 200\n",
    "data_plasma_filtered.loc[:, list(mask_filtered_out)].describe().loc['count'].astype(int).sort_values()"
   ]
  },
  {
   "cell_type": "code",
   "execution_count": 21,
   "metadata": {},
   "outputs": [
    {
     "data": {
      "text/plain": [
       "Plate1_E1     85\n",
       "Plate4_E3    121\n",
       "Plate3_H2    127\n",
       "Plate7_B6    169\n",
       "Name: count, dtype: int64"
      ]
     },
     "execution_count": 21,
     "metadata": {},
     "output_type": "execute_result"
    }
   ],
   "source": [
    "data_plasma_raw.loc[:, mask_filtered_out].describe().loc['count'].astype(int).sort_values()"
   ]
  },
  {
   "cell_type": "markdown",
   "metadata": {},
   "source": [
    "> Cutoff of 118 is next one where another sample would be discarded."
   ]
  },
  {
   "cell_type": "markdown",
   "metadata": {
    "Collapsed": "false"
   },
   "source": [
    "Filter at sample level for a total number of quantified protein groups above 200 (of 290)."
   ]
  },
  {
   "cell_type": "code",
   "execution_count": 22,
   "metadata": {
    "Collapsed": "false",
    "tags": []
   },
   "outputs": [
    {
     "name": "stdout",
     "output_type": "stream",
     "text": [
      "Min No. of Protein-Groups in single sample: 200, i.e. a fraction of 0.6578947368421053\n"
     ]
    }
   ],
   "source": [
    "MIN_N_PROTEIN_GROUPS = 200\n",
    "print(f\"Min No. of Protein-Groups in single sample: {MIN_N_PROTEIN_GROUPS}, i.e. a fraction of {MIN_N_PROTEIN_GROUPS/len(data_plasma_filtered)}\")"
   ]
  },
  {
   "cell_type": "code",
   "execution_count": 23,
   "metadata": {
    "Collapsed": "false"
   },
   "outputs": [],
   "source": [
    "data_plasma_filtered = data_plasma_filtered.dropna(axis=1, thresh = MIN_N_PROTEIN_GROUPS)\n",
    "# data_plasma_filtered #hide"
   ]
  },
  {
   "cell_type": "code",
   "execution_count": 24,
   "metadata": {
    "Collapsed": "false"
   },
   "outputs": [],
   "source": [
    "assert (data_plasma_filtered.dtypes != float).sum() == 0"
   ]
  },
  {
   "cell_type": "code",
   "execution_count": 25,
   "metadata": {
    "Collapsed": "false"
   },
   "outputs": [],
   "source": [
    "# data_plasma_filtered = convert_to_numeric(data_plasma_filtered)\n",
    "# data_plasma_filtered_log = np.log2(data_plasma_filtered)\n",
    "data_plasma_filtered_log = data_plasma_filtered.apply(log2)\n",
    "# data_plasma_filtered_log #hide"
   ]
  },
  {
   "cell_type": "markdown",
   "metadata": {
    "Collapsed": "false"
   },
   "source": [
    "##### Imputation\n",
    "\n",
    "- imputation is done before coefficient of variation (CV)\n",
    "- is this sensible?"
   ]
  },
  {
   "cell_type": "code",
   "execution_count": 26,
   "metadata": {
    "Collapsed": "false"
   },
   "outputs": [],
   "source": [
    "SCALE_DATA = False\n",
    "if SCALE_DATA:\n",
    "    from sklearn.preprocessing import StandardScaler\n",
    "\n",
    "    scaler = StandardScaler()\n",
    "\n",
    "    data_plasma_filtered_log_imputed_np = scaler.fit_transform(data_plasma_filtered_log.values)\n",
    "    data_plasma_filtered_log_imputed = data_plasma_filtered_log.copy()\n",
    "    data_plasma_filtered_log_imputed.loc[:,:] = np.nan_to_num(data_plasma_filtered_log_imputed_np)\n",
    "else:\n",
    "    data_plasma_filtered_log_imputed = data_plasma_filtered_log.apply(imputation_normal_distribution)\n",
    "    assert data_plasma_filtered_log_imputed.loc['Q9Y6Z7', 'Plate1_A2'] - 9.770809 < 0.0001, 'Imputed value changed in comparison to previous run'"
   ]
  },
  {
   "cell_type": "code",
   "execution_count": 27,
   "metadata": {
    "Collapsed": "false"
   },
   "outputs": [],
   "source": [
    "#ToDo: Look at distribution of imputed values vs non-imputed values by protein.\n",
    "# create data viewer with overlap?"
   ]
  },
  {
   "cell_type": "code",
   "execution_count": 28,
   "metadata": {
    "Collapsed": "false"
   },
   "outputs": [],
   "source": [
    "from pathlib import Path\n",
    "file = Path('data/processed/plasma_processed.csv')\n",
    "file.parent.mkdir(parents=True, exist_ok=True)"
   ]
  },
  {
   "cell_type": "code",
   "execution_count": 29,
   "metadata": {
    "Collapsed": "false"
   },
   "outputs": [],
   "source": [
    "import logging\n",
    "try:\n",
    "    data_plasma_filtered_log_imputed.to_csv(file.absolute())\n",
    "except PermissionError as e:\n",
    "    logging.warning(f\"No write permission to directory: {e}\")"
   ]
  },
  {
   "cell_type": "code",
   "execution_count": 30,
   "metadata": {
    "Collapsed": "false"
   },
   "outputs": [],
   "source": [
    "# data_plasma_filtered #hide"
   ]
  },
  {
   "cell_type": "code",
   "execution_count": 31,
   "metadata": {
    "Collapsed": "false"
   },
   "outputs": [],
   "source": [
    "qc_plasma = annotation_file_plasma[annotation_file_plasma['Group2'] == 'QC']['Sample ID']\n",
    "df_qc = data_plasma_filtered.copy()[qc_plasma]\n",
    "coef_of_variation = lambda x: np.std(x) / np.mean(x)\n",
    "proteins_cv = df_qc.apply(coef_of_variation, axis = 1)"
   ]
  },
  {
   "cell_type": "code",
   "execution_count": 32,
   "metadata": {
    "Collapsed": "false",
    "tags": []
   },
   "outputs": [
    {
     "name": "stdout",
     "output_type": "stream",
     "text": [
      "Selected proteins # 219 of a total of # 304!\n"
     ]
    }
   ],
   "source": [
    "CV_COEFFICIENT = 0.3\n",
    "cv_selected = proteins_cv < CV_COEFFICIENT\n",
    "print(f\"Selected proteins # {cv_selected.sum()} of a total of # {len(cv_selected)}!\")"
   ]
  },
  {
   "cell_type": "code",
   "execution_count": 33,
   "metadata": {
    "Collapsed": "false"
   },
   "outputs": [],
   "source": [
    "df_qc = df_qc.assign(cv = proteins_cv)\n",
    "qc_30 = df_qc[cv_selected].index\n",
    "\n",
    "df = data_plasma_filtered_log_imputed.copy()\n",
    "df = df.rename_axis('Sample ID', axis=1).T\n",
    "# filter proteins for CV < 30% of the inter-day/plate quality assessment \n",
    "df_30 = df[qc_30]\n",
    "data_proteomics = df_30"
   ]
  },
  {
   "cell_type": "code",
   "execution_count": 34,
   "metadata": {
    "Collapsed": "false"
   },
   "outputs": [],
   "source": [
    "PROTEOM  = 'data_ml_proteomics_cleaned.csv'\n",
    "\n",
    "data_proteomics.to_csv(os.path.join(DATAFOLDER, PROTEOM))\n",
    "# data_proteomics #hide"
   ]
  },
  {
   "cell_type": "code",
   "execution_count": 35,
   "metadata": {},
   "outputs": [
    {
     "name": "stdout",
     "output_type": "stream",
     "text": [
      "A maximum of 219 proteins in 599 samples can be used for proteomic models\n"
     ]
    }
   ],
   "source": [
    "print(\"A maximum of {1} proteins in {0} samples can be used for proteomic models\".format(*data_proteomics.shape))"
   ]
  },
  {
   "cell_type": "markdown",
   "metadata": {},
   "source": [
    "**Low intensities** below 8 (in log-scale)"
   ]
  },
  {
   "cell_type": "code",
   "execution_count": 36,
   "metadata": {
    "Collapsed": "false"
   },
   "outputs": [],
   "source": [
    "intensities_below_8 = data_proteomics[data_proteomics < 8].dropna(how='all').dropna(how='all', axis=1)\n",
    "# intensities_below_8 #hide"
   ]
  },
  {
   "cell_type": "code",
   "execution_count": 37,
   "metadata": {
    "Collapsed": "false"
   },
   "outputs": [],
   "source": [
    "# data_proteomics.loc[intensities_below_8.index, intensities_below_8.columns] #hide"
   ]
  },
  {
   "cell_type": "markdown",
   "metadata": {
    "Collapsed": "false"
   },
   "source": [
    "Data proteomics is the summary of the following processing steps:\n",
    "\n",
    "1. protein is selected if shared betw. 60% of samples\n",
    "2. sample is selected if it has at least 200 proteins\n",
    "3. log-transform\n",
    "4. imputation (imputation done per protein between runs)\n",
    "5. selection using CV < 0.3\n",
    "\n",
    "> Maybe create an automated report of the cutoffs."
   ]
  },
  {
   "cell_type": "code",
   "execution_count": 38,
   "metadata": {
    "tags": []
   },
   "outputs": [
    {
     "name": "stdout",
     "output_type": "stream",
     "text": [
      "Proportion protein has to be shared between samples: 0.6\n",
      "Minimum number of protein in single sample: 200\n",
      "Maximum coefficient of variation (CV) for protein intensities: 0.3\n",
      "Logarithm employed for transformation: <ufunc 'log2'>\n",
      "Imputation: Mean-Shift: 1.8\n",
      "Imputation: Std-Dev. shrinkage: 0.3\n"
     ]
    }
   ],
   "source": [
    "summary_protein_preprocessing = [(\"Proportion protein has to be shared between samples\" , DATA_COMPLETENESS),\n",
    "                                 (\"Minimum number of protein in single sample\", MIN_N_PROTEIN_GROUPS),\n",
    "                                 (\"Maximum coefficient of variation (CV) for protein intensities\", CV_COEFFICIENT),\n",
    "                                 (\"Logarithm employed for transformation\", NP_LOG_FCT),\n",
    "                                 (\"Imputation: Mean-Shift\", IMPUTATION_MEAN_SHIFT), \n",
    "                                 (\"Imputation: Std-Dev. shrinkage\", IMPUTATION_STD_SHRINKAGE)\n",
    "                                ]\n",
    "\n",
    "for descr, value in summary_protein_preprocessing:\n",
    "    print('{}: {}'.format(descr, value))"
   ]
  },
  {
   "cell_type": "markdown",
   "metadata": {
    "Collapsed": "false"
   },
   "source": [
    "### Load Protein GeneID Mapping\n",
    "\n",
    "- UniProtID to Gene name mapping\n",
    "- the assigned protein groups are mapped to mainly one, sometimes two genes -> Global Identifiers?!\n"
   ]
  },
  {
   "cell_type": "code",
   "execution_count": 39,
   "metadata": {
    "Collapsed": "false"
   },
   "outputs": [
    {
     "data": {
      "text/html": [
       "<div>\n",
       "<style scoped>\n",
       "    .dataframe tbody tr th:only-of-type {\n",
       "        vertical-align: middle;\n",
       "    }\n",
       "\n",
       "    .dataframe tbody tr th {\n",
       "        vertical-align: top;\n",
       "    }\n",
       "\n",
       "    .dataframe thead th {\n",
       "        text-align: right;\n",
       "    }\n",
       "</style>\n",
       "<table border=\"1\" class=\"dataframe\">\n",
       "  <thead>\n",
       "    <tr style=\"text-align: right;\">\n",
       "      <th></th>\n",
       "      <th>Gene names</th>\n",
       "    </tr>\n",
       "    <tr>\n",
       "      <th>Protein ID</th>\n",
       "      <th></th>\n",
       "    </tr>\n",
       "  </thead>\n",
       "  <tbody>\n",
       "    <tr>\n",
       "      <th>A0A024R6I7</th>\n",
       "      <td>SERPINA1</td>\n",
       "    </tr>\n",
       "    <tr>\n",
       "      <th>A0A075B6I0</th>\n",
       "      <td>IGLV8-61</td>\n",
       "    </tr>\n",
       "    <tr>\n",
       "      <th>A0A075B6J9</th>\n",
       "      <td>IGLV2-18</td>\n",
       "    </tr>\n",
       "    <tr>\n",
       "      <th>A0A075B6R9</th>\n",
       "      <td>IGKV2D-24</td>\n",
       "    </tr>\n",
       "    <tr>\n",
       "      <th>A0A075B6S2</th>\n",
       "      <td>IGKV2D-29</td>\n",
       "    </tr>\n",
       "  </tbody>\n",
       "</table>\n",
       "</div>"
      ],
      "text/plain": [
       "           Gene names\n",
       "Protein ID           \n",
       "A0A024R6I7   SERPINA1\n",
       "A0A075B6I0   IGLV8-61\n",
       "A0A075B6J9   IGLV2-18\n",
       "A0A075B6R9  IGKV2D-24\n",
       "A0A075B6S2  IGKV2D-29"
      ]
     },
     "execution_count": 39,
     "metadata": {},
     "output_type": "execute_result"
    }
   ],
   "source": [
    "key_ProteinID = pd.read_csv(os.path.join(FOLDER_DATA_RAW, 'ID_matching_key.csv'), \n",
    "                            index_col=\"Protein ID\").drop(\"Unnamed: 0\", axis=1)\n",
    "key_ProteinID.head()"
   ]
  },
  {
   "cell_type": "code",
   "execution_count": 40,
   "metadata": {
    "Collapsed": "false"
   },
   "outputs": [
    {
     "data": {
      "text/plain": [
       "Gene names    IGKV2D-24\n",
       "Name: A0A075B6R9, dtype: object"
      ]
     },
     "execution_count": 40,
     "metadata": {},
     "output_type": "execute_result"
    }
   ],
   "source": [
    "key_ProteinID.loc['A0A075B6R9']"
   ]
  },
  {
   "cell_type": "markdown",
   "metadata": {},
   "source": [
    "Note that there are possibly alternative protein names, which are mapped to the same gene."
   ]
  },
  {
   "cell_type": "code",
   "execution_count": 41,
   "metadata": {},
   "outputs": [
    {
     "data": {
      "text/html": [
       "<div>\n",
       "<style scoped>\n",
       "    .dataframe tbody tr th:only-of-type {\n",
       "        vertical-align: middle;\n",
       "    }\n",
       "\n",
       "    .dataframe tbody tr th {\n",
       "        vertical-align: top;\n",
       "    }\n",
       "\n",
       "    .dataframe thead th {\n",
       "        text-align: right;\n",
       "    }\n",
       "</style>\n",
       "<table border=\"1\" class=\"dataframe\">\n",
       "  <thead>\n",
       "    <tr style=\"text-align: right;\">\n",
       "      <th></th>\n",
       "      <th>Protein ID</th>\n",
       "      <th>Gene names</th>\n",
       "    </tr>\n",
       "  </thead>\n",
       "  <tbody>\n",
       "    <tr>\n",
       "      <th>0</th>\n",
       "      <td>[A0A024R6I7]</td>\n",
       "      <td>[SERPINA1]</td>\n",
       "    </tr>\n",
       "    <tr>\n",
       "      <th>1</th>\n",
       "      <td>[A0A075B6I0]</td>\n",
       "      <td>[IGLV8-61]</td>\n",
       "    </tr>\n",
       "    <tr>\n",
       "      <th>2</th>\n",
       "      <td>[A0A075B6J9]</td>\n",
       "      <td>[IGLV2-18]</td>\n",
       "    </tr>\n",
       "    <tr>\n",
       "      <th>3</th>\n",
       "      <td>[A0A075B6R9, A0A0C4DH68]</td>\n",
       "      <td>[IGKV2D-24, IGKV2-24]</td>\n",
       "    </tr>\n",
       "    <tr>\n",
       "      <th>4</th>\n",
       "      <td>[A0A075B6S2, A2NJV5]</td>\n",
       "      <td>[IGKV2D-29, IGKV2-29]</td>\n",
       "    </tr>\n",
       "  </tbody>\n",
       "</table>\n",
       "</div>"
      ],
      "text/plain": [
       "                 Protein ID             Gene names\n",
       "0              [A0A024R6I7]             [SERPINA1]\n",
       "1              [A0A075B6I0]             [IGLV8-61]\n",
       "2              [A0A075B6J9]             [IGLV2-18]\n",
       "3  [A0A075B6R9, A0A0C4DH68]  [IGKV2D-24, IGKV2-24]\n",
       "4      [A0A075B6S2, A2NJV5]  [IGKV2D-29, IGKV2-29]"
      ]
     },
     "execution_count": 41,
     "metadata": {},
     "output_type": "execute_result"
    }
   ],
   "source": [
    "ids_.head()"
   ]
  },
  {
   "cell_type": "code",
   "execution_count": 42,
   "metadata": {},
   "outputs": [],
   "source": [
    "assert len(key_ProteinID) == len(ids_), \"Both references should match at least in the number of proteins. \""
   ]
  },
  {
   "cell_type": "markdown",
   "metadata": {
    "Collapsed": "false"
   },
   "source": [
    "## Clinical data\n",
    "### Load Complete clinical data"
   ]
  },
  {
   "cell_type": "code",
   "execution_count": 43,
   "metadata": {
    "Collapsed": "false"
   },
   "outputs": [],
   "source": [
    "CLINICAL = 'df_cli_164.csv'\n",
    "COL_ID = 'Sample ID'"
   ]
  },
  {
   "cell_type": "code",
   "execution_count": 44,
   "metadata": {
    "Collapsed": "false"
   },
   "outputs": [],
   "source": [
    "CLINICAL = 'df_cli_164.csv'\n",
    "COL_ID = 'Sample ID'\n",
    "\n",
    "f_data_clinic = os.path.join(FOLDER_DATA_RAW, CLINICAL)\n",
    "data_cli = pd.read_csv(f_data_clinic, index_col=COL_ID)\n",
    "data_cli = data_cli[data_cli['kleiner']!=0.5]\n",
    "# data_cli #hide"
   ]
  },
  {
   "cell_type": "code",
   "execution_count": 45,
   "metadata": {
    "Collapsed": "false"
   },
   "outputs": [
    {
     "name": "stdout",
     "output_type": "stream",
     "text": [
      "Select clinical markers\n"
     ]
    },
    {
     "data": {
      "application/vnd.jupyter.widget-view+json": {
       "model_id": "99b505733e1f40b98f208d2378a0a431",
       "version_major": 2,
       "version_minor": 0
      },
      "text/plain": [
       "VBox(children=(SelectMultiple(options=('age', 'kleiner', 'cpa', 'nas', 'nas_inflam', 'nas_portinflam', 'nas_lo…"
      ]
     },
     "metadata": {},
     "output_type": "display_data"
    }
   ],
   "source": [
    "w_cols_cli = widgets.SelectMultiple(options=list(data_cli.columns))\n",
    "\n",
    "def show_selected_markers(columns):\n",
    "    if len(columns)> 0:\n",
    "        display(data_cli[list(w_cols_cli.value)])\n",
    "        display(data_cli[list(w_cols_cli.value)].describe())\n",
    "    else:\n",
    "        print('Select clinical markers')\n",
    "\n",
    "out_cli = widgets.interactive_output(show_selected_markers, {'columns': w_cols_cli})\n",
    "widgets.VBox([w_cols_cli, out_cli])"
   ]
  },
  {
   "cell_type": "markdown",
   "metadata": {
    "Collapsed": "false"
   },
   "source": [
    "### Selected Clinical markers\n",
    "\n",
    "Diagnostic comparators (existing best-in-class) biomarkers\n",
    "- state-of-the-art (**SOTA**) Fibrosis markers: \n",
    "    - `te`: transient elastography (sona liver scan)\n",
    "    - `swe`: 2-dimensional shear wave elastography\n",
    "    - `elf`: ELF test\n",
    "    - `ft`: FibroTest\n",
    "    - `fib4`: FIB4 score\n",
    "    - `apri`: APRI score\n",
    "    - `forns`: Forns score\n",
    "    - `p3np`: ProC3\n",
    "- Inflammation markers:\n",
    "    - M30=caspase-cleaved cytokeratin-18 fragments\n",
    "    - M65=total CK18\n",
    "    - AST:ALT ratio\n",
    "    - ProC3\n",
    "- Steatosis: Controlled attenuation parameter"
   ]
  },
  {
   "cell_type": "code",
   "execution_count": 46,
   "metadata": {
    "Collapsed": "false"
   },
   "outputs": [
    {
     "data": {
      "text/html": [
       "<div>\n",
       "<style scoped>\n",
       "    .dataframe tbody tr th:only-of-type {\n",
       "        vertical-align: middle;\n",
       "    }\n",
       "\n",
       "    .dataframe tbody tr th {\n",
       "        vertical-align: top;\n",
       "    }\n",
       "\n",
       "    .dataframe thead th {\n",
       "        text-align: right;\n",
       "    }\n",
       "</style>\n",
       "<table border=\"1\" class=\"dataframe\">\n",
       "  <thead>\n",
       "    <tr style=\"text-align: right;\">\n",
       "      <th></th>\n",
       "      <th>elf</th>\n",
       "      <th>ft</th>\n",
       "      <th>fib4</th>\n",
       "      <th>apri</th>\n",
       "      <th>forns</th>\n",
       "      <th>p3np</th>\n",
       "    </tr>\n",
       "    <tr>\n",
       "      <th>kleiner</th>\n",
       "      <th></th>\n",
       "      <th></th>\n",
       "      <th></th>\n",
       "      <th></th>\n",
       "      <th></th>\n",
       "      <th></th>\n",
       "    </tr>\n",
       "  </thead>\n",
       "  <tbody>\n",
       "    <tr>\n",
       "      <th>0.0</th>\n",
       "      <td>35</td>\n",
       "      <td>33</td>\n",
       "      <td>36</td>\n",
       "      <td>36</td>\n",
       "      <td>36</td>\n",
       "      <td>35</td>\n",
       "    </tr>\n",
       "    <tr>\n",
       "      <th>1.0</th>\n",
       "      <td>120</td>\n",
       "      <td>93</td>\n",
       "      <td>120</td>\n",
       "      <td>121</td>\n",
       "      <td>123</td>\n",
       "      <td>113</td>\n",
       "    </tr>\n",
       "    <tr>\n",
       "      <th>2.0</th>\n",
       "      <td>104</td>\n",
       "      <td>76</td>\n",
       "      <td>104</td>\n",
       "      <td>104</td>\n",
       "      <td>103</td>\n",
       "      <td>95</td>\n",
       "    </tr>\n",
       "    <tr>\n",
       "      <th>3.0</th>\n",
       "      <td>27</td>\n",
       "      <td>17</td>\n",
       "      <td>26</td>\n",
       "      <td>26</td>\n",
       "      <td>27</td>\n",
       "      <td>22</td>\n",
       "    </tr>\n",
       "    <tr>\n",
       "      <th>4.0</th>\n",
       "      <td>63</td>\n",
       "      <td>49</td>\n",
       "      <td>66</td>\n",
       "      <td>66</td>\n",
       "      <td>67</td>\n",
       "      <td>54</td>\n",
       "    </tr>\n",
       "  </tbody>\n",
       "</table>\n",
       "</div>"
      ],
      "text/plain": [
       "         elf  ft  fib4  apri  forns  p3np\n",
       "kleiner                                  \n",
       "0.0       35  33    36    36     36    35\n",
       "1.0      120  93   120   121    123   113\n",
       "2.0      104  76   104   104    103    95\n",
       "3.0       27  17    26    26     27    22\n",
       "4.0       63  49    66    66     67    54"
      ]
     },
     "execution_count": 46,
     "metadata": {},
     "output_type": "execute_result"
    }
   ],
   "source": [
    "#SOTA_fibrosis = ['te', 'swe', 'elf', 'ft', 'fib4', 'apri', 'forns', 'p3np']\n",
    "SOTA_fibrosis = ['elf', 'ft', 'fib4', 'apri', 'forns', 'p3np']\n",
    "data_cli.groupby('kleiner')[SOTA_fibrosis].count()"
   ]
  },
  {
   "cell_type": "code",
   "execution_count": 47,
   "metadata": {
    "Collapsed": "false"
   },
   "outputs": [],
   "source": [
    "pd.set_option('max_columns', 20)\n",
    "FEATURES_ML = ['nas_steatosis_ordinal', 'nas_inflam', 'kleiner', \n",
    "          'fib4', 'elf', 'ft', 'te', 'swe', 'aar','ast',\n",
    "          'apri','forns','m30', 'm65', 'meld', 'p3np', 'timp1', 'cap' ]\n",
    "# data_cli[FEATURES_ML].head() #hide"
   ]
  },
  {
   "cell_type": "code",
   "execution_count": 48,
   "metadata": {
    "Collapsed": "false"
   },
   "outputs": [
    {
     "data": {
      "text/html": [
       "<div>\n",
       "<style scoped>\n",
       "    .dataframe tbody tr th:only-of-type {\n",
       "        vertical-align: middle;\n",
       "    }\n",
       "\n",
       "    .dataframe tbody tr th {\n",
       "        vertical-align: top;\n",
       "    }\n",
       "\n",
       "    .dataframe thead th {\n",
       "        text-align: right;\n",
       "    }\n",
       "</style>\n",
       "<table border=\"1\" class=\"dataframe\">\n",
       "  <thead>\n",
       "    <tr style=\"text-align: right;\">\n",
       "      <th></th>\n",
       "      <th>nas_steatosis_ordinal</th>\n",
       "      <th>nas_inflam</th>\n",
       "      <th>kleiner</th>\n",
       "      <th>fib4</th>\n",
       "      <th>elf</th>\n",
       "      <th>ft</th>\n",
       "      <th>te</th>\n",
       "      <th>swe</th>\n",
       "      <th>aar</th>\n",
       "      <th>ast</th>\n",
       "      <th>apri</th>\n",
       "      <th>forns</th>\n",
       "      <th>m30</th>\n",
       "      <th>m65</th>\n",
       "      <th>meld</th>\n",
       "      <th>p3np</th>\n",
       "      <th>timp1</th>\n",
       "      <th>cap</th>\n",
       "    </tr>\n",
       "    <tr>\n",
       "      <th>group2</th>\n",
       "      <th></th>\n",
       "      <th></th>\n",
       "      <th></th>\n",
       "      <th></th>\n",
       "      <th></th>\n",
       "      <th></th>\n",
       "      <th></th>\n",
       "      <th></th>\n",
       "      <th></th>\n",
       "      <th></th>\n",
       "      <th></th>\n",
       "      <th></th>\n",
       "      <th></th>\n",
       "      <th></th>\n",
       "      <th></th>\n",
       "      <th></th>\n",
       "      <th></th>\n",
       "      <th></th>\n",
       "    </tr>\n",
       "  </thead>\n",
       "  <tbody>\n",
       "    <tr>\n",
       "      <th>ALD</th>\n",
       "      <td>352</td>\n",
       "      <td>352</td>\n",
       "      <td>360</td>\n",
       "      <td>353</td>\n",
       "      <td>350</td>\n",
       "      <td>268</td>\n",
       "      <td>342</td>\n",
       "      <td>332</td>\n",
       "      <td>353</td>\n",
       "      <td>354</td>\n",
       "      <td>354</td>\n",
       "      <td>357</td>\n",
       "      <td>268</td>\n",
       "      <td>266</td>\n",
       "      <td>360</td>\n",
       "      <td>320</td>\n",
       "      <td>320</td>\n",
       "      <td>206</td>\n",
       "    </tr>\n",
       "    <tr>\n",
       "      <th>HP</th>\n",
       "      <td>0</td>\n",
       "      <td>0</td>\n",
       "      <td>0</td>\n",
       "      <td>0</td>\n",
       "      <td>0</td>\n",
       "      <td>0</td>\n",
       "      <td>136</td>\n",
       "      <td>136</td>\n",
       "      <td>0</td>\n",
       "      <td>119</td>\n",
       "      <td>0</td>\n",
       "      <td>0</td>\n",
       "      <td>0</td>\n",
       "      <td>0</td>\n",
       "      <td>136</td>\n",
       "      <td>0</td>\n",
       "      <td>0</td>\n",
       "      <td>133</td>\n",
       "    </tr>\n",
       "  </tbody>\n",
       "</table>\n",
       "</div>"
      ],
      "text/plain": [
       "        nas_steatosis_ordinal  nas_inflam  kleiner  fib4  elf   ft   te  swe  \\\n",
       "group2                                                                         \n",
       "ALD                       352         352      360   353  350  268  342  332   \n",
       "HP                          0           0        0     0    0    0  136  136   \n",
       "\n",
       "        aar  ast  apri  forns  m30  m65  meld  p3np  timp1  cap  \n",
       "group2                                                           \n",
       "ALD     353  354   354    357  268  266   360   320    320  206  \n",
       "HP        0  119     0      0    0    0   136     0      0  133  "
      ]
     },
     "execution_count": 48,
     "metadata": {},
     "output_type": "execute_result"
    }
   ],
   "source": [
    "data_cli.groupby('group2')[FEATURES_ML].count()"
   ]
  },
  {
   "cell_type": "code",
   "execution_count": 49,
   "metadata": {
    "Collapsed": "false"
   },
   "outputs": [
    {
     "data": {
      "text/html": [
       "<div>\n",
       "<style scoped>\n",
       "    .dataframe tbody tr th:only-of-type {\n",
       "        vertical-align: middle;\n",
       "    }\n",
       "\n",
       "    .dataframe tbody tr th {\n",
       "        vertical-align: top;\n",
       "    }\n",
       "\n",
       "    .dataframe thead th {\n",
       "        text-align: right;\n",
       "    }\n",
       "</style>\n",
       "<table border=\"1\" class=\"dataframe\">\n",
       "  <thead>\n",
       "    <tr style=\"text-align: right;\">\n",
       "      <th></th>\n",
       "      <th>te</th>\n",
       "      <th>swe</th>\n",
       "      <th>elf</th>\n",
       "      <th>ft</th>\n",
       "      <th>fib4</th>\n",
       "      <th>apri</th>\n",
       "      <th>forns</th>\n",
       "      <th>p3np</th>\n",
       "    </tr>\n",
       "    <tr>\n",
       "      <th>kleiner</th>\n",
       "      <th></th>\n",
       "      <th></th>\n",
       "      <th></th>\n",
       "      <th></th>\n",
       "      <th></th>\n",
       "      <th></th>\n",
       "      <th></th>\n",
       "      <th></th>\n",
       "    </tr>\n",
       "  </thead>\n",
       "  <tbody>\n",
       "    <tr>\n",
       "      <th>0.0</th>\n",
       "      <td>4.40</td>\n",
       "      <td>5.750000</td>\n",
       "      <td>8.30</td>\n",
       "      <td>0.10</td>\n",
       "      <td>1.070</td>\n",
       "      <td>0.270</td>\n",
       "      <td>3.775</td>\n",
       "      <td>7.2</td>\n",
       "    </tr>\n",
       "    <tr>\n",
       "      <th>1.0</th>\n",
       "      <td>6.00</td>\n",
       "      <td>6.700000</td>\n",
       "      <td>8.80</td>\n",
       "      <td>0.12</td>\n",
       "      <td>1.195</td>\n",
       "      <td>0.270</td>\n",
       "      <td>4.470</td>\n",
       "      <td>7.2</td>\n",
       "    </tr>\n",
       "    <tr>\n",
       "      <th>2.0</th>\n",
       "      <td>9.00</td>\n",
       "      <td>9.300000</td>\n",
       "      <td>9.55</td>\n",
       "      <td>0.34</td>\n",
       "      <td>1.655</td>\n",
       "      <td>0.440</td>\n",
       "      <td>5.820</td>\n",
       "      <td>9.9</td>\n",
       "    </tr>\n",
       "    <tr>\n",
       "      <th>3.0</th>\n",
       "      <td>21.60</td>\n",
       "      <td>16.900000</td>\n",
       "      <td>10.60</td>\n",
       "      <td>0.63</td>\n",
       "      <td>2.080</td>\n",
       "      <td>0.485</td>\n",
       "      <td>7.020</td>\n",
       "      <td>13.3</td>\n",
       "    </tr>\n",
       "    <tr>\n",
       "      <th>4.0</th>\n",
       "      <td>40.75</td>\n",
       "      <td>28.400001</td>\n",
       "      <td>11.80</td>\n",
       "      <td>0.78</td>\n",
       "      <td>4.000</td>\n",
       "      <td>0.860</td>\n",
       "      <td>8.150</td>\n",
       "      <td>22.4</td>\n",
       "    </tr>\n",
       "  </tbody>\n",
       "</table>\n",
       "</div>"
      ],
      "text/plain": [
       "            te        swe    elf    ft   fib4   apri  forns  p3np\n",
       "kleiner                                                          \n",
       "0.0       4.40   5.750000   8.30  0.10  1.070  0.270  3.775   7.2\n",
       "1.0       6.00   6.700000   8.80  0.12  1.195  0.270  4.470   7.2\n",
       "2.0       9.00   9.300000   9.55  0.34  1.655  0.440  5.820   9.9\n",
       "3.0      21.60  16.900000  10.60  0.63  2.080  0.485  7.020  13.3\n",
       "4.0      40.75  28.400001  11.80  0.78  4.000  0.860  8.150  22.4"
      ]
     },
     "execution_count": 49,
     "metadata": {},
     "output_type": "execute_result"
    }
   ],
   "source": [
    "SOTA_fibrosis = ['te', 'swe', 'elf', 'ft', 'fib4', 'apri', 'forns', 'p3np']\n",
    "data_cli.groupby('kleiner')[SOTA_fibrosis].median()"
   ]
  },
  {
   "cell_type": "markdown",
   "metadata": {},
   "source": [
    "### Selected Demographics"
   ]
  },
  {
   "cell_type": "code",
   "execution_count": 50,
   "metadata": {},
   "outputs": [
    {
     "data": {
      "text/html": [
       "<div>\n",
       "<style scoped>\n",
       "    .dataframe tbody tr th:only-of-type {\n",
       "        vertical-align: middle;\n",
       "    }\n",
       "\n",
       "    .dataframe tbody tr th {\n",
       "        vertical-align: top;\n",
       "    }\n",
       "\n",
       "    .dataframe thead th {\n",
       "        text-align: right;\n",
       "    }\n",
       "</style>\n",
       "<table border=\"1\" class=\"dataframe\">\n",
       "  <thead>\n",
       "    <tr style=\"text-align: right;\">\n",
       "      <th></th>\n",
       "      <th>age</th>\n",
       "      <th>bmi</th>\n",
       "      <th>gender_num</th>\n",
       "    </tr>\n",
       "  </thead>\n",
       "  <tbody>\n",
       "    <tr>\n",
       "      <th>count</th>\n",
       "      <td>497.000000</td>\n",
       "      <td>487.000000</td>\n",
       "      <td>497.000000</td>\n",
       "    </tr>\n",
       "    <tr>\n",
       "      <th>mean</th>\n",
       "      <td>54.953722</td>\n",
       "      <td>27.194539</td>\n",
       "      <td>0.726358</td>\n",
       "    </tr>\n",
       "    <tr>\n",
       "      <th>std</th>\n",
       "      <td>10.433153</td>\n",
       "      <td>5.180561</td>\n",
       "      <td>0.446277</td>\n",
       "    </tr>\n",
       "    <tr>\n",
       "      <th>min</th>\n",
       "      <td>19.000000</td>\n",
       "      <td>13.737373</td>\n",
       "      <td>0.000000</td>\n",
       "    </tr>\n",
       "    <tr>\n",
       "      <th>25%</th>\n",
       "      <td>48.000000</td>\n",
       "      <td>23.849999</td>\n",
       "      <td>0.000000</td>\n",
       "    </tr>\n",
       "    <tr>\n",
       "      <th>50%</th>\n",
       "      <td>56.000000</td>\n",
       "      <td>26.799999</td>\n",
       "      <td>1.000000</td>\n",
       "    </tr>\n",
       "    <tr>\n",
       "      <th>75%</th>\n",
       "      <td>62.000000</td>\n",
       "      <td>30.286856</td>\n",
       "      <td>1.000000</td>\n",
       "    </tr>\n",
       "    <tr>\n",
       "      <th>max</th>\n",
       "      <td>75.000000</td>\n",
       "      <td>52.099998</td>\n",
       "      <td>1.000000</td>\n",
       "    </tr>\n",
       "  </tbody>\n",
       "</table>\n",
       "</div>"
      ],
      "text/plain": [
       "              age         bmi  gender_num\n",
       "count  497.000000  487.000000  497.000000\n",
       "mean    54.953722   27.194539    0.726358\n",
       "std     10.433153    5.180561    0.446277\n",
       "min     19.000000   13.737373    0.000000\n",
       "25%     48.000000   23.849999    0.000000\n",
       "50%     56.000000   26.799999    1.000000\n",
       "75%     62.000000   30.286856    1.000000\n",
       "max     75.000000   52.099998    1.000000"
      ]
     },
     "execution_count": 50,
     "metadata": {},
     "output_type": "execute_result"
    }
   ],
   "source": [
    "demographics = data_cli[['age', 'bmi', 'gender_num']] # 1 is male\n",
    "demographics.describe()"
   ]
  },
  {
   "cell_type": "code",
   "execution_count": 51,
   "metadata": {},
   "outputs": [
    {
     "data": {
      "text/html": [
       "<div>\n",
       "<style scoped>\n",
       "    .dataframe tbody tr th:only-of-type {\n",
       "        vertical-align: middle;\n",
       "    }\n",
       "\n",
       "    .dataframe tbody tr th {\n",
       "        vertical-align: top;\n",
       "    }\n",
       "\n",
       "    .dataframe thead th {\n",
       "        text-align: right;\n",
       "    }\n",
       "</style>\n",
       "<table border=\"1\" class=\"dataframe\">\n",
       "  <thead>\n",
       "    <tr style=\"text-align: right;\">\n",
       "      <th></th>\n",
       "      <th>age</th>\n",
       "      <th>gender_num</th>\n",
       "    </tr>\n",
       "    <tr>\n",
       "      <th>Sample ID</th>\n",
       "      <th></th>\n",
       "      <th></th>\n",
       "    </tr>\n",
       "  </thead>\n",
       "  <tbody>\n",
       "    <tr>\n",
       "      <th>Plate6_G11</th>\n",
       "      <td>64</td>\n",
       "      <td>1</td>\n",
       "    </tr>\n",
       "    <tr>\n",
       "      <th>Plate1_F7</th>\n",
       "      <td>74</td>\n",
       "      <td>1</td>\n",
       "    </tr>\n",
       "    <tr>\n",
       "      <th>Plate6_D2</th>\n",
       "      <td>71</td>\n",
       "      <td>1</td>\n",
       "    </tr>\n",
       "    <tr>\n",
       "      <th>Plate6_C5</th>\n",
       "      <td>53</td>\n",
       "      <td>1</td>\n",
       "    </tr>\n",
       "    <tr>\n",
       "      <th>Plate4_F8</th>\n",
       "      <td>63</td>\n",
       "      <td>1</td>\n",
       "    </tr>\n",
       "  </tbody>\n",
       "</table>\n",
       "</div>"
      ],
      "text/plain": [
       "            age  gender_num\n",
       "Sample ID                  \n",
       "Plate6_G11   64           1\n",
       "Plate1_F7    74           1\n",
       "Plate6_D2    71           1\n",
       "Plate6_C5    53           1\n",
       "Plate4_F8    63           1"
      ]
     },
     "execution_count": 51,
     "metadata": {},
     "output_type": "execute_result"
    }
   ],
   "source": [
    "SELECTED_DEMOGRAPHICS = ['age', 'gender_num']\n",
    "data_cli[SELECTED_DEMOGRAPHICS].head()"
   ]
  },
  {
   "cell_type": "markdown",
   "metadata": {
    "Collapsed": "false"
   },
   "source": [
    "### Targets"
   ]
  },
  {
   "cell_type": "code",
   "execution_count": 52,
   "metadata": {
    "Collapsed": "false"
   },
   "outputs": [],
   "source": [
    "fibrosis_score = data_cli.kleiner\n",
    "inflamation_score = data_cli.nas_inflam\n",
    "steatosis_score = data_cli.nas_steatosis_ordinal"
   ]
  },
  {
   "cell_type": "code",
   "execution_count": 53,
   "metadata": {
    "Collapsed": "false"
   },
   "outputs": [
    {
     "data": {
      "text/html": [
       "<div>\n",
       "<style scoped>\n",
       "    .dataframe tbody tr th:only-of-type {\n",
       "        vertical-align: middle;\n",
       "    }\n",
       "\n",
       "    .dataframe tbody tr th {\n",
       "        vertical-align: top;\n",
       "    }\n",
       "\n",
       "    .dataframe thead th {\n",
       "        text-align: right;\n",
       "    }\n",
       "</style>\n",
       "<table border=\"1\" class=\"dataframe\">\n",
       "  <thead>\n",
       "    <tr style=\"text-align: right;\">\n",
       "      <th></th>\n",
       "      <th>kleiner</th>\n",
       "      <th>nas_steatosis_ordinal</th>\n",
       "      <th>nas_inflam</th>\n",
       "    </tr>\n",
       "  </thead>\n",
       "  <tbody>\n",
       "    <tr>\n",
       "      <th>count</th>\n",
       "      <td>360.000000</td>\n",
       "      <td>352.000000</td>\n",
       "      <td>352.000000</td>\n",
       "    </tr>\n",
       "    <tr>\n",
       "      <th>mean</th>\n",
       "      <td>1.902778</td>\n",
       "      <td>0.982955</td>\n",
       "      <td>1.855114</td>\n",
       "    </tr>\n",
       "    <tr>\n",
       "      <th>std</th>\n",
       "      <td>1.248506</td>\n",
       "      <td>1.045813</td>\n",
       "      <td>1.467221</td>\n",
       "    </tr>\n",
       "    <tr>\n",
       "      <th>min</th>\n",
       "      <td>0.000000</td>\n",
       "      <td>0.000000</td>\n",
       "      <td>0.000000</td>\n",
       "    </tr>\n",
       "    <tr>\n",
       "      <th>25%</th>\n",
       "      <td>1.000000</td>\n",
       "      <td>0.000000</td>\n",
       "      <td>1.000000</td>\n",
       "    </tr>\n",
       "    <tr>\n",
       "      <th>50%</th>\n",
       "      <td>2.000000</td>\n",
       "      <td>1.000000</td>\n",
       "      <td>2.000000</td>\n",
       "    </tr>\n",
       "    <tr>\n",
       "      <th>75%</th>\n",
       "      <td>3.000000</td>\n",
       "      <td>2.000000</td>\n",
       "      <td>3.000000</td>\n",
       "    </tr>\n",
       "    <tr>\n",
       "      <th>max</th>\n",
       "      <td>4.000000</td>\n",
       "      <td>3.000000</td>\n",
       "      <td>5.000000</td>\n",
       "    </tr>\n",
       "  </tbody>\n",
       "</table>\n",
       "</div>"
      ],
      "text/plain": [
       "          kleiner  nas_steatosis_ordinal  nas_inflam\n",
       "count  360.000000             352.000000  352.000000\n",
       "mean     1.902778               0.982955    1.855114\n",
       "std      1.248506               1.045813    1.467221\n",
       "min      0.000000               0.000000    0.000000\n",
       "25%      1.000000               0.000000    1.000000\n",
       "50%      2.000000               1.000000    2.000000\n",
       "75%      3.000000               2.000000    3.000000\n",
       "max      4.000000               3.000000    5.000000"
      ]
     },
     "execution_count": 53,
     "metadata": {},
     "output_type": "execute_result"
    }
   ],
   "source": [
    "TARGETS = ['kleiner', 'nas_steatosis_ordinal', 'nas_inflam']\n",
    "Y = data_cli[TARGETS]\n",
    "Y.describe()"
   ]
  },
  {
   "cell_type": "code",
   "execution_count": 54,
   "metadata": {},
   "outputs": [
    {
     "data": {
      "text/html": [
       "<div>\n",
       "<style scoped>\n",
       "    .dataframe tbody tr th:only-of-type {\n",
       "        vertical-align: middle;\n",
       "    }\n",
       "\n",
       "    .dataframe tbody tr th {\n",
       "        vertical-align: top;\n",
       "    }\n",
       "\n",
       "    .dataframe thead th {\n",
       "        text-align: right;\n",
       "    }\n",
       "</style>\n",
       "<table border=\"1\" class=\"dataframe\">\n",
       "  <thead>\n",
       "    <tr style=\"text-align: right;\">\n",
       "      <th></th>\n",
       "      <th>kleiner</th>\n",
       "      <th>nas_steatosis_ordinal</th>\n",
       "      <th>nas_inflam</th>\n",
       "    </tr>\n",
       "  </thead>\n",
       "  <tbody>\n",
       "    <tr>\n",
       "      <th>0.0</th>\n",
       "      <td>36.0</td>\n",
       "      <td>156.0</td>\n",
       "      <td>72.0</td>\n",
       "    </tr>\n",
       "    <tr>\n",
       "      <th>1.0</th>\n",
       "      <td>124.0</td>\n",
       "      <td>85.0</td>\n",
       "      <td>91.0</td>\n",
       "    </tr>\n",
       "    <tr>\n",
       "      <th>2.0</th>\n",
       "      <td>106.0</td>\n",
       "      <td>72.0</td>\n",
       "      <td>82.0</td>\n",
       "    </tr>\n",
       "    <tr>\n",
       "      <th>3.0</th>\n",
       "      <td>27.0</td>\n",
       "      <td>39.0</td>\n",
       "      <td>53.0</td>\n",
       "    </tr>\n",
       "    <tr>\n",
       "      <th>4.0</th>\n",
       "      <td>67.0</td>\n",
       "      <td>NaN</td>\n",
       "      <td>31.0</td>\n",
       "    </tr>\n",
       "    <tr>\n",
       "      <th>5.0</th>\n",
       "      <td>NaN</td>\n",
       "      <td>NaN</td>\n",
       "      <td>23.0</td>\n",
       "    </tr>\n",
       "    <tr>\n",
       "      <th>Total</th>\n",
       "      <td>360.0</td>\n",
       "      <td>352.0</td>\n",
       "      <td>352.0</td>\n",
       "    </tr>\n",
       "  </tbody>\n",
       "</table>\n",
       "</div>"
      ],
      "text/plain": [
       "       kleiner  nas_steatosis_ordinal  nas_inflam\n",
       "0.0       36.0                  156.0        72.0\n",
       "1.0      124.0                   85.0        91.0\n",
       "2.0      106.0                   72.0        82.0\n",
       "3.0       27.0                   39.0        53.0\n",
       "4.0       67.0                    NaN        31.0\n",
       "5.0        NaN                    NaN        23.0\n",
       "Total    360.0                  352.0       352.0"
      ]
     },
     "execution_count": 54,
     "metadata": {},
     "output_type": "execute_result"
    }
   ],
   "source": [
    "from src.pandas import combine_value_counts\n",
    "#combcombine_value_counts??\n",
    "\n",
    "freq_targets = combine_value_counts(Y)\n",
    "freq_targets.loc['Total',:] = freq_targets.sum()\n",
    "freq_targets.to_excel(os.path.join(TABLEFOLDER, 'freq_endpoints_unique_values.xlsx'))\n",
    "freq_targets"
   ]
  },
  {
   "cell_type": "markdown",
   "metadata": {
    "Collapsed": "false"
   },
   "source": [
    "Several binary features can be created.\n",
    "\n",
    "target      | Scale   | unique values              | Binarization                 |  N samples\n",
    "-----       | --------| ---------------            | -------------------------    |  ---------\n",
    "fibrosis    | five    | F0, F1, F2, F3, F4         | (F0,F1) vs (F2, F3, F4)      |  360\n",
    "fibrosis    | five    | F0, F1, F2, F3, F4         | (F0,F1,F2) vs (F3, F4)       |  360\n",
    "inflamation | seven   | I0, I1, I2, I3, I4, I5     | (I0, I1) vs (I2, I3, I4, I5) |  352\n",
    "steatosis   | five    | S0, S1, S2, S3             | (S0) vs (S1, S2, S3)         |  352\n"
   ]
  },
  {
   "cell_type": "markdown",
   "metadata": {
    "Collapsed": "false"
   },
   "source": [
    "Variable naming: `<target>_greater-equal_<value>`"
   ]
  },
  {
   "cell_type": "code",
   "execution_count": 55,
   "metadata": {
    "Collapsed": "false"
   },
   "outputs": [],
   "source": [
    "from src.pandas import create_dichotome\n",
    "kleiner_ge_2     = create_dichotome(Y['kleiner'], 2)\n",
    "kleiner_ge_3     = create_dichotome(Y['kleiner'], 3)\n",
    "steatosis_ge_1   = create_dichotome(Y['nas_steatosis_ordinal'], 1)\n",
    "inflamation_ge_2 = create_dichotome(Y['nas_inflam'], 2)\n",
    "\n",
    "end_points = ['F2', 'F3', 'S1', 'I2']\n",
    "dichotomies = [kleiner_ge_2, kleiner_ge_3, steatosis_ge_1, inflamation_ge_2]\n",
    "targets_dict  = {k: v for k, v in zip(end_points, dichotomies)}"
   ]
  },
  {
   "cell_type": "markdown",
   "metadata": {},
   "source": [
    "Frequencies of binary variables:"
   ]
  },
  {
   "cell_type": "code",
   "execution_count": 56,
   "metadata": {
    "Collapsed": "false"
   },
   "outputs": [
    {
     "data": {
      "text/html": [
       "<div>\n",
       "<style scoped>\n",
       "    .dataframe tbody tr th:only-of-type {\n",
       "        vertical-align: middle;\n",
       "    }\n",
       "\n",
       "    .dataframe tbody tr th {\n",
       "        vertical-align: top;\n",
       "    }\n",
       "\n",
       "    .dataframe thead th {\n",
       "        text-align: right;\n",
       "    }\n",
       "</style>\n",
       "<table border=\"1\" class=\"dataframe\">\n",
       "  <thead>\n",
       "    <tr style=\"text-align: right;\">\n",
       "      <th></th>\n",
       "      <th>kleiner&gt;=2</th>\n",
       "      <th>kleiner&gt;=3</th>\n",
       "      <th>steatosis&gt;=1</th>\n",
       "      <th>inflamation&gt;=2</th>\n",
       "    </tr>\n",
       "  </thead>\n",
       "  <tbody>\n",
       "    <tr>\n",
       "      <th>0</th>\n",
       "      <td>160</td>\n",
       "      <td>266</td>\n",
       "      <td>156</td>\n",
       "      <td>163</td>\n",
       "    </tr>\n",
       "    <tr>\n",
       "      <th>1</th>\n",
       "      <td>200</td>\n",
       "      <td>94</td>\n",
       "      <td>196</td>\n",
       "      <td>189</td>\n",
       "    </tr>\n",
       "    <tr>\n",
       "      <th>total</th>\n",
       "      <td>360</td>\n",
       "      <td>360</td>\n",
       "      <td>352</td>\n",
       "      <td>352</td>\n",
       "    </tr>\n",
       "  </tbody>\n",
       "</table>\n",
       "</div>"
      ],
      "text/plain": [
       "       kleiner>=2  kleiner>=3  steatosis>=1  inflamation>=2\n",
       "0             160         266           156             163\n",
       "1             200          94           196             189\n",
       "total         360         360           352             352"
      ]
     },
     "execution_count": 56,
     "metadata": {},
     "output_type": "execute_result"
    }
   ],
   "source": [
    "freq_targets = pd.DataFrame(\n",
    "    {'kleiner>=2': kleiner_ge_2.value_counts(dropna=False, sort=False),\n",
    "     'kleiner>=3': kleiner_ge_3.value_counts(dropna=False, sort=False),\n",
    "     'steatosis>=1' : steatosis_ge_1.value_counts(dropna=False, sort=False),\n",
    "     'inflamation>=2':inflamation_ge_2.value_counts(dropna=False, sort=False)\n",
    "    })\n",
    "freq_targets.loc['total'] = freq_targets.sum()\n",
    "freq_targets"
   ]
  },
  {
   "cell_type": "markdown",
   "metadata": {
    "Collapsed": "false"
   },
   "source": [
    "### Clinical Cutoffs for targets\n",
    "\n",
    "Cutoff for binary grouping of targets\n",
    "\n",
    "target      | Scale   | unique values            | N samples\n",
    "----------- | ------- | ----------------------   | -------\n",
    "fibrosis    | five    | F0, F1, F2, F3, F4       | 360\n",
    "steatosis   | five    | S0, S1, S2, S3           | 352\n",
    "inflamation | seven   | I0, I1, I2, I3, I4, I5   | 352\n"
   ]
  },
  {
   "cell_type": "code",
   "execution_count": 57,
   "metadata": {
    "Collapsed": "false"
   },
   "outputs": [
    {
     "data": {
      "text/html": [
       "<div>\n",
       "<style scoped>\n",
       "    .dataframe tbody tr th:only-of-type {\n",
       "        vertical-align: middle;\n",
       "    }\n",
       "\n",
       "    .dataframe tbody tr th {\n",
       "        vertical-align: top;\n",
       "    }\n",
       "\n",
       "    .dataframe thead th {\n",
       "        text-align: right;\n",
       "    }\n",
       "</style>\n",
       "<table border=\"1\" class=\"dataframe\">\n",
       "  <thead>\n",
       "    <tr style=\"text-align: right;\">\n",
       "      <th></th>\n",
       "      <th>F2</th>\n",
       "      <th>F3</th>\n",
       "      <th>INFL2</th>\n",
       "      <th>steatosis</th>\n",
       "    </tr>\n",
       "    <tr>\n",
       "      <th>marker</th>\n",
       "      <th></th>\n",
       "      <th></th>\n",
       "      <th></th>\n",
       "      <th></th>\n",
       "    </tr>\n",
       "  </thead>\n",
       "  <tbody>\n",
       "    <tr>\n",
       "      <th>te</th>\n",
       "      <td>7.00</td>\n",
       "      <td>15.00</td>\n",
       "      <td>NaN</td>\n",
       "      <td>NaN</td>\n",
       "    </tr>\n",
       "    <tr>\n",
       "      <th>swe</th>\n",
       "      <td>8.60</td>\n",
       "      <td>16.40</td>\n",
       "      <td>NaN</td>\n",
       "      <td>NaN</td>\n",
       "    </tr>\n",
       "    <tr>\n",
       "      <th>elf</th>\n",
       "      <td>7.70</td>\n",
       "      <td>10.50</td>\n",
       "      <td>NaN</td>\n",
       "      <td>NaN</td>\n",
       "    </tr>\n",
       "    <tr>\n",
       "      <th>ft</th>\n",
       "      <td>0.48</td>\n",
       "      <td>0.58</td>\n",
       "      <td>NaN</td>\n",
       "      <td>NaN</td>\n",
       "    </tr>\n",
       "    <tr>\n",
       "      <th>fib4</th>\n",
       "      <td>1.45</td>\n",
       "      <td>3.25</td>\n",
       "      <td>NaN</td>\n",
       "      <td>NaN</td>\n",
       "    </tr>\n",
       "    <tr>\n",
       "      <th>apri</th>\n",
       "      <td>0.50</td>\n",
       "      <td>1.00</td>\n",
       "      <td>NaN</td>\n",
       "      <td>NaN</td>\n",
       "    </tr>\n",
       "    <tr>\n",
       "      <th>forns</th>\n",
       "      <td>NaN</td>\n",
       "      <td>6.80</td>\n",
       "      <td>NaN</td>\n",
       "      <td>NaN</td>\n",
       "    </tr>\n",
       "    <tr>\n",
       "      <th>p3np</th>\n",
       "      <td>NaN</td>\n",
       "      <td>NaN</td>\n",
       "      <td>NaN</td>\n",
       "      <td>NaN</td>\n",
       "    </tr>\n",
       "    <tr>\n",
       "      <th>m30</th>\n",
       "      <td>NaN</td>\n",
       "      <td>NaN</td>\n",
       "      <td>NaN</td>\n",
       "      <td>NaN</td>\n",
       "    </tr>\n",
       "    <tr>\n",
       "      <th>m65</th>\n",
       "      <td>NaN</td>\n",
       "      <td>NaN</td>\n",
       "      <td>NaN</td>\n",
       "      <td>NaN</td>\n",
       "    </tr>\n",
       "    <tr>\n",
       "      <th>aar</th>\n",
       "      <td>NaN</td>\n",
       "      <td>NaN</td>\n",
       "      <td>2.0</td>\n",
       "      <td>NaN</td>\n",
       "    </tr>\n",
       "    <tr>\n",
       "      <th>proc3</th>\n",
       "      <td>NaN</td>\n",
       "      <td>NaN</td>\n",
       "      <td>NaN</td>\n",
       "      <td>NaN</td>\n",
       "    </tr>\n",
       "    <tr>\n",
       "      <th>cap</th>\n",
       "      <td>NaN</td>\n",
       "      <td>NaN</td>\n",
       "      <td>NaN</td>\n",
       "      <td>290.0</td>\n",
       "    </tr>\n",
       "    <tr>\n",
       "      <th>alt</th>\n",
       "      <td>NaN</td>\n",
       "      <td>NaN</td>\n",
       "      <td>NaN</td>\n",
       "      <td>NaN</td>\n",
       "    </tr>\n",
       "    <tr>\n",
       "      <th>ast</th>\n",
       "      <td>NaN</td>\n",
       "      <td>NaN</td>\n",
       "      <td>NaN</td>\n",
       "      <td>NaN</td>\n",
       "    </tr>\n",
       "    <tr>\n",
       "      <th>m30m65_ratio</th>\n",
       "      <td>NaN</td>\n",
       "      <td>NaN</td>\n",
       "      <td>NaN</td>\n",
       "      <td>NaN</td>\n",
       "    </tr>\n",
       "  </tbody>\n",
       "</table>\n",
       "</div>"
      ],
      "text/plain": [
       "                F2     F3  INFL2  steatosis\n",
       "marker                                     \n",
       "te            7.00  15.00    NaN        NaN\n",
       "swe           8.60  16.40    NaN        NaN\n",
       "elf           7.70  10.50    NaN        NaN\n",
       "ft            0.48   0.58    NaN        NaN\n",
       "fib4          1.45   3.25    NaN        NaN\n",
       "apri          0.50   1.00    NaN        NaN\n",
       "forns          NaN   6.80    NaN        NaN\n",
       "p3np           NaN    NaN    NaN        NaN\n",
       "m30            NaN    NaN    NaN        NaN\n",
       "m65            NaN    NaN    NaN        NaN\n",
       "aar            NaN    NaN    2.0        NaN\n",
       "proc3          NaN    NaN    NaN        NaN\n",
       "cap            NaN    NaN    NaN      290.0\n",
       "alt            NaN    NaN    NaN        NaN\n",
       "ast            NaN    NaN    NaN        NaN\n",
       "m30m65_ratio   NaN    NaN    NaN        NaN"
      ]
     },
     "execution_count": 57,
     "metadata": {},
     "output_type": "execute_result"
    }
   ],
   "source": [
    "file_cutoff_clinic = os.path.join(FOLDER_DATA_RAW, \"clinical_marker_test_cut-offs.xlsx\")\n",
    "cutoffs_clinic = pd.read_excel(file_cutoff_clinic, sheet_name=\"cutoffs\", index_col='marker')\n",
    "cutoffs_clinic"
   ]
  },
  {
   "cell_type": "code",
   "execution_count": 58,
   "metadata": {
    "Collapsed": "false"
   },
   "outputs": [
    {
     "name": "stdout",
     "output_type": "stream",
     "text": [
      "proc3: Missing in clinics data.\n"
     ]
    }
   ],
   "source": [
    "markers_to_drop = []\n",
    "for marker in cutoffs_clinic.index:\n",
    "    if marker not in data_cli.columns:\n",
    "        print(f\"{marker}: Missing in clinics data.\")\n",
    "        markers_to_drop.append(marker)"
   ]
  },
  {
   "cell_type": "markdown",
   "metadata": {
    "Collapsed": "false"
   },
   "source": [
    "`proc3` is not in data_clinic. drop this from the list of cutoffs! (Cutoff can be learned later)\n",
    "Rename columns to desired endpoint name."
   ]
  },
  {
   "cell_type": "code",
   "execution_count": 59,
   "metadata": {
    "Collapsed": "false"
   },
   "outputs": [
    {
     "data": {
      "text/html": [
       "<div>\n",
       "<style scoped>\n",
       "    .dataframe tbody tr th:only-of-type {\n",
       "        vertical-align: middle;\n",
       "    }\n",
       "\n",
       "    .dataframe tbody tr th {\n",
       "        vertical-align: top;\n",
       "    }\n",
       "\n",
       "    .dataframe thead th {\n",
       "        text-align: right;\n",
       "    }\n",
       "</style>\n",
       "<table border=\"1\" class=\"dataframe\">\n",
       "  <thead>\n",
       "    <tr style=\"text-align: right;\">\n",
       "      <th></th>\n",
       "      <th>F2</th>\n",
       "      <th>F3</th>\n",
       "      <th>I2</th>\n",
       "      <th>S1</th>\n",
       "    </tr>\n",
       "    <tr>\n",
       "      <th>marker</th>\n",
       "      <th></th>\n",
       "      <th></th>\n",
       "      <th></th>\n",
       "      <th></th>\n",
       "    </tr>\n",
       "  </thead>\n",
       "  <tbody>\n",
       "    <tr>\n",
       "      <th>te</th>\n",
       "      <td>7.00</td>\n",
       "      <td>15.00</td>\n",
       "      <td>NaN</td>\n",
       "      <td>NaN</td>\n",
       "    </tr>\n",
       "    <tr>\n",
       "      <th>swe</th>\n",
       "      <td>8.60</td>\n",
       "      <td>16.40</td>\n",
       "      <td>NaN</td>\n",
       "      <td>NaN</td>\n",
       "    </tr>\n",
       "    <tr>\n",
       "      <th>elf</th>\n",
       "      <td>7.70</td>\n",
       "      <td>10.50</td>\n",
       "      <td>NaN</td>\n",
       "      <td>NaN</td>\n",
       "    </tr>\n",
       "    <tr>\n",
       "      <th>ft</th>\n",
       "      <td>0.48</td>\n",
       "      <td>0.58</td>\n",
       "      <td>NaN</td>\n",
       "      <td>NaN</td>\n",
       "    </tr>\n",
       "    <tr>\n",
       "      <th>fib4</th>\n",
       "      <td>1.45</td>\n",
       "      <td>3.25</td>\n",
       "      <td>NaN</td>\n",
       "      <td>NaN</td>\n",
       "    </tr>\n",
       "    <tr>\n",
       "      <th>apri</th>\n",
       "      <td>0.50</td>\n",
       "      <td>1.00</td>\n",
       "      <td>NaN</td>\n",
       "      <td>NaN</td>\n",
       "    </tr>\n",
       "    <tr>\n",
       "      <th>forns</th>\n",
       "      <td>NaN</td>\n",
       "      <td>6.80</td>\n",
       "      <td>NaN</td>\n",
       "      <td>NaN</td>\n",
       "    </tr>\n",
       "    <tr>\n",
       "      <th>p3np</th>\n",
       "      <td>NaN</td>\n",
       "      <td>NaN</td>\n",
       "      <td>NaN</td>\n",
       "      <td>NaN</td>\n",
       "    </tr>\n",
       "    <tr>\n",
       "      <th>m30</th>\n",
       "      <td>NaN</td>\n",
       "      <td>NaN</td>\n",
       "      <td>NaN</td>\n",
       "      <td>NaN</td>\n",
       "    </tr>\n",
       "    <tr>\n",
       "      <th>m65</th>\n",
       "      <td>NaN</td>\n",
       "      <td>NaN</td>\n",
       "      <td>NaN</td>\n",
       "      <td>NaN</td>\n",
       "    </tr>\n",
       "    <tr>\n",
       "      <th>aar</th>\n",
       "      <td>NaN</td>\n",
       "      <td>NaN</td>\n",
       "      <td>2.0</td>\n",
       "      <td>NaN</td>\n",
       "    </tr>\n",
       "    <tr>\n",
       "      <th>cap</th>\n",
       "      <td>NaN</td>\n",
       "      <td>NaN</td>\n",
       "      <td>NaN</td>\n",
       "      <td>290.0</td>\n",
       "    </tr>\n",
       "    <tr>\n",
       "      <th>alt</th>\n",
       "      <td>NaN</td>\n",
       "      <td>NaN</td>\n",
       "      <td>NaN</td>\n",
       "      <td>NaN</td>\n",
       "    </tr>\n",
       "    <tr>\n",
       "      <th>ast</th>\n",
       "      <td>NaN</td>\n",
       "      <td>NaN</td>\n",
       "      <td>NaN</td>\n",
       "      <td>NaN</td>\n",
       "    </tr>\n",
       "    <tr>\n",
       "      <th>m30m65_ratio</th>\n",
       "      <td>NaN</td>\n",
       "      <td>NaN</td>\n",
       "      <td>NaN</td>\n",
       "      <td>NaN</td>\n",
       "    </tr>\n",
       "  </tbody>\n",
       "</table>\n",
       "</div>"
      ],
      "text/plain": [
       "                F2     F3   I2     S1\n",
       "marker                               \n",
       "te            7.00  15.00  NaN    NaN\n",
       "swe           8.60  16.40  NaN    NaN\n",
       "elf           7.70  10.50  NaN    NaN\n",
       "ft            0.48   0.58  NaN    NaN\n",
       "fib4          1.45   3.25  NaN    NaN\n",
       "apri          0.50   1.00  NaN    NaN\n",
       "forns          NaN   6.80  NaN    NaN\n",
       "p3np           NaN    NaN  NaN    NaN\n",
       "m30            NaN    NaN  NaN    NaN\n",
       "m65            NaN    NaN  NaN    NaN\n",
       "aar            NaN    NaN  2.0    NaN\n",
       "cap            NaN    NaN  NaN  290.0\n",
       "alt            NaN    NaN  NaN    NaN\n",
       "ast            NaN    NaN  NaN    NaN\n",
       "m30m65_ratio   NaN    NaN  NaN    NaN"
      ]
     },
     "execution_count": 59,
     "metadata": {},
     "output_type": "execute_result"
    }
   ],
   "source": [
    "if markers_to_drop:\n",
    "    cutoffs_clinic.drop(labels=markers_to_drop, inplace=True)\n",
    "cutoffs_clinic.columns = ['F2', 'F3', 'I2', 'S1']\n",
    "cutoffs_clinic"
   ]
  },
  {
   "cell_type": "markdown",
   "metadata": {
    "Collapsed": "false"
   },
   "source": [
    "Extract certain cutoff for binary targets defined by column name:"
   ]
  },
  {
   "cell_type": "code",
   "execution_count": 60,
   "metadata": {
    "Collapsed": "false"
   },
   "outputs": [
    {
     "data": {
      "text/plain": [
       "{'te': 7.0, 'swe': 8.6, 'elf': 7.7, 'ft': 0.48, 'fib4': 1.45, 'apri': 0.5}"
      ]
     },
     "execution_count": 60,
     "metadata": {},
     "output_type": "execute_result"
    }
   ],
   "source": [
    "cutoffs_clinic['F2'].dropna().to_dict()"
   ]
  },
  {
   "cell_type": "markdown",
   "metadata": {
    "Collapsed": "false"
   },
   "source": [
    "See statistics (e.g. median) of SOTA-markers for clinical fibrosis assessment (represented by categories 0 to 4)."
   ]
  },
  {
   "cell_type": "code",
   "execution_count": 61,
   "metadata": {
    "Collapsed": "false"
   },
   "outputs": [
    {
     "data": {
      "text/html": [
       "<div>\n",
       "<style scoped>\n",
       "    .dataframe tbody tr th:only-of-type {\n",
       "        vertical-align: middle;\n",
       "    }\n",
       "\n",
       "    .dataframe tbody tr th {\n",
       "        vertical-align: top;\n",
       "    }\n",
       "\n",
       "    .dataframe thead th {\n",
       "        text-align: right;\n",
       "    }\n",
       "</style>\n",
       "<table border=\"1\" class=\"dataframe\">\n",
       "  <thead>\n",
       "    <tr style=\"text-align: right;\">\n",
       "      <th></th>\n",
       "      <th>te</th>\n",
       "      <th>swe</th>\n",
       "      <th>elf</th>\n",
       "      <th>ft</th>\n",
       "      <th>fib4</th>\n",
       "      <th>apri</th>\n",
       "      <th>forns</th>\n",
       "      <th>p3np</th>\n",
       "    </tr>\n",
       "    <tr>\n",
       "      <th>kleiner</th>\n",
       "      <th></th>\n",
       "      <th></th>\n",
       "      <th></th>\n",
       "      <th></th>\n",
       "      <th></th>\n",
       "      <th></th>\n",
       "      <th></th>\n",
       "      <th></th>\n",
       "    </tr>\n",
       "  </thead>\n",
       "  <tbody>\n",
       "    <tr>\n",
       "      <th>0.0</th>\n",
       "      <td>4.40</td>\n",
       "      <td>5.750000</td>\n",
       "      <td>8.30</td>\n",
       "      <td>0.10</td>\n",
       "      <td>1.070</td>\n",
       "      <td>0.270</td>\n",
       "      <td>3.775</td>\n",
       "      <td>7.2</td>\n",
       "    </tr>\n",
       "    <tr>\n",
       "      <th>1.0</th>\n",
       "      <td>6.00</td>\n",
       "      <td>6.700000</td>\n",
       "      <td>8.80</td>\n",
       "      <td>0.12</td>\n",
       "      <td>1.195</td>\n",
       "      <td>0.270</td>\n",
       "      <td>4.470</td>\n",
       "      <td>7.2</td>\n",
       "    </tr>\n",
       "    <tr>\n",
       "      <th>2.0</th>\n",
       "      <td>9.00</td>\n",
       "      <td>9.300000</td>\n",
       "      <td>9.55</td>\n",
       "      <td>0.34</td>\n",
       "      <td>1.655</td>\n",
       "      <td>0.440</td>\n",
       "      <td>5.820</td>\n",
       "      <td>9.9</td>\n",
       "    </tr>\n",
       "    <tr>\n",
       "      <th>3.0</th>\n",
       "      <td>21.60</td>\n",
       "      <td>16.900000</td>\n",
       "      <td>10.60</td>\n",
       "      <td>0.63</td>\n",
       "      <td>2.080</td>\n",
       "      <td>0.485</td>\n",
       "      <td>7.020</td>\n",
       "      <td>13.3</td>\n",
       "    </tr>\n",
       "    <tr>\n",
       "      <th>4.0</th>\n",
       "      <td>40.75</td>\n",
       "      <td>28.400001</td>\n",
       "      <td>11.80</td>\n",
       "      <td>0.78</td>\n",
       "      <td>4.000</td>\n",
       "      <td>0.860</td>\n",
       "      <td>8.150</td>\n",
       "      <td>22.4</td>\n",
       "    </tr>\n",
       "  </tbody>\n",
       "</table>\n",
       "</div>"
      ],
      "text/plain": [
       "            te        swe    elf    ft   fib4   apri  forns  p3np\n",
       "kleiner                                                          \n",
       "0.0       4.40   5.750000   8.30  0.10  1.070  0.270  3.775   7.2\n",
       "1.0       6.00   6.700000   8.80  0.12  1.195  0.270  4.470   7.2\n",
       "2.0       9.00   9.300000   9.55  0.34  1.655  0.440  5.820   9.9\n",
       "3.0      21.60  16.900000  10.60  0.63  2.080  0.485  7.020  13.3\n",
       "4.0      40.75  28.400001  11.80  0.78  4.000  0.860  8.150  22.4"
      ]
     },
     "execution_count": 61,
     "metadata": {},
     "output_type": "execute_result"
    }
   ],
   "source": [
    "SOTA_fibrosis = ['te', 'swe', 'elf', 'ft', 'fib4', 'apri', 'forns', 'p3np']\n",
    "data_cli.groupby('kleiner')[SOTA_fibrosis].median()"
   ]
  },
  {
   "cell_type": "markdown",
   "metadata": {
    "Collapsed": "false"
   },
   "source": [
    "### Handle missing features of clinical data (Global Missing Pattern)\n",
    "\n",
    "> No imputation of clinical features for now as only single clinical features are used in \"univariate\" models. Imputation is only sensible if several types of information are combined. Then one could use [`sklearn.impute.simpleImputer`](https://scikit-learn.org/stable/modules/impute.html)'s default `'mean'` strategy or alternatively one could replace missing values with zeros on the standardised data to zero mean and standard deviation of one.\n",
    "\n",
    "Features are present to widely different degree. In order to be able to define global splits with the same pattern of missings over the features and targets by samples (here: patients), we define a missing pattern for stratification."
   ]
  },
  {
   "cell_type": "code",
   "execution_count": 62,
   "metadata": {
    "Collapsed": "false"
   },
   "outputs": [
    {
     "data": {
      "text/html": [
       "<div>\n",
       "<style scoped>\n",
       "    .dataframe tbody tr th:only-of-type {\n",
       "        vertical-align: middle;\n",
       "    }\n",
       "\n",
       "    .dataframe tbody tr th {\n",
       "        vertical-align: top;\n",
       "    }\n",
       "\n",
       "    .dataframe thead th {\n",
       "        text-align: right;\n",
       "    }\n",
       "</style>\n",
       "<table border=\"1\" class=\"dataframe\">\n",
       "  <thead>\n",
       "    <tr style=\"text-align: right;\">\n",
       "      <th></th>\n",
       "      <th>te</th>\n",
       "      <th>swe</th>\n",
       "      <th>elf</th>\n",
       "      <th>ft</th>\n",
       "      <th>fib4</th>\n",
       "      <th>apri</th>\n",
       "      <th>forns</th>\n",
       "      <th>p3np</th>\n",
       "      <th>m30</th>\n",
       "      <th>m65</th>\n",
       "      <th>aar</th>\n",
       "      <th>cap</th>\n",
       "      <th>alt</th>\n",
       "      <th>ast</th>\n",
       "      <th>m30m65_ratio</th>\n",
       "    </tr>\n",
       "  </thead>\n",
       "  <tbody>\n",
       "    <tr>\n",
       "      <th>count</th>\n",
       "      <td>478.000000</td>\n",
       "      <td>468.000000</td>\n",
       "      <td>350.000000</td>\n",
       "      <td>268.000000</td>\n",
       "      <td>353.000000</td>\n",
       "      <td>354.000000</td>\n",
       "      <td>357.000000</td>\n",
       "      <td>320.000000</td>\n",
       "      <td>268.000000</td>\n",
       "      <td>266.000000</td>\n",
       "      <td>353.000000</td>\n",
       "      <td>339.000000</td>\n",
       "      <td>497.000000</td>\n",
       "      <td>473.000000</td>\n",
       "      <td>266.000000</td>\n",
       "    </tr>\n",
       "    <tr>\n",
       "      <th>mean</th>\n",
       "      <td>12.909623</td>\n",
       "      <td>11.406838</td>\n",
       "      <td>9.776571</td>\n",
       "      <td>0.347351</td>\n",
       "      <td>2.534051</td>\n",
       "      <td>0.702994</td>\n",
       "      <td>5.631933</td>\n",
       "      <td>13.262187</td>\n",
       "      <td>233.677756</td>\n",
       "      <td>685.670989</td>\n",
       "      <td>1.370283</td>\n",
       "      <td>274.348083</td>\n",
       "      <td>37.961771</td>\n",
       "      <td>44.262156</td>\n",
       "      <td>0.386805</td>\n",
       "    </tr>\n",
       "    <tr>\n",
       "      <th>std</th>\n",
       "      <td>16.416191</td>\n",
       "      <td>10.564157</td>\n",
       "      <td>1.508532</td>\n",
       "      <td>0.286632</td>\n",
       "      <td>3.023615</td>\n",
       "      <td>0.990803</td>\n",
       "      <td>2.390873</td>\n",
       "      <td>12.424449</td>\n",
       "      <td>297.008804</td>\n",
       "      <td>850.377366</td>\n",
       "      <td>0.764884</td>\n",
       "      <td>63.001900</td>\n",
       "      <td>32.346981</td>\n",
       "      <td>36.985152</td>\n",
       "      <td>0.207271</td>\n",
       "    </tr>\n",
       "    <tr>\n",
       "      <th>min</th>\n",
       "      <td>2.100000</td>\n",
       "      <td>2.100000</td>\n",
       "      <td>6.900000</td>\n",
       "      <td>0.020000</td>\n",
       "      <td>0.270000</td>\n",
       "      <td>0.080000</td>\n",
       "      <td>-1.540000</td>\n",
       "      <td>1.500000</td>\n",
       "      <td>2.126260</td>\n",
       "      <td>82.780701</td>\n",
       "      <td>0.090000</td>\n",
       "      <td>100.000000</td>\n",
       "      <td>7.000000</td>\n",
       "      <td>12.000000</td>\n",
       "      <td>0.020000</td>\n",
       "    </tr>\n",
       "    <tr>\n",
       "      <th>25%</th>\n",
       "      <td>4.500000</td>\n",
       "      <td>5.600000</td>\n",
       "      <td>8.700000</td>\n",
       "      <td>0.100000</td>\n",
       "      <td>0.950000</td>\n",
       "      <td>0.240000</td>\n",
       "      <td>4.020000</td>\n",
       "      <td>6.775000</td>\n",
       "      <td>95.456402</td>\n",
       "      <td>271.321750</td>\n",
       "      <td>0.880000</td>\n",
       "      <td>228.000000</td>\n",
       "      <td>21.000000</td>\n",
       "      <td>24.000000</td>\n",
       "      <td>0.262500</td>\n",
       "    </tr>\n",
       "    <tr>\n",
       "      <th>50%</th>\n",
       "      <td>6.200000</td>\n",
       "      <td>7.050000</td>\n",
       "      <td>9.400000</td>\n",
       "      <td>0.245000</td>\n",
       "      <td>1.570000</td>\n",
       "      <td>0.405000</td>\n",
       "      <td>5.520000</td>\n",
       "      <td>8.950000</td>\n",
       "      <td>153.139500</td>\n",
       "      <td>440.100005</td>\n",
       "      <td>1.130000</td>\n",
       "      <td>277.000000</td>\n",
       "      <td>28.000000</td>\n",
       "      <td>32.000000</td>\n",
       "      <td>0.345000</td>\n",
       "    </tr>\n",
       "    <tr>\n",
       "      <th>75%</th>\n",
       "      <td>10.900000</td>\n",
       "      <td>11.700000</td>\n",
       "      <td>10.700000</td>\n",
       "      <td>0.542500</td>\n",
       "      <td>2.890000</td>\n",
       "      <td>0.770000</td>\n",
       "      <td>7.140000</td>\n",
       "      <td>14.425000</td>\n",
       "      <td>261.165740</td>\n",
       "      <td>835.044495</td>\n",
       "      <td>1.640000</td>\n",
       "      <td>321.000000</td>\n",
       "      <td>45.000000</td>\n",
       "      <td>48.000000</td>\n",
       "      <td>0.470000</td>\n",
       "    </tr>\n",
       "    <tr>\n",
       "      <th>max</th>\n",
       "      <td>75.000000</td>\n",
       "      <td>75.599998</td>\n",
       "      <td>14.800000</td>\n",
       "      <td>0.980000</td>\n",
       "      <td>32.700001</td>\n",
       "      <td>11.630000</td>\n",
       "      <td>12.580000</td>\n",
       "      <td>112.500000</td>\n",
       "      <td>3816.990000</td>\n",
       "      <td>10015.900000</td>\n",
       "      <td>4.710000</td>\n",
       "      <td>400.000000</td>\n",
       "      <td>387.000000</td>\n",
       "      <td>331.000000</td>\n",
       "      <td>1.470000</td>\n",
       "    </tr>\n",
       "  </tbody>\n",
       "</table>\n",
       "</div>"
      ],
      "text/plain": [
       "               te         swe         elf          ft        fib4        apri  \\\n",
       "count  478.000000  468.000000  350.000000  268.000000  353.000000  354.000000   \n",
       "mean    12.909623   11.406838    9.776571    0.347351    2.534051    0.702994   \n",
       "std     16.416191   10.564157    1.508532    0.286632    3.023615    0.990803   \n",
       "min      2.100000    2.100000    6.900000    0.020000    0.270000    0.080000   \n",
       "25%      4.500000    5.600000    8.700000    0.100000    0.950000    0.240000   \n",
       "50%      6.200000    7.050000    9.400000    0.245000    1.570000    0.405000   \n",
       "75%     10.900000   11.700000   10.700000    0.542500    2.890000    0.770000   \n",
       "max     75.000000   75.599998   14.800000    0.980000   32.700001   11.630000   \n",
       "\n",
       "            forns        p3np          m30           m65         aar  \\\n",
       "count  357.000000  320.000000   268.000000    266.000000  353.000000   \n",
       "mean     5.631933   13.262187   233.677756    685.670989    1.370283   \n",
       "std      2.390873   12.424449   297.008804    850.377366    0.764884   \n",
       "min     -1.540000    1.500000     2.126260     82.780701    0.090000   \n",
       "25%      4.020000    6.775000    95.456402    271.321750    0.880000   \n",
       "50%      5.520000    8.950000   153.139500    440.100005    1.130000   \n",
       "75%      7.140000   14.425000   261.165740    835.044495    1.640000   \n",
       "max     12.580000  112.500000  3816.990000  10015.900000    4.710000   \n",
       "\n",
       "              cap         alt         ast  m30m65_ratio  \n",
       "count  339.000000  497.000000  473.000000    266.000000  \n",
       "mean   274.348083   37.961771   44.262156      0.386805  \n",
       "std     63.001900   32.346981   36.985152      0.207271  \n",
       "min    100.000000    7.000000   12.000000      0.020000  \n",
       "25%    228.000000   21.000000   24.000000      0.262500  \n",
       "50%    277.000000   28.000000   32.000000      0.345000  \n",
       "75%    321.000000   45.000000   48.000000      0.470000  \n",
       "max    400.000000  387.000000  331.000000      1.470000  "
      ]
     },
     "execution_count": 62,
     "metadata": {},
     "output_type": "execute_result"
    }
   ],
   "source": [
    "# FEATURES_CLINIC = ['ggt', 'alt', 'ast', 'alk', 'mcv', 'iga', 'igg', 'leu', 'glc']\n",
    "FEATURES_CLINIC = cutoffs_clinic.index\n",
    "data_cli[FEATURES_CLINIC].describe()"
   ]
  },
  {
   "cell_type": "markdown",
   "metadata": {},
   "source": [
    "We keep only samples for which any target is present. The other could be later used for verification of model prediction in the clinic."
   ]
  },
  {
   "cell_type": "code",
   "execution_count": 63,
   "metadata": {},
   "outputs": [
    {
     "name": "stdout",
     "output_type": "stream",
     "text": [
      "No. of samples without target variable: 137 \n"
     ]
    }
   ],
   "source": [
    "patient_ids_w_target = data_cli[TARGETS].dropna(how='all').index\n",
    "print(f\"No. of samples without target variable: {len(data_cli) -len(patient_ids_w_target)} \")"
   ]
  },
  {
   "cell_type": "markdown",
   "metadata": {},
   "source": [
    "We now define the set of variables of which we want to define missingness patterns:"
   ]
  },
  {
   "cell_type": "code",
   "execution_count": 64,
   "metadata": {},
   "outputs": [
    {
     "data": {
      "text/html": [
       "<div>\n",
       "<style scoped>\n",
       "    .dataframe tbody tr th:only-of-type {\n",
       "        vertical-align: middle;\n",
       "    }\n",
       "\n",
       "    .dataframe tbody tr th {\n",
       "        vertical-align: top;\n",
       "    }\n",
       "\n",
       "    .dataframe thead th {\n",
       "        text-align: right;\n",
       "    }\n",
       "</style>\n",
       "<table border=\"1\" class=\"dataframe\">\n",
       "  <thead>\n",
       "    <tr style=\"text-align: right;\">\n",
       "      <th></th>\n",
       "      <th>alt</th>\n",
       "      <th>kleiner</th>\n",
       "      <th>gender_num</th>\n",
       "      <th>age</th>\n",
       "      <th>forns</th>\n",
       "      <th>apri</th>\n",
       "      <th>ast</th>\n",
       "      <th>aar</th>\n",
       "      <th>nas_steatosis_ordinal</th>\n",
       "      <th>nas_inflam</th>\n",
       "      <th>fib4</th>\n",
       "      <th>elf</th>\n",
       "      <th>te</th>\n",
       "      <th>swe</th>\n",
       "      <th>p3np</th>\n",
       "      <th>m30</th>\n",
       "      <th>ft</th>\n",
       "      <th>m65</th>\n",
       "      <th>m30m65_ratio</th>\n",
       "      <th>cap</th>\n",
       "    </tr>\n",
       "  </thead>\n",
       "  <tbody>\n",
       "    <tr>\n",
       "      <th>count</th>\n",
       "      <td>360.000000</td>\n",
       "      <td>360.000000</td>\n",
       "      <td>360.000000</td>\n",
       "      <td>360.000000</td>\n",
       "      <td>356.000000</td>\n",
       "      <td>353.000000</td>\n",
       "      <td>353.000000</td>\n",
       "      <td>352.000000</td>\n",
       "      <td>352.000000</td>\n",
       "      <td>352.000000</td>\n",
       "      <td>352.000000</td>\n",
       "      <td>349.000000</td>\n",
       "      <td>341.000000</td>\n",
       "      <td>331.000000</td>\n",
       "      <td>319.000000</td>\n",
       "      <td>268.000000</td>\n",
       "      <td>268.000000</td>\n",
       "      <td>266.000000</td>\n",
       "      <td>266.000000</td>\n",
       "      <td>205.000000</td>\n",
       "    </tr>\n",
       "    <tr>\n",
       "      <th>mean</th>\n",
       "      <td>42.552778</td>\n",
       "      <td>1.902778</td>\n",
       "      <td>0.763889</td>\n",
       "      <td>55.536111</td>\n",
       "      <td>5.630197</td>\n",
       "      <td>0.703683</td>\n",
       "      <td>50.036827</td>\n",
       "      <td>1.367727</td>\n",
       "      <td>0.982955</td>\n",
       "      <td>1.855114</td>\n",
       "      <td>2.534773</td>\n",
       "      <td>9.777650</td>\n",
       "      <td>16.260704</td>\n",
       "      <td>13.842900</td>\n",
       "      <td>13.279937</td>\n",
       "      <td>233.677756</td>\n",
       "      <td>0.347351</td>\n",
       "      <td>685.670989</td>\n",
       "      <td>0.386805</td>\n",
       "      <td>287.107317</td>\n",
       "    </tr>\n",
       "    <tr>\n",
       "      <th>std</th>\n",
       "      <td>36.396417</td>\n",
       "      <td>1.248506</td>\n",
       "      <td>0.425282</td>\n",
       "      <td>10.684319</td>\n",
       "      <td>2.394013</td>\n",
       "      <td>0.992125</td>\n",
       "      <td>40.749948</td>\n",
       "      <td>0.764461</td>\n",
       "      <td>1.045813</td>\n",
       "      <td>1.467221</td>\n",
       "      <td>3.027889</td>\n",
       "      <td>1.510562</td>\n",
       "      <td>18.386198</td>\n",
       "      <td>11.711420</td>\n",
       "      <td>12.439905</td>\n",
       "      <td>297.008804</td>\n",
       "      <td>0.286632</td>\n",
       "      <td>850.377366</td>\n",
       "      <td>0.207271</td>\n",
       "      <td>63.930402</td>\n",
       "    </tr>\n",
       "    <tr>\n",
       "      <th>min</th>\n",
       "      <td>8.000000</td>\n",
       "      <td>0.000000</td>\n",
       "      <td>0.000000</td>\n",
       "      <td>19.000000</td>\n",
       "      <td>-1.540000</td>\n",
       "      <td>0.080000</td>\n",
       "      <td>12.000000</td>\n",
       "      <td>0.090000</td>\n",
       "      <td>0.000000</td>\n",
       "      <td>0.000000</td>\n",
       "      <td>0.270000</td>\n",
       "      <td>6.900000</td>\n",
       "      <td>2.100000</td>\n",
       "      <td>2.100000</td>\n",
       "      <td>1.500000</td>\n",
       "      <td>2.126260</td>\n",
       "      <td>0.020000</td>\n",
       "      <td>82.780701</td>\n",
       "      <td>0.020000</td>\n",
       "      <td>100.000000</td>\n",
       "    </tr>\n",
       "    <tr>\n",
       "      <th>25%</th>\n",
       "      <td>22.000000</td>\n",
       "      <td>1.000000</td>\n",
       "      <td>1.000000</td>\n",
       "      <td>49.000000</td>\n",
       "      <td>4.012500</td>\n",
       "      <td>0.240000</td>\n",
       "      <td>26.000000</td>\n",
       "      <td>0.877500</td>\n",
       "      <td>0.000000</td>\n",
       "      <td>1.000000</td>\n",
       "      <td>0.950000</td>\n",
       "      <td>8.700000</td>\n",
       "      <td>5.600000</td>\n",
       "      <td>6.500000</td>\n",
       "      <td>6.750000</td>\n",
       "      <td>95.456402</td>\n",
       "      <td>0.100000</td>\n",
       "      <td>271.321750</td>\n",
       "      <td>0.262500</td>\n",
       "      <td>245.000000</td>\n",
       "    </tr>\n",
       "    <tr>\n",
       "      <th>50%</th>\n",
       "      <td>33.500000</td>\n",
       "      <td>2.000000</td>\n",
       "      <td>1.000000</td>\n",
       "      <td>56.000000</td>\n",
       "      <td>5.515000</td>\n",
       "      <td>0.400000</td>\n",
       "      <td>37.000000</td>\n",
       "      <td>1.130000</td>\n",
       "      <td>1.000000</td>\n",
       "      <td>2.000000</td>\n",
       "      <td>1.570000</td>\n",
       "      <td>9.400000</td>\n",
       "      <td>8.700000</td>\n",
       "      <td>8.700000</td>\n",
       "      <td>9.000000</td>\n",
       "      <td>153.139500</td>\n",
       "      <td>0.245000</td>\n",
       "      <td>440.100005</td>\n",
       "      <td>0.345000</td>\n",
       "      <td>286.000000</td>\n",
       "    </tr>\n",
       "    <tr>\n",
       "      <th>75%</th>\n",
       "      <td>52.000000</td>\n",
       "      <td>3.000000</td>\n",
       "      <td>1.000000</td>\n",
       "      <td>63.000000</td>\n",
       "      <td>7.142500</td>\n",
       "      <td>0.770000</td>\n",
       "      <td>57.000000</td>\n",
       "      <td>1.640000</td>\n",
       "      <td>2.000000</td>\n",
       "      <td>3.000000</td>\n",
       "      <td>2.892500</td>\n",
       "      <td>10.700000</td>\n",
       "      <td>18.200001</td>\n",
       "      <td>15.850000</td>\n",
       "      <td>14.450000</td>\n",
       "      <td>261.165740</td>\n",
       "      <td>0.542500</td>\n",
       "      <td>835.044495</td>\n",
       "      <td>0.470000</td>\n",
       "      <td>331.000000</td>\n",
       "    </tr>\n",
       "    <tr>\n",
       "      <th>max</th>\n",
       "      <td>387.000000</td>\n",
       "      <td>4.000000</td>\n",
       "      <td>1.000000</td>\n",
       "      <td>75.000000</td>\n",
       "      <td>12.580000</td>\n",
       "      <td>11.630000</td>\n",
       "      <td>331.000000</td>\n",
       "      <td>4.710000</td>\n",
       "      <td>3.000000</td>\n",
       "      <td>5.000000</td>\n",
       "      <td>32.700001</td>\n",
       "      <td>14.800000</td>\n",
       "      <td>75.000000</td>\n",
       "      <td>75.599998</td>\n",
       "      <td>112.500000</td>\n",
       "      <td>3816.990000</td>\n",
       "      <td>0.980000</td>\n",
       "      <td>10015.900000</td>\n",
       "      <td>1.470000</td>\n",
       "      <td>400.000000</td>\n",
       "    </tr>\n",
       "  </tbody>\n",
       "</table>\n",
       "</div>"
      ],
      "text/plain": [
       "              alt     kleiner  gender_num         age       forns        apri  \\\n",
       "count  360.000000  360.000000  360.000000  360.000000  356.000000  353.000000   \n",
       "mean    42.552778    1.902778    0.763889   55.536111    5.630197    0.703683   \n",
       "std     36.396417    1.248506    0.425282   10.684319    2.394013    0.992125   \n",
       "min      8.000000    0.000000    0.000000   19.000000   -1.540000    0.080000   \n",
       "25%     22.000000    1.000000    1.000000   49.000000    4.012500    0.240000   \n",
       "50%     33.500000    2.000000    1.000000   56.000000    5.515000    0.400000   \n",
       "75%     52.000000    3.000000    1.000000   63.000000    7.142500    0.770000   \n",
       "max    387.000000    4.000000    1.000000   75.000000   12.580000   11.630000   \n",
       "\n",
       "              ast         aar  nas_steatosis_ordinal  nas_inflam        fib4  \\\n",
       "count  353.000000  352.000000             352.000000  352.000000  352.000000   \n",
       "mean    50.036827    1.367727               0.982955    1.855114    2.534773   \n",
       "std     40.749948    0.764461               1.045813    1.467221    3.027889   \n",
       "min     12.000000    0.090000               0.000000    0.000000    0.270000   \n",
       "25%     26.000000    0.877500               0.000000    1.000000    0.950000   \n",
       "50%     37.000000    1.130000               1.000000    2.000000    1.570000   \n",
       "75%     57.000000    1.640000               2.000000    3.000000    2.892500   \n",
       "max    331.000000    4.710000               3.000000    5.000000   32.700001   \n",
       "\n",
       "              elf          te         swe        p3np          m30  \\\n",
       "count  349.000000  341.000000  331.000000  319.000000   268.000000   \n",
       "mean     9.777650   16.260704   13.842900   13.279937   233.677756   \n",
       "std      1.510562   18.386198   11.711420   12.439905   297.008804   \n",
       "min      6.900000    2.100000    2.100000    1.500000     2.126260   \n",
       "25%      8.700000    5.600000    6.500000    6.750000    95.456402   \n",
       "50%      9.400000    8.700000    8.700000    9.000000   153.139500   \n",
       "75%     10.700000   18.200001   15.850000   14.450000   261.165740   \n",
       "max     14.800000   75.000000   75.599998  112.500000  3816.990000   \n",
       "\n",
       "               ft           m65  m30m65_ratio         cap  \n",
       "count  268.000000    266.000000    266.000000  205.000000  \n",
       "mean     0.347351    685.670989      0.386805  287.107317  \n",
       "std      0.286632    850.377366      0.207271   63.930402  \n",
       "min      0.020000     82.780701      0.020000  100.000000  \n",
       "25%      0.100000    271.321750      0.262500  245.000000  \n",
       "50%      0.245000    440.100005      0.345000  286.000000  \n",
       "75%      0.542500    835.044495      0.470000  331.000000  \n",
       "max      0.980000  10015.900000      1.470000  400.000000  "
      ]
     },
     "execution_count": 64,
     "metadata": {},
     "output_type": "execute_result"
    }
   ],
   "source": [
    "FEATURES_CLINIC_ALL = list(FEATURES_CLINIC) + SELECTED_DEMOGRAPHICS + TARGETS\n",
    "data_cli.loc[patient_ids_w_target, FEATURES_CLINIC_ALL].describe().sort_values(by=\"count\", ascending=False, axis=1)"
   ]
  },
  {
   "cell_type": "code",
   "execution_count": 65,
   "metadata": {
    "Collapsed": "false",
    "tags": []
   },
   "outputs": [
    {
     "name": "stdout",
     "output_type": "stream",
     "text": [
      "Used features: te, swe, elf, ft, fib4, apri, forns, p3np, m30, m65, aar, cap, alt, ast, m30m65_ratio, age, gender_num, kleiner, nas_steatosis_ordinal, nas_inflam\n"
     ]
    }
   ],
   "source": [
    "def ordered_missing_table(data:pd.DataFrame):\n",
    "    \"\"\"Order dataframe by data completeness (first column has most features) \n",
    "    and then return an encoding of completeness (1 = available, 0 0 not available)\"\"\"\n",
    "       \n",
    "    data_missing_table = data.notna().astype(int)\n",
    "    var_ordered_by_completness = list(data.describe().loc['count'].sort_values(ascending=False).index)\n",
    "    data_missing_table = data_missing_table.sort_values(by=var_ordered_by_completness)[var_ordered_by_completness]\n",
    "    return data_missing_table.replace(0, pd.NA).convert_dtypes()\n",
    "\n",
    "print(\"Used features: {}\".format(\", \".join(FEATURES_CLINIC_ALL)))\n",
    "data_cli_missing_table = ordered_missing_table(data=data_cli.loc[patient_ids_w_target, FEATURES_CLINIC_ALL])\n",
    "data_cli_missing_table = data_cli_missing_table.dropna(how='all', axis=0).dropna(how='all', axis=1)\n",
    "# data_cli_missing_table #hide"
   ]
  },
  {
   "cell_type": "code",
   "execution_count": 66,
   "metadata": {},
   "outputs": [
    {
     "data": {
      "text/plain": [
       "kleiner                  360\n",
       "gender_num               360\n",
       "age                      360\n",
       "alt                      360\n",
       "forns                    356\n",
       "ast                      353\n",
       "apri                     353\n",
       "nas_inflam               352\n",
       "fib4                     352\n",
       "aar                      352\n",
       "nas_steatosis_ordinal    352\n",
       "elf                      349\n",
       "te                       341\n",
       "swe                      331\n",
       "p3np                     319\n",
       "m30                      268\n",
       "ft                       268\n",
       "m30m65_ratio             266\n",
       "m65                      266\n",
       "cap                      205\n",
       "Name: count, dtype: int64"
      ]
     },
     "execution_count": 66,
     "metadata": {},
     "output_type": "execute_result"
    }
   ],
   "source": [
    "data_cli_missing_table.describe().loc['count'].astype(int)"
   ]
  },
  {
   "cell_type": "markdown",
   "metadata": {},
   "source": [
    "Compare both available data for proteomics and clinical features. We will add the availability of proteomics data as another feature to our missingness patterns."
   ]
  },
  {
   "cell_type": "code",
   "execution_count": 220,
   "metadata": {},
   "outputs": [
    {
     "data": {
      "text/plain": [
       "False"
      ]
     },
     "execution_count": 220,
     "metadata": {},
     "output_type": "execute_result"
    }
   ],
   "source": [
    "data_proteomics.isna().any(axis=None)"
   ]
  },
  {
   "cell_type": "code",
   "execution_count": 68,
   "metadata": {},
   "outputs": [
    {
     "name": "stdout",
     "output_type": "stream",
     "text": [
      "2 diagnosed patients have no valid proteome measure: Plate4_E3, Plate7_B6\n"
     ]
    }
   ],
   "source": [
    "in_both = data_proteomics.index.intersection(data_cli_missing_table.index)\n",
    "samples_wo_proteomics_data = data_cli_missing_table.index.difference(in_both)\n",
    "print(\"{} diagnosed patients have no valid proteome measure: {}\".format(\n",
    "    len(samples_wo_proteomics_data), \n",
    "    \", \".join(samples_wo_proteomics_data)\n",
    "))"
   ]
  },
  {
   "cell_type": "code",
   "execution_count": 69,
   "metadata": {},
   "outputs": [],
   "source": [
    "HAS_QUANT_PROT = 'has_prot'\n",
    "data_cli_missing_table[HAS_QUANT_PROT] = pd.Series(1, index=data_proteomics.index)"
   ]
  },
  {
   "cell_type": "code",
   "execution_count": 70,
   "metadata": {},
   "outputs": [
    {
     "data": {
      "text/html": [
       "<div>\n",
       "<style scoped>\n",
       "    .dataframe tbody tr th:only-of-type {\n",
       "        vertical-align: middle;\n",
       "    }\n",
       "\n",
       "    .dataframe tbody tr th {\n",
       "        vertical-align: top;\n",
       "    }\n",
       "\n",
       "    .dataframe thead th {\n",
       "        text-align: right;\n",
       "    }\n",
       "</style>\n",
       "<table border=\"1\" class=\"dataframe\">\n",
       "  <thead>\n",
       "    <tr style=\"text-align: right;\">\n",
       "      <th></th>\n",
       "      <th>kleiner</th>\n",
       "      <th>gender_num</th>\n",
       "      <th>age</th>\n",
       "      <th>alt</th>\n",
       "      <th>forns</th>\n",
       "      <th>ast</th>\n",
       "      <th>apri</th>\n",
       "      <th>nas_inflam</th>\n",
       "      <th>fib4</th>\n",
       "      <th>aar</th>\n",
       "      <th>...</th>\n",
       "      <th>elf</th>\n",
       "      <th>te</th>\n",
       "      <th>swe</th>\n",
       "      <th>p3np</th>\n",
       "      <th>m30</th>\n",
       "      <th>ft</th>\n",
       "      <th>m30m65_ratio</th>\n",
       "      <th>m65</th>\n",
       "      <th>cap</th>\n",
       "      <th>has_prot</th>\n",
       "    </tr>\n",
       "  </thead>\n",
       "  <tbody>\n",
       "    <tr>\n",
       "      <th>count</th>\n",
       "      <td>360.0</td>\n",
       "      <td>360.0</td>\n",
       "      <td>360.0</td>\n",
       "      <td>360.0</td>\n",
       "      <td>356.0</td>\n",
       "      <td>353.0</td>\n",
       "      <td>353.0</td>\n",
       "      <td>352.0</td>\n",
       "      <td>352.0</td>\n",
       "      <td>352.0</td>\n",
       "      <td>...</td>\n",
       "      <td>349.0</td>\n",
       "      <td>341.0</td>\n",
       "      <td>331.0</td>\n",
       "      <td>319.0</td>\n",
       "      <td>268.0</td>\n",
       "      <td>268.0</td>\n",
       "      <td>266.0</td>\n",
       "      <td>266.0</td>\n",
       "      <td>205.0</td>\n",
       "      <td>358.0</td>\n",
       "    </tr>\n",
       "    <tr>\n",
       "      <th>mean</th>\n",
       "      <td>1.0</td>\n",
       "      <td>1.0</td>\n",
       "      <td>1.0</td>\n",
       "      <td>1.0</td>\n",
       "      <td>1.0</td>\n",
       "      <td>1.0</td>\n",
       "      <td>1.0</td>\n",
       "      <td>1.0</td>\n",
       "      <td>1.0</td>\n",
       "      <td>1.0</td>\n",
       "      <td>...</td>\n",
       "      <td>1.0</td>\n",
       "      <td>1.0</td>\n",
       "      <td>1.0</td>\n",
       "      <td>1.0</td>\n",
       "      <td>1.0</td>\n",
       "      <td>1.0</td>\n",
       "      <td>1.0</td>\n",
       "      <td>1.0</td>\n",
       "      <td>1.0</td>\n",
       "      <td>1.0</td>\n",
       "    </tr>\n",
       "    <tr>\n",
       "      <th>std</th>\n",
       "      <td>0.0</td>\n",
       "      <td>0.0</td>\n",
       "      <td>0.0</td>\n",
       "      <td>0.0</td>\n",
       "      <td>0.0</td>\n",
       "      <td>0.0</td>\n",
       "      <td>0.0</td>\n",
       "      <td>0.0</td>\n",
       "      <td>0.0</td>\n",
       "      <td>0.0</td>\n",
       "      <td>...</td>\n",
       "      <td>0.0</td>\n",
       "      <td>0.0</td>\n",
       "      <td>0.0</td>\n",
       "      <td>0.0</td>\n",
       "      <td>0.0</td>\n",
       "      <td>0.0</td>\n",
       "      <td>0.0</td>\n",
       "      <td>0.0</td>\n",
       "      <td>0.0</td>\n",
       "      <td>0.0</td>\n",
       "    </tr>\n",
       "    <tr>\n",
       "      <th>min</th>\n",
       "      <td>1.0</td>\n",
       "      <td>1.0</td>\n",
       "      <td>1.0</td>\n",
       "      <td>1.0</td>\n",
       "      <td>1.0</td>\n",
       "      <td>1.0</td>\n",
       "      <td>1.0</td>\n",
       "      <td>1.0</td>\n",
       "      <td>1.0</td>\n",
       "      <td>1.0</td>\n",
       "      <td>...</td>\n",
       "      <td>1.0</td>\n",
       "      <td>1.0</td>\n",
       "      <td>1.0</td>\n",
       "      <td>1.0</td>\n",
       "      <td>1.0</td>\n",
       "      <td>1.0</td>\n",
       "      <td>1.0</td>\n",
       "      <td>1.0</td>\n",
       "      <td>1.0</td>\n",
       "      <td>1.0</td>\n",
       "    </tr>\n",
       "    <tr>\n",
       "      <th>25%</th>\n",
       "      <td>1.0</td>\n",
       "      <td>1.0</td>\n",
       "      <td>1.0</td>\n",
       "      <td>1.0</td>\n",
       "      <td>1.0</td>\n",
       "      <td>1.0</td>\n",
       "      <td>1.0</td>\n",
       "      <td>1.0</td>\n",
       "      <td>1.0</td>\n",
       "      <td>1.0</td>\n",
       "      <td>...</td>\n",
       "      <td>1.0</td>\n",
       "      <td>1.0</td>\n",
       "      <td>1.0</td>\n",
       "      <td>1.0</td>\n",
       "      <td>1.0</td>\n",
       "      <td>1.0</td>\n",
       "      <td>1.0</td>\n",
       "      <td>1.0</td>\n",
       "      <td>1.0</td>\n",
       "      <td>1.0</td>\n",
       "    </tr>\n",
       "    <tr>\n",
       "      <th>50%</th>\n",
       "      <td>1.0</td>\n",
       "      <td>1.0</td>\n",
       "      <td>1.0</td>\n",
       "      <td>1.0</td>\n",
       "      <td>1.0</td>\n",
       "      <td>1.0</td>\n",
       "      <td>1.0</td>\n",
       "      <td>1.0</td>\n",
       "      <td>1.0</td>\n",
       "      <td>1.0</td>\n",
       "      <td>...</td>\n",
       "      <td>1.0</td>\n",
       "      <td>1.0</td>\n",
       "      <td>1.0</td>\n",
       "      <td>1.0</td>\n",
       "      <td>1.0</td>\n",
       "      <td>1.0</td>\n",
       "      <td>1.0</td>\n",
       "      <td>1.0</td>\n",
       "      <td>1.0</td>\n",
       "      <td>1.0</td>\n",
       "    </tr>\n",
       "    <tr>\n",
       "      <th>75%</th>\n",
       "      <td>1.0</td>\n",
       "      <td>1.0</td>\n",
       "      <td>1.0</td>\n",
       "      <td>1.0</td>\n",
       "      <td>1.0</td>\n",
       "      <td>1.0</td>\n",
       "      <td>1.0</td>\n",
       "      <td>1.0</td>\n",
       "      <td>1.0</td>\n",
       "      <td>1.0</td>\n",
       "      <td>...</td>\n",
       "      <td>1.0</td>\n",
       "      <td>1.0</td>\n",
       "      <td>1.0</td>\n",
       "      <td>1.0</td>\n",
       "      <td>1.0</td>\n",
       "      <td>1.0</td>\n",
       "      <td>1.0</td>\n",
       "      <td>1.0</td>\n",
       "      <td>1.0</td>\n",
       "      <td>1.0</td>\n",
       "    </tr>\n",
       "    <tr>\n",
       "      <th>max</th>\n",
       "      <td>1.0</td>\n",
       "      <td>1.0</td>\n",
       "      <td>1.0</td>\n",
       "      <td>1.0</td>\n",
       "      <td>1.0</td>\n",
       "      <td>1.0</td>\n",
       "      <td>1.0</td>\n",
       "      <td>1.0</td>\n",
       "      <td>1.0</td>\n",
       "      <td>1.0</td>\n",
       "      <td>...</td>\n",
       "      <td>1.0</td>\n",
       "      <td>1.0</td>\n",
       "      <td>1.0</td>\n",
       "      <td>1.0</td>\n",
       "      <td>1.0</td>\n",
       "      <td>1.0</td>\n",
       "      <td>1.0</td>\n",
       "      <td>1.0</td>\n",
       "      <td>1.0</td>\n",
       "      <td>1.0</td>\n",
       "    </tr>\n",
       "  </tbody>\n",
       "</table>\n",
       "<p>8 rows × 21 columns</p>\n",
       "</div>"
      ],
      "text/plain": [
       "       kleiner  gender_num    age    alt  forns    ast   apri  nas_inflam  \\\n",
       "count    360.0       360.0  360.0  360.0  356.0  353.0  353.0       352.0   \n",
       "mean       1.0         1.0    1.0    1.0    1.0    1.0    1.0         1.0   \n",
       "std        0.0         0.0    0.0    0.0    0.0    0.0    0.0         0.0   \n",
       "min        1.0         1.0    1.0    1.0    1.0    1.0    1.0         1.0   \n",
       "25%        1.0         1.0    1.0    1.0    1.0    1.0    1.0         1.0   \n",
       "50%        1.0         1.0    1.0    1.0    1.0    1.0    1.0         1.0   \n",
       "75%        1.0         1.0    1.0    1.0    1.0    1.0    1.0         1.0   \n",
       "max        1.0         1.0    1.0    1.0    1.0    1.0    1.0         1.0   \n",
       "\n",
       "        fib4    aar  ...    elf     te    swe   p3np    m30     ft  \\\n",
       "count  352.0  352.0  ...  349.0  341.0  331.0  319.0  268.0  268.0   \n",
       "mean     1.0    1.0  ...    1.0    1.0    1.0    1.0    1.0    1.0   \n",
       "std      0.0    0.0  ...    0.0    0.0    0.0    0.0    0.0    0.0   \n",
       "min      1.0    1.0  ...    1.0    1.0    1.0    1.0    1.0    1.0   \n",
       "25%      1.0    1.0  ...    1.0    1.0    1.0    1.0    1.0    1.0   \n",
       "50%      1.0    1.0  ...    1.0    1.0    1.0    1.0    1.0    1.0   \n",
       "75%      1.0    1.0  ...    1.0    1.0    1.0    1.0    1.0    1.0   \n",
       "max      1.0    1.0  ...    1.0    1.0    1.0    1.0    1.0    1.0   \n",
       "\n",
       "       m30m65_ratio    m65    cap  has_prot  \n",
       "count         266.0  266.0  205.0     358.0  \n",
       "mean            1.0    1.0    1.0       1.0  \n",
       "std             0.0    0.0    0.0       0.0  \n",
       "min             1.0    1.0    1.0       1.0  \n",
       "25%             1.0    1.0    1.0       1.0  \n",
       "50%             1.0    1.0    1.0       1.0  \n",
       "75%             1.0    1.0    1.0       1.0  \n",
       "max             1.0    1.0    1.0       1.0  \n",
       "\n",
       "[8 rows x 21 columns]"
      ]
     },
     "execution_count": 70,
     "metadata": {},
     "output_type": "execute_result"
    }
   ],
   "source": [
    "data_cli_missing_table.dropna(how='all').describe()"
   ]
  },
  {
   "cell_type": "code",
   "execution_count": 71,
   "metadata": {},
   "outputs": [],
   "source": [
    "data_cli_missing_table = ordered_missing_table(data_cli_missing_table)"
   ]
  },
  {
   "cell_type": "code",
   "execution_count": 72,
   "metadata": {},
   "outputs": [
    {
     "data": {
      "text/plain": [
       "111111111111111111111    115\n",
       "111111111111111111110    107\n",
       "111111111111111100001     30\n",
       "111111111111111000001     23\n",
       "111111111111110111110     19\n",
       "111111111111101111110     12\n",
       "111111111111111100000      6\n",
       "111111111111111101001      5\n",
       "111111111111011000001      5\n",
       "111111111111111110111      4\n",
       "111111111111100111110      4\n",
       "111111000011111100001      2\n",
       "111111000011011000001      2\n",
       "111111000011111000001      2\n",
       "111111111111111111001      2\n",
       "111111111100011000001      2\n",
       "111110111111111100001      2\n",
       "111110111111111000001      1\n",
       "111111111100110100001      1\n",
       "111101111111011000001      1\n",
       "111111111100111100001      1\n",
       "111111111100110000001      1\n",
       "111111111100101111110      1\n",
       "111111111111110100000      1\n",
       "111110111111111100000      1\n",
       "111101000011011000001      1\n",
       "111111111111111000000      1\n",
       "111111111111110100001      1\n",
       "111111111100111111110      1\n",
       "111111110011111111111      1\n",
       "111111111100111000001      1\n",
       "111111111111110000001      1\n",
       "111111111111101111111      1\n",
       "111111111111111110110      1\n",
       "111111111111100100000      1\n",
       "dtype: int64"
      ]
     },
     "execution_count": 72,
     "metadata": {},
     "output_type": "execute_result"
    }
   ],
   "source": [
    "data_cli_missing_strings = data_cli_missing_table.fillna(value=0)\n",
    "data_cli_missing_strings = data_cli_missing_strings.astype(str)\n",
    "stratifier = data_cli_missing_strings.apply(lambda x : x.str.cat(), axis=1)\n",
    "# display(stratifier.head()) #hide\n",
    "stratifier_tab = stratifier.value_counts()\n",
    "stratifier_tab"
   ]
  },
  {
   "cell_type": "markdown",
   "metadata": {},
   "source": [
    "We will have to get ride of the singletons (unique value only once observed). Possibly the grouping could be extended to the values up to 5."
   ]
  },
  {
   "cell_type": "code",
   "execution_count": 73,
   "metadata": {},
   "outputs": [],
   "source": [
    "unique_missing_patterns = list(stratifier_tab.index)\n",
    "\n",
    "def match_observed(seq1, seq2):\n",
    "    return sum(pos1 == pos2 for pos1, pos2 in zip(seq1, seq2))\n",
    "\n",
    "assert match_observed(\"111111110011100001\", \"111111110011110010\") == 15, \"Failed\""
   ]
  },
  {
   "cell_type": "code",
   "execution_count": 74,
   "metadata": {},
   "outputs": [
    {
     "data": {
      "text/plain": [
       "1"
      ]
     },
     "execution_count": 74,
     "metadata": {},
     "output_type": "execute_result"
    }
   ],
   "source": [
    "stratifier.value_counts().min()"
   ]
  },
  {
   "cell_type": "code",
   "execution_count": 75,
   "metadata": {},
   "outputs": [
    {
     "data": {
      "text/plain": [
       "111111111111111111111    121\n",
       "111111111111111111110    109\n",
       "111111111111111100001     35\n",
       "111111111111111000001     26\n",
       "111111111111110111110     23\n",
       "111111111111101111110     13\n",
       "111111111111011000001     10\n",
       "111111111111111100000      9\n",
       "111111111111111101001      7\n",
       "111111000011011000001      7\n",
       "dtype: int64"
      ]
     },
     "execution_count": 75,
     "metadata": {},
     "output_type": "execute_result"
    }
   ],
   "source": [
    "def update_stratifier(stratifier_var:pd.Series, threshold:int=None, verbose:bool=False):\n",
    "    \"\"\"Takes a stratifier variable, and assigns the pattern the less \n",
    "    often observed (defined by threshold or the minimum) to the closest other missing pattern.\n",
    "    Clossness is defined by the number of features which are present/absent for the samples.\"\"\"\n",
    "    stratifier_var =stratifier_var.copy()\n",
    "    stratifier_tab = stratifier_var.value_counts()\n",
    "    current_minimum = stratifier_tab.min()\n",
    "    if threshold is not None  and current_minimum >= threshold:\n",
    "        logger.info(\"Threshold already reached.\")\n",
    "        return stratifier_var\n",
    "    unique_missing_patterns = list(stratifier_tab.index)\n",
    "    list_single_missing_patterns = stratifier_tab[stratifier_tab <= current_minimum].index\n",
    "    for single_missing_pattern in list_single_missing_patterns:\n",
    "        if verbose:\n",
    "            logger.info(f\"Find match for: {single_missing_pattern}\")\n",
    "        closest = 0\n",
    "        for i, other_seq in enumerate(unique_missing_patterns):\n",
    "            if not other_seq in list_single_missing_patterns:\n",
    "                relatedness = match_observed(single_missing_pattern, other_seq)\n",
    "                if relatedness > closest:\n",
    "                    closest = relatedness\n",
    "                    best = other_seq\n",
    "        stratifier_var[stratifier_var == single_missing_pattern] = best\n",
    "        if verbose:\n",
    "            logger.info(f\"Best match is : {best}\")\n",
    "    if threshold is not None:\n",
    "        stratifier_tab = stratifier_var.value_counts()\n",
    "        new_minimum = stratifier_tab.min()\n",
    "        if new_minimum < threshold:\n",
    "            stratifier_var = update_stratifier(stratifier_var, threshold=threshold)        \n",
    "    return stratifier_var\n",
    "# stratifier = update_stratifier(stratifier).value_counts()\n",
    "stratifier = update_stratifier(stratifier, threshold=5, verbose=True)\n",
    "stratifier.value_counts()"
   ]
  },
  {
   "cell_type": "markdown",
   "metadata": {},
   "source": [
    "Global stratification based on string. It won't be possible to distribute unique cases, which is why they were assigned to their closest papern. Then split models between endpoints are comparable as they are subsets of the global splits. This  garuantess:\n",
    "1. By endpoint: Metrics for marker on one test set does not contain patients which are in the training set of a different marker.\n",
    "2. By marker: Metrics for different endpoints on the test set does not contain training samples of a different endpoint."
   ]
  },
  {
   "cell_type": "code",
   "execution_count": 76,
   "metadata": {},
   "outputs": [],
   "source": [
    "from sklearn.model_selection import RepeatedStratifiedKFold\n",
    "\n",
    "CV_FOLDS = 5\n",
    "CV_REPEATS = 10\n",
    "\n",
    "RANDOM_SEED = 123\n",
    "\n",
    "rskf = RepeatedStratifiedKFold(n_splits=CV_FOLDS, n_repeats=CV_REPEATS, random_state=RANDOM_SEED) \n",
    "splits = list(rskf.split(data_cli_missing_table, stratifier))"
   ]
  },
  {
   "cell_type": "code",
   "execution_count": 77,
   "metadata": {},
   "outputs": [
    {
     "data": {
      "text/plain": [
       "(Index(['Plate4_E3', 'Plate1_G11', 'Plate5_A2', 'Plate3_A10', 'Plate1_E10',\n",
       "        'Plate1_E8', 'Plate5_C3', 'Plate4_H11', 'Plate2_C4', 'Plate4_G11',\n",
       "        ...\n",
       "        'Plate2_A2', 'Plate2_E6', 'Plate7_C6', 'Plate1_B7', 'Plate6_D11',\n",
       "        'Plate7_A9', 'Plate2_E3', 'Plate3_E9', 'Plate2_B9', 'Plate3_G1'],\n",
       "       dtype='object', name='Sample ID', length=288),\n",
       " Index(['Plate7_B6', 'Plate3_B6', 'Plate6_A10', 'Plate1_F8', 'Plate4_E11',\n",
       "        'Plate1_D12', 'Plate1_B8', 'Plate3_E12', 'Plate6_C5', 'Plate5_A4',\n",
       "        'Plate1_D5', 'Plate4_A7', 'Plate3_D6', 'Plate3_H10', 'Plate4_C8',\n",
       "        'Plate1_H3', 'Plate7_A6', 'Plate5_B10', 'Plate5_F9', 'Plate5_H8',\n",
       "        'Plate5_B2', 'Plate2_H5', 'Plate4_D4', 'Plate3_B8', 'Plate2_C11',\n",
       "        'Plate1_G8', 'Plate2_G3', 'Plate5_E12', 'Plate4_F8', 'Plate4_G8',\n",
       "        'Plate2_G1', 'Plate4_C3', 'Plate6_B9', 'Plate2_A12', 'Plate7_C10',\n",
       "        'Plate3_F5', 'Plate4_B10', 'Plate4_E9', 'Plate4_F1', 'Plate7_C9',\n",
       "        'Plate5_G6', 'Plate1_H8', 'Plate3_D3', 'Plate2_B12', 'Plate4_B4',\n",
       "        'Plate4_H9', 'Plate2_D3', 'Plate7_C11', 'Plate6_D3', 'Plate5_E2',\n",
       "        'Plate7_A12', 'Plate3_G10', 'Plate1_G12', 'Plate3_E1', 'Plate5_G2',\n",
       "        'Plate6_G6', 'Plate3_B10', 'Plate1_D10', 'Plate5_E5', 'Plate2_H9',\n",
       "        'Plate6_G12', 'Plate1_F10', 'Plate1_E3', 'Plate4_B6', 'Plate6_C7',\n",
       "        'Plate2_G10', 'Plate6_B8', 'Plate6_E4', 'Plate7_C12', 'Plate5_C11',\n",
       "        'Plate1_D8', 'Plate4_A2'],\n",
       "       dtype='object', name='Sample ID'))"
      ]
     },
     "execution_count": 77,
     "metadata": {},
     "output_type": "execute_result"
    }
   ],
   "source": [
    "cv_train_test_indices = list()\n",
    "for train_indices, test_indices in splits:\n",
    "    cv_train_test_indices.append(\n",
    "     (stratifier.index[train_indices], stratifier.index[test_indices])\n",
    "    )\n",
    "cv_train_test_indices[0]"
   ]
  },
  {
   "cell_type": "markdown",
   "metadata": {
    "Collapsed": "false"
   },
   "source": [
    "## Visualization of data\n",
    "\n",
    "Look at UMAPs with labels from disease categories.\n",
    "  - Does the assigned disease correspond to certain groups\n",
    " \n",
    "For clinical data, on could look at a selection of scatter plots in order to see if it is feasible to separate some groups based on two features."
   ]
  },
  {
   "cell_type": "code",
   "execution_count": 78,
   "metadata": {},
   "outputs": [],
   "source": [
    "#ToDo\n",
    "#import umap"
   ]
  },
  {
   "cell_type": "markdown",
   "metadata": {
    "Collapsed": "false"
   },
   "source": [
    "# Models\n",
    "\n",
    "Different _experimental_ setups for prediction models will be compared. First, for the target **fibrosis**. Fibrosis is reported on a five-point scale from stage F0 to F4.\n",
    "\n",
    "ML setup binary    | HP  | F0  | F1  | F2  | F3  | F4\n",
    "--- | --- | ---    | --- | --- | --- | ---\n",
    "HP-F0-F2 vs F3-F4  | c   | c   | c   | c   | t   | t    \n",
    "F0-F2 vs F3-F4 (advanced)    |     | c   | c   | c   | t   | t\n",
    "F0-F1 vs F2-F4 (significant)    |     | c   | c   | t   | t   | t\n",
    "\n",
    "In the table, c stands for control  and t for target. The clinical relevance is to distinguish different \n",
    "stages of disease. The question is wheater one should include a healthy, untested patient cohort can help building a \n",
    "classification model, as e.g. for fibrosis the general prevalence in the population is between 6 to 7 percent. Alternatively a _multi-task model_ with having 5 classes/end-points can be fit.\n",
    "\n",
    "\n",
    "In addition to fibrosis, the endpoints **steatosis** and **inflamation** can be predicted.\n",
    "\n",
    "target      | Scale   | unique values              | N samples\n",
    "-----       | --------| ---------------            | -------\n",
    "fibrosis    | five    | F0, F1, F2, F3, F4         | \n",
    "steatosis   | five    | S0, S1, S2, S3, S4         | \n",
    "inflamation | seven   | I0, I1, I2, I3, I4, I5, I6 | \n",
    "\n",
    "\n",
    "What is population of interest?\n",
    "- population at risk\n",
    "- general population (which we do not have as a \"random\" sample)\n"
   ]
  },
  {
   "cell_type": "markdown",
   "metadata": {
    "Collapsed": "false"
   },
   "source": [
    "## Preparation: Classifiers and Evaluation Functionality"
   ]
  },
  {
   "cell_type": "markdown",
   "metadata": {
    "Collapsed": "false"
   },
   "source": [
    "### Predefined (Tree-based classifiers, SVMs, GLMs)\n",
    "- Select Classifier by cross-validation using [sklearn functionality](https://scikit-learn.org/stable/model_selection.html#model-selection)"
   ]
  },
  {
   "cell_type": "code",
   "execution_count": 79,
   "metadata": {
    "Collapsed": "false"
   },
   "outputs": [],
   "source": [
    "clf_lr    = skllm.LogisticRegression(random_state=0, solver='liblinear')\n",
    "clf_lr_key = 'Logistic'\n",
    "\n",
    "# specify more sklearn classifiers if you need\n",
    "clf_sklearn = {clf_lr_key: clf_lr}"
   ]
  },
  {
   "cell_type": "markdown",
   "metadata": {
    "Collapsed": "false"
   },
   "source": [
    "[Refitting](https://scikit-learn.org/stable/tutorial/basic/tutorial.html#refitting-and-updating-parameters) the same estimator by invocing it `fit`-method overwrites the previously learned weights."
   ]
  },
  {
   "cell_type": "markdown",
   "metadata": {
    "Collapsed": "false"
   },
   "source": [
    "### Custom Threshold-based classification\n",
    "Create a classifier based on the threshold which is compatible with the basic scikit-learn functionality, see [instructions](https://scikit-learn.org/stable/developers/develop.html)"
   ]
  },
  {
   "cell_type": "markdown",
   "metadata": {},
   "source": [
    "Example for using the cutoff of Fibrosis >=2 from the cutoff-table:"
   ]
  },
  {
   "cell_type": "code",
   "execution_count": 80,
   "metadata": {},
   "outputs": [
    {
     "data": {
      "text/plain": [
       "7.0"
      ]
     },
     "execution_count": 80,
     "metadata": {},
     "output_type": "execute_result"
    }
   ],
   "source": [
    "cutoffs_clinic.loc['te','F2']"
   ]
  },
  {
   "cell_type": "code",
   "execution_count": 81,
   "metadata": {
    "Collapsed": "false",
    "tags": []
   },
   "outputs": [
    {
     "name": "stdout",
     "output_type": "stream",
     "text": [
      "{'te': 7.0}\n"
     ]
    },
    {
     "data": {
      "text/plain": [
       "array([[0., 1.],\n",
       "       [1., 0.],\n",
       "       [0., 1.],\n",
       "       [0., 1.]])"
      ]
     },
     "execution_count": 81,
     "metadata": {},
     "output_type": "execute_result"
    }
   ],
   "source": [
    "from src.threshold_classifier import ThresholdClassifier\n",
    "clf_te = ThresholdClassifier(threshold={'te':7.0})\n",
    "print(clf_te.threshold)\n",
    "clf_te.fit(data_cli.fillna(value=0))\n",
    "y_pred = clf_te.predict(data_cli)\n",
    "clf_te.predict_proba(data_cli)[:4] # no scores, either 0 or 1 as cutoff is just compared"
   ]
  },
  {
   "cell_type": "markdown",
   "metadata": {
    "Collapsed": "false"
   },
   "source": [
    "Note: Having only one feature for threshold classification does make the definiton of a cutoff unnecessary. AUC-ROC statistics are not meaningful withouth scores."
   ]
  },
  {
   "cell_type": "code",
   "execution_count": 82,
   "metadata": {
    "Collapsed": "false"
   },
   "outputs": [],
   "source": [
    "# from sklearn.utils.estimator_checks import check_estimator\n",
    "# check_estimator(ThresholdClassifier)"
   ]
  },
  {
   "cell_type": "markdown",
   "metadata": {
    "Collapsed": "true"
   },
   "source": [
    "### Confusion Matrix"
   ]
  },
  {
   "cell_type": "code",
   "execution_count": 83,
   "metadata": {
    "Collapsed": "false"
   },
   "outputs": [],
   "source": [
    "from src.scoring import ConfusionMatrix"
   ]
  },
  {
   "cell_type": "markdown",
   "metadata": {
    "Collapsed": "false"
   },
   "source": [
    "How to use it, e.g. for using a clinical marker cutoff for fibrosis:"
   ]
  },
  {
   "cell_type": "code",
   "execution_count": 84,
   "metadata": {
    "Collapsed": "false"
   },
   "outputs": [
    {
     "name": "stdout",
     "output_type": "stream",
     "text": [
      "As DataFrame:\n"
     ]
    },
    {
     "data": {
      "text/html": [
       "<div>\n",
       "<style scoped>\n",
       "    .dataframe tbody tr th:only-of-type {\n",
       "        vertical-align: middle;\n",
       "    }\n",
       "\n",
       "    .dataframe tbody tr th {\n",
       "        vertical-align: top;\n",
       "    }\n",
       "\n",
       "    .dataframe thead th {\n",
       "        text-align: right;\n",
       "    }\n",
       "</style>\n",
       "<table border=\"1\" class=\"dataframe\">\n",
       "  <thead>\n",
       "    <tr style=\"text-align: right;\">\n",
       "      <th>pred</th>\n",
       "      <th>0</th>\n",
       "      <th>1</th>\n",
       "    </tr>\n",
       "    <tr>\n",
       "      <th>true</th>\n",
       "      <th></th>\n",
       "      <th></th>\n",
       "    </tr>\n",
       "  </thead>\n",
       "  <tbody>\n",
       "    <tr>\n",
       "      <th>0</th>\n",
       "      <td>280</td>\n",
       "      <td>123</td>\n",
       "    </tr>\n",
       "    <tr>\n",
       "      <th>1</th>\n",
       "      <td>9</td>\n",
       "      <td>85</td>\n",
       "    </tr>\n",
       "  </tbody>\n",
       "</table>\n",
       "</div>"
      ],
      "text/plain": [
       "pred    0    1\n",
       "true          \n",
       "0     280  123\n",
       "1       9   85"
      ]
     },
     "metadata": {},
     "output_type": "display_data"
    },
    {
     "name": "stdout",
     "output_type": "stream",
     "text": [
      "Plain:\n",
      " [[280 123]\n",
      " [  9  85]]\n"
     ]
    }
   ],
   "source": [
    "y_true = data_cli.kleiner > 2.0\n",
    "\n",
    "# y_pred defined as Threshold-example\n",
    "cm_f2_te = ConfusionMatrix(y_true, y_pred)\n",
    "print(\"As DataFrame:\")\n",
    "display(cm_f2_te.as_dataframe)\n",
    "print(\"Plain:\\n\",cm_f2_te)"
   ]
  },
  {
   "cell_type": "markdown",
   "metadata": {
    "Collapsed": "false"
   },
   "source": [
    "### Cross-Validation Procedure"
   ]
  },
  {
   "cell_type": "markdown",
   "metadata": {
    "Collapsed": "false"
   },
   "source": [
    "*Note on Cross-Validation Procedure*\n",
    "- Comparing the performance on random splits of the entire data will lead to overconfident predicitons.\n",
    "- Performing the Cross-Validation only on a `Train`-split would allow to have a better evaluation on the test dataset. \n",
    "- Cutoff calibration would need a validation split\n",
    "\n",
    "\n",
    "##### Cutoff Specification\n",
    "> in clinical setting, false-alarms are preferrable than missed detections. Yes we should find a way to customize the cutoffs\n",
    "> to have a high sensitivity but also decent specificity, but I guess it risks over-tuning on this specific dataset?  \n",
    "> Can one ramp over and find the optimal based on F1 score? Would MCC be a better alternative?  \n",
    "> (Author?)"
   ]
  },
  {
   "cell_type": "markdown",
   "metadata": {},
   "source": [
    "#### Selected Metrics for Binary Classification evaluation"
   ]
  },
  {
   "cell_type": "code",
   "execution_count": 85,
   "metadata": {
    "Collapsed": "false"
   },
   "outputs": [
    {
     "data": {
      "text/plain": [
       "['precision', 'recall', 'f1', 'balanced_accuracy', 'roc_auc']"
      ]
     },
     "execution_count": 85,
     "metadata": {},
     "output_type": "execute_result"
    }
   ],
   "source": [
    "from sklearn.model_selection import cross_validate\n",
    "from sklearn.metrics import roc_curve\n",
    "scoring = ['precision', 'recall', 'f1', 'balanced_accuracy', 'roc_auc']\n",
    "scoring"
   ]
  },
  {
   "cell_type": "markdown",
   "metadata": {},
   "source": [
    "We build a dictionary of the scoring functions for later use:"
   ]
  },
  {
   "cell_type": "markdown",
   "metadata": {},
   "source": [
    "#### Define population in order to obtain comparable splits of the data\n",
    "\n",
    "The common functionality provided by `sklearn` does not allow for [nested stratification](https://stackoverflow.com/a/45526792/9684872). `RepeatedKFold` is splitting based on the data in the target variable.\n",
    "One solution is to encode a sample with missing target or feature values explicitly into the target variable, but this is not feasible for many different sets of feature and target variables (here each marker-variable with each target is a set).\n",
    "\n",
    "Data has to be aligned for computation. Due to missing values on some features, the runs are not directly comparable."
   ]
  },
  {
   "cell_type": "code",
   "execution_count": 86,
   "metadata": {},
   "outputs": [],
   "source": [
    "_y = kleiner_ge_2\n",
    "_X = data_cli.te.to_frame().fillna(0)\n",
    "in_both = _y.index.intersection(_X.index)\n",
    "_X = _X.loc[in_both]"
   ]
  },
  {
   "cell_type": "markdown",
   "metadata": {
    "Collapsed": "false"
   },
   "source": [
    "e.g. for clinical marker"
   ]
  },
  {
   "cell_type": "code",
   "execution_count": 87,
   "metadata": {
    "Collapsed": "false",
    "tags": []
   },
   "outputs": [
    {
     "name": "stdout",
     "output_type": "stream",
     "text": [
      "Klassifiers: f2_te, Logistic\n"
     ]
    },
    {
     "data": {
      "text/plain": [
       "dict_keys(['f2_te', 'Logistic'])"
      ]
     },
     "execution_count": 87,
     "metadata": {},
     "output_type": "execute_result"
    }
   ],
   "source": [
    "from src.cross_validation import run_cv_binary_simple, _get_cv_means\n",
    "clf = {**{'f2_te': clf_te}, **clf_sklearn}\n",
    "print(\"Klassifiers:\", \", \".join(clf.keys()))\n",
    "\n",
    "result_dict = run_cv_binary_simple(clf, X=_X, y=_y, cv=5, scoring=scoring, return_estimator=True)\n",
    "result_dict.keys()"
   ]
  },
  {
   "cell_type": "code",
   "execution_count": 88,
   "metadata": {},
   "outputs": [
    {
     "data": {
      "text/html": [
       "<div>\n",
       "<style scoped>\n",
       "    .dataframe tbody tr th:only-of-type {\n",
       "        vertical-align: middle;\n",
       "    }\n",
       "\n",
       "    .dataframe tbody tr th {\n",
       "        vertical-align: top;\n",
       "    }\n",
       "\n",
       "    .dataframe thead tr th {\n",
       "        text-align: left;\n",
       "    }\n",
       "</style>\n",
       "<table border=\"1\" class=\"dataframe\">\n",
       "  <thead>\n",
       "    <tr>\n",
       "      <th>variable</th>\n",
       "      <th colspan=\"2\" halign=\"left\">fit_time</th>\n",
       "      <th colspan=\"2\" halign=\"left\">score_time</th>\n",
       "      <th colspan=\"2\" halign=\"left\">test_precision</th>\n",
       "      <th colspan=\"2\" halign=\"left\">test_recall</th>\n",
       "      <th colspan=\"2\" halign=\"left\">test_f1</th>\n",
       "      <th colspan=\"2\" halign=\"left\">test_balanced_accuracy</th>\n",
       "      <th colspan=\"2\" halign=\"left\">test_roc_auc</th>\n",
       "      <th colspan=\"2\" halign=\"left\">num_feat</th>\n",
       "      <th colspan=\"2\" halign=\"left\">n_obs</th>\n",
       "    </tr>\n",
       "    <tr>\n",
       "      <th>statistics</th>\n",
       "      <th>mean</th>\n",
       "      <th>std</th>\n",
       "      <th>mean</th>\n",
       "      <th>std</th>\n",
       "      <th>mean</th>\n",
       "      <th>std</th>\n",
       "      <th>mean</th>\n",
       "      <th>std</th>\n",
       "      <th>mean</th>\n",
       "      <th>std</th>\n",
       "      <th>mean</th>\n",
       "      <th>std</th>\n",
       "      <th>mean</th>\n",
       "      <th>std</th>\n",
       "      <th>mean</th>\n",
       "      <th>std</th>\n",
       "      <th>mean</th>\n",
       "      <th>std</th>\n",
       "    </tr>\n",
       "  </thead>\n",
       "  <tbody>\n",
       "    <tr>\n",
       "      <th>Logistic</th>\n",
       "      <td>0.002598</td>\n",
       "      <td>0.000964</td>\n",
       "      <td>0.006090</td>\n",
       "      <td>0.000428</td>\n",
       "      <td>0.846000</td>\n",
       "      <td>0.119711</td>\n",
       "      <td>0.705</td>\n",
       "      <td>0.123895</td>\n",
       "      <td>0.751956</td>\n",
       "      <td>0.049203</td>\n",
       "      <td>0.74625</td>\n",
       "      <td>0.081452</td>\n",
       "      <td>0.829453</td>\n",
       "      <td>0.029588</td>\n",
       "      <td>1.0</td>\n",
       "      <td>0.0</td>\n",
       "      <td>360.0</td>\n",
       "      <td>0.0</td>\n",
       "    </tr>\n",
       "    <tr>\n",
       "      <th>f2_te</th>\n",
       "      <td>0.001353</td>\n",
       "      <td>0.000147</td>\n",
       "      <td>0.007359</td>\n",
       "      <td>0.000680</td>\n",
       "      <td>0.788256</td>\n",
       "      <td>0.099734</td>\n",
       "      <td>0.765</td>\n",
       "      <td>0.090277</td>\n",
       "      <td>0.765368</td>\n",
       "      <td>0.032199</td>\n",
       "      <td>0.73250</td>\n",
       "      <td>0.083212</td>\n",
       "      <td>0.732500</td>\n",
       "      <td>0.083212</td>\n",
       "      <td>1.0</td>\n",
       "      <td>0.0</td>\n",
       "      <td>360.0</td>\n",
       "      <td>0.0</td>\n",
       "    </tr>\n",
       "  </tbody>\n",
       "</table>\n",
       "</div>"
      ],
      "text/plain": [
       "variable    fit_time           score_time           test_precision            \\\n",
       "statistics      mean       std       mean       std           mean       std   \n",
       "Logistic    0.002598  0.000964   0.006090  0.000428       0.846000  0.119711   \n",
       "f2_te       0.001353  0.000147   0.007359  0.000680       0.788256  0.099734   \n",
       "\n",
       "variable   test_recall             test_f1           test_balanced_accuracy  \\\n",
       "statistics        mean       std      mean       std                   mean   \n",
       "Logistic         0.705  0.123895  0.751956  0.049203                0.74625   \n",
       "f2_te            0.765  0.090277  0.765368  0.032199                0.73250   \n",
       "\n",
       "variable             test_roc_auc           num_feat       n_obs       \n",
       "statistics       std         mean       std     mean  std   mean  std  \n",
       "Logistic    0.081452     0.829453  0.029588      1.0  0.0  360.0  0.0  \n",
       "f2_te       0.083212     0.732500  0.083212      1.0  0.0  360.0  0.0  "
      ]
     },
     "execution_count": 88,
     "metadata": {},
     "output_type": "execute_result"
    }
   ],
   "source": [
    "_get_cv_means(result_dict).sort_values(('test_f1', 'mean'))"
   ]
  },
  {
   "cell_type": "markdown",
   "metadata": {
    "Collapsed": "false"
   },
   "source": [
    "> NOTE: The ROC_AUC value is misleading in case of the ThresholdClassification `f2_te` as the predictor does not yield probabilites ($y_{predicted} \\in \\{0,1\\}$)."
   ]
  },
  {
   "cell_type": "markdown",
   "metadata": {},
   "source": [
    "#### Try to visualize Decision"
   ]
  },
  {
   "cell_type": "markdown",
   "metadata": {},
   "source": [
    "##### Univariate Logistic Regression\n",
    "For the univariate logistic regression\n",
    "$$ ln \\frac{p}{1-p} = \\beta_0 + \\beta_1 \\cdot x $$\n",
    "the cutoff `c=0.5` corresponds a feature value of: \n",
    "$$ x = - \\frac{\\beta_0}{\\beta_1} $$"
   ]
  },
  {
   "cell_type": "code",
   "execution_count": 89,
   "metadata": {},
   "outputs": [
    {
     "name": "stdout",
     "output_type": "stream",
     "text": [
      "Custom cutoff defined by Logistic regressor: 8.80 \n",
      "Custom cutoff defined by Logistic regressor: 8.61 \n",
      "Custom cutoff defined by Logistic regressor: 8.89 \n",
      "Custom cutoff defined by Logistic regressor: 8.91 \n",
      "Custom cutoff defined by Logistic regressor: 7.58 \n"
     ]
    }
   ],
   "source": [
    "for lr_est in result_dict['Logistic']['estimator']:\n",
    "    # lr_0 = result_dict['Logistic']['estimator'][0]    \n",
    "    print(f\"Custom cutoff defined by Logistic regressor: {- float(lr_est.intercept_) / float(lr_est.coef_):.2f} \")"
   ]
  },
  {
   "cell_type": "markdown",
   "metadata": {
    "Collapsed": "false"
   },
   "source": [
    "#### Rebuilded `run_cv_binary` to get roc_curve value\n",
    "\n",
    "The re-implemented interface for `run_cv_binary` has a a similar interface as sklearns [`cross_validate`](https://scikit-learn.org/stable/modules/generated/sklearn.model_selection.cross_validate.html). The `group` parameter is missing as it's not used currently in this setup."
   ]
  },
  {
   "cell_type": "code",
   "execution_count": 90,
   "metadata": {},
   "outputs": [],
   "source": [
    "from src.cross_validation import run_cv_binary\n",
    "#run_cv_binary?"
   ]
  },
  {
   "cell_type": "code",
   "execution_count": 91,
   "metadata": {},
   "outputs": [],
   "source": [
    "results_dict, roc_curve_results, precision_recall_results = run_cv_binary(clf, X=_X, y=_y, cv=cv_train_test_indices, prefix='F2_', verbose=True)"
   ]
  },
  {
   "cell_type": "code",
   "execution_count": 92,
   "metadata": {},
   "outputs": [],
   "source": [
    "# mean over flattend array\n",
    "assert np.mean(pd.DataFrame(results_dict).loc['y_test', 'F2_Logistic']) == np.mean(np.array(pd.DataFrame(results_dict).loc['y_test', 'F2_Logistic']).flatten())"
   ]
  },
  {
   "cell_type": "markdown",
   "metadata": {
    "Collapsed": "false"
   },
   "source": [
    "Display CV results (metrics):"
   ]
  },
  {
   "cell_type": "code",
   "execution_count": 93,
   "metadata": {
    "Collapsed": "false"
   },
   "outputs": [
    {
     "data": {
      "text/html": [
       "<div>\n",
       "<style scoped>\n",
       "    .dataframe tbody tr th:only-of-type {\n",
       "        vertical-align: middle;\n",
       "    }\n",
       "\n",
       "    .dataframe tbody tr th {\n",
       "        vertical-align: top;\n",
       "    }\n",
       "\n",
       "    .dataframe thead tr th {\n",
       "        text-align: left;\n",
       "    }\n",
       "</style>\n",
       "<table border=\"1\" class=\"dataframe\">\n",
       "  <thead>\n",
       "    <tr>\n",
       "      <th>variable</th>\n",
       "      <th colspan=\"2\" halign=\"left\">precision</th>\n",
       "      <th colspan=\"2\" halign=\"left\">recall</th>\n",
       "      <th colspan=\"2\" halign=\"left\">f1</th>\n",
       "      <th colspan=\"2\" halign=\"left\">balanced_accuracy</th>\n",
       "      <th colspan=\"2\" halign=\"left\">roc_auc</th>\n",
       "      <th colspan=\"2\" halign=\"left\">num_feat</th>\n",
       "      <th colspan=\"2\" halign=\"left\">n_obs</th>\n",
       "      <th colspan=\"2\" halign=\"left\">prop_y_train</th>\n",
       "      <th colspan=\"2\" halign=\"left\">prop_y_test</th>\n",
       "      <th colspan=\"2\" halign=\"left\">roc_auc_2</th>\n",
       "    </tr>\n",
       "    <tr>\n",
       "      <th>statistics</th>\n",
       "      <th>mean</th>\n",
       "      <th>std</th>\n",
       "      <th>mean</th>\n",
       "      <th>std</th>\n",
       "      <th>mean</th>\n",
       "      <th>std</th>\n",
       "      <th>mean</th>\n",
       "      <th>std</th>\n",
       "      <th>mean</th>\n",
       "      <th>std</th>\n",
       "      <th>mean</th>\n",
       "      <th>std</th>\n",
       "      <th>mean</th>\n",
       "      <th>std</th>\n",
       "      <th>mean</th>\n",
       "      <th>std</th>\n",
       "      <th>mean</th>\n",
       "      <th>std</th>\n",
       "      <th>mean</th>\n",
       "      <th>std</th>\n",
       "    </tr>\n",
       "  </thead>\n",
       "  <tbody>\n",
       "    <tr>\n",
       "      <th>F2_Logistic</th>\n",
       "      <td>0.822960</td>\n",
       "      <td>0.084018</td>\n",
       "      <td>0.710190</td>\n",
       "      <td>0.065621</td>\n",
       "      <td>0.758944</td>\n",
       "      <td>0.053574</td>\n",
       "      <td>0.760531</td>\n",
       "      <td>0.048169</td>\n",
       "      <td>0.816217</td>\n",
       "      <td>0.041837</td>\n",
       "      <td>1.0</td>\n",
       "      <td>0.0</td>\n",
       "      <td>360.0</td>\n",
       "      <td>0.0</td>\n",
       "      <td>0.555556</td>\n",
       "      <td>0.013941</td>\n",
       "      <td>0.555556</td>\n",
       "      <td>0.055763</td>\n",
       "      <td>0.816217</td>\n",
       "      <td>0.041837</td>\n",
       "    </tr>\n",
       "    <tr>\n",
       "      <th>F2_f2_te</th>\n",
       "      <td>0.760457</td>\n",
       "      <td>0.067588</td>\n",
       "      <td>0.763575</td>\n",
       "      <td>0.053465</td>\n",
       "      <td>0.760331</td>\n",
       "      <td>0.049311</td>\n",
       "      <td>0.732516</td>\n",
       "      <td>0.043720</td>\n",
       "      <td>0.732516</td>\n",
       "      <td>0.043720</td>\n",
       "      <td>1.0</td>\n",
       "      <td>0.0</td>\n",
       "      <td>360.0</td>\n",
       "      <td>0.0</td>\n",
       "      <td>0.555556</td>\n",
       "      <td>0.013941</td>\n",
       "      <td>0.555556</td>\n",
       "      <td>0.055763</td>\n",
       "      <td>0.732516</td>\n",
       "      <td>0.043720</td>\n",
       "    </tr>\n",
       "  </tbody>\n",
       "</table>\n",
       "</div>"
      ],
      "text/plain": [
       "variable    precision              recall                  f1            \\\n",
       "statistics       mean       std      mean       std      mean       std   \n",
       "F2_Logistic  0.822960  0.084018  0.710190  0.065621  0.758944  0.053574   \n",
       "F2_f2_te     0.760457  0.067588  0.763575  0.053465  0.760331  0.049311   \n",
       "\n",
       "variable    balanced_accuracy             roc_auc           num_feat       \\\n",
       "statistics               mean       std      mean       std     mean  std   \n",
       "F2_Logistic          0.760531  0.048169  0.816217  0.041837      1.0  0.0   \n",
       "F2_f2_te             0.732516  0.043720  0.732516  0.043720      1.0  0.0   \n",
       "\n",
       "variable     n_obs      prop_y_train           prop_y_test            \\\n",
       "statistics    mean  std         mean       std        mean       std   \n",
       "F2_Logistic  360.0  0.0     0.555556  0.013941    0.555556  0.055763   \n",
       "F2_f2_te     360.0  0.0     0.555556  0.013941    0.555556  0.055763   \n",
       "\n",
       "variable    roc_auc_2            \n",
       "statistics       mean       std  \n",
       "F2_Logistic  0.816217  0.041837  \n",
       "F2_f2_te     0.732516  0.043720  "
      ]
     },
     "execution_count": 93,
     "metadata": {},
     "output_type": "execute_result"
    }
   ],
   "source": [
    "_get_cv_means(results_dict)"
   ]
  },
  {
   "cell_type": "markdown",
   "metadata": {},
   "source": [
    "#### Averaging the predictions\n",
    "Get predictions for samples as average of the predictions on test set"
   ]
  },
  {
   "cell_type": "code",
   "execution_count": 94,
   "metadata": {},
   "outputs": [
    {
     "data": {
      "text/html": [
       "<div>\n",
       "<style scoped>\n",
       "    .dataframe tbody tr th:only-of-type {\n",
       "        vertical-align: middle;\n",
       "    }\n",
       "\n",
       "    .dataframe tbody tr th {\n",
       "        vertical-align: top;\n",
       "    }\n",
       "\n",
       "    .dataframe thead th {\n",
       "        text-align: right;\n",
       "    }\n",
       "</style>\n",
       "<table border=\"1\" class=\"dataframe\">\n",
       "  <thead>\n",
       "    <tr style=\"text-align: right;\">\n",
       "      <th></th>\n",
       "      <th>run_00</th>\n",
       "      <th>run_01</th>\n",
       "      <th>run_02</th>\n",
       "      <th>run_03</th>\n",
       "      <th>run_04</th>\n",
       "      <th>run_05</th>\n",
       "      <th>run_06</th>\n",
       "      <th>run_07</th>\n",
       "      <th>run_08</th>\n",
       "      <th>run_09</th>\n",
       "      <th>...</th>\n",
       "      <th>run_40</th>\n",
       "      <th>run_41</th>\n",
       "      <th>run_42</th>\n",
       "      <th>run_43</th>\n",
       "      <th>run_44</th>\n",
       "      <th>run_45</th>\n",
       "      <th>run_46</th>\n",
       "      <th>run_47</th>\n",
       "      <th>run_48</th>\n",
       "      <th>run_49</th>\n",
       "    </tr>\n",
       "    <tr>\n",
       "      <th>Sample ID</th>\n",
       "      <th></th>\n",
       "      <th></th>\n",
       "      <th></th>\n",
       "      <th></th>\n",
       "      <th></th>\n",
       "      <th></th>\n",
       "      <th></th>\n",
       "      <th></th>\n",
       "      <th></th>\n",
       "      <th></th>\n",
       "      <th></th>\n",
       "      <th></th>\n",
       "      <th></th>\n",
       "      <th></th>\n",
       "      <th></th>\n",
       "      <th></th>\n",
       "      <th></th>\n",
       "      <th></th>\n",
       "      <th></th>\n",
       "      <th></th>\n",
       "      <th></th>\n",
       "    </tr>\n",
       "  </thead>\n",
       "  <tbody>\n",
       "    <tr>\n",
       "      <th>Plate6_G11</th>\n",
       "      <td>NaN</td>\n",
       "      <td>NaN</td>\n",
       "      <td>NaN</td>\n",
       "      <td>NaN</td>\n",
       "      <td>0.519821</td>\n",
       "      <td>NaN</td>\n",
       "      <td>NaN</td>\n",
       "      <td>NaN</td>\n",
       "      <td>0.543201</td>\n",
       "      <td>NaN</td>\n",
       "      <td>...</td>\n",
       "      <td>0.537871</td>\n",
       "      <td>NaN</td>\n",
       "      <td>NaN</td>\n",
       "      <td>NaN</td>\n",
       "      <td>NaN</td>\n",
       "      <td>0.547867</td>\n",
       "      <td>NaN</td>\n",
       "      <td>NaN</td>\n",
       "      <td>NaN</td>\n",
       "      <td>NaN</td>\n",
       "    </tr>\n",
       "    <tr>\n",
       "      <th>Plate1_F7</th>\n",
       "      <td>NaN</td>\n",
       "      <td>NaN</td>\n",
       "      <td>NaN</td>\n",
       "      <td>0.173315</td>\n",
       "      <td>NaN</td>\n",
       "      <td>NaN</td>\n",
       "      <td>NaN</td>\n",
       "      <td>NaN</td>\n",
       "      <td>0.165530</td>\n",
       "      <td>NaN</td>\n",
       "      <td>...</td>\n",
       "      <td>NaN</td>\n",
       "      <td>NaN</td>\n",
       "      <td>NaN</td>\n",
       "      <td>0.15088</td>\n",
       "      <td>NaN</td>\n",
       "      <td>0.182321</td>\n",
       "      <td>NaN</td>\n",
       "      <td>NaN</td>\n",
       "      <td>NaN</td>\n",
       "      <td>NaN</td>\n",
       "    </tr>\n",
       "    <tr>\n",
       "      <th>Plate6_D2</th>\n",
       "      <td>NaN</td>\n",
       "      <td>NaN</td>\n",
       "      <td>NaN</td>\n",
       "      <td>0.502471</td>\n",
       "      <td>NaN</td>\n",
       "      <td>NaN</td>\n",
       "      <td>NaN</td>\n",
       "      <td>0.473852</td>\n",
       "      <td>NaN</td>\n",
       "      <td>NaN</td>\n",
       "      <td>...</td>\n",
       "      <td>NaN</td>\n",
       "      <td>0.526301</td>\n",
       "      <td>NaN</td>\n",
       "      <td>NaN</td>\n",
       "      <td>NaN</td>\n",
       "      <td>NaN</td>\n",
       "      <td>NaN</td>\n",
       "      <td>NaN</td>\n",
       "      <td>NaN</td>\n",
       "      <td>0.529651</td>\n",
       "    </tr>\n",
       "    <tr>\n",
       "      <th>Plate6_C5</th>\n",
       "      <td>0.877745</td>\n",
       "      <td>NaN</td>\n",
       "      <td>NaN</td>\n",
       "      <td>NaN</td>\n",
       "      <td>NaN</td>\n",
       "      <td>NaN</td>\n",
       "      <td>NaN</td>\n",
       "      <td>NaN</td>\n",
       "      <td>0.886994</td>\n",
       "      <td>NaN</td>\n",
       "      <td>...</td>\n",
       "      <td>NaN</td>\n",
       "      <td>NaN</td>\n",
       "      <td>0.845313</td>\n",
       "      <td>NaN</td>\n",
       "      <td>NaN</td>\n",
       "      <td>NaN</td>\n",
       "      <td>NaN</td>\n",
       "      <td>0.830246</td>\n",
       "      <td>NaN</td>\n",
       "      <td>NaN</td>\n",
       "    </tr>\n",
       "    <tr>\n",
       "      <th>Plate4_F8</th>\n",
       "      <td>0.999994</td>\n",
       "      <td>NaN</td>\n",
       "      <td>NaN</td>\n",
       "      <td>NaN</td>\n",
       "      <td>NaN</td>\n",
       "      <td>NaN</td>\n",
       "      <td>NaN</td>\n",
       "      <td>NaN</td>\n",
       "      <td>NaN</td>\n",
       "      <td>0.999994</td>\n",
       "      <td>...</td>\n",
       "      <td>NaN</td>\n",
       "      <td>NaN</td>\n",
       "      <td>NaN</td>\n",
       "      <td>NaN</td>\n",
       "      <td>0.999986</td>\n",
       "      <td>NaN</td>\n",
       "      <td>NaN</td>\n",
       "      <td>0.999957</td>\n",
       "      <td>NaN</td>\n",
       "      <td>NaN</td>\n",
       "    </tr>\n",
       "  </tbody>\n",
       "</table>\n",
       "<p>5 rows × 50 columns</p>\n",
       "</div>"
      ],
      "text/plain": [
       "              run_00  run_01  run_02    run_03    run_04  run_05  run_06  \\\n",
       "Sample ID                                                                  \n",
       "Plate6_G11       NaN     NaN     NaN       NaN  0.519821     NaN     NaN   \n",
       "Plate1_F7        NaN     NaN     NaN  0.173315       NaN     NaN     NaN   \n",
       "Plate6_D2        NaN     NaN     NaN  0.502471       NaN     NaN     NaN   \n",
       "Plate6_C5   0.877745     NaN     NaN       NaN       NaN     NaN     NaN   \n",
       "Plate4_F8   0.999994     NaN     NaN       NaN       NaN     NaN     NaN   \n",
       "\n",
       "              run_07    run_08    run_09  ...    run_40    run_41    run_42  \\\n",
       "Sample ID                                 ...                                 \n",
       "Plate6_G11       NaN  0.543201       NaN  ...  0.537871       NaN       NaN   \n",
       "Plate1_F7        NaN  0.165530       NaN  ...       NaN       NaN       NaN   \n",
       "Plate6_D2   0.473852       NaN       NaN  ...       NaN  0.526301       NaN   \n",
       "Plate6_C5        NaN  0.886994       NaN  ...       NaN       NaN  0.845313   \n",
       "Plate4_F8        NaN       NaN  0.999994  ...       NaN       NaN       NaN   \n",
       "\n",
       "             run_43    run_44    run_45  run_46    run_47  run_48    run_49  \n",
       "Sample ID                                                                    \n",
       "Plate6_G11      NaN       NaN  0.547867     NaN       NaN     NaN       NaN  \n",
       "Plate1_F7   0.15088       NaN  0.182321     NaN       NaN     NaN       NaN  \n",
       "Plate6_D2       NaN       NaN       NaN     NaN       NaN     NaN  0.529651  \n",
       "Plate6_C5       NaN       NaN       NaN     NaN  0.830246     NaN       NaN  \n",
       "Plate4_F8       NaN  0.999986       NaN     NaN  0.999957     NaN       NaN  \n",
       "\n",
       "[5 rows x 50 columns]"
      ]
     },
     "metadata": {},
     "output_type": "display_data"
    },
    {
     "data": {
      "text/html": [
       "<div>\n",
       "<style scoped>\n",
       "    .dataframe tbody tr th:only-of-type {\n",
       "        vertical-align: middle;\n",
       "    }\n",
       "\n",
       "    .dataframe tbody tr th {\n",
       "        vertical-align: top;\n",
       "    }\n",
       "\n",
       "    .dataframe thead th {\n",
       "        text-align: right;\n",
       "    }\n",
       "</style>\n",
       "<table border=\"1\" class=\"dataframe\">\n",
       "  <thead>\n",
       "    <tr style=\"text-align: right;\">\n",
       "      <th></th>\n",
       "      <th>mean</th>\n",
       "      <th>std</th>\n",
       "      <th>n_pred</th>\n",
       "    </tr>\n",
       "    <tr>\n",
       "      <th>Sample ID</th>\n",
       "      <th></th>\n",
       "      <th></th>\n",
       "      <th></th>\n",
       "    </tr>\n",
       "  </thead>\n",
       "  <tbody>\n",
       "    <tr>\n",
       "      <th>Plate6_G11</th>\n",
       "      <td>0.537701</td>\n",
       "      <td>0.013726</td>\n",
       "      <td>10</td>\n",
       "    </tr>\n",
       "    <tr>\n",
       "      <th>Plate1_F7</th>\n",
       "      <td>0.174547</td>\n",
       "      <td>0.012473</td>\n",
       "      <td>10</td>\n",
       "    </tr>\n",
       "    <tr>\n",
       "      <th>Plate6_D2</th>\n",
       "      <td>0.508038</td>\n",
       "      <td>0.016623</td>\n",
       "      <td>10</td>\n",
       "    </tr>\n",
       "    <tr>\n",
       "      <th>Plate6_C5</th>\n",
       "      <td>0.858803</td>\n",
       "      <td>0.018440</td>\n",
       "      <td>10</td>\n",
       "    </tr>\n",
       "    <tr>\n",
       "      <th>Plate4_F8</th>\n",
       "      <td>0.999986</td>\n",
       "      <td>0.000014</td>\n",
       "      <td>10</td>\n",
       "    </tr>\n",
       "  </tbody>\n",
       "</table>\n",
       "</div>"
      ],
      "text/plain": [
       "                mean       std  n_pred\n",
       "Sample ID                             \n",
       "Plate6_G11  0.537701  0.013726      10\n",
       "Plate1_F7   0.174547  0.012473      10\n",
       "Plate6_D2   0.508038  0.016623      10\n",
       "Plate6_C5   0.858803  0.018440      10\n",
       "Plate4_F8   0.999986  0.000014      10"
      ]
     },
     "execution_count": 94,
     "metadata": {},
     "output_type": "execute_result"
    }
   ],
   "source": [
    "_df = pd.DataFrame(index=_y.index)\n",
    "for _i, _y_pred in enumerate(results_dict['F2_Logistic']['y_test']):\n",
    "    _df[f'run_{_i:02}'] = _y_pred\n",
    "display(_df.head())\n",
    "results = _df.mean(axis=1).to_frame(name='mean')\n",
    "results['std'] = _df.std(axis=1, skipna=True)\n",
    "results['n_pred'] = _df.notna().sum(axis=1).astype(int)\n",
    "results.head()"
   ]
  },
  {
   "cell_type": "code",
   "execution_count": 95,
   "metadata": {},
   "outputs": [],
   "source": [
    "del results"
   ]
  },
  {
   "cell_type": "markdown",
   "metadata": {},
   "source": [
    "#### Confidence-Intervals"
   ]
  },
  {
   "cell_type": "code",
   "execution_count": 96,
   "metadata": {},
   "outputs": [
    {
     "data": {
      "text/html": [
       "<div>\n",
       "<style scoped>\n",
       "    .dataframe tbody tr th:only-of-type {\n",
       "        vertical-align: middle;\n",
       "    }\n",
       "\n",
       "    .dataframe tbody tr th {\n",
       "        vertical-align: top;\n",
       "    }\n",
       "\n",
       "    .dataframe thead tr th {\n",
       "        text-align: left;\n",
       "    }\n",
       "</style>\n",
       "<table border=\"1\" class=\"dataframe\">\n",
       "  <thead>\n",
       "    <tr>\n",
       "      <th>variable</th>\n",
       "      <th colspan=\"2\" halign=\"left\">precision</th>\n",
       "      <th colspan=\"2\" halign=\"left\">recall</th>\n",
       "      <th colspan=\"2\" halign=\"left\">f1</th>\n",
       "      <th colspan=\"2\" halign=\"left\">balanced_accuracy</th>\n",
       "      <th colspan=\"2\" halign=\"left\">roc_auc</th>\n",
       "      <th colspan=\"2\" halign=\"left\">num_feat</th>\n",
       "      <th colspan=\"2\" halign=\"left\">n_obs</th>\n",
       "      <th colspan=\"2\" halign=\"left\">prop_y_train</th>\n",
       "      <th colspan=\"2\" halign=\"left\">prop_y_test</th>\n",
       "      <th colspan=\"2\" halign=\"left\">roc_auc_2</th>\n",
       "    </tr>\n",
       "    <tr>\n",
       "      <th>statistics</th>\n",
       "      <th>mean</th>\n",
       "      <th>std</th>\n",
       "      <th>mean</th>\n",
       "      <th>std</th>\n",
       "      <th>mean</th>\n",
       "      <th>std</th>\n",
       "      <th>mean</th>\n",
       "      <th>std</th>\n",
       "      <th>mean</th>\n",
       "      <th>std</th>\n",
       "      <th>mean</th>\n",
       "      <th>std</th>\n",
       "      <th>mean</th>\n",
       "      <th>std</th>\n",
       "      <th>mean</th>\n",
       "      <th>std</th>\n",
       "      <th>mean</th>\n",
       "      <th>std</th>\n",
       "      <th>mean</th>\n",
       "      <th>std</th>\n",
       "    </tr>\n",
       "  </thead>\n",
       "  <tbody>\n",
       "    <tr>\n",
       "      <th>F2_Logistic</th>\n",
       "      <td>0.822960</td>\n",
       "      <td>0.084018</td>\n",
       "      <td>0.710190</td>\n",
       "      <td>0.065621</td>\n",
       "      <td>0.758944</td>\n",
       "      <td>0.053574</td>\n",
       "      <td>0.760531</td>\n",
       "      <td>0.048169</td>\n",
       "      <td>0.816217</td>\n",
       "      <td>0.041837</td>\n",
       "      <td>1.0</td>\n",
       "      <td>0.0</td>\n",
       "      <td>360.0</td>\n",
       "      <td>0.0</td>\n",
       "      <td>0.555556</td>\n",
       "      <td>0.013941</td>\n",
       "      <td>0.555556</td>\n",
       "      <td>0.055763</td>\n",
       "      <td>0.816217</td>\n",
       "      <td>0.041837</td>\n",
       "    </tr>\n",
       "    <tr>\n",
       "      <th>F2_f2_te</th>\n",
       "      <td>0.760457</td>\n",
       "      <td>0.067588</td>\n",
       "      <td>0.763575</td>\n",
       "      <td>0.053465</td>\n",
       "      <td>0.760331</td>\n",
       "      <td>0.049311</td>\n",
       "      <td>0.732516</td>\n",
       "      <td>0.043720</td>\n",
       "      <td>0.732516</td>\n",
       "      <td>0.043720</td>\n",
       "      <td>1.0</td>\n",
       "      <td>0.0</td>\n",
       "      <td>360.0</td>\n",
       "      <td>0.0</td>\n",
       "      <td>0.555556</td>\n",
       "      <td>0.013941</td>\n",
       "      <td>0.555556</td>\n",
       "      <td>0.055763</td>\n",
       "      <td>0.732516</td>\n",
       "      <td>0.043720</td>\n",
       "    </tr>\n",
       "  </tbody>\n",
       "</table>\n",
       "</div>"
      ],
      "text/plain": [
       "variable    precision              recall                  f1            \\\n",
       "statistics       mean       std      mean       std      mean       std   \n",
       "F2_Logistic  0.822960  0.084018  0.710190  0.065621  0.758944  0.053574   \n",
       "F2_f2_te     0.760457  0.067588  0.763575  0.053465  0.760331  0.049311   \n",
       "\n",
       "variable    balanced_accuracy             roc_auc           num_feat       \\\n",
       "statistics               mean       std      mean       std     mean  std   \n",
       "F2_Logistic          0.760531  0.048169  0.816217  0.041837      1.0  0.0   \n",
       "F2_f2_te             0.732516  0.043720  0.732516  0.043720      1.0  0.0   \n",
       "\n",
       "variable     n_obs      prop_y_train           prop_y_test            \\\n",
       "statistics    mean  std         mean       std        mean       std   \n",
       "F2_Logistic  360.0  0.0     0.555556  0.013941    0.555556  0.055763   \n",
       "F2_f2_te     360.0  0.0     0.555556  0.013941    0.555556  0.055763   \n",
       "\n",
       "variable    roc_auc_2            \n",
       "statistics       mean       std  \n",
       "F2_Logistic  0.816217  0.041837  \n",
       "F2_f2_te     0.732516  0.043720  "
      ]
     },
     "execution_count": 96,
     "metadata": {},
     "output_type": "execute_result"
    }
   ],
   "source": [
    "result_metrics = _get_cv_means(results_dict)\n",
    "result_metrics"
   ]
  },
  {
   "cell_type": "code",
   "execution_count": 97,
   "metadata": {},
   "outputs": [
    {
     "data": {
      "text/html": [
       "<div>\n",
       "<style scoped>\n",
       "    .dataframe tbody tr th:only-of-type {\n",
       "        vertical-align: middle;\n",
       "    }\n",
       "\n",
       "    .dataframe tbody tr th {\n",
       "        vertical-align: top;\n",
       "    }\n",
       "\n",
       "    .dataframe thead tr th {\n",
       "        text-align: left;\n",
       "    }\n",
       "</style>\n",
       "<table border=\"1\" class=\"dataframe\">\n",
       "  <thead>\n",
       "    <tr>\n",
       "      <th>variable</th>\n",
       "      <th colspan=\"2\" halign=\"left\">balanced_accuracy</th>\n",
       "      <th colspan=\"2\" halign=\"left\">f1</th>\n",
       "      <th colspan=\"2\" halign=\"left\">n_obs</th>\n",
       "      <th colspan=\"2\" halign=\"left\">num_feat</th>\n",
       "      <th colspan=\"2\" halign=\"left\">precision</th>\n",
       "      <th colspan=\"2\" halign=\"left\">prop_y_test</th>\n",
       "      <th colspan=\"2\" halign=\"left\">prop_y_train</th>\n",
       "      <th colspan=\"2\" halign=\"left\">recall</th>\n",
       "      <th colspan=\"2\" halign=\"left\">roc_auc</th>\n",
       "      <th colspan=\"2\" halign=\"left\">roc_auc_2</th>\n",
       "    </tr>\n",
       "    <tr>\n",
       "      <th></th>\n",
       "      <th>lower</th>\n",
       "      <th>upper</th>\n",
       "      <th>lower</th>\n",
       "      <th>upper</th>\n",
       "      <th>lower</th>\n",
       "      <th>upper</th>\n",
       "      <th>lower</th>\n",
       "      <th>upper</th>\n",
       "      <th>lower</th>\n",
       "      <th>upper</th>\n",
       "      <th>lower</th>\n",
       "      <th>upper</th>\n",
       "      <th>lower</th>\n",
       "      <th>upper</th>\n",
       "      <th>lower</th>\n",
       "      <th>upper</th>\n",
       "      <th>lower</th>\n",
       "      <th>upper</th>\n",
       "      <th>lower</th>\n",
       "      <th>upper</th>\n",
       "    </tr>\n",
       "  </thead>\n",
       "  <tbody>\n",
       "    <tr>\n",
       "      <th>F2_Logistic</th>\n",
       "      <td>0.664193</td>\n",
       "      <td>0.856868</td>\n",
       "      <td>0.651796</td>\n",
       "      <td>0.866093</td>\n",
       "      <td>360.0</td>\n",
       "      <td>360.0</td>\n",
       "      <td>1.0</td>\n",
       "      <td>1.0</td>\n",
       "      <td>0.654924</td>\n",
       "      <td>0.990995</td>\n",
       "      <td>0.444029</td>\n",
       "      <td>0.667083</td>\n",
       "      <td>0.527674</td>\n",
       "      <td>0.583437</td>\n",
       "      <td>0.578948</td>\n",
       "      <td>0.841432</td>\n",
       "      <td>0.732543</td>\n",
       "      <td>0.899891</td>\n",
       "      <td>0.732543</td>\n",
       "      <td>0.899891</td>\n",
       "    </tr>\n",
       "    <tr>\n",
       "      <th>F2_f2_te</th>\n",
       "      <td>0.645075</td>\n",
       "      <td>0.819957</td>\n",
       "      <td>0.661709</td>\n",
       "      <td>0.858954</td>\n",
       "      <td>360.0</td>\n",
       "      <td>360.0</td>\n",
       "      <td>1.0</td>\n",
       "      <td>1.0</td>\n",
       "      <td>0.625281</td>\n",
       "      <td>0.895633</td>\n",
       "      <td>0.444029</td>\n",
       "      <td>0.667083</td>\n",
       "      <td>0.527674</td>\n",
       "      <td>0.583437</td>\n",
       "      <td>0.656645</td>\n",
       "      <td>0.870506</td>\n",
       "      <td>0.645075</td>\n",
       "      <td>0.819957</td>\n",
       "      <td>0.645075</td>\n",
       "      <td>0.819957</td>\n",
       "    </tr>\n",
       "  </tbody>\n",
       "</table>\n",
       "</div>"
      ],
      "text/plain": [
       "variable    balanced_accuracy                  f1            n_obs         \\\n",
       "                        lower     upper     lower     upper  lower  upper   \n",
       "F2_Logistic          0.664193  0.856868  0.651796  0.866093  360.0  360.0   \n",
       "F2_f2_te             0.645075  0.819957  0.661709  0.858954  360.0  360.0   \n",
       "\n",
       "variable    num_feat       precision           prop_y_test            \\\n",
       "               lower upper     lower     upper       lower     upper   \n",
       "F2_Logistic      1.0   1.0  0.654924  0.990995    0.444029  0.667083   \n",
       "F2_f2_te         1.0   1.0  0.625281  0.895633    0.444029  0.667083   \n",
       "\n",
       "variable    prop_y_train              recall             roc_auc            \\\n",
       "                   lower     upper     lower     upper     lower     upper   \n",
       "F2_Logistic     0.527674  0.583437  0.578948  0.841432  0.732543  0.899891   \n",
       "F2_f2_te        0.527674  0.583437  0.656645  0.870506  0.645075  0.819957   \n",
       "\n",
       "variable    roc_auc_2            \n",
       "                lower     upper  \n",
       "F2_Logistic  0.732543  0.899891  \n",
       "F2_f2_te     0.645075  0.819957  "
      ]
     },
     "execution_count": 97,
     "metadata": {},
     "output_type": "execute_result"
    }
   ],
   "source": [
    "def create_95CI_df(df_metrics, selected_metrics=None):\n",
    "    \"\"\"Expects output from _get_cv_means.\"\"\"\n",
    "    if selected_metrics is None:\n",
    "        selected_metrics = result_metrics.columns.levels[0]\n",
    "    else:\n",
    "        assert set(selected_metrics) in set(result_metrics.columns.levels[0])\n",
    "    \n",
    "    key_lower_CI = 'lower'\n",
    "    key_upper_CI = 'upper'\n",
    "    \n",
    "    def _create_95CI_df(df_metric, mean_col='mean', std_col='std'):\n",
    "        \"\"\"Create from a DataFrame of results the 95% CI.\n",
    "        Lower and upper bound.\"\"\"\n",
    "        df_CI = pd.DataFrame(index=df_metric.index)\n",
    "        df_CI[key_lower_CI] = df_metric[mean_col] - 2*df_metric[std_col]\n",
    "        df_CI[key_upper_CI] = df_metric[mean_col] + 2*df_metric[std_col]\n",
    "        return df_CI\n",
    "\n",
    "    df_95CI = pd.DataFrame(index=df_metrics.index, columns=pd.MultiIndex.from_product([selected_metrics, ['lower', 'upper']]))\n",
    "    for _metric in selected_metrics:\n",
    "        df_95CI[_metric] = _create_95CI_df(df_metrics[_metric])\n",
    "    return df_95CI\n",
    "\n",
    "create_95CI_df(result_metrics)"
   ]
  },
  {
   "cell_type": "markdown",
   "metadata": {
    "Collapsed": "false"
   },
   "source": [
    "#### Extension: Learn imputation on fold\n",
    "Include Preprocessing (here: imputation into the pipeline). The imputation of the proteomics data would then be based only on moments learned the training data (splits) for the Gaussian distribution of each peptide.\n",
    "\n",
    "> write custom [`FunctionTransformer`](https://scikit-learn.org/stable/modules/preprocessing.html#custom-transformers) to included preprocessing.\n"
   ]
  },
  {
   "cell_type": "code",
   "execution_count": 98,
   "metadata": {
    "Collapsed": "false"
   },
   "outputs": [],
   "source": [
    "# #ToDo: Possible extension\n",
    "from sklearn.pipeline import make_pipeline\n",
    "from sklearn.preprocessing import FunctionTransformer\n",
    "\n",
    "def custom_preprocessing_function(X):\n",
    "    \"\"\"Operate on a a set of rows from the dataset.\n",
    "    here: apply imputation to log-transformed values?\n",
    "    \"\"\"\n",
    "    raise NotImplementedError\n",
    "\n",
    "# clf = make_pipeline(FunctionTransformer(custom_preprocessing_function), svm.SVC(C=1))\n",
    "# cross_val_score(clf, X, y, cv=cv)"
   ]
  },
  {
   "cell_type": "markdown",
   "metadata": {
    "Collapsed": "false"
   },
   "source": [
    "## Individual Models for three endpoints fibrosis, steatosis and inflammation\n",
    "Strategy for feature selection and model performance validation: 3 models to be built, fibrosis (F0-1 vs. F2-4, and F0-2 vs. F3-4), inflammation (0-1 vs. 2-5) and steatosis (0 vs. >0). Then compare each model with their respective existing best-in-class markers according to their standard cut-offs in clinic. "
   ]
  },
  {
   "cell_type": "code",
   "execution_count": 192,
   "metadata": {},
   "outputs": [
    {
     "data": {
      "text/html": [
       "<div>\n",
       "<style scoped>\n",
       "    .dataframe tbody tr th:only-of-type {\n",
       "        vertical-align: middle;\n",
       "    }\n",
       "\n",
       "    .dataframe tbody tr th {\n",
       "        vertical-align: top;\n",
       "    }\n",
       "\n",
       "    .dataframe thead th {\n",
       "        text-align: right;\n",
       "    }\n",
       "</style>\n",
       "<table border=\"1\" class=\"dataframe\">\n",
       "  <thead>\n",
       "    <tr style=\"text-align: right;\">\n",
       "      <th></th>\n",
       "      <th>F2 (k=10)</th>\n",
       "      <th>F2 (k=5)</th>\n",
       "    </tr>\n",
       "    <tr>\n",
       "      <th>Protein ID</th>\n",
       "      <th></th>\n",
       "      <th></th>\n",
       "    </tr>\n",
       "  </thead>\n",
       "  <tbody>\n",
       "    <tr>\n",
       "      <th>P10643</th>\n",
       "      <td>C7</td>\n",
       "      <td>C7</td>\n",
       "    </tr>\n",
       "    <tr>\n",
       "      <th>P19320</th>\n",
       "      <td>VCAM1</td>\n",
       "      <td>VCAM1</td>\n",
       "    </tr>\n",
       "    <tr>\n",
       "      <th>Q16270</th>\n",
       "      <td>IGFBP7</td>\n",
       "      <td>IGFBP7</td>\n",
       "    </tr>\n",
       "    <tr>\n",
       "      <th>P35858</th>\n",
       "      <td>IGFALS</td>\n",
       "      <td>IGFALS</td>\n",
       "    </tr>\n",
       "    <tr>\n",
       "      <th>P02743</th>\n",
       "      <td>APCS</td>\n",
       "      <td>APCS</td>\n",
       "    </tr>\n",
       "    <tr>\n",
       "      <th>A0A0G2JMB2</th>\n",
       "      <td>IGHA2</td>\n",
       "      <td>NaN</td>\n",
       "    </tr>\n",
       "    <tr>\n",
       "      <th>O00391</th>\n",
       "      <td>QSOX1</td>\n",
       "      <td>NaN</td>\n",
       "    </tr>\n",
       "    <tr>\n",
       "      <th>Q08380</th>\n",
       "      <td>LGALS3BP</td>\n",
       "      <td>NaN</td>\n",
       "    </tr>\n",
       "    <tr>\n",
       "      <th>P01833</th>\n",
       "      <td>PIGR</td>\n",
       "      <td>NaN</td>\n",
       "    </tr>\n",
       "    <tr>\n",
       "      <th>P00739</th>\n",
       "      <td>HPR</td>\n",
       "      <td>NaN</td>\n",
       "    </tr>\n",
       "  </tbody>\n",
       "</table>\n",
       "</div>"
      ],
      "text/plain": [
       "           F2 (k=10) F2 (k=5)\n",
       "Protein ID                   \n",
       "P10643            C7       C7\n",
       "P19320         VCAM1    VCAM1\n",
       "Q16270        IGFBP7   IGFBP7\n",
       "P35858        IGFALS   IGFALS\n",
       "P02743          APCS     APCS\n",
       "A0A0G2JMB2     IGHA2      NaN\n",
       "O00391         QSOX1      NaN\n",
       "Q08380      LGALS3BP      NaN\n",
       "P01833          PIGR      NaN\n",
       "P00739           HPR      NaN"
      ]
     },
     "execution_count": 192,
     "metadata": {},
     "output_type": "execute_result"
    }
   ],
   "source": [
    "from src.sklearn import FeatureSelector\n",
    "    \n",
    "feature_selected = FeatureSelector(k=10, protein_gene_data=key_ProteinID)\n",
    "_proteins_selected_f2 = feature_selected.fit(data_proteomics, kleiner_ge_2, 'F2')\n",
    "_proteins_selected_f2.columns = ['F2 (k=10)']\n",
    "_proteins_selected_f2['F2 (k=5)'] = feature_selected.get_k_best('F2', 5)\n",
    "_proteins_selected_f2"
   ]
  },
  {
   "cell_type": "markdown",
   "metadata": {},
   "source": [
    "### Screen for optimized number of features"
   ]
  },
  {
   "cell_type": "markdown",
   "metadata": {
    "Collapsed": "false"
   },
   "source": [
    "[Feature selection](https://scikit-learn.org/stable/modules/feature_selection.html#feature-selection) based on mutual information"
   ]
  },
  {
   "cell_type": "code",
   "execution_count": 100,
   "metadata": {},
   "outputs": [],
   "source": [
    "from sklearn.exceptions import UndefinedMetricWarning\n",
    "import warnings; warnings.simplefilter('ignore', UndefinedMetricWarning)\n",
    "\n",
    "RECALCULATE_FEATURES = False\n",
    "RESULT_FEATURE_COMPARISON = os.path.join(DATAFOLDER, 'summary_n_features.pkl')\n",
    "def main_n_features_comparison(n_features_max=50):\n",
    "    \"compare performance using an grid of features\"      \n",
    "    from tqdm.notebook import tqdm as tqdm\n",
    "    from time import perf_counter as pc\n",
    "    t0 = pc()\n",
    "    summary = []\n",
    "    feature_selected = FeatureSelector(k=n_features_max, protein_gene_data=key_ProteinID)\n",
    "    _ = feature_selected.fit(data_proteomics, kleiner_ge_2, 'F2')\n",
    "    _ = feature_selected.fit(data_proteomics, kleiner_ge_3, 'F3')\n",
    "    _ = feature_selected.fit(data_proteomics, steatosis_ge_1, 'S1')\n",
    "    _ = feature_selected.fit(data_proteomics, inflamation_ge_2, 'I2')\n",
    "    for n_features in tqdm(range(1,n_features_max)): \n",
    "#         feature_selected = FeatureSelector(k=n_features, protein_gene_data=key_ProteinID)\n",
    "        proteins_selected_f2 = feature_selected.get_k_best('F2', n_features)\n",
    "        proteins_selected_f3 = feature_selected.get_k_best('F3', n_features)\n",
    "        proteins_selected_s1 = feature_selected.get_k_best('S1', n_features)\n",
    "        proteins_selected_I2 = feature_selected.get_k_best('I2', n_features)\n",
    "        test_cases = {}\n",
    "        test_cases['F2'] = {'proteins': proteins_selected_f2, 'y':kleiner_ge_2}\n",
    "        test_cases['F3'] = {'proteins': proteins_selected_f3, 'y':kleiner_ge_3}\n",
    "        test_cases['S1'] = {'proteins': proteins_selected_s1, 'y':steatosis_ge_1}\n",
    "        test_cases['I2'] = {'proteins': proteins_selected_I2, 'y':inflamation_ge_2}\n",
    "        for test_case in test_cases.keys():\n",
    "            _clf_key = 'LR'\n",
    "            _clf = skllm.LogisticRegression(random_state=0, solver='liblinear')\n",
    "            proteins_selected = test_cases[test_case]['proteins']\n",
    "            y = test_cases[test_case]['y']\n",
    "            _X = data_proteomics[proteins_selected.index]\n",
    "            in_both = y.index.intersection(_X.index)\n",
    "            _X = _X.loc[in_both]\n",
    "            _y = y.loc[in_both]\n",
    "#             result = cross_validate(_clf, X=_X, y=_y, groups=_y, cv=RepeatedStratifiedKFold(n_splits=CV_FOLDS, n_repeats=CV_REPEATS, random_state=RANDOM_SEED) , scoring=scoring)\n",
    "            result, _, _ = run_cv_binary({_clf_key:_clf}, X=_X, y=_y, cv=cv_train_test_indices, prefix=f'{test_cases[\"F2\"]}_', verbose=False)\n",
    "            _key = list(result.keys()).pop()\n",
    "            result = pd.DataFrame(result[_key])\n",
    "            result['name'] = _clf.__class__.__name__\n",
    "            result['n_features'] = n_features\n",
    "            result['test_case'] = test_case\n",
    "            summary.append(result)\n",
    "    summary = [pd.DataFrame(_) for _ in summary]\n",
    "    summary_n_features = pd.concat(summary)\n",
    "    summary_n_features.to_pickle(RESULT_FEATURE_COMPARISON) # long format\n",
    "    print(f\"Finished. Elapsed seconds {pc()-t0:.2f}\")\n",
    "    return summary_n_features\n",
    "\n",
    "if not RECALCULATE_FEATURES:\n",
    "    try:\n",
    "        summary_n_features = pd.read_pickle(RESULT_FEATURE_COMPARISON)\n",
    "    except FileNotFoundError:\n",
    "        summary_n_features = main_n_features_comparison()\n",
    "else:\n",
    "    summary_n_features = main_n_features_comparison() "
   ]
  },
  {
   "cell_type": "code",
   "execution_count": 101,
   "metadata": {},
   "outputs": [
    {
     "data": {
      "image/png": "[encoded data removed]",
      "text/plain": [
       "<Figure size 360x360 with 1 Axes>"
      ]
     },
     "metadata": {
      "needs_background": "light"
     },
     "output_type": "display_data"
    }
   ],
   "source": [
    "plt.figure(figsize=(5,5))\n",
    "sns.lineplot(x='n_features',y='roc_auc',hue='test_case', data=summary_n_features)\n",
    "plt.ylim([0.5,1])\n",
    "plt.legend(loc='center left', bbox_to_anchor=(1, 0.5))\n",
    "plt.title('Number of Features vs roc auc')\n",
    "plt.show()"
   ]
  },
  {
   "cell_type": "code",
   "execution_count": 102,
   "metadata": {},
   "outputs": [
    {
     "data": {
      "text/html": [
       "<div>\n",
       "<style scoped>\n",
       "    .dataframe tbody tr th:only-of-type {\n",
       "        vertical-align: middle;\n",
       "    }\n",
       "\n",
       "    .dataframe tbody tr th {\n",
       "        vertical-align: top;\n",
       "    }\n",
       "\n",
       "    .dataframe thead th {\n",
       "        text-align: right;\n",
       "    }\n",
       "</style>\n",
       "<table border=\"1\" class=\"dataframe\">\n",
       "  <thead>\n",
       "    <tr style=\"text-align: right;\">\n",
       "      <th></th>\n",
       "      <th>precision</th>\n",
       "      <th>recall</th>\n",
       "      <th>f1</th>\n",
       "      <th>balanced_accuracy</th>\n",
       "      <th>roc_auc</th>\n",
       "      <th>num_feat</th>\n",
       "      <th>n_obs</th>\n",
       "      <th>roc_auc_2</th>\n",
       "      <th>name</th>\n",
       "      <th>n_features</th>\n",
       "      <th>test_case</th>\n",
       "    </tr>\n",
       "  </thead>\n",
       "  <tbody>\n",
       "    <tr>\n",
       "      <th>0</th>\n",
       "      <td>0.582090</td>\n",
       "      <td>1.000000</td>\n",
       "      <td>0.735849</td>\n",
       "      <td>0.562500</td>\n",
       "      <td>0.930288</td>\n",
       "      <td>1</td>\n",
       "      <td>358</td>\n",
       "      <td>0.930288</td>\n",
       "      <td>LogisticRegression</td>\n",
       "      <td>1</td>\n",
       "      <td>F2</td>\n",
       "    </tr>\n",
       "    <tr>\n",
       "      <th>1</th>\n",
       "      <td>0.602941</td>\n",
       "      <td>0.976190</td>\n",
       "      <td>0.745455</td>\n",
       "      <td>0.538095</td>\n",
       "      <td>0.869048</td>\n",
       "      <td>1</td>\n",
       "      <td>358</td>\n",
       "      <td>0.869048</td>\n",
       "      <td>LogisticRegression</td>\n",
       "      <td>1</td>\n",
       "      <td>F2</td>\n",
       "    </tr>\n",
       "    <tr>\n",
       "      <th>2</th>\n",
       "      <td>0.528571</td>\n",
       "      <td>1.000000</td>\n",
       "      <td>0.691589</td>\n",
       "      <td>0.528571</td>\n",
       "      <td>0.802317</td>\n",
       "      <td>1</td>\n",
       "      <td>358</td>\n",
       "      <td>0.802317</td>\n",
       "      <td>LogisticRegression</td>\n",
       "      <td>1</td>\n",
       "      <td>F2</td>\n",
       "    </tr>\n",
       "    <tr>\n",
       "      <th>3</th>\n",
       "      <td>0.557143</td>\n",
       "      <td>1.000000</td>\n",
       "      <td>0.715596</td>\n",
       "      <td>0.515625</td>\n",
       "      <td>0.925481</td>\n",
       "      <td>1</td>\n",
       "      <td>358</td>\n",
       "      <td>0.925481</td>\n",
       "      <td>LogisticRegression</td>\n",
       "      <td>1</td>\n",
       "      <td>F2</td>\n",
       "    </tr>\n",
       "    <tr>\n",
       "      <th>4</th>\n",
       "      <td>0.606061</td>\n",
       "      <td>0.952381</td>\n",
       "      <td>0.740741</td>\n",
       "      <td>0.542857</td>\n",
       "      <td>0.820635</td>\n",
       "      <td>1</td>\n",
       "      <td>358</td>\n",
       "      <td>0.820635</td>\n",
       "      <td>LogisticRegression</td>\n",
       "      <td>1</td>\n",
       "      <td>F2</td>\n",
       "    </tr>\n",
       "    <tr>\n",
       "      <th>...</th>\n",
       "      <td>...</td>\n",
       "      <td>...</td>\n",
       "      <td>...</td>\n",
       "      <td>...</td>\n",
       "      <td>...</td>\n",
       "      <td>...</td>\n",
       "      <td>...</td>\n",
       "      <td>...</td>\n",
       "      <td>...</td>\n",
       "      <td>...</td>\n",
       "      <td>...</td>\n",
       "    </tr>\n",
       "    <tr>\n",
       "      <th>45</th>\n",
       "      <td>0.916667</td>\n",
       "      <td>0.647059</td>\n",
       "      <td>0.758621</td>\n",
       "      <td>0.795752</td>\n",
       "      <td>0.853758</td>\n",
       "      <td>49</td>\n",
       "      <td>350</td>\n",
       "      <td>0.853758</td>\n",
       "      <td>LogisticRegression</td>\n",
       "      <td>49</td>\n",
       "      <td>I2</td>\n",
       "    </tr>\n",
       "    <tr>\n",
       "      <th>46</th>\n",
       "      <td>0.750000</td>\n",
       "      <td>0.804878</td>\n",
       "      <td>0.776471</td>\n",
       "      <td>0.712784</td>\n",
       "      <td>0.800673</td>\n",
       "      <td>49</td>\n",
       "      <td>350</td>\n",
       "      <td>0.800673</td>\n",
       "      <td>LogisticRegression</td>\n",
       "      <td>49</td>\n",
       "      <td>I2</td>\n",
       "    </tr>\n",
       "    <tr>\n",
       "      <th>47</th>\n",
       "      <td>0.666667</td>\n",
       "      <td>0.666667</td>\n",
       "      <td>0.666667</td>\n",
       "      <td>0.684685</td>\n",
       "      <td>0.748567</td>\n",
       "      <td>49</td>\n",
       "      <td>350</td>\n",
       "      <td>0.748567</td>\n",
       "      <td>LogisticRegression</td>\n",
       "      <td>49</td>\n",
       "      <td>I2</td>\n",
       "    </tr>\n",
       "    <tr>\n",
       "      <th>48</th>\n",
       "      <td>0.818182</td>\n",
       "      <td>0.692308</td>\n",
       "      <td>0.750000</td>\n",
       "      <td>0.746154</td>\n",
       "      <td>0.850427</td>\n",
       "      <td>49</td>\n",
       "      <td>350</td>\n",
       "      <td>0.850427</td>\n",
       "      <td>LogisticRegression</td>\n",
       "      <td>49</td>\n",
       "      <td>I2</td>\n",
       "    </tr>\n",
       "    <tr>\n",
       "      <th>49</th>\n",
       "      <td>0.729167</td>\n",
       "      <td>0.853659</td>\n",
       "      <td>0.786517</td>\n",
       "      <td>0.710163</td>\n",
       "      <td>0.796748</td>\n",
       "      <td>49</td>\n",
       "      <td>350</td>\n",
       "      <td>0.796748</td>\n",
       "      <td>LogisticRegression</td>\n",
       "      <td>49</td>\n",
       "      <td>I2</td>\n",
       "    </tr>\n",
       "  </tbody>\n",
       "</table>\n",
       "<p>9800 rows × 11 columns</p>\n",
       "</div>"
      ],
      "text/plain": [
       "    precision    recall        f1  balanced_accuracy   roc_auc  num_feat  \\\n",
       "0    0.582090  1.000000  0.735849           0.562500  0.930288         1   \n",
       "1    0.602941  0.976190  0.745455           0.538095  0.869048         1   \n",
       "2    0.528571  1.000000  0.691589           0.528571  0.802317         1   \n",
       "3    0.557143  1.000000  0.715596           0.515625  0.925481         1   \n",
       "4    0.606061  0.952381  0.740741           0.542857  0.820635         1   \n",
       "..        ...       ...       ...                ...       ...       ...   \n",
       "45   0.916667  0.647059  0.758621           0.795752  0.853758        49   \n",
       "46   0.750000  0.804878  0.776471           0.712784  0.800673        49   \n",
       "47   0.666667  0.666667  0.666667           0.684685  0.748567        49   \n",
       "48   0.818182  0.692308  0.750000           0.746154  0.850427        49   \n",
       "49   0.729167  0.853659  0.786517           0.710163  0.796748        49   \n",
       "\n",
       "    n_obs  roc_auc_2                name  n_features test_case  \n",
       "0     358   0.930288  LogisticRegression           1        F2  \n",
       "1     358   0.869048  LogisticRegression           1        F2  \n",
       "2     358   0.802317  LogisticRegression           1        F2  \n",
       "3     358   0.925481  LogisticRegression           1        F2  \n",
       "4     358   0.820635  LogisticRegression           1        F2  \n",
       "..    ...        ...                 ...         ...       ...  \n",
       "45    350   0.853758  LogisticRegression          49        I2  \n",
       "46    350   0.800673  LogisticRegression          49        I2  \n",
       "47    350   0.748567  LogisticRegression          49        I2  \n",
       "48    350   0.850427  LogisticRegression          49        I2  \n",
       "49    350   0.796748  LogisticRegression          49        I2  \n",
       "\n",
       "[9800 rows x 11 columns]"
      ]
     },
     "execution_count": 102,
     "metadata": {},
     "output_type": "execute_result"
    }
   ],
   "source": [
    "summary_n_features"
   ]
  },
  {
   "cell_type": "code",
   "execution_count": 103,
   "metadata": {},
   "outputs": [
    {
     "data": {
      "image/png": "[encoded data removed]",
      "text/plain": [
       "<Figure size 1044x288 with 3 Axes>"
      ]
     },
     "metadata": {
      "needs_background": "light"
     },
     "output_type": "display_data"
    }
   ],
   "source": [
    "fig=plt.figure(figsize=(14.5, 4))\n",
    "metrics = ['f1', 'balanced_accuracy', 'roc_auc']\n",
    "for i in range(3):\n",
    "    plt.subplot(1, 3, i+1)\n",
    "    sns.lineplot(x='n_features',y=metrics[i],hue='test_case', data=summary_n_features[summary_n_features['test_case']!='F3'], palette=['darkblue', 'gray', 'darkred'])\n",
    "    plt.ylim(0, 1)\n",
    "    #plt.title('Number of Features vs {}'.format(metrics[i]), fontsize=14)\n",
    "    plt.ylabel(metrics[i], fontsize=14)\n",
    "    plt.xlabel('Number of features', fontsize=14)\n",
    "    plt.xticks(fontsize=14);\n",
    "    plt.yticks(fontsize=14);\n",
    "plt.savefig('figures/1_vs_panel.png', dpi=120, bbox_inches='tight')"
   ]
  },
  {
   "cell_type": "code",
   "execution_count": 104,
   "metadata": {},
   "outputs": [
    {
     "data": {
      "text/html": [
       "<div>\n",
       "<style scoped>\n",
       "    .dataframe tbody tr th:only-of-type {\n",
       "        vertical-align: middle;\n",
       "    }\n",
       "\n",
       "    .dataframe tbody tr th {\n",
       "        vertical-align: top;\n",
       "    }\n",
       "\n",
       "    .dataframe thead th {\n",
       "        text-align: right;\n",
       "    }\n",
       "</style>\n",
       "<table border=\"1\" class=\"dataframe\">\n",
       "  <thead>\n",
       "    <tr style=\"text-align: right;\">\n",
       "      <th></th>\n",
       "      <th></th>\n",
       "      <th>precision</th>\n",
       "      <th>recall</th>\n",
       "      <th>f1</th>\n",
       "      <th>balanced_accuracy</th>\n",
       "      <th>roc_auc</th>\n",
       "      <th>num_feat</th>\n",
       "      <th>n_obs</th>\n",
       "      <th>roc_auc_2</th>\n",
       "    </tr>\n",
       "    <tr>\n",
       "      <th>test_case</th>\n",
       "      <th>n_features</th>\n",
       "      <th></th>\n",
       "      <th></th>\n",
       "      <th></th>\n",
       "      <th></th>\n",
       "      <th></th>\n",
       "      <th></th>\n",
       "      <th></th>\n",
       "      <th></th>\n",
       "    </tr>\n",
       "  </thead>\n",
       "  <tbody>\n",
       "    <tr>\n",
       "      <th>S1</th>\n",
       "      <th>28</th>\n",
       "      <td>0.820613</td>\n",
       "      <td>0.838379</td>\n",
       "      <td>0.826767</td>\n",
       "      <td>0.804326</td>\n",
       "      <td>0.888825</td>\n",
       "      <td>28</td>\n",
       "      <td>350</td>\n",
       "      <td>0.888825</td>\n",
       "    </tr>\n",
       "    <tr>\n",
       "      <th>F3</th>\n",
       "      <th>21</th>\n",
       "      <td>0.878035</td>\n",
       "      <td>0.780296</td>\n",
       "      <td>0.822877</td>\n",
       "      <td>0.870872</td>\n",
       "      <td>0.961695</td>\n",
       "      <td>21</td>\n",
       "      <td>358</td>\n",
       "      <td>0.961695</td>\n",
       "    </tr>\n",
       "    <tr>\n",
       "      <th>F2</th>\n",
       "      <th>14</th>\n",
       "      <td>0.846504</td>\n",
       "      <td>0.801482</td>\n",
       "      <td>0.820944</td>\n",
       "      <td>0.807893</td>\n",
       "      <td>0.881242</td>\n",
       "      <td>14</td>\n",
       "      <td>358</td>\n",
       "      <td>0.881242</td>\n",
       "    </tr>\n",
       "    <tr>\n",
       "      <th>I2</th>\n",
       "      <th>9</th>\n",
       "      <td>0.780286</td>\n",
       "      <td>0.770973</td>\n",
       "      <td>0.773043</td>\n",
       "      <td>0.760441</td>\n",
       "      <td>0.830920</td>\n",
       "      <td>9</td>\n",
       "      <td>350</td>\n",
       "      <td>0.830920</td>\n",
       "    </tr>\n",
       "  </tbody>\n",
       "</table>\n",
       "</div>"
      ],
      "text/plain": [
       "                      precision    recall        f1  balanced_accuracy  \\\n",
       "test_case n_features                                                     \n",
       "S1        28           0.820613  0.838379  0.826767           0.804326   \n",
       "F3        21           0.878035  0.780296  0.822877           0.870872   \n",
       "F2        14           0.846504  0.801482  0.820944           0.807893   \n",
       "I2        9            0.780286  0.770973  0.773043           0.760441   \n",
       "\n",
       "                       roc_auc  num_feat  n_obs  roc_auc_2  \n",
       "test_case n_features                                        \n",
       "S1        28          0.888825        28    350   0.888825  \n",
       "F3        21          0.961695        21    358   0.961695  \n",
       "F2        14          0.881242        14    358   0.881242  \n",
       "I2        9           0.830920         9    350   0.830920  "
      ]
     },
     "execution_count": 104,
     "metadata": {},
     "output_type": "execute_result"
    }
   ],
   "source": [
    "combined = summary_n_features.groupby(['test_case','n_features']).mean()\n",
    "\n",
    "best = combined.sort_values(by='f1', ascending=False).groupby('test_case').head(1)\n",
    "best"
   ]
  },
  {
   "cell_type": "code",
   "execution_count": 105,
   "metadata": {},
   "outputs": [
    {
     "data": {
      "text/html": [
       "<div>\n",
       "<style scoped>\n",
       "    .dataframe tbody tr th:only-of-type {\n",
       "        vertical-align: middle;\n",
       "    }\n",
       "\n",
       "    .dataframe tbody tr th {\n",
       "        vertical-align: top;\n",
       "    }\n",
       "\n",
       "    .dataframe thead th {\n",
       "        text-align: right;\n",
       "    }\n",
       "</style>\n",
       "<table border=\"1\" class=\"dataframe\">\n",
       "  <thead>\n",
       "    <tr style=\"text-align: right;\">\n",
       "      <th></th>\n",
       "      <th></th>\n",
       "      <th>precision</th>\n",
       "      <th>recall</th>\n",
       "      <th>f1</th>\n",
       "      <th>balanced_accuracy</th>\n",
       "      <th>roc_auc</th>\n",
       "      <th>num_feat</th>\n",
       "      <th>n_obs</th>\n",
       "      <th>roc_auc_2</th>\n",
       "    </tr>\n",
       "    <tr>\n",
       "      <th>test_case</th>\n",
       "      <th>n_features</th>\n",
       "      <th></th>\n",
       "      <th></th>\n",
       "      <th></th>\n",
       "      <th></th>\n",
       "      <th></th>\n",
       "      <th></th>\n",
       "      <th></th>\n",
       "      <th></th>\n",
       "    </tr>\n",
       "  </thead>\n",
       "  <tbody>\n",
       "    <tr>\n",
       "      <th rowspan=\"5\" valign=\"top\">F2</th>\n",
       "      <th>1</th>\n",
       "      <td>0.579261</td>\n",
       "      <td>0.984016</td>\n",
       "      <td>0.726893</td>\n",
       "      <td>0.544870</td>\n",
       "      <td>0.868432</td>\n",
       "      <td>1</td>\n",
       "      <td>358</td>\n",
       "      <td>0.868432</td>\n",
       "    </tr>\n",
       "    <tr>\n",
       "      <th>2</th>\n",
       "      <td>0.578489</td>\n",
       "      <td>0.980488</td>\n",
       "      <td>0.725120</td>\n",
       "      <td>0.543225</td>\n",
       "      <td>0.849222</td>\n",
       "      <td>2</td>\n",
       "      <td>358</td>\n",
       "      <td>0.849222</td>\n",
       "    </tr>\n",
       "    <tr>\n",
       "      <th>3</th>\n",
       "      <td>0.597401</td>\n",
       "      <td>0.961577</td>\n",
       "      <td>0.734007</td>\n",
       "      <td>0.575676</td>\n",
       "      <td>0.820942</td>\n",
       "      <td>3</td>\n",
       "      <td>358</td>\n",
       "      <td>0.820942</td>\n",
       "    </tr>\n",
       "    <tr>\n",
       "      <th>4</th>\n",
       "      <td>0.826520</td>\n",
       "      <td>0.778609</td>\n",
       "      <td>0.799677</td>\n",
       "      <td>0.786686</td>\n",
       "      <td>0.881775</td>\n",
       "      <td>4</td>\n",
       "      <td>358</td>\n",
       "      <td>0.881775</td>\n",
       "    </tr>\n",
       "    <tr>\n",
       "      <th>5</th>\n",
       "      <td>0.833631</td>\n",
       "      <td>0.778891</td>\n",
       "      <td>0.803274</td>\n",
       "      <td>0.791607</td>\n",
       "      <td>0.883116</td>\n",
       "      <td>5</td>\n",
       "      <td>358</td>\n",
       "      <td>0.883116</td>\n",
       "    </tr>\n",
       "    <tr>\n",
       "      <th>...</th>\n",
       "      <th>...</th>\n",
       "      <td>...</td>\n",
       "      <td>...</td>\n",
       "      <td>...</td>\n",
       "      <td>...</td>\n",
       "      <td>...</td>\n",
       "      <td>...</td>\n",
       "      <td>...</td>\n",
       "      <td>...</td>\n",
       "    </tr>\n",
       "    <tr>\n",
       "      <th rowspan=\"5\" valign=\"top\">S1</th>\n",
       "      <th>45</th>\n",
       "      <td>0.817172</td>\n",
       "      <td>0.821327</td>\n",
       "      <td>0.817113</td>\n",
       "      <td>0.795374</td>\n",
       "      <td>0.875755</td>\n",
       "      <td>45</td>\n",
       "      <td>350</td>\n",
       "      <td>0.875755</td>\n",
       "    </tr>\n",
       "    <tr>\n",
       "      <th>46</th>\n",
       "      <td>0.819433</td>\n",
       "      <td>0.819943</td>\n",
       "      <td>0.817495</td>\n",
       "      <td>0.796954</td>\n",
       "      <td>0.873850</td>\n",
       "      <td>46</td>\n",
       "      <td>350</td>\n",
       "      <td>0.873850</td>\n",
       "    </tr>\n",
       "    <tr>\n",
       "      <th>47</th>\n",
       "      <td>0.819923</td>\n",
       "      <td>0.818689</td>\n",
       "      <td>0.816968</td>\n",
       "      <td>0.796581</td>\n",
       "      <td>0.872345</td>\n",
       "      <td>47</td>\n",
       "      <td>350</td>\n",
       "      <td>0.872345</td>\n",
       "    </tr>\n",
       "    <tr>\n",
       "      <th>48</th>\n",
       "      <td>0.820858</td>\n",
       "      <td>0.818533</td>\n",
       "      <td>0.817322</td>\n",
       "      <td>0.796898</td>\n",
       "      <td>0.871720</td>\n",
       "      <td>48</td>\n",
       "      <td>350</td>\n",
       "      <td>0.871720</td>\n",
       "    </tr>\n",
       "    <tr>\n",
       "      <th>49</th>\n",
       "      <td>0.821544</td>\n",
       "      <td>0.818555</td>\n",
       "      <td>0.817640</td>\n",
       "      <td>0.797666</td>\n",
       "      <td>0.871102</td>\n",
       "      <td>49</td>\n",
       "      <td>350</td>\n",
       "      <td>0.871102</td>\n",
       "    </tr>\n",
       "  </tbody>\n",
       "</table>\n",
       "<p>196 rows × 8 columns</p>\n",
       "</div>"
      ],
      "text/plain": [
       "                      precision    recall        f1  balanced_accuracy  \\\n",
       "test_case n_features                                                     \n",
       "F2        1            0.579261  0.984016  0.726893           0.544870   \n",
       "          2            0.578489  0.980488  0.725120           0.543225   \n",
       "          3            0.597401  0.961577  0.734007           0.575676   \n",
       "          4            0.826520  0.778609  0.799677           0.786686   \n",
       "          5            0.833631  0.778891  0.803274           0.791607   \n",
       "...                         ...       ...       ...                ...   \n",
       "S1        45           0.817172  0.821327  0.817113           0.795374   \n",
       "          46           0.819433  0.819943  0.817495           0.796954   \n",
       "          47           0.819923  0.818689  0.816968           0.796581   \n",
       "          48           0.820858  0.818533  0.817322           0.796898   \n",
       "          49           0.821544  0.818555  0.817640           0.797666   \n",
       "\n",
       "                       roc_auc  num_feat  n_obs  roc_auc_2  \n",
       "test_case n_features                                        \n",
       "F2        1           0.868432         1    358   0.868432  \n",
       "          2           0.849222         2    358   0.849222  \n",
       "          3           0.820942         3    358   0.820942  \n",
       "          4           0.881775         4    358   0.881775  \n",
       "          5           0.883116         5    358   0.883116  \n",
       "...                        ...       ...    ...        ...  \n",
       "S1        45          0.875755        45    350   0.875755  \n",
       "          46          0.873850        46    350   0.873850  \n",
       "          47          0.872345        47    350   0.872345  \n",
       "          48          0.871720        48    350   0.871720  \n",
       "          49          0.871102        49    350   0.871102  \n",
       "\n",
       "[196 rows x 8 columns]"
      ]
     },
     "execution_count": 105,
     "metadata": {},
     "output_type": "execute_result"
    }
   ],
   "source": [
    "combined"
   ]
  },
  {
   "cell_type": "code",
   "execution_count": 106,
   "metadata": {},
   "outputs": [
    {
     "data": {
      "text/html": [
       "<div>\n",
       "<style scoped>\n",
       "    .dataframe tbody tr th:only-of-type {\n",
       "        vertical-align: middle;\n",
       "    }\n",
       "\n",
       "    .dataframe tbody tr th {\n",
       "        vertical-align: top;\n",
       "    }\n",
       "\n",
       "    .dataframe thead th {\n",
       "        text-align: right;\n",
       "    }\n",
       "</style>\n",
       "<table border=\"1\" class=\"dataframe\">\n",
       "  <thead>\n",
       "    <tr style=\"text-align: right;\">\n",
       "      <th></th>\n",
       "      <th></th>\n",
       "      <th>precision</th>\n",
       "      <th>recall</th>\n",
       "      <th>f1</th>\n",
       "      <th>balanced_accuracy</th>\n",
       "      <th>roc_auc</th>\n",
       "      <th>num_feat</th>\n",
       "      <th>n_obs</th>\n",
       "      <th>roc_auc_2</th>\n",
       "    </tr>\n",
       "    <tr>\n",
       "      <th>test_case</th>\n",
       "      <th>n_features</th>\n",
       "      <th></th>\n",
       "      <th></th>\n",
       "      <th></th>\n",
       "      <th></th>\n",
       "      <th></th>\n",
       "      <th></th>\n",
       "      <th></th>\n",
       "      <th></th>\n",
       "    </tr>\n",
       "  </thead>\n",
       "  <tbody>\n",
       "    <tr>\n",
       "      <th>F2</th>\n",
       "      <th>1</th>\n",
       "      <td>0.579261</td>\n",
       "      <td>0.984016</td>\n",
       "      <td>0.726893</td>\n",
       "      <td>0.544870</td>\n",
       "      <td>0.868432</td>\n",
       "      <td>1</td>\n",
       "      <td>358</td>\n",
       "      <td>0.868432</td>\n",
       "    </tr>\n",
       "    <tr>\n",
       "      <th>F3</th>\n",
       "      <th>1</th>\n",
       "      <td>0.000000</td>\n",
       "      <td>0.000000</td>\n",
       "      <td>0.000000</td>\n",
       "      <td>0.500000</td>\n",
       "      <td>0.929742</td>\n",
       "      <td>1</td>\n",
       "      <td>358</td>\n",
       "      <td>0.929742</td>\n",
       "    </tr>\n",
       "    <tr>\n",
       "      <th>I2</th>\n",
       "      <th>1</th>\n",
       "      <td>0.597710</td>\n",
       "      <td>0.973186</td>\n",
       "      <td>0.736352</td>\n",
       "      <td>0.604663</td>\n",
       "      <td>0.809776</td>\n",
       "      <td>1</td>\n",
       "      <td>350</td>\n",
       "      <td>0.809776</td>\n",
       "    </tr>\n",
       "    <tr>\n",
       "      <th>S1</th>\n",
       "      <th>1</th>\n",
       "      <td>0.673113</td>\n",
       "      <td>0.874639</td>\n",
       "      <td>0.758424</td>\n",
       "      <td>0.669052</td>\n",
       "      <td>0.818146</td>\n",
       "      <td>1</td>\n",
       "      <td>350</td>\n",
       "      <td>0.818146</td>\n",
       "    </tr>\n",
       "  </tbody>\n",
       "</table>\n",
       "</div>"
      ],
      "text/plain": [
       "                      precision    recall        f1  balanced_accuracy  \\\n",
       "test_case n_features                                                     \n",
       "F2        1            0.579261  0.984016  0.726893           0.544870   \n",
       "F3        1            0.000000  0.000000  0.000000           0.500000   \n",
       "I2        1            0.597710  0.973186  0.736352           0.604663   \n",
       "S1        1            0.673113  0.874639  0.758424           0.669052   \n",
       "\n",
       "                       roc_auc  num_feat  n_obs  roc_auc_2  \n",
       "test_case n_features                                        \n",
       "F2        1           0.868432         1    358   0.868432  \n",
       "F3        1           0.929742         1    358   0.929742  \n",
       "I2        1           0.809776         1    350   0.809776  \n",
       "S1        1           0.818146         1    350   0.818146  "
      ]
     },
     "execution_count": 106,
     "metadata": {},
     "output_type": "execute_result"
    }
   ],
   "source": [
    "single_protein = combined[combined['num_feat']==1]\n",
    "single_protein"
   ]
  },
  {
   "cell_type": "code",
   "execution_count": 107,
   "metadata": {},
   "outputs": [
    {
     "data": {
      "text/html": [
       "<div>\n",
       "<style scoped>\n",
       "    .dataframe tbody tr th:only-of-type {\n",
       "        vertical-align: middle;\n",
       "    }\n",
       "\n",
       "    .dataframe tbody tr th {\n",
       "        vertical-align: top;\n",
       "    }\n",
       "\n",
       "    .dataframe thead th {\n",
       "        text-align: right;\n",
       "    }\n",
       "</style>\n",
       "<table border=\"1\" class=\"dataframe\">\n",
       "  <thead>\n",
       "    <tr style=\"text-align: right;\">\n",
       "      <th></th>\n",
       "      <th></th>\n",
       "      <th>precision</th>\n",
       "      <th>recall</th>\n",
       "      <th>f1</th>\n",
       "      <th>balanced_accuracy</th>\n",
       "      <th>roc_auc</th>\n",
       "      <th>num_feat</th>\n",
       "      <th>n_obs</th>\n",
       "      <th>roc_auc_2</th>\n",
       "    </tr>\n",
       "    <tr>\n",
       "      <th>test_case</th>\n",
       "      <th>n_features</th>\n",
       "      <th></th>\n",
       "      <th></th>\n",
       "      <th></th>\n",
       "      <th></th>\n",
       "      <th></th>\n",
       "      <th></th>\n",
       "      <th></th>\n",
       "      <th></th>\n",
       "    </tr>\n",
       "  </thead>\n",
       "  <tbody>\n",
       "    <tr>\n",
       "      <th rowspan=\"2\" valign=\"top\">F2</th>\n",
       "      <th>14</th>\n",
       "      <td>0.846504</td>\n",
       "      <td>0.801482</td>\n",
       "      <td>0.820944</td>\n",
       "      <td>0.807893</td>\n",
       "      <td>0.881242</td>\n",
       "      <td>14</td>\n",
       "      <td>358</td>\n",
       "      <td>0.881242</td>\n",
       "    </tr>\n",
       "    <tr>\n",
       "      <th>1</th>\n",
       "      <td>0.579261</td>\n",
       "      <td>0.984016</td>\n",
       "      <td>0.726893</td>\n",
       "      <td>0.544870</td>\n",
       "      <td>0.868432</td>\n",
       "      <td>1</td>\n",
       "      <td>358</td>\n",
       "      <td>0.868432</td>\n",
       "    </tr>\n",
       "    <tr>\n",
       "      <th rowspan=\"2\" valign=\"top\">F3</th>\n",
       "      <th>21</th>\n",
       "      <td>0.878035</td>\n",
       "      <td>0.780296</td>\n",
       "      <td>0.822877</td>\n",
       "      <td>0.870872</td>\n",
       "      <td>0.961695</td>\n",
       "      <td>21</td>\n",
       "      <td>358</td>\n",
       "      <td>0.961695</td>\n",
       "    </tr>\n",
       "    <tr>\n",
       "      <th>1</th>\n",
       "      <td>0.000000</td>\n",
       "      <td>0.000000</td>\n",
       "      <td>0.000000</td>\n",
       "      <td>0.500000</td>\n",
       "      <td>0.929742</td>\n",
       "      <td>1</td>\n",
       "      <td>358</td>\n",
       "      <td>0.929742</td>\n",
       "    </tr>\n",
       "    <tr>\n",
       "      <th rowspan=\"2\" valign=\"top\">I2</th>\n",
       "      <th>9</th>\n",
       "      <td>0.780286</td>\n",
       "      <td>0.770973</td>\n",
       "      <td>0.773043</td>\n",
       "      <td>0.760441</td>\n",
       "      <td>0.830920</td>\n",
       "      <td>9</td>\n",
       "      <td>350</td>\n",
       "      <td>0.830920</td>\n",
       "    </tr>\n",
       "    <tr>\n",
       "      <th>1</th>\n",
       "      <td>0.597710</td>\n",
       "      <td>0.973186</td>\n",
       "      <td>0.736352</td>\n",
       "      <td>0.604663</td>\n",
       "      <td>0.809776</td>\n",
       "      <td>1</td>\n",
       "      <td>350</td>\n",
       "      <td>0.809776</td>\n",
       "    </tr>\n",
       "    <tr>\n",
       "      <th rowspan=\"2\" valign=\"top\">S1</th>\n",
       "      <th>28</th>\n",
       "      <td>0.820613</td>\n",
       "      <td>0.838379</td>\n",
       "      <td>0.826767</td>\n",
       "      <td>0.804326</td>\n",
       "      <td>0.888825</td>\n",
       "      <td>28</td>\n",
       "      <td>350</td>\n",
       "      <td>0.888825</td>\n",
       "    </tr>\n",
       "    <tr>\n",
       "      <th>1</th>\n",
       "      <td>0.673113</td>\n",
       "      <td>0.874639</td>\n",
       "      <td>0.758424</td>\n",
       "      <td>0.669052</td>\n",
       "      <td>0.818146</td>\n",
       "      <td>1</td>\n",
       "      <td>350</td>\n",
       "      <td>0.818146</td>\n",
       "    </tr>\n",
       "  </tbody>\n",
       "</table>\n",
       "</div>"
      ],
      "text/plain": [
       "                      precision    recall        f1  balanced_accuracy  \\\n",
       "test_case n_features                                                     \n",
       "F2        14           0.846504  0.801482  0.820944           0.807893   \n",
       "          1            0.579261  0.984016  0.726893           0.544870   \n",
       "F3        21           0.878035  0.780296  0.822877           0.870872   \n",
       "          1            0.000000  0.000000  0.000000           0.500000   \n",
       "I2        9            0.780286  0.770973  0.773043           0.760441   \n",
       "          1            0.597710  0.973186  0.736352           0.604663   \n",
       "S1        28           0.820613  0.838379  0.826767           0.804326   \n",
       "          1            0.673113  0.874639  0.758424           0.669052   \n",
       "\n",
       "                       roc_auc  num_feat  n_obs  roc_auc_2  \n",
       "test_case n_features                                        \n",
       "F2        14          0.881242        14    358   0.881242  \n",
       "          1           0.868432         1    358   0.868432  \n",
       "F3        21          0.961695        21    358   0.961695  \n",
       "          1           0.929742         1    358   0.929742  \n",
       "I2        9           0.830920         9    350   0.830920  \n",
       "          1           0.809776         1    350   0.809776  \n",
       "S1        28          0.888825        28    350   0.888825  \n",
       "          1           0.818146         1    350   0.818146  "
      ]
     },
     "execution_count": 107,
     "metadata": {},
     "output_type": "execute_result"
    }
   ],
   "source": [
    "one_vs_panel = pd.concat([best, single_protein]).sort_values(by='test_case')\n",
    "one_vs_panel.to_csv('tables/1_vs_panel.csv')\n",
    "one_vs_panel"
   ]
  },
  {
   "cell_type": "code",
   "execution_count": 108,
   "metadata": {},
   "outputs": [
    {
     "data": {
      "text/plain": [
       "{'S1': 28, 'F3': 21, 'F2': 14, 'I2': 9}"
      ]
     },
     "execution_count": 108,
     "metadata": {},
     "output_type": "execute_result"
    }
   ],
   "source": [
    "best_dict = {}\n",
    "for i, j in best.index.to_list():\n",
    "    best_dict[i] = j\n",
    "best_dict"
   ]
  },
  {
   "cell_type": "markdown",
   "metadata": {
    "Collapsed": "false"
   },
   "source": [
    "### Top k selected proteins for prediction\n",
    "[Feature selection](https://scikit-learn.org/stable/modules/feature_selection.html#feature-selection) based on mutual information. \n",
    "\n",
    "Each endpoint will yield different `top-k` proteins. An aggregation strategy in the simplest form is to combine the top-k. Maybe there is also some kind of rank-algorithm combining the top-k minimizing the overall rank?"
   ]
  },
  {
   "cell_type": "code",
   "execution_count": 109,
   "metadata": {
    "Collapsed": "false"
   },
   "outputs": [],
   "source": [
    "protein_panels={}\n",
    "\n",
    "for end_point, dichotomy in targets_dict.items():\n",
    "    k=best_dict[end_point]\n",
    "    feature_selected = FeatureSelector(k=k, protein_gene_data=key_ProteinID)\n",
    "    protein_panels[end_point] = feature_selected.fit(data_proteomics, dichotomy, end_point)\n",
    "\n",
    "    \n",
    "proteins_selected_f2=protein_panels['F2']\n",
    "proteins_selected_f3=protein_panels['F3']\n",
    "proteins_selected_s1=protein_panels['S1']\n",
    "proteins_selected_I2=protein_panels['I2']"
   ]
  },
  {
   "cell_type": "code",
   "execution_count": 110,
   "metadata": {},
   "outputs": [
    {
     "data": {
      "text/html": [
       "<div>\n",
       "<style scoped>\n",
       "    .dataframe tbody tr th:only-of-type {\n",
       "        vertical-align: middle;\n",
       "    }\n",
       "\n",
       "    .dataframe tbody tr th {\n",
       "        vertical-align: top;\n",
       "    }\n",
       "\n",
       "    .dataframe thead th {\n",
       "        text-align: right;\n",
       "    }\n",
       "</style>\n",
       "<table border=\"1\" class=\"dataframe\">\n",
       "  <thead>\n",
       "    <tr style=\"text-align: right;\">\n",
       "      <th>Protein ID</th>\n",
       "      <th>P10643</th>\n",
       "      <th>P19320</th>\n",
       "      <th>Q16270</th>\n",
       "      <th>P35858</th>\n",
       "      <th>P02743</th>\n",
       "      <th>A0A0G2JMB2</th>\n",
       "      <th>O00391</th>\n",
       "      <th>Q08380</th>\n",
       "      <th>P01833</th>\n",
       "      <th>P00739</th>\n",
       "      <th>A0A0A0MRZ8</th>\n",
       "      <th>Q99650</th>\n",
       "      <th>Q9Y5Y7</th>\n",
       "      <th>Q15582</th>\n",
       "    </tr>\n",
       "  </thead>\n",
       "  <tbody>\n",
       "    <tr>\n",
       "      <th>F2</th>\n",
       "      <td>C7</td>\n",
       "      <td>VCAM1</td>\n",
       "      <td>IGFBP7</td>\n",
       "      <td>IGFALS</td>\n",
       "      <td>APCS</td>\n",
       "      <td>IGHA2</td>\n",
       "      <td>QSOX1</td>\n",
       "      <td>LGALS3BP</td>\n",
       "      <td>PIGR</td>\n",
       "      <td>HPR</td>\n",
       "      <td>IGKV3D-11</td>\n",
       "      <td>OSMR</td>\n",
       "      <td>LYVE1</td>\n",
       "      <td>TGFBI</td>\n",
       "    </tr>\n",
       "  </tbody>\n",
       "</table>\n",
       "</div>"
      ],
      "text/plain": [
       "Protein ID P10643 P19320  Q16270  P35858 P02743 A0A0G2JMB2 O00391    Q08380  \\\n",
       "F2             C7  VCAM1  IGFBP7  IGFALS   APCS      IGHA2  QSOX1  LGALS3BP   \n",
       "\n",
       "Protein ID P01833 P00739 A0A0A0MRZ8 Q99650 Q9Y5Y7 Q15582  \n",
       "F2           PIGR    HPR  IGKV3D-11   OSMR  LYVE1  TGFBI  "
      ]
     },
     "execution_count": 110,
     "metadata": {},
     "output_type": "execute_result"
    }
   ],
   "source": [
    "proteins_selected_f2.T"
   ]
  },
  {
   "cell_type": "code",
   "execution_count": 111,
   "metadata": {},
   "outputs": [
    {
     "data": {
      "text/html": [
       "<div>\n",
       "<style scoped>\n",
       "    .dataframe tbody tr th:only-of-type {\n",
       "        vertical-align: middle;\n",
       "    }\n",
       "\n",
       "    .dataframe tbody tr th {\n",
       "        vertical-align: top;\n",
       "    }\n",
       "\n",
       "    .dataframe thead th {\n",
       "        text-align: right;\n",
       "    }\n",
       "</style>\n",
       "<table border=\"1\" class=\"dataframe\">\n",
       "  <thead>\n",
       "    <tr style=\"text-align: right;\">\n",
       "      <th>Protein ID</th>\n",
       "      <th>P10643</th>\n",
       "      <th>P19320</th>\n",
       "      <th>O00391</th>\n",
       "      <th>P02743</th>\n",
       "      <th>Q16270</th>\n",
       "      <th>Q08380</th>\n",
       "      <th>A0A286YEY1</th>\n",
       "      <th>P27169</th>\n",
       "      <th>Q9Y5Y7</th>\n",
       "      <th>P51884</th>\n",
       "      <th>...</th>\n",
       "      <th>P05546</th>\n",
       "      <th>A0A0G2JMB2</th>\n",
       "      <th>Q99650</th>\n",
       "      <th>P01834</th>\n",
       "      <th>P35858</th>\n",
       "      <th>P01619</th>\n",
       "      <th>K7ERI9</th>\n",
       "      <th>Q15485</th>\n",
       "      <th>Q15582</th>\n",
       "      <th>P0DOY2</th>\n",
       "    </tr>\n",
       "  </thead>\n",
       "  <tbody>\n",
       "    <tr>\n",
       "      <th>F3</th>\n",
       "      <td>C7</td>\n",
       "      <td>VCAM1</td>\n",
       "      <td>QSOX1</td>\n",
       "      <td>APCS</td>\n",
       "      <td>IGFBP7</td>\n",
       "      <td>LGALS3BP</td>\n",
       "      <td>IGHA1</td>\n",
       "      <td>PON1</td>\n",
       "      <td>LYVE1</td>\n",
       "      <td>LUM</td>\n",
       "      <td>...</td>\n",
       "      <td>SERPIND1</td>\n",
       "      <td>IGHA2</td>\n",
       "      <td>OSMR</td>\n",
       "      <td>IGKC</td>\n",
       "      <td>IGFALS</td>\n",
       "      <td>IGKV3-20</td>\n",
       "      <td>APOC1</td>\n",
       "      <td>FCN2</td>\n",
       "      <td>TGFBI</td>\n",
       "      <td>IGLC2</td>\n",
       "    </tr>\n",
       "  </tbody>\n",
       "</table>\n",
       "<p>1 rows × 21 columns</p>\n",
       "</div>"
      ],
      "text/plain": [
       "Protein ID P10643 P19320 O00391 P02743  Q16270    Q08380 A0A286YEY1 P27169  \\\n",
       "F3             C7  VCAM1  QSOX1   APCS  IGFBP7  LGALS3BP      IGHA1   PON1   \n",
       "\n",
       "Protein ID Q9Y5Y7 P51884  ...    P05546 A0A0G2JMB2 Q99650 P01834  P35858  \\\n",
       "F3          LYVE1    LUM  ...  SERPIND1      IGHA2   OSMR   IGKC  IGFALS   \n",
       "\n",
       "Protein ID    P01619 K7ERI9 Q15485 Q15582 P0DOY2  \n",
       "F3          IGKV3-20  APOC1   FCN2  TGFBI  IGLC2  \n",
       "\n",
       "[1 rows x 21 columns]"
      ]
     },
     "execution_count": 111,
     "metadata": {},
     "output_type": "execute_result"
    }
   ],
   "source": [
    "proteins_selected_f3.T"
   ]
  },
  {
   "cell_type": "code",
   "execution_count": 112,
   "metadata": {},
   "outputs": [
    {
     "data": {
      "text/html": [
       "<div>\n",
       "<style scoped>\n",
       "    .dataframe tbody tr th:only-of-type {\n",
       "        vertical-align: middle;\n",
       "    }\n",
       "\n",
       "    .dataframe tbody tr th {\n",
       "        vertical-align: top;\n",
       "    }\n",
       "\n",
       "    .dataframe thead th {\n",
       "        text-align: right;\n",
       "    }\n",
       "</style>\n",
       "<table border=\"1\" class=\"dataframe\">\n",
       "  <thead>\n",
       "    <tr style=\"text-align: right;\">\n",
       "      <th>Protein ID</th>\n",
       "      <th>P05062</th>\n",
       "      <th>Q08380</th>\n",
       "      <th>H7BY64</th>\n",
       "      <th>P06396</th>\n",
       "      <th>C9JPQ9</th>\n",
       "      <th>P19320</th>\n",
       "      <th>Q15582</th>\n",
       "      <th>P55103</th>\n",
       "      <th>P08519</th>\n",
       "      <th>Q92820</th>\n",
       "      <th>...</th>\n",
       "      <th>P43652</th>\n",
       "      <th>P04196</th>\n",
       "      <th>Q9Y5Y7</th>\n",
       "      <th>B0YIW2</th>\n",
       "      <th>P80748</th>\n",
       "      <th>A0A0U1RR20</th>\n",
       "      <th>P09172</th>\n",
       "      <th>P01009</th>\n",
       "      <th>P0C0L5</th>\n",
       "      <th>A0A182DWH7</th>\n",
       "    </tr>\n",
       "  </thead>\n",
       "  <tbody>\n",
       "    <tr>\n",
       "      <th>S1</th>\n",
       "      <td>ALDOB</td>\n",
       "      <td>LGALS3BP</td>\n",
       "      <td>NoGene</td>\n",
       "      <td>GSN</td>\n",
       "      <td>FGG</td>\n",
       "      <td>VCAM1</td>\n",
       "      <td>TGFBI</td>\n",
       "      <td>INHBC</td>\n",
       "      <td>LPA</td>\n",
       "      <td>GGH</td>\n",
       "      <td>...</td>\n",
       "      <td>AFM</td>\n",
       "      <td>HRG</td>\n",
       "      <td>LYVE1</td>\n",
       "      <td>APOC3</td>\n",
       "      <td>IGLV3-21</td>\n",
       "      <td>PRG4</td>\n",
       "      <td>DBH</td>\n",
       "      <td>SERPINA1</td>\n",
       "      <td>C4B</td>\n",
       "      <td>SELENOP</td>\n",
       "    </tr>\n",
       "  </tbody>\n",
       "</table>\n",
       "<p>1 rows × 28 columns</p>\n",
       "</div>"
      ],
      "text/plain": [
       "Protein ID P05062    Q08380  H7BY64 P06396 C9JPQ9 P19320 Q15582 P55103 P08519  \\\n",
       "S1          ALDOB  LGALS3BP  NoGene    GSN    FGG  VCAM1  TGFBI  INHBC    LPA   \n",
       "\n",
       "Protein ID Q92820  ... P43652 P04196 Q9Y5Y7 B0YIW2    P80748 A0A0U1RR20  \\\n",
       "S1            GGH  ...    AFM    HRG  LYVE1  APOC3  IGLV3-21       PRG4   \n",
       "\n",
       "Protein ID P09172    P01009 P0C0L5 A0A182DWH7  \n",
       "S1            DBH  SERPINA1    C4B    SELENOP  \n",
       "\n",
       "[1 rows x 28 columns]"
      ]
     },
     "execution_count": 112,
     "metadata": {},
     "output_type": "execute_result"
    }
   ],
   "source": [
    "proteins_selected_s1.T"
   ]
  },
  {
   "cell_type": "code",
   "execution_count": 113,
   "metadata": {},
   "outputs": [
    {
     "data": {
      "text/html": [
       "<div>\n",
       "<style scoped>\n",
       "    .dataframe tbody tr th:only-of-type {\n",
       "        vertical-align: middle;\n",
       "    }\n",
       "\n",
       "    .dataframe tbody tr th {\n",
       "        vertical-align: top;\n",
       "    }\n",
       "\n",
       "    .dataframe thead th {\n",
       "        text-align: right;\n",
       "    }\n",
       "</style>\n",
       "<table border=\"1\" class=\"dataframe\">\n",
       "  <thead>\n",
       "    <tr style=\"text-align: right;\">\n",
       "      <th>Protein ID</th>\n",
       "      <th>Q08380</th>\n",
       "      <th>P10643</th>\n",
       "      <th>P01833</th>\n",
       "      <th>Q16270</th>\n",
       "      <th>O00391</th>\n",
       "      <th>P10909</th>\n",
       "      <th>P23142</th>\n",
       "      <th>P05362</th>\n",
       "      <th>P05546</th>\n",
       "    </tr>\n",
       "  </thead>\n",
       "  <tbody>\n",
       "    <tr>\n",
       "      <th>I2</th>\n",
       "      <td>LGALS3BP</td>\n",
       "      <td>C7</td>\n",
       "      <td>PIGR</td>\n",
       "      <td>IGFBP7</td>\n",
       "      <td>QSOX1</td>\n",
       "      <td>CLU</td>\n",
       "      <td>FBLN1</td>\n",
       "      <td>ICAM1</td>\n",
       "      <td>SERPIND1</td>\n",
       "    </tr>\n",
       "  </tbody>\n",
       "</table>\n",
       "</div>"
      ],
      "text/plain": [
       "Protein ID    Q08380 P10643 P01833  Q16270 O00391 P10909 P23142 P05362  \\\n",
       "I2          LGALS3BP     C7   PIGR  IGFBP7  QSOX1    CLU  FBLN1  ICAM1   \n",
       "\n",
       "Protein ID    P05546  \n",
       "I2          SERPIND1  "
      ]
     },
     "execution_count": 113,
     "metadata": {},
     "output_type": "execute_result"
    }
   ],
   "source": [
    "proteins_selected_I2.T"
   ]
  },
  {
   "cell_type": "code",
   "execution_count": 114,
   "metadata": {},
   "outputs": [],
   "source": [
    "# don't label by gene to retain scoring information (to sort at least by endpoint for importance)\n",
    "protein_panels_scores={}\n",
    "for end_point, dichotomy in targets_dict.items():\n",
    "    k=best_dict[end_point]\n",
    "    feature_selected = FeatureSelector(k=k)\n",
    "    protein_panels_scores[end_point] = feature_selected.fit(data_proteomics, dichotomy, end_point)"
   ]
  },
  {
   "cell_type": "code",
   "execution_count": 115,
   "metadata": {},
   "outputs": [],
   "source": [
    "def get_feature_comp(protein_panel:dict, exclude=[], order=None):\n",
    "    \"\"\"Custom processor for dictonary holding multual information DataFrame per endpoint\n",
    "        from above.\"\"\"\n",
    "    for i, (endpoint, _df) in enumerate(protein_panel.items()):\n",
    "        if endpoint not in exclude:\n",
    "            if i == 0:\n",
    "                df_protein_panel = _df\n",
    "            else:\n",
    "                df_protein_panel = df_protein_panel.join(_df, how='outer')\n",
    "    if order:\n",
    "        df_protein_panel = df_protein_panel[order]\n",
    "    mask = df_protein_panel.isna()   \n",
    "    # df_protein_panel.where(mask, other=1).fillna(0).sort_values(by=list, ascending=False)\n",
    "    return df_protein_panel.sort_values(by=list(df_protein_panel.columns), ascending=False).fillna('-')\n",
    "\n",
    "df_protein_panel = get_feature_comp(protein_panel=protein_panels_scores, exclude=['F3'], order=['F2', 'I2', 'S1'])\n",
    "df_protein_panel['Gene Name'] = key_ProteinID.loc[df_protein_panel.index]"
   ]
  },
  {
   "cell_type": "code",
   "execution_count": 116,
   "metadata": {},
   "outputs": [
    {
     "data": {
      "text/html": [
       "<div>\n",
       "<style scoped>\n",
       "    .dataframe tbody tr th:only-of-type {\n",
       "        vertical-align: middle;\n",
       "    }\n",
       "\n",
       "    .dataframe tbody tr th {\n",
       "        vertical-align: top;\n",
       "    }\n",
       "\n",
       "    .dataframe thead th {\n",
       "        text-align: right;\n",
       "    }\n",
       "</style>\n",
       "<table border=\"1\" class=\"dataframe\">\n",
       "  <thead>\n",
       "    <tr style=\"text-align: right;\">\n",
       "      <th></th>\n",
       "      <th>F2</th>\n",
       "      <th>I2</th>\n",
       "      <th>S1</th>\n",
       "      <th>Gene Name</th>\n",
       "    </tr>\n",
       "    <tr>\n",
       "      <th>Protein ID</th>\n",
       "      <th></th>\n",
       "      <th></th>\n",
       "      <th></th>\n",
       "      <th></th>\n",
       "    </tr>\n",
       "  </thead>\n",
       "  <tbody>\n",
       "    <tr>\n",
       "      <th>P10643</th>\n",
       "      <td>0.263</td>\n",
       "      <td>0.148</td>\n",
       "      <td>-</td>\n",
       "      <td>C7</td>\n",
       "    </tr>\n",
       "    <tr>\n",
       "      <th>P19320</th>\n",
       "      <td>0.201</td>\n",
       "      <td>-</td>\n",
       "      <td>0.085</td>\n",
       "      <td>VCAM1</td>\n",
       "    </tr>\n",
       "    <tr>\n",
       "      <th>Q16270</th>\n",
       "      <td>0.193</td>\n",
       "      <td>0.121</td>\n",
       "      <td>-</td>\n",
       "      <td>IGFBP7</td>\n",
       "    </tr>\n",
       "    <tr>\n",
       "      <th>P35858</th>\n",
       "      <td>0.191</td>\n",
       "      <td>-</td>\n",
       "      <td>0.0706</td>\n",
       "      <td>IGFALS</td>\n",
       "    </tr>\n",
       "    <tr>\n",
       "      <th>P02743</th>\n",
       "      <td>0.15</td>\n",
       "      <td>-</td>\n",
       "      <td>-</td>\n",
       "      <td>APCS</td>\n",
       "    </tr>\n",
       "    <tr>\n",
       "      <th>A0A0G2JMB2</th>\n",
       "      <td>0.141</td>\n",
       "      <td>-</td>\n",
       "      <td>-</td>\n",
       "      <td>IGHA2</td>\n",
       "    </tr>\n",
       "    <tr>\n",
       "      <th>O00391</th>\n",
       "      <td>0.138</td>\n",
       "      <td>0.107</td>\n",
       "      <td>-</td>\n",
       "      <td>QSOX1</td>\n",
       "    </tr>\n",
       "    <tr>\n",
       "      <th>Q08380</th>\n",
       "      <td>0.131</td>\n",
       "      <td>0.177</td>\n",
       "      <td>0.092</td>\n",
       "      <td>LGALS3BP</td>\n",
       "    </tr>\n",
       "    <tr>\n",
       "      <th>P01833</th>\n",
       "      <td>0.125</td>\n",
       "      <td>0.122</td>\n",
       "      <td>-</td>\n",
       "      <td>PIGR</td>\n",
       "    </tr>\n",
       "    <tr>\n",
       "      <th>P00739</th>\n",
       "      <td>0.124</td>\n",
       "      <td>-</td>\n",
       "      <td>-</td>\n",
       "      <td>HPR</td>\n",
       "    </tr>\n",
       "  </tbody>\n",
       "</table>\n",
       "</div>"
      ],
      "text/plain": [
       "               F2     I2      S1 Gene Name\n",
       "Protein ID                                \n",
       "P10643      0.263  0.148       -        C7\n",
       "P19320      0.201      -   0.085     VCAM1\n",
       "Q16270      0.193  0.121       -    IGFBP7\n",
       "P35858      0.191      -  0.0706    IGFALS\n",
       "P02743       0.15      -       -      APCS\n",
       "A0A0G2JMB2  0.141      -       -     IGHA2\n",
       "O00391      0.138  0.107       -     QSOX1\n",
       "Q08380      0.131  0.177   0.092  LGALS3BP\n",
       "P01833      0.125  0.122       -      PIGR\n",
       "P00739      0.124      -       -       HPR"
      ]
     },
     "metadata": {},
     "output_type": "display_data"
    }
   ],
   "source": [
    "pd.set_option('precision', 3)\n",
    "display(df_protein_panel.head(10))"
   ]
  },
  {
   "cell_type": "code",
   "execution_count": 117,
   "metadata": {},
   "outputs": [
    {
     "data": {
      "text/plain": [
       "41"
      ]
     },
     "execution_count": 117,
     "metadata": {},
     "output_type": "execute_result"
    }
   ],
   "source": [
    "len(df_protein_panel)"
   ]
  },
  {
   "cell_type": "markdown",
   "metadata": {},
   "source": [
    "For the four endpoints a total of 41 prot"
   ]
  },
  {
   "cell_type": "markdown",
   "metadata": {},
   "source": [
    "Only one protein, "
   ]
  },
  {
   "cell_type": "markdown",
   "metadata": {
    "Collapsed": "false"
   },
   "source": [
    "### Executor \n",
    "\n",
    "corresponds to main function in a script. Allows changes over all endpoints simultaneously. "
   ]
  },
  {
   "cell_type": "code",
   "execution_count": 118,
   "metadata": {
    "Collapsed": "false"
   },
   "outputs": [],
   "source": [
    "from src.cross_validation import MainExecutorCV\n",
    "cv_executor = MainExecutorCV(proteomics_data=data_proteomics, clinical_data=data_cli, demographics=demographics, clf_sklearn=clf_sklearn, cutoffs_clinic=cutoffs_clinic)"
   ]
  },
  {
   "cell_type": "markdown",
   "metadata": {
    "Collapsed": "false"
   },
   "source": [
    "1. Models based on clinical marker thresholds (Clinical Reference Models) - defined by `cutoffs_clinic`\n",
    "2. Additional Models based on clinical markers (having no standard cutoffs defined or if data dependent cutoff is wanted) - defined by list `additional_markers`\n",
    "    - As this depends on the endpoint, it is \n",
    "3. Proteomics Models based on protein intensities\n",
    "\n",
    "Performance depends on the number of available features (varies!) \n",
    "\n",
    "Result tables:\n",
    "- metrics are reported for the test set\n",
    "- `N_obs` is the number of patients both in the training and testing data set which is split into 80% training and 20% testing splits."
   ]
  },
  {
   "cell_type": "code",
   "execution_count": 119,
   "metadata": {},
   "outputs": [],
   "source": [
    "ADD_DEMOGRAPHICS = False\n",
    "INTERACTION_DEGREE = 1\n",
    "VERBOSE = False"
   ]
  },
  {
   "cell_type": "markdown",
   "metadata": {
    "Collapsed": "false"
   },
   "source": [
    "### Fibrosis"
   ]
  },
  {
   "cell_type": "markdown",
   "metadata": {
    "Collapsed": "false"
   },
   "source": [
    "#### F2"
   ]
  },
  {
   "cell_type": "code",
   "execution_count": 120,
   "metadata": {
    "Collapsed": "false"
   },
   "outputs": [
    {
     "data": {
      "text/plain": [
       "1    200\n",
       "0    160\n",
       "Name: kleiner, dtype: int64"
      ]
     },
     "execution_count": 120,
     "metadata": {},
     "output_type": "execute_result"
    }
   ],
   "source": [
    "kleiner_ge_2.value_counts(dropna=False)"
   ]
  },
  {
   "cell_type": "code",
   "execution_count": 121,
   "metadata": {
    "Collapsed": "false"
   },
   "outputs": [
    {
     "data": {
      "text/plain": [
       "{'te': 7.0, 'swe': 8.6, 'elf': 7.7, 'ft': 0.48, 'fib4': 1.45, 'apri': 0.5}"
      ]
     },
     "execution_count": 121,
     "metadata": {},
     "output_type": "execute_result"
    }
   ],
   "source": [
    "cutoffs_f2 = cutoffs_clinic['F2'].dropna().to_dict()\n",
    "cutoffs_f2"
   ]
  },
  {
   "cell_type": "code",
   "execution_count": 122,
   "metadata": {
    "Collapsed": "false"
   },
   "outputs": [
    {
     "data": {
      "text/plain": [
       "count    360.000\n",
       "mean       0.556\n",
       "std        0.498\n",
       "min        0.000\n",
       "25%        0.000\n",
       "50%        1.000\n",
       "75%        1.000\n",
       "max        1.000\n",
       "Name: kleiner, dtype: float64"
      ]
     },
     "execution_count": 122,
     "metadata": {},
     "output_type": "execute_result"
    }
   ],
   "source": [
    "y = kleiner_ge_2.astype(int)\n",
    "y.describe()"
   ]
  },
  {
   "cell_type": "code",
   "execution_count": 123,
   "metadata": {
    "Collapsed": "false"
   },
   "outputs": [
    {
     "data": {
      "text/html": [
       "<div>\n",
       "<style scoped>\n",
       "    .dataframe tbody tr th:only-of-type {\n",
       "        vertical-align: middle;\n",
       "    }\n",
       "\n",
       "    .dataframe tbody tr th {\n",
       "        vertical-align: top;\n",
       "    }\n",
       "\n",
       "    .dataframe thead tr th {\n",
       "        text-align: left;\n",
       "    }\n",
       "</style>\n",
       "<table border=\"1\" class=\"dataframe\">\n",
       "  <thead>\n",
       "    <tr>\n",
       "      <th>variable</th>\n",
       "      <th colspan=\"2\" halign=\"left\">precision</th>\n",
       "      <th colspan=\"2\" halign=\"left\">recall</th>\n",
       "      <th colspan=\"2\" halign=\"left\">f1</th>\n",
       "      <th colspan=\"2\" halign=\"left\">balanced_accuracy</th>\n",
       "      <th colspan=\"2\" halign=\"left\">roc_auc</th>\n",
       "      <th colspan=\"2\" halign=\"left\">num_feat</th>\n",
       "      <th colspan=\"2\" halign=\"left\">n_obs</th>\n",
       "      <th colspan=\"2\" halign=\"left\">roc_auc_2</th>\n",
       "    </tr>\n",
       "    <tr>\n",
       "      <th>statistics</th>\n",
       "      <th>mean</th>\n",
       "      <th>std</th>\n",
       "      <th>mean</th>\n",
       "      <th>std</th>\n",
       "      <th>mean</th>\n",
       "      <th>std</th>\n",
       "      <th>mean</th>\n",
       "      <th>std</th>\n",
       "      <th>mean</th>\n",
       "      <th>std</th>\n",
       "      <th>mean</th>\n",
       "      <th>std</th>\n",
       "      <th>mean</th>\n",
       "      <th>std</th>\n",
       "      <th>mean</th>\n",
       "      <th>std</th>\n",
       "    </tr>\n",
       "  </thead>\n",
       "  <tbody>\n",
       "    <tr>\n",
       "      <th>F2_prot_Logistic</th>\n",
       "      <td>0.845</td>\n",
       "      <td>0.062</td>\n",
       "      <td>0.800</td>\n",
       "      <td>0.054</td>\n",
       "      <td>0.820</td>\n",
       "      <td>0.042</td>\n",
       "      <td>0.808</td>\n",
       "      <td>0.039</td>\n",
       "      <td>0.884</td>\n",
       "      <td>0.034</td>\n",
       "      <td>14.0</td>\n",
       "      <td>0.0</td>\n",
       "      <td>358.0</td>\n",
       "      <td>0.0</td>\n",
       "      <td>0.884</td>\n",
       "      <td>0.034</td>\n",
       "    </tr>\n",
       "    <tr>\n",
       "      <th>F2_marker_elf_Logistic</th>\n",
       "      <td>0.766</td>\n",
       "      <td>0.083</td>\n",
       "      <td>0.823</td>\n",
       "      <td>0.048</td>\n",
       "      <td>0.790</td>\n",
       "      <td>0.045</td>\n",
       "      <td>0.755</td>\n",
       "      <td>0.046</td>\n",
       "      <td>0.851</td>\n",
       "      <td>0.034</td>\n",
       "      <td>1.0</td>\n",
       "      <td>0.0</td>\n",
       "      <td>349.0</td>\n",
       "      <td>0.0</td>\n",
       "      <td>0.851</td>\n",
       "      <td>0.034</td>\n",
       "    </tr>\n",
       "    <tr>\n",
       "      <th>F2_marker_te</th>\n",
       "      <td>0.760</td>\n",
       "      <td>0.068</td>\n",
       "      <td>0.821</td>\n",
       "      <td>0.051</td>\n",
       "      <td>0.788</td>\n",
       "      <td>0.047</td>\n",
       "      <td>0.757</td>\n",
       "      <td>0.040</td>\n",
       "      <td>0.757</td>\n",
       "      <td>0.040</td>\n",
       "      <td>1.0</td>\n",
       "      <td>0.0</td>\n",
       "      <td>341.0</td>\n",
       "      <td>0.0</td>\n",
       "      <td>0.757</td>\n",
       "      <td>0.040</td>\n",
       "    </tr>\n",
       "    <tr>\n",
       "      <th>F2_marker_swe</th>\n",
       "      <td>0.795</td>\n",
       "      <td>0.054</td>\n",
       "      <td>0.776</td>\n",
       "      <td>0.055</td>\n",
       "      <td>0.784</td>\n",
       "      <td>0.041</td>\n",
       "      <td>0.768</td>\n",
       "      <td>0.036</td>\n",
       "      <td>0.768</td>\n",
       "      <td>0.036</td>\n",
       "      <td>1.0</td>\n",
       "      <td>0.0</td>\n",
       "      <td>331.0</td>\n",
       "      <td>0.0</td>\n",
       "      <td>0.768</td>\n",
       "      <td>0.036</td>\n",
       "    </tr>\n",
       "    <tr>\n",
       "      <th>F2_marker_te_Logistic</th>\n",
       "      <td>0.848</td>\n",
       "      <td>0.076</td>\n",
       "      <td>0.734</td>\n",
       "      <td>0.073</td>\n",
       "      <td>0.783</td>\n",
       "      <td>0.050</td>\n",
       "      <td>0.789</td>\n",
       "      <td>0.041</td>\n",
       "      <td>0.873</td>\n",
       "      <td>0.033</td>\n",
       "      <td>1.0</td>\n",
       "      <td>0.0</td>\n",
       "      <td>341.0</td>\n",
       "      <td>0.0</td>\n",
       "      <td>0.873</td>\n",
       "      <td>0.033</td>\n",
       "    </tr>\n",
       "    <tr>\n",
       "      <th>F2_marker_ft_Logistic</th>\n",
       "      <td>0.844</td>\n",
       "      <td>0.074</td>\n",
       "      <td>0.735</td>\n",
       "      <td>0.071</td>\n",
       "      <td>0.782</td>\n",
       "      <td>0.052</td>\n",
       "      <td>0.791</td>\n",
       "      <td>0.045</td>\n",
       "      <td>0.867</td>\n",
       "      <td>0.035</td>\n",
       "      <td>1.0</td>\n",
       "      <td>0.0</td>\n",
       "      <td>268.0</td>\n",
       "      <td>0.0</td>\n",
       "      <td>0.867</td>\n",
       "      <td>0.035</td>\n",
       "    </tr>\n",
       "    <tr>\n",
       "      <th>F2_marker_swe_Logistic</th>\n",
       "      <td>0.857</td>\n",
       "      <td>0.057</td>\n",
       "      <td>0.711</td>\n",
       "      <td>0.065</td>\n",
       "      <td>0.775</td>\n",
       "      <td>0.047</td>\n",
       "      <td>0.785</td>\n",
       "      <td>0.037</td>\n",
       "      <td>0.881</td>\n",
       "      <td>0.029</td>\n",
       "      <td>1.0</td>\n",
       "      <td>0.0</td>\n",
       "      <td>331.0</td>\n",
       "      <td>0.0</td>\n",
       "      <td>0.881</td>\n",
       "      <td>0.029</td>\n",
       "    </tr>\n",
       "    <tr>\n",
       "      <th>F2_marker_forns_Logistic</th>\n",
       "      <td>0.721</td>\n",
       "      <td>0.064</td>\n",
       "      <td>0.772</td>\n",
       "      <td>0.062</td>\n",
       "      <td>0.743</td>\n",
       "      <td>0.041</td>\n",
       "      <td>0.701</td>\n",
       "      <td>0.034</td>\n",
       "      <td>0.809</td>\n",
       "      <td>0.033</td>\n",
       "      <td>1.0</td>\n",
       "      <td>0.0</td>\n",
       "      <td>356.0</td>\n",
       "      <td>0.0</td>\n",
       "      <td>0.809</td>\n",
       "      <td>0.033</td>\n",
       "    </tr>\n",
       "    <tr>\n",
       "      <th>F2_marker_fib4</th>\n",
       "      <td>0.743</td>\n",
       "      <td>0.058</td>\n",
       "      <td>0.744</td>\n",
       "      <td>0.051</td>\n",
       "      <td>0.742</td>\n",
       "      <td>0.044</td>\n",
       "      <td>0.711</td>\n",
       "      <td>0.038</td>\n",
       "      <td>0.711</td>\n",
       "      <td>0.038</td>\n",
       "      <td>1.0</td>\n",
       "      <td>0.0</td>\n",
       "      <td>352.0</td>\n",
       "      <td>0.0</td>\n",
       "      <td>0.711</td>\n",
       "      <td>0.038</td>\n",
       "    </tr>\n",
       "    <tr>\n",
       "      <th>F2_marker_p3np_Logistic</th>\n",
       "      <td>0.819</td>\n",
       "      <td>0.071</td>\n",
       "      <td>0.665</td>\n",
       "      <td>0.068</td>\n",
       "      <td>0.731</td>\n",
       "      <td>0.051</td>\n",
       "      <td>0.747</td>\n",
       "      <td>0.044</td>\n",
       "      <td>0.804</td>\n",
       "      <td>0.039</td>\n",
       "      <td>1.0</td>\n",
       "      <td>0.0</td>\n",
       "      <td>319.0</td>\n",
       "      <td>0.0</td>\n",
       "      <td>0.804</td>\n",
       "      <td>0.039</td>\n",
       "    </tr>\n",
       "    <tr>\n",
       "      <th>F2_marker_elf</th>\n",
       "      <td>0.573</td>\n",
       "      <td>0.057</td>\n",
       "      <td>0.995</td>\n",
       "      <td>0.010</td>\n",
       "      <td>0.725</td>\n",
       "      <td>0.047</td>\n",
       "      <td>0.533</td>\n",
       "      <td>0.017</td>\n",
       "      <td>0.533</td>\n",
       "      <td>0.017</td>\n",
       "      <td>1.0</td>\n",
       "      <td>0.0</td>\n",
       "      <td>349.0</td>\n",
       "      <td>0.0</td>\n",
       "      <td>0.533</td>\n",
       "      <td>0.017</td>\n",
       "    </tr>\n",
       "    <tr>\n",
       "      <th>F2_marker_fib4_Logistic</th>\n",
       "      <td>0.789</td>\n",
       "      <td>0.082</td>\n",
       "      <td>0.674</td>\n",
       "      <td>0.059</td>\n",
       "      <td>0.723</td>\n",
       "      <td>0.046</td>\n",
       "      <td>0.724</td>\n",
       "      <td>0.043</td>\n",
       "      <td>0.788</td>\n",
       "      <td>0.043</td>\n",
       "      <td>1.0</td>\n",
       "      <td>0.0</td>\n",
       "      <td>352.0</td>\n",
       "      <td>0.0</td>\n",
       "      <td>0.788</td>\n",
       "      <td>0.043</td>\n",
       "    </tr>\n",
       "    <tr>\n",
       "      <th>F2_marker_apri_Logistic</th>\n",
       "      <td>0.786</td>\n",
       "      <td>0.089</td>\n",
       "      <td>0.669</td>\n",
       "      <td>0.056</td>\n",
       "      <td>0.718</td>\n",
       "      <td>0.043</td>\n",
       "      <td>0.721</td>\n",
       "      <td>0.042</td>\n",
       "      <td>0.766</td>\n",
       "      <td>0.043</td>\n",
       "      <td>1.0</td>\n",
       "      <td>0.0</td>\n",
       "      <td>353.0</td>\n",
       "      <td>0.0</td>\n",
       "      <td>0.766</td>\n",
       "      <td>0.043</td>\n",
       "    </tr>\n",
       "    <tr>\n",
       "      <th>F2_marker_apri</th>\n",
       "      <td>0.835</td>\n",
       "      <td>0.079</td>\n",
       "      <td>0.564</td>\n",
       "      <td>0.064</td>\n",
       "      <td>0.670</td>\n",
       "      <td>0.058</td>\n",
       "      <td>0.712</td>\n",
       "      <td>0.043</td>\n",
       "      <td>0.712</td>\n",
       "      <td>0.043</td>\n",
       "      <td>1.0</td>\n",
       "      <td>0.0</td>\n",
       "      <td>353.0</td>\n",
       "      <td>0.0</td>\n",
       "      <td>0.712</td>\n",
       "      <td>0.043</td>\n",
       "    </tr>\n",
       "    <tr>\n",
       "      <th>F2_marker_ft</th>\n",
       "      <td>0.910</td>\n",
       "      <td>0.065</td>\n",
       "      <td>0.493</td>\n",
       "      <td>0.069</td>\n",
       "      <td>0.637</td>\n",
       "      <td>0.063</td>\n",
       "      <td>0.719</td>\n",
       "      <td>0.039</td>\n",
       "      <td>0.719</td>\n",
       "      <td>0.039</td>\n",
       "      <td>1.0</td>\n",
       "      <td>0.0</td>\n",
       "      <td>268.0</td>\n",
       "      <td>0.0</td>\n",
       "      <td>0.719</td>\n",
       "      <td>0.039</td>\n",
       "    </tr>\n",
       "  </tbody>\n",
       "</table>\n",
       "</div>"
      ],
      "text/plain": [
       "variable                 precision        recall            f1         \\\n",
       "statistics                    mean    std   mean    std   mean    std   \n",
       "F2_prot_Logistic             0.845  0.062  0.800  0.054  0.820  0.042   \n",
       "F2_marker_elf_Logistic       0.766  0.083  0.823  0.048  0.790  0.045   \n",
       "F2_marker_te                 0.760  0.068  0.821  0.051  0.788  0.047   \n",
       "F2_marker_swe                0.795  0.054  0.776  0.055  0.784  0.041   \n",
       "F2_marker_te_Logistic        0.848  0.076  0.734  0.073  0.783  0.050   \n",
       "F2_marker_ft_Logistic        0.844  0.074  0.735  0.071  0.782  0.052   \n",
       "F2_marker_swe_Logistic       0.857  0.057  0.711  0.065  0.775  0.047   \n",
       "F2_marker_forns_Logistic     0.721  0.064  0.772  0.062  0.743  0.041   \n",
       "F2_marker_fib4               0.743  0.058  0.744  0.051  0.742  0.044   \n",
       "F2_marker_p3np_Logistic      0.819  0.071  0.665  0.068  0.731  0.051   \n",
       "F2_marker_elf                0.573  0.057  0.995  0.010  0.725  0.047   \n",
       "F2_marker_fib4_Logistic      0.789  0.082  0.674  0.059  0.723  0.046   \n",
       "F2_marker_apri_Logistic      0.786  0.089  0.669  0.056  0.718  0.043   \n",
       "F2_marker_apri               0.835  0.079  0.564  0.064  0.670  0.058   \n",
       "F2_marker_ft                 0.910  0.065  0.493  0.069  0.637  0.063   \n",
       "\n",
       "variable                 balanced_accuracy        roc_auc        num_feat  \\\n",
       "statistics                            mean    std    mean    std     mean   \n",
       "F2_prot_Logistic                     0.808  0.039   0.884  0.034     14.0   \n",
       "F2_marker_elf_Logistic               0.755  0.046   0.851  0.034      1.0   \n",
       "F2_marker_te                         0.757  0.040   0.757  0.040      1.0   \n",
       "F2_marker_swe                        0.768  0.036   0.768  0.036      1.0   \n",
       "F2_marker_te_Logistic                0.789  0.041   0.873  0.033      1.0   \n",
       "F2_marker_ft_Logistic                0.791  0.045   0.867  0.035      1.0   \n",
       "F2_marker_swe_Logistic               0.785  0.037   0.881  0.029      1.0   \n",
       "F2_marker_forns_Logistic             0.701  0.034   0.809  0.033      1.0   \n",
       "F2_marker_fib4                       0.711  0.038   0.711  0.038      1.0   \n",
       "F2_marker_p3np_Logistic              0.747  0.044   0.804  0.039      1.0   \n",
       "F2_marker_elf                        0.533  0.017   0.533  0.017      1.0   \n",
       "F2_marker_fib4_Logistic              0.724  0.043   0.788  0.043      1.0   \n",
       "F2_marker_apri_Logistic              0.721  0.042   0.766  0.043      1.0   \n",
       "F2_marker_apri                       0.712  0.043   0.712  0.043      1.0   \n",
       "F2_marker_ft                         0.719  0.039   0.719  0.039      1.0   \n",
       "\n",
       "variable                       n_obs      roc_auc_2         \n",
       "statistics                std   mean  std      mean    std  \n",
       "F2_prot_Logistic          0.0  358.0  0.0     0.884  0.034  \n",
       "F2_marker_elf_Logistic    0.0  349.0  0.0     0.851  0.034  \n",
       "F2_marker_te              0.0  341.0  0.0     0.757  0.040  \n",
       "F2_marker_swe             0.0  331.0  0.0     0.768  0.036  \n",
       "F2_marker_te_Logistic     0.0  341.0  0.0     0.873  0.033  \n",
       "F2_marker_ft_Logistic     0.0  268.0  0.0     0.867  0.035  \n",
       "F2_marker_swe_Logistic    0.0  331.0  0.0     0.881  0.029  \n",
       "F2_marker_forns_Logistic  0.0  356.0  0.0     0.809  0.033  \n",
       "F2_marker_fib4            0.0  352.0  0.0     0.711  0.038  \n",
       "F2_marker_p3np_Logistic   0.0  319.0  0.0     0.804  0.039  \n",
       "F2_marker_elf             0.0  349.0  0.0     0.533  0.017  \n",
       "F2_marker_fib4_Logistic   0.0  352.0  0.0     0.788  0.043  \n",
       "F2_marker_apri_Logistic   0.0  353.0  0.0     0.766  0.043  \n",
       "F2_marker_apri            0.0  353.0  0.0     0.712  0.043  \n",
       "F2_marker_ft              0.0  268.0  0.0     0.719  0.039  "
      ]
     },
     "execution_count": 123,
     "metadata": {},
     "output_type": "execute_result"
    }
   ],
   "source": [
    "f2_results, f2_auc_scores, f2_prc_scores = cv_executor.run_evaluation(y=kleiner_ge_2,\n",
    "                                                       endpoint='F2',\n",
    "                                                       additional_markers=['forns', 'p3np'],\n",
    "                                                       proteins_selected=proteins_selected_f2,\n",
    "                                                       add_demographics=ADD_DEMOGRAPHICS,\n",
    "                                                       interactions_degree=1,\n",
    "                                                       cv=cv_train_test_indices,\n",
    "                                                       verbose=VERBOSE)\n",
    "result_table_f2 = _get_cv_means(f2_results).sort_values(('f1', 'mean'), ascending = False)\n",
    "result_table_f2"
   ]
  },
  {
   "cell_type": "code",
   "execution_count": 124,
   "metadata": {},
   "outputs": [
    {
     "ename": "AssertionError",
     "evalue": "Final results not reproduced.",
     "output_type": "error",
     "traceback": [
      "\u001b[0;31m---------------------------------------------------------------------------\u001b[0m",
      "\u001b[0;31mAssertionError\u001b[0m                            Traceback (most recent call last)",
      "\u001b[0;32m<ipython-input-124-3ff853233803>\u001b[0m in \u001b[0;36m<module>\u001b[0;34m\u001b[0m\n\u001b[0;32m----> 1\u001b[0;31m \u001b[0;32massert\u001b[0m \u001b[0mresult_table_f2\u001b[0m\u001b[0;34m.\u001b[0m\u001b[0mloc\u001b[0m\u001b[0;34m[\u001b[0m\u001b[0;34m'F2_prot_Logistic'\u001b[0m\u001b[0;34m,\u001b[0m \u001b[0;34m(\u001b[0m\u001b[0;34m'roc_auc'\u001b[0m\u001b[0;34m,\u001b[0m \u001b[0;34m'mean'\u001b[0m\u001b[0;34m)\u001b[0m\u001b[0;34m]\u001b[0m \u001b[0;34m-\u001b[0m \u001b[0;36m0.8812105411992736\u001b[0m \u001b[0;34m<\u001b[0m \u001b[0;36m0.00001\u001b[0m\u001b[0;34m,\u001b[0m \u001b[0;34m\"Final results not reproduced.\"\u001b[0m\u001b[0;34m\u001b[0m\u001b[0;34m\u001b[0m\u001b[0m\n\u001b[0m",
      "\u001b[0;31mAssertionError\u001b[0m: Final results not reproduced."
     ]
    }
   ],
   "source": [
    "assert result_table_f2.loc['F2_prot_Logistic', ('roc_auc', 'mean')] - 0.8812105411992736 < 0.00001, \"Final results not reproduced.\""
   ]
  },
  {
   "cell_type": "markdown",
   "metadata": {
    "Collapsed": "false"
   },
   "source": [
    "#### F3"
   ]
  },
  {
   "cell_type": "code",
   "execution_count": null,
   "metadata": {
    "Collapsed": "false"
   },
   "outputs": [],
   "source": [
    "kleiner_ge_3.value_counts(dropna=False)"
   ]
  },
  {
   "cell_type": "code",
   "execution_count": null,
   "metadata": {
    "Collapsed": "false"
   },
   "outputs": [],
   "source": [
    "cutoffs_f3 = cutoffs_clinic['F3'].dropna().to_dict()\n",
    "cutoffs_f3"
   ]
  },
  {
   "cell_type": "markdown",
   "metadata": {
    "Collapsed": "false"
   },
   "source": [
    "Two clinical markers have no cutoff defined in the literature. Therefore we have to learn these"
   ]
  },
  {
   "cell_type": "code",
   "execution_count": null,
   "metadata": {
    "Collapsed": "false"
   },
   "outputs": [],
   "source": [
    "f3_results, f3_auc_scores, f3_prc_scores = cv_executor.run_evaluation(y=kleiner_ge_3, endpoint='F3', \n",
    "                                                       additional_markers=['p3np'], \n",
    "                                                       proteins_selected=proteins_selected_f3,\n",
    "                                                       add_demographics=ADD_DEMOGRAPHICS,\n",
    "                                                       interactions_degree=1,\n",
    "                                                       cv=cv_train_test_indices,\n",
    "                                                       verbose=VERBOSE)\n",
    "result_table_f3 = _get_cv_means(f3_results).sort_values(('f1', 'mean'), ascending = False)\n",
    "result_table_f3"
   ]
  },
  {
   "cell_type": "markdown",
   "metadata": {
    "Collapsed": "false"
   },
   "source": [
    "Using one of the models (or the ensemble), one could expect some predictions of fibrosis patients in the untested healthy patient (hp) cohort."
   ]
  },
  {
   "cell_type": "markdown",
   "metadata": {
    "Collapsed": "false"
   },
   "source": [
    "### Inflamation"
   ]
  },
  {
   "cell_type": "code",
   "execution_count": null,
   "metadata": {
    "Collapsed": "false"
   },
   "outputs": [],
   "source": [
    "inflamation_ge_2.value_counts(dropna=False)"
   ]
  },
  {
   "cell_type": "code",
   "execution_count": null,
   "metadata": {
    "Collapsed": "false"
   },
   "outputs": [],
   "source": [
    "cutoffs_i2 = cutoffs_clinic['I2'].dropna().to_dict()\n",
    "cutoffs_i2"
   ]
  },
  {
   "cell_type": "code",
   "execution_count": null,
   "metadata": {
    "Collapsed": "false"
   },
   "outputs": [],
   "source": [
    "i2_results, i2_auc_scores, i2_prc_scores = cv_executor.run_evaluation(y=inflamation_ge_2, endpoint='I2', \n",
    "                                                       additional_markers=['m30', 'm65', 'alt', 'ast', 'm30m65_ratio'], \n",
    "                                                       proteins_selected=proteins_selected_I2,\n",
    "                                                       add_demographics=ADD_DEMOGRAPHICS,\n",
    "                                                       interactions_degree=1,\n",
    "                                                       cv=cv_train_test_indices,\n",
    "                                                       verbose=VERBOSE)\n",
    "result_table_i2 = _get_cv_means(i2_results).sort_values(('f1', 'mean'), ascending = False)\n",
    "result_table_i2"
   ]
  },
  {
   "cell_type": "markdown",
   "metadata": {
    "Collapsed": "false"
   },
   "source": [
    "### Steatosis"
   ]
  },
  {
   "cell_type": "code",
   "execution_count": null,
   "metadata": {
    "Collapsed": "false"
   },
   "outputs": [],
   "source": [
    "steatosis_ge_1.value_counts(dropna=False)"
   ]
  },
  {
   "cell_type": "code",
   "execution_count": null,
   "metadata": {
    "Collapsed": "false"
   },
   "outputs": [],
   "source": [
    "cutoffs_s1 = cutoffs_clinic['S1'].dropna().to_dict()\n",
    "cutoffs_s1"
   ]
  },
  {
   "cell_type": "code",
   "execution_count": null,
   "metadata": {
    "Collapsed": "false"
   },
   "outputs": [],
   "source": [
    "y = steatosis_ge_1.astype(int)\n",
    "y.describe()"
   ]
  },
  {
   "cell_type": "code",
   "execution_count": null,
   "metadata": {
    "Collapsed": "false"
   },
   "outputs": [],
   "source": [
    "s1_results, s1_auc_scores, s1_prc_scores = cv_executor.run_evaluation(y=steatosis_ge_1, endpoint='S1', \n",
    "                                                       additional_markers=[], \n",
    "                                                       proteins_selected=proteins_selected_s1,\n",
    "                                                       add_demographics=ADD_DEMOGRAPHICS,\n",
    "                                                       interactions_degree=1,\n",
    "                                                       cv=cv_train_test_indices,\n",
    "                                                       verbose=VERBOSE)\n",
    "result_table_s1 = _get_cv_means(s1_results).sort_values(('f1', 'mean'), ascending = False)\n",
    "result_table_s1"
   ]
  },
  {
   "cell_type": "markdown",
   "metadata": {
    "Collapsed": "false"
   },
   "source": [
    "### Write results to Excel"
   ]
  },
  {
   "cell_type": "code",
   "execution_count": null,
   "metadata": {
    "Collapsed": "false"
   },
   "outputs": [],
   "source": [
    "FILE_RESULTS = os.path.join(TABLEFOLDER, 'CV_results.xlsx')\n",
    "\n",
    "with pd.ExcelWriter(FILE_RESULTS) as writer:\n",
    "    result_table_f2.to_excel(writer, sheet_name='F2_featureOptim')\n",
    "    result_table_f3.to_excel(writer, sheet_name='F3_featureOptim')\n",
    "    result_table_i2.to_excel(writer, sheet_name='I2_featureOptim')\n",
    "    result_table_s1.to_excel(writer, sheet_name='S1_featureOptim')"
   ]
  },
  {
   "cell_type": "markdown",
   "metadata": {
    "Collapsed": "false"
   },
   "source": [
    "## Plot Results of Cross validation for three endpoints (F2, I2, S1)\n",
    "\n",
    "- create [enumeration of subplots](https://stackoverflow.com/a/25544329/9684872) starting at a)"
   ]
  },
  {
   "cell_type": "code",
   "execution_count": null,
   "metadata": {},
   "outputs": [],
   "source": [
    "map_names = pd.read_csv(os.path.join(FOLDER_DATA_RAW, 'naming_scheme.csv'), index_col='name_in_clinical_data')\n",
    "map_names = map_names['name_in_plot'].to_dict()\n",
    "map_names"
   ]
  },
  {
   "cell_type": "markdown",
   "metadata": {},
   "source": [
    "Custom function to transform index names"
   ]
  },
  {
   "cell_type": "code",
   "execution_count": null,
   "metadata": {
    "Collapsed": "false"
   },
   "outputs": [],
   "source": [
    "display(result_table_s1)\n",
    "\n",
    "def _process_names(index, map_names=map_names):\n",
    "    \"\"\"Helper function for custom labeling of models.\n",
    "    This function is specific to any dataset and has to be rewritten.\n",
    "    \n",
    "    Parameters\n",
    "    ----------\n",
    "    index: pandas.Index\n",
    "        Index to transform. Index names are composite word\n",
    "        combined with '_' here.\n",
    "    map_names: dict\n",
    "        Mapping of names to apply to words.\n",
    "    \"\"\"\n",
    "    names = list(index)\n",
    "    names = [x.split('_') for x in names]\n",
    "    endpoint = names[0][0]\n",
    "    \n",
    "    def _process_index_names(_l:list):\n",
    "        REMOVE = 'marker'\n",
    "        if REMOVE in _l:\n",
    "            _l.remove(REMOVE)\n",
    "        _l = [word if not word in map_names else map_names[word] for word in _l]\n",
    "        CHANGE = {'Logistic': 'Model',\n",
    "                  'prot': 'Proteomics'}\n",
    "        _l = [word if not word in CHANGE else CHANGE[word] for word in _l]\n",
    "        if CHANGE['Logistic'] not in _l:\n",
    "            _l.append('Test')\n",
    "        return _l\n",
    "    \n",
    "    for _l in names: assert endpoint == _l[0] , f\"Mixed endpoints: {endpoint} and {_l[0]}\"\n",
    "    names = [\" \".join(_process_index_names(_l[1:])) for _l in names]\n",
    "    return names\n",
    "\n",
    "_process_names(result_table_s1.index)"
   ]
  },
  {
   "cell_type": "markdown",
   "metadata": {
    "Collapsed": "false"
   },
   "source": [
    "### Performance Plots based on results DataFrame for a endpoint"
   ]
  },
  {
   "cell_type": "code",
   "execution_count": null,
   "metadata": {
    "Collapsed": "false"
   },
   "outputs": [],
   "source": [
    "from src.plots import plot_performance\n",
    "fig, ax = plt.subplots(figsize=(10,10))\n",
    "plot_performance(ax, result_table_s1, 'balanced_accuracy', 'Steatosis', _process_index=_process_names)"
   ]
  },
  {
   "cell_type": "markdown",
   "metadata": {
    "Collapsed": "false"
   },
   "source": [
    "### AUC-ROC Curves based on CV result for an endpoint"
   ]
  },
  {
   "cell_type": "code",
   "execution_count": null,
   "metadata": {
    "Collapsed": "false"
   },
   "outputs": [],
   "source": [
    "from src.plots import plot_roc_curve\n",
    "\n",
    "fig, ax = plt.subplots(figsize=(8, 8))      \n",
    "        \n",
    "plot_roc_curve(ax, roc_curve_results['F2_Logistic'], 'TARGET')"
   ]
  },
  {
   "cell_type": "markdown",
   "metadata": {},
   "source": [
    "### Precision Recall Curve"
   ]
  },
  {
   "cell_type": "code",
   "execution_count": null,
   "metadata": {},
   "outputs": [],
   "source": [
    "from src.plots import plot_prc_curve\n",
    "fig, ax = plt.subplots(figsize=(8, 8))\n",
    "plot_prc_curve(ax, precision_recall_results['F2_Logistic'], 'TARGET')"
   ]
  },
  {
   "cell_type": "markdown",
   "metadata": {
    "Collapsed": "false"
   },
   "source": [
    "### Build final figure for publication"
   ]
  },
  {
   "cell_type": "code",
   "execution_count": null,
   "metadata": {},
   "outputs": [],
   "source": [
    "result_table_f3"
   ]
  },
  {
   "cell_type": "code",
   "execution_count": null,
   "metadata": {
    "Collapsed": "false"
   },
   "outputs": [],
   "source": [
    "import string\n",
    "fig, axs = plt.subplots(3,3,figsize=(20,20))\n",
    "\n",
    "n=0\n",
    "result_tuples = [\n",
    " (result_table_f2, f2_auc_scores, 'Fibrosis F2-F4', 'F2_prot_Logistic'), \n",
    " (result_table_i2, i2_auc_scores, 'NAS Inflamation $\\geq 2$', 'I2_prot_Logistic'), \n",
    " (result_table_s1, s1_auc_scores, 'NAS Steatosis $\\geq 5$%', 'S1_prot_Logistic'), \n",
    "    \n",
    "]\n",
    "\n",
    "for col, (result_table, result_auc_scores, endpoint_title, auc_model_name) in enumerate(result_tuples):\n",
    "    \n",
    "    ax = axs[0,col]\n",
    "    plot_roc_curve(ax, result_auc_scores[auc_model_name], endpoint_title)\n",
    "    _ = ax.text(-0.5, 1.1, f\"{string.ascii_lowercase[n]})\", transform=ax.transAxes, \n",
    "                size=20, weight='bold')\n",
    "    n+=1\n",
    "    \n",
    "    ax = axs[1,col]\n",
    "    plot_performance(ax, result=result_table, metric='f1', title=endpoint_title,  _process_index=_process_names)   \n",
    "    _ = ax.text(-0.5, 1.1, f\"{string.ascii_lowercase[n]})\", transform=ax.transAxes, \n",
    "                size=20, weight='bold')\n",
    "    n+=1\n",
    "    \n",
    "    ax = axs[2,col]\n",
    "    _ = ax.text(-0.5, 1.1, f\"{string.ascii_lowercase[n]})\", transform=ax.transAxes, \n",
    "                size=20, weight='bold')\n",
    "    plot_performance(ax, result=result_table, metric='balanced_accuracy', title=endpoint_title, _process_index=_process_names)   \n",
    "\n",
    "    n+=1\n",
    "\n",
    "fig.tight_layout()\n",
    "fig.savefig(FIGURE_FOLDER / 'Figure_6_new.png', dpi=120, pad_inches=0.1, bbox_inches='tight')"
   ]
  },
  {
   "cell_type": "markdown",
   "metadata": {},
   "source": [
    "- plot for model ≥ F3"
   ]
  },
  {
   "cell_type": "markdown",
   "metadata": {},
   "source": [
    "## Final model\n",
    "\n",
    "1. Either pick one of the models run during CV\n",
    "2. Aggregate metrics over all CV runs for obs in test set (~ mean of CV results)\n",
    "3. Perform new train/test split.\n",
    "\n",
    "\n",
    "Steps to implement\n",
    "\n",
    "1.  Select model with median aucroc performance\n",
    "2.  Report summary statistics (mean, median, min, max)\n",
    "3.  [DeLong](https://github.com/llniu/roc_comparison)\n",
    "4.  Target Scores for three endpoints of final prediction model\n"
   ]
  },
  {
   "cell_type": "markdown",
   "metadata": {},
   "source": [
    "### Check Cross Validation results (for comparison)"
   ]
  },
  {
   "cell_type": "markdown",
   "metadata": {},
   "source": [
    "#### Look at descriptive statistics of CV\n",
    "\n",
    "- depending on the split the performance varies. The `min`, `max`, `mean`, etc. are given per model, therefore it's not the given split. Selecting a split of the data which supports one's conclusion can be misleading."
   ]
  },
  {
   "cell_type": "code",
   "execution_count": null,
   "metadata": {},
   "outputs": [],
   "source": [
    "results = {\n",
    " \"F2\":f2_results,\n",
    " \"F3\":f3_results,\n",
    " \"I2\":i2_results,\n",
    " \"S1\":s1_results\n",
    "}"
   ]
  },
  {
   "cell_type": "code",
   "execution_count": null,
   "metadata": {},
   "outputs": [],
   "source": [
    "results_combinded = {}\n",
    "for _results in results.values(): results_combinded.update(_results)\n",
    "results_combinded.keys()"
   ]
  },
  {
   "cell_type": "code",
   "execution_count": null,
   "metadata": {},
   "outputs": [],
   "source": [
    "def show_summary(results_dict, metric='f1', sort=True, save=False):\n",
    "    _df = pd.DataFrame(results_dict).loc[metric].apply(pd.Series).T.describe()\n",
    "    _df.index.name = metric\n",
    "    if sort:\n",
    "        _df = _df.sort_values(by='mean', axis=1, ascending=False)\n",
    "    if save:\n",
    "        fname = \"cv_stats_{}{}.xlsx\".format(metric, '_sorted' if save else '')\n",
    "        fname = os.path.join(TABLEFOLDER, fname)\n",
    "        _df.to_excel(fname)\n",
    "        print(f'Saved Table to: {fname}')\n",
    "    return _df"
   ]
  },
  {
   "cell_type": "code",
   "execution_count": null,
   "metadata": {},
   "outputs": [],
   "source": [
    "out= widgets.interact(show_summary, metric=scoring, results_dict=widgets.fixed(results_combinded))"
   ]
  },
  {
   "cell_type": "markdown",
   "metadata": {},
   "source": [
    "#### Select a model from the CV run (and compare it to others)"
   ]
  },
  {
   "cell_type": "code",
   "execution_count": null,
   "metadata": {},
   "outputs": [],
   "source": [
    "l_models = list(results_combinded.keys())\n",
    "ref_model=l_models[14] # 'F2_prot_Logistic'\n",
    "metric=scoring[2]      # 'f1'"
   ]
  },
  {
   "cell_type": "code",
   "execution_count": null,
   "metadata": {},
   "outputs": [],
   "source": [
    "def compare_models(ref_model:str, metric:str, data:dict, fct=np.median):\n",
    "    \"\"\"Select comparison. The first column is the referenc model.\n",
    "    If the metric of the summary statistic is present several times in the model, this value is returned.\"\"\"\n",
    "    ref_model_metric_values = np.array(data[ref_model][metric])\n",
    "    ref_model_metric = fct(ref_model_metric_values)\n",
    "    ref_model_metric_idx = (np.abs(ref_model_metric_values - ref_model_metric)).argmin() #ToDo: return both closest values for median.\n",
    "    ref_model_metric = ref_model_metric_values[ref_model_metric_idx]\n",
    "    matches = [index for index, item in enumerate(ref_model_metric_values) if item == ref_model_metric]\n",
    "\n",
    "    _results = pd.DataFrame(ref_model_metric_values[matches], columns=[ref_model], index=matches)\n",
    "    _results.index.name = 'run'\n",
    "    \n",
    "    _selected_results = {}\n",
    "    \n",
    "    \n",
    "    for _model, _result in data.items():\n",
    "        if not _model == ref_model:\n",
    "            _selected_results[_model] = [_result[metric][item] for item in matches]\n",
    "    #sorting of values over last result\n",
    "    _other = pd.DataFrame(_selected_results, index=matches)\n",
    "    _other = _other.sort_values(by=matches[-1], axis=1, ascending=False)\n",
    "    return _results.join(_other)\n",
    "\n",
    "# compare_models(ref_model=ref_model, metric='precision', data=f2_results, fct=lambda x: np.quantile(x, q=0.6))"
   ]
  },
  {
   "cell_type": "code",
   "execution_count": null,
   "metadata": {},
   "outputs": [],
   "source": [
    "protein_model_name = {endpoint: f'{endpoint}_prot_Logistic'for endpoint in end_points}\n",
    "metrics_np_fct = {'median': np.median, '3rd quintile': lambda x: np.quantile(x, q=0.6), 'mean': np.mean, 'max': np.max, 'min': np.min }\n",
    "\n",
    "#needs global dictionaries: protein_model_name, metrics_np_fct, results\n",
    "def _caller_comp(metric, endpoint, selector):\n",
    "    \"\"\"Helper function to use with ipykernel\"\"\"\n",
    "    df = compare_models(ref_model=protein_model_name[endpoint], metric=metric, data=results[endpoint], fct=metrics_np_fct[selector])\n",
    "    df.columns.name = selector\n",
    "    return df\n",
    "# _caller_comp('f1', 'I2', 'median')"
   ]
  },
  {
   "cell_type": "code",
   "execution_count": null,
   "metadata": {},
   "outputs": [],
   "source": [
    "out2= widgets.interact(_caller_comp, metric=scoring, endpoint=results.keys(), selector=metrics_np_fct.keys())"
   ]
  },
  {
   "cell_type": "markdown",
   "metadata": {},
   "source": [
    "### Train a new final model"
   ]
  },
  {
   "cell_type": "markdown",
   "metadata": {},
   "source": [
    "Adjust `run_cv_binary`"
   ]
  },
  {
   "cell_type": "code",
   "execution_count": null,
   "metadata": {},
   "outputs": [],
   "source": [
    "X_train, X_test, y_train, y_test = sklearn.model_selection.train_test_split(data_cli_missing_table, stratifier, test_size=0.2, stratify=stratifier, random_state=42)\n",
    "logging.info(f\"N train: {len(y_train)}\")\n",
    "logging.info(f\"N test: {len(y_test)}\")"
   ]
  },
  {
   "cell_type": "code",
   "execution_count": null,
   "metadata": {},
   "outputs": [],
   "source": [
    "combine_value_counts(pd.DataFrame({'train': y_train, 'test': y_test}))"
   ]
  },
  {
   "cell_type": "code",
   "execution_count": null,
   "metadata": {},
   "outputs": [],
   "source": [
    "train_test_split_final = [(X_train.index, X_test.index)] # list of (train, test) indices. Does not throw a nice error message otherwise."
   ]
  },
  {
   "cell_type": "markdown",
   "metadata": {},
   "source": [
    "Adapted the executor to take as argument a different function."
   ]
  },
  {
   "cell_type": "code",
   "execution_count": null,
   "metadata": {},
   "outputs": [],
   "source": [
    "arguments = {}\n",
    "arguments['F2'] = {'target': kleiner_ge_2, 'proteins': proteins_selected_f2, 'add_markers': ['forns', 'p3np']} \n",
    "arguments['F3'] = {'target': kleiner_ge_3, 'proteins': proteins_selected_f3, 'add_markers': ['p3np']}\n",
    "arguments['I2'] = {'target': inflamation_ge_2, 'proteins': proteins_selected_I2, 'add_markers': ['m30', 'm65', 'alt', 'ast', 'm30m65_ratio']}\n",
    "arguments['S1'] = {'target': steatosis_ge_1, 'proteins': proteins_selected_s1, 'add_markers': []}"
   ]
  },
  {
   "cell_type": "code",
   "execution_count": null,
   "metadata": {},
   "outputs": [],
   "source": [
    "ADD_DEMOGRAPHICS = False\n",
    "FOLDER_FINAL_SCORES = 'final_model_scores'\n",
    "\n",
    "import importlib; importlib.reload(src.cross_validation)\n",
    "from src.cross_validation import run_cv_binary\n",
    "prediction_folder = os.path.join(TABLEFOLDER, FOLDER_FINAL_SCORES)\n",
    "\n",
    "\n",
    "from functools import partial\n",
    "run_cv_binary_final = partial(run_cv_binary, save_predictions=True, folder=prediction_folder)\n",
    "\n",
    "\n",
    "results_final = {}\n",
    "\n",
    "for endpoint, args in arguments.items():\n",
    "    results_final[endpoint] = cv_executor.run_evaluation(y=args['target'],\n",
    "                                                       endpoint=endpoint,\n",
    "                                                       additional_markers=args['add_markers'],\n",
    "                                                       proteins_selected=args['proteins'],\n",
    "                                                       evaluator_fct=run_cv_binary_final,\n",
    "                                                       add_demographics=ADD_DEMOGRAPHICS,\n",
    "                                                       interactions_degree=1,\n",
    "                                                       cv=train_test_split_final,\n",
    "                                                       verbose=False)"
   ]
  },
  {
   "cell_type": "code",
   "execution_count": null,
   "metadata": {},
   "outputs": [],
   "source": [
    "def display_result(endpoint):\n",
    "    return pd.DataFrame(results_final[endpoint][0]).applymap(lambda x: x[0]).T.sort_values('f1', ascending=False)\n",
    "\n",
    "\n",
    "# pd.DataFrame(results_final['F2'][0]).T.sort_values('f1', ascending=False)\n",
    "out3= widgets.interact(display_result, endpoint=results_final.keys())"
   ]
  },
  {
   "cell_type": "markdown",
   "metadata": {},
   "source": [
    "Save results"
   ]
  },
  {
   "cell_type": "code",
   "execution_count": null,
   "metadata": {},
   "outputs": [],
   "source": [
    "results_final_df = {endpoint: display_result(endpoint) for endpoint in results_final.keys()}\n",
    "\n",
    "RESULTS_FINAL_MODEL = os.path.join(TABLEFOLDER ,'final_model_results.xlsx')\n",
    "\n",
    "with pd.ExcelWriter(RESULTS_FINAL_MODEL) as writer:\n",
    "    for sheet_name, _df in results_final_df.items():\n",
    "        _df.to_excel(writer, sheet_name=sheet_name)"
   ]
  },
  {
   "cell_type": "markdown",
   "metadata": {},
   "source": [
    "#### DeLong-Test on final model\n",
    "\n",
    "First a check of the [implementation](https://github.com/yandexdataschool/roc_comparison) by using a toy example derived in detail in Rachel Draelos' [blog-post](https://glassboxmedicine.com/2020/02/04/comparing-aucs-of-machine-learning-models-with-delongs-test/), where she also references the original DeLong paper from 1988 and a paper on a fast implementation described by Xu Sun and Weichao Xu from 2014."
   ]
  },
  {
   "cell_type": "code",
   "execution_count": null,
   "metadata": {},
   "outputs": [],
   "source": [
    "import numpy as np\n",
    "from roc_comparison import compare_auc_delong_xu\n",
    "\n",
    "ground_trouth = np.array([0,0,1,1,1])\n",
    "pred_model_a  = np.array([0.1,0.2,0.6,0.7,0.8])\n",
    "pred_model_b  = np.array([0.3,0.6,0.2,0.7,0.9])\n",
    "\n",
    "log10_pvalue = compare_auc_delong_xu.delong_roc_test(ground_truth=ground_trouth,\n",
    "                                      predictions_one=pred_model_a,\n",
    "                                      predictions_two=pred_model_b\n",
    "                                 )\n",
    "assert np.round(10**log10_pvalue[0][0], 4) ==  0.3173 "
   ]
  },
  {
   "cell_type": "markdown",
   "metadata": {},
   "source": [
    "The implementation currently returns an array of an array with a single float. This could be change to an normal array or a plain floating point number:"
   ]
  },
  {
   "cell_type": "code",
   "execution_count": null,
   "metadata": {},
   "outputs": [],
   "source": [
    "log10_pvalue[0][0], log10_pvalue[0] # one of the two"
   ]
  },
  {
   "cell_type": "markdown",
   "metadata": {},
   "source": [
    "Get list of dumped results from models."
   ]
  },
  {
   "cell_type": "code",
   "execution_count": null,
   "metadata": {},
   "outputs": [],
   "source": [
    "folder_final_scores = os.path.join(TABLEFOLDER, FOLDER_FINAL_SCORES)\n",
    "l_scores = [_csv for _csv in os.listdir(folder_final_scores) if 'Logistic.csv' in _csv]\n",
    "l_scores"
   ]
  },
  {
   "cell_type": "markdown",
   "metadata": {},
   "source": [
    "Calculate the p-value based on the common subset of samples between models:"
   ]
  },
  {
   "cell_type": "code",
   "execution_count": null,
   "metadata": {},
   "outputs": [],
   "source": [
    "# #view defintion of imported function\n",
    "#calc_p_value_delong_xu??"
   ]
  },
  {
   "cell_type": "markdown",
   "metadata": {},
   "source": [
    "Compare all models between all endpoints and highlight the results"
   ]
  },
  {
   "cell_type": "code",
   "execution_count": null,
   "metadata": {},
   "outputs": [],
   "source": [
    "from src.delong import calc_p_value_delong_xu\n",
    "\n",
    "model_1 = l_scores[0]\n",
    "model_2 = l_scores[8]\n",
    "\n",
    "print(\n",
    "f\"Delong-Test p-value between scores of model {model_1.split('.',1)[0]} and {model_2.split('.')[0]}: \"\n",
    "f\"{calc_p_value_delong_xu(model_1=model_1, model_2=model_2, folder_dumps=folder_final_scores, verbose=True):.4f}\")"
   ]
  },
  {
   "cell_type": "code",
   "execution_count": null,
   "metadata": {},
   "outputs": [],
   "source": [
    "auc_comp_dict = {}\n",
    "\n",
    "def highlight_significant(val):\n",
    "    \"\"\"\n",
    "    Takes a scalar and returns a string with\n",
    "    the css property `'color: red'` for floats smaller\n",
    "    equal to 0.05\n",
    "    \"\"\"\n",
    "    color = 'red' if val <= 0.05 else 'black'\n",
    "    return 'color: %s' % color\n",
    "\n",
    "for endpoint in end_points:\n",
    "    # models = [x for x in l_scores if endpoint in x]\n",
    "    # model_names = [\" \".join(x.split('.csv')[0].split('_')) for x in models]\n",
    "    model_names = pd.DataFrame(results_final[endpoint][0]).applymap(lambda x: x[0]).T.sort_values('f1', ascending=False).index.to_list()\n",
    "    model_names = [model for model in model_names if 'Logistic' in model]\n",
    "    models = [f'{name}.csv' for name in model_names]\n",
    "    _df = pd.DataFrame(0, index=models, columns=models)\n",
    "    \n",
    "    for i, model_1 in enumerate(models):\n",
    "        for model_2 in models[i:]:\n",
    "            if model_1 == model_2:\n",
    "                _df.loc[model_1, model_2] = 1.0\n",
    "            else:\n",
    "                _auc_p_value = calc_p_value_delong_xu(model_1, model_2, folder_dumps=folder_final_scores)\n",
    "                _df.loc[model_1, model_2] = _auc_p_value\n",
    "                _df.loc[model_2, model_1] = _auc_p_value\n",
    "    model_names = [\" \".join(x.split('.csv')[0].split('_')) for x in model_names]\n",
    "    _df.columns = model_names\n",
    "    _df.index   = model_names\n",
    "    _df =  _df.style.applymap(highlight_significant)\n",
    "    display(_df)\n",
    "    auc_comp_dict[endpoint] = _df"
   ]
  },
  {
   "cell_type": "markdown",
   "metadata": {},
   "source": [
    "Save results for supplementary materials:"
   ]
  },
  {
   "cell_type": "code",
   "execution_count": null,
   "metadata": {},
   "outputs": [],
   "source": [
    "FILE_DELONG = Path(TABLEFOLDER) / 'compare_delong.xlsx'\n",
    "\n",
    "with pd.ExcelWriter(FILE_DELONG) as writer:\n",
    "    auc_comp_dict['F2'].to_excel(writer, sheet_name='F2')\n",
    "    auc_comp_dict['I2'].to_excel(writer, sheet_name='I2')\n",
    "    auc_comp_dict['S1'].to_excel(writer, sheet_name='S1')"
   ]
  },
  {
   "cell_type": "markdown",
   "metadata": {},
   "source": [
    "## Final Model evaluation\n",
    "\n",
    "The healthy patients in the study - have been selected based on age and gender range of the non-healthy patients. These have an `NaN` assigned on the three endpoints.\n",
    "Another group has been previously excluded from the analysis and can be used here as an pseudo external dataset \n",
    "\n",
    "> Note: Pseudo as for now all proteomics pre-processing is done on the entire dataset. Either the procedure is done individuelly for each subset of patients, \n",
    "or the mean and std deviation from the training dataset are used to sample random values for missing protein intensities on the test data. The standardisation of the \n",
    "proteins intensities after imputation should ideally also be based on the statistics from the training data (which is assumed to the \"global\" value\").\n",
    "\n",
    "Patiens with an assigned fibrosis score of `0.5` are known to be heavy drinkers without being diagnosed with a fibrosis."
   ]
  },
  {
   "cell_type": "code",
   "execution_count": null,
   "metadata": {},
   "outputs": [],
   "source": [
    "data_cli_full = pd.read_csv(f_data_clinic, index_col=COL_ID)\n",
    "# previous selection: data_cli[data_cli['kleiner']!=0.5] \n",
    "all_kleiner_score = data_cli_full.kleiner.value_counts(dropna=False)\n",
    "all_kleiner_score"
   ]
  },
  {
   "cell_type": "code",
   "execution_count": null,
   "metadata": {},
   "outputs": [],
   "source": [
    "#n_healty, n_at_risk = all_kleiner_score.loc[[np.nan, 0.5]]\n",
    "#One patient in the disease cohort had a 'NaN' kleiner score\n",
    "n_healthy = data_cli[data_cli['group']=='HP'].shape[0]\n",
    "n_at_risk = data_cli_full[data_cli_full['kleiner']==0.5].shape[0]\n",
    "print(f\"N Healthy (selected to match ill patients: {n_healthy}\")\n",
    "print(f\"N Unhealthy behaviour, but not sick: {n_at_risk}\")"
   ]
  },
  {
   "cell_type": "code",
   "execution_count": null,
   "metadata": {},
   "outputs": [],
   "source": [
    "# from src.pandas import combine_value_counts\n",
    "combine_value_counts(data_cli_full[TARGETS], dropna=False)"
   ]
  },
  {
   "cell_type": "code",
   "execution_count": null,
   "metadata": {},
   "outputs": [],
   "source": [
    "combine_value_counts(data_cli_full.loc[data_cli_full.kleiner == 0.5, TARGETS], dropna=False)"
   ]
  },
  {
   "cell_type": "code",
   "execution_count": null,
   "metadata": {},
   "outputs": [],
   "source": [
    "data_cli_full.loc[data_cli_full.kleiner == 0.5, TARGETS]"
   ]
  },
  {
   "cell_type": "markdown",
   "metadata": {},
   "source": [
    "#### Load final models"
   ]
  },
  {
   "cell_type": "code",
   "execution_count": null,
   "metadata": {},
   "outputs": [],
   "source": [
    "from joblib import load\n",
    "endpoints = ['F2', 'I2', 'S1']\n",
    "fname_final_model = '{}_prot_Logistic.joblib'\n",
    "final_prot_model = {}\n",
    "for endpoint in endpoints :\n",
    "    _fname = os.path.join('tables', FOLDER_FINAL_SCORES, fname_final_model.format(endpoint))\n",
    "    print(f\"Load model from : {_fname}\")\n",
    "    final_prot_model[endpoint] = load(_fname)\n",
    "    print(final_prot_model[endpoint].coef_)"
   ]
  },
  {
   "cell_type": "markdown",
   "metadata": {},
   "source": [
    "Protein by endpoint can be retrieved using the previously defined dictionary"
   ]
  },
  {
   "cell_type": "code",
   "execution_count": null,
   "metadata": {},
   "outputs": [],
   "source": [
    "arguments['S1']['proteins'].T"
   ]
  },
  {
   "cell_type": "code",
   "execution_count": null,
   "metadata": {},
   "outputs": [],
   "source": [
    "from src.final_model import FinalPredictor\n",
    "# FinalPredictor??"
   ]
  },
  {
   "cell_type": "code",
   "execution_count": null,
   "metadata": {},
   "outputs": [],
   "source": [
    "final_predictor = FinalPredictor(data_clinic=data_cli_full, \n",
    "                                 data_proteomics=data_proteomics, \n",
    "                                 final_models=final_prot_model, \n",
    "                                 features_dict=arguments, \n",
    "                                 endpoints=endpoints)"
   ]
  },
  {
   "cell_type": "markdown",
   "metadata": {},
   "source": [
    "### Feature Importance of final models\n",
    "\n",
    "- how important are the single proteins, assessed by the model weights."
   ]
  },
  {
   "cell_type": "code",
   "execution_count": null,
   "metadata": {},
   "outputs": [],
   "source": [
    "# protein panel. Some order?\n",
    "d_model_weights = {}\n",
    "d_model_intercepts = {}\n",
    "for _endpoint, _model in final_predictor.final_models.items():\n",
    "    d_model_weights[_endpoint] = dict(zip(final_predictor.features_dict[_endpoint]['proteins'].index.to_list(), _model.coef_[0]))\n",
    "    d_model_intercepts[_endpoint] = _model.intercept_[0]\n",
    "del _endpoint, _model\n",
    "\n",
    "model_weights = pd.DataFrame(d_model_weights)\n",
    "\n",
    "model_weights.index =  [f'{_index}_{_gene}' for _index, _gene \n",
    " in key_ProteinID.loc[model_weights.index].to_dict()['Gene names'].items()\n",
    "]\n",
    "\n",
    "model_weights = model_weights.append(pd.Series(d_model_intercepts, name='intercept'))\n",
    "del d_model_weights, d_model_intercepts\n",
    "model_weights.to_excel(Path(DATAFOLDER) / 'final_model_weights.xlsx') \n",
    "new_index = [i.split('_')[1] for i in model_weights.index[:-1]]\n",
    "new_index.append('intercept')\n",
    "model_weights.index=new_index\n",
    "model_weights=model_weights.sort_values(by='F2', ascending=False).iloc[::-1]\n",
    "model_weights_F2=model_weights[model_weights['F2'].notnull()][['F2']]\n",
    "model_weights_I2=model_weights[model_weights['I2'].notnull()][['I2']].sort_values(by='I2')\n",
    "model_weights_S1=model_weights[model_weights['S1'].notnull()][['S1']].sort_values(by='S1')\n",
    "model_weights"
   ]
  },
  {
   "cell_type": "code",
   "execution_count": null,
   "metadata": {},
   "outputs": [],
   "source": [
    "ax = model_weights.plot(kind='barh', figsize=(3,15), color=['darkblue', 'darkred', 'gray'])\n",
    "plt.xticks(fontsize=14);\n",
    "plt.yticks(fontsize=12);\n",
    "plt.xlabel('final model weights', fontsize=14);\n",
    "ax.figure.savefig(FIGURE_FOLDER / 'final_model_weights.png', dpi=120, pad_inches=0.1, bbox_inches='tight')"
   ]
  },
  {
   "cell_type": "markdown",
   "metadata": {},
   "source": [
    "### At risk population\n",
    "\n",
    "How many patients at risk have been predicted to have a certain disease stage?"
   ]
  },
  {
   "cell_type": "code",
   "execution_count": null,
   "metadata": {},
   "outputs": [],
   "source": [
    "at_risk_score = final_predictor.predict_score(indices=data_cli_full.kleiner[data_cli_full.kleiner == 0.5].index)\n",
    "at_risk_pred = final_predictor.predict(indices=data_cli_full.kleiner[data_cli_full.kleiner == 0.5].index)"
   ]
  },
  {
   "cell_type": "code",
   "execution_count": null,
   "metadata": {},
   "outputs": [],
   "source": [
    "# minimal check to catch big errors\n",
    "from numpy.testing import assert_array_almost_equal\n",
    "assert_array_almost_equal(x=at_risk_score.loc['Plate4_D9'].values,  \n",
    "                          y=[0.539575564, 0.659919782,0.931215122])"
   ]
  },
  {
   "cell_type": "code",
   "execution_count": null,
   "metadata": {},
   "outputs": [],
   "source": [
    "def highlight_surpassed_score(val):\n",
    "    \"\"\"\n",
    "    Takes a scalar and returns a string with\n",
    "    the css property `'color: red'` for floats smaller\n",
    "    equal to 0.05\n",
    "    \"\"\"\n",
    "    color = 'yellow' if val >= 0.5 else None\n",
    "    return f'background-color: {color}'"
   ]
  },
  {
   "cell_type": "code",
   "execution_count": null,
   "metadata": {},
   "outputs": [],
   "source": [
    "at_risk_score = at_risk_score.sort_values(by=list(at_risk_score.columns), ascending=False).style.applymap(highlight_surpassed_score)\n",
    "at_risk_pred = at_risk_pred.loc[at_risk_score.index]\n",
    "at_risk_pred.head()"
   ]
  },
  {
   "cell_type": "code",
   "execution_count": null,
   "metadata": {},
   "outputs": [],
   "source": [
    "def build_results_table(predictions:pd.DataFrame, dropna=True):\n",
    "    \"\"\"Convert a table of predicitons (for several columns) into a result table.\"\"\"\n",
    "    predictions_tab = combine_value_counts(predictions)\n",
    "    predictions_tab = predictions_tab.join(combine_value_counts(predictions, dropna=dropna) / len(predictions), rsuffix='_freq')\n",
    "    predictions_tab.loc['Total'] = predictions_tab.sum()\n",
    "    return predictions_tab.convert_dtypes()\n",
    "\n",
    "at_risk_results_tab  = build_results_table(at_risk_pred)\n",
    "at_risk_results_tab"
   ]
  },
  {
   "cell_type": "code",
   "execution_count": null,
   "metadata": {},
   "outputs": [],
   "source": [
    "# ToDo: move to src (replace index building in cross_validation._get_cv_means)\n",
    "def build_two_level_index(initial_columns, present_key='freq', added_key='prop'):\n",
    "    \"\"\"Build a custom multi-index object for data. The initial columns to build the \n",
    "    data object are passed along the key describing the intial data and added information by \n",
    "    a second key. Could be generalized to work with any number of keys.\"\"\"\n",
    "    column_map = []\n",
    "    for x in initial_columns:\n",
    "        column_map += [x, x + '_freq']\n",
    "\n",
    "    levels = [initial_columns, [present_key, added_key]]\n",
    "    multi_index = pd.MultiIndex.from_product(\n",
    "        levels, names=['variable', 'statistics'])\n",
    "    return column_map, multi_index\n",
    "\n",
    "column_map, multi_index = build_two_level_index(initial_columns=at_risk_pred.columns)\n",
    "at_risk_results_tab = at_risk_results_tab[column_map]\n",
    "at_risk_results_tab.columns = multi_index\n",
    "at_risk_results_tab"
   ]
  },
  {
   "cell_type": "markdown",
   "metadata": {
    "Collapsed": "false"
   },
   "source": [
    "### Healthy\n",
    "\n",
    "How many healthy patients would be predicted to have fibrosis by the final model?\n",
    "\n",
    "Here we check for formally \"healthy\" patients (they have not been diagnosed at the initial time of the data collection) and see who would be predicted to \n",
    "have a fibrosis score of 2 and above."
   ]
  },
  {
   "cell_type": "markdown",
   "metadata": {},
   "source": [
    "We will predict for patients without a fibriosis score. We load the **final** proteomics model from the previous step, lookup the blood plasma protein intensities for these patients on the selected proteins for the classification model, and finally predict their outcome."
   ]
  },
  {
   "cell_type": "code",
   "execution_count": null,
   "metadata": {},
   "outputs": [],
   "source": [
    "data_cli.fibrosis_class.value_counts(dropna=False)"
   ]
  },
  {
   "cell_type": "code",
   "execution_count": null,
   "metadata": {},
   "outputs": [],
   "source": [
    "data_cli[data_cli['group']=='HP'].shape"
   ]
  },
  {
   "cell_type": "code",
   "execution_count": null,
   "metadata": {},
   "outputs": [],
   "source": [
    "healthy_cohort_mask = data_cli[data_cli['group']=='HP']\n",
    "healthy_cohort_indices = healthy_cohort_mask.index\n",
    "healthy_pred = final_predictor.predict(indices=healthy_cohort_indices)\n",
    "healthy_risk_score = final_predictor.predict_score(indices=healthy_cohort_indices)\n",
    "healthy_risk_score = healthy_risk_score.sort_values(by=list(healthy_risk_score.columns), ascending=False).style.applymap(highlight_surpassed_score)\n",
    "healthy_pred = healthy_pred.loc[healthy_risk_score.index]"
   ]
  },
  {
   "cell_type": "code",
   "execution_count": null,
   "metadata": {},
   "outputs": [],
   "source": [
    "healthy_results_tab  = build_results_table(healthy_pred)\n",
    "column_map, multi_index = build_two_level_index(initial_columns=healthy_pred.columns)\n",
    "healthy_results_tab = healthy_results_tab[column_map]\n",
    "healthy_results_tab.columns = multi_index\n",
    "healthy_results_tab"
   ]
  },
  {
   "cell_type": "markdown",
   "metadata": {},
   "source": [
    "Of the healty cohort 8 patients are predicted to have a form of advanced fibrosis, which is a share of 5.8% of the patients in this cohort"
   ]
  },
  {
   "cell_type": "markdown",
   "metadata": {
    "Collapsed": "false"
   },
   "source": [
    "It is claimed that in the general population a percentage of x has an undiagnosed liver disease. Does our percentage match this?"
   ]
  },
  {
   "cell_type": "markdown",
   "metadata": {},
   "source": [
    "### Write results"
   ]
  },
  {
   "cell_type": "code",
   "execution_count": null,
   "metadata": {},
   "outputs": [],
   "source": [
    "excel_sheets = {'at_risk_results': at_risk_results_tab,\n",
    "                'at_risk_pred':at_risk_pred,\n",
    "                'at_risk_score': at_risk_score,\n",
    "                'healthy_results': healthy_results_tab, \n",
    "                'healthy_pred': healthy_pred,\n",
    "                'heatlhy_score': healthy_risk_score}\n",
    "FILE_FINAL_MODEL_EVALUATION = os.path.join(TABLEFOLDER ,'final_model_evaluation.xlsx')\n",
    "\n",
    "with pd.ExcelWriter(FILE_FINAL_MODEL_EVALUATION) as writer:\n",
    "    for sheet_name, _df in excel_sheets.items():\n",
    "        _df.to_excel(writer, sheet_name=sheet_name)"
   ]
  },
  {
   "cell_type": "markdown",
   "metadata": {},
   "source": [
    "### Extract predicted positive cases and concordance with other non-invasive markers\n",
    "- F2: swe , te. Cut-offs for ≥F2: 8.6kPa for swe and 7kPa for te\n",
    "- I2: no equivalent \n",
    "- S1: cap. Cut-offs for ≥S1: 290\n",
    "- Values above cut-offs are color-coded"
   ]
  },
  {
   "cell_type": "code",
   "execution_count": null,
   "metadata": {},
   "outputs": [],
   "source": [
    "try:\n",
    "    doubleID=pd.read_csv('data/raw/DoubleIDkey.csv', index_col=False)\n",
    "    display(doubleID)\n",
    "except:\n",
    "    doubleID=None"
   ]
  },
  {
   "cell_type": "markdown",
   "metadata": {},
   "source": [
    "### At risk population"
   ]
  },
  {
   "cell_type": "code",
   "execution_count": null,
   "metadata": {},
   "outputs": [],
   "source": [
    "at_risk_pred_pos_all = at_risk_pred[at_risk_pred.max(axis=1)==1]\n",
    "data_cli_atrisk = data_cli_full[data_cli_full['kleiner']==0.5]"
   ]
  },
  {
   "cell_type": "code",
   "execution_count": null,
   "metadata": {},
   "outputs": [],
   "source": [
    "at_risk_pos = at_risk_pred_pos_all.join(data_cli_atrisk[['swe', 'te', 'cap']], how='left')\n",
    "if not doubleID.empty:\n",
    "    at_risk_pos = at_risk_pos.join(doubleID.set_index('Sample ID'), how='left')\n",
    "m=at_risk_pos.style.apply(lambda x: ['background: yellow' if v>0 else \"\" for v in x],\n",
    "                        subset=['F2', 'I2', 'S1'], axis=1)\n",
    "m.apply(lambda x:['background: pink' if v>290 else\"\" for v in x],\n",
    "             subset=['cap'], axis=0)\n",
    "os.makedirs(os.path.join('tables', 'validation'), exist_ok=True)\n",
    "m.data.to_csv('tables/validation/predicted_scores_at_risk_postive.csv')\n",
    "m"
   ]
  },
  {
   "cell_type": "markdown",
   "metadata": {},
   "source": [
    "### Healthy population"
   ]
  },
  {
   "cell_type": "code",
   "execution_count": null,
   "metadata": {},
   "outputs": [],
   "source": [
    "healthy_pred_pos_all = healthy_pred[healthy_pred.max(axis=1)==1]"
   ]
  },
  {
   "cell_type": "code",
   "execution_count": null,
   "metadata": {},
   "outputs": [],
   "source": [
    "healthy_pos = healthy_pred_pos_all.join(data_cli[['swe', 'te', 'cap']], how='left')\n",
    "if not doubleID.empty:\n",
    "    healthy_pos = healthy_pos.join(doubleID.set_index('Sample ID'), how='left')\n",
    "l=healthy_pos.style.apply(lambda x: ['background: yellow' if v>0 else \"\" for v in x],\n",
    "                        subset=['F2', 'I2', 'S1'], axis=1)\n",
    "l.apply(lambda x:['background: pink' if v>290 else\"\" for v in x],\n",
    "             subset=['cap'], axis=0)\n",
    "l.data.to_csv('tables/validation/predicted_scores_healthy_postive.csv')\n",
    "l"
   ]
  },
  {
   "cell_type": "markdown",
   "metadata": {},
   "source": [
    "### Plot predicted score distribution from the final model in three populations\n",
    "- healthy population (N=136).\n",
    "- at risk population (N=98). Heavy alcohol drinkers but benigh liver\n",
    "- high risk population (N=72). Healvy alcohol drinkers with various forms of liver injuries "
   ]
  },
  {
   "cell_type": "code",
   "execution_count": null,
   "metadata": {},
   "outputs": [],
   "source": [
    "final_model_test_score = final_predictor.predict_score(indices=train_test_split_final[0][1])\n",
    "final_model_test_score = final_model_test_score.sort_values(by=list(final_model_test_score.columns), ascending=False)"
   ]
  },
  {
   "cell_type": "code",
   "execution_count": null,
   "metadata": {},
   "outputs": [],
   "source": [
    "model_naming = {'F2':'Fibrosis F2-F4', 'I2':'NAS Inflamation $\\geq 2$', 'S1':'NAS Steatosis $\\geq 5$%'}\n",
    "def plot_score_distribution(ax, endpoint):\n",
    "    ax = sns.kdeplot(data=healthy_risk_score.data[endpoint], label='healthy', color='steelblue', shade=True, ax=ax, cut=0)\n",
    "    ax = sns.kdeplot(data=at_risk_score.data[endpoint], label='at risk', color='darkorange', shade=True, ax=ax, cut=0)\n",
    "    ax = sns.kdeplot(data=final_model_test_score[endpoint], label='high risk', color='red', shade=True, ax=ax, cut=0)\n",
    "    ax.set_xlabel('Risk score predicted by\\n proteomic model')\n",
    "    ax.set_xlim(-0.0, 1.0)\n",
    "    ax.set_title(model_naming[endpoint])\n",
    "    return ax"
   ]
  },
  {
   "cell_type": "code",
   "execution_count": null,
   "metadata": {},
   "outputs": [],
   "source": [
    "fig, axes = plt.subplots(ncols=3,figsize=(12,4))\n",
    "for i, endpoint in enumerate(['F2', 'I2', 'S1']):\n",
    "    plot_score_distribution(axes[i], endpoint)\n",
    "fig.savefig(FIGURE_FOLDER / 'Score_kde_all', dpi=120, bbox_inches='tight')"
   ]
  },
  {
   "cell_type": "code",
   "execution_count": null,
   "metadata": {},
   "outputs": [],
   "source": [
    "for endpoint in ['F2', 'I2', 'S1']:\n",
    "    fig, ax = plt.subplots(figsize=(4,4))\n",
    "    plot_score_distribution(ax, endpoint)\n",
    "    fig.savefig(FIGURE_FOLDER / 'Score_kde_{}'.format(endpoint), dpi=120, bbox_inches='tight')"
   ]
  },
  {
   "cell_type": "code",
   "execution_count": null,
   "metadata": {},
   "outputs": [],
   "source": [
    "def plot_score_hist(ax, data, label, color, bins=10, kde=False, rug=True):\n",
    "    ax = sns.distplot(data, ax=ax, label=label, color=color, bins=bins, kde=kde, rug=rug)\n",
    "    ax.set_xlabel('Risk score predicted by\\n proteomic model')\n",
    "    ax.set_xlim(-0.0, 1.0)\n",
    "    ax.set_title(label)\n",
    "    return \n",
    "\n",
    "for endpoint in ['F2', 'I2', 'S1']:\n",
    "    fig, axes = plt.subplots(nrows=1, ncols=3, figsize=(12,4))\n",
    "    plot_score_hist(ax=axes[0], data=healthy_risk_score.data[endpoint], bins=10, label='healthy',   color='steelblue', kde=False, rug=True)\n",
    "    plot_score_hist(ax=axes[1], data=at_risk_score.data[endpoint],      bins=10, label='at risk',   color='darkorange',kde=False, rug=True)\n",
    "    plot_score_hist(ax=axes[2], data=final_model_test_score[endpoint],  bins=10, label='high risk', color='red',       kde=False, rug=True)\n",
    "    fig.suptitle(model_naming[endpoint])\n",
    "    fig.savefig(FIGURE_FOLDER / 'Score_hist_{}'.format(endpoint), dpi=120, bbox_inches='tight')"
   ]
  },
  {
   "cell_type": "markdown",
   "metadata": {},
   "source": [
    "The rugs (small vertical lines at the botoom of the figure) indicate a single prediction. The scores are devided in 10 bins which means that each bin is decimal range (0.0 to 0.1, 0.1 to 0.2 and so forth)."
   ]
  },
  {
   "cell_type": "code",
   "execution_count": null,
   "metadata": {},
   "outputs": [],
   "source": [
    "fig, axes = plt.subplots(nrows=3, ncols=3, figsize=(12,12))\n",
    "for i, endpoint in enumerate(['F2', 'I2', 'S1']):\n",
    "    sns.distplot(healthy_risk_score.data[endpoint], ax=axes[i, 0], bins=10, label='healthy',   axlabel=False, color='steelblue', kde=False, rug=True)\n",
    "    sns.distplot(at_risk_score.data[endpoint],      ax=axes[i, 1], bins=10, label='at risk',   axlabel=False, color='darkorange',kde=False, rug=True)\n",
    "    sns.distplot(final_model_test_score[endpoint],  ax=axes[i, 2], bins=10, label='high risk', axlabel=False, color='red',       kde=False, rug=True)\n",
    "\n",
    "pad = 5 # in point\n",
    "for i, (_title, _endpoint) in enumerate(zip(['healthy', 'at risk', 'high risk'], ['F2', 'I2', 'S1'])):\n",
    "    axes[-1, i].set_xlabel('Risk score predicted by\\n proteomic model')\n",
    "    axes[0, i].set_title(_title)\n",
    "    _ax = axes[i, 0]\n",
    "    _ax.set_ylabel('frequency')\n",
    "    _ax.annotate(_endpoint, xy=(0, 0.5), \n",
    "                 xytext=(-_ax.yaxis.labelpad - pad, 0),\n",
    "                xycoords=_ax.yaxis.label, textcoords='offset points',\n",
    "                size='large', ha='right', va='center')\n",
    "        \n",
    "_ = fig.suptitle('Histograms by endpoint', y=.93, fontsize=16 )\n",
    "fig.savefig(FIGURE_FOLDER / 'Score_hist_all', dpi=120, bbox_inches='tight')"
   ]
  },
  {
   "cell_type": "markdown",
   "metadata": {
    "Collapsed": "false"
   },
   "source": [
    "# Python Package Versions"
   ]
  },
  {
   "cell_type": "code",
   "execution_count": null,
   "metadata": {
    "Collapsed": "false"
   },
   "outputs": [],
   "source": [
    "!pip list | grep pandas"
   ]
  },
  {
   "cell_type": "code",
   "execution_count": null,
   "metadata": {
    "Collapsed": "false"
   },
   "outputs": [],
   "source": [
    "!pip list | grep scikit"
   ]
  },
  {
   "cell_type": "markdown",
   "metadata": {},
   "source": [
    "Find the packages in the `requirements.txt` or `environment.yml`"
   ]
  },
  {
   "cell_type": "code",
   "execution_count": null,
   "metadata": {},
   "outputs": [],
   "source": [
    "# %load environment.yml"
   ]
  },
  {
   "cell_type": "code",
   "execution_count": null,
   "metadata": {},
   "outputs": [],
   "source": []
  },
  {
   "cell_type": "code",
   "execution_count": null,
   "metadata": {},
   "outputs": [],
   "source": []
  },
  {
   "cell_type": "code",
   "execution_count": null,
   "metadata": {},
   "outputs": [],
   "source": []
  }
 ],
 "metadata": {
  "kernelspec": {
   "display_name": "Python 3",
   "language": "python",
   "name": "python3"
  },
  "language_info": {
   "codemirror_mode": {
    "name": "ipython",
    "version": 3
   },
   "file_extension": ".py",
   "mimetype": "text/x-python",
   "name": "python",
   "nbconvert_exporter": "python",
   "pygments_lexer": "ipython3",
   "version": "3.7.10"
  },
  "toc": {
   "base_numbering": 1,
   "nav_menu": {},
   "number_sections": true,
   "sideBar": true,
   "skip_h1_title": false,
   "title_cell": "Table of Contents",
   "title_sidebar": "Contents",
   "toc_cell": false,
   "toc_position": {},
   "toc_section_display": true,
   "toc_window_display": true
  },
  "toc-autonumbering": true,
  "toc-showcode": false,
  "toc-showmarkdowntxt": false,
  "toc-showtags": true
 },
 "nbformat": 4,
 "nbformat_minor": 4
}
