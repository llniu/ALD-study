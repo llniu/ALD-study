{
 "cells": [
  {
   "cell_type": "markdown",
   "metadata": {
    "Collapsed": "false"
   },
   "source": [
    "# Fatty Liver Disease (FLD) Study\n",
    "\n",
    "- alcoholic vs non-alcoholic FLD, short: AFLD vs NAFLD\n",
    "\n",
    "\n",
    "**Outline**\n",
    "\n",
    "1. Study on liver disease types:\n",
    "    1. Fibrosis\n",
    "    1. Steatosis\n",
    "    2. Inflammation\n",
    "    \n",
    "2. Two data sets with \n",
    "    1. clinical markers\n",
    "    2. proteome information"
   ]
  },
  {
   "cell_type": "code",
   "execution_count": 1,
   "metadata": {
    "Collapsed": "false"
   },
   "outputs": [],
   "source": [
    "import pandas as pd\n",
    "import numpy as np\n",
    "import matplotlib.pyplot as plt\n",
    "import seaborn as sns\n",
    "\n",
    "import sklearn\n",
    "import sklearn.linear_model as skllm\n",
    "import sklearn.ensemble as skle\n",
    "\n",
    "import sklearn.metrics as sklm\n",
    "import sklearn.model_selection as sklms\n",
    "from sklearn.model_selection import cross_val_predict\n",
    "\n",
    "import xgboost\n",
    "import ipywidgets as widgets"
   ]
  },
  {
   "cell_type": "code",
   "execution_count": 2,
   "metadata": {
    "Collapsed": "false"
   },
   "outputs": [],
   "source": [
    "import src.utils as utils"
   ]
  },
  {
   "cell_type": "code",
   "execution_count": 3,
   "metadata": {
    "Collapsed": "false"
   },
   "outputs": [],
   "source": [
    "import os\n",
    "CPUS = os.cpu_count()\n",
    "RANDOMSTATE = 29\n",
    "DATAFOLDER = 'processed/ML'"
   ]
  },
  {
   "cell_type": "markdown",
   "metadata": {
    "Collapsed": "false"
   },
   "source": [
    "# Explore datasets\n",
    "\n",
    "Diagnostic comparators (existing best-in-class) biomarkers\n",
    "- Fibrosis markers: transient elastography, 2-dimensional shear wave elastography, ELF test, FibroTest, FIB4 score, APRI score, Forns score, ProC3\n",
    "- Inflammation markers: M30=caspase-cleaved cytokeratin-18 fragments, M65=total CK18, AST:ALT ratio, ProC3\n",
    "- Steatosis: Controlled attenuation parameter"
   ]
  },
  {
   "cell_type": "code",
   "execution_count": 4,
   "metadata": {
    "Collapsed": "false"
   },
   "outputs": [
    {
     "data": {
      "application/vnd.jupyter.widget-view+json": {
       "model_id": "a36cdda8ee884cf0af9c24ef3f7fc214",
       "version_major": 2,
       "version_minor": 0
      },
      "text/plain": [
       "VBox(children=(Dropdown(index=5, options=('data_cli_16.csv', 'data_cli_46.csv', 'data_cli_96_ml.csv', 'data_ml…"
      ]
     },
     "metadata": {},
     "output_type": "display_data"
    }
   ],
   "source": [
    "pd.set_option('max_columns', 9)\n",
    "\n",
    "files = [file for file in os.listdir(DATAFOLDER) if '.csv' in file]\n",
    "w_data = widgets.Dropdown(options=files, index=5)\n",
    "\n",
    "def show_data(file):\n",
    "    filename = os.path.join(DATAFOLDER, file)\n",
    "    global data # only here to show-case data for report\n",
    "    try:\n",
    "        data = pd.read_csv(filename, index_col='Sample ID')\n",
    "    except:\n",
    "        data = pd.read_csv(filename)\n",
    "    display(data.head())\n",
    "out = widgets.interactive_output(show_data, controls={'file':w_data})\n",
    "\n",
    "widgets.VBox([w_data, out])"
   ]
  },
  {
   "cell_type": "code",
   "execution_count": 5,
   "metadata": {
    "Collapsed": "false"
   },
   "outputs": [],
   "source": [
    "# # Possible Alternative for DropDown \n",
    "# from src.widgets import multi_checkbox_widget\n",
    "\n",
    "# descriptions=data.columns\n",
    "# w_cols = multi_checkbox_widget(descriptions)\n",
    "# w_cols"
   ]
  },
  {
   "cell_type": "code",
   "execution_count": 6,
   "metadata": {
    "Collapsed": "false"
   },
   "outputs": [
    {
     "data": {
      "application/vnd.jupyter.widget-view+json": {
       "model_id": "b0a18b4f29044581b07590c158184c14",
       "version_major": 2,
       "version_minor": 0
      },
      "text/plain": [
       "VBox(children=(SelectMultiple(options=('P02768', 'A0A0G2JMB2', 'P01834', 'P02787', 'A0A286YEY1', 'A0A0A0MS08',…"
      ]
     },
     "metadata": {},
     "output_type": "display_data"
    }
   ],
   "source": [
    "w_cols = widgets.SelectMultiple(options=list(data.columns))\n",
    "\n",
    "def show_selected_proteins(columns):\n",
    "    if len(columns)> 0:\n",
    "        display(data[list(w_cols.value)])\n",
    "        print(data[list(w_cols.value)].describe())\n",
    "    else:\n",
    "        print('Select proteins')\n",
    "\n",
    "out_sel = widgets.interactive_output(show_selected_proteins, {'columns': w_cols})\n",
    "widgets.VBox([w_cols, out_sel])"
   ]
  },
  {
   "cell_type": "markdown",
   "metadata": {
    "Collapsed": "false"
   },
   "source": [
    "## Proteomics data"
   ]
  },
  {
   "cell_type": "markdown",
   "metadata": {
    "Collapsed": "false"
   },
   "source": [
    "### Load Complete proteomics data\n",
    "\n",
    "Full preprocessing pipeline"
   ]
  },
  {
   "cell_type": "code",
   "execution_count": 7,
   "metadata": {
    "Collapsed": "false"
   },
   "outputs": [
    {
     "data": {
      "text/html": [
       "<div>\n",
       "<style scoped>\n",
       "    .dataframe tbody tr th:only-of-type {\n",
       "        vertical-align: middle;\n",
       "    }\n",
       "\n",
       "    .dataframe tbody tr th {\n",
       "        vertical-align: top;\n",
       "    }\n",
       "\n",
       "    .dataframe thead th {\n",
       "        text-align: right;\n",
       "    }\n",
       "</style>\n",
       "<table border=\"1\" class=\"dataframe\">\n",
       "  <thead>\n",
       "    <tr style=\"text-align: right;\">\n",
       "      <th></th>\n",
       "      <th>File name</th>\n",
       "      <th>Sample ID</th>\n",
       "      <th>Groups</th>\n",
       "      <th>Species</th>\n",
       "      <th>Group2</th>\n",
       "      <th>Sample type</th>\n",
       "    </tr>\n",
       "  </thead>\n",
       "  <tbody>\n",
       "    <tr>\n",
       "      <th>0</th>\n",
       "      <td>[1] 20190514_QE10_Evosep1_P0000005_LiNi_SA_Pla...</td>\n",
       "      <td>Plate1_A1</td>\n",
       "      <td>QC</td>\n",
       "      <td>Human</td>\n",
       "      <td>QC</td>\n",
       "      <td>Plasma</td>\n",
       "    </tr>\n",
       "    <tr>\n",
       "      <th>1</th>\n",
       "      <td>[2] 20190514_QE10_Evosep1_P0000005_LiNi_SA_Pla...</td>\n",
       "      <td>Plate1_A2</td>\n",
       "      <td>HP</td>\n",
       "      <td>Human</td>\n",
       "      <td>HP</td>\n",
       "      <td>Plasma</td>\n",
       "    </tr>\n",
       "    <tr>\n",
       "      <th>2</th>\n",
       "      <td>[3] 20190514_QE10_Evosep1_P0000005_LiNi_SA_Pla...</td>\n",
       "      <td>Plate1_A3</td>\n",
       "      <td>HP</td>\n",
       "      <td>Human</td>\n",
       "      <td>HP</td>\n",
       "      <td>Plasma</td>\n",
       "    </tr>\n",
       "    <tr>\n",
       "      <th>3</th>\n",
       "      <td>[4] 20190514_QE10_Evosep1_P0000005_LiNi_SA_Pla...</td>\n",
       "      <td>Plate1_A4</td>\n",
       "      <td>ALD</td>\n",
       "      <td>Human</td>\n",
       "      <td>ALD</td>\n",
       "      <td>Plasma</td>\n",
       "    </tr>\n",
       "    <tr>\n",
       "      <th>4</th>\n",
       "      <td>[5] 20190514_QE10_Evosep1_P0000005_LiNi_SA_Pla...</td>\n",
       "      <td>Plate1_A5</td>\n",
       "      <td>ALD</td>\n",
       "      <td>Human</td>\n",
       "      <td>ALD</td>\n",
       "      <td>Plasma</td>\n",
       "    </tr>\n",
       "  </tbody>\n",
       "</table>\n",
       "</div>"
      ],
      "text/plain": [
       "                                           File name  Sample ID Groups  \\\n",
       "0  [1] 20190514_QE10_Evosep1_P0000005_LiNi_SA_Pla...  Plate1_A1     QC   \n",
       "1  [2] 20190514_QE10_Evosep1_P0000005_LiNi_SA_Pla...  Plate1_A2     HP   \n",
       "2  [3] 20190514_QE10_Evosep1_P0000005_LiNi_SA_Pla...  Plate1_A3     HP   \n",
       "3  [4] 20190514_QE10_Evosep1_P0000005_LiNi_SA_Pla...  Plate1_A4    ALD   \n",
       "4  [5] 20190514_QE10_Evosep1_P0000005_LiNi_SA_Pla...  Plate1_A5    ALD   \n",
       "\n",
       "  Species Group2 Sample type  \n",
       "0   Human     QC      Plasma  \n",
       "1   Human     HP      Plasma  \n",
       "2   Human     HP      Plasma  \n",
       "3   Human    ALD      Plasma  \n",
       "4   Human    ALD      Plasma  "
      ]
     },
     "metadata": {},
     "output_type": "display_data"
    },
    {
     "data": {
      "text/html": [
       "<div>\n",
       "<style scoped>\n",
       "    .dataframe tbody tr th:only-of-type {\n",
       "        vertical-align: middle;\n",
       "    }\n",
       "\n",
       "    .dataframe tbody tr th {\n",
       "        vertical-align: top;\n",
       "    }\n",
       "\n",
       "    .dataframe thead th {\n",
       "        text-align: right;\n",
       "    }\n",
       "</style>\n",
       "<table border=\"1\" class=\"dataframe\">\n",
       "  <thead>\n",
       "    <tr style=\"text-align: right;\">\n",
       "      <th></th>\n",
       "      <th>File name</th>\n",
       "      <th>Sample ID</th>\n",
       "      <th>Groups</th>\n",
       "      <th>Species</th>\n",
       "      <th>Group2</th>\n",
       "      <th>Sample type</th>\n",
       "    </tr>\n",
       "  </thead>\n",
       "  <tbody>\n",
       "    <tr>\n",
       "      <th>count</th>\n",
       "      <td>603</td>\n",
       "      <td>603</td>\n",
       "      <td>603</td>\n",
       "      <td>603</td>\n",
       "      <td>603</td>\n",
       "      <td>603</td>\n",
       "    </tr>\n",
       "    <tr>\n",
       "      <th>unique</th>\n",
       "      <td>603</td>\n",
       "      <td>603</td>\n",
       "      <td>4</td>\n",
       "      <td>1</td>\n",
       "      <td>3</td>\n",
       "      <td>1</td>\n",
       "    </tr>\n",
       "    <tr>\n",
       "      <th>top</th>\n",
       "      <td>[150] 20190517_QE10_Evosep1_P0000005_LiNi_SA_P...</td>\n",
       "      <td>Plate2_A6</td>\n",
       "      <td>ALD</td>\n",
       "      <td>Human</td>\n",
       "      <td>ALD</td>\n",
       "      <td>Plasma</td>\n",
       "    </tr>\n",
       "    <tr>\n",
       "      <th>freq</th>\n",
       "      <td>1</td>\n",
       "      <td>1</td>\n",
       "      <td>355</td>\n",
       "      <td>603</td>\n",
       "      <td>459</td>\n",
       "      <td>603</td>\n",
       "    </tr>\n",
       "  </tbody>\n",
       "</table>\n",
       "</div>"
      ],
      "text/plain": [
       "                                                File name  Sample ID Groups  \\\n",
       "count                                                 603        603    603   \n",
       "unique                                                603        603      4   \n",
       "top     [150] 20190517_QE10_Evosep1_P0000005_LiNi_SA_P...  Plate2_A6    ALD   \n",
       "freq                                                    1          1    355   \n",
       "\n",
       "       Species Group2 Sample type  \n",
       "count      603    603         603  \n",
       "unique       1      3           1  \n",
       "top      Human    ALD      Plasma  \n",
       "freq       603    459         603  "
      ]
     },
     "execution_count": 7,
     "metadata": {},
     "output_type": "execute_result"
    }
   ],
   "source": [
    "FOLDER_DATA_RAW = 'data/raw'\n",
    "annotation_file = pd.read_csv(os.path.join(FOLDER_DATA_RAW, 'Experiment annotation file.csv'), index_col = [0])\n",
    "annotation_file_plasma = annotation_file[annotation_file['Sample type'] == 'Plasma']\n",
    "annotation_file_plasma.index = pd.Index(annotation_file_plasma.index, dtype=int)\n",
    "display(annotation_file_plasma.head())\n",
    "annotation_file_plasma.describe()"
   ]
  },
  {
   "cell_type": "code",
   "execution_count": 8,
   "metadata": {
    "Collapsed": "false"
   },
   "outputs": [
    {
     "data": {
      "text/plain": [
       "0       Plate1_A1\n",
       "1       Plate1_A2\n",
       "2       Plate1_A3\n",
       "3       Plate1_A4\n",
       "4       Plate1_A5\n",
       "          ...    \n",
       "598    Plate7_C10\n",
       "599    Plate7_C11\n",
       "600    Plate7_C12\n",
       "601     Plate7_D1\n",
       "602     Plate7_D2\n",
       "Name: Sample ID, Length: 603, dtype: object"
      ]
     },
     "execution_count": 8,
     "metadata": {},
     "output_type": "execute_result"
    }
   ],
   "source": [
    "annotation_file_plasma[\"Sample ID\"]"
   ]
  },
  {
   "cell_type": "code",
   "execution_count": 9,
   "metadata": {
    "Collapsed": "false"
   },
   "outputs": [],
   "source": [
    "report_plasma = pd.read_csv(os.path.join(FOLDER_DATA_RAW, '20190620_210717_20190620_P0000005_Lili2Klibrary_Report.csv'), na_values='Filtered' )\n",
    "report_plasma.rename({'PG.Genes': 'Gene names', 'PG.ProteinAccessions': 'Protein ID'}, inplace= True, axis=1)\n",
    "report_plasma.head()\n",
    "columns_ = ['Protein ID', 'Gene names']\n",
    "ids_ = report_plasma[columns_].apply(lambda series_: series_.str.split(';'))"
   ]
  },
  {
   "cell_type": "code",
   "execution_count": 10,
   "metadata": {
    "Collapsed": "false"
   },
   "outputs": [
    {
     "data": {
      "text/html": [
       "<div>\n",
       "<style scoped>\n",
       "    .dataframe tbody tr th:only-of-type {\n",
       "        vertical-align: middle;\n",
       "    }\n",
       "\n",
       "    .dataframe tbody tr th {\n",
       "        vertical-align: top;\n",
       "    }\n",
       "\n",
       "    .dataframe thead th {\n",
       "        text-align: right;\n",
       "    }\n",
       "</style>\n",
       "<table border=\"1\" class=\"dataframe\">\n",
       "  <thead>\n",
       "    <tr style=\"text-align: right;\">\n",
       "      <th></th>\n",
       "      <th>Protein ID</th>\n",
       "      <th>Gene names</th>\n",
       "    </tr>\n",
       "  </thead>\n",
       "  <tbody>\n",
       "    <tr>\n",
       "      <th>0</th>\n",
       "      <td>[A0A024R6I7]</td>\n",
       "      <td>[SERPINA1]</td>\n",
       "    </tr>\n",
       "    <tr>\n",
       "      <th>1</th>\n",
       "      <td>[A0A075B6I0]</td>\n",
       "      <td>[IGLV8-61]</td>\n",
       "    </tr>\n",
       "    <tr>\n",
       "      <th>2</th>\n",
       "      <td>[A0A075B6J9]</td>\n",
       "      <td>[IGLV2-18]</td>\n",
       "    </tr>\n",
       "    <tr>\n",
       "      <th>3</th>\n",
       "      <td>[A0A075B6R9, A0A0C4DH68]</td>\n",
       "      <td>[IGKV2D-24, IGKV2-24]</td>\n",
       "    </tr>\n",
       "    <tr>\n",
       "      <th>4</th>\n",
       "      <td>[A0A075B6S2, A2NJV5]</td>\n",
       "      <td>[IGKV2D-29, IGKV2-29]</td>\n",
       "    </tr>\n",
       "    <tr>\n",
       "      <th>...</th>\n",
       "      <td>...</td>\n",
       "      <td>...</td>\n",
       "    </tr>\n",
       "    <tr>\n",
       "      <th>519</th>\n",
       "      <td>[Q9Y5Y7]</td>\n",
       "      <td>[LYVE1]</td>\n",
       "    </tr>\n",
       "    <tr>\n",
       "      <th>520</th>\n",
       "      <td>[Q9Y646]</td>\n",
       "      <td>[CPQ]</td>\n",
       "    </tr>\n",
       "    <tr>\n",
       "      <th>521</th>\n",
       "      <td>[Q9Y6R7]</td>\n",
       "      <td>[FCGBP]</td>\n",
       "    </tr>\n",
       "    <tr>\n",
       "      <th>522</th>\n",
       "      <td>[Q9Y6Z7]</td>\n",
       "      <td>[COLEC10]</td>\n",
       "    </tr>\n",
       "    <tr>\n",
       "      <th>523</th>\n",
       "      <td>[V9GYM3]</td>\n",
       "      <td>[APOA2]</td>\n",
       "    </tr>\n",
       "  </tbody>\n",
       "</table>\n",
       "<p>524 rows × 2 columns</p>\n",
       "</div>"
      ],
      "text/plain": [
       "                   Protein ID             Gene names\n",
       "0                [A0A024R6I7]             [SERPINA1]\n",
       "1                [A0A075B6I0]             [IGLV8-61]\n",
       "2                [A0A075B6J9]             [IGLV2-18]\n",
       "3    [A0A075B6R9, A0A0C4DH68]  [IGKV2D-24, IGKV2-24]\n",
       "4        [A0A075B6S2, A2NJV5]  [IGKV2D-29, IGKV2-29]\n",
       "..                        ...                    ...\n",
       "519                  [Q9Y5Y7]                [LYVE1]\n",
       "520                  [Q9Y646]                  [CPQ]\n",
       "521                  [Q9Y6R7]                [FCGBP]\n",
       "522                  [Q9Y6Z7]              [COLEC10]\n",
       "523                  [V9GYM3]                [APOA2]\n",
       "\n",
       "[524 rows x 2 columns]"
      ]
     },
     "execution_count": 10,
     "metadata": {},
     "output_type": "execute_result"
    }
   ],
   "source": [
    "ids_ # ToDo:  create mapping object (see if proteins are unique -> get function from other project)"
   ]
  },
  {
   "cell_type": "code",
   "execution_count": 11,
   "metadata": {
    "Collapsed": "false"
   },
   "outputs": [
    {
     "data": {
      "text/html": [
       "<div>\n",
       "<style scoped>\n",
       "    .dataframe tbody tr th:only-of-type {\n",
       "        vertical-align: middle;\n",
       "    }\n",
       "\n",
       "    .dataframe tbody tr th {\n",
       "        vertical-align: top;\n",
       "    }\n",
       "\n",
       "    .dataframe thead th {\n",
       "        text-align: right;\n",
       "    }\n",
       "</style>\n",
       "<table border=\"1\" class=\"dataframe\">\n",
       "  <thead>\n",
       "    <tr style=\"text-align: right;\">\n",
       "      <th></th>\n",
       "      <th>Protein ID</th>\n",
       "      <th>Gene names</th>\n",
       "    </tr>\n",
       "  </thead>\n",
       "  <tbody>\n",
       "    <tr>\n",
       "      <th>0</th>\n",
       "      <td>NaN</td>\n",
       "      <td>2.0</td>\n",
       "    </tr>\n",
       "    <tr>\n",
       "      <th>1</th>\n",
       "      <td>318.0</td>\n",
       "      <td>499.0</td>\n",
       "    </tr>\n",
       "    <tr>\n",
       "      <th>2</th>\n",
       "      <td>121.0</td>\n",
       "      <td>11.0</td>\n",
       "    </tr>\n",
       "    <tr>\n",
       "      <th>3</th>\n",
       "      <td>44.0</td>\n",
       "      <td>3.0</td>\n",
       "    </tr>\n",
       "    <tr>\n",
       "      <th>4</th>\n",
       "      <td>20.0</td>\n",
       "      <td>2.0</td>\n",
       "    </tr>\n",
       "    <tr>\n",
       "      <th>5</th>\n",
       "      <td>7.0</td>\n",
       "      <td>3.0</td>\n",
       "    </tr>\n",
       "    <tr>\n",
       "      <th>6</th>\n",
       "      <td>6.0</td>\n",
       "      <td>1.0</td>\n",
       "    </tr>\n",
       "    <tr>\n",
       "      <th>7</th>\n",
       "      <td>1.0</td>\n",
       "      <td>NaN</td>\n",
       "    </tr>\n",
       "    <tr>\n",
       "      <th>8</th>\n",
       "      <td>1.0</td>\n",
       "      <td>NaN</td>\n",
       "    </tr>\n",
       "    <tr>\n",
       "      <th>10</th>\n",
       "      <td>1.0</td>\n",
       "      <td>NaN</td>\n",
       "    </tr>\n",
       "    <tr>\n",
       "      <th>11</th>\n",
       "      <td>1.0</td>\n",
       "      <td>NaN</td>\n",
       "    </tr>\n",
       "    <tr>\n",
       "      <th>12</th>\n",
       "      <td>1.0</td>\n",
       "      <td>1.0</td>\n",
       "    </tr>\n",
       "    <tr>\n",
       "      <th>14</th>\n",
       "      <td>1.0</td>\n",
       "      <td>1.0</td>\n",
       "    </tr>\n",
       "    <tr>\n",
       "      <th>16</th>\n",
       "      <td>1.0</td>\n",
       "      <td>NaN</td>\n",
       "    </tr>\n",
       "    <tr>\n",
       "      <th>17</th>\n",
       "      <td>1.0</td>\n",
       "      <td>1.0</td>\n",
       "    </tr>\n",
       "  </tbody>\n",
       "</table>\n",
       "</div>"
      ],
      "text/plain": [
       "    Protein ID  Gene names\n",
       "0          NaN         2.0\n",
       "1        318.0       499.0\n",
       "2        121.0        11.0\n",
       "3         44.0         3.0\n",
       "4         20.0         2.0\n",
       "5          7.0         3.0\n",
       "6          6.0         1.0\n",
       "7          1.0         NaN\n",
       "8          1.0         NaN\n",
       "10         1.0         NaN\n",
       "11         1.0         NaN\n",
       "12         1.0         1.0\n",
       "14         1.0         1.0\n",
       "16         1.0         NaN\n",
       "17         1.0         1.0"
      ]
     },
     "execution_count": 11,
     "metadata": {},
     "output_type": "execute_result"
    }
   ],
   "source": [
    "def length_(x):\n",
    "    try:\n",
    "        return len(x)\n",
    "    except:\n",
    "        return 0\n",
    "    \n",
    "count_groups_proteins = ids_.apply(lambda series_: series_.apply(length_))\n",
    "def compare_count(df, column_1, column_2):\n",
    "    \"\"\"Takes pandas.DataFrame and two of it's columns. Returns counts of \n",
    "    two columns for values of the two columns.\"\"\"\n",
    "    return df[column_1].value_counts().sort_index().to_frame().merge(\n",
    "        df[column_2].value_counts().sort_index(),\n",
    "        left_index=True, right_index=True, how='outer')\n",
    "       \n",
    "# count_groups_proteins = count_groups_proteins[columns_[0]].value_counts().sort_index().to_frame().merge(\n",
    "#         count_groups_proteins[columns_[1]].value_counts().sort_index(),\n",
    "#         left_index=True, right_index=True, how='outer')\n",
    "compare_count(count_groups_proteins, *columns_)"
   ]
  },
  {
   "cell_type": "code",
   "execution_count": 12,
   "metadata": {
    "Collapsed": "false"
   },
   "outputs": [],
   "source": [
    "NP_LOG_FCT = np.log2\n",
    "\n",
    "def log2(row: pd.Series):\n",
    "    \"\"\"Apply log Transformation to values.\"\"\"\n",
    "    return NP_LOG_FCT(row.where(row != 0.0))\n",
    "\n",
    "RANDOMSEED = 123\n",
    "\n",
    "IMPUTATION_MEAN_SHIFT    = 1.8\n",
    "IMPUTATION_STD_SHRINKAGE = 0.3\n",
    "\n",
    "def imputation_normal_distribution(log_intensities: pd.Series, mean_shift=IMPUTATION_MEAN_SHIFT, std_shrinkage=IMPUTATION_STD_SHRINKAGE):\n",
    "    \"\"\"Impute missing log-transformed intensity values of DDA run.\n",
    "\n",
    "    Parameters\n",
    "    ----------\n",
    "    log_intensities: pd.Series\n",
    "        Series of normally distributed values. Here usually log-transformed\n",
    "        protein intensities.\n",
    "    mean_shift: integer, float\n",
    "        Shift the mean of the log_intensities by factors of their standard\n",
    "        deviation to the negative.\n",
    "    std_shrinkage: float\n",
    "        Value greater than zero by which to shrink (or inflate) the \n",
    "        standard deviation of the log_intensities.\n",
    "    \"\"\"\n",
    "    np.random.seed(RANDOMSEED)\n",
    "    if not isinstance(log_intensities, pd.Series):\n",
    "        try:\n",
    "            log_intensities.Series(log_intensities)\n",
    "            logger.warning(\"Series created of Iterable.\")\n",
    "        except:\n",
    "            raise ValueError(\n",
    "                \"Plese provided data which is a pandas.Series or an Iterable\")\n",
    "    if mean_shift < 0:\n",
    "        raise ValueError(\n",
    "            \"Please specify a positive float as the std.-dev. is non-negative.\")\n",
    "    if std_shrinkage <= 0:\n",
    "        raise ValueError(\n",
    "            \"Please specify a positive float as shrinkage factor for std.-dev.\")\n",
    "    if std_shrinkage >= 1:\n",
    "        logger.warning(\"Standard Deviation will increase for imputed values.\")\n",
    "\n",
    "    mean = log_intensities.mean()\n",
    "    std = log_intensities.std()\n",
    "\n",
    "    mean_shifted = mean - (std * mean_shift)\n",
    "    std_shrinked = std * std_shrinkage\n",
    "\n",
    "    return log_intensities.where(log_intensities.notna(),\n",
    "                                 np.random.normal(mean_shifted, std_shrinked))"
   ]
  },
  {
   "cell_type": "code",
   "execution_count": 13,
   "metadata": {
    "Collapsed": "false"
   },
   "outputs": [],
   "source": [
    "# Report_plasma = pd.read_csv('raw/proteomics/plasma/20190620_210717_20190620_P0000005_Lili2Klibrary_Report.csv')\n",
    "experimental_columns = annotation_file_plasma['Sample ID']\n",
    "report_plasma[columns_] = report_plasma[columns_].apply(lambda series_: series_.str.split(';').str[0])"
   ]
  },
  {
   "cell_type": "code",
   "execution_count": 14,
   "metadata": {
    "Collapsed": "false"
   },
   "outputs": [
    {
     "data": {
      "text/html": [
       "<div>\n",
       "<style scoped>\n",
       "    .dataframe tbody tr th:only-of-type {\n",
       "        vertical-align: middle;\n",
       "    }\n",
       "\n",
       "    .dataframe tbody tr th {\n",
       "        vertical-align: top;\n",
       "    }\n",
       "\n",
       "    .dataframe thead th {\n",
       "        text-align: right;\n",
       "    }\n",
       "</style>\n",
       "<table border=\"1\" class=\"dataframe\">\n",
       "  <thead>\n",
       "    <tr style=\"text-align: right;\">\n",
       "      <th></th>\n",
       "      <th>[1] 20190514_QE10_Evosep1_P0000005_LiNi_SA_Plate1_A1.htrms.PG.NrOfStrippedSequencesUsedForQuantification</th>\n",
       "      <th>[2] 20190514_QE10_Evosep1_P0000005_LiNi_SA_Plate1_A2.htrms.PG.NrOfStrippedSequencesUsedForQuantification</th>\n",
       "      <th>[3] 20190514_QE10_Evosep1_P0000005_LiNi_SA_Plate1_A3.htrms.PG.NrOfStrippedSequencesUsedForQuantification</th>\n",
       "      <th>[4] 20190514_QE10_Evosep1_P0000005_LiNi_SA_Plate1_A4.htrms.PG.NrOfStrippedSequencesUsedForQuantification</th>\n",
       "      <th>...</th>\n",
       "      <th>[600] 20190618_QE10_Evosep1_P0000005_LiNi_SA_Plate7_C11.htrms.PG.Quantity</th>\n",
       "      <th>[601] 20190618_QE10_Evosep1_P0000005_LiNi_SA_Plate7_C12.htrms.PG.Quantity</th>\n",
       "      <th>[602] 20190618_QE10_Evosep1_P0000005_LiNi_SA_Plate7_D1.htrms.PG.Quantity</th>\n",
       "      <th>[603] 20190618_QE10_Evosep1_P0000005_LiNi_SA_Plate7_D2.htrms.PG.Quantity</th>\n",
       "    </tr>\n",
       "  </thead>\n",
       "  <tbody>\n",
       "    <tr>\n",
       "      <th>count</th>\n",
       "      <td>361.000000</td>\n",
       "      <td>327.000000</td>\n",
       "      <td>317.000000</td>\n",
       "      <td>340.000000</td>\n",
       "      <td>...</td>\n",
       "      <td>3.640000e+02</td>\n",
       "      <td>3.200000e+02</td>\n",
       "      <td>3.130000e+02</td>\n",
       "      <td>3.220000e+02</td>\n",
       "    </tr>\n",
       "    <tr>\n",
       "      <th>mean</th>\n",
       "      <td>2.124654</td>\n",
       "      <td>2.171254</td>\n",
       "      <td>2.192429</td>\n",
       "      <td>2.191176</td>\n",
       "      <td>...</td>\n",
       "      <td>3.939520e+06</td>\n",
       "      <td>4.541551e+06</td>\n",
       "      <td>4.727407e+06</td>\n",
       "      <td>4.267386e+06</td>\n",
       "    </tr>\n",
       "    <tr>\n",
       "      <th>std</th>\n",
       "      <td>0.933022</td>\n",
       "      <td>0.927444</td>\n",
       "      <td>0.912747</td>\n",
       "      <td>0.903245</td>\n",
       "      <td>...</td>\n",
       "      <td>4.108969e+07</td>\n",
       "      <td>4.513567e+07</td>\n",
       "      <td>4.711617e+07</td>\n",
       "      <td>4.104998e+07</td>\n",
       "    </tr>\n",
       "    <tr>\n",
       "      <th>min</th>\n",
       "      <td>1.000000</td>\n",
       "      <td>1.000000</td>\n",
       "      <td>1.000000</td>\n",
       "      <td>1.000000</td>\n",
       "      <td>...</td>\n",
       "      <td>1.908130e+02</td>\n",
       "      <td>5.826772e+02</td>\n",
       "      <td>7.995712e+02</td>\n",
       "      <td>2.039593e+02</td>\n",
       "    </tr>\n",
       "    <tr>\n",
       "      <th>25%</th>\n",
       "      <td>1.000000</td>\n",
       "      <td>1.000000</td>\n",
       "      <td>1.000000</td>\n",
       "      <td>1.000000</td>\n",
       "      <td>...</td>\n",
       "      <td>8.566062e+03</td>\n",
       "      <td>1.047221e+04</td>\n",
       "      <td>1.268499e+04</td>\n",
       "      <td>1.084710e+04</td>\n",
       "    </tr>\n",
       "    <tr>\n",
       "      <th>50%</th>\n",
       "      <td>3.000000</td>\n",
       "      <td>3.000000</td>\n",
       "      <td>3.000000</td>\n",
       "      <td>3.000000</td>\n",
       "      <td>...</td>\n",
       "      <td>4.154654e+04</td>\n",
       "      <td>6.404788e+04</td>\n",
       "      <td>6.787159e+04</td>\n",
       "      <td>6.053365e+04</td>\n",
       "    </tr>\n",
       "    <tr>\n",
       "      <th>75%</th>\n",
       "      <td>3.000000</td>\n",
       "      <td>3.000000</td>\n",
       "      <td>3.000000</td>\n",
       "      <td>3.000000</td>\n",
       "      <td>...</td>\n",
       "      <td>4.774295e+05</td>\n",
       "      <td>6.070775e+05</td>\n",
       "      <td>7.744870e+05</td>\n",
       "      <td>6.438288e+05</td>\n",
       "    </tr>\n",
       "    <tr>\n",
       "      <th>max</th>\n",
       "      <td>3.000000</td>\n",
       "      <td>3.000000</td>\n",
       "      <td>3.000000</td>\n",
       "      <td>3.000000</td>\n",
       "      <td>...</td>\n",
       "      <td>7.727070e+08</td>\n",
       "      <td>7.973126e+08</td>\n",
       "      <td>8.239611e+08</td>\n",
       "      <td>7.269720e+08</td>\n",
       "    </tr>\n",
       "  </tbody>\n",
       "</table>\n",
       "<p>8 rows × 1206 columns</p>\n",
       "</div>"
      ],
      "text/plain": [
       "       [1] 20190514_QE10_Evosep1_P0000005_LiNi_SA_Plate1_A1.htrms.PG.NrOfStrippedSequencesUsedForQuantification  \\\n",
       "count                                         361.000000                                                          \n",
       "mean                                            2.124654                                                          \n",
       "std                                             0.933022                                                          \n",
       "min                                             1.000000                                                          \n",
       "25%                                             1.000000                                                          \n",
       "50%                                             3.000000                                                          \n",
       "75%                                             3.000000                                                          \n",
       "max                                             3.000000                                                          \n",
       "\n",
       "       [2] 20190514_QE10_Evosep1_P0000005_LiNi_SA_Plate1_A2.htrms.PG.NrOfStrippedSequencesUsedForQuantification  \\\n",
       "count                                         327.000000                                                          \n",
       "mean                                            2.171254                                                          \n",
       "std                                             0.927444                                                          \n",
       "min                                             1.000000                                                          \n",
       "25%                                             1.000000                                                          \n",
       "50%                                             3.000000                                                          \n",
       "75%                                             3.000000                                                          \n",
       "max                                             3.000000                                                          \n",
       "\n",
       "       [3] 20190514_QE10_Evosep1_P0000005_LiNi_SA_Plate1_A3.htrms.PG.NrOfStrippedSequencesUsedForQuantification  \\\n",
       "count                                         317.000000                                                          \n",
       "mean                                            2.192429                                                          \n",
       "std                                             0.912747                                                          \n",
       "min                                             1.000000                                                          \n",
       "25%                                             1.000000                                                          \n",
       "50%                                             3.000000                                                          \n",
       "75%                                             3.000000                                                          \n",
       "max                                             3.000000                                                          \n",
       "\n",
       "       [4] 20190514_QE10_Evosep1_P0000005_LiNi_SA_Plate1_A4.htrms.PG.NrOfStrippedSequencesUsedForQuantification  \\\n",
       "count                                         340.000000                                                          \n",
       "mean                                            2.191176                                                          \n",
       "std                                             0.903245                                                          \n",
       "min                                             1.000000                                                          \n",
       "25%                                             1.000000                                                          \n",
       "50%                                             3.000000                                                          \n",
       "75%                                             3.000000                                                          \n",
       "max                                             3.000000                                                          \n",
       "\n",
       "       ...  \\\n",
       "count  ...   \n",
       "mean   ...   \n",
       "std    ...   \n",
       "min    ...   \n",
       "25%    ...   \n",
       "50%    ...   \n",
       "75%    ...   \n",
       "max    ...   \n",
       "\n",
       "       [600] 20190618_QE10_Evosep1_P0000005_LiNi_SA_Plate7_C11.htrms.PG.Quantity  \\\n",
       "count                                       3.640000e+02                           \n",
       "mean                                        3.939520e+06                           \n",
       "std                                         4.108969e+07                           \n",
       "min                                         1.908130e+02                           \n",
       "25%                                         8.566062e+03                           \n",
       "50%                                         4.154654e+04                           \n",
       "75%                                         4.774295e+05                           \n",
       "max                                         7.727070e+08                           \n",
       "\n",
       "       [601] 20190618_QE10_Evosep1_P0000005_LiNi_SA_Plate7_C12.htrms.PG.Quantity  \\\n",
       "count                                       3.200000e+02                           \n",
       "mean                                        4.541551e+06                           \n",
       "std                                         4.513567e+07                           \n",
       "min                                         5.826772e+02                           \n",
       "25%                                         1.047221e+04                           \n",
       "50%                                         6.404788e+04                           \n",
       "75%                                         6.070775e+05                           \n",
       "max                                         7.973126e+08                           \n",
       "\n",
       "       [602] 20190618_QE10_Evosep1_P0000005_LiNi_SA_Plate7_D1.htrms.PG.Quantity  \\\n",
       "count                                       3.130000e+02                          \n",
       "mean                                        4.727407e+06                          \n",
       "std                                         4.711617e+07                          \n",
       "min                                         7.995712e+02                          \n",
       "25%                                         1.268499e+04                          \n",
       "50%                                         6.787159e+04                          \n",
       "75%                                         7.744870e+05                          \n",
       "max                                         8.239611e+08                          \n",
       "\n",
       "       [603] 20190618_QE10_Evosep1_P0000005_LiNi_SA_Plate7_D2.htrms.PG.Quantity  \n",
       "count                                       3.220000e+02                         \n",
       "mean                                        4.267386e+06                         \n",
       "std                                         4.104998e+07                         \n",
       "min                                         2.039593e+02                         \n",
       "25%                                         1.084710e+04                         \n",
       "50%                                         6.053365e+04                         \n",
       "75%                                         6.438288e+05                         \n",
       "max                                         7.269720e+08                         \n",
       "\n",
       "[8 rows x 1206 columns]"
      ]
     },
     "execution_count": 14,
     "metadata": {},
     "output_type": "execute_result"
    }
   ],
   "source": [
    "report_plasma.describe()"
   ]
  },
  {
   "cell_type": "code",
   "execution_count": 15,
   "metadata": {
    "Collapsed": "false"
   },
   "outputs": [],
   "source": [
    "map_filenames_ids = dict(zip(annotation_file['File name'], annotation_file['Sample ID']))"
   ]
  },
  {
   "cell_type": "markdown",
   "metadata": {
    "Collapsed": "false"
   },
   "source": [
    "Remove some measurements which are not intensities, but ... ?"
   ]
  },
  {
   "cell_type": "code",
   "execution_count": 16,
   "metadata": {
    "Collapsed": "false"
   },
   "outputs": [],
   "source": [
    "data_plasma_raw = report_plasma.copy()\n",
    "data_plasma_raw.drop(data_plasma_raw.filter(regex='StrippedSequences').columns, axis=1, inplace = True)"
   ]
  },
  {
   "cell_type": "markdown",
   "metadata": {
    "Collapsed": "false"
   },
   "source": [
    "- rename column names to sample ID from annotation file\n",
    "- set index to proteins"
   ]
  },
  {
   "cell_type": "code",
   "execution_count": 17,
   "metadata": {
    "Collapsed": "false"
   },
   "outputs": [
    {
     "data": {
      "text/plain": [
       "(524, 603)"
      ]
     },
     "execution_count": 17,
     "metadata": {},
     "output_type": "execute_result"
    }
   ],
   "source": [
    "data_plasma_raw = data_plasma_raw.rename(mapper = map_filenames_ids, axis=1)\n",
    "IDmapping_UniprotID_to_Genename = dict(zip(data_plasma_raw['Protein ID'], data_plasma_raw['Gene names']))\n",
    "data_plasma_raw = data_plasma_raw.set_index('Protein ID').drop('Gene names', axis = 1)\n",
    "data_plasma_raw.shape"
   ]
  },
  {
   "cell_type": "code",
   "execution_count": 18,
   "metadata": {
    "Collapsed": "false"
   },
   "outputs": [
    {
     "data": {
      "text/plain": [
       "304"
      ]
     },
     "execution_count": 18,
     "metadata": {},
     "output_type": "execute_result"
    }
   ],
   "source": [
    "mask = data_plasma_raw.notna().sum(axis=1) > 603 * 0.6\n",
    "mask.sum()"
   ]
  },
  {
   "cell_type": "markdown",
   "metadata": {
    "Collapsed": "false"
   },
   "source": [
    "Filter at protein level for 60% data completeness across all runs"
   ]
  },
  {
   "cell_type": "code",
   "execution_count": 19,
   "metadata": {
    "Collapsed": "false"
   },
   "outputs": [
    {
     "data": {
      "text/html": [
       "<div>\n",
       "<style scoped>\n",
       "    .dataframe tbody tr th:only-of-type {\n",
       "        vertical-align: middle;\n",
       "    }\n",
       "\n",
       "    .dataframe tbody tr th {\n",
       "        vertical-align: top;\n",
       "    }\n",
       "\n",
       "    .dataframe thead th {\n",
       "        text-align: right;\n",
       "    }\n",
       "</style>\n",
       "<table border=\"1\" class=\"dataframe\">\n",
       "  <thead>\n",
       "    <tr style=\"text-align: right;\">\n",
       "      <th></th>\n",
       "      <th>Plate1_A1</th>\n",
       "      <th>Plate1_A2</th>\n",
       "      <th>Plate1_A3</th>\n",
       "      <th>Plate1_A4</th>\n",
       "      <th>...</th>\n",
       "      <th>Plate7_C11</th>\n",
       "      <th>Plate7_C12</th>\n",
       "      <th>Plate7_D1</th>\n",
       "      <th>Plate7_D2</th>\n",
       "    </tr>\n",
       "    <tr>\n",
       "      <th>Protein ID</th>\n",
       "      <th></th>\n",
       "      <th></th>\n",
       "      <th></th>\n",
       "      <th></th>\n",
       "      <th></th>\n",
       "      <th></th>\n",
       "      <th></th>\n",
       "      <th></th>\n",
       "      <th></th>\n",
       "    </tr>\n",
       "  </thead>\n",
       "  <tbody>\n",
       "    <tr>\n",
       "      <th>A0A024R6I7</th>\n",
       "      <td>6.200196e+05</td>\n",
       "      <td>2.331762e+06</td>\n",
       "      <td>2.586371e+04</td>\n",
       "      <td>5.338210e+03</td>\n",
       "      <td>...</td>\n",
       "      <td>4.113509e+03</td>\n",
       "      <td>2.998578e+03</td>\n",
       "      <td>NaN</td>\n",
       "      <td>1.988878e+06</td>\n",
       "    </tr>\n",
       "    <tr>\n",
       "      <th>A0A075B6I0</th>\n",
       "      <td>6.295342e+05</td>\n",
       "      <td>8.450854e+05</td>\n",
       "      <td>2.373902e+05</td>\n",
       "      <td>3.643702e+05</td>\n",
       "      <td>...</td>\n",
       "      <td>4.722763e+05</td>\n",
       "      <td>3.496285e+05</td>\n",
       "      <td>3.066827e+05</td>\n",
       "      <td>3.786927e+05</td>\n",
       "    </tr>\n",
       "    <tr>\n",
       "      <th>A0A075B6J9</th>\n",
       "      <td>1.681740e+05</td>\n",
       "      <td>1.627395e+05</td>\n",
       "      <td>1.855113e+05</td>\n",
       "      <td>9.158264e+04</td>\n",
       "      <td>...</td>\n",
       "      <td>3.596762e+04</td>\n",
       "      <td>1.363557e+05</td>\n",
       "      <td>1.330743e+05</td>\n",
       "      <td>6.273911e+05</td>\n",
       "    </tr>\n",
       "    <tr>\n",
       "      <th>A0A075B6R9</th>\n",
       "      <td>3.775132e+05</td>\n",
       "      <td>5.170737e+05</td>\n",
       "      <td>3.844323e+05</td>\n",
       "      <td>2.721132e+05</td>\n",
       "      <td>...</td>\n",
       "      <td>9.784640e+04</td>\n",
       "      <td>3.716600e+05</td>\n",
       "      <td>1.769536e+05</td>\n",
       "      <td>1.536745e+05</td>\n",
       "    </tr>\n",
       "    <tr>\n",
       "      <th>A0A075B6S2</th>\n",
       "      <td>3.906652e+06</td>\n",
       "      <td>3.630775e+06</td>\n",
       "      <td>2.398308e+06</td>\n",
       "      <td>3.057330e+06</td>\n",
       "      <td>...</td>\n",
       "      <td>3.905379e+06</td>\n",
       "      <td>4.987740e+06</td>\n",
       "      <td>5.406188e+06</td>\n",
       "      <td>6.198768e+06</td>\n",
       "    </tr>\n",
       "    <tr>\n",
       "      <th>...</th>\n",
       "      <td>...</td>\n",
       "      <td>...</td>\n",
       "      <td>...</td>\n",
       "      <td>...</td>\n",
       "      <td>...</td>\n",
       "      <td>...</td>\n",
       "      <td>...</td>\n",
       "      <td>...</td>\n",
       "      <td>...</td>\n",
       "    </tr>\n",
       "    <tr>\n",
       "      <th>Q9Y5C1</th>\n",
       "      <td>4.865861e+03</td>\n",
       "      <td>5.296482e+03</td>\n",
       "      <td>7.799022e+03</td>\n",
       "      <td>3.205460e+03</td>\n",
       "      <td>...</td>\n",
       "      <td>6.996103e+03</td>\n",
       "      <td>2.350951e+03</td>\n",
       "      <td>5.607277e+03</td>\n",
       "      <td>4.150832e+03</td>\n",
       "    </tr>\n",
       "    <tr>\n",
       "      <th>Q9Y5Y7</th>\n",
       "      <td>1.992382e+04</td>\n",
       "      <td>2.703403e+04</td>\n",
       "      <td>2.709656e+04</td>\n",
       "      <td>1.464827e+04</td>\n",
       "      <td>...</td>\n",
       "      <td>1.341996e+04</td>\n",
       "      <td>9.023039e+03</td>\n",
       "      <td>9.431375e+03</td>\n",
       "      <td>1.067457e+04</td>\n",
       "    </tr>\n",
       "    <tr>\n",
       "      <th>Q9Y6R7</th>\n",
       "      <td>1.148318e+04</td>\n",
       "      <td>1.718446e+04</td>\n",
       "      <td>3.122548e+04</td>\n",
       "      <td>2.017434e+04</td>\n",
       "      <td>...</td>\n",
       "      <td>8.169301e+03</td>\n",
       "      <td>8.141091e+03</td>\n",
       "      <td>NaN</td>\n",
       "      <td>7.094049e+03</td>\n",
       "    </tr>\n",
       "    <tr>\n",
       "      <th>Q9Y6Z7</th>\n",
       "      <td>9.417028e+03</td>\n",
       "      <td>NaN</td>\n",
       "      <td>1.456488e+04</td>\n",
       "      <td>NaN</td>\n",
       "      <td>...</td>\n",
       "      <td>5.446813e+03</td>\n",
       "      <td>NaN</td>\n",
       "      <td>NaN</td>\n",
       "      <td>NaN</td>\n",
       "    </tr>\n",
       "    <tr>\n",
       "      <th>V9GYM3</th>\n",
       "      <td>2.229827e+07</td>\n",
       "      <td>2.477089e+07</td>\n",
       "      <td>2.873506e+07</td>\n",
       "      <td>2.217497e+07</td>\n",
       "      <td>...</td>\n",
       "      <td>1.345530e+07</td>\n",
       "      <td>1.971616e+07</td>\n",
       "      <td>1.509408e+07</td>\n",
       "      <td>9.643030e+06</td>\n",
       "    </tr>\n",
       "  </tbody>\n",
       "</table>\n",
       "<p>304 rows × 603 columns</p>\n",
       "</div>"
      ],
      "text/plain": [
       "               Plate1_A1     Plate1_A2     Plate1_A3     Plate1_A4  ...  \\\n",
       "Protein ID                                                          ...   \n",
       "A0A024R6I7  6.200196e+05  2.331762e+06  2.586371e+04  5.338210e+03  ...   \n",
       "A0A075B6I0  6.295342e+05  8.450854e+05  2.373902e+05  3.643702e+05  ...   \n",
       "A0A075B6J9  1.681740e+05  1.627395e+05  1.855113e+05  9.158264e+04  ...   \n",
       "A0A075B6R9  3.775132e+05  5.170737e+05  3.844323e+05  2.721132e+05  ...   \n",
       "A0A075B6S2  3.906652e+06  3.630775e+06  2.398308e+06  3.057330e+06  ...   \n",
       "...                  ...           ...           ...           ...  ...   \n",
       "Q9Y5C1      4.865861e+03  5.296482e+03  7.799022e+03  3.205460e+03  ...   \n",
       "Q9Y5Y7      1.992382e+04  2.703403e+04  2.709656e+04  1.464827e+04  ...   \n",
       "Q9Y6R7      1.148318e+04  1.718446e+04  3.122548e+04  2.017434e+04  ...   \n",
       "Q9Y6Z7      9.417028e+03           NaN  1.456488e+04           NaN  ...   \n",
       "V9GYM3      2.229827e+07  2.477089e+07  2.873506e+07  2.217497e+07  ...   \n",
       "\n",
       "              Plate7_C11    Plate7_C12     Plate7_D1     Plate7_D2  \n",
       "Protein ID                                                          \n",
       "A0A024R6I7  4.113509e+03  2.998578e+03           NaN  1.988878e+06  \n",
       "A0A075B6I0  4.722763e+05  3.496285e+05  3.066827e+05  3.786927e+05  \n",
       "A0A075B6J9  3.596762e+04  1.363557e+05  1.330743e+05  6.273911e+05  \n",
       "A0A075B6R9  9.784640e+04  3.716600e+05  1.769536e+05  1.536745e+05  \n",
       "A0A075B6S2  3.905379e+06  4.987740e+06  5.406188e+06  6.198768e+06  \n",
       "...                  ...           ...           ...           ...  \n",
       "Q9Y5C1      6.996103e+03  2.350951e+03  5.607277e+03  4.150832e+03  \n",
       "Q9Y5Y7      1.341996e+04  9.023039e+03  9.431375e+03  1.067457e+04  \n",
       "Q9Y6R7      8.169301e+03  8.141091e+03           NaN  7.094049e+03  \n",
       "Q9Y6Z7      5.446813e+03           NaN           NaN           NaN  \n",
       "V9GYM3      1.345530e+07  1.971616e+07  1.509408e+07  9.643030e+06  \n",
       "\n",
       "[304 rows x 603 columns]"
      ]
     },
     "execution_count": 19,
     "metadata": {},
     "output_type": "execute_result"
    }
   ],
   "source": [
    "DATA_COMPLETENESS = 0.6\n",
    "data_plasma_filtered = data_plasma_raw.dropna(axis=0, thresh = data_plasma_raw.shape[1] * DATA_COMPLETENESS)\n",
    "data_plasma_filtered"
   ]
  },
  {
   "cell_type": "markdown",
   "metadata": {
    "Collapsed": "false"
   },
   "source": [
    "Filter at sample level for a total number of quantified protein groups above 200 (of 290)."
   ]
  },
  {
   "cell_type": "code",
   "execution_count": 20,
   "metadata": {
    "Collapsed": "false"
   },
   "outputs": [
    {
     "name": "stdout",
     "output_type": "stream",
     "text": [
      "Min No. of Protein-Groups in single sample: 200, i.e. a fraction of 0.6578947368421053\n"
     ]
    }
   ],
   "source": [
    "MIN_N_PROTEIN_GROUPS = 200\n",
    "print(f\"Min No. of Protein-Groups in single sample: {MIN_N_PROTEIN_GROUPS}, i.e. a fraction of {MIN_N_PROTEIN_GROUPS/len(data_plasma_filtered)}\")"
   ]
  },
  {
   "cell_type": "code",
   "execution_count": 21,
   "metadata": {
    "Collapsed": "false"
   },
   "outputs": [
    {
     "data": {
      "text/html": [
       "<div>\n",
       "<style scoped>\n",
       "    .dataframe tbody tr th:only-of-type {\n",
       "        vertical-align: middle;\n",
       "    }\n",
       "\n",
       "    .dataframe tbody tr th {\n",
       "        vertical-align: top;\n",
       "    }\n",
       "\n",
       "    .dataframe thead th {\n",
       "        text-align: right;\n",
       "    }\n",
       "</style>\n",
       "<table border=\"1\" class=\"dataframe\">\n",
       "  <thead>\n",
       "    <tr style=\"text-align: right;\">\n",
       "      <th></th>\n",
       "      <th>Plate1_A1</th>\n",
       "      <th>Plate1_A2</th>\n",
       "      <th>Plate1_A3</th>\n",
       "      <th>Plate1_A4</th>\n",
       "      <th>...</th>\n",
       "      <th>Plate7_C11</th>\n",
       "      <th>Plate7_C12</th>\n",
       "      <th>Plate7_D1</th>\n",
       "      <th>Plate7_D2</th>\n",
       "    </tr>\n",
       "    <tr>\n",
       "      <th>Protein ID</th>\n",
       "      <th></th>\n",
       "      <th></th>\n",
       "      <th></th>\n",
       "      <th></th>\n",
       "      <th></th>\n",
       "      <th></th>\n",
       "      <th></th>\n",
       "      <th></th>\n",
       "      <th></th>\n",
       "    </tr>\n",
       "  </thead>\n",
       "  <tbody>\n",
       "    <tr>\n",
       "      <th>A0A024R6I7</th>\n",
       "      <td>6.200196e+05</td>\n",
       "      <td>2.331762e+06</td>\n",
       "      <td>2.586371e+04</td>\n",
       "      <td>5.338210e+03</td>\n",
       "      <td>...</td>\n",
       "      <td>4.113509e+03</td>\n",
       "      <td>2.998578e+03</td>\n",
       "      <td>NaN</td>\n",
       "      <td>1.988878e+06</td>\n",
       "    </tr>\n",
       "    <tr>\n",
       "      <th>A0A075B6I0</th>\n",
       "      <td>6.295342e+05</td>\n",
       "      <td>8.450854e+05</td>\n",
       "      <td>2.373902e+05</td>\n",
       "      <td>3.643702e+05</td>\n",
       "      <td>...</td>\n",
       "      <td>4.722763e+05</td>\n",
       "      <td>3.496285e+05</td>\n",
       "      <td>3.066827e+05</td>\n",
       "      <td>3.786927e+05</td>\n",
       "    </tr>\n",
       "    <tr>\n",
       "      <th>A0A075B6J9</th>\n",
       "      <td>1.681740e+05</td>\n",
       "      <td>1.627395e+05</td>\n",
       "      <td>1.855113e+05</td>\n",
       "      <td>9.158264e+04</td>\n",
       "      <td>...</td>\n",
       "      <td>3.596762e+04</td>\n",
       "      <td>1.363557e+05</td>\n",
       "      <td>1.330743e+05</td>\n",
       "      <td>6.273911e+05</td>\n",
       "    </tr>\n",
       "    <tr>\n",
       "      <th>A0A075B6R9</th>\n",
       "      <td>3.775132e+05</td>\n",
       "      <td>5.170737e+05</td>\n",
       "      <td>3.844323e+05</td>\n",
       "      <td>2.721132e+05</td>\n",
       "      <td>...</td>\n",
       "      <td>9.784640e+04</td>\n",
       "      <td>3.716600e+05</td>\n",
       "      <td>1.769536e+05</td>\n",
       "      <td>1.536745e+05</td>\n",
       "    </tr>\n",
       "    <tr>\n",
       "      <th>A0A075B6S2</th>\n",
       "      <td>3.906652e+06</td>\n",
       "      <td>3.630775e+06</td>\n",
       "      <td>2.398308e+06</td>\n",
       "      <td>3.057330e+06</td>\n",
       "      <td>...</td>\n",
       "      <td>3.905379e+06</td>\n",
       "      <td>4.987740e+06</td>\n",
       "      <td>5.406188e+06</td>\n",
       "      <td>6.198768e+06</td>\n",
       "    </tr>\n",
       "    <tr>\n",
       "      <th>...</th>\n",
       "      <td>...</td>\n",
       "      <td>...</td>\n",
       "      <td>...</td>\n",
       "      <td>...</td>\n",
       "      <td>...</td>\n",
       "      <td>...</td>\n",
       "      <td>...</td>\n",
       "      <td>...</td>\n",
       "      <td>...</td>\n",
       "    </tr>\n",
       "    <tr>\n",
       "      <th>Q9Y5C1</th>\n",
       "      <td>4.865861e+03</td>\n",
       "      <td>5.296482e+03</td>\n",
       "      <td>7.799022e+03</td>\n",
       "      <td>3.205460e+03</td>\n",
       "      <td>...</td>\n",
       "      <td>6.996103e+03</td>\n",
       "      <td>2.350951e+03</td>\n",
       "      <td>5.607277e+03</td>\n",
       "      <td>4.150832e+03</td>\n",
       "    </tr>\n",
       "    <tr>\n",
       "      <th>Q9Y5Y7</th>\n",
       "      <td>1.992382e+04</td>\n",
       "      <td>2.703403e+04</td>\n",
       "      <td>2.709656e+04</td>\n",
       "      <td>1.464827e+04</td>\n",
       "      <td>...</td>\n",
       "      <td>1.341996e+04</td>\n",
       "      <td>9.023039e+03</td>\n",
       "      <td>9.431375e+03</td>\n",
       "      <td>1.067457e+04</td>\n",
       "    </tr>\n",
       "    <tr>\n",
       "      <th>Q9Y6R7</th>\n",
       "      <td>1.148318e+04</td>\n",
       "      <td>1.718446e+04</td>\n",
       "      <td>3.122548e+04</td>\n",
       "      <td>2.017434e+04</td>\n",
       "      <td>...</td>\n",
       "      <td>8.169301e+03</td>\n",
       "      <td>8.141091e+03</td>\n",
       "      <td>NaN</td>\n",
       "      <td>7.094049e+03</td>\n",
       "    </tr>\n",
       "    <tr>\n",
       "      <th>Q9Y6Z7</th>\n",
       "      <td>9.417028e+03</td>\n",
       "      <td>NaN</td>\n",
       "      <td>1.456488e+04</td>\n",
       "      <td>NaN</td>\n",
       "      <td>...</td>\n",
       "      <td>5.446813e+03</td>\n",
       "      <td>NaN</td>\n",
       "      <td>NaN</td>\n",
       "      <td>NaN</td>\n",
       "    </tr>\n",
       "    <tr>\n",
       "      <th>V9GYM3</th>\n",
       "      <td>2.229827e+07</td>\n",
       "      <td>2.477089e+07</td>\n",
       "      <td>2.873506e+07</td>\n",
       "      <td>2.217497e+07</td>\n",
       "      <td>...</td>\n",
       "      <td>1.345530e+07</td>\n",
       "      <td>1.971616e+07</td>\n",
       "      <td>1.509408e+07</td>\n",
       "      <td>9.643030e+06</td>\n",
       "    </tr>\n",
       "  </tbody>\n",
       "</table>\n",
       "<p>304 rows × 599 columns</p>\n",
       "</div>"
      ],
      "text/plain": [
       "               Plate1_A1     Plate1_A2     Plate1_A3     Plate1_A4  ...  \\\n",
       "Protein ID                                                          ...   \n",
       "A0A024R6I7  6.200196e+05  2.331762e+06  2.586371e+04  5.338210e+03  ...   \n",
       "A0A075B6I0  6.295342e+05  8.450854e+05  2.373902e+05  3.643702e+05  ...   \n",
       "A0A075B6J9  1.681740e+05  1.627395e+05  1.855113e+05  9.158264e+04  ...   \n",
       "A0A075B6R9  3.775132e+05  5.170737e+05  3.844323e+05  2.721132e+05  ...   \n",
       "A0A075B6S2  3.906652e+06  3.630775e+06  2.398308e+06  3.057330e+06  ...   \n",
       "...                  ...           ...           ...           ...  ...   \n",
       "Q9Y5C1      4.865861e+03  5.296482e+03  7.799022e+03  3.205460e+03  ...   \n",
       "Q9Y5Y7      1.992382e+04  2.703403e+04  2.709656e+04  1.464827e+04  ...   \n",
       "Q9Y6R7      1.148318e+04  1.718446e+04  3.122548e+04  2.017434e+04  ...   \n",
       "Q9Y6Z7      9.417028e+03           NaN  1.456488e+04           NaN  ...   \n",
       "V9GYM3      2.229827e+07  2.477089e+07  2.873506e+07  2.217497e+07  ...   \n",
       "\n",
       "              Plate7_C11    Plate7_C12     Plate7_D1     Plate7_D2  \n",
       "Protein ID                                                          \n",
       "A0A024R6I7  4.113509e+03  2.998578e+03           NaN  1.988878e+06  \n",
       "A0A075B6I0  4.722763e+05  3.496285e+05  3.066827e+05  3.786927e+05  \n",
       "A0A075B6J9  3.596762e+04  1.363557e+05  1.330743e+05  6.273911e+05  \n",
       "A0A075B6R9  9.784640e+04  3.716600e+05  1.769536e+05  1.536745e+05  \n",
       "A0A075B6S2  3.905379e+06  4.987740e+06  5.406188e+06  6.198768e+06  \n",
       "...                  ...           ...           ...           ...  \n",
       "Q9Y5C1      6.996103e+03  2.350951e+03  5.607277e+03  4.150832e+03  \n",
       "Q9Y5Y7      1.341996e+04  9.023039e+03  9.431375e+03  1.067457e+04  \n",
       "Q9Y6R7      8.169301e+03  8.141091e+03           NaN  7.094049e+03  \n",
       "Q9Y6Z7      5.446813e+03           NaN           NaN           NaN  \n",
       "V9GYM3      1.345530e+07  1.971616e+07  1.509408e+07  9.643030e+06  \n",
       "\n",
       "[304 rows x 599 columns]"
      ]
     },
     "execution_count": 21,
     "metadata": {},
     "output_type": "execute_result"
    }
   ],
   "source": [
    "data_plasma_filtered = data_plasma_filtered.dropna(axis=1, thresh = MIN_N_PROTEIN_GROUPS)\n",
    "data_plasma_filtered"
   ]
  },
  {
   "cell_type": "code",
   "execution_count": 22,
   "metadata": {
    "Collapsed": "false"
   },
   "outputs": [],
   "source": [
    "assert (data_plasma_filtered.dtypes != float).sum() == 0"
   ]
  },
  {
   "cell_type": "code",
   "execution_count": 23,
   "metadata": {
    "Collapsed": "false"
   },
   "outputs": [
    {
     "data": {
      "text/html": [
       "<div>\n",
       "<style scoped>\n",
       "    .dataframe tbody tr th:only-of-type {\n",
       "        vertical-align: middle;\n",
       "    }\n",
       "\n",
       "    .dataframe tbody tr th {\n",
       "        vertical-align: top;\n",
       "    }\n",
       "\n",
       "    .dataframe thead th {\n",
       "        text-align: right;\n",
       "    }\n",
       "</style>\n",
       "<table border=\"1\" class=\"dataframe\">\n",
       "  <thead>\n",
       "    <tr style=\"text-align: right;\">\n",
       "      <th></th>\n",
       "      <th>Plate1_A1</th>\n",
       "      <th>Plate1_A2</th>\n",
       "      <th>Plate1_A3</th>\n",
       "      <th>Plate1_A4</th>\n",
       "      <th>...</th>\n",
       "      <th>Plate7_C11</th>\n",
       "      <th>Plate7_C12</th>\n",
       "      <th>Plate7_D1</th>\n",
       "      <th>Plate7_D2</th>\n",
       "    </tr>\n",
       "    <tr>\n",
       "      <th>Protein ID</th>\n",
       "      <th></th>\n",
       "      <th></th>\n",
       "      <th></th>\n",
       "      <th></th>\n",
       "      <th></th>\n",
       "      <th></th>\n",
       "      <th></th>\n",
       "      <th></th>\n",
       "      <th></th>\n",
       "    </tr>\n",
       "  </thead>\n",
       "  <tbody>\n",
       "    <tr>\n",
       "      <th>A0A024R6I7</th>\n",
       "      <td>19.241954</td>\n",
       "      <td>21.152989</td>\n",
       "      <td>14.658642</td>\n",
       "      <td>12.382140</td>\n",
       "      <td>...</td>\n",
       "      <td>12.006154</td>\n",
       "      <td>11.550063</td>\n",
       "      <td>NaN</td>\n",
       "      <td>20.923524</td>\n",
       "    </tr>\n",
       "    <tr>\n",
       "      <th>A0A075B6I0</th>\n",
       "      <td>19.263925</td>\n",
       "      <td>19.688738</td>\n",
       "      <td>17.856901</td>\n",
       "      <td>18.475045</td>\n",
       "      <td>...</td>\n",
       "      <td>18.849272</td>\n",
       "      <td>18.415463</td>\n",
       "      <td>18.226387</td>\n",
       "      <td>18.530668</td>\n",
       "    </tr>\n",
       "    <tr>\n",
       "      <th>A0A075B6J9</th>\n",
       "      <td>17.359595</td>\n",
       "      <td>17.312205</td>\n",
       "      <td>17.501147</td>\n",
       "      <td>16.482787</td>\n",
       "      <td>...</td>\n",
       "      <td>15.134411</td>\n",
       "      <td>17.057015</td>\n",
       "      <td>17.021873</td>\n",
       "      <td>19.259006</td>\n",
       "    </tr>\n",
       "    <tr>\n",
       "      <th>A0A075B6R9</th>\n",
       "      <td>18.526168</td>\n",
       "      <td>18.980010</td>\n",
       "      <td>18.552370</td>\n",
       "      <td>18.053848</td>\n",
       "      <td>...</td>\n",
       "      <td>16.578231</td>\n",
       "      <td>18.503624</td>\n",
       "      <td>17.433012</td>\n",
       "      <td>17.229518</td>\n",
       "    </tr>\n",
       "    <tr>\n",
       "      <th>A0A075B6S2</th>\n",
       "      <td>21.897501</td>\n",
       "      <td>21.791846</td>\n",
       "      <td>21.193585</td>\n",
       "      <td>21.543841</td>\n",
       "      <td>...</td>\n",
       "      <td>21.897031</td>\n",
       "      <td>22.249955</td>\n",
       "      <td>22.366180</td>\n",
       "      <td>22.563550</td>\n",
       "    </tr>\n",
       "    <tr>\n",
       "      <th>...</th>\n",
       "      <td>...</td>\n",
       "      <td>...</td>\n",
       "      <td>...</td>\n",
       "      <td>...</td>\n",
       "      <td>...</td>\n",
       "      <td>...</td>\n",
       "      <td>...</td>\n",
       "      <td>...</td>\n",
       "      <td>...</td>\n",
       "    </tr>\n",
       "    <tr>\n",
       "      <th>Q9Y5C1</th>\n",
       "      <td>12.248479</td>\n",
       "      <td>12.370819</td>\n",
       "      <td>12.929078</td>\n",
       "      <td>11.646316</td>\n",
       "      <td>...</td>\n",
       "      <td>12.772336</td>\n",
       "      <td>11.199029</td>\n",
       "      <td>12.453085</td>\n",
       "      <td>12.019185</td>\n",
       "    </tr>\n",
       "    <tr>\n",
       "      <th>Q9Y5Y7</th>\n",
       "      <td>14.282206</td>\n",
       "      <td>14.722489</td>\n",
       "      <td>14.725822</td>\n",
       "      <td>13.838443</td>\n",
       "      <td>...</td>\n",
       "      <td>13.712093</td>\n",
       "      <td>13.139398</td>\n",
       "      <td>13.203252</td>\n",
       "      <td>13.381890</td>\n",
       "    </tr>\n",
       "    <tr>\n",
       "      <th>Q9Y6R7</th>\n",
       "      <td>13.487235</td>\n",
       "      <td>14.068817</td>\n",
       "      <td>14.930436</td>\n",
       "      <td>14.300234</td>\n",
       "      <td>...</td>\n",
       "      <td>12.995997</td>\n",
       "      <td>12.991006</td>\n",
       "      <td>NaN</td>\n",
       "      <td>12.792394</td>\n",
       "    </tr>\n",
       "    <tr>\n",
       "      <th>Q9Y6Z7</th>\n",
       "      <td>13.201056</td>\n",
       "      <td>NaN</td>\n",
       "      <td>13.830207</td>\n",
       "      <td>NaN</td>\n",
       "      <td>...</td>\n",
       "      <td>12.411197</td>\n",
       "      <td>NaN</td>\n",
       "      <td>NaN</td>\n",
       "      <td>NaN</td>\n",
       "    </tr>\n",
       "    <tr>\n",
       "      <th>V9GYM3</th>\n",
       "      <td>24.410428</td>\n",
       "      <td>24.562142</td>\n",
       "      <td>24.776309</td>\n",
       "      <td>24.402429</td>\n",
       "      <td>...</td>\n",
       "      <td>23.681672</td>\n",
       "      <td>24.232875</td>\n",
       "      <td>23.847479</td>\n",
       "      <td>23.201055</td>\n",
       "    </tr>\n",
       "  </tbody>\n",
       "</table>\n",
       "<p>304 rows × 599 columns</p>\n",
       "</div>"
      ],
      "text/plain": [
       "            Plate1_A1  Plate1_A2  Plate1_A3  Plate1_A4  ...  Plate7_C11  \\\n",
       "Protein ID                                              ...               \n",
       "A0A024R6I7  19.241954  21.152989  14.658642  12.382140  ...   12.006154   \n",
       "A0A075B6I0  19.263925  19.688738  17.856901  18.475045  ...   18.849272   \n",
       "A0A075B6J9  17.359595  17.312205  17.501147  16.482787  ...   15.134411   \n",
       "A0A075B6R9  18.526168  18.980010  18.552370  18.053848  ...   16.578231   \n",
       "A0A075B6S2  21.897501  21.791846  21.193585  21.543841  ...   21.897031   \n",
       "...               ...        ...        ...        ...  ...         ...   \n",
       "Q9Y5C1      12.248479  12.370819  12.929078  11.646316  ...   12.772336   \n",
       "Q9Y5Y7      14.282206  14.722489  14.725822  13.838443  ...   13.712093   \n",
       "Q9Y6R7      13.487235  14.068817  14.930436  14.300234  ...   12.995997   \n",
       "Q9Y6Z7      13.201056        NaN  13.830207        NaN  ...   12.411197   \n",
       "V9GYM3      24.410428  24.562142  24.776309  24.402429  ...   23.681672   \n",
       "\n",
       "            Plate7_C12  Plate7_D1  Plate7_D2  \n",
       "Protein ID                                    \n",
       "A0A024R6I7   11.550063        NaN  20.923524  \n",
       "A0A075B6I0   18.415463  18.226387  18.530668  \n",
       "A0A075B6J9   17.057015  17.021873  19.259006  \n",
       "A0A075B6R9   18.503624  17.433012  17.229518  \n",
       "A0A075B6S2   22.249955  22.366180  22.563550  \n",
       "...                ...        ...        ...  \n",
       "Q9Y5C1       11.199029  12.453085  12.019185  \n",
       "Q9Y5Y7       13.139398  13.203252  13.381890  \n",
       "Q9Y6R7       12.991006        NaN  12.792394  \n",
       "Q9Y6Z7             NaN        NaN        NaN  \n",
       "V9GYM3       24.232875  23.847479  23.201055  \n",
       "\n",
       "[304 rows x 599 columns]"
      ]
     },
     "execution_count": 23,
     "metadata": {},
     "output_type": "execute_result"
    }
   ],
   "source": [
    "# data_plasma_filtered = convert_to_numeric(data_plasma_filtered)\n",
    "# data_plasma_filtered_log = np.log2(data_plasma_filtered)\n",
    "data_plasma_filtered_log = data_plasma_filtered.apply(log2)\n",
    "data_plasma_filtered_log"
   ]
  },
  {
   "cell_type": "markdown",
   "metadata": {
    "Collapsed": "false"
   },
   "source": [
    "##### Imputation\n",
    "\n",
    "- imputation is done before coefficient of variation (CV)\n",
    "- is this sensible?"
   ]
  },
  {
   "cell_type": "code",
   "execution_count": 24,
   "metadata": {
    "Collapsed": "false"
   },
   "outputs": [],
   "source": [
    "data_plasma_filtered_log_imputed = data_plasma_filtered_log.apply(imputation_normal_distribution)"
   ]
  },
  {
   "cell_type": "code",
   "execution_count": 25,
   "metadata": {
    "Collapsed": "false"
   },
   "outputs": [],
   "source": [
    "assert data_plasma_filtered_log_imputed.loc['Q9Y6Z7', 'Plate1_A2'] - 9.770809 < 0.0001, 'Imputed value changed in comparison to previous run'"
   ]
  },
  {
   "cell_type": "code",
   "execution_count": 26,
   "metadata": {
    "Collapsed": "false"
   },
   "outputs": [],
   "source": [
    "# ToDo: Look at distribution of imputed values vs non-imputed values by protein."
   ]
  },
  {
   "cell_type": "code",
   "execution_count": 27,
   "metadata": {
    "Collapsed": "false"
   },
   "outputs": [],
   "source": [
    "from pathlib import Path\n",
    "file = Path('data/processed/plasma_processed.csv')\n",
    "file.parent.mkdir(parents=True, exist_ok=True)"
   ]
  },
  {
   "cell_type": "code",
   "execution_count": 28,
   "metadata": {
    "Collapsed": "false"
   },
   "outputs": [],
   "source": [
    "import logging\n",
    "try:\n",
    "    data_plasma_filtered_log_imputed.to_csv(file.absolute())\n",
    "except PermissionError as e:\n",
    "    logging.warning(f\"No write permission to directory: {e}\")"
   ]
  },
  {
   "cell_type": "markdown",
   "metadata": {
    "Collapsed": "false"
   },
   "source": [
    "ToDo: Standardize before imputing ?"
   ]
  },
  {
   "cell_type": "code",
   "execution_count": 29,
   "metadata": {
    "Collapsed": "false"
   },
   "outputs": [
    {
     "data": {
      "text/html": [
       "<div>\n",
       "<style scoped>\n",
       "    .dataframe tbody tr th:only-of-type {\n",
       "        vertical-align: middle;\n",
       "    }\n",
       "\n",
       "    .dataframe tbody tr th {\n",
       "        vertical-align: top;\n",
       "    }\n",
       "\n",
       "    .dataframe thead th {\n",
       "        text-align: right;\n",
       "    }\n",
       "</style>\n",
       "<table border=\"1\" class=\"dataframe\">\n",
       "  <thead>\n",
       "    <tr style=\"text-align: right;\">\n",
       "      <th></th>\n",
       "      <th>Plate1_A1</th>\n",
       "      <th>Plate1_A2</th>\n",
       "      <th>Plate1_A3</th>\n",
       "      <th>Plate1_A4</th>\n",
       "      <th>...</th>\n",
       "      <th>Plate7_C11</th>\n",
       "      <th>Plate7_C12</th>\n",
       "      <th>Plate7_D1</th>\n",
       "      <th>Plate7_D2</th>\n",
       "    </tr>\n",
       "    <tr>\n",
       "      <th>Protein ID</th>\n",
       "      <th></th>\n",
       "      <th></th>\n",
       "      <th></th>\n",
       "      <th></th>\n",
       "      <th></th>\n",
       "      <th></th>\n",
       "      <th></th>\n",
       "      <th></th>\n",
       "      <th></th>\n",
       "    </tr>\n",
       "  </thead>\n",
       "  <tbody>\n",
       "    <tr>\n",
       "      <th>A0A024R6I7</th>\n",
       "      <td>6.200196e+05</td>\n",
       "      <td>2.331762e+06</td>\n",
       "      <td>2.586371e+04</td>\n",
       "      <td>5.338210e+03</td>\n",
       "      <td>...</td>\n",
       "      <td>4.113509e+03</td>\n",
       "      <td>2.998578e+03</td>\n",
       "      <td>NaN</td>\n",
       "      <td>1.988878e+06</td>\n",
       "    </tr>\n",
       "    <tr>\n",
       "      <th>A0A075B6I0</th>\n",
       "      <td>6.295342e+05</td>\n",
       "      <td>8.450854e+05</td>\n",
       "      <td>2.373902e+05</td>\n",
       "      <td>3.643702e+05</td>\n",
       "      <td>...</td>\n",
       "      <td>4.722763e+05</td>\n",
       "      <td>3.496285e+05</td>\n",
       "      <td>3.066827e+05</td>\n",
       "      <td>3.786927e+05</td>\n",
       "    </tr>\n",
       "    <tr>\n",
       "      <th>A0A075B6J9</th>\n",
       "      <td>1.681740e+05</td>\n",
       "      <td>1.627395e+05</td>\n",
       "      <td>1.855113e+05</td>\n",
       "      <td>9.158264e+04</td>\n",
       "      <td>...</td>\n",
       "      <td>3.596762e+04</td>\n",
       "      <td>1.363557e+05</td>\n",
       "      <td>1.330743e+05</td>\n",
       "      <td>6.273911e+05</td>\n",
       "    </tr>\n",
       "    <tr>\n",
       "      <th>A0A075B6R9</th>\n",
       "      <td>3.775132e+05</td>\n",
       "      <td>5.170737e+05</td>\n",
       "      <td>3.844323e+05</td>\n",
       "      <td>2.721132e+05</td>\n",
       "      <td>...</td>\n",
       "      <td>9.784640e+04</td>\n",
       "      <td>3.716600e+05</td>\n",
       "      <td>1.769536e+05</td>\n",
       "      <td>1.536745e+05</td>\n",
       "    </tr>\n",
       "    <tr>\n",
       "      <th>A0A075B6S2</th>\n",
       "      <td>3.906652e+06</td>\n",
       "      <td>3.630775e+06</td>\n",
       "      <td>2.398308e+06</td>\n",
       "      <td>3.057330e+06</td>\n",
       "      <td>...</td>\n",
       "      <td>3.905379e+06</td>\n",
       "      <td>4.987740e+06</td>\n",
       "      <td>5.406188e+06</td>\n",
       "      <td>6.198768e+06</td>\n",
       "    </tr>\n",
       "    <tr>\n",
       "      <th>...</th>\n",
       "      <td>...</td>\n",
       "      <td>...</td>\n",
       "      <td>...</td>\n",
       "      <td>...</td>\n",
       "      <td>...</td>\n",
       "      <td>...</td>\n",
       "      <td>...</td>\n",
       "      <td>...</td>\n",
       "      <td>...</td>\n",
       "    </tr>\n",
       "    <tr>\n",
       "      <th>Q9Y5C1</th>\n",
       "      <td>4.865861e+03</td>\n",
       "      <td>5.296482e+03</td>\n",
       "      <td>7.799022e+03</td>\n",
       "      <td>3.205460e+03</td>\n",
       "      <td>...</td>\n",
       "      <td>6.996103e+03</td>\n",
       "      <td>2.350951e+03</td>\n",
       "      <td>5.607277e+03</td>\n",
       "      <td>4.150832e+03</td>\n",
       "    </tr>\n",
       "    <tr>\n",
       "      <th>Q9Y5Y7</th>\n",
       "      <td>1.992382e+04</td>\n",
       "      <td>2.703403e+04</td>\n",
       "      <td>2.709656e+04</td>\n",
       "      <td>1.464827e+04</td>\n",
       "      <td>...</td>\n",
       "      <td>1.341996e+04</td>\n",
       "      <td>9.023039e+03</td>\n",
       "      <td>9.431375e+03</td>\n",
       "      <td>1.067457e+04</td>\n",
       "    </tr>\n",
       "    <tr>\n",
       "      <th>Q9Y6R7</th>\n",
       "      <td>1.148318e+04</td>\n",
       "      <td>1.718446e+04</td>\n",
       "      <td>3.122548e+04</td>\n",
       "      <td>2.017434e+04</td>\n",
       "      <td>...</td>\n",
       "      <td>8.169301e+03</td>\n",
       "      <td>8.141091e+03</td>\n",
       "      <td>NaN</td>\n",
       "      <td>7.094049e+03</td>\n",
       "    </tr>\n",
       "    <tr>\n",
       "      <th>Q9Y6Z7</th>\n",
       "      <td>9.417028e+03</td>\n",
       "      <td>NaN</td>\n",
       "      <td>1.456488e+04</td>\n",
       "      <td>NaN</td>\n",
       "      <td>...</td>\n",
       "      <td>5.446813e+03</td>\n",
       "      <td>NaN</td>\n",
       "      <td>NaN</td>\n",
       "      <td>NaN</td>\n",
       "    </tr>\n",
       "    <tr>\n",
       "      <th>V9GYM3</th>\n",
       "      <td>2.229827e+07</td>\n",
       "      <td>2.477089e+07</td>\n",
       "      <td>2.873506e+07</td>\n",
       "      <td>2.217497e+07</td>\n",
       "      <td>...</td>\n",
       "      <td>1.345530e+07</td>\n",
       "      <td>1.971616e+07</td>\n",
       "      <td>1.509408e+07</td>\n",
       "      <td>9.643030e+06</td>\n",
       "    </tr>\n",
       "  </tbody>\n",
       "</table>\n",
       "<p>304 rows × 599 columns</p>\n",
       "</div>"
      ],
      "text/plain": [
       "               Plate1_A1     Plate1_A2     Plate1_A3     Plate1_A4  ...  \\\n",
       "Protein ID                                                          ...   \n",
       "A0A024R6I7  6.200196e+05  2.331762e+06  2.586371e+04  5.338210e+03  ...   \n",
       "A0A075B6I0  6.295342e+05  8.450854e+05  2.373902e+05  3.643702e+05  ...   \n",
       "A0A075B6J9  1.681740e+05  1.627395e+05  1.855113e+05  9.158264e+04  ...   \n",
       "A0A075B6R9  3.775132e+05  5.170737e+05  3.844323e+05  2.721132e+05  ...   \n",
       "A0A075B6S2  3.906652e+06  3.630775e+06  2.398308e+06  3.057330e+06  ...   \n",
       "...                  ...           ...           ...           ...  ...   \n",
       "Q9Y5C1      4.865861e+03  5.296482e+03  7.799022e+03  3.205460e+03  ...   \n",
       "Q9Y5Y7      1.992382e+04  2.703403e+04  2.709656e+04  1.464827e+04  ...   \n",
       "Q9Y6R7      1.148318e+04  1.718446e+04  3.122548e+04  2.017434e+04  ...   \n",
       "Q9Y6Z7      9.417028e+03           NaN  1.456488e+04           NaN  ...   \n",
       "V9GYM3      2.229827e+07  2.477089e+07  2.873506e+07  2.217497e+07  ...   \n",
       "\n",
       "              Plate7_C11    Plate7_C12     Plate7_D1     Plate7_D2  \n",
       "Protein ID                                                          \n",
       "A0A024R6I7  4.113509e+03  2.998578e+03           NaN  1.988878e+06  \n",
       "A0A075B6I0  4.722763e+05  3.496285e+05  3.066827e+05  3.786927e+05  \n",
       "A0A075B6J9  3.596762e+04  1.363557e+05  1.330743e+05  6.273911e+05  \n",
       "A0A075B6R9  9.784640e+04  3.716600e+05  1.769536e+05  1.536745e+05  \n",
       "A0A075B6S2  3.905379e+06  4.987740e+06  5.406188e+06  6.198768e+06  \n",
       "...                  ...           ...           ...           ...  \n",
       "Q9Y5C1      6.996103e+03  2.350951e+03  5.607277e+03  4.150832e+03  \n",
       "Q9Y5Y7      1.341996e+04  9.023039e+03  9.431375e+03  1.067457e+04  \n",
       "Q9Y6R7      8.169301e+03  8.141091e+03           NaN  7.094049e+03  \n",
       "Q9Y6Z7      5.446813e+03           NaN           NaN           NaN  \n",
       "V9GYM3      1.345530e+07  1.971616e+07  1.509408e+07  9.643030e+06  \n",
       "\n",
       "[304 rows x 599 columns]"
      ]
     },
     "execution_count": 29,
     "metadata": {},
     "output_type": "execute_result"
    }
   ],
   "source": [
    "data_plasma_filtered"
   ]
  },
  {
   "cell_type": "code",
   "execution_count": 30,
   "metadata": {
    "Collapsed": "false"
   },
   "outputs": [],
   "source": [
    "qc_plasma = annotation_file_plasma[annotation_file_plasma['Group2'] == 'QC']['Sample ID']\n",
    "df_qc = data_plasma_filtered.copy()[qc_plasma]\n",
    "coef_of_variation = lambda x: np.std(x) / np.mean(x)\n",
    "proteins_cv = df_qc.apply(coef_of_variation, axis = 1)"
   ]
  },
  {
   "cell_type": "code",
   "execution_count": 31,
   "metadata": {
    "Collapsed": "false"
   },
   "outputs": [
    {
     "name": "stdout",
     "output_type": "stream",
     "text": [
      "Selected proteins # 219 of a total of # 304!\n"
     ]
    }
   ],
   "source": [
    "CV_COEFFICIENT = 0.3\n",
    "cv_selected = proteins_cv < CV_COEFFICIENT\n",
    "print(f\"Selected proteins # {cv_selected.sum()} of a total of # {len(cv_selected)}!\")"
   ]
  },
  {
   "cell_type": "code",
   "execution_count": 32,
   "metadata": {
    "Collapsed": "false"
   },
   "outputs": [],
   "source": [
    "df_qc = df_qc.assign(cv = proteins_cv)\n",
    "qc_30 = df_qc[cv_selected].index\n",
    "\n",
    "df = data_plasma_filtered_log_imputed.copy()\n",
    "df = df.rename_axis('Sample ID', axis=1).T\n",
    "# filter proteins for CV < 30% of the inter-day/plate quality assessment \n",
    "df_30 = df[qc_30]\n",
    "data_proteomics = df_30"
   ]
  },
  {
   "cell_type": "code",
   "execution_count": 33,
   "metadata": {
    "Collapsed": "false"
   },
   "outputs": [
    {
     "data": {
      "text/html": [
       "<div>\n",
       "<style scoped>\n",
       "    .dataframe tbody tr th:only-of-type {\n",
       "        vertical-align: middle;\n",
       "    }\n",
       "\n",
       "    .dataframe tbody tr th {\n",
       "        vertical-align: top;\n",
       "    }\n",
       "\n",
       "    .dataframe thead th {\n",
       "        text-align: right;\n",
       "    }\n",
       "</style>\n",
       "<table border=\"1\" class=\"dataframe\">\n",
       "  <thead>\n",
       "    <tr style=\"text-align: right;\">\n",
       "      <th>Protein ID</th>\n",
       "      <th>A0A024R6I7</th>\n",
       "      <th>A0A075B6I0</th>\n",
       "      <th>A0A075B6J9</th>\n",
       "      <th>A0A075B6R9</th>\n",
       "      <th>...</th>\n",
       "      <th>Q9Y5C1</th>\n",
       "      <th>Q9Y5Y7</th>\n",
       "      <th>Q9Y6Z7</th>\n",
       "      <th>V9GYM3</th>\n",
       "    </tr>\n",
       "    <tr>\n",
       "      <th>Sample ID</th>\n",
       "      <th></th>\n",
       "      <th></th>\n",
       "      <th></th>\n",
       "      <th></th>\n",
       "      <th></th>\n",
       "      <th></th>\n",
       "      <th></th>\n",
       "      <th></th>\n",
       "      <th></th>\n",
       "    </tr>\n",
       "  </thead>\n",
       "  <tbody>\n",
       "    <tr>\n",
       "      <th>Plate1_A1</th>\n",
       "      <td>19.241954</td>\n",
       "      <td>19.263925</td>\n",
       "      <td>17.359595</td>\n",
       "      <td>18.526168</td>\n",
       "      <td>...</td>\n",
       "      <td>12.248479</td>\n",
       "      <td>14.282206</td>\n",
       "      <td>13.201056</td>\n",
       "      <td>24.410428</td>\n",
       "    </tr>\n",
       "    <tr>\n",
       "      <th>Plate1_A2</th>\n",
       "      <td>21.152989</td>\n",
       "      <td>19.688738</td>\n",
       "      <td>17.312205</td>\n",
       "      <td>18.980010</td>\n",
       "      <td>...</td>\n",
       "      <td>12.370819</td>\n",
       "      <td>14.722489</td>\n",
       "      <td>9.503856</td>\n",
       "      <td>24.562142</td>\n",
       "    </tr>\n",
       "    <tr>\n",
       "      <th>Plate1_A3</th>\n",
       "      <td>14.658642</td>\n",
       "      <td>17.856901</td>\n",
       "      <td>17.501147</td>\n",
       "      <td>18.552370</td>\n",
       "      <td>...</td>\n",
       "      <td>12.929078</td>\n",
       "      <td>14.725822</td>\n",
       "      <td>13.830207</td>\n",
       "      <td>24.776309</td>\n",
       "    </tr>\n",
       "    <tr>\n",
       "      <th>Plate1_A4</th>\n",
       "      <td>12.382140</td>\n",
       "      <td>18.475045</td>\n",
       "      <td>16.482787</td>\n",
       "      <td>18.053848</td>\n",
       "      <td>...</td>\n",
       "      <td>11.646316</td>\n",
       "      <td>13.838443</td>\n",
       "      <td>9.544955</td>\n",
       "      <td>24.402429</td>\n",
       "    </tr>\n",
       "    <tr>\n",
       "      <th>Plate1_A5</th>\n",
       "      <td>11.449945</td>\n",
       "      <td>18.653026</td>\n",
       "      <td>15.673456</td>\n",
       "      <td>17.827835</td>\n",
       "      <td>...</td>\n",
       "      <td>12.144853</td>\n",
       "      <td>14.278546</td>\n",
       "      <td>9.453771</td>\n",
       "      <td>24.842651</td>\n",
       "    </tr>\n",
       "    <tr>\n",
       "      <th>...</th>\n",
       "      <td>...</td>\n",
       "      <td>...</td>\n",
       "      <td>...</td>\n",
       "      <td>...</td>\n",
       "      <td>...</td>\n",
       "      <td>...</td>\n",
       "      <td>...</td>\n",
       "      <td>...</td>\n",
       "      <td>...</td>\n",
       "    </tr>\n",
       "    <tr>\n",
       "      <th>Plate7_C10</th>\n",
       "      <td>13.992607</td>\n",
       "      <td>17.711436</td>\n",
       "      <td>17.170434</td>\n",
       "      <td>17.593782</td>\n",
       "      <td>...</td>\n",
       "      <td>12.622469</td>\n",
       "      <td>13.450106</td>\n",
       "      <td>14.258025</td>\n",
       "      <td>24.261786</td>\n",
       "    </tr>\n",
       "    <tr>\n",
       "      <th>Plate7_C11</th>\n",
       "      <td>12.006154</td>\n",
       "      <td>18.849272</td>\n",
       "      <td>15.134411</td>\n",
       "      <td>16.578231</td>\n",
       "      <td>...</td>\n",
       "      <td>12.772336</td>\n",
       "      <td>13.712093</td>\n",
       "      <td>12.411197</td>\n",
       "      <td>23.681672</td>\n",
       "    </tr>\n",
       "    <tr>\n",
       "      <th>Plate7_C12</th>\n",
       "      <td>11.550063</td>\n",
       "      <td>18.415463</td>\n",
       "      <td>17.057015</td>\n",
       "      <td>18.503624</td>\n",
       "      <td>...</td>\n",
       "      <td>11.199029</td>\n",
       "      <td>13.139398</td>\n",
       "      <td>9.166826</td>\n",
       "      <td>24.232875</td>\n",
       "    </tr>\n",
       "    <tr>\n",
       "      <th>Plate7_D1</th>\n",
       "      <td>9.276715</td>\n",
       "      <td>18.226387</td>\n",
       "      <td>17.021873</td>\n",
       "      <td>17.433012</td>\n",
       "      <td>...</td>\n",
       "      <td>12.453085</td>\n",
       "      <td>13.203252</td>\n",
       "      <td>9.276715</td>\n",
       "      <td>23.847479</td>\n",
       "    </tr>\n",
       "    <tr>\n",
       "      <th>Plate7_D2</th>\n",
       "      <td>20.923524</td>\n",
       "      <td>18.530668</td>\n",
       "      <td>19.259006</td>\n",
       "      <td>17.229518</td>\n",
       "      <td>...</td>\n",
       "      <td>12.019185</td>\n",
       "      <td>13.381890</td>\n",
       "      <td>9.078005</td>\n",
       "      <td>23.201055</td>\n",
       "    </tr>\n",
       "  </tbody>\n",
       "</table>\n",
       "<p>599 rows × 219 columns</p>\n",
       "</div>"
      ],
      "text/plain": [
       "Protein ID  A0A024R6I7  A0A075B6I0  A0A075B6J9  A0A075B6R9  ...     Q9Y5C1  \\\n",
       "Sample ID                                                   ...              \n",
       "Plate1_A1    19.241954   19.263925   17.359595   18.526168  ...  12.248479   \n",
       "Plate1_A2    21.152989   19.688738   17.312205   18.980010  ...  12.370819   \n",
       "Plate1_A3    14.658642   17.856901   17.501147   18.552370  ...  12.929078   \n",
       "Plate1_A4    12.382140   18.475045   16.482787   18.053848  ...  11.646316   \n",
       "Plate1_A5    11.449945   18.653026   15.673456   17.827835  ...  12.144853   \n",
       "...                ...         ...         ...         ...  ...        ...   \n",
       "Plate7_C10   13.992607   17.711436   17.170434   17.593782  ...  12.622469   \n",
       "Plate7_C11   12.006154   18.849272   15.134411   16.578231  ...  12.772336   \n",
       "Plate7_C12   11.550063   18.415463   17.057015   18.503624  ...  11.199029   \n",
       "Plate7_D1     9.276715   18.226387   17.021873   17.433012  ...  12.453085   \n",
       "Plate7_D2    20.923524   18.530668   19.259006   17.229518  ...  12.019185   \n",
       "\n",
       "Protein ID     Q9Y5Y7     Q9Y6Z7     V9GYM3  \n",
       "Sample ID                                    \n",
       "Plate1_A1   14.282206  13.201056  24.410428  \n",
       "Plate1_A2   14.722489   9.503856  24.562142  \n",
       "Plate1_A3   14.725822  13.830207  24.776309  \n",
       "Plate1_A4   13.838443   9.544955  24.402429  \n",
       "Plate1_A5   14.278546   9.453771  24.842651  \n",
       "...               ...        ...        ...  \n",
       "Plate7_C10  13.450106  14.258025  24.261786  \n",
       "Plate7_C11  13.712093  12.411197  23.681672  \n",
       "Plate7_C12  13.139398   9.166826  24.232875  \n",
       "Plate7_D1   13.203252   9.276715  23.847479  \n",
       "Plate7_D2   13.381890   9.078005  23.201055  \n",
       "\n",
       "[599 rows x 219 columns]"
      ]
     },
     "execution_count": 33,
     "metadata": {},
     "output_type": "execute_result"
    }
   ],
   "source": [
    "data_proteomics"
   ]
  },
  {
   "cell_type": "code",
   "execution_count": 34,
   "metadata": {
    "Collapsed": "false"
   },
   "outputs": [
    {
     "data": {
      "text/html": [
       "<div>\n",
       "<style scoped>\n",
       "    .dataframe tbody tr th:only-of-type {\n",
       "        vertical-align: middle;\n",
       "    }\n",
       "\n",
       "    .dataframe tbody tr th {\n",
       "        vertical-align: top;\n",
       "    }\n",
       "\n",
       "    .dataframe thead th {\n",
       "        text-align: right;\n",
       "    }\n",
       "</style>\n",
       "<table border=\"1\" class=\"dataframe\">\n",
       "  <thead>\n",
       "    <tr style=\"text-align: right;\">\n",
       "      <th>Protein ID</th>\n",
       "      <th>E9PEP6</th>\n",
       "      <th>P20742</th>\n",
       "      <th>P23470</th>\n",
       "      <th>P29508</th>\n",
       "      <th>P32119</th>\n",
       "      <th>P34096</th>\n",
       "      <th>Q86UD1</th>\n",
       "    </tr>\n",
       "    <tr>\n",
       "      <th>Sample ID</th>\n",
       "      <th></th>\n",
       "      <th></th>\n",
       "      <th></th>\n",
       "      <th></th>\n",
       "      <th></th>\n",
       "      <th></th>\n",
       "      <th></th>\n",
       "    </tr>\n",
       "  </thead>\n",
       "  <tbody>\n",
       "    <tr>\n",
       "      <th>Plate2_G11</th>\n",
       "      <td>7.943981</td>\n",
       "      <td>NaN</td>\n",
       "      <td>NaN</td>\n",
       "      <td>NaN</td>\n",
       "      <td>NaN</td>\n",
       "      <td>NaN</td>\n",
       "      <td>NaN</td>\n",
       "    </tr>\n",
       "    <tr>\n",
       "      <th>Plate3_E12</th>\n",
       "      <td>NaN</td>\n",
       "      <td>NaN</td>\n",
       "      <td>NaN</td>\n",
       "      <td>NaN</td>\n",
       "      <td>6.6718</td>\n",
       "      <td>NaN</td>\n",
       "      <td>NaN</td>\n",
       "    </tr>\n",
       "    <tr>\n",
       "      <th>Plate5_C4</th>\n",
       "      <td>NaN</td>\n",
       "      <td>NaN</td>\n",
       "      <td>NaN</td>\n",
       "      <td>NaN</td>\n",
       "      <td>NaN</td>\n",
       "      <td>0.0</td>\n",
       "      <td>NaN</td>\n",
       "    </tr>\n",
       "    <tr>\n",
       "      <th>Plate5_C9</th>\n",
       "      <td>NaN</td>\n",
       "      <td>NaN</td>\n",
       "      <td>NaN</td>\n",
       "      <td>NaN</td>\n",
       "      <td>NaN</td>\n",
       "      <td>NaN</td>\n",
       "      <td>7.997238</td>\n",
       "    </tr>\n",
       "    <tr>\n",
       "      <th>Plate5_H7</th>\n",
       "      <td>NaN</td>\n",
       "      <td>NaN</td>\n",
       "      <td>0.0</td>\n",
       "      <td>NaN</td>\n",
       "      <td>NaN</td>\n",
       "      <td>NaN</td>\n",
       "      <td>NaN</td>\n",
       "    </tr>\n",
       "    <tr>\n",
       "      <th>Plate6_C4</th>\n",
       "      <td>NaN</td>\n",
       "      <td>NaN</td>\n",
       "      <td>NaN</td>\n",
       "      <td>6.994776</td>\n",
       "      <td>NaN</td>\n",
       "      <td>NaN</td>\n",
       "      <td>NaN</td>\n",
       "    </tr>\n",
       "    <tr>\n",
       "      <th>Plate7_A9</th>\n",
       "      <td>NaN</td>\n",
       "      <td>7.516699</td>\n",
       "      <td>NaN</td>\n",
       "      <td>NaN</td>\n",
       "      <td>NaN</td>\n",
       "      <td>NaN</td>\n",
       "      <td>NaN</td>\n",
       "    </tr>\n",
       "  </tbody>\n",
       "</table>\n",
       "</div>"
      ],
      "text/plain": [
       "Protein ID    E9PEP6    P20742  P23470    P29508  P32119  P34096    Q86UD1\n",
       "Sample ID                                                                 \n",
       "Plate2_G11  7.943981       NaN     NaN       NaN     NaN     NaN       NaN\n",
       "Plate3_E12       NaN       NaN     NaN       NaN  6.6718     NaN       NaN\n",
       "Plate5_C4        NaN       NaN     NaN       NaN     NaN     0.0       NaN\n",
       "Plate5_C9        NaN       NaN     NaN       NaN     NaN     NaN  7.997238\n",
       "Plate5_H7        NaN       NaN     0.0       NaN     NaN     NaN       NaN\n",
       "Plate6_C4        NaN       NaN     NaN  6.994776     NaN     NaN       NaN\n",
       "Plate7_A9        NaN  7.516699     NaN       NaN     NaN     NaN       NaN"
      ]
     },
     "execution_count": 34,
     "metadata": {},
     "output_type": "execute_result"
    }
   ],
   "source": [
    "intensities_below_8 = data_proteomics[data_proteomics < 8].dropna(how='all').dropna(how='all', axis=1)\n",
    "intensities_below_8"
   ]
  },
  {
   "cell_type": "code",
   "execution_count": 35,
   "metadata": {
    "Collapsed": "false"
   },
   "outputs": [
    {
     "data": {
      "text/html": [
       "<div>\n",
       "<style scoped>\n",
       "    .dataframe tbody tr th:only-of-type {\n",
       "        vertical-align: middle;\n",
       "    }\n",
       "\n",
       "    .dataframe tbody tr th {\n",
       "        vertical-align: top;\n",
       "    }\n",
       "\n",
       "    .dataframe thead th {\n",
       "        text-align: right;\n",
       "    }\n",
       "</style>\n",
       "<table border=\"1\" class=\"dataframe\">\n",
       "  <thead>\n",
       "    <tr style=\"text-align: right;\">\n",
       "      <th>Protein ID</th>\n",
       "      <th>E9PEP6</th>\n",
       "      <th>P20742</th>\n",
       "      <th>P23470</th>\n",
       "      <th>P29508</th>\n",
       "      <th>P32119</th>\n",
       "      <th>P34096</th>\n",
       "      <th>Q86UD1</th>\n",
       "    </tr>\n",
       "    <tr>\n",
       "      <th>Sample ID</th>\n",
       "      <th></th>\n",
       "      <th></th>\n",
       "      <th></th>\n",
       "      <th></th>\n",
       "      <th></th>\n",
       "      <th></th>\n",
       "      <th></th>\n",
       "    </tr>\n",
       "  </thead>\n",
       "  <tbody>\n",
       "    <tr>\n",
       "      <th>Plate2_G11</th>\n",
       "      <td>7.943981</td>\n",
       "      <td>9.218392</td>\n",
       "      <td>12.627170</td>\n",
       "      <td>9.218392</td>\n",
       "      <td>12.689431</td>\n",
       "      <td>12.141700</td>\n",
       "      <td>14.219719</td>\n",
       "    </tr>\n",
       "    <tr>\n",
       "      <th>Plate3_E12</th>\n",
       "      <td>8.930690</td>\n",
       "      <td>18.398998</td>\n",
       "      <td>12.498869</td>\n",
       "      <td>8.930690</td>\n",
       "      <td>6.671800</td>\n",
       "      <td>11.506953</td>\n",
       "      <td>13.143613</td>\n",
       "    </tr>\n",
       "    <tr>\n",
       "      <th>Plate5_C4</th>\n",
       "      <td>8.748182</td>\n",
       "      <td>18.163920</td>\n",
       "      <td>12.993120</td>\n",
       "      <td>21.373968</td>\n",
       "      <td>13.405002</td>\n",
       "      <td>0.000000</td>\n",
       "      <td>12.974315</td>\n",
       "    </tr>\n",
       "    <tr>\n",
       "      <th>Plate5_C9</th>\n",
       "      <td>9.181562</td>\n",
       "      <td>15.631481</td>\n",
       "      <td>12.443023</td>\n",
       "      <td>21.339160</td>\n",
       "      <td>14.487712</td>\n",
       "      <td>11.500707</td>\n",
       "      <td>7.997238</td>\n",
       "    </tr>\n",
       "    <tr>\n",
       "      <th>Plate5_H7</th>\n",
       "      <td>8.675619</td>\n",
       "      <td>14.654771</td>\n",
       "      <td>0.000000</td>\n",
       "      <td>21.481735</td>\n",
       "      <td>13.630898</td>\n",
       "      <td>11.832212</td>\n",
       "      <td>13.037990</td>\n",
       "    </tr>\n",
       "    <tr>\n",
       "      <th>Plate6_C4</th>\n",
       "      <td>13.914996</td>\n",
       "      <td>12.411481</td>\n",
       "      <td>13.779482</td>\n",
       "      <td>6.994776</td>\n",
       "      <td>12.838674</td>\n",
       "      <td>12.912724</td>\n",
       "      <td>9.326952</td>\n",
       "    </tr>\n",
       "    <tr>\n",
       "      <th>Plate7_A9</th>\n",
       "      <td>12.679690</td>\n",
       "      <td>7.516699</td>\n",
       "      <td>13.676987</td>\n",
       "      <td>21.267399</td>\n",
       "      <td>15.309246</td>\n",
       "      <td>9.170928</td>\n",
       "      <td>9.170928</td>\n",
       "    </tr>\n",
       "  </tbody>\n",
       "</table>\n",
       "</div>"
      ],
      "text/plain": [
       "Protein ID     E9PEP6     P20742     P23470     P29508     P32119     P34096  \\\n",
       "Sample ID                                                                      \n",
       "Plate2_G11   7.943981   9.218392  12.627170   9.218392  12.689431  12.141700   \n",
       "Plate3_E12   8.930690  18.398998  12.498869   8.930690   6.671800  11.506953   \n",
       "Plate5_C4    8.748182  18.163920  12.993120  21.373968  13.405002   0.000000   \n",
       "Plate5_C9    9.181562  15.631481  12.443023  21.339160  14.487712  11.500707   \n",
       "Plate5_H7    8.675619  14.654771   0.000000  21.481735  13.630898  11.832212   \n",
       "Plate6_C4   13.914996  12.411481  13.779482   6.994776  12.838674  12.912724   \n",
       "Plate7_A9   12.679690   7.516699  13.676987  21.267399  15.309246   9.170928   \n",
       "\n",
       "Protein ID     Q86UD1  \n",
       "Sample ID              \n",
       "Plate2_G11  14.219719  \n",
       "Plate3_E12  13.143613  \n",
       "Plate5_C4   12.974315  \n",
       "Plate5_C9    7.997238  \n",
       "Plate5_H7   13.037990  \n",
       "Plate6_C4    9.326952  \n",
       "Plate7_A9    9.170928  "
      ]
     },
     "execution_count": 35,
     "metadata": {},
     "output_type": "execute_result"
    }
   ],
   "source": [
    "data_proteomics.loc[intensities_below_8.index, intensities_below_8.columns]"
   ]
  },
  {
   "cell_type": "markdown",
   "metadata": {
    "Collapsed": "false"
   },
   "source": [
    "Data proteomics is the summary of the following processing steps:\n",
    "\n",
    "1. protein is selected if shared betw. 60% of samples\n",
    "2. sample is selected if it has at least 200 proteins\n",
    "3. log-transform\n",
    "4. imputation (imputation done per protein between runs)\n",
    "5. selection using CV < 0.3\n",
    "\n",
    "> Maybe create an automated report of the cutoffs."
   ]
  },
  {
   "cell_type": "code",
   "execution_count": 36,
   "metadata": {},
   "outputs": [],
   "source": [
    "summary_protein_preprocessing = [(\"Proportion protein has to be shared between samples\" , DATA_COMPLETENESS),\n",
    "                                 (\"Minimum number of protein in single sample\", MIN_N_PROTEIN_GROUPS),\n",
    "                                 (\"Maximum coefficient of variation (CV) for protein intensities\", CV_COEFFICIENT),\n",
    "                                 (\"Logarithm employed for transformation\", NP_LOG_FCT),\n",
    "                                 (\"Imputation: Mean-Shift\", IMPUTATION_MEAN_SHIFT), \n",
    "                                 (\"Imputation: Std-Dev. shrinkage\", IMPUTATION_STD_SHRINKAGE)\n",
    "                                ]"
   ]
  },
  {
   "cell_type": "markdown",
   "metadata": {
    "Collapsed": "false"
   },
   "source": [
    "### Load Protein GeneID Mapping\n",
    "\n",
    "- UniProtID to Gene name mapping\n",
    "- the assigned protein groups are mapped to mainly one, sometimes two genes -> Global Identifiers?!\n"
   ]
  },
  {
   "cell_type": "code",
   "execution_count": 37,
   "metadata": {
    "Collapsed": "false"
   },
   "outputs": [
    {
     "data": {
      "text/html": [
       "<div>\n",
       "<style scoped>\n",
       "    .dataframe tbody tr th:only-of-type {\n",
       "        vertical-align: middle;\n",
       "    }\n",
       "\n",
       "    .dataframe tbody tr th {\n",
       "        vertical-align: top;\n",
       "    }\n",
       "\n",
       "    .dataframe thead th {\n",
       "        text-align: right;\n",
       "    }\n",
       "</style>\n",
       "<table border=\"1\" class=\"dataframe\">\n",
       "  <thead>\n",
       "    <tr style=\"text-align: right;\">\n",
       "      <th></th>\n",
       "      <th>Gene names</th>\n",
       "    </tr>\n",
       "    <tr>\n",
       "      <th>Protein ID</th>\n",
       "      <th></th>\n",
       "    </tr>\n",
       "  </thead>\n",
       "  <tbody>\n",
       "    <tr>\n",
       "      <th>A0A024R6I7</th>\n",
       "      <td>SERPINA1</td>\n",
       "    </tr>\n",
       "    <tr>\n",
       "      <th>A0A075B6I0</th>\n",
       "      <td>IGLV8-61</td>\n",
       "    </tr>\n",
       "    <tr>\n",
       "      <th>A0A075B6J9</th>\n",
       "      <td>IGLV2-18</td>\n",
       "    </tr>\n",
       "    <tr>\n",
       "      <th>A0A075B6R9</th>\n",
       "      <td>IGKV2D-24</td>\n",
       "    </tr>\n",
       "    <tr>\n",
       "      <th>A0A075B6S2</th>\n",
       "      <td>IGKV2D-29</td>\n",
       "    </tr>\n",
       "  </tbody>\n",
       "</table>\n",
       "</div>"
      ],
      "text/plain": [
       "           Gene names\n",
       "Protein ID           \n",
       "A0A024R6I7   SERPINA1\n",
       "A0A075B6I0   IGLV8-61\n",
       "A0A075B6J9   IGLV2-18\n",
       "A0A075B6R9  IGKV2D-24\n",
       "A0A075B6S2  IGKV2D-29"
      ]
     },
     "execution_count": 37,
     "metadata": {},
     "output_type": "execute_result"
    }
   ],
   "source": [
    "key_ProteinID = pd.read_csv(os.path.join(DATAFOLDER, 'ID_matching_key.csv'), \n",
    "                            index_col=\"Protein ID\").drop(\"Unnamed: 0\", axis=1)\n",
    "key_ProteinID.head()"
   ]
  },
  {
   "cell_type": "code",
   "execution_count": 38,
   "metadata": {
    "Collapsed": "false"
   },
   "outputs": [
    {
     "data": {
      "text/plain": [
       "Gene names    IGFALS\n",
       "Name: P35858, dtype: object"
      ]
     },
     "execution_count": 38,
     "metadata": {},
     "output_type": "execute_result"
    }
   ],
   "source": [
    "key_ProteinID.loc['P35858']"
   ]
  },
  {
   "cell_type": "markdown",
   "metadata": {
    "Collapsed": "false"
   },
   "source": [
    "## Clinical data\n",
    "### Load Complete clinical data"
   ]
  },
  {
   "cell_type": "code",
   "execution_count": 39,
   "metadata": {
    "Collapsed": "false"
   },
   "outputs": [
    {
     "data": {
      "text/html": [
       "<div>\n",
       "<style scoped>\n",
       "    .dataframe tbody tr th:only-of-type {\n",
       "        vertical-align: middle;\n",
       "    }\n",
       "\n",
       "    .dataframe tbody tr th {\n",
       "        vertical-align: top;\n",
       "    }\n",
       "\n",
       "    .dataframe thead th {\n",
       "        text-align: right;\n",
       "    }\n",
       "</style>\n",
       "<table border=\"1\" class=\"dataframe\">\n",
       "  <thead>\n",
       "    <tr style=\"text-align: right;\">\n",
       "      <th></th>\n",
       "      <th>age</th>\n",
       "      <th>kleiner</th>\n",
       "      <th>cpa</th>\n",
       "      <th>nas</th>\n",
       "      <th>...</th>\n",
       "      <th>group</th>\n",
       "      <th>group2</th>\n",
       "      <th>type</th>\n",
       "      <th>fibrosis_class</th>\n",
       "    </tr>\n",
       "    <tr>\n",
       "      <th>Sample ID</th>\n",
       "      <th></th>\n",
       "      <th></th>\n",
       "      <th></th>\n",
       "      <th></th>\n",
       "      <th></th>\n",
       "      <th></th>\n",
       "      <th></th>\n",
       "      <th></th>\n",
       "      <th></th>\n",
       "    </tr>\n",
       "  </thead>\n",
       "  <tbody>\n",
       "    <tr>\n",
       "      <th>Plate6_G11</th>\n",
       "      <td>64</td>\n",
       "      <td>3.0</td>\n",
       "      <td>9.216155</td>\n",
       "      <td>0.0</td>\n",
       "      <td>...</td>\n",
       "      <td>ALD</td>\n",
       "      <td>ALD</td>\n",
       "      <td>Compensated advanced fibrosis</td>\n",
       "      <td>F3-4</td>\n",
       "    </tr>\n",
       "    <tr>\n",
       "      <th>Plate1_F7</th>\n",
       "      <td>74</td>\n",
       "      <td>2.0</td>\n",
       "      <td>4.874057</td>\n",
       "      <td>3.0</td>\n",
       "      <td>...</td>\n",
       "      <td>ALD</td>\n",
       "      <td>ALD</td>\n",
       "      <td>Steatohepatitis</td>\n",
       "      <td>F2</td>\n",
       "    </tr>\n",
       "    <tr>\n",
       "      <th>Plate6_D2</th>\n",
       "      <td>71</td>\n",
       "      <td>1.0</td>\n",
       "      <td>3.199472</td>\n",
       "      <td>3.0</td>\n",
       "      <td>...</td>\n",
       "      <td>ALD</td>\n",
       "      <td>ALD</td>\n",
       "      <td>Steatohepatitis</td>\n",
       "      <td>F0-1</td>\n",
       "    </tr>\n",
       "    <tr>\n",
       "      <th>Plate6_C5</th>\n",
       "      <td>53</td>\n",
       "      <td>2.0</td>\n",
       "      <td>4.762666</td>\n",
       "      <td>5.0</td>\n",
       "      <td>...</td>\n",
       "      <td>ALD</td>\n",
       "      <td>ALD</td>\n",
       "      <td>Steatohepatitis</td>\n",
       "      <td>F2</td>\n",
       "    </tr>\n",
       "    <tr>\n",
       "      <th>Plate4_F8</th>\n",
       "      <td>63</td>\n",
       "      <td>4.0</td>\n",
       "      <td>13.702832</td>\n",
       "      <td>4.0</td>\n",
       "      <td>...</td>\n",
       "      <td>ALD</td>\n",
       "      <td>ALD</td>\n",
       "      <td>Compensated advanced fibrosis</td>\n",
       "      <td>F3-4</td>\n",
       "    </tr>\n",
       "  </tbody>\n",
       "</table>\n",
       "<p>5 rows × 164 columns</p>\n",
       "</div>"
      ],
      "text/plain": [
       "            age  kleiner        cpa  nas  ...  group  group2  \\\n",
       "Sample ID                                 ...                  \n",
       "Plate6_G11   64      3.0   9.216155  0.0  ...    ALD     ALD   \n",
       "Plate1_F7    74      2.0   4.874057  3.0  ...    ALD     ALD   \n",
       "Plate6_D2    71      1.0   3.199472  3.0  ...    ALD     ALD   \n",
       "Plate6_C5    53      2.0   4.762666  5.0  ...    ALD     ALD   \n",
       "Plate4_F8    63      4.0  13.702832  4.0  ...    ALD     ALD   \n",
       "\n",
       "                                     type  fibrosis_class  \n",
       "Sample ID                                                  \n",
       "Plate6_G11  Compensated advanced fibrosis            F3-4  \n",
       "Plate1_F7                 Steatohepatitis              F2  \n",
       "Plate6_D2                 Steatohepatitis            F0-1  \n",
       "Plate6_C5                 Steatohepatitis              F2  \n",
       "Plate4_F8   Compensated advanced fibrosis            F3-4  \n",
       "\n",
       "[5 rows x 164 columns]"
      ]
     },
     "execution_count": 39,
     "metadata": {},
     "output_type": "execute_result"
    }
   ],
   "source": [
    "PROTEOM  = 'data_ml_proteomics.csv'\n",
    "CLINICAL = 'df_cli_164.csv'\n",
    "COL_ID = 'Sample ID'\n",
    "f_data_clinic = os.path.join(DATAFOLDER, CLINICAL)\n",
    "data_cli = pd.read_csv(f_data_clinic, index_col=COL_ID)\n",
    "data_cli = data_cli[data_cli['kleiner']!=0.5]\n",
    "data_cli.head()"
   ]
  },
  {
   "cell_type": "code",
   "execution_count": 40,
   "metadata": {
    "Collapsed": "false"
   },
   "outputs": [
    {
     "data": {
      "application/vnd.jupyter.widget-view+json": {
       "model_id": "256069849d2849e281bda4b7dc7b16f3",
       "version_major": 2,
       "version_minor": 0
      },
      "text/plain": [
       "VBox(children=(SelectMultiple(options=('age', 'kleiner', 'cpa', 'nas', 'nas_inflam', 'nas_portinflam', 'nas_lo…"
      ]
     },
     "metadata": {},
     "output_type": "display_data"
    }
   ],
   "source": [
    "w_cols_cli = widgets.SelectMultiple(options=list(data_cli.columns))\n",
    "\n",
    "def show_selected_markers(columns):\n",
    "    if len(columns)> 0:\n",
    "        display(data_cli[list(w_cols_cli.value)])\n",
    "        display(data_cli[list(w_cols_cli.value)].describe())\n",
    "    else:\n",
    "        print('Select clinical markers')\n",
    "\n",
    "out_cli = widgets.interactive_output(show_selected_markers, {'columns': w_cols_cli})\n",
    "widgets.VBox([w_cols_cli, out_cli])"
   ]
  },
  {
   "cell_type": "markdown",
   "metadata": {
    "Collapsed": "false"
   },
   "source": [
    "### Selected Clinical markers\n",
    "\n",
    "Diagnostic comparators (existing best-in-class) biomarkers\n",
    "- state-of-the-art (**SOTA**) Fibrosis markers: \n",
    "    - `te`: transient elastography (sona liver scan)\n",
    "    - `swe`: 2-dimensional shear wave elastography\n",
    "    - `elf`: ELF test\n",
    "    - `ft`: FibroTest\n",
    "    - `fib4`: FIB4 score\n",
    "    - `apri`: APRI score\n",
    "    - `forns`: Forns score\n",
    "    - `p3np`: ProC3\n",
    "- Inflammation markers:\n",
    "    - M30=caspase-cleaved cytokeratin-18 fragments\n",
    "    - M65=total CK18\n",
    "    - AST:ALT ratio\n",
    "    - ProC3\n",
    "- Steatosis: Controlled attenuation parameter"
   ]
  },
  {
   "cell_type": "code",
   "execution_count": 41,
   "metadata": {
    "Collapsed": "false"
   },
   "outputs": [
    {
     "data": {
      "text/html": [
       "<div>\n",
       "<style scoped>\n",
       "    .dataframe tbody tr th:only-of-type {\n",
       "        vertical-align: middle;\n",
       "    }\n",
       "\n",
       "    .dataframe tbody tr th {\n",
       "        vertical-align: top;\n",
       "    }\n",
       "\n",
       "    .dataframe thead th {\n",
       "        text-align: right;\n",
       "    }\n",
       "</style>\n",
       "<table border=\"1\" class=\"dataframe\">\n",
       "  <thead>\n",
       "    <tr style=\"text-align: right;\">\n",
       "      <th></th>\n",
       "      <th>elf</th>\n",
       "      <th>ft</th>\n",
       "      <th>fib4</th>\n",
       "      <th>apri</th>\n",
       "      <th>forns</th>\n",
       "      <th>p3np</th>\n",
       "    </tr>\n",
       "    <tr>\n",
       "      <th>kleiner</th>\n",
       "      <th></th>\n",
       "      <th></th>\n",
       "      <th></th>\n",
       "      <th></th>\n",
       "      <th></th>\n",
       "      <th></th>\n",
       "    </tr>\n",
       "  </thead>\n",
       "  <tbody>\n",
       "    <tr>\n",
       "      <th>0.0</th>\n",
       "      <td>35</td>\n",
       "      <td>33</td>\n",
       "      <td>36</td>\n",
       "      <td>36</td>\n",
       "      <td>36</td>\n",
       "      <td>35</td>\n",
       "    </tr>\n",
       "    <tr>\n",
       "      <th>1.0</th>\n",
       "      <td>120</td>\n",
       "      <td>93</td>\n",
       "      <td>120</td>\n",
       "      <td>121</td>\n",
       "      <td>123</td>\n",
       "      <td>113</td>\n",
       "    </tr>\n",
       "    <tr>\n",
       "      <th>2.0</th>\n",
       "      <td>104</td>\n",
       "      <td>76</td>\n",
       "      <td>104</td>\n",
       "      <td>104</td>\n",
       "      <td>103</td>\n",
       "      <td>95</td>\n",
       "    </tr>\n",
       "    <tr>\n",
       "      <th>3.0</th>\n",
       "      <td>27</td>\n",
       "      <td>17</td>\n",
       "      <td>26</td>\n",
       "      <td>26</td>\n",
       "      <td>27</td>\n",
       "      <td>22</td>\n",
       "    </tr>\n",
       "    <tr>\n",
       "      <th>4.0</th>\n",
       "      <td>63</td>\n",
       "      <td>49</td>\n",
       "      <td>66</td>\n",
       "      <td>66</td>\n",
       "      <td>67</td>\n",
       "      <td>54</td>\n",
       "    </tr>\n",
       "  </tbody>\n",
       "</table>\n",
       "</div>"
      ],
      "text/plain": [
       "         elf  ft  fib4  apri  forns  p3np\n",
       "kleiner                                  \n",
       "0.0       35  33    36    36     36    35\n",
       "1.0      120  93   120   121    123   113\n",
       "2.0      104  76   104   104    103    95\n",
       "3.0       27  17    26    26     27    22\n",
       "4.0       63  49    66    66     67    54"
      ]
     },
     "execution_count": 41,
     "metadata": {},
     "output_type": "execute_result"
    }
   ],
   "source": [
    "#SOTA_fibrosis = ['te', 'swe', 'elf', 'ft', 'fib4', 'apri', 'forns', 'p3np']\n",
    "SOTA_fibrosis = ['elf', 'ft', 'fib4', 'apri', 'forns', 'p3np']\n",
    "data_cli.groupby('kleiner')[SOTA_fibrosis].count()"
   ]
  },
  {
   "cell_type": "code",
   "execution_count": 42,
   "metadata": {
    "Collapsed": "false"
   },
   "outputs": [
    {
     "data": {
      "text/html": [
       "<div>\n",
       "<style scoped>\n",
       "    .dataframe tbody tr th:only-of-type {\n",
       "        vertical-align: middle;\n",
       "    }\n",
       "\n",
       "    .dataframe tbody tr th {\n",
       "        vertical-align: top;\n",
       "    }\n",
       "\n",
       "    .dataframe thead th {\n",
       "        text-align: right;\n",
       "    }\n",
       "</style>\n",
       "<table border=\"1\" class=\"dataframe\">\n",
       "  <thead>\n",
       "    <tr style=\"text-align: right;\">\n",
       "      <th></th>\n",
       "      <th>nas_steatosis_ordinal</th>\n",
       "      <th>nas_inflam</th>\n",
       "      <th>kleiner</th>\n",
       "      <th>fib4</th>\n",
       "      <th>elf</th>\n",
       "      <th>ft</th>\n",
       "      <th>te</th>\n",
       "      <th>swe</th>\n",
       "      <th>aar</th>\n",
       "      <th>ast</th>\n",
       "      <th>apri</th>\n",
       "      <th>forns</th>\n",
       "      <th>m30</th>\n",
       "      <th>m65</th>\n",
       "      <th>meld</th>\n",
       "      <th>p3np</th>\n",
       "      <th>timp1</th>\n",
       "      <th>cap</th>\n",
       "    </tr>\n",
       "    <tr>\n",
       "      <th>Sample ID</th>\n",
       "      <th></th>\n",
       "      <th></th>\n",
       "      <th></th>\n",
       "      <th></th>\n",
       "      <th></th>\n",
       "      <th></th>\n",
       "      <th></th>\n",
       "      <th></th>\n",
       "      <th></th>\n",
       "      <th></th>\n",
       "      <th></th>\n",
       "      <th></th>\n",
       "      <th></th>\n",
       "      <th></th>\n",
       "      <th></th>\n",
       "      <th></th>\n",
       "      <th></th>\n",
       "      <th></th>\n",
       "    </tr>\n",
       "  </thead>\n",
       "  <tbody>\n",
       "    <tr>\n",
       "      <th>Plate6_G11</th>\n",
       "      <td>0.0</td>\n",
       "      <td>0.0</td>\n",
       "      <td>3.0</td>\n",
       "      <td>1.380000</td>\n",
       "      <td>8.7</td>\n",
       "      <td>0.29</td>\n",
       "      <td>9.3</td>\n",
       "      <td>NaN</td>\n",
       "      <td>1.50</td>\n",
       "      <td>27.0</td>\n",
       "      <td>0.20</td>\n",
       "      <td>4.75</td>\n",
       "      <td>106.672000</td>\n",
       "      <td>293.25601</td>\n",
       "      <td>7.0</td>\n",
       "      <td>4.8</td>\n",
       "      <td>230.6</td>\n",
       "      <td>NaN</td>\n",
       "    </tr>\n",
       "    <tr>\n",
       "      <th>Plate1_F7</th>\n",
       "      <td>1.0</td>\n",
       "      <td>2.0</td>\n",
       "      <td>2.0</td>\n",
       "      <td>8.220000</td>\n",
       "      <td>9.8</td>\n",
       "      <td>0.77</td>\n",
       "      <td>NaN</td>\n",
       "      <td>NaN</td>\n",
       "      <td>2.48</td>\n",
       "      <td>57.0</td>\n",
       "      <td>1.18</td>\n",
       "      <td>8.82</td>\n",
       "      <td>161.834000</td>\n",
       "      <td>438.91800</td>\n",
       "      <td>12.0</td>\n",
       "      <td>7.8</td>\n",
       "      <td>318.7</td>\n",
       "      <td>NaN</td>\n",
       "    </tr>\n",
       "    <tr>\n",
       "      <th>Plate6_D2</th>\n",
       "      <td>1.0</td>\n",
       "      <td>2.0</td>\n",
       "      <td>1.0</td>\n",
       "      <td>2.220000</td>\n",
       "      <td>9.6</td>\n",
       "      <td>0.34</td>\n",
       "      <td>8.7</td>\n",
       "      <td>13.1</td>\n",
       "      <td>1.73</td>\n",
       "      <td>26.0</td>\n",
       "      <td>0.27</td>\n",
       "      <td>6.65</td>\n",
       "      <td>84.621803</td>\n",
       "      <td>502.39999</td>\n",
       "      <td>8.0</td>\n",
       "      <td>8.8</td>\n",
       "      <td>276.4</td>\n",
       "      <td>NaN</td>\n",
       "    </tr>\n",
       "    <tr>\n",
       "      <th>Plate6_C5</th>\n",
       "      <td>2.0</td>\n",
       "      <td>3.0</td>\n",
       "      <td>2.0</td>\n",
       "      <td>32.700001</td>\n",
       "      <td>11.3</td>\n",
       "      <td>0.83</td>\n",
       "      <td>19.1</td>\n",
       "      <td>NaN</td>\n",
       "      <td>3.71</td>\n",
       "      <td>267.0</td>\n",
       "      <td>11.63</td>\n",
       "      <td>11.88</td>\n",
       "      <td>668.940980</td>\n",
       "      <td>1432.85000</td>\n",
       "      <td>10.0</td>\n",
       "      <td>20.9</td>\n",
       "      <td>549.2</td>\n",
       "      <td>NaN</td>\n",
       "    </tr>\n",
       "    <tr>\n",
       "      <th>Plate4_F8</th>\n",
       "      <td>0.0</td>\n",
       "      <td>4.0</td>\n",
       "      <td>4.0</td>\n",
       "      <td>1.660000</td>\n",
       "      <td>11.3</td>\n",
       "      <td>0.52</td>\n",
       "      <td>75.0</td>\n",
       "      <td>28.0</td>\n",
       "      <td>1.48</td>\n",
       "      <td>37.0</td>\n",
       "      <td>0.29</td>\n",
       "      <td>5.70</td>\n",
       "      <td>491.866000</td>\n",
       "      <td>857.37500</td>\n",
       "      <td>7.0</td>\n",
       "      <td>22.0</td>\n",
       "      <td>545.6</td>\n",
       "      <td>NaN</td>\n",
       "    </tr>\n",
       "  </tbody>\n",
       "</table>\n",
       "</div>"
      ],
      "text/plain": [
       "            nas_steatosis_ordinal  nas_inflam  kleiner       fib4   elf    ft  \\\n",
       "Sample ID                                                                       \n",
       "Plate6_G11                    0.0         0.0      3.0   1.380000   8.7  0.29   \n",
       "Plate1_F7                     1.0         2.0      2.0   8.220000   9.8  0.77   \n",
       "Plate6_D2                     1.0         2.0      1.0   2.220000   9.6  0.34   \n",
       "Plate6_C5                     2.0         3.0      2.0  32.700001  11.3  0.83   \n",
       "Plate4_F8                     0.0         4.0      4.0   1.660000  11.3  0.52   \n",
       "\n",
       "              te   swe   aar    ast   apri  forns         m30         m65  \\\n",
       "Sample ID                                                                   \n",
       "Plate6_G11   9.3   NaN  1.50   27.0   0.20   4.75  106.672000   293.25601   \n",
       "Plate1_F7    NaN   NaN  2.48   57.0   1.18   8.82  161.834000   438.91800   \n",
       "Plate6_D2    8.7  13.1  1.73   26.0   0.27   6.65   84.621803   502.39999   \n",
       "Plate6_C5   19.1   NaN  3.71  267.0  11.63  11.88  668.940980  1432.85000   \n",
       "Plate4_F8   75.0  28.0  1.48   37.0   0.29   5.70  491.866000   857.37500   \n",
       "\n",
       "            meld  p3np  timp1  cap  \n",
       "Sample ID                           \n",
       "Plate6_G11   7.0   4.8  230.6  NaN  \n",
       "Plate1_F7   12.0   7.8  318.7  NaN  \n",
       "Plate6_D2    8.0   8.8  276.4  NaN  \n",
       "Plate6_C5   10.0  20.9  549.2  NaN  \n",
       "Plate4_F8    7.0  22.0  545.6  NaN  "
      ]
     },
     "execution_count": 42,
     "metadata": {},
     "output_type": "execute_result"
    }
   ],
   "source": [
    "pd.set_option('max_columns', 20)\n",
    "FEATURES_ML = ['nas_steatosis_ordinal', 'nas_inflam', 'kleiner', \n",
    "          'fib4', 'elf', 'ft', 'te', 'swe', 'aar','ast',\n",
    "          'apri','forns','m30', 'm65', 'meld', 'p3np', 'timp1', 'cap' ]\n",
    "data_cli[FEATURES_ML].head()"
   ]
  },
  {
   "cell_type": "code",
   "execution_count": 43,
   "metadata": {
    "Collapsed": "false"
   },
   "outputs": [
    {
     "data": {
      "text/html": [
       "<div>\n",
       "<style scoped>\n",
       "    .dataframe tbody tr th:only-of-type {\n",
       "        vertical-align: middle;\n",
       "    }\n",
       "\n",
       "    .dataframe tbody tr th {\n",
       "        vertical-align: top;\n",
       "    }\n",
       "\n",
       "    .dataframe thead th {\n",
       "        text-align: right;\n",
       "    }\n",
       "</style>\n",
       "<table border=\"1\" class=\"dataframe\">\n",
       "  <thead>\n",
       "    <tr style=\"text-align: right;\">\n",
       "      <th></th>\n",
       "      <th>nas_steatosis_ordinal</th>\n",
       "      <th>nas_inflam</th>\n",
       "      <th>kleiner</th>\n",
       "      <th>fib4</th>\n",
       "      <th>elf</th>\n",
       "      <th>ft</th>\n",
       "      <th>te</th>\n",
       "      <th>swe</th>\n",
       "      <th>aar</th>\n",
       "      <th>ast</th>\n",
       "      <th>apri</th>\n",
       "      <th>forns</th>\n",
       "      <th>m30</th>\n",
       "      <th>m65</th>\n",
       "      <th>meld</th>\n",
       "      <th>p3np</th>\n",
       "      <th>timp1</th>\n",
       "      <th>cap</th>\n",
       "    </tr>\n",
       "    <tr>\n",
       "      <th>group2</th>\n",
       "      <th></th>\n",
       "      <th></th>\n",
       "      <th></th>\n",
       "      <th></th>\n",
       "      <th></th>\n",
       "      <th></th>\n",
       "      <th></th>\n",
       "      <th></th>\n",
       "      <th></th>\n",
       "      <th></th>\n",
       "      <th></th>\n",
       "      <th></th>\n",
       "      <th></th>\n",
       "      <th></th>\n",
       "      <th></th>\n",
       "      <th></th>\n",
       "      <th></th>\n",
       "      <th></th>\n",
       "    </tr>\n",
       "  </thead>\n",
       "  <tbody>\n",
       "    <tr>\n",
       "      <th>ALD</th>\n",
       "      <td>352</td>\n",
       "      <td>352</td>\n",
       "      <td>360</td>\n",
       "      <td>353</td>\n",
       "      <td>350</td>\n",
       "      <td>268</td>\n",
       "      <td>342</td>\n",
       "      <td>332</td>\n",
       "      <td>353</td>\n",
       "      <td>354</td>\n",
       "      <td>354</td>\n",
       "      <td>357</td>\n",
       "      <td>268</td>\n",
       "      <td>266</td>\n",
       "      <td>360</td>\n",
       "      <td>320</td>\n",
       "      <td>320</td>\n",
       "      <td>206</td>\n",
       "    </tr>\n",
       "    <tr>\n",
       "      <th>HP</th>\n",
       "      <td>0</td>\n",
       "      <td>0</td>\n",
       "      <td>0</td>\n",
       "      <td>0</td>\n",
       "      <td>0</td>\n",
       "      <td>0</td>\n",
       "      <td>136</td>\n",
       "      <td>136</td>\n",
       "      <td>0</td>\n",
       "      <td>119</td>\n",
       "      <td>0</td>\n",
       "      <td>0</td>\n",
       "      <td>0</td>\n",
       "      <td>0</td>\n",
       "      <td>136</td>\n",
       "      <td>0</td>\n",
       "      <td>0</td>\n",
       "      <td>133</td>\n",
       "    </tr>\n",
       "  </tbody>\n",
       "</table>\n",
       "</div>"
      ],
      "text/plain": [
       "        nas_steatosis_ordinal  nas_inflam  kleiner  fib4  elf   ft   te  swe  \\\n",
       "group2                                                                         \n",
       "ALD                       352         352      360   353  350  268  342  332   \n",
       "HP                          0           0        0     0    0    0  136  136   \n",
       "\n",
       "        aar  ast  apri  forns  m30  m65  meld  p3np  timp1  cap  \n",
       "group2                                                           \n",
       "ALD     353  354   354    357  268  266   360   320    320  206  \n",
       "HP        0  119     0      0    0    0   136     0      0  133  "
      ]
     },
     "execution_count": 43,
     "metadata": {},
     "output_type": "execute_result"
    }
   ],
   "source": [
    "data_cli.groupby('group2')[FEATURES_ML].count()"
   ]
  },
  {
   "cell_type": "code",
   "execution_count": 44,
   "metadata": {
    "Collapsed": "false"
   },
   "outputs": [
    {
     "data": {
      "text/html": [
       "<div>\n",
       "<style scoped>\n",
       "    .dataframe tbody tr th:only-of-type {\n",
       "        vertical-align: middle;\n",
       "    }\n",
       "\n",
       "    .dataframe tbody tr th {\n",
       "        vertical-align: top;\n",
       "    }\n",
       "\n",
       "    .dataframe thead th {\n",
       "        text-align: right;\n",
       "    }\n",
       "</style>\n",
       "<table border=\"1\" class=\"dataframe\">\n",
       "  <thead>\n",
       "    <tr style=\"text-align: right;\">\n",
       "      <th></th>\n",
       "      <th>te</th>\n",
       "      <th>swe</th>\n",
       "      <th>elf</th>\n",
       "      <th>ft</th>\n",
       "      <th>fib4</th>\n",
       "      <th>apri</th>\n",
       "      <th>forns</th>\n",
       "      <th>p3np</th>\n",
       "    </tr>\n",
       "    <tr>\n",
       "      <th>kleiner</th>\n",
       "      <th></th>\n",
       "      <th></th>\n",
       "      <th></th>\n",
       "      <th></th>\n",
       "      <th></th>\n",
       "      <th></th>\n",
       "      <th></th>\n",
       "      <th></th>\n",
       "    </tr>\n",
       "  </thead>\n",
       "  <tbody>\n",
       "    <tr>\n",
       "      <th>0.0</th>\n",
       "      <td>4.40</td>\n",
       "      <td>5.750000</td>\n",
       "      <td>8.30</td>\n",
       "      <td>0.10</td>\n",
       "      <td>1.070</td>\n",
       "      <td>0.270</td>\n",
       "      <td>3.775</td>\n",
       "      <td>7.2</td>\n",
       "    </tr>\n",
       "    <tr>\n",
       "      <th>1.0</th>\n",
       "      <td>6.00</td>\n",
       "      <td>6.700000</td>\n",
       "      <td>8.80</td>\n",
       "      <td>0.12</td>\n",
       "      <td>1.195</td>\n",
       "      <td>0.270</td>\n",
       "      <td>4.470</td>\n",
       "      <td>7.2</td>\n",
       "    </tr>\n",
       "    <tr>\n",
       "      <th>2.0</th>\n",
       "      <td>9.00</td>\n",
       "      <td>9.300000</td>\n",
       "      <td>9.55</td>\n",
       "      <td>0.34</td>\n",
       "      <td>1.655</td>\n",
       "      <td>0.440</td>\n",
       "      <td>5.820</td>\n",
       "      <td>9.9</td>\n",
       "    </tr>\n",
       "    <tr>\n",
       "      <th>3.0</th>\n",
       "      <td>21.60</td>\n",
       "      <td>16.900000</td>\n",
       "      <td>10.60</td>\n",
       "      <td>0.63</td>\n",
       "      <td>2.080</td>\n",
       "      <td>0.485</td>\n",
       "      <td>7.020</td>\n",
       "      <td>13.3</td>\n",
       "    </tr>\n",
       "    <tr>\n",
       "      <th>4.0</th>\n",
       "      <td>40.75</td>\n",
       "      <td>28.400001</td>\n",
       "      <td>11.80</td>\n",
       "      <td>0.78</td>\n",
       "      <td>4.000</td>\n",
       "      <td>0.860</td>\n",
       "      <td>8.150</td>\n",
       "      <td>22.4</td>\n",
       "    </tr>\n",
       "  </tbody>\n",
       "</table>\n",
       "</div>"
      ],
      "text/plain": [
       "            te        swe    elf    ft   fib4   apri  forns  p3np\n",
       "kleiner                                                          \n",
       "0.0       4.40   5.750000   8.30  0.10  1.070  0.270  3.775   7.2\n",
       "1.0       6.00   6.700000   8.80  0.12  1.195  0.270  4.470   7.2\n",
       "2.0       9.00   9.300000   9.55  0.34  1.655  0.440  5.820   9.9\n",
       "3.0      21.60  16.900000  10.60  0.63  2.080  0.485  7.020  13.3\n",
       "4.0      40.75  28.400001  11.80  0.78  4.000  0.860  8.150  22.4"
      ]
     },
     "execution_count": 44,
     "metadata": {},
     "output_type": "execute_result"
    }
   ],
   "source": [
    "SOTA_fibrosis = ['te', 'swe', 'elf', 'ft', 'fib4', 'apri', 'forns', 'p3np']\n",
    "data_cli.groupby('kleiner')[SOTA_fibrosis].median()"
   ]
  },
  {
   "cell_type": "markdown",
   "metadata": {},
   "source": [
    "### Selected Demographics"
   ]
  },
  {
   "cell_type": "code",
   "execution_count": 45,
   "metadata": {},
   "outputs": [
    {
     "data": {
      "text/html": [
       "<div>\n",
       "<style scoped>\n",
       "    .dataframe tbody tr th:only-of-type {\n",
       "        vertical-align: middle;\n",
       "    }\n",
       "\n",
       "    .dataframe tbody tr th {\n",
       "        vertical-align: top;\n",
       "    }\n",
       "\n",
       "    .dataframe thead th {\n",
       "        text-align: right;\n",
       "    }\n",
       "</style>\n",
       "<table border=\"1\" class=\"dataframe\">\n",
       "  <thead>\n",
       "    <tr style=\"text-align: right;\">\n",
       "      <th></th>\n",
       "      <th>age</th>\n",
       "      <th>bmi</th>\n",
       "      <th>gender_num</th>\n",
       "    </tr>\n",
       "  </thead>\n",
       "  <tbody>\n",
       "    <tr>\n",
       "      <th>count</th>\n",
       "      <td>497.000000</td>\n",
       "      <td>487.000000</td>\n",
       "      <td>497.000000</td>\n",
       "    </tr>\n",
       "    <tr>\n",
       "      <th>mean</th>\n",
       "      <td>54.953722</td>\n",
       "      <td>27.194539</td>\n",
       "      <td>0.726358</td>\n",
       "    </tr>\n",
       "    <tr>\n",
       "      <th>std</th>\n",
       "      <td>10.433153</td>\n",
       "      <td>5.180561</td>\n",
       "      <td>0.446277</td>\n",
       "    </tr>\n",
       "    <tr>\n",
       "      <th>min</th>\n",
       "      <td>19.000000</td>\n",
       "      <td>13.737373</td>\n",
       "      <td>0.000000</td>\n",
       "    </tr>\n",
       "    <tr>\n",
       "      <th>25%</th>\n",
       "      <td>48.000000</td>\n",
       "      <td>23.849999</td>\n",
       "      <td>0.000000</td>\n",
       "    </tr>\n",
       "    <tr>\n",
       "      <th>50%</th>\n",
       "      <td>56.000000</td>\n",
       "      <td>26.799999</td>\n",
       "      <td>1.000000</td>\n",
       "    </tr>\n",
       "    <tr>\n",
       "      <th>75%</th>\n",
       "      <td>62.000000</td>\n",
       "      <td>30.286856</td>\n",
       "      <td>1.000000</td>\n",
       "    </tr>\n",
       "    <tr>\n",
       "      <th>max</th>\n",
       "      <td>75.000000</td>\n",
       "      <td>52.099998</td>\n",
       "      <td>1.000000</td>\n",
       "    </tr>\n",
       "  </tbody>\n",
       "</table>\n",
       "</div>"
      ],
      "text/plain": [
       "              age         bmi  gender_num\n",
       "count  497.000000  487.000000  497.000000\n",
       "mean    54.953722   27.194539    0.726358\n",
       "std     10.433153    5.180561    0.446277\n",
       "min     19.000000   13.737373    0.000000\n",
       "25%     48.000000   23.849999    0.000000\n",
       "50%     56.000000   26.799999    1.000000\n",
       "75%     62.000000   30.286856    1.000000\n",
       "max     75.000000   52.099998    1.000000"
      ]
     },
     "execution_count": 45,
     "metadata": {},
     "output_type": "execute_result"
    }
   ],
   "source": [
    "demographics = data_cli[['age', 'bmi', 'gender_num']] # 1 is male\n",
    "demographics.describe()"
   ]
  },
  {
   "cell_type": "markdown",
   "metadata": {
    "Collapsed": "false"
   },
   "source": [
    "### Targets"
   ]
  },
  {
   "cell_type": "code",
   "execution_count": 46,
   "metadata": {
    "Collapsed": "false"
   },
   "outputs": [],
   "source": [
    "fibrosis_score = data_cli.kleiner\n",
    "inflamation_score = data_cli.nas_inflam\n",
    "steatosis_score = data_cli.nas_steatosis_ordinal"
   ]
  },
  {
   "cell_type": "code",
   "execution_count": 47,
   "metadata": {
    "Collapsed": "false"
   },
   "outputs": [
    {
     "data": {
      "text/html": [
       "<div>\n",
       "<style scoped>\n",
       "    .dataframe tbody tr th:only-of-type {\n",
       "        vertical-align: middle;\n",
       "    }\n",
       "\n",
       "    .dataframe tbody tr th {\n",
       "        vertical-align: top;\n",
       "    }\n",
       "\n",
       "    .dataframe thead th {\n",
       "        text-align: right;\n",
       "    }\n",
       "</style>\n",
       "<table border=\"1\" class=\"dataframe\">\n",
       "  <thead>\n",
       "    <tr style=\"text-align: right;\">\n",
       "      <th></th>\n",
       "      <th>kleiner</th>\n",
       "      <th>nas_steatosis_ordinal</th>\n",
       "      <th>nas_inflam</th>\n",
       "    </tr>\n",
       "  </thead>\n",
       "  <tbody>\n",
       "    <tr>\n",
       "      <th>count</th>\n",
       "      <td>360.000000</td>\n",
       "      <td>352.000000</td>\n",
       "      <td>352.000000</td>\n",
       "    </tr>\n",
       "    <tr>\n",
       "      <th>mean</th>\n",
       "      <td>1.902778</td>\n",
       "      <td>0.982955</td>\n",
       "      <td>1.855114</td>\n",
       "    </tr>\n",
       "    <tr>\n",
       "      <th>std</th>\n",
       "      <td>1.248506</td>\n",
       "      <td>1.045813</td>\n",
       "      <td>1.467221</td>\n",
       "    </tr>\n",
       "    <tr>\n",
       "      <th>min</th>\n",
       "      <td>0.000000</td>\n",
       "      <td>0.000000</td>\n",
       "      <td>0.000000</td>\n",
       "    </tr>\n",
       "    <tr>\n",
       "      <th>25%</th>\n",
       "      <td>1.000000</td>\n",
       "      <td>0.000000</td>\n",
       "      <td>1.000000</td>\n",
       "    </tr>\n",
       "    <tr>\n",
       "      <th>50%</th>\n",
       "      <td>2.000000</td>\n",
       "      <td>1.000000</td>\n",
       "      <td>2.000000</td>\n",
       "    </tr>\n",
       "    <tr>\n",
       "      <th>75%</th>\n",
       "      <td>3.000000</td>\n",
       "      <td>2.000000</td>\n",
       "      <td>3.000000</td>\n",
       "    </tr>\n",
       "    <tr>\n",
       "      <th>max</th>\n",
       "      <td>4.000000</td>\n",
       "      <td>3.000000</td>\n",
       "      <td>5.000000</td>\n",
       "    </tr>\n",
       "  </tbody>\n",
       "</table>\n",
       "</div>"
      ],
      "text/plain": [
       "          kleiner  nas_steatosis_ordinal  nas_inflam\n",
       "count  360.000000             352.000000  352.000000\n",
       "mean     1.902778               0.982955    1.855114\n",
       "std      1.248506               1.045813    1.467221\n",
       "min      0.000000               0.000000    0.000000\n",
       "25%      1.000000               0.000000    1.000000\n",
       "50%      2.000000               1.000000    2.000000\n",
       "75%      3.000000               2.000000    3.000000\n",
       "max      4.000000               3.000000    5.000000"
      ]
     },
     "execution_count": 47,
     "metadata": {},
     "output_type": "execute_result"
    }
   ],
   "source": [
    "target_columns = ['kleiner', 'nas_steatosis_ordinal', 'nas_inflam']\n",
    "Y = data_cli[target_columns]\n",
    "Y.describe()"
   ]
  },
  {
   "cell_type": "code",
   "execution_count": 48,
   "metadata": {},
   "outputs": [
    {
     "data": {
      "text/html": [
       "<div>\n",
       "<style scoped>\n",
       "    .dataframe tbody tr th:only-of-type {\n",
       "        vertical-align: middle;\n",
       "    }\n",
       "\n",
       "    .dataframe tbody tr th {\n",
       "        vertical-align: top;\n",
       "    }\n",
       "\n",
       "    .dataframe thead th {\n",
       "        text-align: right;\n",
       "    }\n",
       "</style>\n",
       "<table border=\"1\" class=\"dataframe\">\n",
       "  <thead>\n",
       "    <tr style=\"text-align: right;\">\n",
       "      <th></th>\n",
       "      <th>kleiner</th>\n",
       "      <th>nas_steatosis_ordinal</th>\n",
       "      <th>nas_inflam</th>\n",
       "    </tr>\n",
       "  </thead>\n",
       "  <tbody>\n",
       "    <tr>\n",
       "      <th>0.0</th>\n",
       "      <td>36.0</td>\n",
       "      <td>156.0</td>\n",
       "      <td>72.0</td>\n",
       "    </tr>\n",
       "    <tr>\n",
       "      <th>1.0</th>\n",
       "      <td>124.0</td>\n",
       "      <td>85.0</td>\n",
       "      <td>91.0</td>\n",
       "    </tr>\n",
       "    <tr>\n",
       "      <th>2.0</th>\n",
       "      <td>106.0</td>\n",
       "      <td>72.0</td>\n",
       "      <td>82.0</td>\n",
       "    </tr>\n",
       "    <tr>\n",
       "      <th>3.0</th>\n",
       "      <td>27.0</td>\n",
       "      <td>39.0</td>\n",
       "      <td>53.0</td>\n",
       "    </tr>\n",
       "    <tr>\n",
       "      <th>4.0</th>\n",
       "      <td>67.0</td>\n",
       "      <td>NaN</td>\n",
       "      <td>31.0</td>\n",
       "    </tr>\n",
       "    <tr>\n",
       "      <th>Total</th>\n",
       "      <td>360.0</td>\n",
       "      <td>352.0</td>\n",
       "      <td>329.0</td>\n",
       "    </tr>\n",
       "  </tbody>\n",
       "</table>\n",
       "</div>"
      ],
      "text/plain": [
       "       kleiner  nas_steatosis_ordinal  nas_inflam\n",
       "0.0       36.0                  156.0        72.0\n",
       "1.0      124.0                   85.0        91.0\n",
       "2.0      106.0                   72.0        82.0\n",
       "3.0       27.0                   39.0        53.0\n",
       "4.0       67.0                    NaN        31.0\n",
       "Total    360.0                  352.0       329.0"
      ]
     },
     "execution_count": 48,
     "metadata": {},
     "output_type": "execute_result"
    }
   ],
   "source": [
    "def combine_value_counts(X:pd.DataFrame):\n",
    "    \"\"\"Pass a selection of columns to combine it's value counts.\n",
    "    \n",
    "    This performs no checks. Make sure the scale of the variables\n",
    "    you pass is comparable.\n",
    "    \"\"\"\n",
    "    _df = pd.DataFrame()\n",
    "    for col in X.columns:\n",
    "        _df[col] = X[col].value_counts()\n",
    "    freq_targets = _df.sort_index()\n",
    "    return freq_targets\n",
    "\n",
    "freq_targets = combine_value_counts(Y)\n",
    "freq_targets.loc['Total',:] = freq_targets.sum()\n",
    "freq_targets"
   ]
  },
  {
   "cell_type": "markdown",
   "metadata": {
    "Collapsed": "false"
   },
   "source": [
    "Several binary features can be created.\n",
    "\n",
    "target      | Scale   | unique values              | Binarization                 |  N samples\n",
    "-----       | --------| ---------------            | -------------------------    |  ---------\n",
    "fibrosis    | five    | F0, F1, F2, F3, F4         | (F0,F1) vs (F2, F3, F4)      |\n",
    "fibrosis    | five    | F0, F1, F2, F3, F4         | (F0,F1,F2) vs (F3, F4)       | \n",
    "steatosis   | five    | S0, S1, S2, S3             | (S0) vs (S1, S2, S3)         | \n",
    "inflamation | seven   | I0, I1, I2, I3, I4, I5, I6 | (I0, I1) vs (I2, I3, I4, I5) |\n"
   ]
  },
  {
   "cell_type": "markdown",
   "metadata": {
    "Collapsed": "false"
   },
   "source": [
    "Variable naming: `<target>_greater-equal_<value>`"
   ]
  },
  {
   "cell_type": "code",
   "execution_count": 49,
   "metadata": {
    "Collapsed": "false"
   },
   "outputs": [],
   "source": [
    "def create_dichotome(series: pd.Series, cutoff_ge):\n",
    "    \"\"\"Define a dichtome (binary) variable from a continous feature.\"\"\"\n",
    "    return (series.dropna() >= cutoff_ge).astype(int)"
   ]
  },
  {
   "cell_type": "code",
   "execution_count": 50,
   "metadata": {
    "Collapsed": "false"
   },
   "outputs": [
    {
     "data": {
      "text/plain": [
       "0    160\n",
       "1    200\n",
       "Name: kleiner, dtype: int64"
      ]
     },
     "execution_count": 50,
     "metadata": {},
     "output_type": "execute_result"
    }
   ],
   "source": [
    "kleiner_ge_2 = create_dichotome(Y['kleiner'], 2)\n",
    "kleiner_ge_2.value_counts(dropna=False, sort=False)"
   ]
  },
  {
   "cell_type": "code",
   "execution_count": 51,
   "metadata": {
    "Collapsed": "false"
   },
   "outputs": [
    {
     "data": {
      "text/plain": [
       "0    266\n",
       "1     94\n",
       "Name: kleiner, dtype: int64"
      ]
     },
     "execution_count": 51,
     "metadata": {},
     "output_type": "execute_result"
    }
   ],
   "source": [
    "kleiner_ge_3 = create_dichotome(Y['kleiner'], 3)\n",
    "kleiner_ge_3.value_counts(dropna=False, sort=False) # more imbalanced -> cutoff adaption might be important"
   ]
  },
  {
   "cell_type": "code",
   "execution_count": 52,
   "metadata": {
    "Collapsed": "false"
   },
   "outputs": [
    {
     "data": {
      "text/plain": [
       "0    156\n",
       "1    196\n",
       "Name: nas_steatosis_ordinal, dtype: int64"
      ]
     },
     "execution_count": 52,
     "metadata": {},
     "output_type": "execute_result"
    }
   ],
   "source": [
    "steatosis_ge_1 = create_dichotome(Y['nas_steatosis_ordinal'], 1)\n",
    "steatosis_ge_1.value_counts(dropna=False, sort=False)"
   ]
  },
  {
   "cell_type": "code",
   "execution_count": 53,
   "metadata": {
    "Collapsed": "false"
   },
   "outputs": [
    {
     "data": {
      "text/plain": [
       "0    163\n",
       "1    189\n",
       "Name: nas_inflam, dtype: int64"
      ]
     },
     "execution_count": 53,
     "metadata": {},
     "output_type": "execute_result"
    }
   ],
   "source": [
    "inflamation_ge_2 = create_dichotome(Y['nas_inflam'], 2)\n",
    "inflamation_ge_2.value_counts(dropna=False, sort=False)"
   ]
  },
  {
   "cell_type": "code",
   "execution_count": 54,
   "metadata": {
    "Collapsed": "false"
   },
   "outputs": [],
   "source": [
    "#ToDo: Create overview-table"
   ]
  },
  {
   "cell_type": "markdown",
   "metadata": {
    "Collapsed": "false"
   },
   "source": [
    "### Clinical Cutoffs for targets\n",
    "\n",
    "Cutoff for binary grouping of targets\n",
    "\n",
    "target      | Scale   | unique values                | N samples\n",
    "----------- | ------- | --------------------------   | -------\n",
    "fibrosis    | five    | F0, F1, F2, F3, F4           | \n",
    "steatosis   | five    | S0, S1, S2, S3 (, S4)        | \n",
    "inflamation | seven   | I0, I1, I2, I3, I4, I5(, I6) | \n"
   ]
  },
  {
   "cell_type": "code",
   "execution_count": 55,
   "metadata": {
    "Collapsed": "false"
   },
   "outputs": [
    {
     "data": {
      "text/html": [
       "<div>\n",
       "<style scoped>\n",
       "    .dataframe tbody tr th:only-of-type {\n",
       "        vertical-align: middle;\n",
       "    }\n",
       "\n",
       "    .dataframe tbody tr th {\n",
       "        vertical-align: top;\n",
       "    }\n",
       "\n",
       "    .dataframe thead th {\n",
       "        text-align: right;\n",
       "    }\n",
       "</style>\n",
       "<table border=\"1\" class=\"dataframe\">\n",
       "  <thead>\n",
       "    <tr style=\"text-align: right;\">\n",
       "      <th></th>\n",
       "      <th>F2</th>\n",
       "      <th>F3</th>\n",
       "      <th>INFL2</th>\n",
       "      <th>steatosis</th>\n",
       "    </tr>\n",
       "    <tr>\n",
       "      <th>marker</th>\n",
       "      <th></th>\n",
       "      <th></th>\n",
       "      <th></th>\n",
       "      <th></th>\n",
       "    </tr>\n",
       "  </thead>\n",
       "  <tbody>\n",
       "    <tr>\n",
       "      <th>te</th>\n",
       "      <td>7.00</td>\n",
       "      <td>15.00</td>\n",
       "      <td>NaN</td>\n",
       "      <td>NaN</td>\n",
       "    </tr>\n",
       "    <tr>\n",
       "      <th>swe</th>\n",
       "      <td>8.60</td>\n",
       "      <td>16.40</td>\n",
       "      <td>NaN</td>\n",
       "      <td>NaN</td>\n",
       "    </tr>\n",
       "    <tr>\n",
       "      <th>elf</th>\n",
       "      <td>7.70</td>\n",
       "      <td>10.50</td>\n",
       "      <td>NaN</td>\n",
       "      <td>NaN</td>\n",
       "    </tr>\n",
       "    <tr>\n",
       "      <th>ft</th>\n",
       "      <td>0.48</td>\n",
       "      <td>0.58</td>\n",
       "      <td>NaN</td>\n",
       "      <td>NaN</td>\n",
       "    </tr>\n",
       "    <tr>\n",
       "      <th>fib4</th>\n",
       "      <td>1.45</td>\n",
       "      <td>3.25</td>\n",
       "      <td>NaN</td>\n",
       "      <td>NaN</td>\n",
       "    </tr>\n",
       "    <tr>\n",
       "      <th>apri</th>\n",
       "      <td>0.50</td>\n",
       "      <td>1.00</td>\n",
       "      <td>NaN</td>\n",
       "      <td>NaN</td>\n",
       "    </tr>\n",
       "    <tr>\n",
       "      <th>forns</th>\n",
       "      <td>NaN</td>\n",
       "      <td>6.80</td>\n",
       "      <td>NaN</td>\n",
       "      <td>NaN</td>\n",
       "    </tr>\n",
       "    <tr>\n",
       "      <th>p3np</th>\n",
       "      <td>NaN</td>\n",
       "      <td>NaN</td>\n",
       "      <td>NaN</td>\n",
       "      <td>NaN</td>\n",
       "    </tr>\n",
       "    <tr>\n",
       "      <th>m30</th>\n",
       "      <td>NaN</td>\n",
       "      <td>NaN</td>\n",
       "      <td>NaN</td>\n",
       "      <td>NaN</td>\n",
       "    </tr>\n",
       "    <tr>\n",
       "      <th>m65</th>\n",
       "      <td>NaN</td>\n",
       "      <td>NaN</td>\n",
       "      <td>NaN</td>\n",
       "      <td>NaN</td>\n",
       "    </tr>\n",
       "    <tr>\n",
       "      <th>aar</th>\n",
       "      <td>NaN</td>\n",
       "      <td>NaN</td>\n",
       "      <td>2.0</td>\n",
       "      <td>NaN</td>\n",
       "    </tr>\n",
       "    <tr>\n",
       "      <th>proc3</th>\n",
       "      <td>NaN</td>\n",
       "      <td>NaN</td>\n",
       "      <td>NaN</td>\n",
       "      <td>NaN</td>\n",
       "    </tr>\n",
       "    <tr>\n",
       "      <th>cap</th>\n",
       "      <td>NaN</td>\n",
       "      <td>NaN</td>\n",
       "      <td>NaN</td>\n",
       "      <td>290.0</td>\n",
       "    </tr>\n",
       "  </tbody>\n",
       "</table>\n",
       "</div>"
      ],
      "text/plain": [
       "          F2     F3  INFL2  steatosis\n",
       "marker                               \n",
       "te      7.00  15.00    NaN        NaN\n",
       "swe     8.60  16.40    NaN        NaN\n",
       "elf     7.70  10.50    NaN        NaN\n",
       "ft      0.48   0.58    NaN        NaN\n",
       "fib4    1.45   3.25    NaN        NaN\n",
       "apri    0.50   1.00    NaN        NaN\n",
       "forns    NaN   6.80    NaN        NaN\n",
       "p3np     NaN    NaN    NaN        NaN\n",
       "m30      NaN    NaN    NaN        NaN\n",
       "m65      NaN    NaN    NaN        NaN\n",
       "aar      NaN    NaN    2.0        NaN\n",
       "proc3    NaN    NaN    NaN        NaN\n",
       "cap      NaN    NaN    NaN      290.0"
      ]
     },
     "execution_count": 55,
     "metadata": {},
     "output_type": "execute_result"
    }
   ],
   "source": [
    "file_cutoff_clinic = \"data/raw/clinical_marker_test_cut-offs.xlsx\"\n",
    "cutoffs_clinic = pd.read_excel(file_cutoff_clinic, sheet_name=\"cutoffs\", index_col='marker')\n",
    "cutoffs_clinic"
   ]
  },
  {
   "cell_type": "code",
   "execution_count": 56,
   "metadata": {
    "Collapsed": "false"
   },
   "outputs": [
    {
     "name": "stdout",
     "output_type": "stream",
     "text": [
      "proc3: Missing in clinics data.\n"
     ]
    }
   ],
   "source": [
    "markers_to_drop = []\n",
    "for marker in cutoffs_clinic.index:\n",
    "    if marker not in data_cli.columns:\n",
    "        print(f\"{marker}: Missing in clinics data.\")\n",
    "        markers_to_drop.append(marker)"
   ]
  },
  {
   "cell_type": "markdown",
   "metadata": {
    "Collapsed": "false"
   },
   "source": [
    "`proc3` is not in data_clinic. drop this from the list of cutoffs! (Cutoff can be learned later)"
   ]
  },
  {
   "cell_type": "code",
   "execution_count": 57,
   "metadata": {
    "Collapsed": "false"
   },
   "outputs": [
    {
     "data": {
      "text/html": [
       "<div>\n",
       "<style scoped>\n",
       "    .dataframe tbody tr th:only-of-type {\n",
       "        vertical-align: middle;\n",
       "    }\n",
       "\n",
       "    .dataframe tbody tr th {\n",
       "        vertical-align: top;\n",
       "    }\n",
       "\n",
       "    .dataframe thead th {\n",
       "        text-align: right;\n",
       "    }\n",
       "</style>\n",
       "<table border=\"1\" class=\"dataframe\">\n",
       "  <thead>\n",
       "    <tr style=\"text-align: right;\">\n",
       "      <th></th>\n",
       "      <th>F2</th>\n",
       "      <th>F3</th>\n",
       "      <th>INFL2</th>\n",
       "      <th>steatosis</th>\n",
       "    </tr>\n",
       "    <tr>\n",
       "      <th>marker</th>\n",
       "      <th></th>\n",
       "      <th></th>\n",
       "      <th></th>\n",
       "      <th></th>\n",
       "    </tr>\n",
       "  </thead>\n",
       "  <tbody>\n",
       "    <tr>\n",
       "      <th>te</th>\n",
       "      <td>7.00</td>\n",
       "      <td>15.00</td>\n",
       "      <td>NaN</td>\n",
       "      <td>NaN</td>\n",
       "    </tr>\n",
       "    <tr>\n",
       "      <th>swe</th>\n",
       "      <td>8.60</td>\n",
       "      <td>16.40</td>\n",
       "      <td>NaN</td>\n",
       "      <td>NaN</td>\n",
       "    </tr>\n",
       "    <tr>\n",
       "      <th>elf</th>\n",
       "      <td>7.70</td>\n",
       "      <td>10.50</td>\n",
       "      <td>NaN</td>\n",
       "      <td>NaN</td>\n",
       "    </tr>\n",
       "    <tr>\n",
       "      <th>ft</th>\n",
       "      <td>0.48</td>\n",
       "      <td>0.58</td>\n",
       "      <td>NaN</td>\n",
       "      <td>NaN</td>\n",
       "    </tr>\n",
       "    <tr>\n",
       "      <th>fib4</th>\n",
       "      <td>1.45</td>\n",
       "      <td>3.25</td>\n",
       "      <td>NaN</td>\n",
       "      <td>NaN</td>\n",
       "    </tr>\n",
       "    <tr>\n",
       "      <th>apri</th>\n",
       "      <td>0.50</td>\n",
       "      <td>1.00</td>\n",
       "      <td>NaN</td>\n",
       "      <td>NaN</td>\n",
       "    </tr>\n",
       "    <tr>\n",
       "      <th>forns</th>\n",
       "      <td>NaN</td>\n",
       "      <td>6.80</td>\n",
       "      <td>NaN</td>\n",
       "      <td>NaN</td>\n",
       "    </tr>\n",
       "    <tr>\n",
       "      <th>p3np</th>\n",
       "      <td>NaN</td>\n",
       "      <td>NaN</td>\n",
       "      <td>NaN</td>\n",
       "      <td>NaN</td>\n",
       "    </tr>\n",
       "    <tr>\n",
       "      <th>m30</th>\n",
       "      <td>NaN</td>\n",
       "      <td>NaN</td>\n",
       "      <td>NaN</td>\n",
       "      <td>NaN</td>\n",
       "    </tr>\n",
       "    <tr>\n",
       "      <th>m65</th>\n",
       "      <td>NaN</td>\n",
       "      <td>NaN</td>\n",
       "      <td>NaN</td>\n",
       "      <td>NaN</td>\n",
       "    </tr>\n",
       "    <tr>\n",
       "      <th>aar</th>\n",
       "      <td>NaN</td>\n",
       "      <td>NaN</td>\n",
       "      <td>2.0</td>\n",
       "      <td>NaN</td>\n",
       "    </tr>\n",
       "    <tr>\n",
       "      <th>cap</th>\n",
       "      <td>NaN</td>\n",
       "      <td>NaN</td>\n",
       "      <td>NaN</td>\n",
       "      <td>290.0</td>\n",
       "    </tr>\n",
       "  </tbody>\n",
       "</table>\n",
       "</div>"
      ],
      "text/plain": [
       "          F2     F3  INFL2  steatosis\n",
       "marker                               \n",
       "te      7.00  15.00    NaN        NaN\n",
       "swe     8.60  16.40    NaN        NaN\n",
       "elf     7.70  10.50    NaN        NaN\n",
       "ft      0.48   0.58    NaN        NaN\n",
       "fib4    1.45   3.25    NaN        NaN\n",
       "apri    0.50   1.00    NaN        NaN\n",
       "forns    NaN   6.80    NaN        NaN\n",
       "p3np     NaN    NaN    NaN        NaN\n",
       "m30      NaN    NaN    NaN        NaN\n",
       "m65      NaN    NaN    NaN        NaN\n",
       "aar      NaN    NaN    2.0        NaN\n",
       "cap      NaN    NaN    NaN      290.0"
      ]
     },
     "execution_count": 57,
     "metadata": {},
     "output_type": "execute_result"
    }
   ],
   "source": [
    "if markers_to_drop:\n",
    "    cutoffs_clinic.drop(labels=markers_to_drop, inplace=True)\n",
    "cutoffs_clinic"
   ]
  },
  {
   "cell_type": "markdown",
   "metadata": {
    "Collapsed": "false"
   },
   "source": [
    "Renaming Columns to desired endpoint name"
   ]
  },
  {
   "cell_type": "code",
   "execution_count": 58,
   "metadata": {
    "Collapsed": "false"
   },
   "outputs": [
    {
     "data": {
      "text/html": [
       "<div>\n",
       "<style scoped>\n",
       "    .dataframe tbody tr th:only-of-type {\n",
       "        vertical-align: middle;\n",
       "    }\n",
       "\n",
       "    .dataframe tbody tr th {\n",
       "        vertical-align: top;\n",
       "    }\n",
       "\n",
       "    .dataframe thead th {\n",
       "        text-align: right;\n",
       "    }\n",
       "</style>\n",
       "<table border=\"1\" class=\"dataframe\">\n",
       "  <thead>\n",
       "    <tr style=\"text-align: right;\">\n",
       "      <th></th>\n",
       "      <th>F2</th>\n",
       "      <th>F3</th>\n",
       "      <th>I2</th>\n",
       "      <th>S1</th>\n",
       "    </tr>\n",
       "    <tr>\n",
       "      <th>marker</th>\n",
       "      <th></th>\n",
       "      <th></th>\n",
       "      <th></th>\n",
       "      <th></th>\n",
       "    </tr>\n",
       "  </thead>\n",
       "  <tbody>\n",
       "    <tr>\n",
       "      <th>te</th>\n",
       "      <td>7.00</td>\n",
       "      <td>15.00</td>\n",
       "      <td>NaN</td>\n",
       "      <td>NaN</td>\n",
       "    </tr>\n",
       "    <tr>\n",
       "      <th>swe</th>\n",
       "      <td>8.60</td>\n",
       "      <td>16.40</td>\n",
       "      <td>NaN</td>\n",
       "      <td>NaN</td>\n",
       "    </tr>\n",
       "    <tr>\n",
       "      <th>elf</th>\n",
       "      <td>7.70</td>\n",
       "      <td>10.50</td>\n",
       "      <td>NaN</td>\n",
       "      <td>NaN</td>\n",
       "    </tr>\n",
       "    <tr>\n",
       "      <th>ft</th>\n",
       "      <td>0.48</td>\n",
       "      <td>0.58</td>\n",
       "      <td>NaN</td>\n",
       "      <td>NaN</td>\n",
       "    </tr>\n",
       "    <tr>\n",
       "      <th>fib4</th>\n",
       "      <td>1.45</td>\n",
       "      <td>3.25</td>\n",
       "      <td>NaN</td>\n",
       "      <td>NaN</td>\n",
       "    </tr>\n",
       "    <tr>\n",
       "      <th>apri</th>\n",
       "      <td>0.50</td>\n",
       "      <td>1.00</td>\n",
       "      <td>NaN</td>\n",
       "      <td>NaN</td>\n",
       "    </tr>\n",
       "    <tr>\n",
       "      <th>forns</th>\n",
       "      <td>NaN</td>\n",
       "      <td>6.80</td>\n",
       "      <td>NaN</td>\n",
       "      <td>NaN</td>\n",
       "    </tr>\n",
       "    <tr>\n",
       "      <th>p3np</th>\n",
       "      <td>NaN</td>\n",
       "      <td>NaN</td>\n",
       "      <td>NaN</td>\n",
       "      <td>NaN</td>\n",
       "    </tr>\n",
       "    <tr>\n",
       "      <th>m30</th>\n",
       "      <td>NaN</td>\n",
       "      <td>NaN</td>\n",
       "      <td>NaN</td>\n",
       "      <td>NaN</td>\n",
       "    </tr>\n",
       "    <tr>\n",
       "      <th>m65</th>\n",
       "      <td>NaN</td>\n",
       "      <td>NaN</td>\n",
       "      <td>NaN</td>\n",
       "      <td>NaN</td>\n",
       "    </tr>\n",
       "    <tr>\n",
       "      <th>aar</th>\n",
       "      <td>NaN</td>\n",
       "      <td>NaN</td>\n",
       "      <td>2.0</td>\n",
       "      <td>NaN</td>\n",
       "    </tr>\n",
       "    <tr>\n",
       "      <th>cap</th>\n",
       "      <td>NaN</td>\n",
       "      <td>NaN</td>\n",
       "      <td>NaN</td>\n",
       "      <td>290.0</td>\n",
       "    </tr>\n",
       "  </tbody>\n",
       "</table>\n",
       "</div>"
      ],
      "text/plain": [
       "          F2     F3   I2     S1\n",
       "marker                         \n",
       "te      7.00  15.00  NaN    NaN\n",
       "swe     8.60  16.40  NaN    NaN\n",
       "elf     7.70  10.50  NaN    NaN\n",
       "ft      0.48   0.58  NaN    NaN\n",
       "fib4    1.45   3.25  NaN    NaN\n",
       "apri    0.50   1.00  NaN    NaN\n",
       "forns    NaN   6.80  NaN    NaN\n",
       "p3np     NaN    NaN  NaN    NaN\n",
       "m30      NaN    NaN  NaN    NaN\n",
       "m65      NaN    NaN  NaN    NaN\n",
       "aar      NaN    NaN  2.0    NaN\n",
       "cap      NaN    NaN  NaN  290.0"
      ]
     },
     "execution_count": 58,
     "metadata": {},
     "output_type": "execute_result"
    }
   ],
   "source": [
    "cutoffs_clinic.columns = ['F2', 'F3', 'I2', 'S1']\n",
    "cutoffs_clinic"
   ]
  },
  {
   "cell_type": "markdown",
   "metadata": {
    "Collapsed": "false"
   },
   "source": [
    "Extract certain cutoff for binary targets defined by column name:"
   ]
  },
  {
   "cell_type": "code",
   "execution_count": 59,
   "metadata": {
    "Collapsed": "false"
   },
   "outputs": [
    {
     "data": {
      "text/plain": [
       "{'te': 7.0, 'swe': 8.6, 'elf': 7.7, 'ft': 0.48, 'fib4': 1.45, 'apri': 0.5}"
      ]
     },
     "execution_count": 59,
     "metadata": {},
     "output_type": "execute_result"
    }
   ],
   "source": [
    "cutoffs_clinic['F2'].dropna().to_dict()"
   ]
  },
  {
   "cell_type": "markdown",
   "metadata": {
    "Collapsed": "false"
   },
   "source": [
    "See statistics (e.g. median) of SOTA-markers for clinical fibrosis assessment (represented by categories 0 to 4)."
   ]
  },
  {
   "cell_type": "code",
   "execution_count": 60,
   "metadata": {
    "Collapsed": "false"
   },
   "outputs": [
    {
     "data": {
      "text/html": [
       "<div>\n",
       "<style scoped>\n",
       "    .dataframe tbody tr th:only-of-type {\n",
       "        vertical-align: middle;\n",
       "    }\n",
       "\n",
       "    .dataframe tbody tr th {\n",
       "        vertical-align: top;\n",
       "    }\n",
       "\n",
       "    .dataframe thead th {\n",
       "        text-align: right;\n",
       "    }\n",
       "</style>\n",
       "<table border=\"1\" class=\"dataframe\">\n",
       "  <thead>\n",
       "    <tr style=\"text-align: right;\">\n",
       "      <th></th>\n",
       "      <th>te</th>\n",
       "      <th>swe</th>\n",
       "      <th>elf</th>\n",
       "      <th>ft</th>\n",
       "      <th>fib4</th>\n",
       "      <th>apri</th>\n",
       "      <th>forns</th>\n",
       "      <th>p3np</th>\n",
       "    </tr>\n",
       "    <tr>\n",
       "      <th>kleiner</th>\n",
       "      <th></th>\n",
       "      <th></th>\n",
       "      <th></th>\n",
       "      <th></th>\n",
       "      <th></th>\n",
       "      <th></th>\n",
       "      <th></th>\n",
       "      <th></th>\n",
       "    </tr>\n",
       "  </thead>\n",
       "  <tbody>\n",
       "    <tr>\n",
       "      <th>0.0</th>\n",
       "      <td>4.40</td>\n",
       "      <td>5.750000</td>\n",
       "      <td>8.30</td>\n",
       "      <td>0.10</td>\n",
       "      <td>1.070</td>\n",
       "      <td>0.270</td>\n",
       "      <td>3.775</td>\n",
       "      <td>7.2</td>\n",
       "    </tr>\n",
       "    <tr>\n",
       "      <th>1.0</th>\n",
       "      <td>6.00</td>\n",
       "      <td>6.700000</td>\n",
       "      <td>8.80</td>\n",
       "      <td>0.12</td>\n",
       "      <td>1.195</td>\n",
       "      <td>0.270</td>\n",
       "      <td>4.470</td>\n",
       "      <td>7.2</td>\n",
       "    </tr>\n",
       "    <tr>\n",
       "      <th>2.0</th>\n",
       "      <td>9.00</td>\n",
       "      <td>9.300000</td>\n",
       "      <td>9.55</td>\n",
       "      <td>0.34</td>\n",
       "      <td>1.655</td>\n",
       "      <td>0.440</td>\n",
       "      <td>5.820</td>\n",
       "      <td>9.9</td>\n",
       "    </tr>\n",
       "    <tr>\n",
       "      <th>3.0</th>\n",
       "      <td>21.60</td>\n",
       "      <td>16.900000</td>\n",
       "      <td>10.60</td>\n",
       "      <td>0.63</td>\n",
       "      <td>2.080</td>\n",
       "      <td>0.485</td>\n",
       "      <td>7.020</td>\n",
       "      <td>13.3</td>\n",
       "    </tr>\n",
       "    <tr>\n",
       "      <th>4.0</th>\n",
       "      <td>40.75</td>\n",
       "      <td>28.400001</td>\n",
       "      <td>11.80</td>\n",
       "      <td>0.78</td>\n",
       "      <td>4.000</td>\n",
       "      <td>0.860</td>\n",
       "      <td>8.150</td>\n",
       "      <td>22.4</td>\n",
       "    </tr>\n",
       "  </tbody>\n",
       "</table>\n",
       "</div>"
      ],
      "text/plain": [
       "            te        swe    elf    ft   fib4   apri  forns  p3np\n",
       "kleiner                                                          \n",
       "0.0       4.40   5.750000   8.30  0.10  1.070  0.270  3.775   7.2\n",
       "1.0       6.00   6.700000   8.80  0.12  1.195  0.270  4.470   7.2\n",
       "2.0       9.00   9.300000   9.55  0.34  1.655  0.440  5.820   9.9\n",
       "3.0      21.60  16.900000  10.60  0.63  2.080  0.485  7.020  13.3\n",
       "4.0      40.75  28.400001  11.80  0.78  4.000  0.860  8.150  22.4"
      ]
     },
     "execution_count": 60,
     "metadata": {},
     "output_type": "execute_result"
    }
   ],
   "source": [
    "SOTA_fibrosis = ['te', 'swe', 'elf', 'ft', 'fib4', 'apri', 'forns', 'p3np']\n",
    "data_cli.groupby('kleiner')[SOTA_fibrosis].median()"
   ]
  },
  {
   "cell_type": "markdown",
   "metadata": {
    "Collapsed": "false"
   },
   "source": [
    "### Impute missing features of clinical data:\n",
    "\n",
    "Using [`sklearn.impute.simpleImputer`](https://scikit-learn.org/stable/modules/impute.html)'s default `'mean'` strategy. \n",
    "Alternatively one could replace missing values with zeros on the standardised data to zero mean and standard deviation of one.\n",
    "\n",
    "> No imputation of clinical features for now as only single clinical features are used in \"univariate\" models. Imputation is only sensible if several types of information are combined."
   ]
  },
  {
   "cell_type": "code",
   "execution_count": 61,
   "metadata": {
    "Collapsed": "false"
   },
   "outputs": [
    {
     "data": {
      "text/html": [
       "<div>\n",
       "<style scoped>\n",
       "    .dataframe tbody tr th:only-of-type {\n",
       "        vertical-align: middle;\n",
       "    }\n",
       "\n",
       "    .dataframe tbody tr th {\n",
       "        vertical-align: top;\n",
       "    }\n",
       "\n",
       "    .dataframe thead th {\n",
       "        text-align: right;\n",
       "    }\n",
       "</style>\n",
       "<table border=\"1\" class=\"dataframe\">\n",
       "  <thead>\n",
       "    <tr style=\"text-align: right;\">\n",
       "      <th></th>\n",
       "      <th>ggt</th>\n",
       "      <th>alt</th>\n",
       "      <th>ast</th>\n",
       "      <th>alk</th>\n",
       "      <th>mcv</th>\n",
       "      <th>iga</th>\n",
       "      <th>igg</th>\n",
       "      <th>leu</th>\n",
       "      <th>glc</th>\n",
       "    </tr>\n",
       "    <tr>\n",
       "      <th>Sample ID</th>\n",
       "      <th></th>\n",
       "      <th></th>\n",
       "      <th></th>\n",
       "      <th></th>\n",
       "      <th></th>\n",
       "      <th></th>\n",
       "      <th></th>\n",
       "      <th></th>\n",
       "      <th></th>\n",
       "    </tr>\n",
       "  </thead>\n",
       "  <tbody>\n",
       "    <tr>\n",
       "      <th>Plate6_G11</th>\n",
       "      <td>86.0</td>\n",
       "      <td>18</td>\n",
       "      <td>27.0</td>\n",
       "      <td>87</td>\n",
       "      <td>88.0</td>\n",
       "      <td>2.15</td>\n",
       "      <td>11.8</td>\n",
       "      <td>9.73</td>\n",
       "      <td>6.7</td>\n",
       "    </tr>\n",
       "    <tr>\n",
       "      <th>Plate1_F7</th>\n",
       "      <td>99.0</td>\n",
       "      <td>23</td>\n",
       "      <td>57.0</td>\n",
       "      <td>112</td>\n",
       "      <td>NaN</td>\n",
       "      <td>NaN</td>\n",
       "      <td>NaN</td>\n",
       "      <td>NaN</td>\n",
       "      <td>5.1</td>\n",
       "    </tr>\n",
       "    <tr>\n",
       "      <th>Plate6_D2</th>\n",
       "      <td>172.0</td>\n",
       "      <td>15</td>\n",
       "      <td>26.0</td>\n",
       "      <td>79</td>\n",
       "      <td>84.0</td>\n",
       "      <td>2.28</td>\n",
       "      <td>8.7</td>\n",
       "      <td>10.70</td>\n",
       "      <td>6.4</td>\n",
       "    </tr>\n",
       "    <tr>\n",
       "      <th>Plate6_C5</th>\n",
       "      <td>1816.0</td>\n",
       "      <td>72</td>\n",
       "      <td>267.0</td>\n",
       "      <td>290</td>\n",
       "      <td>109.5</td>\n",
       "      <td>9.26</td>\n",
       "      <td>18.0</td>\n",
       "      <td>7.60</td>\n",
       "      <td>6.1</td>\n",
       "    </tr>\n",
       "    <tr>\n",
       "      <th>Plate4_F8</th>\n",
       "      <td>166.0</td>\n",
       "      <td>25</td>\n",
       "      <td>37.0</td>\n",
       "      <td>127</td>\n",
       "      <td>80.0</td>\n",
       "      <td>6.10</td>\n",
       "      <td>9.7</td>\n",
       "      <td>16.90</td>\n",
       "      <td>6.1</td>\n",
       "    </tr>\n",
       "  </tbody>\n",
       "</table>\n",
       "</div>"
      ],
      "text/plain": [
       "               ggt  alt    ast  alk    mcv   iga   igg    leu  glc\n",
       "Sample ID                                                         \n",
       "Plate6_G11    86.0   18   27.0   87   88.0  2.15  11.8   9.73  6.7\n",
       "Plate1_F7     99.0   23   57.0  112    NaN   NaN   NaN    NaN  5.1\n",
       "Plate6_D2    172.0   15   26.0   79   84.0  2.28   8.7  10.70  6.4\n",
       "Plate6_C5   1816.0   72  267.0  290  109.5  9.26  18.0   7.60  6.1\n",
       "Plate4_F8    166.0   25   37.0  127   80.0  6.10   9.7  16.90  6.1"
      ]
     },
     "execution_count": 61,
     "metadata": {},
     "output_type": "execute_result"
    }
   ],
   "source": [
    "FEATURES_CLINIC = ['ggt', 'alt', 'ast', 'alk', 'mcv', 'iga', 'igg', 'leu', 'glc']\n",
    "data_cli[FEATURES_CLINIC].head()"
   ]
  },
  {
   "cell_type": "code",
   "execution_count": 62,
   "metadata": {
    "Collapsed": "false"
   },
   "outputs": [],
   "source": [
    "#ToDo"
   ]
  },
  {
   "cell_type": "markdown",
   "metadata": {
    "Collapsed": "false"
   },
   "source": [
    "## Visualization of data\n",
    "\n",
    "Look at UMAPs with labels from disease categories.\n",
    "  - Does the assigned disease correspond to certain groups\n",
    " \n",
    "For clinical data, on could look at a selection of scatter plots in order to see if it is feasible to separate some groups based on two features."
   ]
  },
  {
   "cell_type": "markdown",
   "metadata": {
    "Collapsed": "false"
   },
   "source": [
    "# Models\n",
    "\n",
    "Different _experimental_ setups for prediction models will be compared. First, for the target **fibrosis**. Fibrosis is reported on a five-point scale from stage F0 to F4.\n",
    "\n",
    "ML setup binary    | HP  | F0  | F1  | F2  | F3  | F4\n",
    "--- | --- | ---    | --- | --- | --- | ---\n",
    "HP-F0-F2 vs F3-F4  | c   | c   | c   | c   | t   | t    \n",
    "F0-F2 vs F3-F4 (advanced)    |     | c   | c   | c   | t   | t\n",
    "F0-F1 vs F2-F4 (significant)    |     | c   | c   | t   | t   | t\n",
    "\n",
    "In the table, c stands for control  and t for target. The clinical relevance is to distinguish different \n",
    "stages of disease. The question is wheater one should include a healthy, untested patient cohort can help building a \n",
    "classification model, as e.g. for fibrosis the general prevalence in the population is between 6 to 7 percent. Alternatively a _multi-task model_ with having 5 classes/end-points can be fit.\n",
    "\n",
    "\n",
    "In addition to fibrosis, the endpoints **steatosis** and **inflamation** can be predicted.\n",
    "\n",
    "target      | Scale   | unique values              | N samples\n",
    "-----       | --------| ---------------            | -------\n",
    "fibrosis    | five    | F0, F1, F2, F3, F4         | \n",
    "steatosis   | five    | S0, S1, S2, S3, S4         | \n",
    "inflamation | seven   | I0, I1, I2, I3, I4, I5, I6 | \n",
    "\n",
    "\n",
    "What is population of interest?\n",
    "- population at risk\n",
    "- general population (which we do not have as a \"random\" sample)\n"
   ]
  },
  {
   "cell_type": "markdown",
   "metadata": {
    "Collapsed": "false"
   },
   "source": [
    "## Classifiers and Evaluation Functionality"
   ]
  },
  {
   "cell_type": "markdown",
   "metadata": {
    "Collapsed": "false"
   },
   "source": [
    "### Predefined (Tree-based classifiers, SVMs, GLMs)\n",
    "- Select Classifier by cross-validation using [sklearn functionality](https://scikit-learn.org/stable/model_selection.html#model-selection)"
   ]
  },
  {
   "cell_type": "code",
   "execution_count": 63,
   "metadata": {
    "Collapsed": "false"
   },
   "outputs": [],
   "source": [
    "# Define classifiers\n",
    "# clf_xgbc  = xgboost.XGBClassifier(n_jobs=CPUS-1)\n",
    "clf_rf    = skle.RandomForestClassifier(n_estimators=200, random_state=RANDOMSTATE)\n",
    "\n",
    "clf_lr    = skllm.LogisticRegression(random_state=0, solver='liblinear')\n",
    "clf_lr_key = 'Logistic'\n",
    "\n",
    "clf_svm   = sklearn.svm.SVC(kernel='linear', C=1)\n",
    "\n",
    "clf_tree  = sklearn.tree.DecisionTreeClassifier(max_depth=2, random_state=42)\n",
    "clf_tree_key = 'decision tree'\n",
    "\n",
    "clf_sklearn = {#'xgboost': clf_xgbc,\n",
    "           #'RF': clf_rf,\n",
    "           clf_lr_key: clf_lr,\n",
    "#          clf_tree_key : clf_tree,\n",
    "           #'SVM': clf_svm,\n",
    "           }"
   ]
  },
  {
   "cell_type": "markdown",
   "metadata": {
    "Collapsed": "false"
   },
   "source": [
    "[Refitting](https://scikit-learn.org/stable/tutorial/basic/tutorial.html#refitting-and-updating-parameters) the same estimator by invocing it `fit`-method overwrites the previously learned weights."
   ]
  },
  {
   "cell_type": "markdown",
   "metadata": {
    "Collapsed": "false"
   },
   "source": [
    "### Custom Threshold-based classification\n",
    "Create a classifier based on the threshold which is compatible with the basic scikit-learn functionality, see [instructions](https://scikit-learn.org/stable/developers/develop.html)"
   ]
  },
  {
   "cell_type": "code",
   "execution_count": 64,
   "metadata": {
    "Collapsed": "false"
   },
   "outputs": [],
   "source": [
    "class ThresholdClassifier(sklearn.base.BaseEstimator, sklearn.base.ClassifierMixin):\n",
    "    \"\"\"Classification based on predefined thresholds.\n",
    "    \n",
    "    Class can use several thresholds on variables in data.\n",
    "    Class is defined in order to use previous CV-functionality.\n",
    "    \"\"\"\n",
    "    def __init__(self, threshold={}, cutoff=0.5):\n",
    "        self.cutoff = cutoff\n",
    "        self.threshold = threshold  \n",
    "    \n",
    "    def fit(self, data, target=None):\n",
    "        self.markers = set(self.threshold.keys())\n",
    "        \"\"\"Nothing to fit\"\"\"\n",
    "        if not self.markers.issubset(set(data.columns)): #len(self.markers & set(data.columns)) == len(self.markers):\n",
    "            raise ValueError(\"Data does not contain all specified thresholds: {}\".format(self.markers - set(data.columns)))\n",
    "        if data.loc[:, self.threshold.keys()].isna().any().any():\n",
    "            raise ValueError(\"Data does contain missing values. Please impute values.\")\n",
    "            \n",
    "    def predict_proba(self, data):\n",
    "        \"\"\"Classify for each thresholds and then aggregate results \n",
    "        by summation.\"\"\"\n",
    "        select_markers, thresholds = self.threshold.keys(), self.threshold.values()\n",
    "        result = data.loc[:,select_markers] > list(thresholds)\n",
    "        prob_c1 = result.mean(axis=1)\n",
    "        prob_c0 = 1.0 - prob_c1\n",
    "        result = pd.DataFrame({'prob c0': prob_c0, 'prob c1': prob_c1})\n",
    "        return result.values\n",
    "    \n",
    "    def predict(self, data):\n",
    "        \"\"\"Predicts the class assignment based on the threshold provided or set.\"\"\"\n",
    "        prob = self.predict_proba(data)\n",
    "        return (prob[:,1] >= self.cutoff).astype(int)\n"
   ]
  },
  {
   "cell_type": "code",
   "execution_count": 65,
   "metadata": {
    "Collapsed": "false"
   },
   "outputs": [
    {
     "name": "stdout",
     "output_type": "stream",
     "text": [
      "{'te': 7.0}\n"
     ]
    },
    {
     "data": {
      "text/plain": [
       "array([[0., 1.],\n",
       "       [1., 0.],\n",
       "       [0., 1.],\n",
       "       [0., 1.]])"
      ]
     },
     "execution_count": 65,
     "metadata": {},
     "output_type": "execute_result"
    }
   ],
   "source": [
    "clf_te = ThresholdClassifier(threshold={'te':7.0})\n",
    "print(clf_te.threshold)\n",
    "clf_te.fit(data_cli.fillna(value=0))\n",
    "y_pred = clf_te.predict(data_cli)\n",
    "clf_te.predict_proba(data_cli)[:4]"
   ]
  },
  {
   "cell_type": "markdown",
   "metadata": {
    "Collapsed": "false"
   },
   "source": [
    "Note: Having only one feature for threshold classification does make the definiton of a cutoff unnecessary. AUC-ROC curves have not real value in this case."
   ]
  },
  {
   "cell_type": "code",
   "execution_count": 66,
   "metadata": {
    "Collapsed": "false"
   },
   "outputs": [],
   "source": [
    "# from sklearn.utils.estimator_checks import check_estimator\n",
    "# check_estimator(ThresholdClassifier)"
   ]
  },
  {
   "cell_type": "markdown",
   "metadata": {
    "Collapsed": "true"
   },
   "source": [
    "### Confusion Matrix\n",
    "\n",
    "Saved in `src/scoring.py`"
   ]
  },
  {
   "cell_type": "code",
   "execution_count": 67,
   "metadata": {
    "Collapsed": "false"
   },
   "outputs": [
    {
     "name": "stdout",
     "output_type": "stream",
     "text": [
      "Overwriting src/scoring.py\n"
     ]
    }
   ],
   "source": [
    "%%writefile src/scoring.py\n",
    "\n",
    "import pandas as pd\n",
    "import sklearn\n",
    "import sklearn.metrics as sklm\n",
    "\n",
    "class ConfusionMatrix():\n",
    "    \"\"\"Wrapper for `sklearn.metrics.confusion_matrix`\"\"\"\n",
    "    def __init__(self, y_true, y_pred):\n",
    "        self.cm_ = sklm.confusion_matrix(y_true, y_pred)\n",
    "    \n",
    "    @property\n",
    "    def as_dataframe(self):\n",
    "        if not hasattr(self, 'df'):\n",
    "            self.df = pd.DataFrame(self.cm_)\n",
    "            self.df.index.name = 'true'\n",
    "            self.df.columns.name = 'pred'\n",
    "        return self.df\n",
    "    \n",
    "    def __str__(self):\n",
    "        return str(self.cm_)\n",
    "    \n",
    "    def __repr__(self):\n",
    "        return repr(self.cm_)"
   ]
  },
  {
   "cell_type": "code",
   "execution_count": 68,
   "metadata": {
    "Collapsed": "false"
   },
   "outputs": [],
   "source": [
    "from src.scoring import ConfusionMatrix"
   ]
  },
  {
   "cell_type": "markdown",
   "metadata": {
    "Collapsed": "false"
   },
   "source": [
    "How to use it, e.g. for using a clinical marker cutoff for fibrosis:"
   ]
  },
  {
   "cell_type": "code",
   "execution_count": 69,
   "metadata": {
    "Collapsed": "false"
   },
   "outputs": [
    {
     "name": "stdout",
     "output_type": "stream",
     "text": [
      "As DataFrame:\n",
      " pred    0    1\n",
      "true          \n",
      "0     280  123\n",
      "1       9   85\n",
      "Plain:\n",
      " [[280 123]\n",
      " [  9  85]]\n"
     ]
    }
   ],
   "source": [
    "y_true = data_cli.kleiner > 2.0\n",
    "\n",
    "# y_pred defined as Threshold-example\n",
    "cm_f2_te = ConfusionMatrix(y_true, y_pred)\n",
    "print(\"As DataFrame:\\n\",cm_f2_te.as_dataframe)\n",
    "print(\"Plain:\\n\",cm_f2_te)"
   ]
  },
  {
   "cell_type": "markdown",
   "metadata": {
    "Collapsed": "false"
   },
   "source": [
    "### Cross-Validation Procedure"
   ]
  },
  {
   "cell_type": "markdown",
   "metadata": {
    "Collapsed": "false"
   },
   "source": [
    "*Note on Cross-Validation Procedure*\n",
    "- Comparing the performance on random splits of the entire data will lead to overconfident predicitons.\n",
    "- Performing the Cross-Validation only on a `Train`-split would allow to have a better evaluation on the test dataset. \n",
    "- Cutoff calibration would need a validation split"
   ]
  },
  {
   "cell_type": "code",
   "execution_count": 70,
   "metadata": {
    "Collapsed": "false"
   },
   "outputs": [],
   "source": [
    "from sklearn.model_selection import cross_validate\n",
    "from sklearn.metrics import roc_curve\n",
    "scoring = ['precision', 'recall', 'f1', 'balanced_accuracy', 'roc_auc'] # how to customize cutoff?\n",
    "# in clinical setting, false-alarms are preferrable than missed detections. Yes we should find a way to customize the cutoffs\n",
    "# to have a high sensitivity but also decent specificity, but I guess it risks over-tuning on this specific dataset? \n",
    "# Can one ramp over and find the optimal based on F1 score? Would MCC be a better alternative?\n",
    "\n",
    "# sklearn.metrics import plot_roc_curve\n",
    "# from sklearn.metrics import make_scorer\n",
    "# scoring = {x: x for x in scoring}\n",
    "# scoring.update(tpr_fpr_trs= make_scorer(plot_roc_curve)) # not allowed as it needs to return a number\n",
    "# scoring"
   ]
  },
  {
   "cell_type": "code",
   "execution_count": 71,
   "metadata": {
    "Collapsed": "false"
   },
   "outputs": [
    {
     "data": {
      "text/plain": [
       "{'precision': <function sklearn.metrics._classification.precision_score(y_true, y_pred, labels=None, pos_label=1, average='binary', sample_weight=None, zero_division='warn')>,\n",
       " 'recall': <function sklearn.metrics._classification.recall_score(y_true, y_pred, labels=None, pos_label=1, average='binary', sample_weight=None, zero_division='warn')>,\n",
       " 'f1': <function sklearn.metrics._classification.f1_score(y_true, y_pred, labels=None, pos_label=1, average='binary', sample_weight=None, zero_division='warn')>,\n",
       " 'balanced_accuracy': <function sklearn.metrics._classification.balanced_accuracy_score(y_true, y_pred, sample_weight=None, adjusted=False)>,\n",
       " 'roc_auc': <function sklearn.metrics._ranking.roc_auc_score(y_true, y_score, average='macro', sample_weight=None, max_fpr=None, multi_class='raise', labels=None)>}"
      ]
     },
     "execution_count": 71,
     "metadata": {},
     "output_type": "execute_result"
    }
   ],
   "source": [
    "import sklearn.metrics as metrics\n",
    "scorer_dict = {}\n",
    "scorer_dict = {metric:metric+'_score' for metric in scoring}\n",
    "scorer_dict = {key: getattr(metrics, metric) for key, metric in scorer_dict.items()}\n",
    "scorer_dict"
   ]
  },
  {
   "cell_type": "code",
   "execution_count": 72,
   "metadata": {
    "Collapsed": "false"
   },
   "outputs": [],
   "source": [
    "import pandas as pd\n",
    "def run_cv_binary(clf_dict:dict, X:pd.DataFrame, y:pd.Series, cv=5, \n",
    "                  scoring=scoring,\n",
    "                  prefix='')-> dict:\n",
    "    \"\"\"Run Cross Validation (cv) for binary classification example\n",
    "    for a set of classifiers.\n",
    "    \n",
    "    \n",
    "    Inputs\n",
    "    ------\n",
    "    clf_dict: dict\n",
    "        Dictionary with keys and scikit-learn classifiers as values.\n",
    "    X: 2D-array, pd.DataFrame\n",
    "        Input data\n",
    "    y: 1D-array, pd.Series\n",
    "        Targets for classification\n",
    "    cv: int\n",
    "        Number of splits for Cross-Validation.\n",
    "    prefix: str\n",
    "        Prefix for clf-key for custom naming.\n",
    "    \n",
    "    Returns\n",
    "    -------\n",
    "    dict: dict with keys of clf_dict and computed results for each run. \n",
    "    \"\"\"\n",
    "    cv_results = {}\n",
    "    roc_curve_results = {}\n",
    "    for key, clf in clf_dict.items():\n",
    "        key = prefix + key\n",
    "        cv_results[key] = cross_validate(clf, X, y=y, cv=cv, scoring=scoring)\n",
    "        cv_results[key]['num_feat'] = X.shape[-1]\n",
    "        cv_results[key]['n_obs']  = len(y)\n",
    "    return cv_results\n",
    "\n",
    "#ToDo: Write a test and or see if this is can be done differently\n",
    "def _get_cv_means(results_dict:dict) -> pd.DataFrame:\n",
    "    \"\"\"Convert result-dictionary of runs to averaged dataframe of results.\n",
    "    Gives mean and standard deviation by variable.\"\"\"\n",
    "    results = pd.DataFrame(results_dict)\n",
    "    \n",
    "    cv_means = results.applymap(np.mean).T\n",
    "    cv_std   = results.applymap(np.std).T\n",
    "        \n",
    "\n",
    "    # is there a pandas way?\n",
    "    order = list(cv_means.columns)\n",
    "    columns = []\n",
    "    for x in order:\n",
    "        columns += [x, x + '_std']\n",
    "    \n",
    "    cv_results = cv_means.join(cv_std, rsuffix= '_std', sort=True)\n",
    "    cv_results = cv_results[columns]\n",
    "    \n",
    "    levels = [cv_means.columns, ['mean', 'std']]\n",
    "    multi_index = pd.MultiIndex.from_product(levels, names=['variable', 'statistics'])\n",
    "    cv_results.columns = multi_index\n",
    "    return cv_results"
   ]
  },
  {
   "cell_type": "code",
   "execution_count": 73,
   "metadata": {},
   "outputs": [
    {
     "data": {
      "text/html": [
       "<div>\n",
       "<style scoped>\n",
       "    .dataframe tbody tr th:only-of-type {\n",
       "        vertical-align: middle;\n",
       "    }\n",
       "\n",
       "    .dataframe tbody tr th {\n",
       "        vertical-align: top;\n",
       "    }\n",
       "\n",
       "    .dataframe thead th {\n",
       "        text-align: right;\n",
       "    }\n",
       "</style>\n",
       "<table border=\"1\" class=\"dataframe\">\n",
       "  <thead>\n",
       "    <tr style=\"text-align: right;\">\n",
       "      <th></th>\n",
       "      <th>age</th>\n",
       "      <th>bmi</th>\n",
       "      <th>gender_num</th>\n",
       "    </tr>\n",
       "    <tr>\n",
       "      <th>Sample ID</th>\n",
       "      <th></th>\n",
       "      <th></th>\n",
       "      <th></th>\n",
       "    </tr>\n",
       "  </thead>\n",
       "  <tbody>\n",
       "    <tr>\n",
       "      <th>Plate6_G11</th>\n",
       "      <td>64</td>\n",
       "      <td>19.369835</td>\n",
       "      <td>1</td>\n",
       "    </tr>\n",
       "    <tr>\n",
       "      <th>Plate1_F7</th>\n",
       "      <td>74</td>\n",
       "      <td>29.862259</td>\n",
       "      <td>1</td>\n",
       "    </tr>\n",
       "    <tr>\n",
       "      <th>Plate6_D2</th>\n",
       "      <td>71</td>\n",
       "      <td>29.058943</td>\n",
       "      <td>1</td>\n",
       "    </tr>\n",
       "    <tr>\n",
       "      <th>Plate6_C5</th>\n",
       "      <td>53</td>\n",
       "      <td>18.924406</td>\n",
       "      <td>1</td>\n",
       "    </tr>\n",
       "    <tr>\n",
       "      <th>Plate4_F8</th>\n",
       "      <td>63</td>\n",
       "      <td>26.149277</td>\n",
       "      <td>1</td>\n",
       "    </tr>\n",
       "    <tr>\n",
       "      <th>...</th>\n",
       "      <td>...</td>\n",
       "      <td>...</td>\n",
       "      <td>...</td>\n",
       "    </tr>\n",
       "    <tr>\n",
       "      <th>Plate6_A3</th>\n",
       "      <td>69</td>\n",
       "      <td>34.000000</td>\n",
       "      <td>1</td>\n",
       "    </tr>\n",
       "    <tr>\n",
       "      <th>Plate4_B7</th>\n",
       "      <td>68</td>\n",
       "      <td>26.500000</td>\n",
       "      <td>1</td>\n",
       "    </tr>\n",
       "    <tr>\n",
       "      <th>Plate3_C8</th>\n",
       "      <td>51</td>\n",
       "      <td>27.299999</td>\n",
       "      <td>1</td>\n",
       "    </tr>\n",
       "    <tr>\n",
       "      <th>Plate7_A11</th>\n",
       "      <td>57</td>\n",
       "      <td>25.100000</td>\n",
       "      <td>1</td>\n",
       "    </tr>\n",
       "    <tr>\n",
       "      <th>Plate3_G11</th>\n",
       "      <td>69</td>\n",
       "      <td>26.200001</td>\n",
       "      <td>1</td>\n",
       "    </tr>\n",
       "  </tbody>\n",
       "</table>\n",
       "<p>487 rows × 3 columns</p>\n",
       "</div>"
      ],
      "text/plain": [
       "            age        bmi  gender_num\n",
       "Sample ID                             \n",
       "Plate6_G11   64  19.369835           1\n",
       "Plate1_F7    74  29.862259           1\n",
       "Plate6_D2    71  29.058943           1\n",
       "Plate6_C5    53  18.924406           1\n",
       "Plate4_F8    63  26.149277           1\n",
       "...         ...        ...         ...\n",
       "Plate6_A3    69  34.000000           1\n",
       "Plate4_B7    68  26.500000           1\n",
       "Plate3_C8    51  27.299999           1\n",
       "Plate7_A11   57  25.100000           1\n",
       "Plate3_G11   69  26.200001           1\n",
       "\n",
       "[487 rows x 3 columns]"
      ]
     },
     "execution_count": 73,
     "metadata": {},
     "output_type": "execute_result"
    }
   ],
   "source": [
    "demographics.dropna()"
   ]
  },
  {
   "cell_type": "code",
   "execution_count": 74,
   "metadata": {},
   "outputs": [
    {
     "name": "stdout",
     "output_type": "stream",
     "text": [
      "Indices having missing some features: Plate1_D12, Plate2_H4\n"
     ]
    }
   ],
   "source": [
    "_y = kleiner_ge_2\n",
    "_X = demographics[['age', 'bmi', 'gender_num']].dropna()\n",
    "_intersection = _y.index.intersection(_X.index)\n",
    "#assert len(_intersection) == len(_y.index), \"Missing indices in feature data: {}\".format(\", \".join(_y.index.difference(_intersection)))\n",
    "print(\"Indices having missing some features: {}\".format(\", \".join(_y.index.difference(_intersection))))"
   ]
  },
  {
   "cell_type": "markdown",
   "metadata": {},
   "source": [
    "Two samples have no relative weight information associated: Plate1_D12, Plate2_H4"
   ]
  },
  {
   "cell_type": "code",
   "execution_count": 75,
   "metadata": {},
   "outputs": [],
   "source": [
    "_y = kleiner_ge_2\n",
    "_X = demographics[['age', 'gender_num']].dropna()\n",
    "_intersection = _y.index.intersection(_X.index)\n",
    "assert len(_intersection) == len(_y.index), \"Missing indices in feature data: {}\".format(\", \".join(_y.index.difference(_intersection)))"
   ]
  },
  {
   "cell_type": "code",
   "execution_count": 76,
   "metadata": {},
   "outputs": [
    {
     "data": {
      "text/html": [
       "<div>\n",
       "<style scoped>\n",
       "    .dataframe tbody tr th:only-of-type {\n",
       "        vertical-align: middle;\n",
       "    }\n",
       "\n",
       "    .dataframe tbody tr th {\n",
       "        vertical-align: top;\n",
       "    }\n",
       "\n",
       "    .dataframe thead th {\n",
       "        text-align: right;\n",
       "    }\n",
       "</style>\n",
       "<table border=\"1\" class=\"dataframe\">\n",
       "  <thead>\n",
       "    <tr style=\"text-align: right;\">\n",
       "      <th></th>\n",
       "      <th>te</th>\n",
       "    </tr>\n",
       "    <tr>\n",
       "      <th>Sample ID</th>\n",
       "      <th></th>\n",
       "    </tr>\n",
       "  </thead>\n",
       "  <tbody>\n",
       "    <tr>\n",
       "      <th>Plate6_G11</th>\n",
       "      <td>9.3</td>\n",
       "    </tr>\n",
       "    <tr>\n",
       "      <th>Plate1_F7</th>\n",
       "      <td>0.0</td>\n",
       "    </tr>\n",
       "    <tr>\n",
       "      <th>Plate6_D2</th>\n",
       "      <td>8.7</td>\n",
       "    </tr>\n",
       "    <tr>\n",
       "      <th>Plate6_C5</th>\n",
       "      <td>19.1</td>\n",
       "    </tr>\n",
       "    <tr>\n",
       "      <th>Plate4_F8</th>\n",
       "      <td>75.0</td>\n",
       "    </tr>\n",
       "    <tr>\n",
       "      <th>...</th>\n",
       "      <td>...</td>\n",
       "    </tr>\n",
       "    <tr>\n",
       "      <th>Plate4_B7</th>\n",
       "      <td>4.5</td>\n",
       "    </tr>\n",
       "    <tr>\n",
       "      <th>Plate3_C8</th>\n",
       "      <td>5.4</td>\n",
       "    </tr>\n",
       "    <tr>\n",
       "      <th>Plate7_A11</th>\n",
       "      <td>4.7</td>\n",
       "    </tr>\n",
       "    <tr>\n",
       "      <th>Plate3_G11</th>\n",
       "      <td>5.9</td>\n",
       "    </tr>\n",
       "    <tr>\n",
       "      <th>Plate3_F10</th>\n",
       "      <td>5.3</td>\n",
       "    </tr>\n",
       "  </tbody>\n",
       "</table>\n",
       "<p>497 rows × 1 columns</p>\n",
       "</div>"
      ],
      "text/plain": [
       "              te\n",
       "Sample ID       \n",
       "Plate6_G11   9.3\n",
       "Plate1_F7    0.0\n",
       "Plate6_D2    8.7\n",
       "Plate6_C5   19.1\n",
       "Plate4_F8   75.0\n",
       "...          ...\n",
       "Plate4_B7    4.5\n",
       "Plate3_C8    5.4\n",
       "Plate7_A11   4.7\n",
       "Plate3_G11   5.9\n",
       "Plate3_F10   5.3\n",
       "\n",
       "[497 rows x 1 columns]"
      ]
     },
     "execution_count": 76,
     "metadata": {},
     "output_type": "execute_result"
    }
   ],
   "source": [
    "_X = data_cli.te.to_frame().fillna(0)\n",
    "# _X = _X.join(demographics[['age', 'gender_num']])\n",
    "_X"
   ]
  },
  {
   "cell_type": "code",
   "execution_count": 77,
   "metadata": {},
   "outputs": [
    {
     "data": {
      "text/html": [
       "<div>\n",
       "<style scoped>\n",
       "    .dataframe tbody tr th:only-of-type {\n",
       "        vertical-align: middle;\n",
       "    }\n",
       "\n",
       "    .dataframe tbody tr th {\n",
       "        vertical-align: top;\n",
       "    }\n",
       "\n",
       "    .dataframe thead th {\n",
       "        text-align: right;\n",
       "    }\n",
       "</style>\n",
       "<table border=\"1\" class=\"dataframe\">\n",
       "  <thead>\n",
       "    <tr style=\"text-align: right;\">\n",
       "      <th></th>\n",
       "      <th>te</th>\n",
       "    </tr>\n",
       "    <tr>\n",
       "      <th>Sample ID</th>\n",
       "      <th></th>\n",
       "    </tr>\n",
       "  </thead>\n",
       "  <tbody>\n",
       "    <tr>\n",
       "      <th>Plate6_G11</th>\n",
       "      <td>9.300000</td>\n",
       "    </tr>\n",
       "    <tr>\n",
       "      <th>Plate1_F7</th>\n",
       "      <td>0.000000</td>\n",
       "    </tr>\n",
       "    <tr>\n",
       "      <th>Plate6_D2</th>\n",
       "      <td>8.700000</td>\n",
       "    </tr>\n",
       "    <tr>\n",
       "      <th>Plate6_C5</th>\n",
       "      <td>19.100000</td>\n",
       "    </tr>\n",
       "    <tr>\n",
       "      <th>Plate4_F8</th>\n",
       "      <td>75.000000</td>\n",
       "    </tr>\n",
       "    <tr>\n",
       "      <th>...</th>\n",
       "      <td>...</td>\n",
       "    </tr>\n",
       "    <tr>\n",
       "      <th>Plate3_E10</th>\n",
       "      <td>8.200000</td>\n",
       "    </tr>\n",
       "    <tr>\n",
       "      <th>Plate3_G2</th>\n",
       "      <td>36.900002</td>\n",
       "    </tr>\n",
       "    <tr>\n",
       "      <th>Plate5_B10</th>\n",
       "      <td>4.900000</td>\n",
       "    </tr>\n",
       "    <tr>\n",
       "      <th>Plate2_F6</th>\n",
       "      <td>30.400000</td>\n",
       "    </tr>\n",
       "    <tr>\n",
       "      <th>Plate2_F7</th>\n",
       "      <td>40.299999</td>\n",
       "    </tr>\n",
       "  </tbody>\n",
       "</table>\n",
       "<p>360 rows × 1 columns</p>\n",
       "</div>"
      ],
      "text/plain": [
       "                   te\n",
       "Sample ID            \n",
       "Plate6_G11   9.300000\n",
       "Plate1_F7    0.000000\n",
       "Plate6_D2    8.700000\n",
       "Plate6_C5   19.100000\n",
       "Plate4_F8   75.000000\n",
       "...               ...\n",
       "Plate3_E10   8.200000\n",
       "Plate3_G2   36.900002\n",
       "Plate5_B10   4.900000\n",
       "Plate2_F6   30.400000\n",
       "Plate2_F7   40.299999\n",
       "\n",
       "[360 rows x 1 columns]"
      ]
     },
     "execution_count": 77,
     "metadata": {},
     "output_type": "execute_result"
    }
   ],
   "source": [
    "in_both = _y.index.intersection(_X.index)\n",
    "_X = _X.loc[in_both]\n",
    "_X"
   ]
  },
  {
   "cell_type": "markdown",
   "metadata": {
    "Collapsed": "false"
   },
   "source": [
    "e.g. for clinical marker"
   ]
  },
  {
   "cell_type": "code",
   "execution_count": 78,
   "metadata": {
    "Collapsed": "false"
   },
   "outputs": [
    {
     "name": "stdout",
     "output_type": "stream",
     "text": [
      "Klassifiers: f2_te, Logistic\n"
     ]
    },
    {
     "data": {
      "text/plain": [
       "dict_keys(['f2_te', 'Logistic'])"
      ]
     },
     "execution_count": 78,
     "metadata": {},
     "output_type": "execute_result"
    }
   ],
   "source": [
    "clf = {**{'f2_te': clf_te}, **clf_sklearn}\n",
    "print(\"Klassifiers:\", \", \".join(clf.keys()))\n",
    "\n",
    "result_dict = run_cv_binary(clf, X=_X, y=_y, cv=5, scoring=scoring)\n",
    "result_dict.keys()"
   ]
  },
  {
   "cell_type": "code",
   "execution_count": 79,
   "metadata": {},
   "outputs": [
    {
     "data": {
      "text/html": [
       "<div>\n",
       "<style scoped>\n",
       "    .dataframe tbody tr th:only-of-type {\n",
       "        vertical-align: middle;\n",
       "    }\n",
       "\n",
       "    .dataframe tbody tr th {\n",
       "        vertical-align: top;\n",
       "    }\n",
       "\n",
       "    .dataframe thead tr th {\n",
       "        text-align: left;\n",
       "    }\n",
       "</style>\n",
       "<table border=\"1\" class=\"dataframe\">\n",
       "  <thead>\n",
       "    <tr>\n",
       "      <th>variable</th>\n",
       "      <th colspan=\"2\" halign=\"left\">fit_time</th>\n",
       "      <th colspan=\"2\" halign=\"left\">score_time</th>\n",
       "      <th colspan=\"2\" halign=\"left\">test_precision</th>\n",
       "      <th colspan=\"2\" halign=\"left\">test_recall</th>\n",
       "      <th colspan=\"2\" halign=\"left\">test_f1</th>\n",
       "      <th colspan=\"2\" halign=\"left\">test_balanced_accuracy</th>\n",
       "      <th colspan=\"2\" halign=\"left\">test_roc_auc</th>\n",
       "      <th colspan=\"2\" halign=\"left\">num_feat</th>\n",
       "      <th colspan=\"2\" halign=\"left\">n_obs</th>\n",
       "    </tr>\n",
       "    <tr>\n",
       "      <th>statistics</th>\n",
       "      <th>mean</th>\n",
       "      <th>std</th>\n",
       "      <th>mean</th>\n",
       "      <th>std</th>\n",
       "      <th>mean</th>\n",
       "      <th>std</th>\n",
       "      <th>mean</th>\n",
       "      <th>std</th>\n",
       "      <th>mean</th>\n",
       "      <th>std</th>\n",
       "      <th>mean</th>\n",
       "      <th>std</th>\n",
       "      <th>mean</th>\n",
       "      <th>std</th>\n",
       "      <th>mean</th>\n",
       "      <th>std</th>\n",
       "      <th>mean</th>\n",
       "      <th>std</th>\n",
       "    </tr>\n",
       "  </thead>\n",
       "  <tbody>\n",
       "    <tr>\n",
       "      <th>Logistic</th>\n",
       "      <td>0.003400</td>\n",
       "      <td>0.000488</td>\n",
       "      <td>0.007801</td>\n",
       "      <td>0.000748</td>\n",
       "      <td>0.846000</td>\n",
       "      <td>0.119711</td>\n",
       "      <td>0.705</td>\n",
       "      <td>0.123895</td>\n",
       "      <td>0.751956</td>\n",
       "      <td>0.049203</td>\n",
       "      <td>0.74625</td>\n",
       "      <td>0.081452</td>\n",
       "      <td>0.829453</td>\n",
       "      <td>0.029588</td>\n",
       "      <td>1.0</td>\n",
       "      <td>0.0</td>\n",
       "      <td>360.0</td>\n",
       "      <td>0.0</td>\n",
       "    </tr>\n",
       "    <tr>\n",
       "      <th>f2_te</th>\n",
       "      <td>0.003798</td>\n",
       "      <td>0.000403</td>\n",
       "      <td>0.016199</td>\n",
       "      <td>0.001167</td>\n",
       "      <td>0.788256</td>\n",
       "      <td>0.099734</td>\n",
       "      <td>0.765</td>\n",
       "      <td>0.090277</td>\n",
       "      <td>0.765368</td>\n",
       "      <td>0.032199</td>\n",
       "      <td>0.73250</td>\n",
       "      <td>0.083212</td>\n",
       "      <td>0.732500</td>\n",
       "      <td>0.083212</td>\n",
       "      <td>1.0</td>\n",
       "      <td>0.0</td>\n",
       "      <td>360.0</td>\n",
       "      <td>0.0</td>\n",
       "    </tr>\n",
       "  </tbody>\n",
       "</table>\n",
       "</div>"
      ],
      "text/plain": [
       "variable    fit_time           score_time           test_precision            \\\n",
       "statistics      mean       std       mean       std           mean       std   \n",
       "Logistic    0.003400  0.000488   0.007801  0.000748       0.846000  0.119711   \n",
       "f2_te       0.003798  0.000403   0.016199  0.001167       0.788256  0.099734   \n",
       "\n",
       "variable   test_recall             test_f1           test_balanced_accuracy  \\\n",
       "statistics        mean       std      mean       std                   mean   \n",
       "Logistic         0.705  0.123895  0.751956  0.049203                0.74625   \n",
       "f2_te            0.765  0.090277  0.765368  0.032199                0.73250   \n",
       "\n",
       "variable             test_roc_auc           num_feat       n_obs       \n",
       "statistics       std         mean       std     mean  std   mean  std  \n",
       "Logistic    0.081452     0.829453  0.029588      1.0  0.0  360.0  0.0  \n",
       "f2_te       0.083212     0.732500  0.083212      1.0  0.0  360.0  0.0  "
      ]
     },
     "execution_count": 79,
     "metadata": {},
     "output_type": "execute_result"
    }
   ],
   "source": [
    "_get_cv_means(result_dict).sort_values(('test_f1', 'mean'))"
   ]
  },
  {
   "cell_type": "code",
   "execution_count": 80,
   "metadata": {
    "Collapsed": "false"
   },
   "outputs": [
    {
     "data": {
      "text/html": [
       "<div>\n",
       "<style scoped>\n",
       "    .dataframe tbody tr th:only-of-type {\n",
       "        vertical-align: middle;\n",
       "    }\n",
       "\n",
       "    .dataframe tbody tr th {\n",
       "        vertical-align: top;\n",
       "    }\n",
       "\n",
       "    .dataframe thead tr th {\n",
       "        text-align: left;\n",
       "    }\n",
       "</style>\n",
       "<table border=\"1\" class=\"dataframe\">\n",
       "  <thead>\n",
       "    <tr>\n",
       "      <th>variable</th>\n",
       "      <th colspan=\"2\" halign=\"left\">fit_time</th>\n",
       "      <th colspan=\"2\" halign=\"left\">score_time</th>\n",
       "      <th colspan=\"2\" halign=\"left\">test_precision</th>\n",
       "      <th colspan=\"2\" halign=\"left\">test_recall</th>\n",
       "      <th colspan=\"2\" halign=\"left\">test_f1</th>\n",
       "      <th colspan=\"2\" halign=\"left\">test_balanced_accuracy</th>\n",
       "      <th colspan=\"2\" halign=\"left\">test_roc_auc</th>\n",
       "      <th colspan=\"2\" halign=\"left\">num_feat</th>\n",
       "      <th colspan=\"2\" halign=\"left\">n_obs</th>\n",
       "    </tr>\n",
       "    <tr>\n",
       "      <th>statistics</th>\n",
       "      <th>mean</th>\n",
       "      <th>std</th>\n",
       "      <th>mean</th>\n",
       "      <th>std</th>\n",
       "      <th>mean</th>\n",
       "      <th>std</th>\n",
       "      <th>mean</th>\n",
       "      <th>std</th>\n",
       "      <th>mean</th>\n",
       "      <th>std</th>\n",
       "      <th>mean</th>\n",
       "      <th>std</th>\n",
       "      <th>mean</th>\n",
       "      <th>std</th>\n",
       "      <th>mean</th>\n",
       "      <th>std</th>\n",
       "      <th>mean</th>\n",
       "      <th>std</th>\n",
       "    </tr>\n",
       "  </thead>\n",
       "  <tbody>\n",
       "    <tr>\n",
       "      <th>Logistic</th>\n",
       "      <td>0.003400</td>\n",
       "      <td>0.000488</td>\n",
       "      <td>0.007801</td>\n",
       "      <td>0.000748</td>\n",
       "      <td>0.846000</td>\n",
       "      <td>0.119711</td>\n",
       "      <td>0.705</td>\n",
       "      <td>0.123895</td>\n",
       "      <td>0.751956</td>\n",
       "      <td>0.049203</td>\n",
       "      <td>0.74625</td>\n",
       "      <td>0.081452</td>\n",
       "      <td>0.829453</td>\n",
       "      <td>0.029588</td>\n",
       "      <td>1.0</td>\n",
       "      <td>0.0</td>\n",
       "      <td>360.0</td>\n",
       "      <td>0.0</td>\n",
       "    </tr>\n",
       "    <tr>\n",
       "      <th>f2_te</th>\n",
       "      <td>0.003798</td>\n",
       "      <td>0.000403</td>\n",
       "      <td>0.016199</td>\n",
       "      <td>0.001167</td>\n",
       "      <td>0.788256</td>\n",
       "      <td>0.099734</td>\n",
       "      <td>0.765</td>\n",
       "      <td>0.090277</td>\n",
       "      <td>0.765368</td>\n",
       "      <td>0.032199</td>\n",
       "      <td>0.73250</td>\n",
       "      <td>0.083212</td>\n",
       "      <td>0.732500</td>\n",
       "      <td>0.083212</td>\n",
       "      <td>1.0</td>\n",
       "      <td>0.0</td>\n",
       "      <td>360.0</td>\n",
       "      <td>0.0</td>\n",
       "    </tr>\n",
       "  </tbody>\n",
       "</table>\n",
       "</div>"
      ],
      "text/plain": [
       "variable    fit_time           score_time           test_precision            \\\n",
       "statistics      mean       std       mean       std           mean       std   \n",
       "Logistic    0.003400  0.000488   0.007801  0.000748       0.846000  0.119711   \n",
       "f2_te       0.003798  0.000403   0.016199  0.001167       0.788256  0.099734   \n",
       "\n",
       "variable   test_recall             test_f1           test_balanced_accuracy  \\\n",
       "statistics        mean       std      mean       std                   mean   \n",
       "Logistic         0.705  0.123895  0.751956  0.049203                0.74625   \n",
       "f2_te            0.765  0.090277  0.765368  0.032199                0.73250   \n",
       "\n",
       "variable             test_roc_auc           num_feat       n_obs       \n",
       "statistics       std         mean       std     mean  std   mean  std  \n",
       "Logistic    0.081452     0.829453  0.029588      1.0  0.0  360.0  0.0  \n",
       "f2_te       0.083212     0.732500  0.083212      1.0  0.0  360.0  0.0  "
      ]
     },
     "execution_count": 80,
     "metadata": {},
     "output_type": "execute_result"
    }
   ],
   "source": [
    "_get_cv_means(result_dict).sort_values(('test_f1', 'mean'))"
   ]
  },
  {
   "cell_type": "markdown",
   "metadata": {
    "Collapsed": "false"
   },
   "source": [
    "> NOTE: The ROC_AUC value is misleading in case of the ThresholdClassification `f2_te` as the predictor does not yield probabilites (only $y_{predicted} \\in \\{0,1\\}$)."
   ]
  },
  {
   "cell_type": "markdown",
   "metadata": {},
   "source": [
    "Try to visualize Decision Tree"
   ]
  },
  {
   "cell_type": "code",
   "execution_count": 81,
   "metadata": {},
   "outputs": [
    {
     "data": {
      "image/svg+xml": [
       "<?xml version=\"1.0\" encoding=\"UTF-8\" standalone=\"no\"?>\r\n",
       "<!DOCTYPE svg PUBLIC \"-//W3C//DTD SVG 1.1//EN\"\r\n",
       " \"http://www.w3.org/Graphics/SVG/1.1/DTD/svg11.dtd\">\r\n",
       "<!-- Generated by graphviz version 2.38.0 (20140413.2041)\r\n",
       " -->\r\n",
       "<!-- Title: Tree Pages: 1 -->\r\n",
       "<svg width=\"500pt\" height=\"314pt\"\r\n",
       " viewBox=\"0.00 0.00 499.50 314.00\" xmlns=\"http://www.w3.org/2000/svg\" xmlns:xlink=\"http://www.w3.org/1999/xlink\">\r\n",
       "<g id=\"graph0\" class=\"graph\" transform=\"scale(1 1) rotate(0) translate(4 310)\">\r\n",
       "<title>Tree</title>\r\n",
       "<polygon fill=\"white\" stroke=\"none\" points=\"-4,4 -4,-310 495.5,-310 495.5,4 -4,4\"/>\r\n",
       "<!-- 0 -->\r\n",
       "<g id=\"node1\" class=\"node\"><title>0</title>\r\n",
       "<path fill=\"#d7ebfa\" stroke=\"black\" d=\"M302,-306C302,-306 196,-306 196,-306 190,-306 184,-300 184,-294 184,-294 184,-235 184,-235 184,-229 190,-223 196,-223 196,-223 302,-223 302,-223 308,-223 314,-229 314,-235 314,-235 314,-294 314,-294 314,-300 308,-306 302,-306\"/>\r\n",
       "<text text-anchor=\"middle\" x=\"249\" y=\"-290.8\" font-family=\"Helvetica,sans-Serif\" font-size=\"14.00\">te &lt;= 10.7</text>\r\n",
       "<text text-anchor=\"middle\" x=\"249\" y=\"-275.8\" font-family=\"Helvetica,sans-Serif\" font-size=\"14.00\">gini = 0.494</text>\r\n",
       "<text text-anchor=\"middle\" x=\"249\" y=\"-260.8\" font-family=\"Helvetica,sans-Serif\" font-size=\"14.00\">samples = 288</text>\r\n",
       "<text text-anchor=\"middle\" x=\"249\" y=\"-245.8\" font-family=\"Helvetica,sans-Serif\" font-size=\"14.00\">value = [128, 160]</text>\r\n",
       "<text text-anchor=\"middle\" x=\"249\" y=\"-230.8\" font-family=\"Helvetica,sans-Serif\" font-size=\"14.00\">class = F2&#45;F4</text>\r\n",
       "</g>\r\n",
       "<!-- 1 -->\r\n",
       "<g id=\"node2\" class=\"node\"><title>1</title>\r\n",
       "<path fill=\"#f4c8a8\" stroke=\"black\" d=\"M231,-187C231,-187 133,-187 133,-187 127,-187 121,-181 121,-175 121,-175 121,-116 121,-116 121,-110 127,-104 133,-104 133,-104 231,-104 231,-104 237,-104 243,-110 243,-116 243,-116 243,-175 243,-175 243,-181 237,-187 231,-187\"/>\r\n",
       "<text text-anchor=\"middle\" x=\"182\" y=\"-171.8\" font-family=\"Helvetica,sans-Serif\" font-size=\"14.00\">te &lt;= 1.05</text>\r\n",
       "<text text-anchor=\"middle\" x=\"182\" y=\"-156.8\" font-family=\"Helvetica,sans-Serif\" font-size=\"14.00\">gini = 0.461</text>\r\n",
       "<text text-anchor=\"middle\" x=\"182\" y=\"-141.8\" font-family=\"Helvetica,sans-Serif\" font-size=\"14.00\">samples = 186</text>\r\n",
       "<text text-anchor=\"middle\" x=\"182\" y=\"-126.8\" font-family=\"Helvetica,sans-Serif\" font-size=\"14.00\">value = [119, 67]</text>\r\n",
       "<text text-anchor=\"middle\" x=\"182\" y=\"-111.8\" font-family=\"Helvetica,sans-Serif\" font-size=\"14.00\">class = F0&#45;F1</text>\r\n",
       "</g>\r\n",
       "<!-- 0&#45;&gt;1 -->\r\n",
       "<g id=\"edge1\" class=\"edge\"><title>0&#45;&gt;1</title>\r\n",
       "<path fill=\"none\" stroke=\"black\" d=\"M225.755,-222.907C220.766,-214.195 215.441,-204.897 210.285,-195.893\"/>\r\n",
       "<polygon fill=\"black\" stroke=\"black\" points=\"213.211,-193.959 205.204,-187.021 207.136,-197.438 213.211,-193.959\"/>\r\n",
       "<text text-anchor=\"middle\" x=\"198.648\" y=\"-207.446\" font-family=\"Helvetica,sans-Serif\" font-size=\"14.00\">True</text>\r\n",
       "</g>\r\n",
       "<!-- 4 -->\r\n",
       "<g id=\"node5\" class=\"node\"><title>4</title>\r\n",
       "<path fill=\"#4ca6e8\" stroke=\"black\" d=\"M360.5,-187C360.5,-187 273.5,-187 273.5,-187 267.5,-187 261.5,-181 261.5,-175 261.5,-175 261.5,-116 261.5,-116 261.5,-110 267.5,-104 273.5,-104 273.5,-104 360.5,-104 360.5,-104 366.5,-104 372.5,-110 372.5,-116 372.5,-116 372.5,-175 372.5,-175 372.5,-181 366.5,-187 360.5,-187\"/>\r\n",
       "<text text-anchor=\"middle\" x=\"317\" y=\"-171.8\" font-family=\"Helvetica,sans-Serif\" font-size=\"14.00\">te &lt;= 13.45</text>\r\n",
       "<text text-anchor=\"middle\" x=\"317\" y=\"-156.8\" font-family=\"Helvetica,sans-Serif\" font-size=\"14.00\">gini = 0.161</text>\r\n",
       "<text text-anchor=\"middle\" x=\"317\" y=\"-141.8\" font-family=\"Helvetica,sans-Serif\" font-size=\"14.00\">samples = 102</text>\r\n",
       "<text text-anchor=\"middle\" x=\"317\" y=\"-126.8\" font-family=\"Helvetica,sans-Serif\" font-size=\"14.00\">value = [9, 93]</text>\r\n",
       "<text text-anchor=\"middle\" x=\"317\" y=\"-111.8\" font-family=\"Helvetica,sans-Serif\" font-size=\"14.00\">class = F2&#45;F4</text>\r\n",
       "</g>\r\n",
       "<!-- 0&#45;&gt;4 -->\r\n",
       "<g id=\"edge4\" class=\"edge\"><title>0&#45;&gt;4</title>\r\n",
       "<path fill=\"none\" stroke=\"black\" d=\"M272.592,-222.907C277.656,-214.195 283.06,-204.897 288.293,-195.893\"/>\r\n",
       "<polygon fill=\"black\" stroke=\"black\" points=\"291.451,-197.425 293.449,-187.021 285.398,-193.908 291.451,-197.425\"/>\r\n",
       "<text text-anchor=\"middle\" x=\"299.85\" y=\"-207.487\" font-family=\"Helvetica,sans-Serif\" font-size=\"14.00\">False</text>\r\n",
       "</g>\r\n",
       "<!-- 2 -->\r\n",
       "<g id=\"node3\" class=\"node\"><title>2</title>\r\n",
       "<path fill=\"#4fa8e8\" stroke=\"black\" d=\"M92,-68C92,-68 12,-68 12,-68 6,-68 0,-62 0,-56 0,-56 0,-12 0,-12 0,-6 6,-0 12,-0 12,-0 92,-0 92,-0 98,-0 104,-6 104,-12 104,-12 104,-56 104,-56 104,-62 98,-68 92,-68\"/>\r\n",
       "<text text-anchor=\"middle\" x=\"52\" y=\"-52.8\" font-family=\"Helvetica,sans-Serif\" font-size=\"14.00\">gini = 0.18</text>\r\n",
       "<text text-anchor=\"middle\" x=\"52\" y=\"-37.8\" font-family=\"Helvetica,sans-Serif\" font-size=\"14.00\">samples = 10</text>\r\n",
       "<text text-anchor=\"middle\" x=\"52\" y=\"-22.8\" font-family=\"Helvetica,sans-Serif\" font-size=\"14.00\">value = [1, 9]</text>\r\n",
       "<text text-anchor=\"middle\" x=\"52\" y=\"-7.8\" font-family=\"Helvetica,sans-Serif\" font-size=\"14.00\">class = F2&#45;F4</text>\r\n",
       "</g>\r\n",
       "<!-- 1&#45;&gt;2 -->\r\n",
       "<g id=\"edge2\" class=\"edge\"><title>1&#45;&gt;2</title>\r\n",
       "<path fill=\"none\" stroke=\"black\" d=\"M133.593,-103.726C122.44,-94.3318 110.588,-84.349 99.4747,-74.9883\"/>\r\n",
       "<polygon fill=\"black\" stroke=\"black\" points=\"101.437,-72.065 91.5338,-68.2996 96.9273,-77.4188 101.437,-72.065\"/>\r\n",
       "</g>\r\n",
       "<!-- 3 -->\r\n",
       "<g id=\"node4\" class=\"node\"><title>3</title>\r\n",
       "<path fill=\"#f2bf9a\" stroke=\"black\" d=\"M232,-68C232,-68 134,-68 134,-68 128,-68 122,-62 122,-56 122,-56 122,-12 122,-12 122,-6 128,-0 134,-0 134,-0 232,-0 232,-0 238,-0 244,-6 244,-12 244,-12 244,-56 244,-56 244,-62 238,-68 232,-68\"/>\r\n",
       "<text text-anchor=\"middle\" x=\"183\" y=\"-52.8\" font-family=\"Helvetica,sans-Serif\" font-size=\"14.00\">gini = 0.442</text>\r\n",
       "<text text-anchor=\"middle\" x=\"183\" y=\"-37.8\" font-family=\"Helvetica,sans-Serif\" font-size=\"14.00\">samples = 176</text>\r\n",
       "<text text-anchor=\"middle\" x=\"183\" y=\"-22.8\" font-family=\"Helvetica,sans-Serif\" font-size=\"14.00\">value = [118, 58]</text>\r\n",
       "<text text-anchor=\"middle\" x=\"183\" y=\"-7.8\" font-family=\"Helvetica,sans-Serif\" font-size=\"14.00\">class = F0&#45;F1</text>\r\n",
       "</g>\r\n",
       "<!-- 1&#45;&gt;3 -->\r\n",
       "<g id=\"edge3\" class=\"edge\"><title>1&#45;&gt;3</title>\r\n",
       "<path fill=\"none\" stroke=\"black\" d=\"M182.372,-103.726C182.447,-95.5175 182.526,-86.8595 182.602,-78.56\"/>\r\n",
       "<polygon fill=\"black\" stroke=\"black\" points=\"186.104,-78.3312 182.696,-68.2996 179.105,-78.2672 186.104,-78.3312\"/>\r\n",
       "</g>\r\n",
       "<!-- 5 -->\r\n",
       "<g id=\"node6\" class=\"node\"><title>5</title>\r\n",
       "<path fill=\"#95cbf1\" stroke=\"black\" d=\"M356.5,-68C356.5,-68 275.5,-68 275.5,-68 269.5,-68 263.5,-62 263.5,-56 263.5,-56 263.5,-12 263.5,-12 263.5,-6 269.5,-0 275.5,-0 275.5,-0 356.5,-0 356.5,-0 362.5,-0 368.5,-6 368.5,-12 368.5,-12 368.5,-56 368.5,-56 368.5,-62 362.5,-68 356.5,-68\"/>\r\n",
       "<text text-anchor=\"middle\" x=\"316\" y=\"-52.8\" font-family=\"Helvetica,sans-Serif\" font-size=\"14.00\">gini = 0.434</text>\r\n",
       "<text text-anchor=\"middle\" x=\"316\" y=\"-37.8\" font-family=\"Helvetica,sans-Serif\" font-size=\"14.00\">samples = 22</text>\r\n",
       "<text text-anchor=\"middle\" x=\"316\" y=\"-22.8\" font-family=\"Helvetica,sans-Serif\" font-size=\"14.00\">value = [7, 15]</text>\r\n",
       "<text text-anchor=\"middle\" x=\"316\" y=\"-7.8\" font-family=\"Helvetica,sans-Serif\" font-size=\"14.00\">class = F2&#45;F4</text>\r\n",
       "</g>\r\n",
       "<!-- 4&#45;&gt;5 -->\r\n",
       "<g id=\"edge5\" class=\"edge\"><title>4&#45;&gt;5</title>\r\n",
       "<path fill=\"none\" stroke=\"black\" d=\"M316.628,-103.726C316.553,-95.5175 316.474,-86.8595 316.398,-78.56\"/>\r\n",
       "<polygon fill=\"black\" stroke=\"black\" points=\"319.895,-78.2672 316.304,-68.2996 312.896,-78.3312 319.895,-78.2672\"/>\r\n",
       "</g>\r\n",
       "<!-- 6 -->\r\n",
       "<g id=\"node7\" class=\"node\"><title>6</title>\r\n",
       "<path fill=\"#3ea0e6\" stroke=\"black\" d=\"M479.5,-68C479.5,-68 398.5,-68 398.5,-68 392.5,-68 386.5,-62 386.5,-56 386.5,-56 386.5,-12 386.5,-12 386.5,-6 392.5,-0 398.5,-0 398.5,-0 479.5,-0 479.5,-0 485.5,-0 491.5,-6 491.5,-12 491.5,-12 491.5,-56 491.5,-56 491.5,-62 485.5,-68 479.5,-68\"/>\r\n",
       "<text text-anchor=\"middle\" x=\"439\" y=\"-52.8\" font-family=\"Helvetica,sans-Serif\" font-size=\"14.00\">gini = 0.049</text>\r\n",
       "<text text-anchor=\"middle\" x=\"439\" y=\"-37.8\" font-family=\"Helvetica,sans-Serif\" font-size=\"14.00\">samples = 80</text>\r\n",
       "<text text-anchor=\"middle\" x=\"439\" y=\"-22.8\" font-family=\"Helvetica,sans-Serif\" font-size=\"14.00\">value = [2, 78]</text>\r\n",
       "<text text-anchor=\"middle\" x=\"439\" y=\"-7.8\" font-family=\"Helvetica,sans-Serif\" font-size=\"14.00\">class = F2&#45;F4</text>\r\n",
       "</g>\r\n",
       "<!-- 4&#45;&gt;6 -->\r\n",
       "<g id=\"edge6\" class=\"edge\"><title>4&#45;&gt;6</title>\r\n",
       "<path fill=\"none\" stroke=\"black\" d=\"M362.428,-103.726C372.895,-94.3318 384.018,-84.349 394.447,-74.9883\"/>\r\n",
       "<polygon fill=\"black\" stroke=\"black\" points=\"396.795,-77.5839 401.899,-68.2996 392.119,-72.3744 396.795,-77.5839\"/>\r\n",
       "</g>\r\n",
       "</g>\r\n",
       "</svg>\r\n"
      ],
      "text/plain": [
       "<graphviz.files.Source at 0x2055ea826c8>"
      ]
     },
     "metadata": {},
     "output_type": "display_data"
    }
   ],
   "source": [
    "try:\n",
    "    from graphviz import Source\n",
    "    from sklearn.tree import export_graphviz\n",
    "\n",
    "    tree = cross_validate(clf_tree, X=_X, y=_y, cv=5,  scoring=scoring, return_estimator=True)\n",
    "\n",
    "    fname_tree_dot = os.path.join('figures', \"decision_tree.dot\")\n",
    "\n",
    "    export_graphviz(\n",
    "            tree['estimator'][0],\n",
    "            out_file=fname_tree_dot,\n",
    "            feature_names=['te'],\n",
    "            class_names=['F0-F1', 'F2-F4'],\n",
    "            rounded=True,\n",
    "            filled=True\n",
    "        )\n",
    "    display(Source.from_file(fname_tree_dot))\n",
    "except ModuleNotFoundError as e:\n",
    "    print(\"Error:\", e)\n",
    "    pass\n",
    "except Exception as e:\n",
    "    print(\"Error:\", e)\n",
    "    pass"
   ]
  },
  {
   "cell_type": "code",
   "execution_count": 82,
   "metadata": {},
   "outputs": [
    {
     "data": {
      "text/plain": [
       "42"
      ]
     },
     "execution_count": 82,
     "metadata": {},
     "output_type": "execute_result"
    }
   ],
   "source": [
    "tree['estimator'][0].random_state"
   ]
  },
  {
   "cell_type": "markdown",
   "metadata": {
    "Collapsed": "false"
   },
   "source": [
    "#### Rebuild `run_cv_binary` to get roc_curve value"
   ]
  },
  {
   "cell_type": "code",
   "execution_count": 83,
   "metadata": {
    "Collapsed": "false"
   },
   "outputs": [],
   "source": [
    "from collections import defaultdict\n",
    "\n",
    "from scipy import interp\n",
    "from sklearn.metrics import roc_curve, auc\n",
    "from sklearn.model_selection import RepeatedStratifiedKFold\n",
    "from sklearn.model_selection import StratifiedKFold\n",
    "\n",
    "CV_FOLDS = 5\n",
    "CV_REPEATS = 10\n",
    "\n",
    "def run_cv_binary(clf_dict:dict, X:pd.DataFrame, y:pd.Series, cv=CV_FOLDS, n_repeats=CV_REPEATS,\n",
    "                  scoring=scorer_dict,\n",
    "                  prefix='')-> dict:\n",
    "    \"\"\"Run Cross Validation (cv) for binary classification example\n",
    "    for a set of classifiers.\n",
    "    \n",
    "    \n",
    "    Inputs\n",
    "    ------\n",
    "    clf_dict: dict\n",
    "        Dictionary with keys and scikit-learn classifiers as values.\n",
    "    X: 2D-array, pd.DataFrame\n",
    "        Input data\n",
    "    y: 1D-array, pd.Series\n",
    "        Targets for classification\n",
    "    cv: int\n",
    "        Number of splits for Cross-Validation.\n",
    "    prefix: str\n",
    "        Prefix for clf-key for custom naming.\n",
    "    \n",
    "    Returns\n",
    "    -------\n",
    "    dict: dict with keys of clf_dict and computed results for each run. \n",
    "    \"\"\"\n",
    "    cv_results = {}\n",
    "    roc_curve_results = defaultdict(list)\n",
    "   \n",
    "    rskf = RepeatedStratifiedKFold(n_splits=cv, n_repeats=n_repeats, random_state=0) \n",
    "    \n",
    "    for key_clf, clf in clf_dict.items():\n",
    "        key_clf = prefix + key_clf\n",
    "        \n",
    "        _cv_results = defaultdict(list)\n",
    "        \n",
    "        for i, (train_index, test_index) in enumerate(rskf.split(X,y)):\n",
    "            X_train = X.iloc[train_index]\n",
    "            X_test = X.iloc[test_index]\n",
    "            y_train = y.iloc[train_index]\n",
    "            y_test = y.iloc[test_index]\n",
    "\n",
    "            clf.fit(X_train, y_train)\n",
    "            y_pred = clf.predict(X_test)\n",
    "            y_score = clf.predict_proba(X_test)\n",
    "            \n",
    "            for metric_name, metric_fct in scorer_dict.items():\n",
    "                if metric_name == 'roc_auc':\n",
    "                    _cv_results[metric_name].append(metric_fct(y_test, y_score[:,1]))\n",
    "                else:\n",
    "                    _cv_results[metric_name].append(metric_fct(y_test, y_pred))\n",
    "\n",
    "            _cv_results['num_feat'].append(X.shape[-1])\n",
    "            _cv_results['n_obs'].append(len(y))\n",
    "\n",
    "            \n",
    "            fpr, tpr, cutoffs = roc_curve(y_test, y_score[:, 1])\n",
    "            roc_curve_results[key_clf].append((fpr, tpr, cutoffs))\n",
    "            _cv_results['roc_auc_2'].append(auc(fpr, tpr))\n",
    "\n",
    "        cv_results[key_clf] = dict(_cv_results)\n",
    "        \n",
    "    return cv_results, dict(roc_curve_results)\n",
    "results_dict, roc_curve_results = run_cv_binary(clf, X=_X, y=_y, prefix='F2_')"
   ]
  },
  {
   "cell_type": "markdown",
   "metadata": {
    "Collapsed": "false"
   },
   "source": [
    "Display CV results (metrics):"
   ]
  },
  {
   "cell_type": "code",
   "execution_count": 84,
   "metadata": {
    "Collapsed": "false"
   },
   "outputs": [
    {
     "data": {
      "text/html": [
       "<div>\n",
       "<style scoped>\n",
       "    .dataframe tbody tr th:only-of-type {\n",
       "        vertical-align: middle;\n",
       "    }\n",
       "\n",
       "    .dataframe tbody tr th {\n",
       "        vertical-align: top;\n",
       "    }\n",
       "\n",
       "    .dataframe thead tr th {\n",
       "        text-align: left;\n",
       "    }\n",
       "</style>\n",
       "<table border=\"1\" class=\"dataframe\">\n",
       "  <thead>\n",
       "    <tr>\n",
       "      <th>variable</th>\n",
       "      <th colspan=\"2\" halign=\"left\">precision</th>\n",
       "      <th colspan=\"2\" halign=\"left\">recall</th>\n",
       "      <th colspan=\"2\" halign=\"left\">f1</th>\n",
       "      <th colspan=\"2\" halign=\"left\">balanced_accuracy</th>\n",
       "      <th colspan=\"2\" halign=\"left\">roc_auc</th>\n",
       "      <th colspan=\"2\" halign=\"left\">num_feat</th>\n",
       "      <th colspan=\"2\" halign=\"left\">n_obs</th>\n",
       "      <th colspan=\"2\" halign=\"left\">roc_auc_2</th>\n",
       "    </tr>\n",
       "    <tr>\n",
       "      <th>statistics</th>\n",
       "      <th>mean</th>\n",
       "      <th>std</th>\n",
       "      <th>mean</th>\n",
       "      <th>std</th>\n",
       "      <th>mean</th>\n",
       "      <th>std</th>\n",
       "      <th>mean</th>\n",
       "      <th>std</th>\n",
       "      <th>mean</th>\n",
       "      <th>std</th>\n",
       "      <th>mean</th>\n",
       "      <th>std</th>\n",
       "      <th>mean</th>\n",
       "      <th>std</th>\n",
       "      <th>mean</th>\n",
       "      <th>std</th>\n",
       "    </tr>\n",
       "  </thead>\n",
       "  <tbody>\n",
       "    <tr>\n",
       "      <th>F2_Logistic</th>\n",
       "      <td>0.828666</td>\n",
       "      <td>0.064967</td>\n",
       "      <td>0.715</td>\n",
       "      <td>0.072457</td>\n",
       "      <td>0.764171</td>\n",
       "      <td>0.048121</td>\n",
       "      <td>0.76125</td>\n",
       "      <td>0.048251</td>\n",
       "      <td>0.816625</td>\n",
       "      <td>0.050649</td>\n",
       "      <td>1.0</td>\n",
       "      <td>0.0</td>\n",
       "      <td>360.0</td>\n",
       "      <td>0.0</td>\n",
       "      <td>0.816625</td>\n",
       "      <td>0.050649</td>\n",
       "    </tr>\n",
       "    <tr>\n",
       "      <th>F2_f2_te</th>\n",
       "      <td>0.762988</td>\n",
       "      <td>0.047561</td>\n",
       "      <td>0.765</td>\n",
       "      <td>0.063836</td>\n",
       "      <td>0.762498</td>\n",
       "      <td>0.045087</td>\n",
       "      <td>0.73250</td>\n",
       "      <td>0.048101</td>\n",
       "      <td>0.732500</td>\n",
       "      <td>0.048101</td>\n",
       "      <td>1.0</td>\n",
       "      <td>0.0</td>\n",
       "      <td>360.0</td>\n",
       "      <td>0.0</td>\n",
       "      <td>0.732500</td>\n",
       "      <td>0.048101</td>\n",
       "    </tr>\n",
       "  </tbody>\n",
       "</table>\n",
       "</div>"
      ],
      "text/plain": [
       "variable    precision           recall                  f1            \\\n",
       "statistics       mean       std   mean       std      mean       std   \n",
       "F2_Logistic  0.828666  0.064967  0.715  0.072457  0.764171  0.048121   \n",
       "F2_f2_te     0.762988  0.047561  0.765  0.063836  0.762498  0.045087   \n",
       "\n",
       "variable    balanced_accuracy             roc_auc           num_feat       \\\n",
       "statistics               mean       std      mean       std     mean  std   \n",
       "F2_Logistic           0.76125  0.048251  0.816625  0.050649      1.0  0.0   \n",
       "F2_f2_te              0.73250  0.048101  0.732500  0.048101      1.0  0.0   \n",
       "\n",
       "variable     n_obs      roc_auc_2            \n",
       "statistics    mean  std      mean       std  \n",
       "F2_Logistic  360.0  0.0  0.816625  0.050649  \n",
       "F2_f2_te     360.0  0.0  0.732500  0.048101  "
      ]
     },
     "execution_count": 84,
     "metadata": {},
     "output_type": "execute_result"
    }
   ],
   "source": [
    "_get_cv_means(results_dict)"
   ]
  },
  {
   "cell_type": "markdown",
   "metadata": {
    "Collapsed": "false"
   },
   "source": [
    "Plot ROC curves of these CV runs"
   ]
  },
  {
   "cell_type": "markdown",
   "metadata": {
    "Collapsed": "false"
   },
   "source": [
    "Using Stratified Splitting is default for [`cross_validate`](https://scikit-learn.org/stable/modules/generated/sklearn.model_selection.cross_validate.html#sklearn.model_selection.cross_validate)."
   ]
  },
  {
   "cell_type": "code",
   "execution_count": 85,
   "metadata": {
    "Collapsed": "false"
   },
   "outputs": [],
   "source": [
    "from sklearn.model_selection import StratifiedKFold\n",
    "\n",
    "cv_results = {}\n",
    "for key, _clf in clf_sklearn.items(): \n",
    "    cv_results[key] = cross_validate(_clf, X=_X, y=_y, groups=_y, cv=RepeatedStratifiedKFold(n_splits=CV_FOLDS, n_repeats=CV_REPEATS, random_state=0) , scoring=scoring)"
   ]
  },
  {
   "cell_type": "code",
   "execution_count": 86,
   "metadata": {
    "Collapsed": "false"
   },
   "outputs": [
    {
     "data": {
      "text/html": [
       "<div>\n",
       "<style scoped>\n",
       "    .dataframe tbody tr th:only-of-type {\n",
       "        vertical-align: middle;\n",
       "    }\n",
       "\n",
       "    .dataframe tbody tr th {\n",
       "        vertical-align: top;\n",
       "    }\n",
       "\n",
       "    .dataframe thead tr th {\n",
       "        text-align: left;\n",
       "    }\n",
       "</style>\n",
       "<table border=\"1\" class=\"dataframe\">\n",
       "  <thead>\n",
       "    <tr>\n",
       "      <th>variable</th>\n",
       "      <th colspan=\"2\" halign=\"left\">fit_time</th>\n",
       "      <th colspan=\"2\" halign=\"left\">score_time</th>\n",
       "      <th colspan=\"2\" halign=\"left\">test_balanced_accuracy</th>\n",
       "      <th colspan=\"2\" halign=\"left\">test_f1</th>\n",
       "      <th colspan=\"2\" halign=\"left\">test_precision</th>\n",
       "      <th colspan=\"2\" halign=\"left\">test_recall</th>\n",
       "      <th colspan=\"2\" halign=\"left\">test_roc_auc</th>\n",
       "    </tr>\n",
       "    <tr>\n",
       "      <th>statistics</th>\n",
       "      <th>mean</th>\n",
       "      <th>std</th>\n",
       "      <th>mean</th>\n",
       "      <th>std</th>\n",
       "      <th>mean</th>\n",
       "      <th>std</th>\n",
       "      <th>mean</th>\n",
       "      <th>std</th>\n",
       "      <th>mean</th>\n",
       "      <th>std</th>\n",
       "      <th>mean</th>\n",
       "      <th>std</th>\n",
       "      <th>mean</th>\n",
       "      <th>std</th>\n",
       "    </tr>\n",
       "  </thead>\n",
       "  <tbody>\n",
       "    <tr>\n",
       "      <th>Logistic</th>\n",
       "      <td>0.00295</td>\n",
       "      <td>0.000734</td>\n",
       "      <td>0.006689</td>\n",
       "      <td>0.001058</td>\n",
       "      <td>0.76125</td>\n",
       "      <td>0.048251</td>\n",
       "      <td>0.764171</td>\n",
       "      <td>0.048121</td>\n",
       "      <td>0.828666</td>\n",
       "      <td>0.064967</td>\n",
       "      <td>0.715</td>\n",
       "      <td>0.072457</td>\n",
       "      <td>0.816625</td>\n",
       "      <td>0.050649</td>\n",
       "    </tr>\n",
       "  </tbody>\n",
       "</table>\n",
       "</div>"
      ],
      "text/plain": [
       "variable   fit_time           score_time           test_balanced_accuracy  \\\n",
       "statistics     mean       std       mean       std                   mean   \n",
       "Logistic    0.00295  0.000734   0.006689  0.001058                0.76125   \n",
       "\n",
       "variable               test_f1           test_precision           test_recall  \\\n",
       "statistics       std      mean       std           mean       std        mean   \n",
       "Logistic    0.048251  0.764171  0.048121       0.828666  0.064967       0.715   \n",
       "\n",
       "variable             test_roc_auc            \n",
       "statistics       std         mean       std  \n",
       "Logistic    0.072457     0.816625  0.050649  "
      ]
     },
     "execution_count": 86,
     "metadata": {},
     "output_type": "execute_result"
    }
   ],
   "source": [
    "_get_cv_means(cv_results)"
   ]
  },
  {
   "cell_type": "markdown",
   "metadata": {
    "Collapsed": "false"
   },
   "source": [
    "#### Learn imputation on fold?\n",
    "Include Preprocessing (here: imputation into the pipeline). \n",
    "\n",
    "> write custom [`FunctionTransformer`](https://scikit-learn.org/stable/modules/preprocessing.html#custom-transformers) to included preprocessing.\n"
   ]
  },
  {
   "cell_type": "code",
   "execution_count": 87,
   "metadata": {
    "Collapsed": "false"
   },
   "outputs": [],
   "source": [
    "from sklearn.pipeline import make_pipeline\n",
    "from sklearn.preprocessing import FunctionTransformer\n",
    "\n",
    "def custom_preprocessing_function(X):\n",
    "    \"\"\"Operate on a a set of rows from the dataset.\n",
    "    here: apply imputation to log-transformed values?\n",
    "    \"\"\"\n",
    "    raise NotImplementedError\n",
    "\n",
    "# clf = make_pipeline( FunctionTransformer(custom_preprocessing_function), svm.SVC(C=1))\n",
    "# cross_val_score(clf, X, y, cv=cv)"
   ]
  },
  {
   "cell_type": "markdown",
   "metadata": {
    "Collapsed": "false"
   },
   "source": [
    "#### Comment: \n",
    "- Yes recursive feature selection would be good. I tried forward feature selection before to see where score matrix (e.g test-auc) reaches a plateau. In the end I decided a strategy to first select best 10 features based on auc, then perform a greedy search against all n-feature combos among the 10, then select the best feature combo based on MCC score. Afterwards I validate on the validation dataset which I stratified-split at the beginning.\n",
    "\n",
    "To add\n",
    "-  [x] Stratification of input data\n",
    "-  [ ] Recursive feature selection\n",
    "-  [ ] cutoff determination for binary classification (ROC-Curves, Precision-Recall-Curves)\n",
    "    - needs a validation split"
   ]
  },
  {
   "cell_type": "markdown",
   "metadata": {
    "Collapsed": "false"
   },
   "source": [
    "[Feature selection](https://scikit-learn.org/stable/modules/feature_selection.html#feature-selection) based on mutual information"
   ]
  },
  {
   "cell_type": "markdown",
   "metadata": {
    "Collapsed": "false"
   },
   "source": [
    "## Individual Models for three endpoints fibrosis, steatosis and inflammation\n",
    "Strategy for feature selection and model performance validation: 3 models to be built, fibrosis (F0-1 vs. F2-4, and F0-2 vs. F3-4), inflammation (0-1 vs. 2-5) and steatosis (0 vs. >0). Then compare each model with their respective existing best-in-class markers according to their standard cut-offs in clinic. "
   ]
  },
  {
   "cell_type": "markdown",
   "metadata": {
    "Collapsed": "false"
   },
   "source": [
    "### Top k selected proteins for prediction\n",
    "[Feature selection](https://scikit-learn.org/stable/modules/feature_selection.html#feature-selection) based on mutual information. \n",
    "\n",
    "Each endpoint will yield different `top-k` proteins. An aggregation strategy in the simplest form is to combine the top-k. Maybe there is also some kind of rank-algorithm combining the top-k minimizing the overall rank?"
   ]
  },
  {
   "cell_type": "code",
   "execution_count": 88,
   "metadata": {
    "Collapsed": "false"
   },
   "outputs": [],
   "source": [
    "from sklearn.feature_selection import mutual_info_classif\n",
    "from sklearn.feature_selection import SelectKBest\n",
    "\n",
    "class FeatureSelector():\n",
    "    \"\"\"Namespace for feature selection.\n",
    "    Uses mutal information to select k best features. \n",
    "    Can combine the best for a set of targets to a combined maximum.\n",
    "    \n",
    "    Parameters\n",
    "    ----------\n",
    "    k: int\n",
    "        top-k features for each endpoint\n",
    "    protein_gene_data: pandas.DataFrame (shape: X_N, 1)\n",
    "        Optional mapping of index of DataFrame passed to fit method\n",
    "        to values in protein_gene_data. Here this is the associated gene-name\n",
    "        to a protein.\n",
    "    \n",
    "    \"\"\"\n",
    "    \n",
    "    def __init__(self, k=10, protein_gene_data=None):\n",
    "        self.k = k\n",
    "        self.protein_gene_id = protein_gene_data\n",
    "        if protein_gene_data is not None:\n",
    "            self.endpoints_features_ = pd.DataFrame()\n",
    "        else:\n",
    "            self.endpoints_features_ = None\n",
    "        \n",
    "    def fit(self, X: pd.DataFrame, y: pd.Series, col_name='target'):\n",
    "        mask_samples_in_both = X.index.intersection(y.index)\n",
    "        k_best = SelectKBest(mutual_info_classif, k=self.k)\n",
    "        k_best.fit(X.loc[mask_samples_in_both], y=y.loc[mask_samples_in_both])\n",
    "        \n",
    "        selected_ = k_best.get_support()\n",
    "        selected_ = X.columns[selected_]\n",
    "        result = key_ProteinID.loc[selected_]\n",
    "        result = result.fillna('NoGene')\n",
    "        result.columns = [col_name]\n",
    "        if self.endpoints_features_ is not None:\n",
    "            self.endpoints_features_ = self.endpoints_features_.join(result, how='outer')\n",
    "        else:\n",
    "            print(\"Not able to aggregate as no protein_gene_data was passed.\")\n",
    "        return result\n",
    "    \n",
    "\n",
    "feature_selected = FeatureSelector(k=10, protein_gene_data=key_ProteinID)\n",
    "proteins_selected_f2 = feature_selected.fit(data_proteomics, kleiner_ge_2, 'F2')\n",
    "proteins_selected_f3 = feature_selected.fit(data_proteomics, kleiner_ge_3, 'F3')\n",
    "proteins_selected_s1 = feature_selected.fit(data_proteomics, steatosis_ge_1, 'S1')\n",
    "proteins_selected_I2 = feature_selected.fit(data_proteomics, inflamation_ge_2, 'I2')"
   ]
  },
  {
   "cell_type": "code",
   "execution_count": 89,
   "metadata": {
    "Collapsed": "false"
   },
   "outputs": [
    {
     "data": {
      "text/html": [
       "<div>\n",
       "<style scoped>\n",
       "    .dataframe tbody tr th:only-of-type {\n",
       "        vertical-align: middle;\n",
       "    }\n",
       "\n",
       "    .dataframe tbody tr th {\n",
       "        vertical-align: top;\n",
       "    }\n",
       "\n",
       "    .dataframe thead th {\n",
       "        text-align: right;\n",
       "    }\n",
       "</style>\n",
       "<table border=\"1\" class=\"dataframe\">\n",
       "  <thead>\n",
       "    <tr style=\"text-align: right;\">\n",
       "      <th></th>\n",
       "      <th>F2</th>\n",
       "      <th>F3</th>\n",
       "      <th>S1</th>\n",
       "      <th>I2</th>\n",
       "    </tr>\n",
       "    <tr>\n",
       "      <th>Protein ID</th>\n",
       "      <th></th>\n",
       "      <th></th>\n",
       "      <th></th>\n",
       "      <th></th>\n",
       "    </tr>\n",
       "  </thead>\n",
       "  <tbody>\n",
       "    <tr>\n",
       "      <th>A0A0G2JMB2</th>\n",
       "      <td>IGHA2</td>\n",
       "      <td>NaN</td>\n",
       "      <td>NaN</td>\n",
       "      <td>NaN</td>\n",
       "    </tr>\n",
       "    <tr>\n",
       "      <th>A0A286YEY1</th>\n",
       "      <td>NaN</td>\n",
       "      <td>IGHA1</td>\n",
       "      <td>NaN</td>\n",
       "      <td>IGHA1</td>\n",
       "    </tr>\n",
       "    <tr>\n",
       "      <th>C9JPQ9</th>\n",
       "      <td>NaN</td>\n",
       "      <td>NaN</td>\n",
       "      <td>FGG</td>\n",
       "      <td>NaN</td>\n",
       "    </tr>\n",
       "    <tr>\n",
       "      <th>H7BY64</th>\n",
       "      <td>NaN</td>\n",
       "      <td>NaN</td>\n",
       "      <td>NoGene</td>\n",
       "      <td>NaN</td>\n",
       "    </tr>\n",
       "    <tr>\n",
       "      <th>O00391</th>\n",
       "      <td>QSOX1</td>\n",
       "      <td>QSOX1</td>\n",
       "      <td>NaN</td>\n",
       "      <td>QSOX1</td>\n",
       "    </tr>\n",
       "    <tr>\n",
       "      <th>P00739</th>\n",
       "      <td>HPR</td>\n",
       "      <td>NaN</td>\n",
       "      <td>NaN</td>\n",
       "      <td>NaN</td>\n",
       "    </tr>\n",
       "    <tr>\n",
       "      <th>P01833</th>\n",
       "      <td>PIGR</td>\n",
       "      <td>NaN</td>\n",
       "      <td>NaN</td>\n",
       "      <td>PIGR</td>\n",
       "    </tr>\n",
       "    <tr>\n",
       "      <th>P02743</th>\n",
       "      <td>APCS</td>\n",
       "      <td>APCS</td>\n",
       "      <td>NaN</td>\n",
       "      <td>NaN</td>\n",
       "    </tr>\n",
       "    <tr>\n",
       "      <th>P05062</th>\n",
       "      <td>NaN</td>\n",
       "      <td>NaN</td>\n",
       "      <td>ALDOB</td>\n",
       "      <td>NaN</td>\n",
       "    </tr>\n",
       "    <tr>\n",
       "      <th>P05362</th>\n",
       "      <td>NaN</td>\n",
       "      <td>NaN</td>\n",
       "      <td>NaN</td>\n",
       "      <td>ICAM1</td>\n",
       "    </tr>\n",
       "    <tr>\n",
       "      <th>P05546</th>\n",
       "      <td>NaN</td>\n",
       "      <td>NaN</td>\n",
       "      <td>NaN</td>\n",
       "      <td>SERPIND1</td>\n",
       "    </tr>\n",
       "    <tr>\n",
       "      <th>P06396</th>\n",
       "      <td>NaN</td>\n",
       "      <td>NaN</td>\n",
       "      <td>GSN</td>\n",
       "      <td>NaN</td>\n",
       "    </tr>\n",
       "    <tr>\n",
       "      <th>P08519</th>\n",
       "      <td>NaN</td>\n",
       "      <td>NaN</td>\n",
       "      <td>LPA</td>\n",
       "      <td>NaN</td>\n",
       "    </tr>\n",
       "    <tr>\n",
       "      <th>P10643</th>\n",
       "      <td>C7</td>\n",
       "      <td>C7</td>\n",
       "      <td>NaN</td>\n",
       "      <td>C7</td>\n",
       "    </tr>\n",
       "    <tr>\n",
       "      <th>P10909</th>\n",
       "      <td>NaN</td>\n",
       "      <td>NaN</td>\n",
       "      <td>NaN</td>\n",
       "      <td>CLU</td>\n",
       "    </tr>\n",
       "    <tr>\n",
       "      <th>P19320</th>\n",
       "      <td>VCAM1</td>\n",
       "      <td>VCAM1</td>\n",
       "      <td>VCAM1</td>\n",
       "      <td>NaN</td>\n",
       "    </tr>\n",
       "    <tr>\n",
       "      <th>P23142</th>\n",
       "      <td>NaN</td>\n",
       "      <td>NaN</td>\n",
       "      <td>NaN</td>\n",
       "      <td>FBLN1</td>\n",
       "    </tr>\n",
       "    <tr>\n",
       "      <th>P27169</th>\n",
       "      <td>NaN</td>\n",
       "      <td>PON1</td>\n",
       "      <td>NaN</td>\n",
       "      <td>NaN</td>\n",
       "    </tr>\n",
       "    <tr>\n",
       "      <th>P35858</th>\n",
       "      <td>IGFALS</td>\n",
       "      <td>NaN</td>\n",
       "      <td>NaN</td>\n",
       "      <td>NaN</td>\n",
       "    </tr>\n",
       "    <tr>\n",
       "      <th>P51884</th>\n",
       "      <td>NaN</td>\n",
       "      <td>LUM</td>\n",
       "      <td>NaN</td>\n",
       "      <td>NaN</td>\n",
       "    </tr>\n",
       "    <tr>\n",
       "      <th>P55103</th>\n",
       "      <td>NaN</td>\n",
       "      <td>NaN</td>\n",
       "      <td>INHBC</td>\n",
       "      <td>NaN</td>\n",
       "    </tr>\n",
       "    <tr>\n",
       "      <th>Q08380</th>\n",
       "      <td>LGALS3BP</td>\n",
       "      <td>LGALS3BP</td>\n",
       "      <td>LGALS3BP</td>\n",
       "      <td>LGALS3BP</td>\n",
       "    </tr>\n",
       "    <tr>\n",
       "      <th>Q15582</th>\n",
       "      <td>NaN</td>\n",
       "      <td>NaN</td>\n",
       "      <td>TGFBI</td>\n",
       "      <td>NaN</td>\n",
       "    </tr>\n",
       "    <tr>\n",
       "      <th>Q16270</th>\n",
       "      <td>IGFBP7</td>\n",
       "      <td>IGFBP7</td>\n",
       "      <td>NaN</td>\n",
       "      <td>IGFBP7</td>\n",
       "    </tr>\n",
       "    <tr>\n",
       "      <th>Q92820</th>\n",
       "      <td>NaN</td>\n",
       "      <td>NaN</td>\n",
       "      <td>GGH</td>\n",
       "      <td>NaN</td>\n",
       "    </tr>\n",
       "    <tr>\n",
       "      <th>Q9Y5Y7</th>\n",
       "      <td>NaN</td>\n",
       "      <td>LYVE1</td>\n",
       "      <td>NaN</td>\n",
       "      <td>NaN</td>\n",
       "    </tr>\n",
       "  </tbody>\n",
       "</table>\n",
       "</div>"
      ],
      "text/plain": [
       "                  F2        F3        S1        I2\n",
       "Protein ID                                        \n",
       "A0A0G2JMB2     IGHA2       NaN       NaN       NaN\n",
       "A0A286YEY1       NaN     IGHA1       NaN     IGHA1\n",
       "C9JPQ9           NaN       NaN       FGG       NaN\n",
       "H7BY64           NaN       NaN    NoGene       NaN\n",
       "O00391         QSOX1     QSOX1       NaN     QSOX1\n",
       "P00739           HPR       NaN       NaN       NaN\n",
       "P01833          PIGR       NaN       NaN      PIGR\n",
       "P02743          APCS      APCS       NaN       NaN\n",
       "P05062           NaN       NaN     ALDOB       NaN\n",
       "P05362           NaN       NaN       NaN     ICAM1\n",
       "P05546           NaN       NaN       NaN  SERPIND1\n",
       "P06396           NaN       NaN       GSN       NaN\n",
       "P08519           NaN       NaN       LPA       NaN\n",
       "P10643            C7        C7       NaN        C7\n",
       "P10909           NaN       NaN       NaN       CLU\n",
       "P19320         VCAM1     VCAM1     VCAM1       NaN\n",
       "P23142           NaN       NaN       NaN     FBLN1\n",
       "P27169           NaN      PON1       NaN       NaN\n",
       "P35858        IGFALS       NaN       NaN       NaN\n",
       "P51884           NaN       LUM       NaN       NaN\n",
       "P55103           NaN       NaN     INHBC       NaN\n",
       "Q08380      LGALS3BP  LGALS3BP  LGALS3BP  LGALS3BP\n",
       "Q15582           NaN       NaN     TGFBI       NaN\n",
       "Q16270        IGFBP7    IGFBP7       NaN    IGFBP7\n",
       "Q92820           NaN       NaN       GGH       NaN\n",
       "Q9Y5Y7           NaN     LYVE1       NaN       NaN"
      ]
     },
     "execution_count": 89,
     "metadata": {},
     "output_type": "execute_result"
    }
   ],
   "source": [
    "feature_selected.endpoints_features_"
   ]
  },
  {
   "cell_type": "code",
   "execution_count": 90,
   "metadata": {
    "Collapsed": "false"
   },
   "outputs": [
    {
     "data": {
      "text/plain": [
       "Protein ID\n",
       "A0A0G2JMB2    1\n",
       "A0A286YEY1    2\n",
       "C9JPQ9        1\n",
       "H7BY64        1\n",
       "O00391        3\n",
       "P00739        1\n",
       "P01833        2\n",
       "P02743        2\n",
       "P05062        1\n",
       "P05362        1\n",
       "P05546        1\n",
       "P06396        1\n",
       "P08519        1\n",
       "P10643        3\n",
       "P10909        1\n",
       "P19320        3\n",
       "P23142        1\n",
       "P27169        1\n",
       "P35858        1\n",
       "P51884        1\n",
       "P55103        1\n",
       "Q08380        4\n",
       "Q15582        1\n",
       "Q16270        3\n",
       "Q92820        1\n",
       "Q9Y5Y7        1\n",
       "dtype: int64"
      ]
     },
     "execution_count": 90,
     "metadata": {},
     "output_type": "execute_result"
    }
   ],
   "source": [
    "feature_selected.endpoints_features_.notna().sum(axis=1)"
   ]
  },
  {
   "cell_type": "markdown",
   "metadata": {
    "Collapsed": "false"
   },
   "source": [
    "Selection could also be based on number of shared proteins being among the top 10. The degree of importance can be investigate. If the top10 for each endpoint are similar important selection based on the number of shared top-k between endpoints could be sensible."
   ]
  },
  {
   "cell_type": "code",
   "execution_count": 91,
   "metadata": {
    "Collapsed": "false"
   },
   "outputs": [
    {
     "data": {
      "text/plain": [
       "['A0A0G2JMB2',\n",
       " 'A0A286YEY1',\n",
       " 'C9JPQ9',\n",
       " 'H7BY64',\n",
       " 'O00391',\n",
       " 'P00739',\n",
       " 'P01833',\n",
       " 'P02743',\n",
       " 'P05062',\n",
       " 'P05362']"
      ]
     },
     "execution_count": 91,
     "metadata": {},
     "output_type": "execute_result"
    }
   ],
   "source": [
    "proteins_selected = feature_selected.endpoints_features_.index[:10]\n",
    "list(proteins_selected)"
   ]
  },
  {
   "cell_type": "markdown",
   "metadata": {
    "Collapsed": "false"
   },
   "source": [
    "### Executor \n",
    "\n",
    "corresponds to main function in a script. Allows changes over all endpoints simultaneously. "
   ]
  },
  {
   "cell_type": "code",
   "execution_count": 92,
   "metadata": {
    "Collapsed": "false"
   },
   "outputs": [],
   "source": [
    "class MainExecutorCV():\n",
    "    \"\"\"Class to call cross-validation.\"\"\"\n",
    "    \n",
    "    def __init__(self, proteomics_data, clinical_data, cutoffs_clinic, clf_sklearn, endpoints_defined=['F2', 'F3', 'S1', 'I2']):\n",
    "        self.data_proteomics = proteomics_data\n",
    "        self.data_clinic = clinical_data\n",
    "        self.cutoffs_clinic = cutoffs_clinic\n",
    "        self.endpoints_defined = endpoints_defined\n",
    "        self.clf_sklearn = clf_sklearn\n",
    "    \n",
    "    @staticmethod\n",
    "    def cutoff_classifier(cutoffs:dict)-> dict:\n",
    "        \"\"\"Takes a dictionary of key:cutoff values and returns\n",
    "        univariate ThresholdClassifiers for each key-cutoff-pair.\"\"\"\n",
    "        clf_threshold = {}\n",
    "        for key, value in cutoffs.items():\n",
    "            clf_threshold[key] = ThresholdClassifier(threshold={key:value})\n",
    "        return clf_threshold\n",
    "\n",
    "    def run_evaluation(self, y:pd.Series, endpoint:str, additional_markers:list, proteins_selected:pd.Index, verbose=False):\n",
    "        \"\"\"Custom function to run standarda analysis for an endpoint based on \n",
    "        predefined cutoffs, specified clinical variables\"\"\"\n",
    "        assert endpoint in self.endpoints_defined\n",
    "\n",
    "        cutoffs_endpoint = cutoffs_clinic[endpoint].dropna().to_dict()\n",
    "        clf_endpoint_threshold = self.cutoff_classifier(cutoffs_endpoint)\n",
    "        if verbose: display(clf_endpoint_threshold)\n",
    "        \n",
    "        X = self.data_clinic.loc[y.index, cutoffs_clinic[endpoint].keys()]\n",
    "        if verbose: display(X.describe())\n",
    "            \n",
    "        results = {}\n",
    "        auc_scores = {}\n",
    "        \n",
    "        for key, clf in clf_endpoint_threshold.items():\n",
    "            _X = X[key].to_frame().dropna()\n",
    "            _y = y.loc[_X.index].dropna()\n",
    "            assert _X.isna().sum().sum() == 0\n",
    "            assert _y.isna().sum() == 0\n",
    "\n",
    "            _res, _auc_roc = run_cv_binary({f'{endpoint}_marker_{key}':clf}, X=_X, y=_y)\n",
    "            results.update(_res)\n",
    "            auc_scores.update(_auc_roc)\n",
    "            \n",
    "        for key in additional_markers:\n",
    "            _X = X[key].to_frame().dropna()\n",
    "            _y = y.loc[_X.index].dropna()\n",
    "            assert _X.isna().sum().sum() == 0\n",
    "            assert _y.isna().sum() == 0\n",
    "    \n",
    "            for key_clf, clf in self.clf_sklearn.items():\n",
    "                _res, _auc_roc = run_cv_binary({f'{endpoint}_marker_{key}_{key_clf}':clf}, X=_X, y=_y)\n",
    "                results.update(_res)\n",
    "                auc_scores.update(_auc_roc)\n",
    "        \n",
    "        _X = self.data_proteomics[proteins_selected.index]\n",
    "        in_both = y.index.intersection(_X.index)\n",
    "        _X = _X.loc[in_both]\n",
    "        _y = y.loc[in_both]\n",
    "        \n",
    "        _res, _auc_roc = run_cv_binary(self.clf_sklearn, X=_X, y=_y, prefix=f'{endpoint}_prot_')\n",
    "        results.update(_res)\n",
    "        auc_scores.update(_auc_roc)\n",
    "\n",
    "        return results, auc_scores\n",
    "\n",
    "cv_executor = MainExecutorCV(proteomics_data=data_proteomics, clinical_data=data_cli, clf_sklearn=clf_sklearn, cutoffs_clinic=cutoffs_clinic)"
   ]
  },
  {
   "cell_type": "markdown",
   "metadata": {
    "Collapsed": "false"
   },
   "source": [
    "1. Models based on clinical marker thresholds (Clinical Reference Models)\n",
    "2. Additional Models based on clinical markers (having no standard cutoffs defined)\n",
    "3. Proteomics Models based on protein intensities\n",
    "\n",
    "Performance depends on the number of available features (varies!) "
   ]
  },
  {
   "cell_type": "markdown",
   "metadata": {
    "Collapsed": "false"
   },
   "source": []
  },
  {
   "cell_type": "markdown",
   "metadata": {
    "Collapsed": "false"
   },
   "source": [
    "### Fibrosis"
   ]
  },
  {
   "cell_type": "markdown",
   "metadata": {
    "Collapsed": "false"
   },
   "source": [
    "#### F2"
   ]
  },
  {
   "cell_type": "code",
   "execution_count": 93,
   "metadata": {
    "Collapsed": "false"
   },
   "outputs": [
    {
     "data": {
      "text/plain": [
       "1    200\n",
       "0    160\n",
       "Name: kleiner, dtype: int64"
      ]
     },
     "execution_count": 93,
     "metadata": {},
     "output_type": "execute_result"
    }
   ],
   "source": [
    "kleiner_ge_2.value_counts(dropna=False)"
   ]
  },
  {
   "cell_type": "code",
   "execution_count": 94,
   "metadata": {
    "Collapsed": "false"
   },
   "outputs": [
    {
     "data": {
      "text/plain": [
       "{'te': 7.0, 'swe': 8.6, 'elf': 7.7, 'ft': 0.48, 'fib4': 1.45, 'apri': 0.5}"
      ]
     },
     "execution_count": 94,
     "metadata": {},
     "output_type": "execute_result"
    }
   ],
   "source": [
    "cutoffs_f2 = cutoffs_clinic['F2'].dropna().to_dict()\n",
    "cutoffs_f2"
   ]
  },
  {
   "cell_type": "code",
   "execution_count": 95,
   "metadata": {
    "Collapsed": "false"
   },
   "outputs": [
    {
     "data": {
      "text/plain": [
       "count    360.000000\n",
       "mean       0.555556\n",
       "std        0.497596\n",
       "min        0.000000\n",
       "25%        0.000000\n",
       "50%        1.000000\n",
       "75%        1.000000\n",
       "max        1.000000\n",
       "Name: kleiner, dtype: float64"
      ]
     },
     "execution_count": 95,
     "metadata": {},
     "output_type": "execute_result"
    }
   ],
   "source": [
    "y = kleiner_ge_2.astype(int)\n",
    "y.describe()"
   ]
  },
  {
   "cell_type": "code",
   "execution_count": 96,
   "metadata": {
    "Collapsed": "false"
   },
   "outputs": [
    {
     "data": {
      "text/plain": [
       "{'te': ThresholdClassifier(cutoff=0.5, threshold={'te': 7.0}),\n",
       " 'swe': ThresholdClassifier(cutoff=0.5, threshold={'swe': 8.6}),\n",
       " 'elf': ThresholdClassifier(cutoff=0.5, threshold={'elf': 7.7}),\n",
       " 'ft': ThresholdClassifier(cutoff=0.5, threshold={'ft': 0.48}),\n",
       " 'fib4': ThresholdClassifier(cutoff=0.5, threshold={'fib4': 1.45}),\n",
       " 'apri': ThresholdClassifier(cutoff=0.5, threshold={'apri': 0.5})}"
      ]
     },
     "metadata": {},
     "output_type": "display_data"
    },
    {
     "data": {
      "text/html": [
       "<div>\n",
       "<style scoped>\n",
       "    .dataframe tbody tr th:only-of-type {\n",
       "        vertical-align: middle;\n",
       "    }\n",
       "\n",
       "    .dataframe tbody tr th {\n",
       "        vertical-align: top;\n",
       "    }\n",
       "\n",
       "    .dataframe thead th {\n",
       "        text-align: right;\n",
       "    }\n",
       "</style>\n",
       "<table border=\"1\" class=\"dataframe\">\n",
       "  <thead>\n",
       "    <tr style=\"text-align: right;\">\n",
       "      <th>marker</th>\n",
       "      <th>te</th>\n",
       "      <th>swe</th>\n",
       "      <th>elf</th>\n",
       "      <th>ft</th>\n",
       "      <th>fib4</th>\n",
       "      <th>apri</th>\n",
       "      <th>forns</th>\n",
       "      <th>p3np</th>\n",
       "      <th>m30</th>\n",
       "      <th>m65</th>\n",
       "      <th>aar</th>\n",
       "      <th>cap</th>\n",
       "    </tr>\n",
       "  </thead>\n",
       "  <tbody>\n",
       "    <tr>\n",
       "      <th>count</th>\n",
       "      <td>341.000000</td>\n",
       "      <td>331.000000</td>\n",
       "      <td>349.000000</td>\n",
       "      <td>268.000000</td>\n",
       "      <td>352.000000</td>\n",
       "      <td>353.000000</td>\n",
       "      <td>356.000000</td>\n",
       "      <td>319.000000</td>\n",
       "      <td>268.000000</td>\n",
       "      <td>266.000000</td>\n",
       "      <td>352.000000</td>\n",
       "      <td>205.000000</td>\n",
       "    </tr>\n",
       "    <tr>\n",
       "      <th>mean</th>\n",
       "      <td>16.260704</td>\n",
       "      <td>13.842900</td>\n",
       "      <td>9.777650</td>\n",
       "      <td>0.347351</td>\n",
       "      <td>2.534773</td>\n",
       "      <td>0.703683</td>\n",
       "      <td>5.630197</td>\n",
       "      <td>13.279937</td>\n",
       "      <td>233.677756</td>\n",
       "      <td>685.670989</td>\n",
       "      <td>1.367727</td>\n",
       "      <td>287.107317</td>\n",
       "    </tr>\n",
       "    <tr>\n",
       "      <th>std</th>\n",
       "      <td>18.386198</td>\n",
       "      <td>11.711420</td>\n",
       "      <td>1.510562</td>\n",
       "      <td>0.286632</td>\n",
       "      <td>3.027889</td>\n",
       "      <td>0.992125</td>\n",
       "      <td>2.394013</td>\n",
       "      <td>12.439905</td>\n",
       "      <td>297.008804</td>\n",
       "      <td>850.377366</td>\n",
       "      <td>0.764461</td>\n",
       "      <td>63.930402</td>\n",
       "    </tr>\n",
       "    <tr>\n",
       "      <th>min</th>\n",
       "      <td>2.100000</td>\n",
       "      <td>2.100000</td>\n",
       "      <td>6.900000</td>\n",
       "      <td>0.020000</td>\n",
       "      <td>0.270000</td>\n",
       "      <td>0.080000</td>\n",
       "      <td>-1.540000</td>\n",
       "      <td>1.500000</td>\n",
       "      <td>2.126260</td>\n",
       "      <td>82.780701</td>\n",
       "      <td>0.090000</td>\n",
       "      <td>100.000000</td>\n",
       "    </tr>\n",
       "    <tr>\n",
       "      <th>25%</th>\n",
       "      <td>5.600000</td>\n",
       "      <td>6.500000</td>\n",
       "      <td>8.700000</td>\n",
       "      <td>0.100000</td>\n",
       "      <td>0.950000</td>\n",
       "      <td>0.240000</td>\n",
       "      <td>4.012500</td>\n",
       "      <td>6.750000</td>\n",
       "      <td>95.456402</td>\n",
       "      <td>271.321750</td>\n",
       "      <td>0.877500</td>\n",
       "      <td>245.000000</td>\n",
       "    </tr>\n",
       "    <tr>\n",
       "      <th>50%</th>\n",
       "      <td>8.700000</td>\n",
       "      <td>8.700000</td>\n",
       "      <td>9.400000</td>\n",
       "      <td>0.245000</td>\n",
       "      <td>1.570000</td>\n",
       "      <td>0.400000</td>\n",
       "      <td>5.515000</td>\n",
       "      <td>9.000000</td>\n",
       "      <td>153.139500</td>\n",
       "      <td>440.100005</td>\n",
       "      <td>1.130000</td>\n",
       "      <td>286.000000</td>\n",
       "    </tr>\n",
       "    <tr>\n",
       "      <th>75%</th>\n",
       "      <td>18.200001</td>\n",
       "      <td>15.850000</td>\n",
       "      <td>10.700000</td>\n",
       "      <td>0.542500</td>\n",
       "      <td>2.892500</td>\n",
       "      <td>0.770000</td>\n",
       "      <td>7.142500</td>\n",
       "      <td>14.450000</td>\n",
       "      <td>261.165740</td>\n",
       "      <td>835.044495</td>\n",
       "      <td>1.640000</td>\n",
       "      <td>331.000000</td>\n",
       "    </tr>\n",
       "    <tr>\n",
       "      <th>max</th>\n",
       "      <td>75.000000</td>\n",
       "      <td>75.599998</td>\n",
       "      <td>14.800000</td>\n",
       "      <td>0.980000</td>\n",
       "      <td>32.700001</td>\n",
       "      <td>11.630000</td>\n",
       "      <td>12.580000</td>\n",
       "      <td>112.500000</td>\n",
       "      <td>3816.990000</td>\n",
       "      <td>10015.900000</td>\n",
       "      <td>4.710000</td>\n",
       "      <td>400.000000</td>\n",
       "    </tr>\n",
       "  </tbody>\n",
       "</table>\n",
       "</div>"
      ],
      "text/plain": [
       "marker          te         swe         elf          ft        fib4  \\\n",
       "count   341.000000  331.000000  349.000000  268.000000  352.000000   \n",
       "mean     16.260704   13.842900    9.777650    0.347351    2.534773   \n",
       "std      18.386198   11.711420    1.510562    0.286632    3.027889   \n",
       "min       2.100000    2.100000    6.900000    0.020000    0.270000   \n",
       "25%       5.600000    6.500000    8.700000    0.100000    0.950000   \n",
       "50%       8.700000    8.700000    9.400000    0.245000    1.570000   \n",
       "75%      18.200001   15.850000   10.700000    0.542500    2.892500   \n",
       "max      75.000000   75.599998   14.800000    0.980000   32.700001   \n",
       "\n",
       "marker        apri       forns        p3np          m30           m65  \\\n",
       "count   353.000000  356.000000  319.000000   268.000000    266.000000   \n",
       "mean      0.703683    5.630197   13.279937   233.677756    685.670989   \n",
       "std       0.992125    2.394013   12.439905   297.008804    850.377366   \n",
       "min       0.080000   -1.540000    1.500000     2.126260     82.780701   \n",
       "25%       0.240000    4.012500    6.750000    95.456402    271.321750   \n",
       "50%       0.400000    5.515000    9.000000   153.139500    440.100005   \n",
       "75%       0.770000    7.142500   14.450000   261.165740    835.044495   \n",
       "max      11.630000   12.580000  112.500000  3816.990000  10015.900000   \n",
       "\n",
       "marker         aar         cap  \n",
       "count   352.000000  205.000000  \n",
       "mean      1.367727  287.107317  \n",
       "std       0.764461   63.930402  \n",
       "min       0.090000  100.000000  \n",
       "25%       0.877500  245.000000  \n",
       "50%       1.130000  286.000000  \n",
       "75%       1.640000  331.000000  \n",
       "max       4.710000  400.000000  "
      ]
     },
     "metadata": {},
     "output_type": "display_data"
    }
   ],
   "source": [
    "f2_results, f2_auc_scores = cv_executor.run_evaluation(y=kleiner_ge_2,\n",
    "                                                       endpoint='F2',\n",
    "                                                       additional_markers=['forns', 'p3np'],\n",
    "                                                       proteins_selected=proteins_selected_f2,\n",
    "                                                       verbose=True)"
   ]
  },
  {
   "cell_type": "code",
   "execution_count": 97,
   "metadata": {
    "Collapsed": "false"
   },
   "outputs": [
    {
     "data": {
      "text/html": [
       "<div>\n",
       "<style scoped>\n",
       "    .dataframe tbody tr th:only-of-type {\n",
       "        vertical-align: middle;\n",
       "    }\n",
       "\n",
       "    .dataframe tbody tr th {\n",
       "        vertical-align: top;\n",
       "    }\n",
       "\n",
       "    .dataframe thead tr th {\n",
       "        text-align: left;\n",
       "    }\n",
       "</style>\n",
       "<table border=\"1\" class=\"dataframe\">\n",
       "  <thead>\n",
       "    <tr>\n",
       "      <th>variable</th>\n",
       "      <th colspan=\"2\" halign=\"left\">precision</th>\n",
       "      <th colspan=\"2\" halign=\"left\">recall</th>\n",
       "      <th colspan=\"2\" halign=\"left\">f1</th>\n",
       "      <th colspan=\"2\" halign=\"left\">balanced_accuracy</th>\n",
       "      <th colspan=\"2\" halign=\"left\">roc_auc</th>\n",
       "      <th colspan=\"2\" halign=\"left\">num_feat</th>\n",
       "      <th colspan=\"2\" halign=\"left\">n_obs</th>\n",
       "      <th colspan=\"2\" halign=\"left\">roc_auc_2</th>\n",
       "    </tr>\n",
       "    <tr>\n",
       "      <th>statistics</th>\n",
       "      <th>mean</th>\n",
       "      <th>std</th>\n",
       "      <th>mean</th>\n",
       "      <th>std</th>\n",
       "      <th>mean</th>\n",
       "      <th>std</th>\n",
       "      <th>mean</th>\n",
       "      <th>std</th>\n",
       "      <th>mean</th>\n",
       "      <th>std</th>\n",
       "      <th>mean</th>\n",
       "      <th>std</th>\n",
       "      <th>mean</th>\n",
       "      <th>std</th>\n",
       "      <th>mean</th>\n",
       "      <th>std</th>\n",
       "    </tr>\n",
       "  </thead>\n",
       "  <tbody>\n",
       "    <tr>\n",
       "      <th>F2_prot_Logistic</th>\n",
       "      <td>0.832388</td>\n",
       "      <td>0.040610</td>\n",
       "      <td>0.788949</td>\n",
       "      <td>0.064134</td>\n",
       "      <td>0.808201</td>\n",
       "      <td>0.038613</td>\n",
       "      <td>0.793597</td>\n",
       "      <td>0.036875</td>\n",
       "      <td>0.884170</td>\n",
       "      <td>0.030547</td>\n",
       "      <td>10.0</td>\n",
       "      <td>0.0</td>\n",
       "      <td>358.0</td>\n",
       "      <td>0.0</td>\n",
       "      <td>0.884170</td>\n",
       "      <td>0.030547</td>\n",
       "    </tr>\n",
       "    <tr>\n",
       "      <th>F2_marker_te</th>\n",
       "      <td>0.762716</td>\n",
       "      <td>0.043139</td>\n",
       "      <td>0.822674</td>\n",
       "      <td>0.062283</td>\n",
       "      <td>0.790254</td>\n",
       "      <td>0.041775</td>\n",
       "      <td>0.756498</td>\n",
       "      <td>0.046094</td>\n",
       "      <td>0.756498</td>\n",
       "      <td>0.046094</td>\n",
       "      <td>1.0</td>\n",
       "      <td>0.0</td>\n",
       "      <td>341.0</td>\n",
       "      <td>0.0</td>\n",
       "      <td>0.756498</td>\n",
       "      <td>0.046094</td>\n",
       "    </tr>\n",
       "    <tr>\n",
       "      <th>F2_marker_swe</th>\n",
       "      <td>0.797098</td>\n",
       "      <td>0.047761</td>\n",
       "      <td>0.777778</td>\n",
       "      <td>0.050918</td>\n",
       "      <td>0.786365</td>\n",
       "      <td>0.041280</td>\n",
       "      <td>0.769695</td>\n",
       "      <td>0.044515</td>\n",
       "      <td>0.769695</td>\n",
       "      <td>0.044515</td>\n",
       "      <td>1.0</td>\n",
       "      <td>0.0</td>\n",
       "      <td>331.0</td>\n",
       "      <td>0.0</td>\n",
       "      <td>0.769695</td>\n",
       "      <td>0.044515</td>\n",
       "    </tr>\n",
       "    <tr>\n",
       "      <th>F2_marker_forns_Logistic</th>\n",
       "      <td>0.726811</td>\n",
       "      <td>0.041751</td>\n",
       "      <td>0.771782</td>\n",
       "      <td>0.068239</td>\n",
       "      <td>0.746539</td>\n",
       "      <td>0.039279</td>\n",
       "      <td>0.704077</td>\n",
       "      <td>0.042082</td>\n",
       "      <td>0.810735</td>\n",
       "      <td>0.038169</td>\n",
       "      <td>1.0</td>\n",
       "      <td>0.0</td>\n",
       "      <td>356.0</td>\n",
       "      <td>0.0</td>\n",
       "      <td>0.810735</td>\n",
       "      <td>0.038169</td>\n",
       "    </tr>\n",
       "    <tr>\n",
       "      <th>F2_marker_fib4</th>\n",
       "      <td>0.746835</td>\n",
       "      <td>0.047333</td>\n",
       "      <td>0.745000</td>\n",
       "      <td>0.063830</td>\n",
       "      <td>0.744388</td>\n",
       "      <td>0.044674</td>\n",
       "      <td>0.712198</td>\n",
       "      <td>0.049367</td>\n",
       "      <td>0.712198</td>\n",
       "      <td>0.049367</td>\n",
       "      <td>1.0</td>\n",
       "      <td>0.0</td>\n",
       "      <td>352.0</td>\n",
       "      <td>0.0</td>\n",
       "      <td>0.712198</td>\n",
       "      <td>0.049367</td>\n",
       "    </tr>\n",
       "    <tr>\n",
       "      <th>F2_marker_p3np_Logistic</th>\n",
       "      <td>0.828358</td>\n",
       "      <td>0.064132</td>\n",
       "      <td>0.671277</td>\n",
       "      <td>0.081386</td>\n",
       "      <td>0.737268</td>\n",
       "      <td>0.052634</td>\n",
       "      <td>0.751777</td>\n",
       "      <td>0.044477</td>\n",
       "      <td>0.804933</td>\n",
       "      <td>0.051008</td>\n",
       "      <td>1.0</td>\n",
       "      <td>0.0</td>\n",
       "      <td>319.0</td>\n",
       "      <td>0.0</td>\n",
       "      <td>0.804933</td>\n",
       "      <td>0.051008</td>\n",
       "    </tr>\n",
       "    <tr>\n",
       "      <th>F2_marker_elf</th>\n",
       "      <td>0.572836</td>\n",
       "      <td>0.010215</td>\n",
       "      <td>0.994858</td>\n",
       "      <td>0.010284</td>\n",
       "      <td>0.726969</td>\n",
       "      <td>0.008601</td>\n",
       "      <td>0.532913</td>\n",
       "      <td>0.017608</td>\n",
       "      <td>0.532913</td>\n",
       "      <td>0.017608</td>\n",
       "      <td>1.0</td>\n",
       "      <td>0.0</td>\n",
       "      <td>349.0</td>\n",
       "      <td>0.0</td>\n",
       "      <td>0.532913</td>\n",
       "      <td>0.017608</td>\n",
       "    </tr>\n",
       "    <tr>\n",
       "      <th>F2_marker_apri</th>\n",
       "      <td>0.835903</td>\n",
       "      <td>0.047946</td>\n",
       "      <td>0.566397</td>\n",
       "      <td>0.066851</td>\n",
       "      <td>0.672967</td>\n",
       "      <td>0.054406</td>\n",
       "      <td>0.713098</td>\n",
       "      <td>0.038688</td>\n",
       "      <td>0.713098</td>\n",
       "      <td>0.038688</td>\n",
       "      <td>1.0</td>\n",
       "      <td>0.0</td>\n",
       "      <td>353.0</td>\n",
       "      <td>0.0</td>\n",
       "      <td>0.713098</td>\n",
       "      <td>0.038688</td>\n",
       "    </tr>\n",
       "    <tr>\n",
       "      <th>F2_marker_ft</th>\n",
       "      <td>0.908408</td>\n",
       "      <td>0.060878</td>\n",
       "      <td>0.493177</td>\n",
       "      <td>0.093327</td>\n",
       "      <td>0.635021</td>\n",
       "      <td>0.085955</td>\n",
       "      <td>0.718819</td>\n",
       "      <td>0.053897</td>\n",
       "      <td>0.718819</td>\n",
       "      <td>0.053897</td>\n",
       "      <td>1.0</td>\n",
       "      <td>0.0</td>\n",
       "      <td>268.0</td>\n",
       "      <td>0.0</td>\n",
       "      <td>0.718819</td>\n",
       "      <td>0.053897</td>\n",
       "    </tr>\n",
       "  </tbody>\n",
       "</table>\n",
       "</div>"
      ],
      "text/plain": [
       "variable                 precision              recall                  f1  \\\n",
       "statistics                    mean       std      mean       std      mean   \n",
       "F2_prot_Logistic          0.832388  0.040610  0.788949  0.064134  0.808201   \n",
       "F2_marker_te              0.762716  0.043139  0.822674  0.062283  0.790254   \n",
       "F2_marker_swe             0.797098  0.047761  0.777778  0.050918  0.786365   \n",
       "F2_marker_forns_Logistic  0.726811  0.041751  0.771782  0.068239  0.746539   \n",
       "F2_marker_fib4            0.746835  0.047333  0.745000  0.063830  0.744388   \n",
       "F2_marker_p3np_Logistic   0.828358  0.064132  0.671277  0.081386  0.737268   \n",
       "F2_marker_elf             0.572836  0.010215  0.994858  0.010284  0.726969   \n",
       "F2_marker_apri            0.835903  0.047946  0.566397  0.066851  0.672967   \n",
       "F2_marker_ft              0.908408  0.060878  0.493177  0.093327  0.635021   \n",
       "\n",
       "variable                           balanced_accuracy             roc_auc  \\\n",
       "statistics                     std              mean       std      mean   \n",
       "F2_prot_Logistic          0.038613          0.793597  0.036875  0.884170   \n",
       "F2_marker_te              0.041775          0.756498  0.046094  0.756498   \n",
       "F2_marker_swe             0.041280          0.769695  0.044515  0.769695   \n",
       "F2_marker_forns_Logistic  0.039279          0.704077  0.042082  0.810735   \n",
       "F2_marker_fib4            0.044674          0.712198  0.049367  0.712198   \n",
       "F2_marker_p3np_Logistic   0.052634          0.751777  0.044477  0.804933   \n",
       "F2_marker_elf             0.008601          0.532913  0.017608  0.532913   \n",
       "F2_marker_apri            0.054406          0.713098  0.038688  0.713098   \n",
       "F2_marker_ft              0.085955          0.718819  0.053897  0.718819   \n",
       "\n",
       "variable                           num_feat       n_obs      roc_auc_2  \\\n",
       "statistics                     std     mean  std   mean  std      mean   \n",
       "F2_prot_Logistic          0.030547     10.0  0.0  358.0  0.0  0.884170   \n",
       "F2_marker_te              0.046094      1.0  0.0  341.0  0.0  0.756498   \n",
       "F2_marker_swe             0.044515      1.0  0.0  331.0  0.0  0.769695   \n",
       "F2_marker_forns_Logistic  0.038169      1.0  0.0  356.0  0.0  0.810735   \n",
       "F2_marker_fib4            0.049367      1.0  0.0  352.0  0.0  0.712198   \n",
       "F2_marker_p3np_Logistic   0.051008      1.0  0.0  319.0  0.0  0.804933   \n",
       "F2_marker_elf             0.017608      1.0  0.0  349.0  0.0  0.532913   \n",
       "F2_marker_apri            0.038688      1.0  0.0  353.0  0.0  0.713098   \n",
       "F2_marker_ft              0.053897      1.0  0.0  268.0  0.0  0.718819   \n",
       "\n",
       "variable                            \n",
       "statistics                     std  \n",
       "F2_prot_Logistic          0.030547  \n",
       "F2_marker_te              0.046094  \n",
       "F2_marker_swe             0.044515  \n",
       "F2_marker_forns_Logistic  0.038169  \n",
       "F2_marker_fib4            0.049367  \n",
       "F2_marker_p3np_Logistic   0.051008  \n",
       "F2_marker_elf             0.017608  \n",
       "F2_marker_apri            0.038688  \n",
       "F2_marker_ft              0.053897  "
      ]
     },
     "execution_count": 97,
     "metadata": {},
     "output_type": "execute_result"
    }
   ],
   "source": [
    "result_table_f2 = _get_cv_means(f2_results).sort_values(('f1', 'mean'), ascending = False)\n",
    "result_table_f2"
   ]
  },
  {
   "cell_type": "markdown",
   "metadata": {
    "Collapsed": "false"
   },
   "source": [
    "#### F3"
   ]
  },
  {
   "cell_type": "code",
   "execution_count": 98,
   "metadata": {
    "Collapsed": "false"
   },
   "outputs": [
    {
     "data": {
      "text/plain": [
       "0    266\n",
       "1     94\n",
       "Name: kleiner, dtype: int64"
      ]
     },
     "execution_count": 98,
     "metadata": {},
     "output_type": "execute_result"
    }
   ],
   "source": [
    "kleiner_ge_3.value_counts(dropna=False)"
   ]
  },
  {
   "cell_type": "code",
   "execution_count": 99,
   "metadata": {
    "Collapsed": "false"
   },
   "outputs": [
    {
     "data": {
      "text/plain": [
       "{'te': 15.0,\n",
       " 'swe': 16.4,\n",
       " 'elf': 10.5,\n",
       " 'ft': 0.58,\n",
       " 'fib4': 3.25,\n",
       " 'apri': 1.0,\n",
       " 'forns': 6.8}"
      ]
     },
     "execution_count": 99,
     "metadata": {},
     "output_type": "execute_result"
    }
   ],
   "source": [
    "cutoffs_f3 = cutoffs_clinic['F3'].dropna().to_dict()\n",
    "cutoffs_f3"
   ]
  },
  {
   "cell_type": "markdown",
   "metadata": {
    "Collapsed": "false"
   },
   "source": [
    "Two clinical markers have no cutoff defined in the literature. Therefore we have to learn these"
   ]
  },
  {
   "cell_type": "code",
   "execution_count": 100,
   "metadata": {
    "Collapsed": "false"
   },
   "outputs": [
    {
     "data": {
      "text/html": [
       "<div>\n",
       "<style scoped>\n",
       "    .dataframe tbody tr th:only-of-type {\n",
       "        vertical-align: middle;\n",
       "    }\n",
       "\n",
       "    .dataframe tbody tr th {\n",
       "        vertical-align: top;\n",
       "    }\n",
       "\n",
       "    .dataframe thead tr th {\n",
       "        text-align: left;\n",
       "    }\n",
       "</style>\n",
       "<table border=\"1\" class=\"dataframe\">\n",
       "  <thead>\n",
       "    <tr>\n",
       "      <th>variable</th>\n",
       "      <th colspan=\"2\" halign=\"left\">precision</th>\n",
       "      <th colspan=\"2\" halign=\"left\">recall</th>\n",
       "      <th colspan=\"2\" halign=\"left\">f1</th>\n",
       "      <th colspan=\"2\" halign=\"left\">balanced_accuracy</th>\n",
       "      <th colspan=\"2\" halign=\"left\">roc_auc</th>\n",
       "      <th colspan=\"2\" halign=\"left\">num_feat</th>\n",
       "      <th colspan=\"2\" halign=\"left\">n_obs</th>\n",
       "      <th colspan=\"2\" halign=\"left\">roc_auc_2</th>\n",
       "    </tr>\n",
       "    <tr>\n",
       "      <th>statistics</th>\n",
       "      <th>mean</th>\n",
       "      <th>std</th>\n",
       "      <th>mean</th>\n",
       "      <th>std</th>\n",
       "      <th>mean</th>\n",
       "      <th>std</th>\n",
       "      <th>mean</th>\n",
       "      <th>std</th>\n",
       "      <th>mean</th>\n",
       "      <th>std</th>\n",
       "      <th>mean</th>\n",
       "      <th>std</th>\n",
       "      <th>mean</th>\n",
       "      <th>std</th>\n",
       "      <th>mean</th>\n",
       "      <th>std</th>\n",
       "    </tr>\n",
       "  </thead>\n",
       "  <tbody>\n",
       "    <tr>\n",
       "      <th>F3_marker_te</th>\n",
       "      <td>0.797566</td>\n",
       "      <td>0.073238</td>\n",
       "      <td>0.894118</td>\n",
       "      <td>0.066551</td>\n",
       "      <td>0.840594</td>\n",
       "      <td>0.055138</td>\n",
       "      <td>0.908013</td>\n",
       "      <td>0.037463</td>\n",
       "      <td>0.908013</td>\n",
       "      <td>0.037463</td>\n",
       "      <td>1.0</td>\n",
       "      <td>0.0</td>\n",
       "      <td>341.0</td>\n",
       "      <td>0.0</td>\n",
       "      <td>0.908013</td>\n",
       "      <td>0.037463</td>\n",
       "    </tr>\n",
       "    <tr>\n",
       "      <th>F3_marker_swe</th>\n",
       "      <td>0.856742</td>\n",
       "      <td>0.070448</td>\n",
       "      <td>0.831103</td>\n",
       "      <td>0.089408</td>\n",
       "      <td>0.840261</td>\n",
       "      <td>0.062089</td>\n",
       "      <td>0.891339</td>\n",
       "      <td>0.046145</td>\n",
       "      <td>0.891339</td>\n",
       "      <td>0.046145</td>\n",
       "      <td>1.0</td>\n",
       "      <td>0.0</td>\n",
       "      <td>331.0</td>\n",
       "      <td>0.0</td>\n",
       "      <td>0.891339</td>\n",
       "      <td>0.046145</td>\n",
       "    </tr>\n",
       "    <tr>\n",
       "      <th>F3_prot_Logistic</th>\n",
       "      <td>0.818404</td>\n",
       "      <td>0.077626</td>\n",
       "      <td>0.714971</td>\n",
       "      <td>0.087698</td>\n",
       "      <td>0.760191</td>\n",
       "      <td>0.070092</td>\n",
       "      <td>0.828995</td>\n",
       "      <td>0.047321</td>\n",
       "      <td>0.944867</td>\n",
       "      <td>0.024571</td>\n",
       "      <td>10.0</td>\n",
       "      <td>0.0</td>\n",
       "      <td>358.0</td>\n",
       "      <td>0.0</td>\n",
       "      <td>0.944867</td>\n",
       "      <td>0.024571</td>\n",
       "    </tr>\n",
       "    <tr>\n",
       "      <th>F3_marker_elf</th>\n",
       "      <td>0.705481</td>\n",
       "      <td>0.066317</td>\n",
       "      <td>0.755556</td>\n",
       "      <td>0.085346</td>\n",
       "      <td>0.726493</td>\n",
       "      <td>0.059014</td>\n",
       "      <td>0.821748</td>\n",
       "      <td>0.042949</td>\n",
       "      <td>0.821748</td>\n",
       "      <td>0.042949</td>\n",
       "      <td>1.0</td>\n",
       "      <td>0.0</td>\n",
       "      <td>349.0</td>\n",
       "      <td>0.0</td>\n",
       "      <td>0.821748</td>\n",
       "      <td>0.042949</td>\n",
       "    </tr>\n",
       "    <tr>\n",
       "      <th>F3_marker_forns</th>\n",
       "      <td>0.645443</td>\n",
       "      <td>0.073630</td>\n",
       "      <td>0.702398</td>\n",
       "      <td>0.086738</td>\n",
       "      <td>0.669815</td>\n",
       "      <td>0.066631</td>\n",
       "      <td>0.780553</td>\n",
       "      <td>0.049100</td>\n",
       "      <td>0.780553</td>\n",
       "      <td>0.049100</td>\n",
       "      <td>1.0</td>\n",
       "      <td>0.0</td>\n",
       "      <td>356.0</td>\n",
       "      <td>0.0</td>\n",
       "      <td>0.780553</td>\n",
       "      <td>0.049100</td>\n",
       "    </tr>\n",
       "    <tr>\n",
       "      <th>F3_marker_ft</th>\n",
       "      <td>0.654438</td>\n",
       "      <td>0.108230</td>\n",
       "      <td>0.636593</td>\n",
       "      <td>0.126335</td>\n",
       "      <td>0.638719</td>\n",
       "      <td>0.097037</td>\n",
       "      <td>0.761376</td>\n",
       "      <td>0.066801</td>\n",
       "      <td>0.761376</td>\n",
       "      <td>0.066801</td>\n",
       "      <td>1.0</td>\n",
       "      <td>0.0</td>\n",
       "      <td>268.0</td>\n",
       "      <td>0.0</td>\n",
       "      <td>0.761376</td>\n",
       "      <td>0.066801</td>\n",
       "    </tr>\n",
       "    <tr>\n",
       "      <th>F3_marker_fib4</th>\n",
       "      <td>0.692626</td>\n",
       "      <td>0.084706</td>\n",
       "      <td>0.576023</td>\n",
       "      <td>0.102020</td>\n",
       "      <td>0.624457</td>\n",
       "      <td>0.080900</td>\n",
       "      <td>0.741858</td>\n",
       "      <td>0.052261</td>\n",
       "      <td>0.741858</td>\n",
       "      <td>0.052261</td>\n",
       "      <td>1.0</td>\n",
       "      <td>0.0</td>\n",
       "      <td>352.0</td>\n",
       "      <td>0.0</td>\n",
       "      <td>0.741858</td>\n",
       "      <td>0.052261</td>\n",
       "    </tr>\n",
       "    <tr>\n",
       "      <th>F3_marker_p3np_Logistic</th>\n",
       "      <td>0.767904</td>\n",
       "      <td>0.142637</td>\n",
       "      <td>0.428750</td>\n",
       "      <td>0.125577</td>\n",
       "      <td>0.539188</td>\n",
       "      <td>0.115022</td>\n",
       "      <td>0.692317</td>\n",
       "      <td>0.063536</td>\n",
       "      <td>0.842250</td>\n",
       "      <td>0.047341</td>\n",
       "      <td>1.0</td>\n",
       "      <td>0.0</td>\n",
       "      <td>319.0</td>\n",
       "      <td>0.0</td>\n",
       "      <td>0.842250</td>\n",
       "      <td>0.047341</td>\n",
       "    </tr>\n",
       "    <tr>\n",
       "      <th>F3_marker_apri</th>\n",
       "      <td>0.519704</td>\n",
       "      <td>0.113700</td>\n",
       "      <td>0.370117</td>\n",
       "      <td>0.101418</td>\n",
       "      <td>0.426921</td>\n",
       "      <td>0.097730</td>\n",
       "      <td>0.623759</td>\n",
       "      <td>0.053638</td>\n",
       "      <td>0.623759</td>\n",
       "      <td>0.053638</td>\n",
       "      <td>1.0</td>\n",
       "      <td>0.0</td>\n",
       "      <td>353.0</td>\n",
       "      <td>0.0</td>\n",
       "      <td>0.623759</td>\n",
       "      <td>0.053638</td>\n",
       "    </tr>\n",
       "  </tbody>\n",
       "</table>\n",
       "</div>"
      ],
      "text/plain": [
       "variable                precision              recall                  f1  \\\n",
       "statistics                   mean       std      mean       std      mean   \n",
       "F3_marker_te             0.797566  0.073238  0.894118  0.066551  0.840594   \n",
       "F3_marker_swe            0.856742  0.070448  0.831103  0.089408  0.840261   \n",
       "F3_prot_Logistic         0.818404  0.077626  0.714971  0.087698  0.760191   \n",
       "F3_marker_elf            0.705481  0.066317  0.755556  0.085346  0.726493   \n",
       "F3_marker_forns          0.645443  0.073630  0.702398  0.086738  0.669815   \n",
       "F3_marker_ft             0.654438  0.108230  0.636593  0.126335  0.638719   \n",
       "F3_marker_fib4           0.692626  0.084706  0.576023  0.102020  0.624457   \n",
       "F3_marker_p3np_Logistic  0.767904  0.142637  0.428750  0.125577  0.539188   \n",
       "F3_marker_apri           0.519704  0.113700  0.370117  0.101418  0.426921   \n",
       "\n",
       "variable                          balanced_accuracy             roc_auc  \\\n",
       "statistics                    std              mean       std      mean   \n",
       "F3_marker_te             0.055138          0.908013  0.037463  0.908013   \n",
       "F3_marker_swe            0.062089          0.891339  0.046145  0.891339   \n",
       "F3_prot_Logistic         0.070092          0.828995  0.047321  0.944867   \n",
       "F3_marker_elf            0.059014          0.821748  0.042949  0.821748   \n",
       "F3_marker_forns          0.066631          0.780553  0.049100  0.780553   \n",
       "F3_marker_ft             0.097037          0.761376  0.066801  0.761376   \n",
       "F3_marker_fib4           0.080900          0.741858  0.052261  0.741858   \n",
       "F3_marker_p3np_Logistic  0.115022          0.692317  0.063536  0.842250   \n",
       "F3_marker_apri           0.097730          0.623759  0.053638  0.623759   \n",
       "\n",
       "variable                          num_feat       n_obs      roc_auc_2  \\\n",
       "statistics                    std     mean  std   mean  std      mean   \n",
       "F3_marker_te             0.037463      1.0  0.0  341.0  0.0  0.908013   \n",
       "F3_marker_swe            0.046145      1.0  0.0  331.0  0.0  0.891339   \n",
       "F3_prot_Logistic         0.024571     10.0  0.0  358.0  0.0  0.944867   \n",
       "F3_marker_elf            0.042949      1.0  0.0  349.0  0.0  0.821748   \n",
       "F3_marker_forns          0.049100      1.0  0.0  356.0  0.0  0.780553   \n",
       "F3_marker_ft             0.066801      1.0  0.0  268.0  0.0  0.761376   \n",
       "F3_marker_fib4           0.052261      1.0  0.0  352.0  0.0  0.741858   \n",
       "F3_marker_p3np_Logistic  0.047341      1.0  0.0  319.0  0.0  0.842250   \n",
       "F3_marker_apri           0.053638      1.0  0.0  353.0  0.0  0.623759   \n",
       "\n",
       "variable                           \n",
       "statistics                    std  \n",
       "F3_marker_te             0.037463  \n",
       "F3_marker_swe            0.046145  \n",
       "F3_prot_Logistic         0.024571  \n",
       "F3_marker_elf            0.042949  \n",
       "F3_marker_forns          0.049100  \n",
       "F3_marker_ft             0.066801  \n",
       "F3_marker_fib4           0.052261  \n",
       "F3_marker_p3np_Logistic  0.047341  \n",
       "F3_marker_apri           0.053638  "
      ]
     },
     "execution_count": 100,
     "metadata": {},
     "output_type": "execute_result"
    }
   ],
   "source": [
    "f3_results, f3_auc_scores = cv_executor.run_evaluation(y=kleiner_ge_3, endpoint='F3', \n",
    "                                                       additional_markers=['p3np'], \n",
    "                                                       proteins_selected=proteins_selected_f3)\n",
    "result_table_f3 = _get_cv_means(f3_results).sort_values(('f1', 'mean'), ascending = False)\n",
    "result_table_f3"
   ]
  },
  {
   "cell_type": "markdown",
   "metadata": {
    "Collapsed": "false"
   },
   "source": [
    "If the models are trained on the fibrosis data only, on could expect some predictions of fibrosis patients in the untested healthy patient (hp) cohort."
   ]
  },
  {
   "cell_type": "markdown",
   "metadata": {
    "Collapsed": "false"
   },
   "source": [
    "#### Comment: Healthy patients - Select for testing\n",
    "- Yes, that is a good idea. One can also predict on the test set and ask for a re-examination of the patient (or re-evaluation of the histology score), or to look into the outcome data which we might get access to soon. We might expect some \"false prediction\" to be \"under-diagnosed\" cases and vice versa."
   ]
  },
  {
   "cell_type": "markdown",
   "metadata": {
    "Collapsed": "false"
   },
   "source": [
    "#### Healthy vs Fibrosis patients\n",
    "\n",
    "How many healthy patients would be predicted to have fibrosis?"
   ]
  },
  {
   "cell_type": "code",
   "execution_count": null,
   "metadata": {
    "Collapsed": "false"
   },
   "outputs": [],
   "source": []
  },
  {
   "cell_type": "markdown",
   "metadata": {
    "Collapsed": "false"
   },
   "source": [
    "#### Comment:\n",
    "- I agree. Ideally we would need an independent cohort for validation but is not possible in this case. So we can split a validation cohort from the beginning, and leave it out of the entire machine learning process - feature selection, model building, parameter fine-tuning. The problem is with random split, there is still a factor of randomness...I doubt if it will be a good reflection of the model performance. Not sure if there is a better solution. Maybe we can split based on the year of sample collection. Something to have in mind. "
   ]
  },
  {
   "cell_type": "markdown",
   "metadata": {
    "Collapsed": "false"
   },
   "source": [
    "### Inflamation"
   ]
  },
  {
   "cell_type": "code",
   "execution_count": 101,
   "metadata": {
    "Collapsed": "false"
   },
   "outputs": [
    {
     "data": {
      "text/plain": [
       "1    189\n",
       "0    163\n",
       "Name: nas_inflam, dtype: int64"
      ]
     },
     "execution_count": 101,
     "metadata": {},
     "output_type": "execute_result"
    }
   ],
   "source": [
    "inflamation_ge_2.value_counts(dropna=False)"
   ]
  },
  {
   "cell_type": "code",
   "execution_count": 102,
   "metadata": {
    "Collapsed": "false"
   },
   "outputs": [
    {
     "data": {
      "text/plain": [
       "{'aar': 2.0}"
      ]
     },
     "execution_count": 102,
     "metadata": {},
     "output_type": "execute_result"
    }
   ],
   "source": [
    "cutoffs_i2 = cutoffs_clinic['I2'].dropna().to_dict()\n",
    "cutoffs_i2"
   ]
  },
  {
   "cell_type": "markdown",
   "metadata": {
    "Collapsed": "false"
   },
   "source": [
    "##### Reference Model: Based on clinical markerthresholds"
   ]
  },
  {
   "cell_type": "code",
   "execution_count": 103,
   "metadata": {
    "Collapsed": "false"
   },
   "outputs": [
    {
     "data": {
      "text/html": [
       "<div>\n",
       "<style scoped>\n",
       "    .dataframe tbody tr th:only-of-type {\n",
       "        vertical-align: middle;\n",
       "    }\n",
       "\n",
       "    .dataframe tbody tr th {\n",
       "        vertical-align: top;\n",
       "    }\n",
       "\n",
       "    .dataframe thead tr th {\n",
       "        text-align: left;\n",
       "    }\n",
       "</style>\n",
       "<table border=\"1\" class=\"dataframe\">\n",
       "  <thead>\n",
       "    <tr>\n",
       "      <th>variable</th>\n",
       "      <th colspan=\"2\" halign=\"left\">precision</th>\n",
       "      <th colspan=\"2\" halign=\"left\">recall</th>\n",
       "      <th colspan=\"2\" halign=\"left\">f1</th>\n",
       "      <th colspan=\"2\" halign=\"left\">balanced_accuracy</th>\n",
       "      <th colspan=\"2\" halign=\"left\">roc_auc</th>\n",
       "      <th colspan=\"2\" halign=\"left\">num_feat</th>\n",
       "      <th colspan=\"2\" halign=\"left\">n_obs</th>\n",
       "      <th colspan=\"2\" halign=\"left\">roc_auc_2</th>\n",
       "    </tr>\n",
       "    <tr>\n",
       "      <th>statistics</th>\n",
       "      <th>mean</th>\n",
       "      <th>std</th>\n",
       "      <th>mean</th>\n",
       "      <th>std</th>\n",
       "      <th>mean</th>\n",
       "      <th>std</th>\n",
       "      <th>mean</th>\n",
       "      <th>std</th>\n",
       "      <th>mean</th>\n",
       "      <th>std</th>\n",
       "      <th>mean</th>\n",
       "      <th>std</th>\n",
       "      <th>mean</th>\n",
       "      <th>std</th>\n",
       "      <th>mean</th>\n",
       "      <th>std</th>\n",
       "    </tr>\n",
       "  </thead>\n",
       "  <tbody>\n",
       "    <tr>\n",
       "      <th>I2_prot_Logistic</th>\n",
       "      <td>0.780870</td>\n",
       "      <td>0.055914</td>\n",
       "      <td>0.764410</td>\n",
       "      <td>0.063825</td>\n",
       "      <td>0.770306</td>\n",
       "      <td>0.043687</td>\n",
       "      <td>0.755103</td>\n",
       "      <td>0.046629</td>\n",
       "      <td>0.827576</td>\n",
       "      <td>0.039381</td>\n",
       "      <td>10.0</td>\n",
       "      <td>0.0</td>\n",
       "      <td>350.0</td>\n",
       "      <td>0.0</td>\n",
       "      <td>0.827576</td>\n",
       "      <td>0.039381</td>\n",
       "    </tr>\n",
       "    <tr>\n",
       "      <th>I2_marker_m30_Logistic</th>\n",
       "      <td>0.757184</td>\n",
       "      <td>0.083973</td>\n",
       "      <td>0.590159</td>\n",
       "      <td>0.093366</td>\n",
       "      <td>0.659028</td>\n",
       "      <td>0.075101</td>\n",
       "      <td>0.690326</td>\n",
       "      <td>0.061505</td>\n",
       "      <td>0.768228</td>\n",
       "      <td>0.064097</td>\n",
       "      <td>1.0</td>\n",
       "      <td>0.0</td>\n",
       "      <td>266.0</td>\n",
       "      <td>0.0</td>\n",
       "      <td>0.768228</td>\n",
       "      <td>0.064097</td>\n",
       "    </tr>\n",
       "    <tr>\n",
       "      <th>I2_marker_m65_Logistic</th>\n",
       "      <td>0.725609</td>\n",
       "      <td>0.071553</td>\n",
       "      <td>0.560423</td>\n",
       "      <td>0.084624</td>\n",
       "      <td>0.629472</td>\n",
       "      <td>0.069642</td>\n",
       "      <td>0.666689</td>\n",
       "      <td>0.056124</td>\n",
       "      <td>0.714034</td>\n",
       "      <td>0.048740</td>\n",
       "      <td>1.0</td>\n",
       "      <td>0.0</td>\n",
       "      <td>264.0</td>\n",
       "      <td>0.0</td>\n",
       "      <td>0.714034</td>\n",
       "      <td>0.048740</td>\n",
       "    </tr>\n",
       "    <tr>\n",
       "      <th>I2_marker_aar</th>\n",
       "      <td>0.820018</td>\n",
       "      <td>0.089742</td>\n",
       "      <td>0.210811</td>\n",
       "      <td>0.048044</td>\n",
       "      <td>0.332261</td>\n",
       "      <td>0.060875</td>\n",
       "      <td>0.577139</td>\n",
       "      <td>0.025278</td>\n",
       "      <td>0.577139</td>\n",
       "      <td>0.025278</td>\n",
       "      <td>1.0</td>\n",
       "      <td>0.0</td>\n",
       "      <td>344.0</td>\n",
       "      <td>0.0</td>\n",
       "      <td>0.577139</td>\n",
       "      <td>0.025278</td>\n",
       "    </tr>\n",
       "  </tbody>\n",
       "</table>\n",
       "</div>"
      ],
      "text/plain": [
       "variable               precision              recall                  f1  \\\n",
       "statistics                  mean       std      mean       std      mean   \n",
       "I2_prot_Logistic        0.780870  0.055914  0.764410  0.063825  0.770306   \n",
       "I2_marker_m30_Logistic  0.757184  0.083973  0.590159  0.093366  0.659028   \n",
       "I2_marker_m65_Logistic  0.725609  0.071553  0.560423  0.084624  0.629472   \n",
       "I2_marker_aar           0.820018  0.089742  0.210811  0.048044  0.332261   \n",
       "\n",
       "variable                         balanced_accuracy             roc_auc  \\\n",
       "statistics                   std              mean       std      mean   \n",
       "I2_prot_Logistic        0.043687          0.755103  0.046629  0.827576   \n",
       "I2_marker_m30_Logistic  0.075101          0.690326  0.061505  0.768228   \n",
       "I2_marker_m65_Logistic  0.069642          0.666689  0.056124  0.714034   \n",
       "I2_marker_aar           0.060875          0.577139  0.025278  0.577139   \n",
       "\n",
       "variable                         num_feat       n_obs      roc_auc_2            \n",
       "statistics                   std     mean  std   mean  std      mean       std  \n",
       "I2_prot_Logistic        0.039381     10.0  0.0  350.0  0.0  0.827576  0.039381  \n",
       "I2_marker_m30_Logistic  0.064097      1.0  0.0  266.0  0.0  0.768228  0.064097  \n",
       "I2_marker_m65_Logistic  0.048740      1.0  0.0  264.0  0.0  0.714034  0.048740  \n",
       "I2_marker_aar           0.025278      1.0  0.0  344.0  0.0  0.577139  0.025278  "
      ]
     },
     "execution_count": 103,
     "metadata": {},
     "output_type": "execute_result"
    }
   ],
   "source": [
    "i2_results, i2_auc_scores = cv_executor.run_evaluation(y=inflamation_ge_2, endpoint='I2', \n",
    "                                                       additional_markers=['m30', 'm65'], \n",
    "                                                       proteins_selected=proteins_selected_I2)\n",
    "result_table_i2 = _get_cv_means(i2_results).sort_values(('f1', 'mean'), ascending = False)\n",
    "result_table_i2"
   ]
  },
  {
   "cell_type": "markdown",
   "metadata": {
    "Collapsed": "false"
   },
   "source": [
    "Data will have to depend on the number of available features in the "
   ]
  },
  {
   "cell_type": "markdown",
   "metadata": {
    "Collapsed": "false"
   },
   "source": [
    "Two clinical markers have no cutoff defined in the literature. Therefore we have to learn these"
   ]
  },
  {
   "cell_type": "markdown",
   "metadata": {
    "Collapsed": "false"
   },
   "source": [
    "### Steatosis"
   ]
  },
  {
   "cell_type": "code",
   "execution_count": 104,
   "metadata": {
    "Collapsed": "false"
   },
   "outputs": [
    {
     "data": {
      "text/plain": [
       "1    196\n",
       "0    156\n",
       "Name: nas_steatosis_ordinal, dtype: int64"
      ]
     },
     "execution_count": 104,
     "metadata": {},
     "output_type": "execute_result"
    }
   ],
   "source": [
    "steatosis_ge_1.value_counts(dropna=False)"
   ]
  },
  {
   "cell_type": "code",
   "execution_count": 105,
   "metadata": {
    "Collapsed": "false"
   },
   "outputs": [
    {
     "data": {
      "text/plain": [
       "{'cap': 290.0}"
      ]
     },
     "execution_count": 105,
     "metadata": {},
     "output_type": "execute_result"
    }
   ],
   "source": [
    "cutoffs_s1 = cutoffs_clinic['S1'].dropna().to_dict()\n",
    "cutoffs_s1"
   ]
  },
  {
   "cell_type": "markdown",
   "metadata": {
    "Collapsed": "false"
   },
   "source": [
    "Data will have to depend on the number of available features in the "
   ]
  },
  {
   "cell_type": "code",
   "execution_count": 106,
   "metadata": {
    "Collapsed": "false"
   },
   "outputs": [
    {
     "data": {
      "text/plain": [
       "count    352.000000\n",
       "mean       0.556818\n",
       "std        0.497468\n",
       "min        0.000000\n",
       "25%        0.000000\n",
       "50%        1.000000\n",
       "75%        1.000000\n",
       "max        1.000000\n",
       "Name: nas_steatosis_ordinal, dtype: float64"
      ]
     },
     "execution_count": 106,
     "metadata": {},
     "output_type": "execute_result"
    }
   ],
   "source": [
    "y = steatosis_ge_1.astype(int)\n",
    "y.describe()"
   ]
  },
  {
   "cell_type": "code",
   "execution_count": 107,
   "metadata": {
    "Collapsed": "false"
   },
   "outputs": [
    {
     "data": {
      "text/html": [
       "<div>\n",
       "<style scoped>\n",
       "    .dataframe tbody tr th:only-of-type {\n",
       "        vertical-align: middle;\n",
       "    }\n",
       "\n",
       "    .dataframe tbody tr th {\n",
       "        vertical-align: top;\n",
       "    }\n",
       "\n",
       "    .dataframe thead tr th {\n",
       "        text-align: left;\n",
       "    }\n",
       "</style>\n",
       "<table border=\"1\" class=\"dataframe\">\n",
       "  <thead>\n",
       "    <tr>\n",
       "      <th>variable</th>\n",
       "      <th colspan=\"2\" halign=\"left\">precision</th>\n",
       "      <th colspan=\"2\" halign=\"left\">recall</th>\n",
       "      <th colspan=\"2\" halign=\"left\">f1</th>\n",
       "      <th colspan=\"2\" halign=\"left\">balanced_accuracy</th>\n",
       "      <th colspan=\"2\" halign=\"left\">roc_auc</th>\n",
       "      <th colspan=\"2\" halign=\"left\">num_feat</th>\n",
       "      <th colspan=\"2\" halign=\"left\">n_obs</th>\n",
       "      <th colspan=\"2\" halign=\"left\">roc_auc_2</th>\n",
       "    </tr>\n",
       "    <tr>\n",
       "      <th>statistics</th>\n",
       "      <th>mean</th>\n",
       "      <th>std</th>\n",
       "      <th>mean</th>\n",
       "      <th>std</th>\n",
       "      <th>mean</th>\n",
       "      <th>std</th>\n",
       "      <th>mean</th>\n",
       "      <th>std</th>\n",
       "      <th>mean</th>\n",
       "      <th>std</th>\n",
       "      <th>mean</th>\n",
       "      <th>std</th>\n",
       "      <th>mean</th>\n",
       "      <th>std</th>\n",
       "      <th>mean</th>\n",
       "      <th>std</th>\n",
       "    </tr>\n",
       "  </thead>\n",
       "  <tbody>\n",
       "    <tr>\n",
       "      <th>S1_prot_Logistic</th>\n",
       "      <td>0.794839</td>\n",
       "      <td>0.042760</td>\n",
       "      <td>0.841244</td>\n",
       "      <td>0.043774</td>\n",
       "      <td>0.816307</td>\n",
       "      <td>0.031585</td>\n",
       "      <td>0.780740</td>\n",
       "      <td>0.039631</td>\n",
       "      <td>0.851838</td>\n",
       "      <td>0.033041</td>\n",
       "      <td>10.0</td>\n",
       "      <td>0.0</td>\n",
       "      <td>350.0</td>\n",
       "      <td>0.0</td>\n",
       "      <td>0.851838</td>\n",
       "      <td>0.033041</td>\n",
       "    </tr>\n",
       "    <tr>\n",
       "      <th>S1_marker_cap</th>\n",
       "      <td>0.891058</td>\n",
       "      <td>0.059481</td>\n",
       "      <td>0.632738</td>\n",
       "      <td>0.087765</td>\n",
       "      <td>0.736820</td>\n",
       "      <td>0.070223</td>\n",
       "      <td>0.745941</td>\n",
       "      <td>0.062205</td>\n",
       "      <td>0.745941</td>\n",
       "      <td>0.062205</td>\n",
       "      <td>1.0</td>\n",
       "      <td>0.0</td>\n",
       "      <td>199.0</td>\n",
       "      <td>0.0</td>\n",
       "      <td>0.745941</td>\n",
       "      <td>0.062205</td>\n",
       "    </tr>\n",
       "  </tbody>\n",
       "</table>\n",
       "</div>"
      ],
      "text/plain": [
       "variable         precision              recall                  f1            \\\n",
       "statistics            mean       std      mean       std      mean       std   \n",
       "S1_prot_Logistic  0.794839  0.042760  0.841244  0.043774  0.816307  0.031585   \n",
       "S1_marker_cap     0.891058  0.059481  0.632738  0.087765  0.736820  0.070223   \n",
       "\n",
       "variable         balanced_accuracy             roc_auc           num_feat  \\\n",
       "statistics                    mean       std      mean       std     mean   \n",
       "S1_prot_Logistic          0.780740  0.039631  0.851838  0.033041     10.0   \n",
       "S1_marker_cap             0.745941  0.062205  0.745941  0.062205      1.0   \n",
       "\n",
       "variable               n_obs      roc_auc_2            \n",
       "statistics        std   mean  std      mean       std  \n",
       "S1_prot_Logistic  0.0  350.0  0.0  0.851838  0.033041  \n",
       "S1_marker_cap     0.0  199.0  0.0  0.745941  0.062205  "
      ]
     },
     "execution_count": 107,
     "metadata": {},
     "output_type": "execute_result"
    }
   ],
   "source": [
    "s1_results, s1_auc_scores = cv_executor.run_evaluation(y=steatosis_ge_1, endpoint='S1', \n",
    "                                                       additional_markers=[], \n",
    "                                                       proteins_selected=proteins_selected_s1)\n",
    "result_table_s1 = _get_cv_means(s1_results).sort_values(('f1', 'mean'), ascending = False)\n",
    "result_table_s1"
   ]
  },
  {
   "cell_type": "markdown",
   "metadata": {
    "Collapsed": "false"
   },
   "source": [
    "### Write results to Excel"
   ]
  },
  {
   "cell_type": "code",
   "execution_count": 108,
   "metadata": {
    "Collapsed": "false"
   },
   "outputs": [],
   "source": [
    "FILE_RESULTS = 'results.xlsx'\n",
    "\n",
    "with pd.ExcelWriter(FILE_RESULTS) as writer:\n",
    "    result_table_f2.to_excel(writer, sheet_name='F2')\n",
    "    result_table_f3.to_excel(writer, sheet_name='F3')\n",
    "    result_table_i2.to_excel(writer, sheet_name='I2')\n",
    "    result_table_s1.to_excel(writer, sheet_name='S1')"
   ]
  },
  {
   "cell_type": "markdown",
   "metadata": {
    "Collapsed": "false"
   },
   "source": [
    "### Plot Results of three endpoints (F2, I2, S1)\n",
    "\n",
    "- create [enumeration of subplots](https://stackoverflow.com/a/25544329/9684872) starting at a)"
   ]
  },
  {
   "cell_type": "markdown",
   "metadata": {
    "Collapsed": "false"
   },
   "source": [
    "#### Performance Plots based on results DataFrame for a endpoint"
   ]
  },
  {
   "cell_type": "code",
   "execution_count": 109,
   "metadata": {
    "Collapsed": "false"
   },
   "outputs": [
    {
     "data": {
      "text/html": [
       "<div>\n",
       "<style scoped>\n",
       "    .dataframe tbody tr th:only-of-type {\n",
       "        vertical-align: middle;\n",
       "    }\n",
       "\n",
       "    .dataframe tbody tr th {\n",
       "        vertical-align: top;\n",
       "    }\n",
       "\n",
       "    .dataframe thead tr th {\n",
       "        text-align: left;\n",
       "    }\n",
       "</style>\n",
       "<table border=\"1\" class=\"dataframe\">\n",
       "  <thead>\n",
       "    <tr>\n",
       "      <th>variable</th>\n",
       "      <th colspan=\"2\" halign=\"left\">precision</th>\n",
       "      <th colspan=\"2\" halign=\"left\">recall</th>\n",
       "      <th colspan=\"2\" halign=\"left\">f1</th>\n",
       "      <th colspan=\"2\" halign=\"left\">balanced_accuracy</th>\n",
       "      <th colspan=\"2\" halign=\"left\">roc_auc</th>\n",
       "      <th colspan=\"2\" halign=\"left\">num_feat</th>\n",
       "      <th colspan=\"2\" halign=\"left\">n_obs</th>\n",
       "      <th colspan=\"2\" halign=\"left\">roc_auc_2</th>\n",
       "    </tr>\n",
       "    <tr>\n",
       "      <th>statistics</th>\n",
       "      <th>mean</th>\n",
       "      <th>std</th>\n",
       "      <th>mean</th>\n",
       "      <th>std</th>\n",
       "      <th>mean</th>\n",
       "      <th>std</th>\n",
       "      <th>mean</th>\n",
       "      <th>std</th>\n",
       "      <th>mean</th>\n",
       "      <th>std</th>\n",
       "      <th>mean</th>\n",
       "      <th>std</th>\n",
       "      <th>mean</th>\n",
       "      <th>std</th>\n",
       "      <th>mean</th>\n",
       "      <th>std</th>\n",
       "    </tr>\n",
       "  </thead>\n",
       "  <tbody>\n",
       "    <tr>\n",
       "      <th>S1_prot_Logistic</th>\n",
       "      <td>0.794839</td>\n",
       "      <td>0.042760</td>\n",
       "      <td>0.841244</td>\n",
       "      <td>0.043774</td>\n",
       "      <td>0.816307</td>\n",
       "      <td>0.031585</td>\n",
       "      <td>0.780740</td>\n",
       "      <td>0.039631</td>\n",
       "      <td>0.851838</td>\n",
       "      <td>0.033041</td>\n",
       "      <td>10.0</td>\n",
       "      <td>0.0</td>\n",
       "      <td>350.0</td>\n",
       "      <td>0.0</td>\n",
       "      <td>0.851838</td>\n",
       "      <td>0.033041</td>\n",
       "    </tr>\n",
       "    <tr>\n",
       "      <th>S1_marker_cap</th>\n",
       "      <td>0.891058</td>\n",
       "      <td>0.059481</td>\n",
       "      <td>0.632738</td>\n",
       "      <td>0.087765</td>\n",
       "      <td>0.736820</td>\n",
       "      <td>0.070223</td>\n",
       "      <td>0.745941</td>\n",
       "      <td>0.062205</td>\n",
       "      <td>0.745941</td>\n",
       "      <td>0.062205</td>\n",
       "      <td>1.0</td>\n",
       "      <td>0.0</td>\n",
       "      <td>199.0</td>\n",
       "      <td>0.0</td>\n",
       "      <td>0.745941</td>\n",
       "      <td>0.062205</td>\n",
       "    </tr>\n",
       "  </tbody>\n",
       "</table>\n",
       "</div>"
      ],
      "text/plain": [
       "variable         precision              recall                  f1            \\\n",
       "statistics            mean       std      mean       std      mean       std   \n",
       "S1_prot_Logistic  0.794839  0.042760  0.841244  0.043774  0.816307  0.031585   \n",
       "S1_marker_cap     0.891058  0.059481  0.632738  0.087765  0.736820  0.070223   \n",
       "\n",
       "variable         balanced_accuracy             roc_auc           num_feat  \\\n",
       "statistics                    mean       std      mean       std     mean   \n",
       "S1_prot_Logistic          0.780740  0.039631  0.851838  0.033041     10.0   \n",
       "S1_marker_cap             0.745941  0.062205  0.745941  0.062205      1.0   \n",
       "\n",
       "variable               n_obs      roc_auc_2            \n",
       "statistics        std   mean  std      mean       std  \n",
       "S1_prot_Logistic  0.0  350.0  0.0  0.851838  0.033041  \n",
       "S1_marker_cap     0.0  199.0  0.0  0.745941  0.062205  "
      ]
     },
     "metadata": {},
     "output_type": "display_data"
    },
    {
     "data": {
      "text/plain": [
       "['prot logistic', 'cap']"
      ]
     },
     "execution_count": 109,
     "metadata": {},
     "output_type": "execute_result"
    }
   ],
   "source": [
    "display(result_table_s1)\n",
    "result_table = result_table_s1\n",
    "names = list(result_table.index)\n",
    "\n",
    "def _process_names(index):\n",
    "    names = list(index)\n",
    "    names = [x.split('_') for x in names]\n",
    "    endpoint = names[0][0]\n",
    "    \n",
    "    def _process_index_names(_l:list):\n",
    "        if 'marker' in _l:\n",
    "            _l.remove('marker')\n",
    "        return _l\n",
    "    \n",
    "    for _l in names: assert endpoint == _l[0] , f\"Mixed endpoints: {endpoint} and {_l[0]}\"\n",
    "    names = [\" \".join(_process_index_names(_l[1:])).lower() for _l in names]\n",
    "    return names\n",
    "   \n",
    "_process_names(result_table.index)"
   ]
  },
  {
   "cell_type": "code",
   "execution_count": 110,
   "metadata": {
    "Collapsed": "false"
   },
   "outputs": [
    {
     "data": {
      "image/png": "[encoded data removed]",
      "text/plain": [
       "<Figure size 720x720 with 1 Axes>"
      ]
     },
     "metadata": {
      "needs_background": "light"
     },
     "output_type": "display_data"
    }
   ],
   "source": [
    "def plot_performance(ax, result, metric, title):\n",
    "    '''result as result table from _get_cv_means(results)'''\n",
    "    df = result.copy()\n",
    "    df = df.sort_values(by = [(metric, 'mean')])\n",
    "    colors = np.where(['prot' in row for row in df.index], 'darkred', 'white')\n",
    "    df.index = _process_names(df.index)\n",
    "    # fig, ax = plt.subplots(figsize=(3, 4))\n",
    "    y = df.index\n",
    "    width = df[(metric, 'mean')]\n",
    "    xerr = df[(metric, 'std')]\n",
    "    ax.set_xlim(0, 1.1)\n",
    "    ax.tick_params(labelsize = 15)\n",
    "    ax.barh(y=y, width=width, xerr=xerr, capsize=4, color=colors, height=0.6, edgecolor='black')\n",
    "    \n",
    "    metric_name = \" \".join(metric.split('_')).capitalize()\n",
    "    if metric == 'f1': metric_name += ' score'\n",
    "    ax.set_title('{}\\n{}'.format(title, metric_name), fontsize=15)\n",
    "\n",
    "  \n",
    "#  (result_table_s1, s1_auc_scores, 'NAS Steatosis >= 5%', 'S1_prot_Logistic')\n",
    "    \n",
    "fig, ax = plt.subplots(figsize=(10,10))\n",
    "plot_performance(ax, result_table_s1, 'balanced_accuracy', 'Steatosis')"
   ]
  },
  {
   "cell_type": "markdown",
   "metadata": {
    "Collapsed": "false"
   },
   "source": [
    "#### AUC-ROC Curves based on CV result for an endpoint"
   ]
  },
  {
   "cell_type": "code",
   "execution_count": 111,
   "metadata": {
    "Collapsed": "false"
   },
   "outputs": [
    {
     "name": "stdout",
     "output_type": "stream",
     "text": [
      "95% CI:(0.8061407070887436, 0.8338592929112563)\n"
     ]
    },
    {
     "data": {
      "image/png": "[encoded data removed]",
      "text/plain": [
       "<Figure size 576x576 with 1 Axes>"
      ]
     },
     "metadata": {
      "needs_background": "light"
     },
     "output_type": "display_data"
    }
   ],
   "source": [
    "def plot_roc_curve(ax, runs_roc_auc_scores, endpoint=''):\n",
    "        tprs = []\n",
    "        base_fpr = np.linspace(0, 1, 101)\n",
    "        roc_aucs = []\n",
    "        for fpr, tpr, threshold in runs_roc_auc_scores:\n",
    "            roc_auc = auc(fpr, tpr)\n",
    "            roc_aucs.append(roc_auc)\n",
    "            \n",
    "            ax.plot(fpr, tpr, 'royalblue', alpha=0.05)\n",
    "            \n",
    "            tpr = np.interp(base_fpr, fpr, tpr)\n",
    "            tpr[0]=0.0\n",
    "            tprs.append(tpr)\n",
    "    \n",
    "        tprs = np.array(tprs)\n",
    "        mean_tprs = tprs.mean(axis=0)\n",
    "        std = tprs.std(axis=0)\n",
    "\n",
    "        tprs_upper = mean_tprs + std\n",
    "        tprs_lower = mean_tprs - std\n",
    "\n",
    "        mean_rocauc = np.mean(roc_aucs).round(2)\n",
    "        sd_rocauc = np.std(roc_aucs).round(2)\n",
    "        se_rocauc = sd_rocauc/np.sqrt(len(roc_aucs))\n",
    "\n",
    "        CI = (mean_rocauc-1.96 * se_rocauc, mean_rocauc + 1.96 * se_rocauc)\n",
    "\n",
    "        ax.plot(base_fpr, mean_tprs, color = 'royalblue', \n",
    "                 label = 'Mean ROC\\n(AUC = {}±{})'.format(mean_rocauc, sd_rocauc))\n",
    "        ax.fill_between(base_fpr, tprs_lower, tprs_upper, color='grey', alpha=0.4, label = '±1 std. dev')\n",
    "\n",
    "        ax.plot([0, 1], [0, 1],'r--')\n",
    "        ax.set_xlim([-0.01, 1.02])\n",
    "        ax.set_ylim([-0.01, 1.02])\n",
    "        ax.set_ylabel('True Positive Rate', fontsize = 15)\n",
    "        ax.set_xlabel('False Positive Rate', fontsize = 15)\n",
    "        ax.tick_params(labelsize = 15)\n",
    "        ax.legend(fontsize = 12)\n",
    "        ax.set_title('{}\\nProteomic panel'.format(endpoint), fontsize = 15)\n",
    "        #  plt.savefig('figures/ROC_{}.pdf'.format(endpoint), dpi=120, bbox_inches='tight')\n",
    "        print(\"95% CI:{}\".format(CI))\n",
    "\n",
    "fig, ax = plt.subplots(figsize=(8, 8))      \n",
    "        \n",
    "plot_roc_curve(ax, roc_curve_results['F2_Logistic'], 'TARGET')"
   ]
  },
  {
   "cell_type": "markdown",
   "metadata": {
    "Collapsed": "false"
   },
   "source": [
    "#### Build final figure for publication"
   ]
  },
  {
   "cell_type": "code",
   "execution_count": 112,
   "metadata": {
    "Collapsed": "false"
   },
   "outputs": [
    {
     "name": "stdout",
     "output_type": "stream",
     "text": [
      "95% CI:(0.8716844242532462, 0.8883155757467538)\n",
      "95% CI:(0.8189125656709949, 0.841087434329005)\n",
      "95% CI:(0.8416844242532462, 0.8583155757467538)\n"
     ]
    },
    {
     "data": {
      "image/png": "[encoded data removed]",
      "text/plain": [
       "<Figure size 1440x1440 with 9 Axes>"
      ]
     },
     "metadata": {
      "needs_background": "light"
     },
     "output_type": "display_data"
    }
   ],
   "source": [
    "import string\n",
    "fig, axs = plt.subplots(3,3,figsize=(20,20))\n",
    "\n",
    "n=0\n",
    "result_tuples = [\n",
    " (result_table_f2, f2_auc_scores, 'Fibrosis F2-F3', 'F2_prot_Logistic'), \n",
    " (result_table_i2, i2_auc_scores, 'NAS Inflamation $\\geq 2$', 'I2_prot_Logistic'), \n",
    " (result_table_s1, s1_auc_scores, 'NAS Steatosis $\\geq 5$%', 'S1_prot_Logistic')\n",
    "]\n",
    "\n",
    "for col, (result_table, result_auc_scores, endpoint_title, auc_model_name) in enumerate(result_tuples):\n",
    "    \n",
    "    ax = axs[0,col]\n",
    "    plot_roc_curve(ax, result_auc_scores[auc_model_name], endpoint_title)\n",
    "    _ = ax.text(-0.5, 1.1, f\"{string.ascii_lowercase[n]})\", transform=ax.transAxes, \n",
    "                size=20, weight='bold')\n",
    "    n+=1\n",
    "    \n",
    "    ax = axs[1,col]\n",
    "    plot_performance(ax, result=result_table, metric='f1', title=endpoint_title)   \n",
    "    _ = ax.text(-0.5, 1.1, f\"{string.ascii_lowercase[n]})\", transform=ax.transAxes, \n",
    "                size=20, weight='bold')\n",
    "    n+=1\n",
    "    \n",
    "    ax = axs[2,col]\n",
    "    _ = ax.text(-0.5, 1.1, f\"{string.ascii_lowercase[n]})\", transform=ax.transAxes, \n",
    "                size=20, weight='bold')\n",
    "    plot_performance(ax, result=result_table, metric='balanced_accuracy', title=endpoint_title)   \n",
    "\n",
    "    n+=1\n",
    "\n",
    "fig.tight_layout()\n",
    "fig.savefig('figures/Figure_6.pdf', dpi=120, pad_inches=0.1, bbox_inches='tight')"
   ]
  },
  {
   "cell_type": "markdown",
   "metadata": {
    "Collapsed": "false"
   },
   "source": [
    "## Multiclass, Multivariate Models\n",
    "- predict single classes for each endpoint in a joint model.\n",
    "- "
   ]
  },
  {
   "cell_type": "markdown",
   "metadata": {
    "Collapsed": "false"
   },
   "source": [
    "### Multiclass Fibrosis\n",
    "- Predict 4 categories for fibrosis"
   ]
  },
  {
   "cell_type": "code",
   "execution_count": 113,
   "metadata": {
    "Collapsed": "false"
   },
   "outputs": [],
   "source": [
    "kleiner_score = Y.kleiner.dropna()\n",
    "y = kleiner_score"
   ]
  },
  {
   "cell_type": "code",
   "execution_count": 114,
   "metadata": {
    "Collapsed": "false"
   },
   "outputs": [],
   "source": [
    "indices = data_proteomics.index.intersection(y.index)\n",
    "X_train = data_proteomics.loc[indices]\n",
    "y = y.loc[indices].astype(int)"
   ]
  },
  {
   "cell_type": "code",
   "execution_count": 115,
   "metadata": {
    "Collapsed": "false"
   },
   "outputs": [
    {
     "data": {
      "text/plain": [
       "RandomForestClassifier(bootstrap=True, ccp_alpha=0.0, class_weight=None,\n",
       "                       criterion='gini', max_depth=None, max_features='auto',\n",
       "                       max_leaf_nodes=None, max_samples=None,\n",
       "                       min_impurity_decrease=0.0, min_impurity_split=None,\n",
       "                       min_samples_leaf=1, min_samples_split=2,\n",
       "                       min_weight_fraction_leaf=0.0, n_estimators=200,\n",
       "                       n_jobs=None, oob_score=False, random_state=29, verbose=0,\n",
       "                       warm_start=False)"
      ]
     },
     "execution_count": 115,
     "metadata": {},
     "output_type": "execute_result"
    }
   ],
   "source": [
    "clf_rf.fit(X_train, y)"
   ]
  },
  {
   "cell_type": "code",
   "execution_count": 116,
   "metadata": {
    "Collapsed": "false"
   },
   "outputs": [
    {
     "data": {
      "text/plain": [
       "array([0, 1, 2, 3, 4])"
      ]
     },
     "execution_count": 116,
     "metadata": {},
     "output_type": "execute_result"
    }
   ],
   "source": [
    "clf_rf.classes_"
   ]
  },
  {
   "cell_type": "code",
   "execution_count": 117,
   "metadata": {
    "Collapsed": "false"
   },
   "outputs": [],
   "source": [
    "y_train_pred = sklms.cross_val_predict(clf_rf, X_train, y, cv=5)"
   ]
  },
  {
   "cell_type": "code",
   "execution_count": 118,
   "metadata": {
    "Collapsed": "false"
   },
   "outputs": [
    {
     "data": {
      "text/plain": [
       "array([[ 0, 34,  1,  0,  0],\n",
       "       [ 0, 97, 26,  0,  1],\n",
       "       [ 0, 45, 51,  0, 10],\n",
       "       [ 0,  3, 12,  0, 12],\n",
       "       [ 0,  0, 18,  0, 48]], dtype=int64)"
      ]
     },
     "execution_count": 118,
     "metadata": {},
     "output_type": "execute_result"
    }
   ],
   "source": [
    "conf_mx = sklm.confusion_matrix(y, y_train_pred)\n",
    "conf_mx"
   ]
  },
  {
   "cell_type": "code",
   "execution_count": 119,
   "metadata": {
    "Collapsed": "false"
   },
   "outputs": [
    {
     "data": {
      "image/png": "[encoded data removed]",
      "text/plain": [
       "<Figure size 288x288 with 1 Axes>"
      ]
     },
     "metadata": {
      "needs_background": "light"
     },
     "output_type": "display_data"
    }
   ],
   "source": [
    "plt.matshow(conf_mx, cmap=plt.cm.gray) \n",
    "plt.show()"
   ]
  },
  {
   "cell_type": "code",
   "execution_count": 120,
   "metadata": {
    "Collapsed": "false"
   },
   "outputs": [
    {
     "data": {
      "text/plain": [
       "array([[ 35],\n",
       "       [124],\n",
       "       [106],\n",
       "       [ 27],\n",
       "       [ 66]], dtype=int64)"
      ]
     },
     "metadata": {},
     "output_type": "display_data"
    },
    {
     "data": {
      "text/plain": [
       "array([[0.        , 0.97142857, 0.02857143, 0.        , 0.        ],\n",
       "       [0.        , 0.78225806, 0.20967742, 0.        , 0.00806452],\n",
       "       [0.        , 0.4245283 , 0.48113208, 0.        , 0.09433962],\n",
       "       [0.        , 0.11111111, 0.44444444, 0.        , 0.44444444],\n",
       "       [0.        , 0.        , 0.27272727, 0.        , 0.72727273]])"
      ]
     },
     "execution_count": 120,
     "metadata": {},
     "output_type": "execute_result"
    }
   ],
   "source": [
    "row_sums = conf_mx.sum(axis=1, keepdims=True)\n",
    "display(row_sums)\n",
    "norm_conf_mx = conf_mx / row_sums\n",
    "norm_conf_mx"
   ]
  },
  {
   "cell_type": "code",
   "execution_count": 121,
   "metadata": {
    "Collapsed": "false"
   },
   "outputs": [
    {
     "data": {
      "image/png": "[encoded data removed]",
      "text/plain": [
       "<Figure size 288x288 with 1 Axes>"
      ]
     },
     "metadata": {
      "needs_background": "light"
     },
     "output_type": "display_data"
    }
   ],
   "source": [
    "np.fill_diagonal(norm_conf_mx, 0)\n",
    "plt.matshow(norm_conf_mx, cmap=plt.cm.gray)\n",
    "plt.show()"
   ]
  },
  {
   "cell_type": "code",
   "execution_count": 122,
   "metadata": {
    "Collapsed": "false"
   },
   "outputs": [
    {
     "data": {
      "text/plain": [
       "0.547486033519553"
      ]
     },
     "execution_count": 122,
     "metadata": {},
     "output_type": "execute_result"
    }
   ],
   "source": [
    "sklm.accuracy_score(y, y_train_pred)"
   ]
  },
  {
   "cell_type": "markdown",
   "metadata": {
    "Collapsed": "false"
   },
   "source": [
    "### Multiclass model inflammation"
   ]
  },
  {
   "cell_type": "markdown",
   "metadata": {
    "Collapsed": "false"
   },
   "source": [
    "### Multiclass model steatosis"
   ]
  },
  {
   "cell_type": "markdown",
   "metadata": {
    "Collapsed": "false"
   },
   "source": [
    "### Joint prediction of the three multiclass targets"
   ]
  },
  {
   "cell_type": "markdown",
   "metadata": {
    "Collapsed": "false"
   },
   "source": [
    "## Versions"
   ]
  },
  {
   "cell_type": "code",
   "execution_count": 123,
   "metadata": {
    "Collapsed": "false"
   },
   "outputs": [
    {
     "name": "stdout",
     "output_type": "stream",
     "text": [
      "pandas             1.0.3              \n",
      "Note: you may need to restart the kernel to use updated packages.\n"
     ]
    }
   ],
   "source": [
    "pip list | grep pandas"
   ]
  },
  {
   "cell_type": "code",
   "execution_count": 124,
   "metadata": {
    "Collapsed": "false"
   },
   "outputs": [
    {
     "name": "stdout",
     "output_type": "stream",
     "text": [
      "scikit-learn       0.22.1             Note: you may need to restart the kernel to use updated packages.\n",
      "\n"
     ]
    }
   ],
   "source": [
    "pip list | grep scikit"
   ]
  }
 ],
 "metadata": {
  "kernelspec": {
   "display_name": "Python3.7 (ald_study)",
   "language": "python",
   "name": "ald_study"
  },
  "language_info": {
   "codemirror_mode": {
    "name": "ipython",
    "version": 3
   },
   "file_extension": ".py",
   "mimetype": "text/x-python",
   "name": "python",
   "nbconvert_exporter": "python",
   "pygments_lexer": "ipython3",
   "version": "3.7.7"
  },
  "toc-autonumbering": true,
  "toc-showcode": false,
  "toc-showmarkdowntxt": false,
  "toc-showtags": false
 },
 "nbformat": 4,
 "nbformat_minor": 4
}
