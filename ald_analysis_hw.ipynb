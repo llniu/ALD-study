{
 "cells": [
  {
   "cell_type": "markdown",
   "metadata": {},
   "source": [
    "# Fatty Liver Disease (FLD) Study\n",
    "\n",
    "- alcoholic vs non-alcoholic FLD, short: AFLD vs NAFLD\n",
    "\n",
    "\n",
    "**Outline**\n",
    "\n",
    "1. Study on liver disease types:\n",
    "    1. Fibrosis\n",
    "    1. Steatosis\n",
    "    2. Inflammation\n",
    "    \n",
    "2. Two data sets with \n",
    "    1. clinical markers\n",
    "    2. proteome information"
   ]
  },
  {
   "cell_type": "code",
   "execution_count": null,
   "metadata": {},
   "outputs": [],
   "source": [
    "import pandas as pd\n",
    "import numpy as np\n",
    "import matplotlib.pyplot as plt\n",
    "import seaborn as sns\n",
    "import sklearn.linear_model\n",
    "import sklearn.ensemble\n",
    "import xgboost\n",
    "import ipywidgets as widgets"
   ]
  },
  {
   "cell_type": "code",
   "execution_count": null,
   "metadata": {},
   "outputs": [],
   "source": [
    "import src.utils as utils"
   ]
  },
  {
   "cell_type": "code",
   "execution_count": null,
   "metadata": {},
   "outputs": [],
   "source": [
    "import os\n",
    "CPUS = os.cpu_count()\n",
    "RANDOMSTATE = 29\n",
    "DATAFOLDER = 'processed/ML'"
   ]
  },
  {
   "cell_type": "markdown",
   "metadata": {},
   "source": [
    "# Explore datasets\n",
    "\n",
    "Diagnostic comparators (existing best-in-class) biomarkers\n",
    "- Fibrosis markers: transient elastography, 2-dimensional shear wave elastography, ELF test, FibroTest, FIB4 score, APRI score, Forns score, ProC3\n",
    "- Inflammation markers: M30=caspase-cleaved cytokeratin-18 fragments, M65=total CK18, AST:ALT ratio, ProC3\n",
    "- Steatosis: Controlled attenuation parameter"
   ]
  },
  {
   "cell_type": "code",
   "execution_count": null,
   "metadata": {},
   "outputs": [],
   "source": [
    "pd.set_option('max_columns', 9)\n",
    "\n",
    "files = [file for file in os.listdir(DATAFOLDER) if '.csv' in file]\n",
    "w_data = widgets.Dropdown(options=files, index=5)\n",
    "\n",
    "def show_data(file):\n",
    "    filename = os.path.join(DATAFOLDER, file)\n",
    "    global data # only here to show-case data for report\n",
    "    try:\n",
    "        data = pd.read_csv(filename, index_col='Sample ID')\n",
    "    except:\n",
    "        data = pd.read_csv(filename)\n",
    "    try:\n",
    "        w_cols.options = list(data.columns)\n",
    "    except:\n",
    "        pass\n",
    "    display(data.head())\n",
    "out = widgets.interactive_output(show_data, controls={'file':w_data})\n",
    "\n",
    "widgets.VBox([w_data, out])"
   ]
  },
  {
   "cell_type": "code",
   "execution_count": null,
   "metadata": {},
   "outputs": [],
   "source": [
    "# # Possible Alternative for DropDown \n",
    "# from src.widgets import multi_checkbox_widget\n",
    "\n",
    "# descriptions=data.columns\n",
    "# w_cols = multi_checkbox_widget(descriptions)\n",
    "# w_cols"
   ]
  },
  {
   "cell_type": "code",
   "execution_count": null,
   "metadata": {},
   "outputs": [],
   "source": [
    "w_cols = widgets.SelectMultiple(options=list(data.columns))\n",
    "\n",
    "def show_selected_proteins(columns):\n",
    "    if len(columns)> 0:\n",
    "        display(data[list(w_cols.value)])\n",
    "        print(data[list(w_cols.value)].describe())\n",
    "    else:\n",
    "        print('Select proteins')\n",
    "\n",
    "out_sel = widgets.interactive_output(show_selected_proteins, {'columns': w_cols})\n",
    "widgets.VBox([w_cols, out_sel])"
   ]
  },
  {
   "cell_type": "markdown",
   "metadata": {},
   "source": [
    "## Clinical data\n",
    "### Load Complete clinical data"
   ]
  },
  {
   "cell_type": "code",
   "execution_count": null,
   "metadata": {},
   "outputs": [],
   "source": [
    "PROTEOM  = 'data_ml_proteomics.csv'\n",
    "CLINICAL = 'df_cli_164.csv'\n",
    "COL_ID = 'Sample ID'\n",
    "f_data_clinic = os.path.join(DATAFOLDER, CLINICAL)\n",
    "data_cli = pd.read_csv(f_data_clinic, index_col=COL_ID)\n",
    "data_cli.head()"
   ]
  },
  {
   "cell_type": "code",
   "execution_count": null,
   "metadata": {},
   "outputs": [],
   "source": [
    "w_cols_cli = widgets.SelectMultiple(options=list(data_cli.columns))\n",
    "\n",
    "def show_selected_markers(columns):\n",
    "    if len(columns)> 0:\n",
    "        display(data_cli[list(w_cols_cli.value)])\n",
    "        display(data_cli[list(w_cols_cli.value)].describe())\n",
    "    else:\n",
    "        print('Select clinical markers')\n",
    "\n",
    "out_cli = widgets.interactive_output(show_selected_markers, {'columns': w_cols_cli})\n",
    "widgets.VBox([w_cols_cli, out_cli])"
   ]
  },
  {
   "cell_type": "markdown",
   "metadata": {},
   "source": [
    "### Selected Clinical markers\n",
    "\n",
    "Diagnostic comparators (existing best-in-class) biomarkers\n",
    "- state-of-the-art (**sor**) Fibrosis markers: \n",
    "    - `te`: transient elastography (sona liver scan)\n",
    "    - `swe`: 2-dimensional shear wave elastography\n",
    "    - `elf`: ELF test\n",
    "    - `ft`: FibroTest\n",
    "    - `fib4`: FIB4 score\n",
    "    - `apri`: APRI score\n",
    "    - `forns`: Forns score\n",
    "    - `p3np`: ProC3\n",
    "- Inflammation markers:\n",
    "    - M30=caspase-cleaved cytokeratin-18 fragments\n",
    "    - M65=total CK18\n",
    "    - AST:ALT ratio\n",
    "    - ProC3\n",
    "- Steatosis: Controlled attenuation parameter"
   ]
  },
  {
   "cell_type": "code",
   "execution_count": null,
   "metadata": {},
   "outputs": [],
   "source": [
    "#sor_fibrosis = ['te', 'swe', 'elf', 'ft', 'fib4', 'apri', 'forns', 'p3np']\n",
    "sor_fibrosis = ['elf', 'ft', 'fib4', 'apri', 'forns', 'p3np']\n",
    "data_cli.groupby('kleiner')[sor_fibrosis].count()"
   ]
  },
  {
   "cell_type": "code",
   "execution_count": null,
   "metadata": {},
   "outputs": [],
   "source": [
    "pd.set_option('max_columns', 20)\n",
    "FEATURES_ML = ['nas_steatosis_ordinal', 'nas_inflam', 'kleiner', \n",
    "          'fib4', 'elf', 'ft', 'te', 'swe', 'aar','ast',\n",
    "          'apri','forns','m30', 'm65', 'meld', 'p3np', 'timp1', 'cap' ]\n",
    "data_cli[FEATURES_ML].head()"
   ]
  },
  {
   "cell_type": "code",
   "execution_count": null,
   "metadata": {},
   "outputs": [],
   "source": [
    "data_cli.groupby('group2')[FEATURES_ML].count()"
   ]
  },
  {
   "cell_type": "markdown",
   "metadata": {
    "toc-hr-collapsed": false
   },
   "source": [
    "### Load proteome data"
   ]
  },
  {
   "cell_type": "code",
   "execution_count": null,
   "metadata": {},
   "outputs": [],
   "source": [
    "pd.set_option('max_column', 12)\n",
    "f_data_proteom = os.path.join(DATAFOLDER, PROTEOM)\n",
    "data_ml_proteomics = pd.read_csv(f_data_proteom, index_col=COL_ID )\n",
    "data_ml_proteomics"
   ]
  },
  {
   "cell_type": "markdown",
   "metadata": {},
   "source": [
    "All \"healthy\" patients have no fibrosis score, but the prevalence in the general population of fibrosis is between 6-7% this could be a source of confounding."
   ]
  },
  {
   "cell_type": "code",
   "execution_count": null,
   "metadata": {},
   "outputs": [],
   "source": [
    "fibrosis =   data_ml_proteomics.fibrosis.fillna(\"NA\")   # ML Data\n",
    "fibrosis_class = data_cli.kleiner.fillna(\"NA\")\n",
    "\n",
    "pd.crosstab(\n",
    "index=fibrosis,\n",
    "columns=fibrosis_class,\n",
    "margins=True\n",
    ")"
   ]
  },
  {
   "cell_type": "markdown",
   "metadata": {},
   "source": [
    "5 plates of clinical data are not present in proteom data."
   ]
  },
  {
   "cell_type": "code",
   "execution_count": null,
   "metadata": {},
   "outputs": [],
   "source": [
    "data_cli.fibrosis_class.index.difference(data_ml_proteomics.fibrosis.index)"
   ]
  },
  {
   "cell_type": "markdown",
   "metadata": {},
   "source": [
    "## Proteome data\n",
    "\n",
    "Questions:\n",
    "- How to map a new sample to the protein-groups in the training data?\n",
    "\n",
    "### Load Protein GeneID Mapping\n",
    "\n",
    "- UniProtID to Gene name mapping\n"
   ]
  },
  {
   "cell_type": "code",
   "execution_count": null,
   "metadata": {},
   "outputs": [],
   "source": [
    "key_ProteinID = pd.read_csv(os.path.join(DATAFOLDER, 'ID_matching_key.csv'), \n",
    "                            index_col=\"Protein ID\").drop(\"Unnamed: 0\", axis=1)\n",
    "key_ProteinID.head()"
   ]
  },
  {
   "cell_type": "code",
   "execution_count": null,
   "metadata": {},
   "outputs": [],
   "source": [
    "key_ProteinID.loc['P35858']"
   ]
  },
  {
   "cell_type": "markdown",
   "metadata": {},
   "source": [
    "### Impute missing features of clinical data:\n",
    "\n",
    "Using [`sklearn.impute.simpleImputer`](https://scikit-learn.org/stable/modules/impute.html)'s default `'mean'` strategy. \n",
    "Alternatively one could replace missing values with zeros on the standardised data to zero mean and standard deviation of one."
   ]
  },
  {
   "cell_type": "code",
   "execution_count": null,
   "metadata": {},
   "outputs": [],
   "source": [
    "FEATURES_CLINIC = ['ggt', 'alt', 'ast', 'alk', 'mcv', 'iga', 'igg', 'leu', 'glc']\n",
    "data_cli[FEATURES_CLINIC].head()"
   ]
  },
  {
   "cell_type": "code",
   "execution_count": null,
   "metadata": {},
   "outputs": [],
   "source": [
    "#ToDo"
   ]
  },
  {
   "cell_type": "markdown",
   "metadata": {},
   "source": [
    "## Classifiers\n",
    "\n",
    "- Select Classifier by cross-validation using [sklearn functionality](https://scikit-learn.org/stable/model_selection.html#model-selection)"
   ]
  },
  {
   "cell_type": "code",
   "execution_count": null,
   "metadata": {},
   "outputs": [],
   "source": [
    "# Define classifiers\n",
    "clf_xgbc  = xgboost.XGBClassifier(n_jobs=CPUS-1)\n",
    "clf_rf    = sklearn.ensemble.RandomForestClassifier(n_estimators=200, random_state=RANDOMSTATE)\n",
    "clf_lr    = sklearn.linear_model.LogisticRegression(random_state=0, solver='liblinear')\n",
    "clf_svm   = sklearn.svm.SVC(kernel='linear', C=1)\n",
    "clf_dict = {'xgboost': clf_xgbc,\n",
    "           'RF': clf_rf,\n",
    "           'Logistic': clf_lr,\n",
    "           'SVM': clf_svm,\n",
    "           }"
   ]
  },
  {
   "cell_type": "markdown",
   "metadata": {},
   "source": [
    "## Visualization of data\n",
    "\n",
    "Look at UMAPs with labels from disease categories.\n",
    "  - Does the assigned disease correspond to certain groups\n",
    " \n",
    "For clinical data, on could look at a selection of scatter plots in order to see if it is feasible to separate some groups based on two features."
   ]
  },
  {
   "cell_type": "markdown",
   "metadata": {},
   "source": [
    "# Models\n",
    "\n",
    "Different _experimental_ setups for prediction models will be compared. First, for the target **fibrosis**. Fibrosis is reported on a five-point scale from stage F0 to F4.\n",
    "\n",
    "ML setup binary    | HP  | F0  | F1  | F2  | F3  | F4\n",
    "--- | --- | ---    | --- | --- | --- | ---\n",
    "HP-F0-F2 vs F3-F4  | c   | c   | c   | c   | t   | t    \n",
    "F0-F2 vs F3-F4 (advanced)    |     | c   | c   | c   | t   | t\n",
    "F0-F1 vs F2-F4 (significant)    |     | c   | c   | t   | t   | t\n",
    "\n",
    "In the table, c stands for control  and t for target. The clinical relevance is to distinguish different \n",
    "stages of disease. The question is wheater one should include a healthy, untested patient cohort can help building a \n",
    "classification model, as e.g. for fibrosis the general prevalence in the population is between 6 to 7 percent. Alternatively a _multi-task model_ with having 5 classes/end-points can be fit.\n",
    "\n",
    "\n",
    "In addition to fibrosis, the endpoints **steatosis** and **inflamation** can be predicted.\n",
    "\n",
    "target      | Scale   | unique values              | N samples\n",
    "-----       | --------| ---------------            | -------\n",
    "fibrosis    | five    | F0, F1, F2, F3, F4         | \n",
    "steatosis   | five    | S0, S1, S2, S3, S4         | \n",
    "inflamation | seven   | I0, I1, I2, I3, I4, I5, I6 | \n",
    "\n",
    "\n",
    "What is population of interest?\n",
    "- population at risk\n",
    "- general population (which we do not have as a \"random\" sample)\n"
   ]
  },
  {
   "cell_type": "markdown",
   "metadata": {},
   "source": [
    "## based on proteomics data"
   ]
  },
  {
   "cell_type": "code",
   "execution_count": null,
   "metadata": {},
   "outputs": [],
   "source": [
    "data_ml_proteomics.fibrosis.value_counts(dropna=False)"
   ]
  },
  {
   "cell_type": "markdown",
   "metadata": {},
   "source": [
    "If the models are trained on the fibrosis data only, on could expect some predictions of fibrosis patients in the untested healthy patient (hp) cohort."
   ]
  },
  {
   "cell_type": "markdown",
   "metadata": {},
   "source": [
    "### Healthy vs Fibrosis patients\n",
    "\n",
    "ToDo: Verify how dependent variable is exactly constructed"
   ]
  },
  {
   "cell_type": "code",
   "execution_count": null,
   "metadata": {},
   "outputs": [],
   "source": [
    "target = data_ml_proteomics['class']\n",
    "X = data_ml_proteomics.iloc[:, :-2]"
   ]
  },
  {
   "cell_type": "code",
   "execution_count": null,
   "metadata": {},
   "outputs": [],
   "source": [
    "# # sanity check\n",
    "# disease = (data_cli['group2'] == 'ALD').astype('int64')\n",
    "# shared = target.index.intersection(data_ml_proteomics.index)\n",
    "# target.equals(disease.loc[shared])"
   ]
  },
  {
   "cell_type": "code",
   "execution_count": null,
   "metadata": {},
   "outputs": [],
   "source": [
    "from sklearn.model_selection import cross_validate\n",
    "scoring = ['precision', 'recall', 'f1', 'balanced_accuracy', 'roc_auc'] # how to customize cutoff?\n",
    "\n",
    "import pandas as pd\n",
    "def run_cv_binary(clf_dict:dict, X:pd.DataFrame, y:pd.Series, cv=5, \n",
    "                  scoring=['precision', 'recall', 'f1', 'balanced_accuracy', 'roc_auc'])-> dict:\n",
    "    \"\"\"Run Cross Validation (cv) for binary classification example\n",
    "    for a set of classifiers.\n",
    "    \n",
    "    \n",
    "    Inputs\n",
    "    ------\n",
    "    clf_dict: dict\n",
    "        Dictionary with keys and scikit-learn classifiers as values.\n",
    "    X: 2D-array, pd.DataFrame\n",
    "        Input data\n",
    "    y: 1D-array, pd.Series\n",
    "        Targets for classification\n",
    "    cv: int\n",
    "        Number of splits for Cross-Validation.\n",
    "    \n",
    "    Returns\n",
    "    -------\n",
    "    dict: dict with keys of clf_dict and computed results for each run. \n",
    "    \"\"\"\n",
    "    cv_results = {}\n",
    "    for key, clf in clf_dict.items(): \n",
    "        cv_results[key] = cross_validate(clf, X, y=target, cv=5, scoring=scoring)\n",
    "        cv_results[key]['num_feat'] = X.shape[-1]\n",
    "    return cv_results\n",
    "    "
   ]
  },
  {
   "cell_type": "markdown",
   "metadata": {},
   "source": [
    "To add\n",
    "-  [x] Stratification of input data\n",
    "-  [ ] Recursive feature selection\n",
    "-  [ ] cutoff determination for binary classification (ROC-Curves, Precision-Recall-Curves)"
   ]
  },
  {
   "cell_type": "code",
   "execution_count": null,
   "metadata": {},
   "outputs": [],
   "source": [
    "cv_results = run_cv_binary(clf_dict, X, y=target)"
   ]
  },
  {
   "cell_type": "code",
   "execution_count": null,
   "metadata": {},
   "outputs": [],
   "source": [
    "def _get_cv_means(results_dict:dict) -> pd.DataFrame:\n",
    "    \"\"\"Convert result-dictionary of runs to averaged dataframe of results.\"\"\"\n",
    "    cv_means = pd.DataFrame(results_dict)\n",
    "    cv_means = cv_means.applymap(np.mean)\n",
    "    return cv_means.T"
   ]
  },
  {
   "cell_type": "code",
   "execution_count": null,
   "metadata": {},
   "outputs": [],
   "source": [
    "_get_cv_means(cv_results)"
   ]
  },
  {
   "cell_type": "markdown",
   "metadata": {},
   "source": [
    "Using Stratified Splitting is default for [`cross_validate`](https://scikit-learn.org/stable/modules/generated/sklearn.model_selection.cross_validate.html#sklearn.model_selection.cross_validate)."
   ]
  },
  {
   "cell_type": "code",
   "execution_count": null,
   "metadata": {},
   "outputs": [],
   "source": [
    "from sklearn.model_selection import StratifiedKFold\n",
    "\n",
    "cv_results = {}\n",
    "for key, clf in clf_dict.items(): \n",
    "    cv_results[key] = cross_validate(clf, X, y=target, groups=target, cv=StratifiedKFold(5), scoring=scoring)\n",
    "    cv_results[key]['num_feat'] = X.shape[-1]"
   ]
  },
  {
   "cell_type": "code",
   "execution_count": null,
   "metadata": {},
   "outputs": [],
   "source": [
    "_get_cv_means(cv_results)"
   ]
  },
  {
   "cell_type": "markdown",
   "metadata": {},
   "source": [
    "[Feature selection](https://scikit-learn.org/stable/modules/feature_selection.html#feature-selection) based on mutual information"
   ]
  },
  {
   "cell_type": "code",
   "execution_count": null,
   "metadata": {},
   "outputs": [],
   "source": [
    "from sklearn.feature_selection import mutual_info_classif\n",
    "from sklearn.feature_selection import SelectKBest\n",
    "\n",
    "k_best = SelectKBest(mutual_info_classif, k=10)\n",
    "k_best.fit(X, y=target)"
   ]
  },
  {
   "cell_type": "code",
   "execution_count": null,
   "metadata": {},
   "outputs": [],
   "source": [
    "mask_selection = k_best.get_support()\n",
    "X.columns[mask_selection]\n",
    "# X_new = SelectKBest(mutual_info_classif, k=10).fit_transform(X, y=target)"
   ]
  },
  {
   "cell_type": "code",
   "execution_count": null,
   "metadata": {},
   "outputs": [],
   "source": [
    "results_10_best_feat = run_cv_binary(clf_dict, X.loc[:,mask_selection], y=target)\n",
    "_get_cv_means(results_10_best_feat)"
   ]
  },
  {
   "cell_type": "markdown",
   "metadata": {},
   "source": [
    "## based on clinical markers"
   ]
  },
  {
   "cell_type": "markdown",
   "metadata": {},
   "source": [
    "## Versions"
   ]
  },
  {
   "cell_type": "code",
   "execution_count": null,
   "metadata": {},
   "outputs": [],
   "source": [
    "pip list | grep pandas"
   ]
  },
  {
   "cell_type": "code",
   "execution_count": null,
   "metadata": {},
   "outputs": [],
   "source": [
    "%qtconsole"
   ]
  },
  {
   "cell_type": "code",
   "execution_count": null,
   "metadata": {},
   "outputs": [],
   "source": []
  }
 ],
 "metadata": {
  "kernelspec": {
   "display_name": "Python3.7 (ald_study)",
   "language": "python",
   "name": "ald_study"
  },
  "language_info": {
   "codemirror_mode": {
    "name": "ipython",
    "version": 3
   },
   "file_extension": ".py",
   "mimetype": "text/x-python",
   "name": "python",
   "nbconvert_exporter": "python",
   "pygments_lexer": "ipython3",
   "version": "3.7.6"
  },
  "toc-autonumbering": true,
  "toc-showcode": false,
  "toc-showmarkdowntxt": false,
  "toc-showtags": false
 },
 "nbformat": 4,
 "nbformat_minor": 4
}
