{
 "cells": [
  {
   "cell_type": "code",
   "execution_count": 1,
   "metadata": {},
   "outputs": [],
   "source": [
    "import pandas as pd\n",
    "import numpy as np\n",
    "import matplotlib.pyplot as plt\n",
    "import seaborn as sns"
   ]
  },
  {
   "cell_type": "code",
   "execution_count": null,
   "metadata": {},
   "outputs": [],
   "source": [
    "from sklearn.model_selection import train_test_split\n",
    "from sklearn.naive_bayes import GaussianNB\n",
    "from sklearn.linear_model import LinearRegression\n",
    "from sklearn.ensemble import RandomForestClassifier\n",
    "from sklearn.tree import DecisionTreeClassifier, DecisionTreeRegressor\n",
    "from scipy.stats import zscore\n",
    "import itertools \n",
    "\n",
    "from sklearn.metrics import accuracy_score\n",
    "from sklearn.metrics import roc_auc_score, mean_squared_error, roc_curve, auc, accuracy_score, f1_score, recall_score\n",
    "from sklearn.metrics import precision_recall_curve\n",
    "from sklearn.metrics import confusion_matrix\n",
    "from sklearn.metrics import average_precision_score\n",
    "from inspect import signature\n",
    "\n",
    "from sklearn.feature_selection import mutual_info_classif\n",
    "from sklearn.feature_selection import mutual_info_regression\n",
    "from sklearn.feature_selection import SelectFromModel\n",
    "from sklearn.preprocessing import StandardScaler\n",
    "from sklearn.linear_model import LogisticRegression\n",
    "from xgboost import XGBClassifier\n",
    "from sklearn.model_selection import RepeatedStratifiedKFold\n",
    "from sklearn.metrics import matthews_corrcoef"
   ]
  },
  {
   "cell_type": "code",
   "execution_count": 3,
   "metadata": {},
   "outputs": [],
   "source": [
    "def convert_to_numeric(data):\n",
    "    df = data.copy()\n",
    "    columns = df.columns\n",
    "    df_new = pd.DataFrame(columns = columns)\n",
    "    for i in columns:\n",
    "        new_values = pd.to_numeric(df[i], errors = 'ignore')\n",
    "        df_new[i] = new_values\n",
    "    return df_new\n",
    "\n",
    "def correlation(dataset, threshold):\n",
    "    col_corr = set()  # Set of all the names of correlated columns\n",
    "    corr_matrix = dataset.corr()\n",
    "    for i in range(len(corr_matrix.columns)):\n",
    "        for j in range(i):\n",
    "            if abs(corr_matrix.iloc[i, j]) > threshold: # we are interested in absolute coeff value\n",
    "                colname = corr_matrix.columns[i]  # getting the name of column\n",
    "                col_corr.add(colname)\n",
    "                \n",
    "    return col_corr\n",
    "\n",
    "def model_performance_cv (X, y, features_selected, n_repeats):\n",
    "\n",
    "    performance_all = pd.DataFrame(columns = ['num_feat', 'train_roc_auc', 'test_roc_auc', \n",
    "                                          'features', 'precision',\n",
    "                                          'sensitivity', 'specificity', 'F1-score', 'accuracy', 'MCC'])\n",
    "    \n",
    "    rskf = RepeatedStratifiedKFold(n_splits=5, n_repeats = n_repeats, random_state=0)\n",
    "    for i, (train_index, test_index) in enumerate(rskf.split(X, y)):\n",
    "        X_train = X.iloc[train_index]\n",
    "        X_test = X.iloc[test_index]\n",
    "        y_train = y.iloc[train_index]\n",
    "        y_test = y.iloc[test_index]\n",
    "        \n",
    "        performance = model_performance(clf = clf_lr, features = features_selected, X_train = X_train, X_test = X_test, y_train = y_train, y_test = y_test)\n",
    "        performance_all = performance_all.append(performance).round(2)\n",
    "    \n",
    "    return(performance_all)\n",
    "\n",
    "def model_performance(clf, features, X_train, y_train, X_test, y_test):\n",
    "    clf.fit(X_train[features], y_train)\n",
    "    pred_train = clf.predict_proba(X_train[features])\n",
    "    pred_test = clf.predict_proba(X_test[features])\n",
    "    \n",
    "    y_pred_train = clf.predict(X_train[features])\n",
    "    y_pred_test = clf.predict(X_test[features])\n",
    "    \n",
    "    tn, fp, fn, tp = confusion_matrix(y_test,  y_pred_test).ravel()\n",
    "    \n",
    "    num_feat = len(features)\n",
    "    train_roc_auc = roc_auc_score(y_train, pred_train[:,1])\n",
    "    test_roc_auc = roc_auc_score(y_test, pred_test[:,1])\n",
    "\n",
    "    precision = tp/(tp + fp) if (tp + fp)!= 0 else np.nan\n",
    "    sensitivity = tp/(tp + fn) if (tp + fn)!= 0 else np.nan\n",
    "    specificity = tn/(tn + fp) if (tn + fp)!= 0 else np.nan    \n",
    "    f1_score = 2*precision*sensitivity/(precision+sensitivity) if (precision + sensitivity) != 0 else np.nan    \n",
    "    accuracy = (tp + tn)/(tp + tn + fp + fn) if (tp + tn +fp +fn) !=0 else np.nan\n",
    "    mcc_a = tp * tn - fp * fn\n",
    "    mcc_b = np.sqrt((tp + fp) * (fn + tn) * (fp + tn) * (tp + fn))\n",
    "    mcc = mcc_a/mcc_b if mcc_b != 0 else np.nan\n",
    "\n",
    "    values = [num_feat, train_roc_auc, test_roc_auc, \n",
    "              features, precision, sensitivity, specificity, f1_score, accuracy, mcc]\n",
    "    result = pd.DataFrame(values).T\n",
    "    result.columns = ['num_feat', \n",
    "                      'train_roc_auc', \n",
    "                      'test_roc_auc', \n",
    "                      'features',\n",
    "                      'precision',\n",
    "                      'sensitivity',\n",
    "                      'specificity',\n",
    "                      'F1-score',\n",
    "                      'accuracy',\n",
    "                      'MCC']\n",
    "    return (result)\n",
    "\n",
    "def feature_selection_by_rocauc(X_train, y_train, X_test, y_test, features):\n",
    "    roc_values = []\n",
    "    clf = clf_lr\n",
    "    for feature in features:\n",
    "        clf.fit(X_train[feature].to_frame(), y_train)\n",
    "        y_scored = clf.predict_proba(X_test[feature].to_frame())\n",
    "        roc_values.append(roc_auc_score(y_test, y_scored[:, 1]))\n",
    "\n",
    "    score = pd.DataFrame(roc_values, columns = ['roc_auc_score'])\n",
    "    score['features'] = features\n",
    "    score['Gene names'] = score['features'].map(IDmapping_UniprotID_to_Genename)\n",
    "    score = score.set_index('Gene names').sort_values(by = 'roc_auc_score', ascending = False)\n",
    "    return (score)\n",
    "\n",
    "def feature_selection(X, y, features, n_repeats):\n",
    "    performances = []\n",
    "    for feature in features:\n",
    "        performance = model_performance_cv(X = X, y = y, features_selected= [feature], n_repeats = n_repeats).mean()\n",
    "        columns = performance.index\n",
    "        performances.append(list(performance))\n",
    "    result = pd.DataFrame(performances, columns = columns)\n",
    "    result['feature'] = features\n",
    "    result['Gene name'] = result['feature'].map(IDmapping_UniprotID_to_Genename)\n",
    "    return (result)\n",
    "\n",
    "def feature_selection_bestcombo(features, X_train, y_train, n_repeats = 5):\n",
    "    performances = []\n",
    "    combo_features = []\n",
    "    for k in range(6, 11):\n",
    "        for i, j in enumerate(itertools.combinations(features, k)):\n",
    "            combo = list(j)\n",
    "            combo_features.append(combo)\n",
    "            performance = model_performance_cv(X = X_train, y = y_train, features_selected = combo, n_repeats = n_repeats).mean()\n",
    "            index = performance.index\n",
    "            performance = list(performance)\n",
    "            performances.append(performance)\n",
    "    result = pd.DataFrame(performances, columns= index)\n",
    "    result['features'] = combo_features\n",
    "    return (result)\n",
    "\n",
    "def plot_roc(clf, items, names, colors, X0, y0, X, y, title_1, title_2):\n",
    "    fig, ax = plt.subplots(figsize = (4, 4))\n",
    "    k = 0\n",
    "    for item in items:\n",
    "        name = names[k]\n",
    "        selected_features = items[k]\n",
    "        clf.fit(X0[selected_features], y0)\n",
    "        pred = clf.predict_proba(X[selected_features])\n",
    "        \n",
    "        n_bootstraps = 1000\n",
    "        rng_seed = 0\n",
    "        scores = []\n",
    "        roc_normal = roc_auc_score(y, pred[:, 1]).round(2)\n",
    "        rng = np.random.RandomState(rng_seed)       \n",
    "        \n",
    "        for i in range(n_bootstraps):\n",
    "            # bootstrap by sampling with replacement on the predcition indices\n",
    "            indices = rng.randint(0, len(pred) -1, len(pred))\n",
    "            if len(np.unique(y[indices])) < 2:\n",
    "                # we need at least one positive and one negative sample for ROC AUC\n",
    "                # to be defined: reject the sample\n",
    "                continue\n",
    "            score = roc_auc_score(y[indices], pred[indices][:, 1])\n",
    "            scores.append(score)\n",
    "        score_mean = np.array(scores).mean().round(2)\n",
    "        confidence_lower = sorted(scores)[int(0.025 * len(sorted(scores)))]\n",
    "        confidence_upper = sorted(scores)[int(0.975 * len(sorted(scores)))]\n",
    "        roc_auc = roc_auc_score(y, pred[:,1])\n",
    "    \n",
    "        fpr = dict()\n",
    "        tpr = dict()\n",
    "        roc_aucs = dict()\n",
    "        for i in range(0, 2):\n",
    "            fpr[i], tpr[i], thresholds = roc_curve(y, pred[:, i], pos_label=1)\n",
    "            roc_aucs[i] = auc(fpr[i], tpr[i])       \n",
    "\n",
    "        lw = 1\n",
    "        plt.plot(fpr[1], tpr[1], color=colors[k], lw=lw, label='{}: AUC = {}'.format(name, roc_normal))\n",
    "    \n",
    "        plt.plot([0, 1], [0, 1], color='gray', lw=lw, linestyle='--')\n",
    "        plt.xlim([-0.02, 1.02])\n",
    "        plt.ylim([-0.02, 1.02])\n",
    "        plt.xlabel('False positive rate', fontsize=15)\n",
    "        plt.ylabel('True positive rate', fontsize=15)\n",
    "        plt.xticks(fontsize = 15)\n",
    "        plt.yticks(fontsize = 15)\n",
    "        plt.legend(loc=\"lower right\")\n",
    "        k +=1\n",
    "        plt.title('{}\\n{}'.format(title_1, title_2), fontsize = 15)\n",
    "        plt.savefig('figures/model/3C/{}_{}.png'.format(title_1, title_2),dpi = 120, bbox_inches = 'tight')"
   ]
  },
  {
   "cell_type": "code",
   "execution_count": 68,
   "metadata": {},
   "outputs": [],
   "source": [
    "%matplotlib inline\n",
    "import warnings\n",
    "warnings.simplefilter('ignore')"
   ]
  },
  {
   "cell_type": "code",
   "execution_count": 4,
   "metadata": {},
   "outputs": [],
   "source": [
    "# Define classifiers\n",
    "clf_xgbc = XGBClassifier(n_jobs=8)\n",
    "clf_rf = RandomForestClassifier(n_estimators=200, random_state=29)\n",
    "clf_lr = LogisticRegression(random_state=0, solver='liblinear')\n",
    "clf_lr_mc = LogisticRegression(multi_class='ovr', solver = 'lbfgs')"
   ]
  },
  {
   "cell_type": "code",
   "execution_count": 5,
   "metadata": {},
   "outputs": [],
   "source": [
    "# Import datasets\n",
    "# Proteomic dataset after filtering for 70% data completeness, log2 transformed, imputation at lower end of distribution, CV% < 30% (raw intensity before log transformation)\n",
    "data_ml_proteomics = pd.read_csv('processed/ML/data_ml_proteomics.csv', index_col= 'Sample ID')\n",
    "# Clinical parameter dataset after filtering for 80% data completeness, multivariate imputation\n",
    "data_cli_46 = pd.read_csv('processed/ML/data_cli_46.csv', index_col = 'Sample ID')\n",
    "# Combined dataset integrating proteomic- and clinical- datasets \n",
    "data_ml_combined = pd.read_csv('processed/ML/data_ml_combined.csv', index_col = 'Sample ID')"
   ]
  },
  {
   "cell_type": "code",
   "execution_count": 6,
   "metadata": {},
   "outputs": [],
   "source": [
    "# Import matching keys\n",
    "key_ProteinID = pd.read_csv('processed/ML/ID_matching_key.csv')\n",
    "data_cli = pd.read_csv('processed/ML/df_cli_164.csv')\n",
    "\n",
    "IDmapping_UniprotID_to_Genename = dict(zip(key_ProteinID['Protein ID'], key_ProteinID['Gene names']))\n",
    "IDmapping_sampleID_to_fibrosis_class = dict(zip(data_cli_46.index, data_cli_46['fibrosis']))\n",
    "IDmapping_labtest_subcate = dict(zip(data_cli['Sample ID'], data_cli['type']))\n",
    "IDmapping_sampleID_to_te = dict(zip(data_cli['Sample ID'], data_cli['te']))"
   ]
  },
  {
   "cell_type": "code",
   "execution_count": 7,
   "metadata": {},
   "outputs": [
    {
     "data": {
      "text/plain": [
       "1.0    124\n",
       "2.0    106\n",
       "0.5     98\n",
       "4.0     67\n",
       "0.0     36\n",
       "3.0     27\n",
       "Name: kleiner, dtype: int64"
      ]
     },
     "execution_count": 7,
     "metadata": {},
     "output_type": "execute_result"
    }
   ],
   "source": [
    "data_cli['kleiner'].value_counts()"
   ]
  },
  {
   "cell_type": "code",
   "execution_count": 8,
   "metadata": {},
   "outputs": [],
   "source": [
    "# Establish baseline to compare to \n",
    "# Parameters to look at in a general diagnostic approach to ALD in clinic are:\n",
    "# Abnormal transaminases, elevated GGT, elevated ALT/AST ratio (>1), elevated IgA/IgG ratio,\n",
    "# elevated Mean corpuscular volume (MCV)\n",
    "features_clinic = ['ggt', 'alt', 'ast', 'alk', 'mcv', 'iga', 'igg', 'leu', 'glc']"
   ]
  },
  {
   "cell_type": "markdown",
   "metadata": {},
   "source": [
    "## Only use ALD data"
   ]
  },
  {
   "cell_type": "markdown",
   "metadata": {},
   "source": [
    "#### Diagnostic comparators (existing best-in-class) biomarkers\n",
    "####    -Fibrosis markers: transient elastography, 2-dimensional shear wave elastography, ELF test, FibroTest, FIB4 score, APRI score, Forns score, ProC3\n",
    "####    -Inflammation markers: M30=caspase-cleaved cytokeratin-18 fragments, M65=total CK18, AST:ALT ratio, ProC3\n",
    "####    -Steatosis: Controlled attenuation parameter"
   ]
  },
  {
   "cell_type": "code",
   "execution_count": 25,
   "metadata": {},
   "outputs": [],
   "source": [
    "data_ml_proteomics = pd.read_csv('processed/ML/data_ml_proteomics.csv', index_col = 'Sample ID')\n",
    "data_ml_proteomics = data_ml_proteomics.drop(['class', 'fibrosis'], axis = 1)"
   ]
  },
  {
   "cell_type": "code",
   "execution_count": 26,
   "metadata": {},
   "outputs": [],
   "source": [
    "col_ml = ['Sample ID', 'nas_steatosis_ordinal', 'nas_inflam', 'kleiner', \n",
    "          'fib4', 'elf', 'ft', 'te', 'swe', 'aar','ast',\n",
    "          'apri','forns','m30', 'm65', 'meld', 'p3np', 'timp1', 'cap' ]"
   ]
  },
  {
   "cell_type": "code",
   "execution_count": 27,
   "metadata": {},
   "outputs": [
    {
     "data": {
      "text/html": [
       "<div>\n",
       "<style scoped>\n",
       "    .dataframe tbody tr th:only-of-type {\n",
       "        vertical-align: middle;\n",
       "    }\n",
       "\n",
       "    .dataframe tbody tr th {\n",
       "        vertical-align: top;\n",
       "    }\n",
       "\n",
       "    .dataframe thead th {\n",
       "        text-align: right;\n",
       "    }\n",
       "</style>\n",
       "<table border=\"1\" class=\"dataframe\">\n",
       "  <thead>\n",
       "    <tr style=\"text-align: right;\">\n",
       "      <th></th>\n",
       "      <th>Sample ID</th>\n",
       "      <th>nas_steatosis_ordinal</th>\n",
       "      <th>nas_inflam</th>\n",
       "      <th>kleiner</th>\n",
       "      <th>fib4</th>\n",
       "      <th>elf</th>\n",
       "      <th>ft</th>\n",
       "      <th>te</th>\n",
       "      <th>swe</th>\n",
       "      <th>aar</th>\n",
       "      <th>ast</th>\n",
       "      <th>apri</th>\n",
       "      <th>forns</th>\n",
       "      <th>m30</th>\n",
       "      <th>m65</th>\n",
       "      <th>meld</th>\n",
       "      <th>p3np</th>\n",
       "      <th>timp1</th>\n",
       "      <th>cap</th>\n",
       "    </tr>\n",
       "    <tr>\n",
       "      <th>group2</th>\n",
       "      <th></th>\n",
       "      <th></th>\n",
       "      <th></th>\n",
       "      <th></th>\n",
       "      <th></th>\n",
       "      <th></th>\n",
       "      <th></th>\n",
       "      <th></th>\n",
       "      <th></th>\n",
       "      <th></th>\n",
       "      <th></th>\n",
       "      <th></th>\n",
       "      <th></th>\n",
       "      <th></th>\n",
       "      <th></th>\n",
       "      <th></th>\n",
       "      <th></th>\n",
       "      <th></th>\n",
       "      <th></th>\n",
       "    </tr>\n",
       "  </thead>\n",
       "  <tbody>\n",
       "    <tr>\n",
       "      <th>ALD</th>\n",
       "      <td>459</td>\n",
       "      <td>352</td>\n",
       "      <td>352</td>\n",
       "      <td>458</td>\n",
       "      <td>443</td>\n",
       "      <td>380</td>\n",
       "      <td>283</td>\n",
       "      <td>440</td>\n",
       "      <td>362</td>\n",
       "      <td>443</td>\n",
       "      <td>444</td>\n",
       "      <td>444</td>\n",
       "      <td>453</td>\n",
       "      <td>282</td>\n",
       "      <td>280</td>\n",
       "      <td>458</td>\n",
       "      <td>350</td>\n",
       "      <td>350</td>\n",
       "      <td>300</td>\n",
       "    </tr>\n",
       "    <tr>\n",
       "      <th>HP</th>\n",
       "      <td>136</td>\n",
       "      <td>0</td>\n",
       "      <td>0</td>\n",
       "      <td>0</td>\n",
       "      <td>0</td>\n",
       "      <td>0</td>\n",
       "      <td>0</td>\n",
       "      <td>136</td>\n",
       "      <td>136</td>\n",
       "      <td>0</td>\n",
       "      <td>119</td>\n",
       "      <td>0</td>\n",
       "      <td>0</td>\n",
       "      <td>0</td>\n",
       "      <td>0</td>\n",
       "      <td>136</td>\n",
       "      <td>0</td>\n",
       "      <td>0</td>\n",
       "      <td>133</td>\n",
       "    </tr>\n",
       "  </tbody>\n",
       "</table>\n",
       "</div>"
      ],
      "text/plain": [
       "        Sample ID  nas_steatosis_ordinal  nas_inflam  kleiner  fib4  elf   ft  \\\n",
       "group2                                                                          \n",
       "ALD           459                    352         352      458   443  380  283   \n",
       "HP            136                      0           0        0     0    0    0   \n",
       "\n",
       "         te  swe  aar  ast  apri  forns  m30  m65  meld  p3np  timp1  cap  \n",
       "group2                                                                     \n",
       "ALD     440  362  443  444   444    453  282  280   458   350    350  300  \n",
       "HP      136  136    0  119     0      0    0    0   136     0      0  133  "
      ]
     },
     "execution_count": 27,
     "metadata": {},
     "output_type": "execute_result"
    }
   ],
   "source": [
    "data_cli.groupby('group2')[col_ml].count()"
   ]
  },
  {
   "cell_type": "code",
   "execution_count": 28,
   "metadata": {},
   "outputs": [],
   "source": [
    "data_cli_sor = data_cli[col_ml].set_index(['Sample ID'])"
   ]
  },
  {
   "cell_type": "code",
   "execution_count": 29,
   "metadata": {},
   "outputs": [],
   "source": [
    "ald = data_cli[data_cli['group2'] == 'ALD']['Sample ID']\n",
    "use_rows = set(data_cli_sor.index) & set(data_ml_proteomics.index) & set(ald)\n",
    "#use_rows = set(data_cli_sor.index) & set(data_ml_proteomics.index)\n",
    "data_ml_combined_sor = data_ml_proteomics.loc[use_rows].join(other = data_cli_sor.loc[use_rows])\n",
    "data_ml_combined_sor = data_ml_combined_sor.sort_index(axis = 0)"
   ]
  },
  {
   "cell_type": "markdown",
   "metadata": {},
   "source": [
    "## Fibrosis"
   ]
  },
  {
   "cell_type": "code",
   "execution_count": 31,
   "metadata": {},
   "outputs": [
    {
     "data": {
      "text/html": [
       "<div>\n",
       "<style scoped>\n",
       "    .dataframe tbody tr th:only-of-type {\n",
       "        vertical-align: middle;\n",
       "    }\n",
       "\n",
       "    .dataframe tbody tr th {\n",
       "        vertical-align: top;\n",
       "    }\n",
       "\n",
       "    .dataframe thead th {\n",
       "        text-align: right;\n",
       "    }\n",
       "</style>\n",
       "<table border=\"1\" class=\"dataframe\">\n",
       "  <thead>\n",
       "    <tr style=\"text-align: right;\">\n",
       "      <th></th>\n",
       "      <th>elf</th>\n",
       "      <th>ft</th>\n",
       "      <th>fib4</th>\n",
       "      <th>apri</th>\n",
       "      <th>forns</th>\n",
       "      <th>p3np</th>\n",
       "    </tr>\n",
       "    <tr>\n",
       "      <th>group2</th>\n",
       "      <th></th>\n",
       "      <th></th>\n",
       "      <th></th>\n",
       "      <th></th>\n",
       "      <th></th>\n",
       "      <th></th>\n",
       "    </tr>\n",
       "  </thead>\n",
       "  <tbody>\n",
       "    <tr>\n",
       "      <th>ALD</th>\n",
       "      <td>380</td>\n",
       "      <td>283</td>\n",
       "      <td>443</td>\n",
       "      <td>444</td>\n",
       "      <td>453</td>\n",
       "      <td>350</td>\n",
       "    </tr>\n",
       "    <tr>\n",
       "      <th>HP</th>\n",
       "      <td>0</td>\n",
       "      <td>0</td>\n",
       "      <td>0</td>\n",
       "      <td>0</td>\n",
       "      <td>0</td>\n",
       "      <td>0</td>\n",
       "    </tr>\n",
       "  </tbody>\n",
       "</table>\n",
       "</div>"
      ],
      "text/plain": [
       "        elf   ft  fib4  apri  forns  p3np\n",
       "group2                                   \n",
       "ALD     380  283   443   444    453   350\n",
       "HP        0    0     0     0      0     0"
      ]
     },
     "execution_count": 31,
     "metadata": {},
     "output_type": "execute_result"
    }
   ],
   "source": [
    "# state-of-the-art (sor) markers: transient elastography, 2-dimensional shear wave elastography, ELF test, FibroTest, FIB4 score, APRI score, Forns score, ProC3\n",
    "#sor_fibrosis = ['te', 'swe', 'elf', 'ft', 'fib4', 'apri', 'forns', 'p3np']\n",
    "sor_fibrosis = ['elf', 'ft', 'fib4', 'apri', 'forns', 'p3np']\n",
    "data_cli.groupby('group2')[sor_fibrosis].count()"
   ]
  },
  {
   "cell_type": "markdown",
   "metadata": {},
   "source": [
    "### Complete dataset across all blood based fibrosis markers"
   ]
  },
  {
   "cell_type": "code",
   "execution_count": 39,
   "metadata": {},
   "outputs": [
    {
     "name": "stdout",
     "output_type": "stream",
     "text": [
      "(197, 206) (85, 206)\n"
     ]
    }
   ],
   "source": [
    "sor_fibrosis = ['elf', 'ft', 'fib4', 'apri', 'forns', 'p3np']\n",
    "use_cols = data_ml_proteomics.columns.to_list() + sor_fibrosis\n",
    "\n",
    "df = data_ml_combined_sor.dropna(subset = sor_fibrosis)\n",
    "df = df.fillna(value = {'kleiner': -1})\n",
    "df['class_fibrosis'] = np.where(df['kleiner'] >1, 1, 0)\n",
    "\n",
    "X =df[use_cols]\n",
    "y = df['class_fibrosis']\n",
    "\n",
    "X_train, X_test, y_train, y_test = train_test_split(X, y, test_size = 0.3, random_state = 0, stratify = df['kleiner'])\n",
    "# Standadize features\n",
    "scalar = StandardScaler().fit(X_train)\n",
    "X_train_scaled = scalar.transform(X_train)\n",
    "X_test_scaled = scalar.transform(X_test)\n",
    "X_train_scaled = pd.DataFrame(X_train_scaled, columns = X_train.columns, index = X_train.index)\n",
    "X_test_scaled = pd.DataFrame(X_test_scaled, columns = X_test.columns, index = X_test.index)\n",
    "\n",
    "X_train = X_train_scaled\n",
    "X_test = X_test_scaled\n",
    "\n",
    "print(X_train.shape, X_test.shape)"
   ]
  },
  {
   "cell_type": "code",
   "execution_count": 40,
   "metadata": {},
   "outputs": [
    {
     "name": "stdout",
     "output_type": "stream",
     "text": [
      "(197, 206) (85, 206)\n"
     ]
    }
   ],
   "source": [
    "scalar = StandardScaler().fit(X_train)\n",
    "X_train_scaled = scalar.transform(X_train)\n",
    "X_test_scaled = scalar.transform(X_test)\n",
    "X_train_scaled = pd.DataFrame(X_train_scaled, columns = X_train.columns, index = X_train.index)\n",
    "X_test_scaled = pd.DataFrame(X_test_scaled, columns = X_test.columns, index = X_test.index)\n",
    "\n",
    "X_train = X_train_scaled\n",
    "X_test = X_test_scaled\n",
    "\n",
    "print(X_train.shape, X_test.shape)"
   ]
  },
  {
   "cell_type": "code",
   "execution_count": 41,
   "metadata": {},
   "outputs": [
    {
     "data": {
      "text/plain": [
       "1    0.503546\n",
       "0    0.496454\n",
       "Name: class_fibrosis, dtype: float64"
      ]
     },
     "execution_count": 41,
     "metadata": {},
     "output_type": "execute_result"
    }
   ],
   "source": [
    "df['class_fibrosis'].value_counts(1)"
   ]
  },
  {
   "cell_type": "code",
   "execution_count": 42,
   "metadata": {},
   "outputs": [],
   "source": [
    "score = feature_selection(X = X_train, y = y_train, features = data_ml_proteomics.columns, n_repeats=2)"
   ]
  },
  {
   "cell_type": "code",
   "execution_count": 43,
   "metadata": {},
   "outputs": [],
   "source": [
    "score = score.sort_values(by = 'test_roc_auc', ascending = False)\n",
    "score_selected = list(score['feature'][:10])"
   ]
  },
  {
   "cell_type": "code",
   "execution_count": 44,
   "metadata": {},
   "outputs": [],
   "source": [
    "result_fibrosis = feature_selection_bestcombo(features = score_selected, X_train = X_train, y_train = y_train)"
   ]
  },
  {
   "cell_type": "code",
   "execution_count": 45,
   "metadata": {},
   "outputs": [
    {
     "data": {
      "text/plain": [
       "['C7', 'LGALS3BP', 'TGFBI', 'VCAM1', 'PIGR', 'IGFALS']"
      ]
     },
     "execution_count": 45,
     "metadata": {},
     "output_type": "execute_result"
    }
   ],
   "source": [
    "result_fibrosis = result_fibrosis.sort_values(by = 'test_roc_auc', ascending = False)\n",
    "fibrosis_best = [i for i in list(result_fibrosis['features'][:1])[0]]\n",
    "[IDmapping_UniprotID_to_Genename[i] for i in fibrosis_best]"
   ]
  },
  {
   "cell_type": "code",
   "execution_count": 46,
   "metadata": {},
   "outputs": [
    {
     "data": {
      "text/html": [
       "<div>\n",
       "<style scoped>\n",
       "    .dataframe tbody tr th:only-of-type {\n",
       "        vertical-align: middle;\n",
       "    }\n",
       "\n",
       "    .dataframe tbody tr th {\n",
       "        vertical-align: top;\n",
       "    }\n",
       "\n",
       "    .dataframe thead th {\n",
       "        text-align: right;\n",
       "    }\n",
       "</style>\n",
       "<table border=\"1\" class=\"dataframe\">\n",
       "  <thead>\n",
       "    <tr style=\"text-align: right;\">\n",
       "      <th></th>\n",
       "      <th>num_feat</th>\n",
       "      <th>train_roc_auc</th>\n",
       "      <th>test_roc_auc</th>\n",
       "      <th>features</th>\n",
       "      <th>precision</th>\n",
       "      <th>sensitivity</th>\n",
       "      <th>specificity</th>\n",
       "      <th>F1-score</th>\n",
       "      <th>accuracy</th>\n",
       "      <th>MCC</th>\n",
       "      <th>model</th>\n",
       "    </tr>\n",
       "  </thead>\n",
       "  <tbody>\n",
       "    <tr>\n",
       "      <th>0</th>\n",
       "      <td>1</td>\n",
       "      <td>0.86</td>\n",
       "      <td>0.83</td>\n",
       "      <td>[ft]</td>\n",
       "      <td>0.81</td>\n",
       "      <td>0.70</td>\n",
       "      <td>0.83</td>\n",
       "      <td>0.75</td>\n",
       "      <td>0.76</td>\n",
       "      <td>0.54</td>\n",
       "      <td>ft</td>\n",
       "    </tr>\n",
       "    <tr>\n",
       "      <th>0</th>\n",
       "      <td>6</td>\n",
       "      <td>0.90</td>\n",
       "      <td>0.86</td>\n",
       "      <td>[P10643, Q08380, Q15582, P19320, P01833, P35858]</td>\n",
       "      <td>0.82</td>\n",
       "      <td>0.65</td>\n",
       "      <td>0.86</td>\n",
       "      <td>0.73</td>\n",
       "      <td>0.75</td>\n",
       "      <td>0.52</td>\n",
       "      <td>proteomic panel</td>\n",
       "    </tr>\n",
       "    <tr>\n",
       "      <th>0</th>\n",
       "      <td>1</td>\n",
       "      <td>0.78</td>\n",
       "      <td>0.80</td>\n",
       "      <td>[p3np]</td>\n",
       "      <td>0.81</td>\n",
       "      <td>0.60</td>\n",
       "      <td>0.86</td>\n",
       "      <td>0.69</td>\n",
       "      <td>0.73</td>\n",
       "      <td>0.48</td>\n",
       "      <td>p3np</td>\n",
       "    </tr>\n",
       "    <tr>\n",
       "      <th>0</th>\n",
       "      <td>1</td>\n",
       "      <td>0.76</td>\n",
       "      <td>0.75</td>\n",
       "      <td>[fib4]</td>\n",
       "      <td>0.78</td>\n",
       "      <td>0.58</td>\n",
       "      <td>0.83</td>\n",
       "      <td>0.67</td>\n",
       "      <td>0.71</td>\n",
       "      <td>0.43</td>\n",
       "      <td>fib4</td>\n",
       "    </tr>\n",
       "    <tr>\n",
       "      <th>0</th>\n",
       "      <td>1</td>\n",
       "      <td>0.77</td>\n",
       "      <td>0.72</td>\n",
       "      <td>[apri]</td>\n",
       "      <td>0.81</td>\n",
       "      <td>0.51</td>\n",
       "      <td>0.88</td>\n",
       "      <td>0.63</td>\n",
       "      <td>0.69</td>\n",
       "      <td>0.42</td>\n",
       "      <td>apri</td>\n",
       "    </tr>\n",
       "    <tr>\n",
       "      <th>0</th>\n",
       "      <td>1</td>\n",
       "      <td>0.84</td>\n",
       "      <td>0.82</td>\n",
       "      <td>[elf]</td>\n",
       "      <td>0.73</td>\n",
       "      <td>0.63</td>\n",
       "      <td>0.76</td>\n",
       "      <td>0.68</td>\n",
       "      <td>0.69</td>\n",
       "      <td>0.39</td>\n",
       "      <td>elf</td>\n",
       "    </tr>\n",
       "    <tr>\n",
       "      <th>0</th>\n",
       "      <td>1</td>\n",
       "      <td>0.78</td>\n",
       "      <td>0.80</td>\n",
       "      <td>[forns]</td>\n",
       "      <td>0.68</td>\n",
       "      <td>0.70</td>\n",
       "      <td>0.67</td>\n",
       "      <td>0.69</td>\n",
       "      <td>0.68</td>\n",
       "      <td>0.36</td>\n",
       "      <td>forns</td>\n",
       "    </tr>\n",
       "  </tbody>\n",
       "</table>\n",
       "</div>"
      ],
      "text/plain": [
       "   num_feat  train_roc_auc  test_roc_auc  \\\n",
       "0         1           0.86          0.83   \n",
       "0         6           0.90          0.86   \n",
       "0         1           0.78          0.80   \n",
       "0         1           0.76          0.75   \n",
       "0         1           0.77          0.72   \n",
       "0         1           0.84          0.82   \n",
       "0         1           0.78          0.80   \n",
       "\n",
       "                                           features  precision  sensitivity  \\\n",
       "0                                              [ft]       0.81         0.70   \n",
       "0  [P10643, Q08380, Q15582, P19320, P01833, P35858]       0.82         0.65   \n",
       "0                                            [p3np]       0.81         0.60   \n",
       "0                                            [fib4]       0.78         0.58   \n",
       "0                                            [apri]       0.81         0.51   \n",
       "0                                             [elf]       0.73         0.63   \n",
       "0                                           [forns]       0.68         0.70   \n",
       "\n",
       "   specificity  F1-score  accuracy   MCC            model  \n",
       "0         0.83      0.75      0.76  0.54               ft  \n",
       "0         0.86      0.73      0.75  0.52  proteomic panel  \n",
       "0         0.86      0.69      0.73  0.48             p3np  \n",
       "0         0.83      0.67      0.71  0.43             fib4  \n",
       "0         0.88      0.63      0.69  0.42             apri  \n",
       "0         0.76      0.68      0.69  0.39              elf  \n",
       "0         0.67      0.69      0.68  0.36            forns  "
      ]
     },
     "execution_count": 46,
     "metadata": {},
     "output_type": "execute_result"
    }
   ],
   "source": [
    "sor_fibrosis = ['elf', 'ft', 'fib4', 'apri', 'forns', 'p3np']\n",
    "columns = ['num_feat', 'train_roc_auc', 'test_roc_auc', 'features', 'precision', 'sensitivity', 'specificity', 'F1-score', 'accuracy', 'MCC']\n",
    "per_fibrosis = pd.DataFrame(columns = columns)\n",
    "\n",
    "for i in sor_fibrosis:\n",
    "    per_i = model_performance(clf = clf_lr, features = [i], X_train= X_train, y_train = y_train, X_test = X_test, y_test = y_test)\n",
    "    per_fibrosis = pd.concat([per_fibrosis, per_i])\n",
    "\n",
    "per_prot = model_performance(clf = clf_lr, features = fibrosis_best, X_train= X_train, y_train = y_train, X_test = X_test, y_test = y_test)\n",
    "per_fibrosis = pd.concat([per_fibrosis, per_prot])\n",
    "sor_fibrosis.append('proteomic panel')\n",
    "per_fibrosis['model'] = sor_fibrosis\n",
    "per_fibrosis = per_fibrosis.sort_values(by = 'MCC', ascending = False)\n",
    "per_fibrosis = convert_to_numeric(per_fibrosis).round(2)\n",
    "per_fibrosis"
   ]
  },
  {
   "cell_type": "code",
   "execution_count": 50,
   "metadata": {},
   "outputs": [
    {
     "data": {
      "image/png": "[encoded data removed]",
      "text/plain": [
       "<Figure size 288x288 with 1 Axes>"
      ]
     },
     "metadata": {},
     "output_type": "display_data"
    }
   ],
   "source": [
    "#colors = ['black','gray', 'pink', 'black', 'darkgray', 'gray', 'darkred']\n",
    "colors = sns.diverging_palette(220, 10, sep=80, n = 7, center = 'dark')\n",
    "items = [['elf'], ['ft'], ['fib4'], ['apri'], ['forns'], ['p3np'], fibrosis_best]\n",
    "names = ['elf', 'ft', 'fib4', 'apri', 'forns', 'p3np', 'proteomic panel']\n",
    "clf = clf_lr\n",
    "X0, y0 = X_train, y_train\n",
    "X, y = X_test, y_test\n",
    "title_1, title_2 = 'F0-1 vs. F2-4', 'Test set'\n",
    "plot_roc(clf = clf, items = items, names = names, colors = colors, X0 =X0, y0 = y0, X = X, y = y, title_1 = title_1, title_2 = title_2)"
   ]
  },
  {
   "cell_type": "markdown",
   "metadata": {},
   "source": [
    "# Fibrosis compared to imaging methods"
   ]
  },
  {
   "cell_type": "code",
   "execution_count": 51,
   "metadata": {},
   "outputs": [
    {
     "data": {
      "text/html": [
       "<div>\n",
       "<style scoped>\n",
       "    .dataframe tbody tr th:only-of-type {\n",
       "        vertical-align: middle;\n",
       "    }\n",
       "\n",
       "    .dataframe tbody tr th {\n",
       "        vertical-align: top;\n",
       "    }\n",
       "\n",
       "    .dataframe thead th {\n",
       "        text-align: right;\n",
       "    }\n",
       "</style>\n",
       "<table border=\"1\" class=\"dataframe\">\n",
       "  <thead>\n",
       "    <tr style=\"text-align: right;\">\n",
       "      <th></th>\n",
       "      <th>te</th>\n",
       "      <th>swe</th>\n",
       "    </tr>\n",
       "    <tr>\n",
       "      <th>group2</th>\n",
       "      <th></th>\n",
       "      <th></th>\n",
       "    </tr>\n",
       "  </thead>\n",
       "  <tbody>\n",
       "    <tr>\n",
       "      <th>ALD</th>\n",
       "      <td>440</td>\n",
       "      <td>362</td>\n",
       "    </tr>\n",
       "    <tr>\n",
       "      <th>HP</th>\n",
       "      <td>136</td>\n",
       "      <td>136</td>\n",
       "    </tr>\n",
       "  </tbody>\n",
       "</table>\n",
       "</div>"
      ],
      "text/plain": [
       "         te  swe\n",
       "group2          \n",
       "ALD     440  362\n",
       "HP      136  136"
      ]
     },
     "execution_count": 51,
     "metadata": {},
     "output_type": "execute_result"
    }
   ],
   "source": [
    "# state-of-the-art (sor) markers: transient elastography, 2-dimensional shear wave elastography, ELF test, FibroTest, FIB4 score, APRI score, Forns score, ProC3\n",
    "sor_fibrosis2 = ['te', 'swe']\n",
    "data_cli.groupby('group2')[sor_fibrosis2].count()"
   ]
  },
  {
   "cell_type": "markdown",
   "metadata": {},
   "source": [
    "### Complete dataset across all fibrosis markerss"
   ]
  },
  {
   "cell_type": "code",
   "execution_count": 52,
   "metadata": {},
   "outputs": [
    {
     "name": "stdout",
     "output_type": "stream",
     "text": [
      "(240, 202) (104, 202)\n"
     ]
    }
   ],
   "source": [
    "sor_fibrosis2 = ['te', 'swe']\n",
    "use_cols = data_ml_proteomics.columns.to_list() + sor_fibrosis2\n",
    "\n",
    "df = data_ml_combined_sor.dropna(subset = sor_fibrosis2)\n",
    "df = df.fillna(value = {'kleiner': -1})\n",
    "df['class_fibrosis'] = np.where(df['kleiner'] >1, 1, 0)\n",
    "\n",
    "X =df[use_cols]\n",
    "y = df['class_fibrosis']\n",
    "\n",
    "X_train, X_test, y_train, y_test = train_test_split(X, y, test_size = 0.3, random_state = 0, stratify = df['kleiner'])\n",
    "# Standadize features\n",
    "scalar = StandardScaler().fit(X_train)\n",
    "X_train_scaled = scalar.transform(X_train)\n",
    "X_test_scaled = scalar.transform(X_test)\n",
    "X_train_scaled = pd.DataFrame(X_train_scaled, columns = X_train.columns, index = X_train.index)\n",
    "X_test_scaled = pd.DataFrame(X_test_scaled, columns = X_test.columns, index = X_test.index)\n",
    "\n",
    "X_train = X_train_scaled\n",
    "X_test = X_test_scaled\n",
    "\n",
    "print(X_train.shape, X_test.shape)"
   ]
  },
  {
   "cell_type": "code",
   "execution_count": 53,
   "metadata": {},
   "outputs": [],
   "source": [
    "score2 = feature_selection(X = X_train, y = y_train, features = data_ml_proteomics.columns, n_repeats=2)"
   ]
  },
  {
   "cell_type": "code",
   "execution_count": 54,
   "metadata": {},
   "outputs": [],
   "source": [
    "score2 = score2.sort_values(by = 'test_roc_auc', ascending = False)\n",
    "score_selected2 = list(score2['feature'][:10])"
   ]
  },
  {
   "cell_type": "code",
   "execution_count": 55,
   "metadata": {},
   "outputs": [],
   "source": [
    "result_fibrosis2 = feature_selection_bestcombo(features = score_selected2, X_train = X_train, y_train = y_train)"
   ]
  },
  {
   "cell_type": "code",
   "execution_count": 56,
   "metadata": {},
   "outputs": [
    {
     "data": {
      "text/plain": [
       "['C7', 'IGFALS', 'TGFBI', 'LGALS3BP', 'ICAM1', 'IGFBP7']"
      ]
     },
     "execution_count": 56,
     "metadata": {},
     "output_type": "execute_result"
    }
   ],
   "source": [
    "result_fibrosis2 = result_fibrosis2.sort_values(by = 'test_roc_auc', ascending = False)\n",
    "fibrosis_best2 = [i for i in list(result_fibrosis2['features'][:1])[0]]\n",
    "[IDmapping_UniprotID_to_Genename[i] for i in fibrosis_best2]"
   ]
  },
  {
   "cell_type": "code",
   "execution_count": 57,
   "metadata": {},
   "outputs": [
    {
     "data": {
      "text/html": [
       "<div>\n",
       "<style scoped>\n",
       "    .dataframe tbody tr th:only-of-type {\n",
       "        vertical-align: middle;\n",
       "    }\n",
       "\n",
       "    .dataframe tbody tr th {\n",
       "        vertical-align: top;\n",
       "    }\n",
       "\n",
       "    .dataframe thead th {\n",
       "        text-align: right;\n",
       "    }\n",
       "</style>\n",
       "<table border=\"1\" class=\"dataframe\">\n",
       "  <thead>\n",
       "    <tr style=\"text-align: right;\">\n",
       "      <th></th>\n",
       "      <th>num_feat</th>\n",
       "      <th>train_roc_auc</th>\n",
       "      <th>test_roc_auc</th>\n",
       "      <th>features</th>\n",
       "      <th>precision</th>\n",
       "      <th>sensitivity</th>\n",
       "      <th>specificity</th>\n",
       "      <th>F1-score</th>\n",
       "      <th>accuracy</th>\n",
       "      <th>MCC</th>\n",
       "      <th>model</th>\n",
       "    </tr>\n",
       "  </thead>\n",
       "  <tbody>\n",
       "    <tr>\n",
       "      <th>0</th>\n",
       "      <td>6</td>\n",
       "      <td>0.91</td>\n",
       "      <td>0.84</td>\n",
       "      <td>[P10643, P35858, Q15582, Q08380, P05362, Q16270]</td>\n",
       "      <td>0.83</td>\n",
       "      <td>0.76</td>\n",
       "      <td>0.85</td>\n",
       "      <td>0.79</td>\n",
       "      <td>0.81</td>\n",
       "      <td>0.62</td>\n",
       "      <td>proteomic panel</td>\n",
       "    </tr>\n",
       "    <tr>\n",
       "      <th>0</th>\n",
       "      <td>1</td>\n",
       "      <td>0.89</td>\n",
       "      <td>0.90</td>\n",
       "      <td>[swe]</td>\n",
       "      <td>0.91</td>\n",
       "      <td>0.62</td>\n",
       "      <td>0.94</td>\n",
       "      <td>0.74</td>\n",
       "      <td>0.79</td>\n",
       "      <td>0.60</td>\n",
       "      <td>swe</td>\n",
       "    </tr>\n",
       "    <tr>\n",
       "      <th>0</th>\n",
       "      <td>1</td>\n",
       "      <td>0.90</td>\n",
       "      <td>0.85</td>\n",
       "      <td>[te]</td>\n",
       "      <td>0.90</td>\n",
       "      <td>0.56</td>\n",
       "      <td>0.94</td>\n",
       "      <td>0.69</td>\n",
       "      <td>0.76</td>\n",
       "      <td>0.55</td>\n",
       "      <td>te</td>\n",
       "    </tr>\n",
       "  </tbody>\n",
       "</table>\n",
       "</div>"
      ],
      "text/plain": [
       "   num_feat  train_roc_auc  test_roc_auc  \\\n",
       "0         6           0.91          0.84   \n",
       "0         1           0.89          0.90   \n",
       "0         1           0.90          0.85   \n",
       "\n",
       "                                           features  precision  sensitivity  \\\n",
       "0  [P10643, P35858, Q15582, Q08380, P05362, Q16270]       0.83         0.76   \n",
       "0                                             [swe]       0.91         0.62   \n",
       "0                                              [te]       0.90         0.56   \n",
       "\n",
       "   specificity  F1-score  accuracy   MCC            model  \n",
       "0         0.85      0.79      0.81  0.62  proteomic panel  \n",
       "0         0.94      0.74      0.79  0.60              swe  \n",
       "0         0.94      0.69      0.76  0.55               te  "
      ]
     },
     "execution_count": 57,
     "metadata": {},
     "output_type": "execute_result"
    }
   ],
   "source": [
    "columns = ['num_feat', 'train_roc_auc', 'test_roc_auc', 'features', 'precision', 'sensitivity', 'specificity', 'F1-score', 'accuracy', 'MCC']\n",
    "per_fibrosis = pd.DataFrame(columns = columns)\n",
    "sor_fibrosis2 = ['te', 'swe']\n",
    "\n",
    "for i in sor_fibrosis2:\n",
    "    per_i = model_performance(clf = clf_lr, features = [i], X_train= X_train, y_train = y_train, X_test = X_test, y_test = y_test)\n",
    "    per_fibrosis = pd.concat([per_fibrosis, per_i])\n",
    "\n",
    "per_prot = model_performance(clf = clf_lr, features = fibrosis_best2, X_train= X_train, y_train = y_train, X_test = X_test, y_test = y_test)\n",
    "per_fibrosis = pd.concat([per_fibrosis, per_prot])\n",
    "sor_fibrosis2.append('proteomic panel')\n",
    "per_fibrosis['model'] = sor_fibrosis2\n",
    "per_fibrosis = per_fibrosis.sort_values(by = 'MCC', ascending = False)\n",
    "per_fibrosis = convert_to_numeric(per_fibrosis).round(2)\n",
    "per_fibrosis"
   ]
  },
  {
   "cell_type": "code",
   "execution_count": 58,
   "metadata": {},
   "outputs": [
    {
     "data": {
      "image/png": "[encoded data removed]",
      "text/plain": [
       "<Figure size 288x288 with 1 Axes>"
      ]
     },
     "metadata": {},
     "output_type": "display_data"
    }
   ],
   "source": [
    "colors = ['gray', 'pink', 'darkred', 'black', 'darkgray', 'gray']\n",
    "#colors = sns.diverging_palette(220, 10, sep=80, n=7, center = 'dark')\n",
    "items = [['swe'], ['te'], fibrosis_best2]\n",
    "names = ['swe', 'te', 'proteomic panel']\n",
    "clf = clf_lr\n",
    "X0, y0 = X_train, y_train\n",
    "X, y = X_test, y_test\n",
    "title_1, title_2 = 'Fibrosis F0-1 vs. F2-4_2', 'Test set'\n",
    "plot_roc(clf = clf, items = items, names = names, colors = colors, X0 =X0, y0 = y0, X = X, y = y, title_1 = title_1, title_2 = title_2)"
   ]
  },
  {
   "cell_type": "code",
   "execution_count": 59,
   "metadata": {},
   "outputs": [
    {
     "data": {
      "text/plain": [
       "['C7', 'IGFALS', 'TGFBI', 'LGALS3BP', 'ICAM1', 'IGFBP7']"
      ]
     },
     "execution_count": 59,
     "metadata": {},
     "output_type": "execute_result"
    }
   ],
   "source": [
    "[IDmapping_UniprotID_to_Genename[i] for i in fibrosis_best2]"
   ]
  },
  {
   "cell_type": "markdown",
   "metadata": {},
   "source": [
    "# Inflammation"
   ]
  },
  {
   "cell_type": "code",
   "execution_count": 60,
   "metadata": {},
   "outputs": [
    {
     "data": {
      "text/html": [
       "<div>\n",
       "<style scoped>\n",
       "    .dataframe tbody tr th:only-of-type {\n",
       "        vertical-align: middle;\n",
       "    }\n",
       "\n",
       "    .dataframe tbody tr th {\n",
       "        vertical-align: top;\n",
       "    }\n",
       "\n",
       "    .dataframe thead th {\n",
       "        text-align: right;\n",
       "    }\n",
       "</style>\n",
       "<table border=\"1\" class=\"dataframe\">\n",
       "  <thead>\n",
       "    <tr style=\"text-align: right;\">\n",
       "      <th></th>\n",
       "      <th>Sample ID</th>\n",
       "      <th>nas_steatosis_ordinal</th>\n",
       "      <th>nas_inflam</th>\n",
       "      <th>kleiner</th>\n",
       "      <th>fib4</th>\n",
       "      <th>elf</th>\n",
       "      <th>ft</th>\n",
       "      <th>te</th>\n",
       "      <th>swe</th>\n",
       "      <th>aar</th>\n",
       "      <th>ast</th>\n",
       "      <th>apri</th>\n",
       "      <th>forns</th>\n",
       "      <th>m30</th>\n",
       "      <th>m65</th>\n",
       "      <th>meld</th>\n",
       "      <th>p3np</th>\n",
       "      <th>timp1</th>\n",
       "      <th>cap</th>\n",
       "    </tr>\n",
       "    <tr>\n",
       "      <th>group2</th>\n",
       "      <th></th>\n",
       "      <th></th>\n",
       "      <th></th>\n",
       "      <th></th>\n",
       "      <th></th>\n",
       "      <th></th>\n",
       "      <th></th>\n",
       "      <th></th>\n",
       "      <th></th>\n",
       "      <th></th>\n",
       "      <th></th>\n",
       "      <th></th>\n",
       "      <th></th>\n",
       "      <th></th>\n",
       "      <th></th>\n",
       "      <th></th>\n",
       "      <th></th>\n",
       "      <th></th>\n",
       "      <th></th>\n",
       "    </tr>\n",
       "  </thead>\n",
       "  <tbody>\n",
       "    <tr>\n",
       "      <th>ALD</th>\n",
       "      <td>459</td>\n",
       "      <td>352</td>\n",
       "      <td>352</td>\n",
       "      <td>458</td>\n",
       "      <td>443</td>\n",
       "      <td>380</td>\n",
       "      <td>283</td>\n",
       "      <td>440</td>\n",
       "      <td>362</td>\n",
       "      <td>443</td>\n",
       "      <td>444</td>\n",
       "      <td>444</td>\n",
       "      <td>453</td>\n",
       "      <td>282</td>\n",
       "      <td>280</td>\n",
       "      <td>458</td>\n",
       "      <td>350</td>\n",
       "      <td>350</td>\n",
       "      <td>300</td>\n",
       "    </tr>\n",
       "    <tr>\n",
       "      <th>HP</th>\n",
       "      <td>136</td>\n",
       "      <td>0</td>\n",
       "      <td>0</td>\n",
       "      <td>0</td>\n",
       "      <td>0</td>\n",
       "      <td>0</td>\n",
       "      <td>0</td>\n",
       "      <td>136</td>\n",
       "      <td>136</td>\n",
       "      <td>0</td>\n",
       "      <td>119</td>\n",
       "      <td>0</td>\n",
       "      <td>0</td>\n",
       "      <td>0</td>\n",
       "      <td>0</td>\n",
       "      <td>136</td>\n",
       "      <td>0</td>\n",
       "      <td>0</td>\n",
       "      <td>133</td>\n",
       "    </tr>\n",
       "  </tbody>\n",
       "</table>\n",
       "</div>"
      ],
      "text/plain": [
       "        Sample ID  nas_steatosis_ordinal  nas_inflam  kleiner  fib4  elf   ft  \\\n",
       "group2                                                                          \n",
       "ALD           459                    352         352      458   443  380  283   \n",
       "HP            136                      0           0        0     0    0    0   \n",
       "\n",
       "         te  swe  aar  ast  apri  forns  m30  m65  meld  p3np  timp1  cap  \n",
       "group2                                                                     \n",
       "ALD     440  362  443  444   444    453  282  280   458   350    350  300  \n",
       "HP      136  136    0  119     0      0    0    0   136     0      0  133  "
      ]
     },
     "execution_count": 60,
     "metadata": {},
     "output_type": "execute_result"
    }
   ],
   "source": [
    "data_cli.groupby('group2')[col_ml].count()"
   ]
  },
  {
   "cell_type": "code",
   "execution_count": 61,
   "metadata": {},
   "outputs": [
    {
     "data": {
      "text/html": [
       "<div>\n",
       "<style scoped>\n",
       "    .dataframe tbody tr th:only-of-type {\n",
       "        vertical-align: middle;\n",
       "    }\n",
       "\n",
       "    .dataframe tbody tr th {\n",
       "        vertical-align: top;\n",
       "    }\n",
       "\n",
       "    .dataframe thead th {\n",
       "        text-align: right;\n",
       "    }\n",
       "</style>\n",
       "<table border=\"1\" class=\"dataframe\">\n",
       "  <thead>\n",
       "    <tr style=\"text-align: right;\">\n",
       "      <th></th>\n",
       "      <th>nas_inflam</th>\n",
       "      <th>m30</th>\n",
       "      <th>m65</th>\n",
       "      <th>aar</th>\n",
       "      <th>p3np</th>\n",
       "      <th>ast</th>\n",
       "    </tr>\n",
       "    <tr>\n",
       "      <th>group2</th>\n",
       "      <th></th>\n",
       "      <th></th>\n",
       "      <th></th>\n",
       "      <th></th>\n",
       "      <th></th>\n",
       "      <th></th>\n",
       "    </tr>\n",
       "  </thead>\n",
       "  <tbody>\n",
       "    <tr>\n",
       "      <th>ALD</th>\n",
       "      <td>352</td>\n",
       "      <td>282</td>\n",
       "      <td>280</td>\n",
       "      <td>443</td>\n",
       "      <td>350</td>\n",
       "      <td>444</td>\n",
       "    </tr>\n",
       "    <tr>\n",
       "      <th>HP</th>\n",
       "      <td>0</td>\n",
       "      <td>0</td>\n",
       "      <td>0</td>\n",
       "      <td>0</td>\n",
       "      <td>0</td>\n",
       "      <td>119</td>\n",
       "    </tr>\n",
       "  </tbody>\n",
       "</table>\n",
       "</div>"
      ],
      "text/plain": [
       "        nas_inflam  m30  m65  aar  p3np  ast\n",
       "group2                                      \n",
       "ALD            352  282  280  443   350  444\n",
       "HP               0    0    0    0     0  119"
      ]
     },
     "execution_count": 61,
     "metadata": {},
     "output_type": "execute_result"
    }
   ],
   "source": [
    "# state-of-the-art (sor) markers: M30=caspase-cleaved cytokeratin-18 fragments, M65=total CK18, AST:ALT ratio, ProC3\n",
    "sor_inflam = ['nas_inflam', 'm30', 'm65', 'aar', 'p3np', 'ast']\n",
    "data_cli.groupby('group2')[sor_inflam].count()"
   ]
  },
  {
   "cell_type": "markdown",
   "metadata": {},
   "source": [
    "### Complete dataset across all inflammation markerss"
   ]
  },
  {
   "cell_type": "code",
   "execution_count": 69,
   "metadata": {},
   "outputs": [
    {
     "name": "stdout",
     "output_type": "stream",
     "text": [
      "(184, 206) (79, 206)\n"
     ]
    }
   ],
   "source": [
    "sor_inflam = ['nas_inflam', 'm30', 'm65', 'aar', 'p3np', 'ast']\n",
    "use_cols = data_ml_proteomics.columns.to_list() + sor_inflam\n",
    "\n",
    "df = data_ml_combined_sor.dropna(subset = sor_inflam)\n",
    "df['class_inflam'] = np.where(df['nas_inflam'] > 1, 1, 0)\n",
    "\n",
    "X =df[use_cols]\n",
    "y = data['class_inflam']\n",
    "\n",
    "X_train, X_test, y_train, y_test = train_test_split(X, y, test_size = 0.3, random_state = 0, stratify = data['nas_inflam'])\n",
    "# Standadize features\n",
    "scalar = StandardScaler().fit(X_train)\n",
    "X_train_scaled = scalar.transform(X_train)\n",
    "X_test_scaled = scalar.transform(X_test)\n",
    "X_train_scaled = pd.DataFrame(X_train_scaled, columns = X_train.columns, index = X_train.index)\n",
    "X_test_scaled = pd.DataFrame(X_test_scaled, columns = X_test.columns, index = X_test.index)\n",
    "\n",
    "X_train = X_train_scaled\n",
    "X_test = X_test_scaled\n",
    "\n",
    "print(X_train.shape, X_test.shape)"
   ]
  },
  {
   "cell_type": "code",
   "execution_count": 70,
   "metadata": {},
   "outputs": [],
   "source": [
    "score = feature_selection(X = X_train, y = y_train, features = data_ml_proteomics.columns, n_repeats=2)\n",
    "score = score.sort_values(by = 'test_roc_auc', ascending = False)\n",
    "score_selected = list(score['feature'][:10])"
   ]
  },
  {
   "cell_type": "code",
   "execution_count": 71,
   "metadata": {},
   "outputs": [],
   "source": [
    "result_inflammation = feature_selection_bestcombo(features = score_selected, X_train = X_train, y_train = y_train)"
   ]
  },
  {
   "cell_type": "code",
   "execution_count": 72,
   "metadata": {},
   "outputs": [
    {
     "data": {
      "text/plain": [
       "['LGALS3BP', 'C7', 'QSOX1', 'IGFALS', 'VCAM1', nan]"
      ]
     },
     "execution_count": 72,
     "metadata": {},
     "output_type": "execute_result"
    }
   ],
   "source": [
    "result_inflammation = result_inflammation.sort_values(by = 'test_roc_auc', ascending = False)\n",
    "inflammation_best = [i for i in list(result_inflammation['features'][:1])[0]]\n",
    "[IDmapping_UniprotID_to_Genename[i] for i in inflammation_best]"
   ]
  },
  {
   "cell_type": "code",
   "execution_count": 73,
   "metadata": {},
   "outputs": [
    {
     "data": {
      "text/html": [
       "<div>\n",
       "<style scoped>\n",
       "    .dataframe tbody tr th:only-of-type {\n",
       "        vertical-align: middle;\n",
       "    }\n",
       "\n",
       "    .dataframe tbody tr th {\n",
       "        vertical-align: top;\n",
       "    }\n",
       "\n",
       "    .dataframe thead th {\n",
       "        text-align: right;\n",
       "    }\n",
       "</style>\n",
       "<table border=\"1\" class=\"dataframe\">\n",
       "  <thead>\n",
       "    <tr style=\"text-align: right;\">\n",
       "      <th></th>\n",
       "      <th>num_feat</th>\n",
       "      <th>train_roc_auc</th>\n",
       "      <th>test_roc_auc</th>\n",
       "      <th>features</th>\n",
       "      <th>precision</th>\n",
       "      <th>sensitivity</th>\n",
       "      <th>specificity</th>\n",
       "      <th>F1-score</th>\n",
       "      <th>accuracy</th>\n",
       "      <th>MCC</th>\n",
       "      <th>model</th>\n",
       "    </tr>\n",
       "  </thead>\n",
       "  <tbody>\n",
       "    <tr>\n",
       "      <th>0</th>\n",
       "      <td>6</td>\n",
       "      <td>0.88</td>\n",
       "      <td>0.86</td>\n",
       "      <td>[Q08380, P10643, O00391, P35858, P19320, H7BY64]</td>\n",
       "      <td>0.88</td>\n",
       "      <td>0.68</td>\n",
       "      <td>0.89</td>\n",
       "      <td>0.77</td>\n",
       "      <td>0.78</td>\n",
       "      <td>0.59</td>\n",
       "      <td>proteomic panel</td>\n",
       "    </tr>\n",
       "    <tr>\n",
       "      <th>0</th>\n",
       "      <td>1</td>\n",
       "      <td>0.76</td>\n",
       "      <td>0.79</td>\n",
       "      <td>[m30]</td>\n",
       "      <td>0.84</td>\n",
       "      <td>0.51</td>\n",
       "      <td>0.89</td>\n",
       "      <td>0.64</td>\n",
       "      <td>0.70</td>\n",
       "      <td>0.44</td>\n",
       "      <td>m30</td>\n",
       "    </tr>\n",
       "    <tr>\n",
       "      <th>0</th>\n",
       "      <td>1</td>\n",
       "      <td>0.74</td>\n",
       "      <td>0.76</td>\n",
       "      <td>[p3np]</td>\n",
       "      <td>0.82</td>\n",
       "      <td>0.44</td>\n",
       "      <td>0.89</td>\n",
       "      <td>0.57</td>\n",
       "      <td>0.66</td>\n",
       "      <td>0.37</td>\n",
       "      <td>p3np</td>\n",
       "    </tr>\n",
       "    <tr>\n",
       "      <th>0</th>\n",
       "      <td>1</td>\n",
       "      <td>0.76</td>\n",
       "      <td>0.70</td>\n",
       "      <td>[ast]</td>\n",
       "      <td>0.71</td>\n",
       "      <td>0.59</td>\n",
       "      <td>0.74</td>\n",
       "      <td>0.64</td>\n",
       "      <td>0.66</td>\n",
       "      <td>0.33</td>\n",
       "      <td>ast</td>\n",
       "    </tr>\n",
       "    <tr>\n",
       "      <th>0</th>\n",
       "      <td>1</td>\n",
       "      <td>0.73</td>\n",
       "      <td>0.68</td>\n",
       "      <td>[m65]</td>\n",
       "      <td>0.70</td>\n",
       "      <td>0.46</td>\n",
       "      <td>0.79</td>\n",
       "      <td>0.56</td>\n",
       "      <td>0.62</td>\n",
       "      <td>0.27</td>\n",
       "      <td>m65</td>\n",
       "    </tr>\n",
       "    <tr>\n",
       "      <th>0</th>\n",
       "      <td>1</td>\n",
       "      <td>0.61</td>\n",
       "      <td>0.58</td>\n",
       "      <td>[aar]</td>\n",
       "      <td>0.67</td>\n",
       "      <td>0.44</td>\n",
       "      <td>0.76</td>\n",
       "      <td>0.53</td>\n",
       "      <td>0.59</td>\n",
       "      <td>0.21</td>\n",
       "      <td>aar</td>\n",
       "    </tr>\n",
       "  </tbody>\n",
       "</table>\n",
       "</div>"
      ],
      "text/plain": [
       "   num_feat  train_roc_auc  test_roc_auc  \\\n",
       "0         6           0.88          0.86   \n",
       "0         1           0.76          0.79   \n",
       "0         1           0.74          0.76   \n",
       "0         1           0.76          0.70   \n",
       "0         1           0.73          0.68   \n",
       "0         1           0.61          0.58   \n",
       "\n",
       "                                           features  precision  sensitivity  \\\n",
       "0  [Q08380, P10643, O00391, P35858, P19320, H7BY64]       0.88         0.68   \n",
       "0                                             [m30]       0.84         0.51   \n",
       "0                                            [p3np]       0.82         0.44   \n",
       "0                                             [ast]       0.71         0.59   \n",
       "0                                             [m65]       0.70         0.46   \n",
       "0                                             [aar]       0.67         0.44   \n",
       "\n",
       "   specificity  F1-score  accuracy   MCC            model  \n",
       "0         0.89      0.77      0.78  0.59  proteomic panel  \n",
       "0         0.89      0.64      0.70  0.44              m30  \n",
       "0         0.89      0.57      0.66  0.37             p3np  \n",
       "0         0.74      0.64      0.66  0.33              ast  \n",
       "0         0.79      0.56      0.62  0.27              m65  \n",
       "0         0.76      0.53      0.59  0.21              aar  "
      ]
     },
     "execution_count": 73,
     "metadata": {},
     "output_type": "execute_result"
    }
   ],
   "source": [
    "sor_inflam = ['m30', 'm65', 'aar', 'p3np', 'ast']\n",
    "columns = ['num_feat', 'train_roc_auc', 'test_roc_auc', 'features', 'precision', 'sensitivity', 'specificity', 'F1-score', 'accuracy', 'MCC']\n",
    "per_inflam = pd.DataFrame(columns = columns)\n",
    "\n",
    "for i in sor_inflam:\n",
    "    per_i = model_performance(clf = clf_lr, features = [i], X_train= X_train, y_train = y_train, X_test = X_test, y_test = y_test)\n",
    "    per_inflam = pd.concat([per_inflam, per_i])\n",
    "\n",
    "per_prot = model_performance(clf = clf_lr, features = inflammation_best, X_train= X_train, y_train = y_train, X_test = X_test, y_test = y_test)\n",
    "per_inflam = pd.concat([per_inflam, per_prot])\n",
    "sor_inflam.append('proteomic panel')\n",
    "per_inflam['model'] = sor_inflam\n",
    "per_inflam = per_inflam.sort_values(by = 'MCC', ascending = False)\n",
    "per_inflam = convert_to_numeric(per_inflam).round(2)\n",
    "per_inflam"
   ]
  },
  {
   "cell_type": "code",
   "execution_count": 74,
   "metadata": {},
   "outputs": [
    {
     "data": {
      "text/plain": [
       "(184, 206)"
      ]
     },
     "execution_count": 74,
     "metadata": {},
     "output_type": "execute_result"
    }
   ],
   "source": [
    "X_train.shape"
   ]
  },
  {
   "cell_type": "code",
   "execution_count": 75,
   "metadata": {},
   "outputs": [
    {
     "data": {
      "image/png": "[encoded data removed]",
      "text/plain": [
       "<Figure size 288x288 with 1 Axes>"
      ]
     },
     "metadata": {},
     "output_type": "display_data"
    }
   ],
   "source": [
    "colors = ['gray', 'pink', 'darkred', 'black', 'darkgray', 'gray']\n",
    "colors = sns.diverging_palette(220, 10, sep=80, n=6, center = 'dark')\n",
    "items = [['m30'], ['m65'], ['p3np'], ['aar'], ['ast'], inflammation_best]\n",
    "names = ['m30', 'm65', 'p3np', 'aar', 'ast', 'proteomic panel']\n",
    "clf = clf_lr\n",
    "X0, y0 = X_train, y_train\n",
    "X, y = X_train, y_train\n",
    "title_1, title_2 = 'NAS_inflam 0-1 vs. 2-5', 'Train set'\n",
    "plot_roc(clf = clf, items = items, names = names, colors = colors, X0 =X0, y0 = y0, X = X, y = y, title_1 = title_1, title_2 = title_2)"
   ]
  },
  {
   "cell_type": "markdown",
   "metadata": {},
   "source": [
    "# Steatosis"
   ]
  },
  {
   "cell_type": "markdown",
   "metadata": {},
   "source": [
    "## state-of-the-art"
   ]
  },
  {
   "cell_type": "code",
   "execution_count": 76,
   "metadata": {},
   "outputs": [
    {
     "data": {
      "text/html": [
       "<div>\n",
       "<style scoped>\n",
       "    .dataframe tbody tr th:only-of-type {\n",
       "        vertical-align: middle;\n",
       "    }\n",
       "\n",
       "    .dataframe tbody tr th {\n",
       "        vertical-align: top;\n",
       "    }\n",
       "\n",
       "    .dataframe thead th {\n",
       "        text-align: right;\n",
       "    }\n",
       "</style>\n",
       "<table border=\"1\" class=\"dataframe\">\n",
       "  <thead>\n",
       "    <tr style=\"text-align: right;\">\n",
       "      <th></th>\n",
       "      <th>Sample ID</th>\n",
       "      <th>nas_steatosis_ordinal</th>\n",
       "      <th>nas_inflam</th>\n",
       "      <th>kleiner</th>\n",
       "      <th>fib4</th>\n",
       "      <th>elf</th>\n",
       "      <th>ft</th>\n",
       "      <th>te</th>\n",
       "      <th>swe</th>\n",
       "      <th>aar</th>\n",
       "      <th>ast</th>\n",
       "      <th>apri</th>\n",
       "      <th>forns</th>\n",
       "      <th>m30</th>\n",
       "      <th>m65</th>\n",
       "      <th>meld</th>\n",
       "      <th>p3np</th>\n",
       "      <th>timp1</th>\n",
       "      <th>cap</th>\n",
       "    </tr>\n",
       "    <tr>\n",
       "      <th>group2</th>\n",
       "      <th></th>\n",
       "      <th></th>\n",
       "      <th></th>\n",
       "      <th></th>\n",
       "      <th></th>\n",
       "      <th></th>\n",
       "      <th></th>\n",
       "      <th></th>\n",
       "      <th></th>\n",
       "      <th></th>\n",
       "      <th></th>\n",
       "      <th></th>\n",
       "      <th></th>\n",
       "      <th></th>\n",
       "      <th></th>\n",
       "      <th></th>\n",
       "      <th></th>\n",
       "      <th></th>\n",
       "      <th></th>\n",
       "    </tr>\n",
       "  </thead>\n",
       "  <tbody>\n",
       "    <tr>\n",
       "      <th>ALD</th>\n",
       "      <td>459</td>\n",
       "      <td>352</td>\n",
       "      <td>352</td>\n",
       "      <td>458</td>\n",
       "      <td>443</td>\n",
       "      <td>380</td>\n",
       "      <td>283</td>\n",
       "      <td>440</td>\n",
       "      <td>362</td>\n",
       "      <td>443</td>\n",
       "      <td>444</td>\n",
       "      <td>444</td>\n",
       "      <td>453</td>\n",
       "      <td>282</td>\n",
       "      <td>280</td>\n",
       "      <td>458</td>\n",
       "      <td>350</td>\n",
       "      <td>350</td>\n",
       "      <td>300</td>\n",
       "    </tr>\n",
       "    <tr>\n",
       "      <th>HP</th>\n",
       "      <td>136</td>\n",
       "      <td>0</td>\n",
       "      <td>0</td>\n",
       "      <td>0</td>\n",
       "      <td>0</td>\n",
       "      <td>0</td>\n",
       "      <td>0</td>\n",
       "      <td>136</td>\n",
       "      <td>136</td>\n",
       "      <td>0</td>\n",
       "      <td>119</td>\n",
       "      <td>0</td>\n",
       "      <td>0</td>\n",
       "      <td>0</td>\n",
       "      <td>0</td>\n",
       "      <td>136</td>\n",
       "      <td>0</td>\n",
       "      <td>0</td>\n",
       "      <td>133</td>\n",
       "    </tr>\n",
       "  </tbody>\n",
       "</table>\n",
       "</div>"
      ],
      "text/plain": [
       "        Sample ID  nas_steatosis_ordinal  nas_inflam  kleiner  fib4  elf   ft  \\\n",
       "group2                                                                          \n",
       "ALD           459                    352         352      458   443  380  283   \n",
       "HP            136                      0           0        0     0    0    0   \n",
       "\n",
       "         te  swe  aar  ast  apri  forns  m30  m65  meld  p3np  timp1  cap  \n",
       "group2                                                                     \n",
       "ALD     440  362  443  444   444    453  282  280   458   350    350  300  \n",
       "HP      136  136    0  119     0      0    0    0   136     0      0  133  "
      ]
     },
     "execution_count": 76,
     "metadata": {},
     "output_type": "execute_result"
    }
   ],
   "source": [
    "data_cli.groupby('group2')[col_ml].count()"
   ]
  },
  {
   "cell_type": "code",
   "execution_count": 77,
   "metadata": {},
   "outputs": [
    {
     "data": {
      "text/html": [
       "<div>\n",
       "<style scoped>\n",
       "    .dataframe tbody tr th:only-of-type {\n",
       "        vertical-align: middle;\n",
       "    }\n",
       "\n",
       "    .dataframe tbody tr th {\n",
       "        vertical-align: top;\n",
       "    }\n",
       "\n",
       "    .dataframe thead th {\n",
       "        text-align: right;\n",
       "    }\n",
       "</style>\n",
       "<table border=\"1\" class=\"dataframe\">\n",
       "  <thead>\n",
       "    <tr style=\"text-align: right;\">\n",
       "      <th></th>\n",
       "      <th>nas_steatosis_ordinal</th>\n",
       "      <th>cap</th>\n",
       "    </tr>\n",
       "    <tr>\n",
       "      <th>group2</th>\n",
       "      <th></th>\n",
       "      <th></th>\n",
       "    </tr>\n",
       "  </thead>\n",
       "  <tbody>\n",
       "    <tr>\n",
       "      <th>ALD</th>\n",
       "      <td>352</td>\n",
       "      <td>300</td>\n",
       "    </tr>\n",
       "    <tr>\n",
       "      <th>HP</th>\n",
       "      <td>0</td>\n",
       "      <td>133</td>\n",
       "    </tr>\n",
       "  </tbody>\n",
       "</table>\n",
       "</div>"
      ],
      "text/plain": [
       "        nas_steatosis_ordinal  cap\n",
       "group2                            \n",
       "ALD                       352  300\n",
       "HP                          0  133"
      ]
     },
     "execution_count": 77,
     "metadata": {},
     "output_type": "execute_result"
    }
   ],
   "source": [
    "# state-of-the-art (sor) markers: Controlled attenuation parameter (cap)\n",
    "sor_steatosis = ['nas_steatosis_ordinal', 'cap']\n",
    "data_cli.groupby('group2')[sor_steatosis].count()"
   ]
  },
  {
   "cell_type": "markdown",
   "metadata": {},
   "source": [
    "### Complete dataset across all steatosis markerss"
   ]
  },
  {
   "cell_type": "code",
   "execution_count": 78,
   "metadata": {},
   "outputs": [
    {
     "name": "stdout",
     "output_type": "stream",
     "text": [
      "(137, 202) (60, 202)\n"
     ]
    }
   ],
   "source": [
    "sor_steatosis = ['nas_steatosis_ordinal', 'cap']\n",
    "use_cols = data_ml_proteomics.columns.to_list() + sor_steatosis\n",
    "\n",
    "df = data_ml_combined_sor.dropna(subset = sor_steatosis)\n",
    "df['class_steatosis'] = np.where(df['nas_steatosis_ordinal'] > 0, 1, 0)\n",
    "\n",
    "X = df[use_cols]\n",
    "\n",
    "y = df['class_steatosis']\n",
    "X_train, X_test, y_train, y_test = train_test_split(X, y, test_size = 0.3, random_state = 0, stratify = df['nas_steatosis_ordinal'])\n",
    "# Standadize features\n",
    "scalar = StandardScaler().fit(X_train)\n",
    "X_train_scaled = scalar.transform(X_train)\n",
    "X_test_scaled = scalar.transform(X_test)\n",
    "X_train_scaled = pd.DataFrame(X_train_scaled, columns = X_train.columns, index = X_train.index)\n",
    "X_test_scaled = pd.DataFrame(X_test_scaled, columns = X_test.columns, index = X_test.index)\n",
    "\n",
    "X_train = X_train_scaled\n",
    "X_test = X_test_scaled\n",
    "\n",
    "print(X_train.shape, X_test.shape)"
   ]
  },
  {
   "cell_type": "code",
   "execution_count": 79,
   "metadata": {},
   "outputs": [],
   "source": [
    "score = feature_selection(X = X_train, y = y_train, features = data_ml_proteomics.columns, n_repeats=2)"
   ]
  },
  {
   "cell_type": "code",
   "execution_count": 80,
   "metadata": {},
   "outputs": [],
   "source": [
    "score = score.sort_values(by = 'test_roc_auc', ascending = False)\n",
    "score_selected = list(score['feature'][:10])"
   ]
  },
  {
   "cell_type": "code",
   "execution_count": 81,
   "metadata": {},
   "outputs": [],
   "source": [
    "result_steatosis = feature_selection_bestcombo(features = score_selected, X_train = X_train, y_train = y_train)"
   ]
  },
  {
   "cell_type": "code",
   "execution_count": 82,
   "metadata": {},
   "outputs": [
    {
     "data": {
      "text/plain": [
       "['ALDOB', 'AFM', 'PRG4', nan, 'INHBC', 'CFHR4', 'LGALS3BP']"
      ]
     },
     "execution_count": 82,
     "metadata": {},
     "output_type": "execute_result"
    }
   ],
   "source": [
    "result_steatosis = result_steatosis.sort_values(by = 'test_roc_auc', ascending = False)\n",
    "steatosis_best = [i for i in list(result_steatosis['features'][:1])[0]]\n",
    "[IDmapping_UniprotID_to_Genename[i] for i in steatosis_best]"
   ]
  },
  {
   "cell_type": "code",
   "execution_count": 83,
   "metadata": {},
   "outputs": [
    {
     "data": {
      "text/html": [
       "<div>\n",
       "<style scoped>\n",
       "    .dataframe tbody tr th:only-of-type {\n",
       "        vertical-align: middle;\n",
       "    }\n",
       "\n",
       "    .dataframe tbody tr th {\n",
       "        vertical-align: top;\n",
       "    }\n",
       "\n",
       "    .dataframe thead th {\n",
       "        text-align: right;\n",
       "    }\n",
       "</style>\n",
       "<table border=\"1\" class=\"dataframe\">\n",
       "  <thead>\n",
       "    <tr style=\"text-align: right;\">\n",
       "      <th></th>\n",
       "      <th>num_feat</th>\n",
       "      <th>train_roc_auc</th>\n",
       "      <th>test_roc_auc</th>\n",
       "      <th>features</th>\n",
       "      <th>precision</th>\n",
       "      <th>sensitivity</th>\n",
       "      <th>specificity</th>\n",
       "      <th>F1-score</th>\n",
       "      <th>accuracy</th>\n",
       "      <th>MCC</th>\n",
       "      <th>model</th>\n",
       "    </tr>\n",
       "  </thead>\n",
       "  <tbody>\n",
       "    <tr>\n",
       "      <th>0</th>\n",
       "      <td>7</td>\n",
       "      <td>0.89</td>\n",
       "      <td>0.95</td>\n",
       "      <td>[P05062, P43652, A0A0U1RR20, H7BY64, P55103, Q...</td>\n",
       "      <td>0.92</td>\n",
       "      <td>0.87</td>\n",
       "      <td>0.86</td>\n",
       "      <td>0.89</td>\n",
       "      <td>0.87</td>\n",
       "      <td>0.72</td>\n",
       "      <td>proteomic panel</td>\n",
       "    </tr>\n",
       "    <tr>\n",
       "      <th>0</th>\n",
       "      <td>1</td>\n",
       "      <td>0.82</td>\n",
       "      <td>0.84</td>\n",
       "      <td>[cap]</td>\n",
       "      <td>0.81</td>\n",
       "      <td>0.90</td>\n",
       "      <td>0.62</td>\n",
       "      <td>0.85</td>\n",
       "      <td>0.80</td>\n",
       "      <td>0.55</td>\n",
       "      <td>cap</td>\n",
       "    </tr>\n",
       "  </tbody>\n",
       "</table>\n",
       "</div>"
      ],
      "text/plain": [
       "   num_feat  train_roc_auc  test_roc_auc  \\\n",
       "0         7           0.89          0.95   \n",
       "0         1           0.82          0.84   \n",
       "\n",
       "                                            features  precision  sensitivity  \\\n",
       "0  [P05062, P43652, A0A0U1RR20, H7BY64, P55103, Q...       0.92         0.87   \n",
       "0                                              [cap]       0.81         0.90   \n",
       "\n",
       "   specificity  F1-score  accuracy   MCC            model  \n",
       "0         0.86      0.89      0.87  0.72  proteomic panel  \n",
       "0         0.62      0.85      0.80  0.55              cap  "
      ]
     },
     "execution_count": 83,
     "metadata": {},
     "output_type": "execute_result"
    }
   ],
   "source": [
    "sor_steatosis = ['cap']\n",
    "columns = ['num_feat', 'train_roc_auc', 'test_roc_auc', 'features', 'precision', 'sensitivity', 'specificity', 'F1-score', 'accuracy', 'MCC']\n",
    "per_steatosis = pd.DataFrame(columns = columns)\n",
    "\n",
    "for i in sor_steatosis:\n",
    "    per_i = model_performance(clf = clf_lr, features = [i], X_train= X_train, y_train = y_train, X_test = X_test, y_test = y_test)\n",
    "    per_steatosis = pd.concat([per_steatosis, per_i])\n",
    "\n",
    "per_prot = model_performance(clf = clf_lr, features = steatosis_best, X_train= X_train, y_train = y_train, X_test = X_test, y_test = y_test)\n",
    "per_steatosis = pd.concat([per_steatosis, per_prot])\n",
    "models = sor_steatosis\n",
    "models.append('proteomic panel')\n",
    "#sor_steatosis.append('proteomic panel')\n",
    "per_steatosis['model'] = sor_steatosis\n",
    "per_steatosis = per_steatosis.sort_values(by = 'MCC', ascending = False)\n",
    "per_steatosis = convert_to_numeric(per_steatosis).round(2)\n",
    "per_steatosis"
   ]
  },
  {
   "cell_type": "code",
   "execution_count": 84,
   "metadata": {},
   "outputs": [
    {
     "data": {
      "image/png": "[encoded data removed]",
      "text/plain": [
       "<Figure size 288x288 with 1 Axes>"
      ]
     },
     "metadata": {},
     "output_type": "display_data"
    }
   ],
   "source": [
    "colors = ['gray', 'darkred']\n",
    "#colors = sns.diverging_palette(220, 10, sep=80, n=5, center = 'dark')\n",
    "items = [['cap'], steatosis_best]\n",
    "names = ['cap', 'proteomic panel']\n",
    "clf = clf_lr\n",
    "X0, y0 = X_train, y_train\n",
    "X, y = X_test, y_test\n",
    "title_1, title_2 = 'NAS_steatosis', 'Test set'\n",
    "plot_roc(clf = clf, items = items, names = names, colors = colors, X0 =X0, y0 = y0, X = X, y = y, title_1 = title_1, title_2 = title_2)"
   ]
  },
  {
   "cell_type": "markdown",
   "metadata": {},
   "source": [
    "# Examine relations between fibrosis, inflammation and steatosis"
   ]
  },
  {
   "cell_type": "code",
   "execution_count": 85,
   "metadata": {},
   "outputs": [
    {
     "data": {
      "text/plain": [
       "kleiner  nas_inflam\n",
       "0.0      0.0           21\n",
       "         1.0           10\n",
       "         2.0            3\n",
       "         3.0            1\n",
       "1.0      0.0           41\n",
       "         1.0           47\n",
       "         2.0           26\n",
       "         3.0            8\n",
       "         4.0            1\n",
       "         5.0            1\n",
       "2.0      0.0            8\n",
       "         1.0           20\n",
       "         2.0           33\n",
       "         3.0           22\n",
       "         4.0           14\n",
       "         5.0            9\n",
       "3.0      0.0            2\n",
       "         1.0            7\n",
       "         2.0            7\n",
       "         3.0            3\n",
       "         4.0            6\n",
       "         5.0            2\n",
       "4.0      1.0            6\n",
       "         2.0           13\n",
       "         3.0           19\n",
       "         4.0            9\n",
       "         5.0           11\n",
       "dtype: int64"
      ]
     },
     "execution_count": 85,
     "metadata": {},
     "output_type": "execute_result"
    }
   ],
   "source": [
    "data_ml_combined_sor.groupby(['kleiner', 'nas_inflam']).size()"
   ]
  },
  {
   "cell_type": "code",
   "execution_count": 86,
   "metadata": {},
   "outputs": [
    {
     "data": {
      "image/png": "[encoded data removed]",
      "text/plain": [
       "<Figure size 288x288 with 1 Axes>"
      ]
     },
     "metadata": {},
     "output_type": "display_data"
    }
   ],
   "source": [
    "size = data_ml_combined_sor.groupby(['kleiner', 'nas_inflam']).size().reset_index()\n",
    "size.columns = ['kleiner', 'nas_inflam', 'size']\n",
    "dict_size = dict(zip(zip(size['kleiner'], size['nas_inflam']), size['size']))\n",
    "\n",
    "aa = data_ml_combined_sor[['kleiner', 'nas_inflam']]\n",
    "aa['pairs'] = list(zip(aa['kleiner'], aa['nas_inflam']))\n",
    "aa['size'] = aa['pairs'].map(dict_size)\n",
    "\n",
    "fig, ax = plt.subplots(figsize = (4,4))\n",
    "plt.scatter(x = aa['kleiner'], y = aa['nas_inflam'], s =aa['size']*20, c= 'darkred')\n",
    "plt.xlim(-1, 5)\n",
    "plt.ylim(-1, 6)\n",
    "plt.xlabel('kleiner', fontsize = 15)\n",
    "plt.ylabel('nas_inflam', fontsize = 15)\n",
    "plt.title('Inflammation vs. fibrosis', fontsize = 15)\n",
    "plt.savefig('figures/Inflammation_vs_fibrosis.png', dpi = 120, bbox_inches = 'tight')"
   ]
  },
  {
   "cell_type": "code",
   "execution_count": 87,
   "metadata": {},
   "outputs": [
    {
     "data": {
      "image/png": "[encoded data removed]",
      "text/plain": [
       "<Figure size 288x288 with 1 Axes>"
      ]
     },
     "metadata": {},
     "output_type": "display_data"
    }
   ],
   "source": [
    "size = data_ml_combined_sor.groupby(['kleiner', 'nas_steatosis_ordinal']).size().reset_index()\n",
    "size.columns = ['kleiner', 'nas_steatosis_ordinal', 'size']\n",
    "dict_size = dict(zip(zip(size['kleiner'], size['nas_steatosis_ordinal']), size['size']))\n",
    "\n",
    "aa = data_ml_combined_sor[['kleiner', 'nas_steatosis_ordinal']]\n",
    "aa['pairs'] = list(zip(aa['kleiner'], aa['nas_steatosis_ordinal']))\n",
    "aa['size'] = aa['pairs'].map(dict_size)\n",
    "\n",
    "fig, ax = plt.subplots(figsize = (4,4))\n",
    "plt.scatter(x = aa['kleiner'], y = aa['nas_steatosis_ordinal'], s =aa['size']*20, c= 'darkred')\n",
    "plt.xlim(-1, 5)\n",
    "plt.ylim(-1, 4)\n",
    "plt.xlabel('kleiner', fontsize = 15)\n",
    "plt.ylabel('nas_steatosis_ordinal', fontsize = 15)\n",
    "plt.title('Steatosis vs. fibrosis', fontsize = 15)\n",
    "plt.savefig('figures/Steatosis_vs_fibrosis.png', dpi = 120, bbox_inches = 'tight')"
   ]
  },
  {
   "cell_type": "code",
   "execution_count": 88,
   "metadata": {},
   "outputs": [
    {
     "data": {
      "image/png": "[encoded data removed]",
      "text/plain": [
       "<Figure size 288x288 with 1 Axes>"
      ]
     },
     "metadata": {},
     "output_type": "display_data"
    }
   ],
   "source": [
    "size = data_ml_combined_sor.groupby(['nas_inflam', 'nas_steatosis_ordinal']).size().reset_index()\n",
    "size.columns = ['nas_inflam', 'nas_steatosis_ordinal', 'size']\n",
    "dict_size = dict(zip(zip(size['nas_inflam'], size['nas_steatosis_ordinal']), size['size']))\n",
    "\n",
    "aa = data_ml_combined_sor[['nas_inflam', 'nas_steatosis_ordinal']]\n",
    "aa['pairs'] = list(zip(aa['nas_inflam'], aa['nas_steatosis_ordinal']))\n",
    "aa['size'] = aa['pairs'].map(dict_size)\n",
    "\n",
    "fig, ax = plt.subplots(figsize = (4,4))\n",
    "plt.scatter(x = aa['nas_inflam'], y = aa['nas_steatosis_ordinal'], s =aa['size']*20, c= 'darkred')\n",
    "plt.xlim(-1, 6)\n",
    "plt.ylim(-1, 4)\n",
    "plt.xlabel('nas_inflam', fontsize = 15)\n",
    "plt.ylabel('nas_steatosis_ordinal', fontsize = 15)\n",
    "plt.title('Steatosis vs. nas_inflam', fontsize = 15)\n",
    "plt.savefig('figures/Steatosis_vs_inflammation.png', dpi = 120, bbox_inches = 'tight')"
   ]
  },
  {
   "cell_type": "code",
   "execution_count": 89,
   "metadata": {},
   "outputs": [],
   "source": [
    "df_interaction = data_ml_combined_sor[data_ml_combined_sor['kleiner'] != 0.5]"
   ]
  },
  {
   "cell_type": "code",
   "execution_count": 92,
   "metadata": {},
   "outputs": [
    {
     "data": {
      "text/plain": [
       "(array([15., 16., 17., 18., 19., 20., 21., 22.]),\n",
       " <a list of 8 Text yticklabel objects>)"
      ]
     },
     "execution_count": 92,
     "metadata": {},
     "output_type": "execute_result"
    },
    {
     "data": {
      "image/png": "[encoded data removed]",
      "text/plain": [
       "<Figure size 422.25x360 with 1 Axes>"
      ]
     },
     "metadata": {},
     "output_type": "display_data"
    }
   ],
   "source": [
    "df = df_interaction\n",
    "hue = 'nas_inflam'\n",
    "y = 'Q08380'\n",
    "x = 'kleiner'\n",
    "name = IDmapping_UniprotID_to_Genename[y]\n",
    "\n",
    "sns.catplot(data = df, x = x, y = y, hue = hue, kind = 'box', color = 'darkred')\n",
    "plt.title(name, fontsize = 20)\n",
    "plt.xlabel(x, fontsize = 20)\n",
    "plt.ylabel('Log2 intensity', fontsize = 20)\n",
    "plt.xticks(fontsize = 20)\n",
    "plt.yticks(fontsize = 20)"
   ]
  },
  {
   "cell_type": "code",
   "execution_count": null,
   "metadata": {},
   "outputs": [],
   "source": []
  }
 ],
 "metadata": {
  "kernelspec": {
   "display_name": "Python 3",
   "language": "python",
   "name": "python3"
  },
  "language_info": {
   "codemirror_mode": {
    "name": "ipython",
    "version": 3
   },
   "file_extension": ".py",
   "mimetype": "text/x-python",
   "name": "python",
   "nbconvert_exporter": "python",
   "pygments_lexer": "ipython3",
   "version": "3.6.4"
  }
 },
 "nbformat": 4,
 "nbformat_minor": 2
}
